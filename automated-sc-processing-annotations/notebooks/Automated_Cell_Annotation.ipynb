{
 "cells": [
  {
   "cell_type": "markdown",
   "metadata": {
    "id": "FyaK-TtD8kGE"
   },
   "source": [
    "# Using Tabula Sapiens as a reference for annotating new datasets\n",
    "This notebook allows you to annotate your data with a number of annotation methods using the Tabula Sapiens dataset as the reference. \n",
    "\n",
    "This notebook is also available as a [Google Colab notebook](https://colab.research.google.com/drive/1KEsTbySmXtnOeQo4lJu8OGtPQjHRs1R4#scrollTo=ObY9kyf7exOx)\n",
    "\n",
    "Integration Methods Provided:\n",
    "- scVI\n",
    "- bbKNN\n",
    "- scanorama\n",
    "\n",
    "Annotation Methods:\n",
    "- KNN on integrated spaces\n",
    "- scANVI\n",
    "- onClass\n",
    "- SVM\n",
    "- RandomForest\n",
    "\n",
    "**User action is only required in Step 2 and Step 3.**\n"
   ]
  },
  {
   "cell_type": "markdown",
   "metadata": {},
   "source": [
    "# Step 1: Setup Environment \n",
    "No user input required here."
   ]
  },
  {
   "cell_type": "code",
   "execution_count": null,
   "metadata": {},
   "outputs": [],
   "source": [
    "import sys\n",
    "import os\n",
    "import anndata\n",
    "import numpy as np\n",
    "import scanpy as sc\n",
    "import scvi"
   ]
  },
  {
   "cell_type": "markdown",
   "metadata": {},
   "source": [
    "# Step 2: Load your data\n",
    "\n",
    "Load your data into query_adata"
   ]
  },
  {
   "cell_type": "code",
   "execution_count": 1,
   "metadata": {
    "colab": {
     "base_uri": "https://localhost:8080/"
    },
    "id": "seSJxbG0DaAv",
    "outputId": "279ad151-8948-4de7-bb57-4d06ff5510f1"
   },
   "outputs": [],
   "source": [
    "# Read in your data with the following command\n",
    "query_adata = anndata.read(\"/path/to/query_anndata\")\n"
   ]
  },
  {
   "cell_type": "code",
   "execution_count": null,
   "metadata": {},
   "outputs": [],
   "source": [
    "query_adata"
   ]
  },
  {
   "cell_type": "markdown",
   "metadata": {
    "id": "xLyMH7PEpTyk"
   },
   "source": [
    "# Step 3: Setting Up Annotation Parameters (User Action Required)\n",
    "\n",
    "Here is where you set the parameters for the automated annotation.\n",
    "\n",
    "Arguments:\n",
    "- **tissue:** Tabula Sapiens tissue to annotate your data with. Available tissues: [\"Bladder\", \"Blood\", \"Bone_Marrow\", \"Kidney\", \"Large_Intestine\", \"Lung\",\"Lymph_Node\", \"Pancreas\", \"Small_Intestine\", \"Spleen\", \"Thymus\",\"Trachea\", \"Vasculature\"]\n",
    "- **save_location:** location to save results to. By default will save to a folder named `annotation_results`. \n",
    "- **query_batch_key:** key in `query_adata.obs` for batch correction. Set to None for no batch correction. \n",
    "- **methods:** these are the methods to run. By default, will run all methods.\n",
    "- **training_mode** can be `online` or `offline`. If `offline` will train scVI and scANVI models from scratch. If `online`, will use pretrained models.\n",
    "- **query_layers_key**: Key in `query_adata.layers` for count data.\n",
    "\n",
    "Lesser used parameters\n",
    "- **query_labels_key**: scANVI has the option to use labeled cells in the query dataset during training. To use some prelabeled cells from the query dataset, set `query_labels_key` to the corresponding key in `query_adata.obs`\n",
    "- **unknown_celltype_label**: If `query_labels_key` is not None, will treat everything not labeled `unknown_celltype_label` as a labeled cell"
   ]
  },
  {
   "cell_type": "code",
   "execution_count": 2,
   "metadata": {
    "id": "2ylgWqDBtbWO"
   },
   "outputs": [],
   "source": [
    "\"\"\" \n",
    "tissue options: \n",
    "[\"Bladder\", \"Blood\", \"Bone_Marrow\", \"Kidney\", \"Large_Intestine\", \"Lung\",\n",
    " \"Lymph_Node\", \"Pancreas\", \"Small_Intestine\", \"Spleen\", \"Thymus\",\n",
    " \"Trachea\", \"Vasculature\"]\n",
    "\"\"\"\n",
    "tissue = 'Lung'\n",
    "save_folder = 'path/to/save/results/to'\n",
    "query_batch_key = 'method'\n",
    "methods = ['bbknn','scvi', 'scanvi', 'svm', 'rf', 'onclass', 'scanorama']\n",
    "training_mode='offline'\n",
    "query_layers_key=None\n",
    "\n",
    "\n",
    "# Lesser used parameters\n",
    "query_labels_key=None\n",
    "unknown_celltype_label='unknown'"
   ]
  },
  {
   "cell_type": "markdown",
   "metadata": {},
   "source": [
    "# Step 4: Downloading Reference Data and Pretrained Models\n",
    "No more user input required! Just run all the following code blocks."
   ]
  },
  {
   "cell_type": "code",
   "execution_count": null,
   "metadata": {
    "colab": {
     "base_uri": "https://localhost:8080/"
    },
    "id": "ITnCd0XJsNZk",
    "outputId": "eede628d-025c-4810-bfe7-c914681ca4b5"
   },
   "outputs": [],
   "source": [
    "# Here we download the necessary data:\n",
    "if tissue == 'Bladder':\n",
    "  refdata_url = 'https://ndownloader.figshare.com/files/27388874'\n",
    "  pretrained_url='https://www.dropbox.com/s/rb89y577l6vs2mm/Bladder.tar.gz?dl=1'\n",
    "elif tissue == 'Blood':\n",
    "  refdata_url = 'https://ndownloader.figshare.com/files/27388853'\n",
    "  pretrained_url = 'https://www.dropbox.com/s/kyh9nv202n0db65/Blood.tar.gz?dl=1'\n",
    "elif tissue == 'Bone_Marrow':\n",
    "  refdata_url = 'https://ndownloader.figshare.com/files/27388841'\n",
    "  pretrained_url = 'https://www.dropbox.com/s/a3r4ddg7o7kua7z/Bone_Marrow.tar.gz?dl=1'\n",
    "elif tissue == 'Kidney':\n",
    "  refdata_url = 'https://ndownloader.figshare.com/files/27388838'\n",
    "  pretrained_url = 'https://www.dropbox.com/s/k41r1a346z0tuip/Kidney.tar.gz?dl=1'\n",
    "elif tissue == 'Large_Intestine':\n",
    "  refdata_url = 'https://ndownloader.figshare.com/files/27388835'\n",
    "  pretrained_url = 'https://www.dropbox.com/s/jwvpk727hd54byd/Large_Intestine.tar.gz?dl=1'\n",
    "elif tissue == 'Lung':\n",
    "  refdata_url = 'https://ndownloader.figshare.com/files/27388832'\n",
    "  pretrained_url = 'https://www.dropbox.com/s/e4al4ia9hm9qtcg/Lung.tar.gz?dl=1'\n",
    "elif tissue == 'Lymph_Node':\n",
    "  refdata_url = 'https://ndownloader.figshare.com/files/27388715'\n",
    "  pretrained_url = 'https://www.dropbox.com/s/mbejy9tcbx9e1yv/Lymph_Node.tar.gz?dl=1'\n",
    "elif tissue == 'Pancreas':\n",
    "  refdata_url = 'https://ndownloader.figshare.com/files/27388613'\n",
    "  pretrained_url = 'https://www.dropbox.com/s/r3klvr22m6kq143/Pancreas.tar.gz?dl=1'\n",
    "elif tissue == 'Small_Intestine':\n",
    "  refdata_url = 'https://ndownloader.figshare.com/files/27388559'\n",
    "  pretrained_url = 'https://www.dropbox.com/s/7eiv2mke70jinzc/Small_Intestine.tar.gz?dl=1'\n",
    "elif tissue == 'Spleen':\n",
    "  refdata_url = 'https://ndownloader.figshare.com/files/27388544'\n",
    "  pretrained_url = 'https://www.dropbox.com/s/6j3iwahsjnb8rb3/Spleen.tar.gz?dl=1'\n",
    "elif tissue == 'Thymus':\n",
    "  refdata_url = 'https://ndownloader.figshare.com/files/27388505'\n",
    "  pretrained_url='https://www.dropbox.com/s/9k0mneu2wvpiudz/Thymus.tar.gz?dl=1'\n",
    "elif tissue == 'Trachea':\n",
    "  refdata_url = 'https://ndownloader.figshare.com/files/27388460'\n",
    "  pretrained_url = 'https://www.dropbox.com/s/57tthfgkl8jtxk6/Trachea.tar.gz?dl=1'\n",
    "elif tissue == 'Vasculature':\n",
    "  refdata_url = 'https://ndownloader.figshare.com/files/27388451'\n",
    "  pretrained_url='https://www.dropbox.com/s/1wt3r871kxjas5o/Vasculature.tar.gz?dl=1'\n",
    "\n",
    "# Download reference dataset\n",
    "output_fn = 'TS_{}.h5ad'.format(tissue)\n",
    "!wget -O $output_fn $refdata_url\n",
    "\n",
    "# Download pretrained scVI and scANVI models.\n",
    "output_fn = '{}.tar.gz'.format(tissue)\n",
    "!wget -O $output_fn $pretrained_url\n",
    "!tar -xvzf $output_folder\n",
    "\n",
    "# Download onclass files\n",
    "!wget -O cl.obo -q https://www.dropbox.com/s/hodp0etapzrd8ak/cl.obo?dl=1 \n",
    "!wget -O cl.ontology -q https://www.dropbox.com/s/nes0zprzfbwbgj5/cl.ontology?dl=1\n",
    "!wget -O cl.ontology.nlp.emb https://www.dropbox.com/s/y9x9yt2pi7s0d1n/cl.ontology.nlp.emb?dl=1\n",
    "\n",
    "# Download annoation code\n",
    "!wget -O annotation.py -q https://www.dropbox.com/s/id8sallwrunjc5c/annotation.py?dl=1"
   ]
  },
  {
   "cell_type": "code",
   "execution_count": null,
   "metadata": {},
   "outputs": [],
   "source": [
    "# here we setup the query dataset with the reference dataset\n",
    "import annotation\n",
    "import importlib\n",
    "import os\n",
    "importlib.reload(annotation)\n",
    "from annotation import process_query\n",
    "\n",
    "# Following parameters are specific to Tabula Sapiens dataset\n",
    "ref_labels_key='Annotation'\n",
    "ref_adata_path = 'TS_{}.h5ad'.format(tissue)\n",
    "ref_layers_key = 'raw_counts'\n",
    "\n",
    "pretrained_scanvi_path = os.path.join(tissue, tissue + \"_scanvi_model\")\n",
    "pretrained_scvi_path = os.path.join(tissue, tissue + \"_scvi_model\")\n",
    "\n",
    "adata = process_query(query_adata,\n",
    "                      tissue=tissue,\n",
    "                      save_folder=save_folder,\n",
    "                      query_batch_key=query_batch_key,\n",
    "                      query_layers_key=query_layers_key,\n",
    "                      query_labels_key=query_labels_key,\n",
    "                      unknown_celltype_label=unknown_celltype_label,\n",
    "                      pretrained_scvi_path=pretrained_scvi_path,\n",
    "                      ref_labels_key=ref_labels_key, \n",
    "                      ref_layers_key=ref_layers_key,\n",
    "                      training_mode=training_mode,\n",
    "                      ref_adata_path=ref_adata_path)"
   ]
  },
  {
   "cell_type": "code",
   "execution_count": null,
   "metadata": {},
   "outputs": [],
   "source": [
    "query_adata\n"
   ]
  },
  {
   "cell_type": "markdown",
   "metadata": {
    "id": "dCwpkupc_cu-"
   },
   "source": [
    "# Step 5: Run Automated Cell Annotation Methods\n",
    "No user action required. Takes about 30 minutes to run. \n",
    "\n",
    "Your results will be saved to the folder you provided as **save_folder**.\n",
    "\n",
    "There will be the following files:\n",
    "- `annotated_query.h5ad` containing annotated query cells. The consensus annotations will be in `consensus_prediction`. There will also be a `consensus_percentage` field which is the percentage of methods that had the same prediction. \n",
    "- `annotated_query_plus_ref.h5ad` containing your query and the reference cells with predicted annotations. \n",
    "- `confusion_matrices.pdf` which contains the confusion matrices between the consensus_predictions and each individual method.\n",
    "- `csv` files containing the metrics for each confusion matrix. \n"
   ]
  },
  {
   "cell_type": "code",
   "execution_count": null,
   "metadata": {
    "id": "CTAKzgPI69v6"
   },
   "outputs": [],
   "source": [
    "import annotation\n",
    "importlib.reload(annotation)\n",
    "from annotation import annotate_data\n",
    "\n",
    "annotate_data(adata,\n",
    "              methods, \n",
    "              save_folder,\n",
    "              pretrained_scvi_path=pretrained_scvi_path,\n",
    "              pretrained_scanvi_path=pretrained_scanvi_path)"
   ]
  },
  {
   "cell_type": "markdown",
   "metadata": {
    "id": "NUsopmFr7Cw0"
   },
   "source": [
    "# Step 6 Generate Statistics and Figures\n",
    "No user action required.\n",
    "\n",
    "## Agreements\n",
    "First we define some variables from the results files to make the code cleaner "
   ]
  },
  {
   "cell_type": "code",
   "execution_count": null,
   "metadata": {
    "colab": {
     "base_uri": "https://localhost:8080/"
    },
    "id": "9FSlWKiqHI0Z",
    "outputId": "20f832f7-78f6-46ac-f27f-576ea4efe25f"
   },
   "outputs": [],
   "source": [
    "import pandas as pd\n",
    "import matplotlib.pyplot as plt\n",
    "\n",
    "results_file = os.path.join(save_folder,'annotated_query_plus_ref.h5ad')\n",
    "results = anndata.read(results_file)\n",
    "is_query = results.obs._dataset == \"query\"\n",
    "methods = [x for x in results.obs.columns if x.endswith(\"_pred\")]\n",
    "labels = results.obs.consensus_prediction.astype(str)\n",
    "labels[~is_query] = results[~is_query].obs._labels_annotation.astype(str)\n",
    "celltypes = np.unique(labels)\n",
    "latent_methods = results.obsm.keys()"
   ]
  },
  {
   "cell_type": "markdown",
   "metadata": {},
   "source": [
    "### Distribution of consensus percentage\n",
    "The more the algorithms agree with each other, the better the annotation has worked\n"
   ]
  },
  {
   "cell_type": "code",
   "execution_count": null,
   "metadata": {
    "colab": {
     "base_uri": "https://localhost:8080/"
    },
    "id": "UKrQqa_PsDSl",
    "outputId": "c18b0a6f-bef9-46cc-f40d-246d657372d4"
   },
   "outputs": [],
   "source": [
    "agreement_counts = pd.DataFrame(\n",
    "    np.unique(results[is_query].obs[\"consensus_percentage\"], return_counts=True)\n",
    ").T\n",
    "\n",
    "agreement_counts.columns = [\"Percent Agreement\", \"Count\"]\n",
    "agreement_counts.plot.bar(\n",
    "    x=\"Percent Agreement\", y=\"Count\", legend=False, figsize=(4, 3)\n",
    ")\n",
    "plt.ylabel(\"Frequency\")\n",
    "plt.xlabel(\"Percent of Algorithms Agreeing with Majority Vote\")\n",
    "figpath = os.path.join(save_folder, \"Concensus_Percentage_barplot.pdf\")\n",
    "plt.savefig(figpath, bbox_inches=\"tight\")"
   ]
  },
  {
   "cell_type": "markdown",
   "metadata": {},
   "source": [
    "### Per cell type agreement\n",
    "Some cell types can be better predicted than others, and we can highlight the celltypes that are poorly predicted by looking at the per celltype agreement. The cell types are separated by the concensus predictions."
   ]
  },
  {
   "cell_type": "code",
   "execution_count": null,
   "metadata": {
    "colab": {
     "base_uri": "https://localhost:8080/"
    },
    "id": "jgj0BtKYxs2j",
    "outputId": "acdec82c-ef88-4544-e44f-f7415769767d"
   },
   "outputs": [],
   "source": [
    "mean_agreement = [\n",
    "    np.mean(results[is_query & (labels == x)].obs[\"consensus_percentage\"].astype(float))\n",
    "    for x in celltypes\n",
    "]\n",
    "mean_agreement = pd.DataFrame([mean_agreement], index=[\"agreement\"]).T\n",
    "mean_agreement.index = celltypes\n",
    "\n",
    "mean_agreement = mean_agreement.sort_values(\"agreement\", ascending=True)\n",
    "mean_agreement.plot.bar(y=\"agreement\", figsize=(15, 2), legend=False)\n",
    "plt.ylabel(\"Mean Agreement\")\n",
    "plt.xticks(rotation=290, ha=\"left\")\n",
    "figpath = os.path.join(save_folder, \"percelltype_agreement_barplot.pdf\")\n",
    "plt.savefig(figpath, bbox_inches=\"tight\")"
   ]
  },
  {
   "cell_type": "markdown",
   "metadata": {},
   "source": [
    "### Cell type proportion plot"
   ]
  },
  {
   "cell_type": "code",
   "execution_count": null,
   "metadata": {
    "colab": {
     "base_uri": "https://localhost:8080/"
    },
    "id": "n9A5nAa9xvPn",
    "outputId": "76f47aa9-8462-4693-f5b5-82139602c311"
   },
   "outputs": [],
   "source": [
    "prop = pd.DataFrame(index=celltypes, columns=[\"ref\", \"query\"])\n",
    "for x in celltypes:\n",
    "    prop.loc[x, \"query\"] = np.sum(labels[is_query] == x)\n",
    "    prop.loc[x, \"ref\"] = np.sum(labels[~is_query] == x)\n"
   ]
  },
  {
   "cell_type": "code",
   "execution_count": null,
   "metadata": {
    "id": "dypOLE3aiLek"
   },
   "outputs": [],
   "source": [
    "prop.loc[mean_agreement.index].plot(kind='bar', figsize=(len(celltypes)*0.5,4),logy=True)\n",
    "plt.legend(bbox_to_anchor=(1, 0.9))\n",
    "plt.ylabel('log Celltype Abundance')\n",
    "plt.tight_layout()\n",
    "figpath = os.path.join(save_folder, 'celltype_prop_barplot.pdf')\n",
    "plt.savefig(figpath, bbox_inches=\"tight\")\n",
    "plt.show()\n",
    "plt.close()\n"
   ]
  }
 ],
 "metadata": {
  "accelerator": "GPU",
  "colab": {
   "collapsed_sections": [],
   "machine_shape": "hm",
   "name": "Automated Cell Annotation.ipynb",
   "provenance": [],
   "toc_visible": true
  },
  "kernelspec": {
   "display_name": "Python 3.8.3 64-bit ('scvi-dev': venv)",
   "language": "python",
   "name": "python38364bitscvidevvenv4fb90fe562ab4b5189ac0b527fd52a97"
  },
  "language_info": {
   "codemirror_mode": {
    "name": "ipython",
    "version": 3
   },
   "file_extension": ".py",
   "mimetype": "text/x-python",
   "name": "python",
   "nbconvert_exporter": "python",
   "pygments_lexer": "ipython3",
   "version": "3.8.3"
  }
 },
 "nbformat": 4,
 "nbformat_minor": 4
}
