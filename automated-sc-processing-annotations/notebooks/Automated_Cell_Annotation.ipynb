{
 "cells": [
  {
   "cell_type": "markdown",
   "metadata": {
    "id": "FyaK-TtD8kGE"
   },
   "source": [
    "#Annotation Notebook\n",
    "This notebook allows you to annotate your data with a number of annotation methods using the tabula sapiens dataset as a reference\n",
    "\n",
    "Press shift+enter to execute each code block\n",
    "\n",
    "Usage:\n",
    "Here, we setup the Google Colab Environment, download the data, and connect to Google drive\n",
    "\n",
    "Ad instructins on putting data on google drive etc."
   ]
  },
  {
   "cell_type": "markdown",
   "metadata": {
    "id": "ut6kts5M8Z-B"
   },
   "source": [
    "# Setup "
   ]
  },
  {
   "cell_type": "code",
   "execution_count": 1,
   "metadata": {
    "id": "qWb4Ywe8h7Ua"
   },
   "outputs": [],
   "source": [
    "#@title Import packages\n",
    "#@markdown Here we install the necessary packages\n",
    "import os\n",
    "import warnings\n",
    "import sys\n",
    "warnings.simplefilter(action='ignore', category=FutureWarning)\n",
    "import scanorama\n",
    "import pandas as pd\n",
    "import numpy as np\n",
    "import matplotlib.pyplot as plt\n",
    "import anndata\n",
    "import scvi\n",
    "import scanpy as sc\n",
    "import umap\n",
    "from scipy import sparse\n",
    "import scipy\n",
    "\n",
    "sc.set_figure_params(figsize=(6, 6), frameon=False)\n",
    "sc.settings.n_jobs=2\n"
   ]
  },
  {
   "cell_type": "code",
   "execution_count": null,
   "metadata": {
    "id": "YEkQpB5b1p_F"
   },
   "outputs": [],
   "source": [
    "# TODO\n",
    "# Add code to download annotation code and datasets"
   ]
  },
  {
   "cell_type": "code",
   "execution_count": 4,
   "metadata": {
    "colab": {
     "base_uri": "https://localhost:8080/"
    },
    "id": "seSJxbG0DaAv",
    "outputId": "279ad151-8948-4de7-bb57-4d06ff5510f1"
   },
   "outputs": [
    {
     "name": "stderr",
     "output_type": "stream",
     "text": [
      "/opt/conda/lib/python3.8/site-packages/ipykernel/ipkernel.py:283: DeprecationWarning: `should_run_async` will not call `transform_cell` automatically in the future. Please pass the result to `transformed_cell` argument and any exception that happen during thetransform in `preprocessing_exc_tuple` in IPython 7.17 and above.\n",
      "  and should_run_async(code)\n"
     ]
    },
    {
     "ename": "ModuleNotFoundError",
     "evalue": "No module named 'google.colab'",
     "output_type": "error",
     "traceback": [
      "\u001b[0;31m---------------------------------------------------------------------------\u001b[0m",
      "\u001b[0;31mModuleNotFoundError\u001b[0m                       Traceback (most recent call last)",
      "\u001b[0;32m<ipython-input-4-cf48ff6932dd>\u001b[0m in \u001b[0;36m<module>\u001b[0;34m\u001b[0m\n\u001b[1;32m      1\u001b[0m \u001b[0;31m#@title Connect to Google Drive\u001b[0m\u001b[0;34m\u001b[0m\u001b[0;34m\u001b[0m\u001b[0;34m\u001b[0m\u001b[0m\n\u001b[1;32m      2\u001b[0m \u001b[0;31m#@markdown Link this colab session to Google drive\u001b[0m\u001b[0;34m\u001b[0m\u001b[0;34m\u001b[0m\u001b[0;34m\u001b[0m\u001b[0m\n\u001b[0;32m----> 3\u001b[0;31m \u001b[0;32mfrom\u001b[0m \u001b[0mgoogle\u001b[0m\u001b[0;34m.\u001b[0m\u001b[0mcolab\u001b[0m \u001b[0;32mimport\u001b[0m \u001b[0mdrive\u001b[0m\u001b[0;34m\u001b[0m\u001b[0;34m\u001b[0m\u001b[0m\n\u001b[0m\u001b[1;32m      4\u001b[0m \u001b[0;31m#mount google drive\u001b[0m\u001b[0;34m\u001b[0m\u001b[0;34m\u001b[0m\u001b[0;34m\u001b[0m\u001b[0m\n\u001b[1;32m      5\u001b[0m \u001b[0mdrive\u001b[0m\u001b[0;34m.\u001b[0m\u001b[0mmount\u001b[0m\u001b[0;34m(\u001b[0m\u001b[0;34m'/content/drive'\u001b[0m\u001b[0;34m)\u001b[0m\u001b[0;34m\u001b[0m\u001b[0;34m\u001b[0m\u001b[0m\n",
      "\u001b[0;31mModuleNotFoundError\u001b[0m: No module named 'google.colab'"
     ]
    }
   ],
   "source": [
    "#@title Connect to Google Drive\n",
    "#@markdown Link this colab session to Google drive\n",
    "from google.colab import drive\n",
    "#mount google drive\n",
    "drive.mount('/content/drive')"
   ]
  },
  {
   "cell_type": "code",
   "execution_count": 5,
   "metadata": {
    "id": "pfxvOG6lDsv2"
   },
   "outputs": [
    {
     "name": "stderr",
     "output_type": "stream",
     "text": [
      "/opt/conda/lib/python3.8/site-packages/ipykernel/ipkernel.py:283: DeprecationWarning: `should_run_async` will not call `transform_cell` automatically in the future. Please pass the result to `transformed_cell` argument and any exception that happen during thetransform in `preprocessing_exc_tuple` in IPython 7.17 and above.\n",
      "  and should_run_async(code)\n"
     ]
    },
    {
     "ename": "ModuleNotFoundError",
     "evalue": "No module named 'sklearn.externals.six'",
     "output_type": "error",
     "traceback": [
      "\u001b[0;31m---------------------------------------------------------------------------\u001b[0m",
      "\u001b[0;31mModuleNotFoundError\u001b[0m                       Traceback (most recent call last)",
      "\u001b[0;32m<ipython-input-5-594f3f88feb6>\u001b[0m in \u001b[0;36m<module>\u001b[0;34m\u001b[0m\n\u001b[1;32m      3\u001b[0m \u001b[0msys\u001b[0m\u001b[0;34m.\u001b[0m\u001b[0mpath\u001b[0m\u001b[0;34m.\u001b[0m\u001b[0mappend\u001b[0m\u001b[0;34m(\u001b[0m\u001b[0;34m'/content/drive/MyDrive/ts_evaluation'\u001b[0m\u001b[0;34m)\u001b[0m \u001b[0;31m#TODO change this path\u001b[0m\u001b[0;34m\u001b[0m\u001b[0;34m\u001b[0m\u001b[0m\n\u001b[1;32m      4\u001b[0m \u001b[0;32mimport\u001b[0m \u001b[0mimportlib\u001b[0m\u001b[0;34m\u001b[0m\u001b[0;34m\u001b[0m\u001b[0m\n\u001b[0;32m----> 5\u001b[0;31m \u001b[0;32mimport\u001b[0m \u001b[0mannotation\u001b[0m\u001b[0;34m\u001b[0m\u001b[0;34m\u001b[0m\u001b[0m\n\u001b[0m\u001b[1;32m      6\u001b[0m \u001b[0;34m\u001b[0m\u001b[0m\n\u001b[1;32m      7\u001b[0m \u001b[0mimportlib\u001b[0m\u001b[0;34m.\u001b[0m\u001b[0mreload\u001b[0m\u001b[0;34m(\u001b[0m\u001b[0mannotation\u001b[0m\u001b[0;34m)\u001b[0m\u001b[0;34m\u001b[0m\u001b[0;34m\u001b[0m\u001b[0m\n",
      "\u001b[0;32m~/annotation.py\u001b[0m in \u001b[0;36m<module>\u001b[0;34m\u001b[0m\n\u001b[1;32m      3\u001b[0m \u001b[0;32mimport\u001b[0m \u001b[0mscanpy\u001b[0m \u001b[0;32mas\u001b[0m \u001b[0msc\u001b[0m\u001b[0;34m\u001b[0m\u001b[0;34m\u001b[0m\u001b[0m\n\u001b[1;32m      4\u001b[0m \u001b[0;32mimport\u001b[0m \u001b[0mscvi\u001b[0m\u001b[0;34m\u001b[0m\u001b[0;34m\u001b[0m\u001b[0m\n\u001b[0;32m----> 5\u001b[0;31m \u001b[0;32mimport\u001b[0m \u001b[0mscanorama\u001b[0m\u001b[0;34m\u001b[0m\u001b[0;34m\u001b[0m\u001b[0m\n\u001b[0m\u001b[1;32m      6\u001b[0m \u001b[0;32mimport\u001b[0m \u001b[0mos\u001b[0m\u001b[0;34m\u001b[0m\u001b[0;34m\u001b[0m\u001b[0m\n\u001b[1;32m      7\u001b[0m \u001b[0;32mfrom\u001b[0m \u001b[0msklearn\u001b[0m \u001b[0;32mimport\u001b[0m \u001b[0msvm\u001b[0m\u001b[0;34m\u001b[0m\u001b[0;34m\u001b[0m\u001b[0m\n",
      "\u001b[0;32m/opt/conda/lib/python3.8/site-packages/scanorama/__init__.py\u001b[0m in \u001b[0;36m<module>\u001b[0;34m\u001b[0m\n\u001b[0;32m----> 1\u001b[0;31m \u001b[0;32mfrom\u001b[0m \u001b[0;34m.\u001b[0m\u001b[0mscanorama\u001b[0m \u001b[0;32mimport\u001b[0m \u001b[0;34m*\u001b[0m\u001b[0;34m\u001b[0m\u001b[0;34m\u001b[0m\u001b[0m\n\u001b[0m",
      "\u001b[0;32m/opt/conda/lib/python3.8/site-packages/scanorama/scanorama.py\u001b[0m in \u001b[0;36m<module>\u001b[0;34m\u001b[0m\n\u001b[1;32m     14\u001b[0m \u001b[0;32mimport\u001b[0m \u001b[0mwarnings\u001b[0m\u001b[0;34m\u001b[0m\u001b[0;34m\u001b[0m\u001b[0m\n\u001b[1;32m     15\u001b[0m \u001b[0;34m\u001b[0m\u001b[0m\n\u001b[0;32m---> 16\u001b[0;31m \u001b[0;32mfrom\u001b[0m \u001b[0;34m.\u001b[0m\u001b[0mt_sne_approx\u001b[0m \u001b[0;32mimport\u001b[0m \u001b[0mTSNEApprox\u001b[0m\u001b[0;34m\u001b[0m\u001b[0;34m\u001b[0m\u001b[0m\n\u001b[0m\u001b[1;32m     17\u001b[0m \u001b[0;32mfrom\u001b[0m \u001b[0;34m.\u001b[0m\u001b[0mutils\u001b[0m \u001b[0;32mimport\u001b[0m \u001b[0mplt\u001b[0m\u001b[0;34m,\u001b[0m \u001b[0mdispersion\u001b[0m\u001b[0;34m,\u001b[0m \u001b[0mreduce_dimensionality\u001b[0m\u001b[0;34m\u001b[0m\u001b[0;34m\u001b[0m\u001b[0m\n\u001b[1;32m     18\u001b[0m \u001b[0;32mfrom\u001b[0m \u001b[0;34m.\u001b[0m\u001b[0mutils\u001b[0m \u001b[0;32mimport\u001b[0m \u001b[0mvisualize_cluster\u001b[0m\u001b[0;34m,\u001b[0m \u001b[0mvisualize_expr\u001b[0m\u001b[0;34m,\u001b[0m \u001b[0mvisualize_dropout\u001b[0m\u001b[0;34m\u001b[0m\u001b[0;34m\u001b[0m\u001b[0m\n",
      "\u001b[0;32m/opt/conda/lib/python3.8/site-packages/scanorama/t_sne_approx.py\u001b[0m in \u001b[0;36m<module>\u001b[0;34m\u001b[0m\n\u001b[1;32m     29\u001b[0m \u001b[0;32mfrom\u001b[0m \u001b[0msklearn\u001b[0m\u001b[0;34m.\u001b[0m\u001b[0mmanifold\u001b[0m \u001b[0;32mimport\u001b[0m \u001b[0m_utils\u001b[0m\u001b[0;34m\u001b[0m\u001b[0;34m\u001b[0m\u001b[0m\n\u001b[1;32m     30\u001b[0m \u001b[0;32mfrom\u001b[0m \u001b[0msklearn\u001b[0m\u001b[0;34m.\u001b[0m\u001b[0mmanifold\u001b[0m \u001b[0;32mimport\u001b[0m \u001b[0m_barnes_hut_tsne\u001b[0m\u001b[0;34m\u001b[0m\u001b[0;34m\u001b[0m\u001b[0m\n\u001b[0;32m---> 31\u001b[0;31m \u001b[0;32mfrom\u001b[0m \u001b[0msklearn\u001b[0m\u001b[0;34m.\u001b[0m\u001b[0mexternals\u001b[0m\u001b[0;34m.\u001b[0m\u001b[0msix\u001b[0m \u001b[0;32mimport\u001b[0m \u001b[0mstring_types\u001b[0m\u001b[0;34m\u001b[0m\u001b[0;34m\u001b[0m\u001b[0m\n\u001b[0m\u001b[1;32m     32\u001b[0m \u001b[0;32mfrom\u001b[0m \u001b[0msklearn\u001b[0m\u001b[0;34m.\u001b[0m\u001b[0mutils\u001b[0m \u001b[0;32mimport\u001b[0m \u001b[0mdeprecated\u001b[0m\u001b[0;34m\u001b[0m\u001b[0;34m\u001b[0m\u001b[0m\n\u001b[1;32m     33\u001b[0m \u001b[0;34m\u001b[0m\u001b[0m\n",
      "\u001b[0;31mModuleNotFoundError\u001b[0m: No module named 'sklearn.externals.six'"
     ]
    }
   ],
   "source": [
    "#@title Import annotation code\n",
    "import sys\n",
    "sys.path.append('/content/drive/MyDrive/ts_evaluation') #TODO change this path\n",
    "import importlib\n",
    "import annotation \n",
    "\n",
    "importlib.reload(annotation)\n",
    "from annotation import (process_query, \n",
    "                        save_results,\n",
    "                        subsample_dataset,\n",
    "                        run_scvi,\n",
    "                        run_scanvi,\n",
    "                        run_scanorama,\n",
    "                        run_onclass,\n",
    "                        run_knn_on_scvi,\n",
    "                        run_knn_on_scanorama,\n",
    "                        run_svm_on_hvg,\n",
    "                        run_rf_on_hvg,\n",
    "                        run_bbknn, \n",
    "                        run_knn_on_bbknn)"
   ]
  },
  {
   "cell_type": "markdown",
   "metadata": {
    "id": "xLyMH7PEpTyk"
   },
   "source": [
    "## Load your data\n",
    "\n",
    "Set the following arguments:"
   ]
  },
  {
   "cell_type": "code",
   "execution_count": null,
   "metadata": {
    "id": "2ylgWqDBtbWO"
   },
   "outputs": [],
   "source": [
    "# TODO set location to save results\n",
    "save_folder = '/content/drive/MyDrive/Thymus_eval/notebook_evaluation'\n",
    "\n",
    "# TODO set paths query dataset\n",
    "query_path = '/content/drive/MyDrive/Lung_eval/Lung_lca_processed.h5ad'\n",
    "# query_path = '/content/drive/MyDrive/Thymus_eval/thymus_query_processed.h5ad'\n",
    "# query_path = '/content/drive/MyDrive/PBMC/pbmc_query.h5ad'\n",
    "\n",
    "# TODO set batch key of input anndata\n",
    "query_batch_key = 'method'\n",
    "\n",
    "\n",
    "### setup for evaluation ###\n",
    "ref_batch_key = 'method'\n",
    "ref_path = '/content/drive/MyDrive/Lung_eval/Lung_ts_processed.h5ad'\n",
    "# ref_path = '/content/drive/MyDrive/Thymus_eval/thymus_TS_processed.h5ad'\n",
    "# ref_path = '/content/drive/MyDrive/PBMC/multi.new.h5ad'\n",
    "\n",
    "#key to the label locations\n",
    "#this is just for evaulation\n",
    "ref_labels_key = 'cell_ontology_type'\n",
    "query_labels_key = 'cell_ontology_type'\n",
    "\n",
    "unknown_celltype_label = 'unknown'\n",
    "\n",
    "#want to make this false in the future\n",
    "training_method = 'offline'\n",
    "results_adata_path = os.path.join(save_folder, 'results.h5ad')\n",
    "\n",
    "cl_obo_file = '/content/drive/MyDrive/ts_evaluation/cl.obo'\n",
    "cl_ontology_file = '/content/drive/MyDrive/ts_evaluation/cl.ontology'\n",
    "\n",
    "\n",
    "!mkdir -p {save_folder}\n"
   ]
  },
  {
   "cell_type": "code",
   "execution_count": null,
   "metadata": {
    "colab": {
     "base_uri": "https://localhost:8080/"
    },
    "id": "ITnCd0XJsNZk",
    "outputId": "eede628d-025c-4810-bfe7-c914681ca4b5"
   },
   "outputs": [
    {
     "name": "stdout",
     "output_type": "stream",
     "text": [
      "All ref genes are in query dataset. Can use pretrained models\n",
      "\u001b[34mINFO    \u001b[0m Using batches from adata.obs\u001b[1m[\u001b[0m\u001b[32m\"_batch\"\u001b[0m\u001b[1m]\u001b[0m                                 \n",
      "\u001b[34mINFO    \u001b[0m Using labels from adata.obs\u001b[1m[\u001b[0m\u001b[32m\"_labels\"\u001b[0m\u001b[1m]\u001b[0m                                 \n",
      "\u001b[34mINFO    \u001b[0m Using data from adata.layers\u001b[1m[\u001b[0m\u001b[32m\"counts\"\u001b[0m\u001b[1m]\u001b[0m                                 \n",
      "\u001b[34mINFO    \u001b[0m Computing library size prior per batch                                 \n",
      "\u001b[34mINFO    \u001b[0m Successfully registered anndata object containing \u001b[1;34m107775\u001b[0m cells, \u001b[1;34m4000\u001b[0m   \n",
      "         vars, \u001b[1;34m4\u001b[0m batches, \u001b[1;34m24\u001b[0m labels, and \u001b[1;34m0\u001b[0m proteins. Also registered \u001b[1;34m0\u001b[0m extra    \n",
      "         categorical covariates and \u001b[1;34m0\u001b[0m extra continuous covariates.              \n",
      "\u001b[34mINFO    \u001b[0m Please do not further modify adata until model is trained.             \n"
     ]
    }
   ],
   "source": [
    "ref = anndata.read(ref_path)\n",
    "query = anndata.read(query_path)\n",
    "\n",
    "#delete later\n",
    "query.obs[query_labels_key] = 'unknown'\n",
    "\n",
    "# combine the query and reference datasets\n",
    "adata = process_query(ref, \n",
    "                      query,\n",
    "                      ref_labels_key,\n",
    "                      ref_batch_key,\n",
    "                      query_labels_key,\n",
    "                      query_batch_key,\n",
    "                      unknown_celltype_label = 'unknown',\n",
    "                      training_method='offline')"
   ]
  },
  {
   "cell_type": "code",
   "execution_count": null,
   "metadata": {
    "colab": {
     "base_uri": "https://localhost:8080/"
    },
    "id": "8Yqd84h1Ut9K",
    "outputId": "96068f14-50cb-4588-b349-75f81d4a12d2"
   },
   "outputs": [
    {
     "data": {
      "text/plain": [
       "AnnData object with n_obs × n_vars = 107775 × 4000\n",
       "    obs: 'cell_id', 'method', 'donor', 'cell_ontology_type', 'donor_method', 'cell_ontology_id', '_labels', '_batch', 'n_counts', 'n_genes', 'batch', '_scvi_batch', '_scvi_labels', '_scvi_local_l_mean', '_scvi_local_l_var'\n",
       "    var: 'feature_types.0.0-0', 'n_cells.0.0-0', 'gene_symbol.0.0-0', 'n_cells.1.0-0', 'n_cells.0-0', 'n_cells.1.1-0', 'feature_types.0.0.0.1-0', 'gene_symbol.0.0.0.1-0', 'n_cells.1.0.0.1-0', 'n_cells.1.0.1-0', 'n_cells-0', 'len-0', 'ensembl_id-0', 'contamination_prop-0-0', 'contamination_prop-1-0', 'contamination_prop-10-0', 'contamination_prop-11-0', 'contamination_prop-12-0', 'contamination_prop-13-0', 'contamination_prop-14-0', 'contamination_prop-2-0', 'contamination_prop-3-0', 'contamination_prop-4-0', 'contamination_prop-5-0', 'contamination_prop-6-0', 'contamination_prop-7-0', 'contamination_prop-8-0', 'contamination_prop-9-0', 'highly_variable-0', 'highly_variable_rank-0', 'means-0', 'variances-0', 'variances_norm-0', 'mean', 'std', 'highly_variable', 'highly_variable_rank', 'means', 'variances', 'variances_norm'\n",
       "    uns: 'log1p', 'hvg', '_scvi'\n",
       "    layers: 'counts'"
      ]
     },
     "execution_count": 8,
     "metadata": {
      "tags": []
     },
     "output_type": "execute_result"
    }
   ],
   "source": [
    "adata"
   ]
  },
  {
   "cell_type": "markdown",
   "metadata": {
    "id": "dCwpkupc_cu-"
   },
   "source": [
    "# Annotation methods"
   ]
  },
  {
   "cell_type": "markdown",
   "metadata": {
    "id": "CTAKzgPI69v6"
   },
   "source": [
    "## bbknn\n",
    "\n",
    "We run bbknn to perform batch correction, then run knn with the learned neighbors"
   ]
  },
  {
   "cell_type": "code",
   "execution_count": null,
   "metadata": {
    "colab": {
     "base_uri": "https://localhost:8080/"
    },
    "id": "JwzfBs0tuwxJ",
    "outputId": "d0bec8e0-aae3-4b00-faaf-cf3a936dfd23"
   },
   "outputs": [
    {
     "name": "stdout",
     "output_type": "stream",
     "text": [
      "Running bbknn\n",
      "Classifying with knn on bbknn distances\n"
     ]
    },
    {
     "name": "stderr",
     "output_type": "stream",
     "text": [
      "/usr/local/lib/python3.6/dist-packages/sklearn/neighbors/_base.py:168: EfficiencyWarning: Precomputed sparse input was not sorted by data.\n",
      "  EfficiencyWarning)\n",
      "/content/drive/MyDrive/ts_evaluation/annotation.py:249: SettingWithCopyWarning: \n",
      "A value is trying to be set on a copy of a slice from a DataFrame\n",
      "\n",
      "See the caveats in the documentation: https://pandas.pydata.org/pandas-docs/stable/user_guide/indexing.html#returning-a-view-versus-a-copy\n",
      "  adata.obs[result_key][test_idx] = knn_pred\n",
      "/usr/local/lib/python3.6/dist-packages/pandas/core/indexing.py:670: SettingWithCopyWarning: \n",
      "A value is trying to be set on a copy of a slice from a DataFrame\n",
      "\n",
      "See the caveats in the documentation: https://pandas.pydata.org/pandas-docs/stable/user_guide/indexing.html#returning-a-view-versus-a-copy\n",
      "  iloc._setitem_with_indexer(indexer, value)\n"
     ]
    }
   ],
   "source": [
    "adata = run_bbknn(adata)\n",
    "ref_idx = ref.obs_names\n",
    "query_idx = query.obs_names\n",
    "run_knn_on_bbknn(adata, \n",
    "                 train_idx=ref_idx,\n",
    "                 test_idx=query_idx, \n",
    "                 labels_key='_labels',\n",
    "                 result_key='knn_on_bbknn_pred')"
   ]
  },
  {
   "cell_type": "code",
   "execution_count": null,
   "metadata": {
    "colab": {
     "base_uri": "https://localhost:8080/"
    },
    "id": "ts-VAD-ftZvx",
    "outputId": "c5cb39b9-12c5-4b13-a814-9f4c18dc4e74"
   },
   "outputs": [
    {
     "data": {
      "text/plain": [
       "AnnData object with n_obs × n_vars = 268409 × 4000\n",
       "    obs: 'donor', 'method', 'donor_method', 'cell_ontology_type', '_labels', '_batch', 'batch', '_scvi_batch', '_scvi_labels', '_scvi_local_l_mean', '_scvi_local_l_var', 'knn_on_bbknn_pred'\n",
       "    var: 'feature_types.0.0-0', 'n_cells.0.0-0', 'gene_symbol.0.0-0', 'n_cells.1.0-0', 'n_cells.0-0', 'n_cells.1.1-0', 'feature_types.0.0.0.1-0', 'gene_symbol.0.0.0.1-0', 'n_cells.1.0.0.1-0', 'n_cells.1.0.1-0', 'n_cells-0', 'len-0', 'ensembl_id-0', 'contamination_prop-0-0', 'contamination_prop-1-0', 'contamination_prop-10-0', 'contamination_prop-11-0', 'contamination_prop-12-0', 'contamination_prop-13-0', 'contamination_prop-14-0', 'contamination_prop-2-0', 'contamination_prop-3-0', 'contamination_prop-4-0', 'contamination_prop-5-0', 'contamination_prop-6-0', 'contamination_prop-7-0', 'contamination_prop-8-0', 'contamination_prop-9-0', 'highly_variable-0', 'highly_variable_rank-0', 'means-0', 'variances-0', 'variances_norm-0', 'GeneName-1', 'GeneID-1', 'mean', 'std', 'highly_variable', 'highly_variable_rank', 'means', 'variances', 'variances_norm'\n",
       "    uns: 'log1p', 'hvg', '_scvi', 'pca', 'neighbors'\n",
       "    obsm: 'X_pca'\n",
       "    varm: 'PCs'\n",
       "    layers: 'counts'\n",
       "    obsp: 'distances', 'connectivities'"
      ]
     },
     "execution_count": 44,
     "metadata": {
      "tags": []
     },
     "output_type": "execute_result"
    }
   ],
   "source": [
    "adata"
   ]
  },
  {
   "cell_type": "code",
   "execution_count": null,
   "metadata": {
    "id": "3zlfmgFnrCV0"
   },
   "outputs": [],
   "source": [
    "save_results(adata, results_adata_path, obs_keys=['knn_on_bbknn_pred'])"
   ]
  },
  {
   "cell_type": "markdown",
   "metadata": {
    "id": "NUsopmFr7Cw0"
   },
   "source": [
    "##scanorama\n",
    "We run scanorama here "
   ]
  },
  {
   "cell_type": "code",
   "execution_count": null,
   "metadata": {
    "colab": {
     "base_uri": "https://localhost:8080/"
    },
    "id": "9FSlWKiqHI0Z",
    "outputId": "20f832f7-78f6-46ac-f27f-576ea4efe25f"
   },
   "outputs": [
    {
     "name": "stdout",
     "output_type": "stream",
     "text": [
      "['0' '1' '10' '11' '12' '13' '14' '15' '16' '17' '18' '19' '2' '20' '21'\n",
      " '22' '23' '24' '25' '26' '27' '28' '29' '3' '30' '31' '32' '33' '34' '35'\n",
      " '36' '37' '38' '39' '4' '40' '41' '42' '5' '6' '7' '8' '9']\n",
      "Sampling 2325 per label\n"
     ]
    }
   ],
   "source": [
    "def cluster_and_subsample_cells(adata, use_rep, n_samples=100000):\n",
    "  sc.pp.neighbors(adata, use_rep=use_rep)\n",
    "  sc.tl.leiden(adata, key_added=\"leiden\")\n",
    "  train_idx = subsample_dataset(adata,'leiden', n_total_samples=n_samples)\n",
    "  return train_idx\n",
    "\n",
    "adata = anndata.read(results_adata_path)\n",
    "adata = adata[query.obs_names].copy()\n",
    "train_idx = cluster_and_subsample_cells(adata, use_rep='X_scvi')\n",
    "ref_and_subsetted_query = np.concatenate((ref.obs_names.values,train_idx.values))\n",
    "adata = adata[ref_and_subsetted_query].copy()"
   ]
  },
  {
   "cell_type": "code",
   "execution_count": null,
   "metadata": {
    "colab": {
     "base_uri": "https://localhost:8080/"
    },
    "id": "UKrQqa_PsDSl",
    "outputId": "c18b0a6f-bef9-46cc-f40d-246d657372d4"
   },
   "outputs": [
    {
     "name": "stdout",
     "output_type": "stream",
     "text": [
      "All ref genes are in query dataset. Can use pretrained models\n",
      "\u001b[34mINFO    \u001b[0m Using batches from adata.obs\u001b[1m[\u001b[0m\u001b[32m\"_batch\"\u001b[0m\u001b[1m]\u001b[0m                                 \n",
      "\u001b[34mINFO    \u001b[0m Using labels from adata.obs\u001b[1m[\u001b[0m\u001b[32m\"_labels\"\u001b[0m\u001b[1m]\u001b[0m                                 \n",
      "\u001b[34mINFO    \u001b[0m Using data from adata.layers\u001b[1m[\u001b[0m\u001b[32m\"counts\"\u001b[0m\u001b[1m]\u001b[0m                                 \n",
      "\u001b[34mINFO    \u001b[0m Computing library size prior per batch                                 \n",
      "\u001b[34mINFO    \u001b[0m Successfully registered anndata object containing \u001b[1;34m268409\u001b[0m cells, \u001b[1;34m4000\u001b[0m   \n",
      "         vars, \u001b[1;34m4\u001b[0m batches, \u001b[1;34m24\u001b[0m labels, and \u001b[1;34m0\u001b[0m proteins. Also registered \u001b[1;34m0\u001b[0m extra    \n",
      "         categorical covariates and \u001b[1;34m0\u001b[0m extra continuous covariates.              \n",
      "\u001b[34mINFO    \u001b[0m Please do not further modify adata until model is trained.             \n"
     ]
    }
   ],
   "source": [
    "ref = anndata.read(ref_path)\n",
    "query = anndata.read(query_path)\n",
    "\n",
    "#delete later\n",
    "query.obs[query_labels_key] = 'unknown'\n",
    "\n",
    "# combine the query and reference datasets\n",
    "adata = process_query(ref, \n",
    "                      query,\n",
    "                      ref_labels_key,\n",
    "                      ref_batch_key,\n",
    "                      query_labels_key,\n",
    "                      query_batch_key,\n",
    "                      unknown_celltype_label = 'unknown',\n",
    "                      training_method='offline')"
   ]
  },
  {
   "cell_type": "code",
   "execution_count": null,
   "metadata": {
    "colab": {
     "base_uri": "https://localhost:8080/"
    },
    "id": "jgj0BtKYxs2j",
    "outputId": "acdec82c-ef88-4544-e44f-f7415769767d"
   },
   "outputs": [
    {
     "name": "stdout",
     "output_type": "stream",
     "text": [
      "AnnData object with n_obs × n_vars = 12582 × 4000\n",
      "    obs: 'donor', 'method', 'donor_method', 'cell_ontology_type', 'cell_ontology_id', '_labels', '_batch'\n",
      "    var: 'feature_types.0.0-0', 'n_cells.0.0-0', 'gene_symbol.0.0-0', 'n_cells.1.0-0', 'n_cells.0-0', 'n_cells.1.1-0', 'feature_types.0.0.0.1-0', 'gene_symbol.0.0.0.1-0', 'n_cells.1.0.0.1-0', 'n_cells.1.0.1-0', 'n_cells-0', 'len-0', 'ensembl_id-0', 'contamination_prop-0-0', 'contamination_prop-1-0', 'contamination_prop-10-0', 'contamination_prop-11-0', 'contamination_prop-12-0', 'contamination_prop-13-0', 'contamination_prop-14-0', 'contamination_prop-2-0', 'contamination_prop-3-0', 'contamination_prop-4-0', 'contamination_prop-5-0', 'contamination_prop-6-0', 'contamination_prop-7-0', 'contamination_prop-8-0', 'contamination_prop-9-0', 'GeneName-1', 'GeneID-1', 'highly_variable', 'highly_variable_rank', 'means', 'variances', 'variances_norm'\n",
      "    uns: 'hvg'\n"
     ]
    }
   ],
   "source": [
    "print(ref)"
   ]
  },
  {
   "cell_type": "code",
   "execution_count": null,
   "metadata": {
    "colab": {
     "base_uri": "https://localhost:8080/"
    },
    "id": "n9A5nAa9xvPn",
    "outputId": "76f47aa9-8462-4693-f5b5-82139602c311"
   },
   "outputs": [
    {
     "name": "stdout",
     "output_type": "stream",
     "text": [
      "AnnData object with n_obs × n_vars = 268409 × 4000\n",
      "    obs: 'donor', 'method', 'donor_method', 'cell_ontology_type', 'cell_ontology_id', '_labels', '_batch', 'batch', '_scvi_batch', '_scvi_labels', '_scvi_local_l_mean', '_scvi_local_l_var'\n",
      "    var: 'feature_types.0.0-0', 'n_cells.0.0-0', 'gene_symbol.0.0-0', 'n_cells.1.0-0', 'n_cells.0-0', 'n_cells.1.1-0', 'feature_types.0.0.0.1-0', 'gene_symbol.0.0.0.1-0', 'n_cells.1.0.0.1-0', 'n_cells.1.0.1-0', 'n_cells-0', 'len-0', 'ensembl_id-0', 'contamination_prop-0-0', 'contamination_prop-1-0', 'contamination_prop-10-0', 'contamination_prop-11-0', 'contamination_prop-12-0', 'contamination_prop-13-0', 'contamination_prop-14-0', 'contamination_prop-2-0', 'contamination_prop-3-0', 'contamination_prop-4-0', 'contamination_prop-5-0', 'contamination_prop-6-0', 'contamination_prop-7-0', 'contamination_prop-8-0', 'contamination_prop-9-0', 'highly_variable-0', 'highly_variable_rank-0', 'means-0', 'variances-0', 'variances_norm-0', 'GeneName-1', 'GeneID-1', 'mean', 'std', 'highly_variable', 'highly_variable_rank', 'means', 'variances', 'variances_norm'\n",
      "    uns: 'log1p', 'hvg', '_scvi'\n",
      "    layers: 'counts'\n"
     ]
    }
   ],
   "source": [
    "print(adata)"
   ]
  },
  {
   "cell_type": "code",
   "execution_count": null,
   "metadata": {
    "id": "dypOLE3aiLek"
   },
   "outputs": [],
   "source": [
    "ref_and_subsetted_query = np.concatenate((ref.obs_names.values,subsetted_query_idx.values))\n"
   ]
  },
  {
   "cell_type": "code",
   "execution_count": null,
   "metadata": {
    "colab": {
     "base_uri": "https://localhost:8080/"
    },
    "id": "OmwMcIfv2vu4",
    "outputId": "7a4d77ff-824b-4f58-def3-574c481e80d1"
   },
   "outputs": [
    {
     "data": {
      "text/plain": [
       "array(['AAACCCACACCTGAAT_TSP2_Thymus_NA_10X_1_1-12-0',\n",
       "       'AAACCCAGTTTAGACC_TSP2_Thymus_NA_10X_1_1-12-0',\n",
       "       'AAACGAAAGGATACCG_TSP2_Thymus_NA_10X_1_1-12-0', ...,\n",
       "       '5478STDY7935100-AGGTCCGCAATGTTGC-1',\n",
       "       'WSSS8062670-CTCTGGTTCCAGTAGT-1',\n",
       "       'T06_TH_TOT_5GEX_3_S11-CAGCTGGTCCCGGATG-1'], dtype=object)"
      ]
     },
     "execution_count": 96,
     "metadata": {
      "tags": []
     },
     "output_type": "execute_result"
    }
   ],
   "source": [
    "ref_and_subsetted_query"
   ]
  },
  {
   "cell_type": "code",
   "execution_count": null,
   "metadata": {
    "colab": {
     "base_uri": "https://localhost:8080/"
    },
    "id": "xGOwJsPu2xU0",
    "outputId": "a56afd32-26e7-4c7d-d078-69b40b34d079"
   },
   "outputs": [
    {
     "data": {
      "text/plain": [
       "View of AnnData object with n_obs × n_vars = 112582 × 4000\n",
       "    obs: 'donor', 'method', 'donor_method', 'cell_ontology_type', 'cell_ontology_id', '_labels', '_batch', 'batch', '_scvi_batch', '_scvi_labels', '_scvi_local_l_mean', '_scvi_local_l_var'\n",
       "    var: 'feature_types.0.0-0', 'n_cells.0.0-0', 'gene_symbol.0.0-0', 'n_cells.1.0-0', 'n_cells.0-0', 'n_cells.1.1-0', 'feature_types.0.0.0.1-0', 'gene_symbol.0.0.0.1-0', 'n_cells.1.0.0.1-0', 'n_cells.1.0.1-0', 'n_cells-0', 'len-0', 'ensembl_id-0', 'contamination_prop-0-0', 'contamination_prop-1-0', 'contamination_prop-10-0', 'contamination_prop-11-0', 'contamination_prop-12-0', 'contamination_prop-13-0', 'contamination_prop-14-0', 'contamination_prop-2-0', 'contamination_prop-3-0', 'contamination_prop-4-0', 'contamination_prop-5-0', 'contamination_prop-6-0', 'contamination_prop-7-0', 'contamination_prop-8-0', 'contamination_prop-9-0', 'highly_variable-0', 'highly_variable_rank-0', 'means-0', 'variances-0', 'variances_norm-0', 'GeneName-1', 'GeneID-1', 'mean', 'std', 'highly_variable', 'highly_variable_rank', 'means', 'variances', 'variances_norm'\n",
       "    uns: 'log1p', 'hvg', '_scvi'\n",
       "    layers: 'counts'"
      ]
     },
     "execution_count": 99,
     "metadata": {
      "tags": []
     },
     "output_type": "execute_result"
    }
   ],
   "source": [
    "adata[subsetted_adata.obs_names]"
   ]
  },
  {
   "cell_type": "code",
   "execution_count": null,
   "metadata": {
    "colab": {
     "base_uri": "https://localhost:8080/"
    },
    "id": "NXtBvNRFx0Tc",
    "outputId": "c23d6dff-24a8-4c5c-b09b-9d71d78351f6"
   },
   "outputs": [
    {
     "data": {
      "text/plain": [
       "View of AnnData object with n_obs × n_vars = 112582 × 4000\n",
       "    obs: 'donor', 'method', 'donor_method', 'cell_ontology_type', 'cell_ontology_id', '_labels', '_batch', 'batch', '_scvi_batch', '_scvi_labels', '_scvi_local_l_mean', '_scvi_local_l_var'\n",
       "    var: 'feature_types.0.0-0', 'n_cells.0.0-0', 'gene_symbol.0.0-0', 'n_cells.1.0-0', 'n_cells.0-0', 'n_cells.1.1-0', 'feature_types.0.0.0.1-0', 'gene_symbol.0.0.0.1-0', 'n_cells.1.0.0.1-0', 'n_cells.1.0.1-0', 'n_cells-0', 'len-0', 'ensembl_id-0', 'contamination_prop-0-0', 'contamination_prop-1-0', 'contamination_prop-10-0', 'contamination_prop-11-0', 'contamination_prop-12-0', 'contamination_prop-13-0', 'contamination_prop-14-0', 'contamination_prop-2-0', 'contamination_prop-3-0', 'contamination_prop-4-0', 'contamination_prop-5-0', 'contamination_prop-6-0', 'contamination_prop-7-0', 'contamination_prop-8-0', 'contamination_prop-9-0', 'highly_variable-0', 'highly_variable_rank-0', 'means-0', 'variances-0', 'variances_norm-0', 'GeneName-1', 'GeneID-1', 'mean', 'std', 'highly_variable', 'highly_variable_rank', 'means', 'variances', 'variances_norm'\n",
       "    uns: 'log1p', 'hvg', '_scvi'\n",
       "    layers: 'counts'"
      ]
     },
     "execution_count": 72,
     "metadata": {
      "tags": []
     },
     "output_type": "execute_result"
    }
   ],
   "source": [
    "adata[ref_and_subsetted_query]"
   ]
  },
  {
   "cell_type": "code",
   "execution_count": null,
   "metadata": {
    "id": "ksNT0ZExjFXg"
   },
   "outputs": [],
   "source": [
    "subsetted_adata = adata[ref_and_subsetted_query].copy()\n"
   ]
  },
  {
   "cell_type": "code",
   "execution_count": null,
   "metadata": {
    "colab": {
     "base_uri": "https://localhost:8080/"
    },
    "id": "pkUu6Ge7jWFr",
    "outputId": "8dc57508-7d0e-4e74-85e6-9385161905a2"
   },
   "outputs": [
    {
     "data": {
      "text/plain": [
       "View of AnnData object with n_obs × n_vars = 100000 × 4000\n",
       "    obs: 'donor', 'method', 'donor_method', 'cell_ontology_type', 'cell_ontology_id', '_labels', '_batch', 'batch', '_scvi_batch', '_scvi_labels', '_scvi_local_l_mean', '_scvi_local_l_var'\n",
       "    var: 'feature_types.0.0-0', 'n_cells.0.0-0', 'gene_symbol.0.0-0', 'n_cells.1.0-0', 'n_cells.0-0', 'n_cells.1.1-0', 'feature_types.0.0.0.1-0', 'gene_symbol.0.0.0.1-0', 'n_cells.1.0.0.1-0', 'n_cells.1.0.1-0', 'n_cells-0', 'len-0', 'ensembl_id-0', 'contamination_prop-0-0', 'contamination_prop-1-0', 'contamination_prop-10-0', 'contamination_prop-11-0', 'contamination_prop-12-0', 'contamination_prop-13-0', 'contamination_prop-14-0', 'contamination_prop-2-0', 'contamination_prop-3-0', 'contamination_prop-4-0', 'contamination_prop-5-0', 'contamination_prop-6-0', 'contamination_prop-7-0', 'contamination_prop-8-0', 'contamination_prop-9-0', 'highly_variable-0', 'highly_variable_rank-0', 'means-0', 'variances-0', 'variances_norm-0', 'GeneName-1', 'GeneID-1', 'mean', 'std', 'highly_variable', 'highly_variable_rank', 'means', 'variances', 'variances_norm'\n",
       "    uns: 'log1p', 'hvg', '_scvi'\n",
       "    layers: 'counts'"
      ]
     },
     "execution_count": 75,
     "metadata": {
      "tags": []
     },
     "output_type": "execute_result"
    }
   ],
   "source": [
    "subsetted_adata[subsetted_query_idx]"
   ]
  },
  {
   "cell_type": "code",
   "execution_count": null,
   "metadata": {
    "colab": {
     "base_uri": "https://localhost:8080/"
    },
    "id": "DIV7jXw8x-tH",
    "outputId": "9f7a57f1-7f08-44a6-a252-8f432489181f"
   },
   "outputs": [
    {
     "name": "stdout",
     "output_type": "stream",
     "text": [
      "Found 4000 genes among all datasets\n",
      "[[0.         0.25049718 0.19655287 0.87159533]\n",
      " [0.         0.         0.64584906 0.14007782]\n",
      " [0.         0.         0.         0.35992218]\n",
      " [0.         0.         0.         0.        ]]\n",
      "Processing datasets (0, 3)\n",
      "Processing datasets (1, 2)\n",
      "Processing datasets (2, 3)\n",
      "Processing datasets (0, 1)\n",
      "Processing datasets (0, 2)\n",
      "Processing datasets (1, 3)\n"
     ]
    }
   ],
   "source": [
    "subsetted_adata = run_scanorama(subsetted_adata)\n"
   ]
  },
  {
   "cell_type": "code",
   "execution_count": null,
   "metadata": {
    "colab": {
     "base_uri": "https://localhost:8080/"
    },
    "id": "kcHQ32fnyC2B",
    "outputId": "780545e4-3364-418e-9edc-ce0a83daf87e"
   },
   "outputs": [
    {
     "data": {
      "text/plain": [
       "View of AnnData object with n_obs × n_vars = 12582 × 4000\n",
       "    obs: 'donor', 'method', 'donor_method', 'cell_ontology_type', 'cell_ontology_id', '_labels', '_batch', 'batch', '_scvi_batch', '_scvi_labels', '_scvi_local_l_mean', '_scvi_local_l_var'\n",
       "    var: 'feature_types.0.0-0', 'n_cells.0.0-0', 'gene_symbol.0.0-0', 'n_cells.1.0-0', 'n_cells.0-0', 'n_cells.1.1-0', 'feature_types.0.0.0.1-0', 'gene_symbol.0.0.0.1-0', 'n_cells.1.0.0.1-0', 'n_cells.1.0.1-0', 'n_cells-0', 'len-0', 'ensembl_id-0', 'contamination_prop-0-0', 'contamination_prop-1-0', 'contamination_prop-10-0', 'contamination_prop-11-0', 'contamination_prop-12-0', 'contamination_prop-13-0', 'contamination_prop-14-0', 'contamination_prop-2-0', 'contamination_prop-3-0', 'contamination_prop-4-0', 'contamination_prop-5-0', 'contamination_prop-6-0', 'contamination_prop-7-0', 'contamination_prop-8-0', 'contamination_prop-9-0', 'highly_variable-0', 'highly_variable_rank-0', 'means-0', 'variances-0', 'variances_norm-0', 'GeneName-1', 'GeneID-1', 'mean', 'std', 'highly_variable', 'highly_variable_rank', 'means', 'variances', 'variances_norm'\n",
       "    uns: 'log1p', 'hvg', '_scvi'\n",
       "    obsm: 'X_scanorama'\n",
       "    layers: 'counts'"
      ]
     },
     "execution_count": 78,
     "metadata": {
      "tags": []
     },
     "output_type": "execute_result"
    }
   ],
   "source": [
    "subsetted_adata[subsetted_query_idx]\n"
   ]
  },
  {
   "cell_type": "code",
   "execution_count": null,
   "metadata": {
    "colab": {
     "base_uri": "https://localhost:8080/"
    },
    "id": "9hKVFNUnzx1l",
    "outputId": "42c126c5-e211-4524-c79f-fbe5e63230e6"
   },
   "outputs": [
    {
     "name": "stderr",
     "output_type": "stream",
     "text": [
      "/content/drive/MyDrive/ts_evaluation/annotation.py:299: SettingWithCopyWarning: \n",
      "A value is trying to be set on a copy of a slice from a DataFrame\n",
      "\n",
      "See the caveats in the documentation: https://pandas.pydata.org/pandas-docs/stable/user_guide/indexing.html#returning-a-view-versus-a-copy\n",
      "  adata.obs[result_key][test_idx] = knn_pred\n",
      "/usr/local/lib/python3.6/dist-packages/pandas/core/indexing.py:670: SettingWithCopyWarning: \n",
      "A value is trying to be set on a copy of a slice from a DataFrame\n",
      "\n",
      "See the caveats in the documentation: https://pandas.pydata.org/pandas-docs/stable/user_guide/indexing.html#returning-a-view-versus-a-copy\n",
      "  iloc._setitem_with_indexer(indexer, value)\n"
     ]
    }
   ],
   "source": [
    "train_idx = ref.obs_names\n",
    "test_idx = subsetted_query_idx\n",
    "run_knn_on_scanorama(subsetted_adata, train_idx, test_idx)"
   ]
  },
  {
   "cell_type": "code",
   "execution_count": null,
   "metadata": {
    "colab": {
     "base_uri": "https://localhost:8080/"
    },
    "id": "hl55XoXfz-V7",
    "outputId": "b7243231-c4d1-4af4-b2bc-5aa4acbfcd2b"
   },
   "outputs": [
    {
     "data": {
      "text/plain": [
       "AnnData object with n_obs × n_vars = 112582 × 4000\n",
       "    obs: 'donor', 'method', 'donor_method', 'cell_ontology_type', 'cell_ontology_id', '_labels', '_batch', 'batch', '_scvi_batch', '_scvi_labels', '_scvi_local_l_mean', '_scvi_local_l_var', 'knn_on_scanorama_pred'\n",
       "    var: 'feature_types.0.0-0', 'n_cells.0.0-0', 'gene_symbol.0.0-0', 'n_cells.1.0-0', 'n_cells.0-0', 'n_cells.1.1-0', 'feature_types.0.0.0.1-0', 'gene_symbol.0.0.0.1-0', 'n_cells.1.0.0.1-0', 'n_cells.1.0.1-0', 'n_cells-0', 'len-0', 'ensembl_id-0', 'contamination_prop-0-0', 'contamination_prop-1-0', 'contamination_prop-10-0', 'contamination_prop-11-0', 'contamination_prop-12-0', 'contamination_prop-13-0', 'contamination_prop-14-0', 'contamination_prop-2-0', 'contamination_prop-3-0', 'contamination_prop-4-0', 'contamination_prop-5-0', 'contamination_prop-6-0', 'contamination_prop-7-0', 'contamination_prop-8-0', 'contamination_prop-9-0', 'highly_variable-0', 'highly_variable_rank-0', 'means-0', 'variances-0', 'variances_norm-0', 'GeneName-1', 'GeneID-1', 'mean', 'std', 'highly_variable', 'highly_variable_rank', 'means', 'variances', 'variances_norm'\n",
       "    uns: 'log1p', 'hvg', '_scvi'\n",
       "    obsm: 'X_scanorama'\n",
       "    layers: 'counts'"
      ]
     },
     "execution_count": 82,
     "metadata": {
      "tags": []
     },
     "output_type": "execute_result"
    }
   ],
   "source": [
    "subsetted_adata"
   ]
  },
  {
   "cell_type": "code",
   "execution_count": null,
   "metadata": {
    "id": "evLgdCzC1UNO"
   },
   "outputs": [],
   "source": [
    "adata.obs['knn_on_scanorama_pred'] = 'na'"
   ]
  },
  {
   "cell_type": "code",
   "execution_count": null,
   "metadata": {
    "colab": {
     "base_uri": "https://localhost:8080/"
    },
    "id": "ItFmq5TA1cFB",
    "outputId": "2ddf23b4-e52e-4653-886f-16bd39523023"
   },
   "outputs": [
    {
     "name": "stderr",
     "output_type": "stream",
     "text": [
      "/usr/local/lib/python3.6/dist-packages/ipykernel_launcher.py:1: SettingWithCopyWarning: \n",
      "A value is trying to be set on a copy of a slice from a DataFrame\n",
      "\n",
      "See the caveats in the documentation: https://pandas.pydata.org/pandas-docs/stable/user_guide/indexing.html#returning-a-view-versus-a-copy\n",
      "  \"\"\"Entry point for launching an IPython kernel.\n",
      "/usr/local/lib/python3.6/dist-packages/pandas/core/indexing.py:670: SettingWithCopyWarning: \n",
      "A value is trying to be set on a copy of a slice from a DataFrame\n",
      "\n",
      "See the caveats in the documentation: https://pandas.pydata.org/pandas-docs/stable/user_guide/indexing.html#returning-a-view-versus-a-copy\n",
      "  iloc._setitem_with_indexer(indexer, value)\n"
     ]
    }
   ],
   "source": [
    "adata.obs['knn_on_scanorama_pred'][subsetted_adata.obs_names] = subsetted_adata.obs['knn_on_scanorama_pred']"
   ]
  },
  {
   "cell_type": "code",
   "execution_count": null,
   "metadata": {
    "id": "QnHuy2DW3dws"
   },
   "outputs": [],
   "source": [
    "from scipy import sparse\n",
    "\n",
    "adata.obsm['X_scanorama'] = sparse.csr_matrix((adata.n_obs, 50))"
   ]
  },
  {
   "cell_type": "code",
   "execution_count": null,
   "metadata": {
    "id": "DJHGimh14-uB"
   },
   "outputs": [],
   "source": [
    "import pandas as pd\n",
    "df = pd.DataFrame(index = adata.obs_names, data = np.zeros(shape=(adata.n_obs, 50)))\n",
    "df.loc[subsetted_adata.obs_names]=subsetted_adata.obsm['X_scanorama']"
   ]
  },
  {
   "cell_type": "code",
   "execution_count": null,
   "metadata": {
    "id": "8nC0OQPP4HSs"
   },
   "outputs": [],
   "source": [
    "adata[subsetted_adata.obs_names].obsm['X_scanorama'] = subsetted_adata.obsm['X_scanorama']"
   ]
  },
  {
   "cell_type": "code",
   "execution_count": null,
   "metadata": {
    "id": "p8YGMa4b4bqZ"
   },
   "outputs": [],
   "source": [
    "adata.obsm['X_scanorama']= df"
   ]
  },
  {
   "cell_type": "code",
   "execution_count": null,
   "metadata": {
    "id": "ZZXpuY9y5MVO"
   },
   "outputs": [],
   "source": [
    "x_scanorama = sparse.csr_matrix(df.values)\n",
    "adata.obsm['X_scanorama']=x_scanorama"
   ]
  },
  {
   "cell_type": "code",
   "execution_count": null,
   "metadata": {
    "colab": {
     "base_uri": "https://localhost:8080/"
    },
    "id": "qlue3vfY5U9Y",
    "outputId": "4c9d1fc1-cea3-486f-97fa-4d52cfc1b3c6"
   },
   "outputs": [
    {
     "data": {
      "text/plain": [
       "<268409x50 sparse matrix of type '<class 'numpy.float64'>'\n",
       "\twith 5629100 stored elements in Compressed Sparse Row format>"
      ]
     },
     "execution_count": 123,
     "metadata": {
      "tags": []
     },
     "output_type": "execute_result"
    }
   ],
   "source": [
    "adata.obsm['X_scanorama']"
   ]
  },
  {
   "cell_type": "code",
   "execution_count": null,
   "metadata": {
    "id": "-YW5O6Q56k-S"
   },
   "outputs": [],
   "source": [
    "adata = adata[subsetted_adata.obs_names].copy()"
   ]
  },
  {
   "cell_type": "code",
   "execution_count": null,
   "metadata": {
    "id": "T3YYeE6G6wcT"
   },
   "outputs": [],
   "source": [
    "tmp_path = results_adata_path[:-12] + \"subsetted_results.h5ad\""
   ]
  },
  {
   "cell_type": "code",
   "execution_count": null,
   "metadata": {
    "id": "PUlvjUm97EDt"
   },
   "outputs": [],
   "source": [
    "res = anndata.read(results_adata_path)"
   ]
  },
  {
   "cell_type": "code",
   "execution_count": null,
   "metadata": {
    "id": "md4EFY357Qvc"
   },
   "outputs": [],
   "source": [
    "res = res[subsetted_adata.obs_names].copy()"
   ]
  },
  {
   "cell_type": "code",
   "execution_count": null,
   "metadata": {
    "id": "TNa1KE_v7YPi"
   },
   "outputs": [],
   "source": [
    "res.write(tmp_path, 'gzip')"
   ]
  },
  {
   "cell_type": "code",
   "execution_count": null,
   "metadata": {
    "colab": {
     "base_uri": "https://localhost:8080/",
     "height": 53
    },
    "id": "RKTkvBSK7lE8",
    "outputId": "3f7a48c5-1fc1-4149-c424-2b950dee4798"
   },
   "outputs": [
    {
     "data": {
      "application/vnd.google.colaboratory.intrinsic+json": {
       "type": "string"
      },
      "text/plain": [
       "'/content/drive/MyDrive/Thymus_eval/notebook_evaluation/subsetted_results.h5ad'"
      ]
     },
     "execution_count": 138,
     "metadata": {
      "tags": []
     },
     "output_type": "execute_result"
    }
   ],
   "source": [
    "tmp_path"
   ]
  },
  {
   "cell_type": "code",
   "execution_count": null,
   "metadata": {
    "colab": {
     "base_uri": "https://localhost:8080/"
    },
    "id": "OvV-ld0u3dOS",
    "outputId": "25170054-578c-48a6-d4e9-18a3061c4649"
   },
   "outputs": [
    {
     "name": "stderr",
     "output_type": "stream",
     "text": [
      "... storing 'knn_on_scanorama_pred' as categorical\n"
     ]
    }
   ],
   "source": [
    "save_results(adata, \n",
    "             results_adata_path, \n",
    "             obs_keys=['knn_on_scanorama_pred'], \n",
    "             obsm_keys=['X_scanorama'])"
   ]
  },
  {
   "cell_type": "code",
   "execution_count": null,
   "metadata": {
    "id": "cr0Pmf625YQA"
   },
   "outputs": [],
   "source": []
  },
  {
   "cell_type": "code",
   "execution_count": null,
   "metadata": {
    "colab": {
     "base_uri": "https://localhost:8080/"
    },
    "id": "WckIwwyI3BB8",
    "outputId": "09ff7659-1a34-47a5-9172-cfd0e9a7ebb8"
   },
   "outputs": [
    {
     "data": {
      "text/plain": [
       "AnnData object with n_obs × n_vars = 268409 × 4000\n",
       "    obs: 'donor', 'method', 'donor_method', 'cell_ontology_type', 'cell_ontology_id', '_labels', '_batch', 'batch', '_scvi_batch', '_scvi_labels', '_scvi_local_l_mean', '_scvi_local_l_var', 'knn_on_scvi_pred'\n",
       "    var: 'feature_types.0.0-0', 'n_cells.0.0-0', 'gene_symbol.0.0-0', 'n_cells.1.0-0', 'n_cells.0-0', 'n_cells.1.1-0', 'feature_types.0.0.0.1-0', 'gene_symbol.0.0.0.1-0', 'n_cells.1.0.0.1-0', 'n_cells.1.0.1-0', 'n_cells-0', 'len-0', 'ensembl_id-0', 'contamination_prop-0-0', 'contamination_prop-1-0', 'contamination_prop-10-0', 'contamination_prop-11-0', 'contamination_prop-12-0', 'contamination_prop-13-0', 'contamination_prop-14-0', 'contamination_prop-2-0', 'contamination_prop-3-0', 'contamination_prop-4-0', 'contamination_prop-5-0', 'contamination_prop-6-0', 'contamination_prop-7-0', 'contamination_prop-8-0', 'contamination_prop-9-0', 'highly_variable-0', 'highly_variable_rank-0', 'means-0', 'variances-0', 'variances_norm-0', 'GeneName-1', 'GeneID-1', 'mean', 'std', 'highly_variable', 'highly_variable_rank', 'means', 'variances', 'variances_norm'\n",
       "    uns: 'log1p', 'hvg', '_scvi'\n",
       "    layers: 'counts'"
      ]
     },
     "execution_count": 104,
     "metadata": {
      "tags": []
     },
     "output_type": "execute_result"
    }
   ],
   "source": [
    "adata"
   ]
  },
  {
   "cell_type": "code",
   "execution_count": null,
   "metadata": {
    "colab": {
     "base_uri": "https://localhost:8080/"
    },
    "id": "YfP7XSqm2EZL",
    "outputId": "b12441ab-a265-4150-c30b-14d41ec16543"
   },
   "outputs": [
    {
     "data": {
      "text/plain": [
       "True"
      ]
     },
     "execution_count": 91,
     "metadata": {
      "tags": []
     },
     "output_type": "execute_result"
    }
   ],
   "source": [
    "res.obs_names[0] in subsetted_adata.obs_names"
   ]
  },
  {
   "cell_type": "code",
   "execution_count": null,
   "metadata": {
    "id": "ZjnDHk0_1RFA"
   },
   "outputs": [],
   "source": [
    "# adata_subset = adata.copy()\n",
    "# adata_subset.obsm['X_scanorama']\n",
    "\n",
    "# import pandas as pd\n",
    "# df = pd.DataFrame(index = adata.obs_names, data = np.zeros(shape=(adata.n_obs, 50)))\n",
    "# df.loc[adata_subset.obs_names]=adata_subset.obsm['X_scanorama']\n",
    "# from scipy import sparse\n",
    "# x_scanorama = sparse.csr_matrix(df.values)\n",
    "# adata.obsm['X_scanorama']=x_scanorama\n",
    "\n",
    "# adata.obs['knn_on_scanorama_pred'] = adata_subset.obs['knn_on_scanorama_pred']\n",
    "# adata.obs['knn_on_scanorama_pred']\n",
    "# save_results(adata, \n",
    "#              results_adata_path, \n",
    "#              obs_keys=['knn_on_scanorama_pred'], \n",
    "#              obsm_keys=['X_scanorama'])"
   ]
  },
  {
   "cell_type": "code",
   "execution_count": null,
   "metadata": {
    "colab": {
     "base_uri": "https://localhost:8080/"
    },
    "id": "GqUGgLGR67H3",
    "outputId": "c8b89eb6-d2ea-4ec4-e37c-2484f15f0ff7"
   },
   "outputs": [
    {
     "name": "stdout",
     "output_type": "stream",
     "text": [
      "Found 4000 genes among all datasets\n",
      "[[0.         0.24361949 0.20931389 0.87548638]\n",
      " [0.         0.         0.64352374 0.11867704]\n",
      " [0.         0.         0.         0.3540856 ]\n",
      " [0.         0.         0.         0.        ]]\n",
      "Processing datasets (0, 3)\n",
      "Processing datasets (1, 2)\n",
      "Processing datasets (2, 3)\n",
      "Processing datasets (0, 1)\n",
      "Processing datasets (0, 2)\n",
      "Processing datasets (1, 3)\n"
     ]
    }
   ],
   "source": [
    "#TODO check and run subsampling\n",
    "adata = run_scanorama(adata)"
   ]
  },
  {
   "cell_type": "code",
   "execution_count": null,
   "metadata": {
    "colab": {
     "base_uri": "https://localhost:8080/"
    },
    "id": "KmVQdjEek90u",
    "outputId": "4ac9ca1a-21e6-40a5-93d8-a63089759ce9"
   },
   "outputs": [
    {
     "data": {
      "text/plain": [
       "AnnData object with n_obs × n_vars = 112582 × 4000\n",
       "    obs: 'donor', 'method', 'donor_method', 'cell_ontology_type', 'cell_ontology_id', '_labels', '_batch', 'batch', '_scvi_batch', '_scvi_labels', '_scvi_local_l_mean', '_scvi_local_l_var'\n",
       "    var: 'feature_types.0.0-0', 'n_cells.0.0-0', 'gene_symbol.0.0-0', 'n_cells.1.0-0', 'n_cells.0-0', 'n_cells.1.1-0', 'feature_types.0.0.0.1-0', 'gene_symbol.0.0.0.1-0', 'n_cells.1.0.0.1-0', 'n_cells.1.0.1-0', 'n_cells-0', 'len-0', 'ensembl_id-0', 'contamination_prop-0-0', 'contamination_prop-1-0', 'contamination_prop-10-0', 'contamination_prop-11-0', 'contamination_prop-12-0', 'contamination_prop-13-0', 'contamination_prop-14-0', 'contamination_prop-2-0', 'contamination_prop-3-0', 'contamination_prop-4-0', 'contamination_prop-5-0', 'contamination_prop-6-0', 'contamination_prop-7-0', 'contamination_prop-8-0', 'contamination_prop-9-0', 'highly_variable-0', 'highly_variable_rank-0', 'means-0', 'variances-0', 'variances_norm-0', 'GeneName-1', 'GeneID-1', 'mean', 'std', 'highly_variable', 'highly_variable_rank', 'means', 'variances', 'variances_norm'\n",
       "    uns: 'log1p', 'hvg', '_scvi'\n",
       "    obsm: 'X_scanorama'\n",
       "    layers: 'counts'"
      ]
     },
     "execution_count": 59,
     "metadata": {
      "tags": []
     },
     "output_type": "execute_result"
    }
   ],
   "source": [
    "adata"
   ]
  },
  {
   "cell_type": "code",
   "execution_count": null,
   "metadata": {
    "colab": {
     "base_uri": "https://localhost:8080/",
     "height": 799
    },
    "id": "18jEzGAr2Xg5",
    "outputId": "b31401b7-ff3f-4a77-c9e5-65a7936aeb93"
   },
   "outputs": [
    {
     "ename": "KeyError",
     "evalue": "ignored",
     "output_type": "error",
     "traceback": [
      "\u001b[0;31m---------------------------------------------------------------------------\u001b[0m",
      "\u001b[0;31mKeyError\u001b[0m                                  Traceback (most recent call last)",
      "\u001b[0;32m<ipython-input-61-c30353cc4fc0>\u001b[0m in \u001b[0;36m<module>\u001b[0;34m()\u001b[0m\n\u001b[1;32m      1\u001b[0m \u001b[0mtrain_idx\u001b[0m \u001b[0;34m=\u001b[0m \u001b[0mref\u001b[0m\u001b[0;34m.\u001b[0m\u001b[0mobs_names\u001b[0m\u001b[0;34m\u001b[0m\u001b[0;34m\u001b[0m\u001b[0m\n\u001b[1;32m      2\u001b[0m \u001b[0mtest_idx\u001b[0m \u001b[0;34m=\u001b[0m \u001b[0msubsetted_query_idx\u001b[0m\u001b[0;34m.\u001b[0m\u001b[0mvalues\u001b[0m\u001b[0;34m\u001b[0m\u001b[0;34m\u001b[0m\u001b[0m\n\u001b[0;32m----> 3\u001b[0;31m \u001b[0mrun_knn_on_scanorama\u001b[0m\u001b[0;34m(\u001b[0m\u001b[0madata\u001b[0m\u001b[0;34m,\u001b[0m \u001b[0mtrain_idx\u001b[0m\u001b[0;34m,\u001b[0m \u001b[0mtest_idx\u001b[0m\u001b[0;34m)\u001b[0m\u001b[0;34m\u001b[0m\u001b[0;34m\u001b[0m\u001b[0m\n\u001b[0m",
      "\u001b[0;32m/content/drive/MyDrive/ts_evaluation/annotation.py\u001b[0m in \u001b[0;36mrun_knn_on_scanorama\u001b[0;34m(adata, train_idx, test_idx, obsm_key, result_key)\u001b[0m\n\u001b[1;32m    288\u001b[0m \u001b[0;34m\u001b[0m\u001b[0m\n\u001b[1;32m    289\u001b[0m   \u001b[0mtrain_X\u001b[0m \u001b[0;34m=\u001b[0m \u001b[0madata\u001b[0m\u001b[0;34m[\u001b[0m\u001b[0mtrain_idx\u001b[0m\u001b[0;34m]\u001b[0m\u001b[0;34m.\u001b[0m\u001b[0mobsm\u001b[0m\u001b[0;34m[\u001b[0m\u001b[0mobsm_key\u001b[0m\u001b[0;34m]\u001b[0m\u001b[0;34m\u001b[0m\u001b[0;34m\u001b[0m\u001b[0m\n\u001b[0;32m--> 290\u001b[0;31m   \u001b[0mtest_X\u001b[0m \u001b[0;34m=\u001b[0m \u001b[0madata\u001b[0m\u001b[0;34m[\u001b[0m\u001b[0mtest_idx\u001b[0m\u001b[0;34m]\u001b[0m\u001b[0;34m.\u001b[0m\u001b[0mobsm\u001b[0m\u001b[0;34m[\u001b[0m\u001b[0mobsm_key\u001b[0m\u001b[0;34m]\u001b[0m\u001b[0;34m\u001b[0m\u001b[0;34m\u001b[0m\u001b[0m\n\u001b[0m\u001b[1;32m    291\u001b[0m \u001b[0;34m\u001b[0m\u001b[0m\n\u001b[1;32m    292\u001b[0m   \u001b[0mtrain_Y\u001b[0m \u001b[0;34m=\u001b[0m \u001b[0madata\u001b[0m\u001b[0;34m[\u001b[0m\u001b[0mtrain_idx\u001b[0m\u001b[0;34m]\u001b[0m\u001b[0;34m.\u001b[0m\u001b[0mobs\u001b[0m\u001b[0;34m[\u001b[0m\u001b[0;34m'_labels'\u001b[0m\u001b[0;34m]\u001b[0m\u001b[0;34m.\u001b[0m\u001b[0mto_numpy\u001b[0m\u001b[0;34m(\u001b[0m\u001b[0;34m)\u001b[0m\u001b[0;34m\u001b[0m\u001b[0;34m\u001b[0m\u001b[0m\n",
      "\u001b[0;32m/usr/local/lib/python3.6/dist-packages/anndata/_core/anndata.py\u001b[0m in \u001b[0;36m__getitem__\u001b[0;34m(self, index)\u001b[0m\n\u001b[1;32m   1085\u001b[0m     \u001b[0;32mdef\u001b[0m \u001b[0m__getitem__\u001b[0m\u001b[0;34m(\u001b[0m\u001b[0mself\u001b[0m\u001b[0;34m,\u001b[0m \u001b[0mindex\u001b[0m\u001b[0;34m:\u001b[0m \u001b[0mIndex\u001b[0m\u001b[0;34m)\u001b[0m \u001b[0;34m->\u001b[0m \u001b[0;34m\"AnnData\"\u001b[0m\u001b[0;34m:\u001b[0m\u001b[0;34m\u001b[0m\u001b[0;34m\u001b[0m\u001b[0m\n\u001b[1;32m   1086\u001b[0m         \u001b[0;34m\"\"\"Returns a sliced view of the object.\"\"\"\u001b[0m\u001b[0;34m\u001b[0m\u001b[0;34m\u001b[0m\u001b[0m\n\u001b[0;32m-> 1087\u001b[0;31m         \u001b[0moidx\u001b[0m\u001b[0;34m,\u001b[0m \u001b[0mvidx\u001b[0m \u001b[0;34m=\u001b[0m \u001b[0mself\u001b[0m\u001b[0;34m.\u001b[0m\u001b[0m_normalize_indices\u001b[0m\u001b[0;34m(\u001b[0m\u001b[0mindex\u001b[0m\u001b[0;34m)\u001b[0m\u001b[0;34m\u001b[0m\u001b[0;34m\u001b[0m\u001b[0m\n\u001b[0m\u001b[1;32m   1088\u001b[0m         \u001b[0;32mreturn\u001b[0m \u001b[0mAnnData\u001b[0m\u001b[0;34m(\u001b[0m\u001b[0mself\u001b[0m\u001b[0;34m,\u001b[0m \u001b[0moidx\u001b[0m\u001b[0;34m=\u001b[0m\u001b[0moidx\u001b[0m\u001b[0;34m,\u001b[0m \u001b[0mvidx\u001b[0m\u001b[0;34m=\u001b[0m\u001b[0mvidx\u001b[0m\u001b[0;34m,\u001b[0m \u001b[0masview\u001b[0m\u001b[0;34m=\u001b[0m\u001b[0;32mTrue\u001b[0m\u001b[0;34m)\u001b[0m\u001b[0;34m\u001b[0m\u001b[0;34m\u001b[0m\u001b[0m\n\u001b[1;32m   1089\u001b[0m \u001b[0;34m\u001b[0m\u001b[0m\n",
      "\u001b[0;32m/usr/local/lib/python3.6/dist-packages/anndata/_core/anndata.py\u001b[0m in \u001b[0;36m_normalize_indices\u001b[0;34m(self, index)\u001b[0m\n\u001b[1;32m   1066\u001b[0m \u001b[0;34m\u001b[0m\u001b[0m\n\u001b[1;32m   1067\u001b[0m     \u001b[0;32mdef\u001b[0m \u001b[0m_normalize_indices\u001b[0m\u001b[0;34m(\u001b[0m\u001b[0mself\u001b[0m\u001b[0;34m,\u001b[0m \u001b[0mindex\u001b[0m\u001b[0;34m:\u001b[0m \u001b[0mOptional\u001b[0m\u001b[0;34m[\u001b[0m\u001b[0mIndex\u001b[0m\u001b[0;34m]\u001b[0m\u001b[0;34m)\u001b[0m \u001b[0;34m->\u001b[0m \u001b[0mTuple\u001b[0m\u001b[0;34m[\u001b[0m\u001b[0mslice\u001b[0m\u001b[0;34m,\u001b[0m \u001b[0mslice\u001b[0m\u001b[0;34m]\u001b[0m\u001b[0;34m:\u001b[0m\u001b[0;34m\u001b[0m\u001b[0;34m\u001b[0m\u001b[0m\n\u001b[0;32m-> 1068\u001b[0;31m         \u001b[0;32mreturn\u001b[0m \u001b[0m_normalize_indices\u001b[0m\u001b[0;34m(\u001b[0m\u001b[0mindex\u001b[0m\u001b[0;34m,\u001b[0m \u001b[0mself\u001b[0m\u001b[0;34m.\u001b[0m\u001b[0mobs_names\u001b[0m\u001b[0;34m,\u001b[0m \u001b[0mself\u001b[0m\u001b[0;34m.\u001b[0m\u001b[0mvar_names\u001b[0m\u001b[0;34m)\u001b[0m\u001b[0;34m\u001b[0m\u001b[0;34m\u001b[0m\u001b[0m\n\u001b[0m\u001b[1;32m   1069\u001b[0m \u001b[0;34m\u001b[0m\u001b[0m\n\u001b[1;32m   1070\u001b[0m     \u001b[0;31m# TODO: this is not quite complete...\u001b[0m\u001b[0;34m\u001b[0m\u001b[0;34m\u001b[0m\u001b[0;34m\u001b[0m\u001b[0m\n",
      "\u001b[0;32m/usr/local/lib/python3.6/dist-packages/anndata/_core/index.py\u001b[0m in \u001b[0;36m_normalize_indices\u001b[0;34m(index, names0, names1)\u001b[0m\n\u001b[1;32m     32\u001b[0m             \u001b[0mindex\u001b[0m \u001b[0;34m=\u001b[0m \u001b[0mindex\u001b[0m\u001b[0;34m[\u001b[0m\u001b[0;36m0\u001b[0m\u001b[0;34m]\u001b[0m\u001b[0;34m.\u001b[0m\u001b[0mvalues\u001b[0m\u001b[0;34m,\u001b[0m \u001b[0mindex\u001b[0m\u001b[0;34m[\u001b[0m\u001b[0;36m1\u001b[0m\u001b[0;34m]\u001b[0m\u001b[0;34m\u001b[0m\u001b[0;34m\u001b[0m\u001b[0m\n\u001b[1;32m     33\u001b[0m     \u001b[0max0\u001b[0m\u001b[0;34m,\u001b[0m \u001b[0max1\u001b[0m \u001b[0;34m=\u001b[0m \u001b[0munpack_index\u001b[0m\u001b[0;34m(\u001b[0m\u001b[0mindex\u001b[0m\u001b[0;34m)\u001b[0m\u001b[0;34m\u001b[0m\u001b[0;34m\u001b[0m\u001b[0m\n\u001b[0;32m---> 34\u001b[0;31m     \u001b[0max0\u001b[0m \u001b[0;34m=\u001b[0m \u001b[0m_normalize_index\u001b[0m\u001b[0;34m(\u001b[0m\u001b[0max0\u001b[0m\u001b[0;34m,\u001b[0m \u001b[0mnames0\u001b[0m\u001b[0;34m)\u001b[0m\u001b[0;34m\u001b[0m\u001b[0;34m\u001b[0m\u001b[0m\n\u001b[0m\u001b[1;32m     35\u001b[0m     \u001b[0max1\u001b[0m \u001b[0;34m=\u001b[0m \u001b[0m_normalize_index\u001b[0m\u001b[0;34m(\u001b[0m\u001b[0max1\u001b[0m\u001b[0;34m,\u001b[0m \u001b[0mnames1\u001b[0m\u001b[0;34m)\u001b[0m\u001b[0;34m\u001b[0m\u001b[0;34m\u001b[0m\u001b[0m\n\u001b[1;32m     36\u001b[0m     \u001b[0;32mreturn\u001b[0m \u001b[0max0\u001b[0m\u001b[0;34m,\u001b[0m \u001b[0max1\u001b[0m\u001b[0;34m\u001b[0m\u001b[0;34m\u001b[0m\u001b[0m\n",
      "\u001b[0;32m/usr/local/lib/python3.6/dist-packages/anndata/_core/index.py\u001b[0m in \u001b[0;36m_normalize_index\u001b[0;34m(indexer, index)\u001b[0m\n\u001b[1;32m     99\u001b[0m                 \u001b[0mnot_found\u001b[0m \u001b[0;34m=\u001b[0m \u001b[0mindexer\u001b[0m\u001b[0;34m[\u001b[0m\u001b[0mpositions\u001b[0m \u001b[0;34m<\u001b[0m \u001b[0;36m0\u001b[0m\u001b[0;34m]\u001b[0m\u001b[0;34m\u001b[0m\u001b[0;34m\u001b[0m\u001b[0m\n\u001b[1;32m    100\u001b[0m                 raise KeyError(\n\u001b[0;32m--> 101\u001b[0;31m                     \u001b[0;34mf\"Values {list(not_found)}, from {list(indexer)}, \"\u001b[0m\u001b[0;34m\u001b[0m\u001b[0;34m\u001b[0m\u001b[0m\n\u001b[0m\u001b[1;32m    102\u001b[0m                     \u001b[0;34m\"are not valid obs/ var names or indices.\"\u001b[0m\u001b[0;34m\u001b[0m\u001b[0;34m\u001b[0m\u001b[0m\n\u001b[1;32m    103\u001b[0m                 )\n",
      "\u001b[0;31mKeyError\u001b[0m: \"Values ['TTA14-TACTCGCGTAGCGTCC-1', '4861STDY7528586-TTTGTCATCGAATCCA-1', 'TTA9-CGGAGTCAGACTTTCG-1', 'T06_TH_TOT_5GEX_4_S12-CATGACAGTCCGACGT-1', 'T06_TH_TOT_5GEX_2_S10-CAAGGCCGTTACGCGC-1', 'T06_TH_TOT_5GEX_1_S9-GTCATTTAGTCTTGCA-1', 'TTA14-GATCGTATCAGAAATG-1', '4861STDY7528587-TAGTTGGTCAGCTGGC-1', 'T03_TH_TOT_5GEX_2_S2-TCGCGTTAGTGCGATG-1', 'FCAImmP7292030-CGGACTGTCCGAGCCA-1', 'TTA10-AGCTCCTCATCCAACA-1', 'T06_TH_TOT_5GEX_4_S12-CTGCGGAAGATCCGAG-1', 'TTA10-CCCATACGTTGGAGGT-1', 'TTA9-TGTCCCACACATCTTT-1', 'T06_TH_TOT_5GEX_4_S12-GCATGCGTCGCAAGCC-1', 'T06_TH_TOT_5GEX_1_S9-AGCTCTCTCCGTCAAA-1', 'TTA14-ATTGGTGCACCTTGTC-1', 'TTA12-ACGGCCAGTAAATACG-1', 'T06_TH_TOT_5GEX_1_S9-CCTAGCTAGCATGGCA-1', 'T06_TH_TOT_5GEX_4_S12-TACTTGTGTTTGCATG-1', 'T06_TH_TOT_5GEX_1_S9-TCATTTGCACAACTGT-1', 'TTA10-GGGCATCTCCTGCCAT-1', 'TTA9-CTGATAGTCCGGCACA-1', 'TTA12-TACTTGTTCCCTTGCA-1', 'TTA12-TAAGTGCGTCGCGGTT-1', 'T06_TH_TOT_5GEX_3_S11-CGACCTTAGATATGGT-1', 'TTA10-CGTCAGGCAGACGCCT-1', 'T07_TH_EPCAM_S3-TGACAACAGGGCTCTC-1', 'FCAImmP7277556-CTTCTCTGTTCATGGT-1', 'T06_TH_TOT_5GEX_4_S12-GTGAAGGTCTTCTGGC-1', 'TTA10-CGCGTTTAGGCCCGTT-1', 'TTA9-CCCTCCTTCCCTCTTT-1', 'T06_TH_TOT_5GEX_2_S10-CGGTTAACACATTTCT-1', '4861STDY7528592-CACAGTAGTGTTCGAT-1', 'T06_TH_TOT_5GEX_1_S9-GAACGGACAGGAACGT-1', 'T06_TH_TOT_5GEX_3_S11-TCAGCTCCAAACGCGA-1', 'TTA14-GGGCATCTCTGCCAGG-1', 'T06_TH_TOT_5GEX_4_S12-TTTGCGCCACCATCCT-1', 'T06_TH_TOT_5GEX_3_S11-TGCGTGGCACAAGACG-1', 'TTA9-ACCGTAAAGGCAATTA-1', 'TTA9-TATGCCCAGCTCCTTC-1', '..."
     ]
    }
   ],
   "source": [
    "train_idx = ref.obs_names\n",
    "test_idx = subsetted_query_idx.values\n",
    "run_knn_on_scanorama(adata, train_idx, test_idx)"
   ]
  },
  {
   "cell_type": "code",
   "execution_count": null,
   "metadata": {
    "colab": {
     "base_uri": "https://localhost:8080/"
    },
    "id": "oh7zxpcZxWVf",
    "outputId": "ba7a7bbf-56dd-4cf2-ae86-06bb6a0f2555"
   },
   "outputs": [
    {
     "data": {
      "text/plain": [
       "AnnData object with n_obs × n_vars = 112582 × 4000\n",
       "    obs: 'donor', 'method', 'donor_method', 'cell_ontology_type', 'cell_ontology_id', '_labels', '_batch', 'batch', '_scvi_batch', '_scvi_labels', '_scvi_local_l_mean', '_scvi_local_l_var'\n",
       "    var: 'feature_types.0.0-0', 'n_cells.0.0-0', 'gene_symbol.0.0-0', 'n_cells.1.0-0', 'n_cells.0-0', 'n_cells.1.1-0', 'feature_types.0.0.0.1-0', 'gene_symbol.0.0.0.1-0', 'n_cells.1.0.0.1-0', 'n_cells.1.0.1-0', 'n_cells-0', 'len-0', 'ensembl_id-0', 'contamination_prop-0-0', 'contamination_prop-1-0', 'contamination_prop-10-0', 'contamination_prop-11-0', 'contamination_prop-12-0', 'contamination_prop-13-0', 'contamination_prop-14-0', 'contamination_prop-2-0', 'contamination_prop-3-0', 'contamination_prop-4-0', 'contamination_prop-5-0', 'contamination_prop-6-0', 'contamination_prop-7-0', 'contamination_prop-8-0', 'contamination_prop-9-0', 'highly_variable-0', 'highly_variable_rank-0', 'means-0', 'variances-0', 'variances_norm-0', 'GeneName-1', 'GeneID-1', 'mean', 'std', 'highly_variable', 'highly_variable_rank', 'means', 'variances', 'variances_norm'\n",
       "    uns: 'log1p', 'hvg', '_scvi'\n",
       "    obsm: 'X_scanorama'\n",
       "    layers: 'counts'"
      ]
     },
     "execution_count": 65,
     "metadata": {
      "tags": []
     },
     "output_type": "execute_result"
    }
   ],
   "source": [
    "adata"
   ]
  },
  {
   "cell_type": "code",
   "execution_count": null,
   "metadata": {
    "id": "DpsIONCoOa-e"
   },
   "outputs": [],
   "source": [
    "save_results(adata, \n",
    "             results_adata_path, \n",
    "             obs_keys=['knn_on_scanorama_pred'], \n",
    "             obsm_keys=['X_scanorama'])"
   ]
  },
  {
   "cell_type": "code",
   "execution_count": null,
   "metadata": {
    "id": "U7GIcLTUTZfa"
   },
   "outputs": [],
   "source": [
    "# adata_subset = adata.copy()\n",
    "# adata_subset.obsm['X_scanorama']\n",
    "\n",
    "# import pandas as pd\n",
    "# df = pd.DataFrame(index = adata.obs_names, data = np.zeros(shape=(adata.n_obs, 50)))\n",
    "# df.loc[adata_subset.obs_names]=adata_subset.obsm['X_scanorama']\n",
    "# from scipy import sparse\n",
    "# x_scanorama = sparse.csr_matrix(df.values)\n",
    "# adata.obsm['X_scanorama']=x_scanorama\n",
    "\n",
    "# adata.obs['knn_on_scanorama_pred'] = adata_subset.obs['knn_on_scanorama_pred']\n",
    "# adata.obs['knn_on_scanorama_pred']\n",
    "# save_results(adata, \n",
    "#              results_adata_path, \n",
    "#              obs_keys=['knn_on_scanorama_pred'], \n",
    "#              obsm_keys=['X_scanorama'])"
   ]
  },
  {
   "cell_type": "markdown",
   "metadata": {
    "id": "pcQr3CLQBOR3"
   },
   "source": [
    "## scvi offline"
   ]
  },
  {
   "cell_type": "code",
   "execution_count": null,
   "metadata": {
    "colab": {
     "base_uri": "https://localhost:8080/"
    },
    "id": "VUHxOk9E_-4p",
    "outputId": "e781b2f7-5bc3-4781-b409-9f18afb334a4"
   },
   "outputs": [
    {
     "name": "stderr",
     "output_type": "stream",
     "text": [
      "/usr/local/lib/python3.6/dist-packages/pytorch_lightning/utilities/distributed.py:49: UserWarning: You have set progress_bar_refresh_rate < 20 on Google Colab. This may crash. Consider using progress_bar_refresh_rate >= 20 in Trainer.\n",
      "  warnings.warn(*args, **kwargs)\n",
      "GPU available: True, used: True\n",
      "TPU available: None, using: 0 TPU cores\n",
      "LOCAL_RANK: 0 - CUDA_VISIBLE_DEVICES: [0]\n"
     ]
    },
    {
     "name": "stdout",
     "output_type": "stream",
     "text": [
      "Epoch 1/30:   0%|          | 0/30 [00:03<?, ?it/s]"
     ]
    },
    {
     "name": "stderr",
     "output_type": "stream",
     "text": [
      "/usr/local/lib/python3.6/dist-packages/pytorch_lightning/utilities/distributed.py:49: UserWarning: Detected KeyboardInterrupt, attempting graceful shutdown...\n",
      "  warnings.warn(*args, **kwargs)\n",
      "Exception in thread Thread-6:\n",
      "Traceback (most recent call last):\n",
      "  File \"/usr/lib/python3.6/threading.py\", line 916, in _bootstrap_inner\n",
      "    self.run()\n",
      "  File \"/usr/lib/python3.6/threading.py\", line 864, in run\n",
      "    self._target(*self._args, **self._kwargs)\n",
      "  File \"/usr/local/lib/python3.6/dist-packages/torch/utils/data/_utils/pin_memory.py\", line 25, in _pin_memory_loop\n",
      "    r = in_queue.get(timeout=MP_STATUS_CHECK_INTERVAL)\n",
      "  File \"/usr/lib/python3.6/multiprocessing/queues.py\", line 113, in get\n",
      "    return _ForkingPickler.loads(res)\n",
      "  File \"/usr/local/lib/python3.6/dist-packages/torch/multiprocessing/reductions.py\", line 282, in rebuild_storage_fd\n",
      "    fd = df.detach()\n",
      "  File \"/usr/lib/python3.6/multiprocessing/resource_sharer.py\", line 57, in detach\n",
      "    with _resource_sharer.get_connection(self._id) as conn:\n",
      "  File \"/usr/lib/python3.6/multiprocessing/resource_sharer.py\", line 87, in get_connection\n",
      "    c = Client(address, authkey=process.current_process().authkey)\n",
      "  File \"/usr/lib/python3.6/multiprocessing/connection.py\", line 487, in Client\n",
      "    c = SocketClient(address)\n",
      "  File \"/usr/lib/python3.6/multiprocessing/connection.py\", line 614, in SocketClient\n",
      "    s.connect(address)\n",
      "FileNotFoundError: [Errno 2] No such file or directory\n",
      "\n"
     ]
    },
    {
     "name": "stdout",
     "output_type": "stream",
     "text": [
      "\n"
     ]
    }
   ],
   "source": [
    "importlib.reload(annotation)\n",
    "from annotation import (process_query,run_scvi)\n",
    "run_scvi(adata, n_latent=50, dropout_rate=0.1, dispersion='gene-batch')"
   ]
  },
  {
   "cell_type": "code",
   "execution_count": null,
   "metadata": {
    "colab": {
     "base_uri": "https://localhost:8080/"
    },
    "id": "8AFM4fZSD8Lf",
    "outputId": "625eae8a-30df-4aa9-e9c5-2cd65d1cf780"
   },
   "outputs": [
    {
     "name": "stderr",
     "output_type": "stream",
     "text": [
      "/content/drive/MyDrive/ts_evaluation/annotation.py:179: SettingWithCopyWarning: \n",
      "A value is trying to be set on a copy of a slice from a DataFrame\n",
      "\n",
      "See the caveats in the documentation: https://pandas.pydata.org/pandas-docs/stable/user_guide/indexing.html#returning-a-view-versus-a-copy\n",
      "  adata.obs[result_key][test_idx] = knn_pred\n",
      "/usr/local/lib/python3.6/dist-packages/pandas/core/indexing.py:670: SettingWithCopyWarning: \n",
      "A value is trying to be set on a copy of a slice from a DataFrame\n",
      "\n",
      "See the caveats in the documentation: https://pandas.pydata.org/pandas-docs/stable/user_guide/indexing.html#returning-a-view-versus-a-copy\n",
      "  iloc._setitem_with_indexer(indexer, value)\n"
     ]
    }
   ],
   "source": [
    "train_idx = ref.obs_names\n",
    "test_idx = query.obs_names\n",
    "run_knn_on_scvi(adata,\n",
    "                train_idx,\n",
    "                test_idx, \n",
    "                obsm_key='X_scvi',\n",
    "                result_key='knn_on_scvi_pred')"
   ]
  },
  {
   "cell_type": "code",
   "execution_count": null,
   "metadata": {
    "id": "nxKwDZ6YaahH"
   },
   "outputs": [],
   "source": [
    "sc.pp.neighbors(adata, use_rep=\"X_scvi\")\n",
    "sc.tl.umap(adata)"
   ]
  },
  {
   "cell_type": "code",
   "execution_count": null,
   "metadata": {
    "id": "LVROCVtIaitY"
   },
   "outputs": [],
   "source": [
    "sc.pl.umap(\n",
    "    adata,\n",
    "    color=[\"method\", \"cell_ontology_type\"],\n",
    "    ncols=1\n",
    ")"
   ]
  },
  {
   "cell_type": "code",
   "execution_count": null,
   "metadata": {
    "id": "2KlGeIKQBUvd"
   },
   "outputs": [],
   "source": [
    "save_results(adata, \n",
    "             results_adata_path, \n",
    "             obs_keys=['knn_on_scvi_pred'], \n",
    "             obsm_keys=['X_scvi'])\n"
   ]
  },
  {
   "cell_type": "markdown",
   "metadata": {
    "id": "-5gm3-DCGKAn"
   },
   "source": [
    "## scvi online"
   ]
  },
  {
   "cell_type": "code",
   "execution_count": null,
   "metadata": {
    "colab": {
     "base_uri": "https://localhost:8080/"
    },
    "id": "6eK902ULGNPT",
    "outputId": "a2f906c3-f29e-4ffe-82b6-fba4047bc10e"
   },
   "outputs": [
    {
     "name": "stdout",
     "output_type": "stream",
     "text": [
      "\u001b[34mINFO    \u001b[0m Using batches from adata.obs\u001b[1m[\u001b[0m\u001b[32m\"_batch\"\u001b[0m\u001b[1m]\u001b[0m                                 \n",
      "\u001b[34mINFO    \u001b[0m Using labels from adata.obs\u001b[1m[\u001b[0m\u001b[32m\"_labels\"\u001b[0m\u001b[1m]\u001b[0m                                 \n",
      "\u001b[34mINFO    \u001b[0m Using data from adata.X                                                \n",
      "\u001b[34mINFO    \u001b[0m Computing library size prior per batch                                 \n",
      "\u001b[34mINFO    \u001b[0m Successfully registered anndata object containing \u001b[1;34m32704\u001b[0m cells, \u001b[1;34m4000\u001b[0m    \n",
      "         vars, \u001b[1;34m2\u001b[0m batches, \u001b[1;34m23\u001b[0m labels, and \u001b[1;34m0\u001b[0m proteins. Also registered \u001b[1;34m0\u001b[0m extra    \n",
      "         categorical covariates and \u001b[1;34m0\u001b[0m extra continuous covariates.              \n",
      "\u001b[34mINFO    \u001b[0m Please do not further modify adata until model is trained.             \n"
     ]
    }
   ],
   "source": [
    "importlib.reload(annotation)\n",
    "from annotation import run_scvi\n",
    "scvi.data.setup_anndata(ref, batch_key='_batch', labels_key='_labels')"
   ]
  },
  {
   "cell_type": "code",
   "execution_count": null,
   "metadata": {
    "colab": {
     "base_uri": "https://localhost:8080/"
    },
    "id": "_6LKgV4YGW1m",
    "outputId": "535d0fef-4285-4d7d-eb97-0543544333b9"
   },
   "outputs": [
    {
     "name": "stderr",
     "output_type": "stream",
     "text": [
      "/usr/local/lib/python3.6/dist-packages/pytorch_lightning/utilities/distributed.py:49: UserWarning: You have set progress_bar_refresh_rate < 20 on Google Colab. This may crash. Consider using progress_bar_refresh_rate >= 20 in Trainer.\n",
      "  warnings.warn(*args, **kwargs)\n",
      "GPU available: True, used: True\n",
      "TPU available: None, using: 0 TPU cores\n",
      "LOCAL_RANK: 0 - CUDA_VISIBLE_DEVICES: [0]\n"
     ]
    },
    {
     "name": "stdout",
     "output_type": "stream",
     "text": [
      "suh\n",
      "Epoch 1/245:   0%|          | 0/245 [00:00<?, ?it/s]"
     ]
    },
    {
     "name": "stderr",
     "output_type": "stream",
     "text": [
      "/usr/local/lib/python3.6/dist-packages/pytorch_lightning/utilities/distributed.py:49: UserWarning: you defined a validation_step but have no val_dataloader. Skipping validation loop\n",
      "  warnings.warn(*args, **kwargs)\n"
     ]
    },
    {
     "name": "stdout",
     "output_type": "stream",
     "text": [
      "Epoch 245/245: 100%|██████████| 245/245 [03:29<00:00,  1.17it/s, loss=1.01e+03, v_num=1]\n"
     ]
    }
   ],
   "source": [
    "run_scvi(ref, n_latent=50, dropout_rate=0.1, dispersion='gene-batch', \n",
    "         save_folder='/content/drive/MyDrive/Lung_eval/scvi_model')"
   ]
  },
  {
   "cell_type": "code",
   "execution_count": null,
   "metadata": {
    "id": "iUX00jAFG5aA"
   },
   "outputs": [],
   "source": [
    "def train_online_scvi(adata, \n",
    "                      pretrained_scvi_path,\n",
    "                      max_epochs=None,\n",
    "                      save_path=None,\n",
    "                      overwrite=True):\n",
    "  if max_epochs is None:\n",
    "    n_cells = adata.n_obs\n",
    "    max_epochs = np.min([round((20000 / n_cells) * 400), 400])\n",
    "    max_epochs = int(max_epochs/2)\n",
    "  \n",
    "  model = scvi.model.SCVI.load_query_data(adata,\n",
    "                                          pretrained_scvi_path)\n",
    "  model.train(max_epochs=max_epochs, \n",
    "              train_size=1.0)\n",
    "  adata.obsm['X_scvi'] = model.get_latent_representation()\n",
    "  if save_path is not None:\n",
    "    model.save(save_path, overwrite=overwrite)\n"
   ]
  },
  {
   "cell_type": "code",
   "execution_count": null,
   "metadata": {
    "colab": {
     "base_uri": "https://localhost:8080/"
    },
    "id": "6sofXL3-Mk6h",
    "outputId": "f7697702-f6c7-42b0-df89-2f15a18d8f7f"
   },
   "outputs": [
    {
     "name": "stdout",
     "output_type": "stream",
     "text": [
      "\u001b[34mINFO    \u001b[0m Using data from adata.X                                                \n",
      "\u001b[34mINFO    \u001b[0m Computing library size prior per batch                                 \n",
      "\u001b[34mINFO    \u001b[0m Registered keys:\u001b[1m[\u001b[0m\u001b[32m'X'\u001b[0m, \u001b[32m'batch_indices'\u001b[0m, \u001b[32m'local_l_mean'\u001b[0m, \u001b[32m'local_l_var'\u001b[0m,  \n",
      "         \u001b[32m'labels'\u001b[0m\u001b[1m]\u001b[0m                                                              \n",
      "\u001b[34mINFO    \u001b[0m Successfully registered anndata object containing \u001b[1;34m75071\u001b[0m cells, \u001b[1;34m4000\u001b[0m    \n",
      "         vars, \u001b[1;34m4\u001b[0m batches, \u001b[1;34m24\u001b[0m labels, and \u001b[1;34m0\u001b[0m proteins. Also registered \u001b[1;34m0\u001b[0m extra    \n",
      "         categorical covariates and \u001b[1;34m0\u001b[0m extra continuous covariates.              \n"
     ]
    },
    {
     "name": "stderr",
     "output_type": "stream",
     "text": [
      "/usr/local/lib/python3.6/dist-packages/pytorch_lightning/utilities/distributed.py:49: UserWarning: You have set progress_bar_refresh_rate < 20 on Google Colab. This may crash. Consider using progress_bar_refresh_rate >= 20 in Trainer.\n",
      "  warnings.warn(*args, **kwargs)\n",
      "GPU available: True, used: True\n",
      "TPU available: None, using: 0 TPU cores\n",
      "LOCAL_RANK: 0 - CUDA_VISIBLE_DEVICES: [0]\n"
     ]
    },
    {
     "name": "stdout",
     "output_type": "stream",
     "text": [
      "Epoch 1/53:   0%|          | 0/53 [00:00<?, ?it/s]"
     ]
    },
    {
     "name": "stderr",
     "output_type": "stream",
     "text": [
      "/usr/local/lib/python3.6/dist-packages/pytorch_lightning/utilities/distributed.py:49: UserWarning: you defined a validation_step but have no val_dataloader. Skipping validation loop\n",
      "  warnings.warn(*args, **kwargs)\n"
     ]
    },
    {
     "name": "stdout",
     "output_type": "stream",
     "text": [
      "Epoch 53/53: 100%|██████████| 53/53 [07:12<00:00,  8.15s/it, loss=1.21e+03, v_num=1]\n"
     ]
    }
   ],
   "source": [
    "train_online_scvi(query,\n",
    "                  '/content/drive/MyDrive/Lung_eval/scvi_model', \n",
    "                  save_path='/content/drive/MyDrive/Lung_eval/scarches_model')"
   ]
  },
  {
   "cell_type": "code",
   "execution_count": null,
   "metadata": {
    "colab": {
     "base_uri": "https://localhost:8080/"
    },
    "id": "-6cZpFSPQkHw",
    "outputId": "e4031381-2f18-4399-fac8-bced0f5bdbf1"
   },
   "outputs": [
    {
     "data": {
      "text/plain": [
       "AnnData object with n_obs × n_vars = 75071 × 4000\n",
       "    obs: 'cell_id', 'method', 'donor', 'cell_ontology_type', 'donor_method', 'cell_ontology_id', 'n_counts', 'n_genes', '_batch', '_labels', '_scvi_batch', '_scvi_labels', '_scvi_local_l_mean', '_scvi_local_l_var'\n",
       "    var: 'feature_types.0.0-0', 'n_cells.0.0-0', 'gene_symbol.0.0-0', 'n_cells.1.0-0', 'n_cells.0-0', 'n_cells.1.1-0', 'feature_types.0.0.0.1-0', 'gene_symbol.0.0.0.1-0', 'n_cells.1.0.0.1-0', 'n_cells.1.0.1-0', 'n_cells-0', 'len-0', 'ensembl_id-0', 'contamination_prop-0-0', 'contamination_prop-1-0', 'contamination_prop-10-0', 'contamination_prop-11-0', 'contamination_prop-12-0', 'contamination_prop-13-0', 'contamination_prop-14-0', 'contamination_prop-2-0', 'contamination_prop-3-0', 'contamination_prop-4-0', 'contamination_prop-5-0', 'contamination_prop-6-0', 'contamination_prop-7-0', 'contamination_prop-8-0', 'contamination_prop-9-0'\n",
       "    uns: '_scvi'\n",
       "    obsm: 'X_scvi'"
      ]
     },
     "execution_count": 29,
     "metadata": {
      "tags": []
     },
     "output_type": "execute_result"
    }
   ],
   "source": [
    "query"
   ]
  },
  {
   "cell_type": "code",
   "execution_count": null,
   "metadata": {
    "id": "cQTuwocgQtVn"
   },
   "outputs": [],
   "source": [
    "def run_knn_on_scvi(adata,\n",
    "                    train_idx,\n",
    "                    test_idx, \n",
    "                    obsm_key='X_scvi',\n",
    "                    result_key='knn_on_scvi_pred'):\n",
    "  \n",
    "  if obsm_key not in adata.obsm.keys(): \n",
    "    print('Please train scVI first or pass in a valid obsm_key.')\n",
    "  \n",
    "  train_X = adata[train_idx].obsm[obsm_key]\n",
    "  test_X = adata[test_idx].obsm[obsm_key]\n",
    "\n",
    "  train_Y = adata[train_idx].obs['_labels'].to_numpy()\n",
    "  knn = KNeighborsClassifier(n_neighbors = 15, weights='uniform')\n",
    "  knn.fit(train_X, train_Y)\n",
    "  knn_pred= knn.predict(test_X)\n",
    "\n",
    "  #save_results\n",
    "  adata.obs[result_key] = 'na'\n",
    "  adata.obs[result_key][test_idx] = knn_pred"
   ]
  },
  {
   "cell_type": "code",
   "execution_count": null,
   "metadata": {
    "id": "MhK3oB5vQ1fs"
   },
   "outputs": [],
   "source": [
    "obsm_key = 'X_scvi'\n",
    "train_X = ref.obsm[obsm_key]\n",
    "train_Y = ref.obs['_labels'].to_numpy()"
   ]
  },
  {
   "cell_type": "code",
   "execution_count": null,
   "metadata": {
    "id": "D-VweTD0Q-M-"
   },
   "outputs": [],
   "source": [
    "from sklearn.neighbors import KNeighborsClassifier\n",
    "\n",
    "knn = KNeighborsClassifier(n_neighbors = 15, weights='uniform')\n"
   ]
  },
  {
   "cell_type": "code",
   "execution_count": null,
   "metadata": {
    "colab": {
     "base_uri": "https://localhost:8080/"
    },
    "id": "7hiKEYdyRDJj",
    "outputId": "30680d11-9179-45d7-cdcd-647dd9b407e2"
   },
   "outputs": [
    {
     "data": {
      "text/plain": [
       "KNeighborsClassifier(algorithm='auto', leaf_size=30, metric='minkowski',\n",
       "                     metric_params=None, n_jobs=None, n_neighbors=15, p=2,\n",
       "                     weights='uniform')"
      ]
     },
     "execution_count": 34,
     "metadata": {
      "tags": []
     },
     "output_type": "execute_result"
    }
   ],
   "source": [
    "knn.fit(train_X, train_Y)"
   ]
  },
  {
   "cell_type": "code",
   "execution_count": null,
   "metadata": {
    "id": "FAeUjjbGRElv"
   },
   "outputs": [],
   "source": [
    "test_X = query.obsm[obsm_key]\n",
    "knn_pred= knn.predict(test_X)"
   ]
  },
  {
   "cell_type": "code",
   "execution_count": null,
   "metadata": {
    "id": "Qb6jlHEcRLlZ"
   },
   "outputs": [],
   "source": [
    "query.obs['knn_on_scvi_scarches_pred'] = knn_pred"
   ]
  },
  {
   "cell_type": "code",
   "execution_count": null,
   "metadata": {
    "colab": {
     "base_uri": "https://localhost:8080/"
    },
    "id": "C2WgKxhdQrDZ",
    "outputId": "5caf3c27-fcbe-4a05-ff20-10ef9b9a93d7"
   },
   "outputs": [
    {
     "name": "stderr",
     "output_type": "stream",
     "text": [
      "... storing 'cell_ontology_type' as categorical\n",
      "... storing '_batch' as categorical\n",
      "... storing '_labels' as categorical\n",
      "... storing 'knn_on_scvi_scarches_pred' as categorical\n"
     ]
    }
   ],
   "source": [
    "query.write('/content/drive/MyDrive/Lung_eval/scarches_results.h5ad', 'gzip')"
   ]
  },
  {
   "cell_type": "markdown",
   "metadata": {
    "id": "YBf60kCuE6W4"
   },
   "source": [
    "## scanvi offline"
   ]
  },
  {
   "cell_type": "code",
   "execution_count": null,
   "metadata": {
    "colab": {
     "base_uri": "https://localhost:8080/"
    },
    "id": "l3U-gIGWVrfQ",
    "outputId": "df9851c9-6287-4006-8432-c0db35da11b3"
   },
   "outputs": [
    {
     "data": {
      "text/plain": [
       "AnnData object with n_obs × n_vars = 33135 × 3463\n",
       "    obs: 'donor', 'method', 'donor_method', 'cell_ontology_type', 'cell_ontology_id', '_labels', '_batch', 'nCount_ADT', 'nFeature_ADT', 'nCount_RNA', 'nFeature_RNA', 'orig.ident', 'lane', 'time', 'celltype.l1', 'celltype.l2', 'celltype.l3', 'Phase', 'batch', '_scvi_batch', '_scvi_labels', '_scvi_local_l_mean', '_scvi_local_l_var'\n",
       "    var: 'feature_types.0.0-0-0', 'n_cells.0.0-0-0', 'gene_symbol.0.0-0-0', 'n_cells.1.0-0-0', 'n_cells.0-0-0', 'n_cells.1.1-0-0', 'feature_types.0.0.0.1-0-0', 'gene_symbol.0.0.0.1-0-0', 'n_cells.1.0.0.1-0-0', 'n_cells.1.0.1-0-0', 'n_cells-0-0', 'len-0-0', 'ensembl_id-0-0', 'contamination_prop-0-0-0', 'contamination_prop-1-0-0', 'contamination_prop-10-0-0', 'contamination_prop-11-0-0', 'contamination_prop-12-0-0', 'contamination_prop-13-0-0', 'contamination_prop-14-0-0', 'contamination_prop-2-0-0', 'contamination_prop-3-0-0', 'contamination_prop-4-0-0', 'contamination_prop-5-0-0', 'contamination_prop-6-0-0', 'contamination_prop-7-0-0', 'contamination_prop-8-0-0', 'contamination_prop-9-0-0', 'GeneName-1-0', 'GeneID-1-0', 'highly_variable-0', 'highly_variable_rank-0', 'means-0', 'variances-0', 'variances_norm-0', 'features-1', 'mean', 'std', 'highly_variable', 'highly_variable_rank', 'means', 'variances', 'variances_norm'\n",
       "    uns: 'log1p', 'hvg', '_scvi'\n",
       "    layers: 'counts'"
      ]
     },
     "execution_count": 25,
     "metadata": {
      "tags": []
     },
     "output_type": "execute_result"
    }
   ],
   "source": [
    "adata"
   ]
  },
  {
   "cell_type": "code",
   "execution_count": null,
   "metadata": {
    "colab": {
     "base_uri": "https://localhost:8080/"
    },
    "id": "7fAa6RyTOxAU",
    "outputId": "c0a8972d-07ea-4ea8-926a-b482e38eacb1"
   },
   "outputs": [
    {
     "name": "stdout",
     "output_type": "stream",
     "text": [
      "\u001b[34mINFO    \u001b[0m Training Unsupervised Trainer for \u001b[1;34m1\u001b[0m epochs.                            \n",
      "\u001b[34mINFO    \u001b[0m Training SemiSupervised Trainer for \u001b[1;34m1\u001b[0m epochs.                          \n"
     ]
    },
    {
     "name": "stderr",
     "output_type": "stream",
     "text": [
      "/usr/local/lib/python3.6/dist-packages/pytorch_lightning/utilities/distributed.py:49: UserWarning: You have set progress_bar_refresh_rate < 20 on Google Colab. This may crash. Consider using progress_bar_refresh_rate >= 20 in Trainer.\n",
      "  warnings.warn(*args, **kwargs)\n",
      "GPU available: True, used: True\n",
      "TPU available: None, using: 0 TPU cores\n",
      "LOCAL_RANK: 0 - CUDA_VISIBLE_DEVICES: [0]\n"
     ]
    },
    {
     "name": "stdout",
     "output_type": "stream",
     "text": [
      "Epoch 1/1:   0%|          | 0/1 [00:00<?, ?it/s]"
     ]
    },
    {
     "name": "stderr",
     "output_type": "stream",
     "text": [
      "/usr/local/lib/python3.6/dist-packages/pytorch_lightning/utilities/distributed.py:49: UserWarning: you defined a validation_step but have no val_dataloader. Skipping validation loop\n",
      "  warnings.warn(*args, **kwargs)\n"
     ]
    },
    {
     "name": "stdout",
     "output_type": "stream",
     "text": [
      "Epoch 1/1: 100%|██████████| 1/1 [00:00<00:00,  1.03it/s, loss=1.18e+03, v_num=1]"
     ]
    },
    {
     "name": "stderr",
     "output_type": "stream",
     "text": [
      "GPU available: True, used: True\n",
      "TPU available: None, using: 0 TPU cores\n",
      "LOCAL_RANK: 0 - CUDA_VISIBLE_DEVICES: [0]\n"
     ]
    },
    {
     "name": "stdout",
     "output_type": "stream",
     "text": [
      "\n",
      "Epoch 1/1: 100%|██████████| 1/1 [00:01<00:00,  1.73s/it, loss=1.25e+03, v_num=1]\n"
     ]
    }
   ],
   "source": [
    "run_scanvi(adata, n_latent=100, dropout_rate=0.1, \n",
    "           n_epochs_semisupervised=1,\n",
    "           n_epochs_unsupervised=1, \n",
    "           save_folder = 'thymus_scanvi')"
   ]
  },
  {
   "cell_type": "code",
   "execution_count": null,
   "metadata": {
    "id": "1IhXyZ2iO8Pw"
   },
   "outputs": [],
   "source": [
    "save_results(adata, \n",
    "             results_adata_path, \n",
    "             obs_keys=['scanvi_pred'])"
   ]
  },
  {
   "cell_type": "markdown",
   "metadata": {
    "id": "W_3t2ew6OxkJ"
   },
   "source": [
    "## scanvi online"
   ]
  },
  {
   "cell_type": "code",
   "execution_count": null,
   "metadata": {
    "colab": {
     "base_uri": "https://localhost:8080/"
    },
    "id": "G7e7wXayfUtm",
    "outputId": "543dbac9-865a-4689-ca9b-25a05a3f1a15"
   },
   "outputs": [
    {
     "name": "stdout",
     "output_type": "stream",
     "text": [
      "\u001b[34mINFO    \u001b[0m Using batches from adata.obs\u001b[1m[\u001b[0m\u001b[32m\"_batch\"\u001b[0m\u001b[1m]\u001b[0m                                 \n",
      "\u001b[34mINFO    \u001b[0m Using labels from adata.obs\u001b[1m[\u001b[0m\u001b[32m\"_labels\"\u001b[0m\u001b[1m]\u001b[0m                                 \n",
      "\u001b[34mINFO    \u001b[0m Using data from adata.X                                                \n",
      "\u001b[34mINFO    \u001b[0m Computing library size prior per batch                                 \n",
      "\u001b[34mINFO    \u001b[0m Successfully registered anndata object containing \u001b[1;34m12582\u001b[0m cells, \u001b[1;34m4000\u001b[0m    \n",
      "         vars, \u001b[1;34m2\u001b[0m batches, \u001b[1;34m23\u001b[0m labels, and \u001b[1;34m0\u001b[0m proteins. Also registered \u001b[1;34m0\u001b[0m extra    \n",
      "         categorical covariates and \u001b[1;34m0\u001b[0m extra continuous covariates.              \n",
      "\u001b[34mINFO    \u001b[0m Please do not further modify adata until model is trained.             \n"
     ]
    }
   ],
   "source": [
    "scvi.data.setup_anndata(ref, batch_key='_batch', labels_key='_labels')"
   ]
  },
  {
   "cell_type": "code",
   "execution_count": null,
   "metadata": {
    "colab": {
     "base_uri": "https://localhost:8080/"
    },
    "id": "Gv7gnPyRFsyZ",
    "outputId": "96f1d729-04f2-43ff-e96c-0abfe4e3a166"
   },
   "outputs": [
    {
     "name": "stdout",
     "output_type": "stream",
     "text": [
      "\u001b[34mINFO    \u001b[0m Training Unsupervised Trainer for \u001b[1;34m400\u001b[0m epochs.                          \n",
      "\u001b[34mINFO    \u001b[0m Training SemiSupervised Trainer for \u001b[1;34m400\u001b[0m epochs.                        \n"
     ]
    },
    {
     "name": "stderr",
     "output_type": "stream",
     "text": [
      "/usr/local/lib/python3.6/dist-packages/pytorch_lightning/utilities/distributed.py:49: UserWarning: You have set progress_bar_refresh_rate < 20 on Google Colab. This may crash. Consider using progress_bar_refresh_rate >= 20 in Trainer.\n",
      "  warnings.warn(*args, **kwargs)\n",
      "GPU available: True, used: True\n",
      "TPU available: None, using: 0 TPU cores\n",
      "LOCAL_RANK: 0 - CUDA_VISIBLE_DEVICES: [0]\n"
     ]
    },
    {
     "name": "stdout",
     "output_type": "stream",
     "text": [
      "Epoch 1/400:   0%|          | 0/400 [00:00<?, ?it/s]"
     ]
    },
    {
     "name": "stderr",
     "output_type": "stream",
     "text": [
      "/usr/local/lib/python3.6/dist-packages/pytorch_lightning/utilities/distributed.py:49: UserWarning: you defined a validation_step but have no val_dataloader. Skipping validation loop\n",
      "  warnings.warn(*args, **kwargs)\n"
     ]
    },
    {
     "name": "stdout",
     "output_type": "stream",
     "text": [
      "Epoch 400/400: 100%|██████████| 400/400 [03:33<00:00,  1.88it/s, loss=964, v_num=1]"
     ]
    },
    {
     "name": "stderr",
     "output_type": "stream",
     "text": [
      "GPU available: True, used: True\n",
      "TPU available: None, using: 0 TPU cores\n",
      "LOCAL_RANK: 0 - CUDA_VISIBLE_DEVICES: [0]\n"
     ]
    },
    {
     "name": "stdout",
     "output_type": "stream",
     "text": [
      "\n",
      "Epoch 400/400: 100%|██████████| 400/400 [06:06<00:00,  1.09it/s, loss=1.06e+03, v_num=1]\n"
     ]
    }
   ],
   "source": [
    "run_scanvi(ref, n_latent=100, dropout_rate=0.1, \n",
    "           n_epochs_semisupervised=None,\n",
    "           n_epochs_unsupervised=None, \n",
    "           save_folder = 'thymus_scanvi')\n"
   ]
  },
  {
   "cell_type": "code",
   "execution_count": null,
   "metadata": {
    "id": "z3pjTrI-D3O_"
   },
   "outputs": [],
   "source": [
    "def train_online_scanvi(adata, \n",
    "                        pretrained_scanvi_path,\n",
    "                        max_epochs=None,\n",
    "                        trainer_kwargs=None,\n",
    "                        n_samples_per_label=100,\n",
    "                        save_path=None,\n",
    "                        overwrite=True):\n",
    "  if max_epochs is None:\n",
    "    n_cells = adata.n_obs\n",
    "    max_epochs = np.min([round((20000 / n_cells) * 400), 400])\n",
    "    max_epochs = int(max_epochs/2)\n",
    "\n",
    "  model = scvi.model.SCANVI.load_query_data(adata, \n",
    "                                            pretrained_scanvi_path, \n",
    "                                            freeze_classifier=True)\n",
    "  model.train(max_epochs = max_epochs, \n",
    "              train_size =1.0,\n",
    "              n_samples_per_label=n_samples_per_label)\n",
    "  if save_path is not None:\n",
    "    model.save(save_path, overwrite=overwrite)"
   ]
  },
  {
   "cell_type": "code",
   "execution_count": null,
   "metadata": {
    "colab": {
     "base_uri": "https://localhost:8080/"
    },
    "id": "1_csAjP9cadI",
    "outputId": "de26f930-ddae-4ad5-dd22-3e4839961a47"
   },
   "outputs": [
    {
     "name": "stdout",
     "output_type": "stream",
     "text": [
      "\u001b[34mINFO    \u001b[0m Using data from adata.X                                                \n",
      "\u001b[34mINFO    \u001b[0m Computing library size prior per batch                                 \n",
      "\u001b[34mINFO    \u001b[0m Registered keys:\u001b[1m[\u001b[0m\u001b[32m'X'\u001b[0m, \u001b[32m'batch_indices'\u001b[0m, \u001b[32m'local_l_mean'\u001b[0m, \u001b[32m'local_l_var'\u001b[0m,  \n",
      "         \u001b[32m'labels'\u001b[0m\u001b[1m]\u001b[0m                                                              \n",
      "\u001b[34mINFO    \u001b[0m Successfully registered anndata object containing \u001b[1;34m255827\u001b[0m cells, \u001b[1;34m4000\u001b[0m   \n",
      "         vars, \u001b[1;34m4\u001b[0m batches, \u001b[1;34m24\u001b[0m labels, and \u001b[1;34m0\u001b[0m proteins. Also registered \u001b[1;34m0\u001b[0m extra    \n",
      "         categorical covariates and \u001b[1;34m0\u001b[0m extra continuous covariates.              \n",
      "\u001b[34mINFO    \u001b[0m Training Unsupervised Trainer for \u001b[1;34m31\u001b[0m epochs.                           \n",
      "\u001b[34mINFO    \u001b[0m Training SemiSupervised Trainer for \u001b[1;34m10\u001b[0m epochs.                         \n"
     ]
    },
    {
     "name": "stderr",
     "output_type": "stream",
     "text": [
      "/usr/local/lib/python3.6/dist-packages/pytorch_lightning/utilities/distributed.py:49: UserWarning: You have set progress_bar_refresh_rate < 20 on Google Colab. This may crash. Consider using progress_bar_refresh_rate >= 20 in Trainer.\n",
      "  warnings.warn(*args, **kwargs)\n",
      "GPU available: True, used: True\n",
      "TPU available: None, using: 0 TPU cores\n",
      "LOCAL_RANK: 0 - CUDA_VISIBLE_DEVICES: [0]\n",
      "GPU available: True, used: True\n",
      "TPU available: None, using: 0 TPU cores\n",
      "LOCAL_RANK: 0 - CUDA_VISIBLE_DEVICES: [0]\n"
     ]
    },
    {
     "name": "stdout",
     "output_type": "stream",
     "text": [
      "Epoch 1/10:   0%|          | 0/10 [00:00<?, ?it/s]"
     ]
    },
    {
     "name": "stderr",
     "output_type": "stream",
     "text": [
      "/usr/local/lib/python3.6/dist-packages/pytorch_lightning/utilities/distributed.py:49: UserWarning: you defined a validation_step but have no val_dataloader. Skipping validation loop\n",
      "  warnings.warn(*args, **kwargs)\n"
     ]
    },
    {
     "name": "stdout",
     "output_type": "stream",
     "text": [
      "Epoch 10/10: 100%|██████████| 10/10 [02:14<00:00, 13.46s/it, loss=1.8e+03, v_num=1]\n"
     ]
    }
   ],
   "source": [
    "train_online_scanvi(query,\n",
    "                    pretrained_scanvi_path='thymus_scanvi/scanvi_model', \n",
    "                    semisupervised_trainer_kwargs=dict(weight_decay=0.0),\n",
    "                    save_path='/content/drive/MyDrive/Thymus_eval/scanvi_online')"
   ]
  },
  {
   "cell_type": "code",
   "execution_count": null,
   "metadata": {
    "colab": {
     "base_uri": "https://localhost:8080/"
    },
    "id": "JhNUMlpjb2CC",
    "outputId": "bc8e825c-817a-4bef-da57-7c3b232663cb"
   },
   "outputs": [
    {
     "name": "stdout",
     "output_type": "stream",
     "text": [
      "\u001b[34mINFO    \u001b[0m Using data from adata.X                                                \n",
      "\u001b[34mINFO    \u001b[0m Computing library size prior per batch                                 \n",
      "\u001b[34mINFO    \u001b[0m Registered keys:\u001b[1m[\u001b[0m\u001b[32m'X'\u001b[0m, \u001b[32m'batch_indices'\u001b[0m, \u001b[32m'local_l_mean'\u001b[0m, \u001b[32m'local_l_var'\u001b[0m,  \n",
      "         \u001b[32m'labels'\u001b[0m\u001b[1m]\u001b[0m                                                              \n",
      "\u001b[34mINFO    \u001b[0m Successfully registered anndata object containing \u001b[1;34m255827\u001b[0m cells, \u001b[1;34m4000\u001b[0m   \n",
      "         vars, \u001b[1;34m4\u001b[0m batches, \u001b[1;34m24\u001b[0m labels, and \u001b[1;34m0\u001b[0m proteins. Also registered \u001b[1;34m0\u001b[0m extra    \n",
      "         categorical covariates and \u001b[1;34m0\u001b[0m extra continuous covariates.              \n"
     ]
    }
   ],
   "source": [
    "m = scvi.model.SCANVI.load('/content/drive/MyDrive/Thymus_eval/scanvi_online/', query)\n",
    "adata.obs['scanvi_online_pred']= 'na'\n",
    "adata.obs['scanvi_online_pred'][query.obs_names] = m.predict()"
   ]
  },
  {
   "cell_type": "code",
   "execution_count": null,
   "metadata": {
    "colab": {
     "base_uri": "https://localhost:8080/"
    },
    "id": "sw4U8yF0sA-n",
    "outputId": "93999a6c-aa42-43e7-a9bc-52b02a530b54"
   },
   "outputs": [
    {
     "name": "stderr",
     "output_type": "stream",
     "text": [
      "... storing 'scanvi_online_pred' as categorical\n"
     ]
    }
   ],
   "source": [
    "save_results(adata, \n",
    "             results_adata_path, \n",
    "             obs_keys=['scanvi_online_pred'])"
   ]
  },
  {
   "cell_type": "markdown",
   "metadata": {
    "id": "uQbXrED4GXDl"
   },
   "source": [
    "## SVM on HVGs"
   ]
  },
  {
   "cell_type": "code",
   "execution_count": null,
   "metadata": {
    "colab": {
     "base_uri": "https://localhost:8080/"
    },
    "id": "73HcQjgsGWdo",
    "outputId": "ad1819f8-5403-4e75-b806-f57f8706ff2a"
   },
   "outputs": [
    {
     "name": "stdout",
     "output_type": "stream",
     "text": [
      "(1827, 4000)\n"
     ]
    },
    {
     "name": "stderr",
     "output_type": "stream",
     "text": [
      "/usr/local/lib/python3.6/dist-packages/sklearn/svm/_base.py:947: ConvergenceWarning: Liblinear failed to converge, increase the number of iterations.\n",
      "  \"the number of iterations.\", ConvergenceWarning)\n",
      "/content/drive/MyDrive/ts_evaluation/annotation.py:129: SettingWithCopyWarning: \n",
      "A value is trying to be set on a copy of a slice from a DataFrame\n",
      "\n",
      "See the caveats in the documentation: https://pandas.pydata.org/pandas-docs/stable/user_guide/indexing.html#returning-a-view-versus-a-copy\n",
      "  adata.obs['svm_pred'][test_idx] = svm_pred\n",
      "/usr/local/lib/python3.6/dist-packages/pandas/core/indexing.py:670: SettingWithCopyWarning: \n",
      "A value is trying to be set on a copy of a slice from a DataFrame\n",
      "\n",
      "See the caveats in the documentation: https://pandas.pydata.org/pandas-docs/stable/user_guide/indexing.html#returning-a-view-versus-a-copy\n",
      "  iloc._setitem_with_indexer(indexer, value)\n"
     ]
    },
    {
     "data": {
      "text/plain": [
       "AnnData object with n_obs × n_vars = 268409 × 4000\n",
       "    obs: 'donor', 'method', 'donor_method', 'cell_ontology_type', '_labels', '_batch', 'batch', '_scvi_batch', '_scvi_labels', '_scvi_local_l_mean', '_scvi_local_l_var', 'svm_pred'\n",
       "    var: 'feature_types.0.0-0', 'n_cells.0.0-0', 'gene_symbol.0.0-0', 'n_cells.1.0-0', 'n_cells.0-0', 'n_cells.1.1-0', 'feature_types.0.0.0.1-0', 'gene_symbol.0.0.0.1-0', 'n_cells.1.0.0.1-0', 'n_cells.1.0.1-0', 'n_cells-0', 'len-0', 'ensembl_id-0', 'contamination_prop-0-0', 'contamination_prop-1-0', 'contamination_prop-10-0', 'contamination_prop-11-0', 'contamination_prop-12-0', 'contamination_prop-13-0', 'contamination_prop-14-0', 'contamination_prop-2-0', 'contamination_prop-3-0', 'contamination_prop-4-0', 'contamination_prop-5-0', 'contamination_prop-6-0', 'contamination_prop-7-0', 'contamination_prop-8-0', 'contamination_prop-9-0', 'highly_variable-0', 'highly_variable_rank-0', 'means-0', 'variances-0', 'variances_norm-0', 'GeneName-1', 'GeneID-1', 'mean', 'std', 'highly_variable', 'highly_variable_rank', 'means', 'variances', 'variances_norm'\n",
       "    uns: 'log1p', 'hvg', '_scvi'\n",
       "    layers: 'counts'"
      ]
     },
     "execution_count": 12,
     "metadata": {
      "tags": []
     },
     "output_type": "execute_result"
    }
   ],
   "source": [
    "train_idx = subsample_dataset(adata[ref.obs_names],ref_labels_key)\n",
    "run_svm_on_hvg(adata, train_idx, query.obs_names)"
   ]
  },
  {
   "cell_type": "code",
   "execution_count": null,
   "metadata": {
    "colab": {
     "base_uri": "https://localhost:8080/"
    },
    "id": "wliPOQ684jJy",
    "outputId": "7db8915d-8ec7-4f63-f8cd-6bab32600c6f"
   },
   "outputs": [
    {
     "name": "stderr",
     "output_type": "stream",
     "text": [
      "... storing 'svm_pred' as categorical\n"
     ]
    }
   ],
   "source": [
    "save_results(adata, \n",
    "             results_adata_path, \n",
    "             obs_keys=['svm_pred'])"
   ]
  },
  {
   "cell_type": "markdown",
   "metadata": {
    "id": "D8TKxrjzEZbD"
   },
   "source": [
    "## Random Forest on HVGs"
   ]
  },
  {
   "cell_type": "code",
   "execution_count": null,
   "metadata": {
    "colab": {
     "base_uri": "https://localhost:8080/"
    },
    "id": "I_yTCVo4EYOs",
    "outputId": "8f75f66d-51b1-450b-827e-32b2605487d9"
   },
   "outputs": [
    {
     "name": "stdout",
     "output_type": "stream",
     "text": [
      "Training random forest classifier with ['CD8-positive, alpha-beta T cell' 'CD8-positive, alpha-beta T cell'\n",
      " 'CD8-positive, alpha-beta T cell' ... 'thymocyte' 'thymocyte' 'thymocyte'] cells\n"
     ]
    },
    {
     "name": "stderr",
     "output_type": "stream",
     "text": [
      "/content/drive/MyDrive/ts_evaluation/annotation.py:130: SettingWithCopyWarning: \n",
      "A value is trying to be set on a copy of a slice from a DataFrame\n",
      "\n",
      "See the caveats in the documentation: https://pandas.pydata.org/pandas-docs/stable/user_guide/indexing.html#returning-a-view-versus-a-copy\n",
      "  adata.obs[save_key][test_idx] = rf_pred\n",
      "/usr/local/lib/python3.6/dist-packages/pandas/core/indexing.py:670: SettingWithCopyWarning: \n",
      "A value is trying to be set on a copy of a slice from a DataFrame\n",
      "\n",
      "See the caveats in the documentation: https://pandas.pydata.org/pandas-docs/stable/user_guide/indexing.html#returning-a-view-versus-a-copy\n",
      "  iloc._setitem_with_indexer(indexer, value)\n"
     ]
    }
   ],
   "source": [
    "train_idx = subsample_dataset(adata[ref.obs_names],ref_labels_key)\n",
    "run_rf_on_hvg(adata, train_idx, query.obs_names, save_key='rf_on_hvg_pred')"
   ]
  },
  {
   "cell_type": "code",
   "execution_count": null,
   "metadata": {
    "colab": {
     "base_uri": "https://localhost:8080/"
    },
    "id": "o49V3j5A7HDX",
    "outputId": "fc8cd9bc-3d3f-4299-e552-2f1fe52a337a"
   },
   "outputs": [
    {
     "name": "stderr",
     "output_type": "stream",
     "text": [
      "... storing 'rf_on_hvg_pred' as categorical\n"
     ]
    }
   ],
   "source": [
    "save_results(adata, \n",
    "             results_adata_path, \n",
    "             obs_keys=['rf_on_hvg_pred'])"
   ]
  },
  {
   "cell_type": "markdown",
   "metadata": {
    "id": "dWWQJXKqEl3B"
   },
   "source": [
    "## OnClass"
   ]
  },
  {
   "cell_type": "code",
   "execution_count": null,
   "metadata": {
    "colab": {
     "base_uri": "https://localhost:8080/"
    },
    "id": "4ekLujw5FcWK",
    "outputId": "f13aa9f6-e122-4291-f1c3-17befaf5f7ce"
   },
   "outputs": [
    {
     "name": "stdout",
     "output_type": "stream",
     "text": [
      "/content/drive/MyDrive/PBMC/multi.new.h5ad\n",
      "/content/drive/MyDrive/PBMC/pbmc_query.h5ad\n",
      "init OnClass\n",
      "100.000000 precentage of labels are in the Cell Ontology\n"
     ]
    },
    {
     "name": "stderr",
     "output_type": "stream",
     "text": [
      "/usr/local/lib/python3.6/dist-packages/numpy/lib/format.py:350: UserWarning: metadata on a dtype may be saved or ignored, but will raise if saved when read. Use another form of storage.\n",
      "  d['descr'] = dtype_to_descr(array.dtype)\n"
     ]
    },
    {
     "name": "stdout",
     "output_type": "stream",
     "text": [
      "Cost after epoch 1: loss:3180.003 acc: 0.875 auc: 0.996\n",
      "Cost after epoch 2: loss:1536.538 acc: 0.883 auc: 0.996\n",
      "training finished\n",
      "no label file is provided\n",
      "5527\n",
      "number of intersection genes 20713\n",
      "5527 5527\n"
     ]
    },
    {
     "name": "stderr",
     "output_type": "stream",
     "text": [
      "/content/drive/MyDrive/ts_evaluation/annotation.py:213: SettingWithCopyWarning: \n",
      "A value is trying to be set on a copy of a slice from a DataFrame\n",
      "\n",
      "See the caveats in the documentation: https://pandas.pydata.org/pandas-docs/stable/user_guide/indexing.html#returning-a-view-versus-a-copy\n",
      "  adata.obs['onclass_pred'][test_adata.obs_names]=test_adata.obs['onclass_pred']\n",
      "/usr/local/lib/python3.6/dist-packages/pandas/core/indexing.py:670: SettingWithCopyWarning: \n",
      "A value is trying to be set on a copy of a slice from a DataFrame\n",
      "\n",
      "See the caveats in the documentation: https://pandas.pydata.org/pandas-docs/stable/user_guide/indexing.html#returning-a-view-versus-a-copy\n",
      "  iloc._setitem_with_indexer(indexer, value)\n"
     ]
    },
    {
     "data": {
      "text/plain": [
       "AnnData object with n_obs × n_vars = 26080 × 4000\n",
       "    obs: 'nCount_ADT', 'nFeature_ADT', 'nCount_RNA', 'nFeature_RNA', 'orig.ident', 'lane', 'donor', 'time', 'celltype.l1', 'celltype.l2', 'celltype.l3', 'Phase', 'cell_ontology_type', 'method', 'cell_ontology_id', '_labels', '_batch', 'batch', '_scvi_batch', '_scvi_labels', '_scvi_local_l_mean', '_scvi_local_l_var', 'onclass_pred'\n",
       "    var: 'features-0', 'gene_ids-1', 'feature_types-1', 'genome-1', 'mean', 'std', 'highly_variable', 'highly_variable_rank', 'means', 'variances', 'variances_norm'\n",
       "    uns: 'log1p', 'hvg', '_scvi'\n",
       "    layers: 'counts'"
      ]
     },
     "execution_count": 17,
     "metadata": {
      "tags": []
     },
     "output_type": "execute_result"
    }
   ],
   "source": [
    "print(ref_path)\n",
    "print(query_path)\n",
    "\n",
    "run_onclass(adata=adata, \n",
    "            max_iter=2,\n",
    "            ref_adata_path=ref_path,\n",
    "            query_adata_path=query_path, \n",
    "            cl_obo_file=cl_obo_file, \n",
    "            cl_ontology_file=cl_ontology_file)"
   ]
  },
  {
   "cell_type": "code",
   "execution_count": null,
   "metadata": {
    "colab": {
     "base_uri": "https://localhost:8080/"
    },
    "id": "7JESRMgloan7",
    "outputId": "129e7857-2203-4417-e100-d03e94bdbb5e"
   },
   "outputs": [
    {
     "name": "stderr",
     "output_type": "stream",
     "text": [
      "... storing 'onclass_pred' as categorical\n"
     ]
    }
   ],
   "source": [
    "save_results(adata, \n",
    "             results_adata_path, \n",
    "             obs_keys=['onclass_pred'])"
   ]
  },
  {
   "cell_type": "markdown",
   "metadata": {
    "id": "VWdpr2yD72V6"
   },
   "source": [
    "# Statistics"
   ]
  },
  {
   "cell_type": "code",
   "execution_count": null,
   "metadata": {
    "id": "txzgzulMcBeY"
   },
   "outputs": [],
   "source": [
    "# save results to this directory\n",
    "res_path = '/content/drive/MyDrive/Thymus_eval/output/'\n",
    "sc.settings.figdir = res_path"
   ]
  },
  {
   "cell_type": "markdown",
   "metadata": {
    "id": "IsOlpUfzFMd2"
   },
   "source": [
    "## Compute Agreement and Disagreement"
   ]
  },
  {
   "cell_type": "code",
   "execution_count": null,
   "metadata": {
    "id": "B2xdrDQe70qQ"
   },
   "outputs": [],
   "source": [
    "# TODO change to path of results\n",
    "# results = anndata.read('/content/drive/MyDrive/Lung_eval/new_api_ts_as_ref/results.h5ad')\n",
    "results = anndata.read(results_adata_path)"
   ]
  },
  {
   "cell_type": "code",
   "execution_count": null,
   "metadata": {
    "id": "8-DLoulGcJ3a"
   },
   "outputs": [],
   "source": [
    "results.obs['cell_ontology_type'] = adata.obs['cell_ontology_type']"
   ]
  },
  {
   "cell_type": "code",
   "execution_count": null,
   "metadata": {
    "id": "VGwM12rtaOZx"
   },
   "outputs": [],
   "source": [
    "methods = ['knn_on_bbknn_pred',\n",
    " 'knn_on_scanorama_pred',\n",
    " 'knn_on_scvi_pred',\n",
    " 'scanvi_pred',\n",
    " 'onclass_pred',\n",
    " 'svm_on_hvg_pred',\n",
    " 'rf_on_hvg_pred']\n",
    "\n",
    "labels = results.obs['cell_ontology_type'].str.lower()"
   ]
  },
  {
   "cell_type": "markdown",
   "metadata": {
    "id": "WzLmiDqDXey3"
   },
   "source": [
    "### make all celltype names lower case to accommadate onclass predictions"
   ]
  },
  {
   "cell_type": "code",
   "execution_count": null,
   "metadata": {
    "id": "HGm0rYEvXbAa"
   },
   "outputs": [],
   "source": [
    "for x in methods:\n",
    "    results.obs[x] = [y.lower() for y in results.obs[x]]"
   ]
  },
  {
   "cell_type": "code",
   "execution_count": null,
   "metadata": {
    "id": "hzSmyDEvajd0"
   },
   "outputs": [],
   "source": [
    "ref_cells = results.obs['_labels'].values!='unknown'"
   ]
  },
  {
   "cell_type": "markdown",
   "metadata": {
    "id": "opvcCvbLcVC0"
   },
   "source": [
    "### Overall agreement\n"
   ]
  },
  {
   "cell_type": "code",
   "execution_count": null,
   "metadata": {
    "id": "RewCvZqxaMzc"
   },
   "outputs": [],
   "source": [
    "agreement = results.obs[methods].apply(MajorityCount, axis=1)\n",
    "agreement[ref_cells] = 0 \n",
    "results.obs[\"majority_pred\"] = results.obs[methods].apply(MajorityVote, axis=1)\n",
    "results.obs[\"agreement\"] = agreement.values.round(2).astype(str)"
   ]
  },
  {
   "cell_type": "code",
   "execution_count": null,
   "metadata": {
    "colab": {
     "base_uri": "https://localhost:8080/",
     "height": 269
    },
    "id": "Rm1P6jKLbHpr",
    "outputId": "e83cefe9-3f37-4607-d5a9-adccba41023c"
   },
   "outputs": [
    {
     "data": {
      "text/html": [
       "<div>\n",
       "<style scoped>\n",
       "    .dataframe tbody tr th:only-of-type {\n",
       "        vertical-align: middle;\n",
       "    }\n",
       "\n",
       "    .dataframe tbody tr th {\n",
       "        vertical-align: top;\n",
       "    }\n",
       "\n",
       "    .dataframe thead th {\n",
       "        text-align: right;\n",
       "    }\n",
       "</style>\n",
       "<table border=\"1\" class=\"dataframe\">\n",
       "  <thead>\n",
       "    <tr style=\"text-align: right;\">\n",
       "      <th></th>\n",
       "      <th>n_agree</th>\n",
       "      <th>count</th>\n",
       "      <th>freq</th>\n",
       "    </tr>\n",
       "  </thead>\n",
       "  <tbody>\n",
       "    <tr>\n",
       "      <th>0</th>\n",
       "      <td>1</td>\n",
       "      <td>1</td>\n",
       "      <td>1.33207e-05</td>\n",
       "    </tr>\n",
       "    <tr>\n",
       "      <th>1</th>\n",
       "      <td>2</td>\n",
       "      <td>57</td>\n",
       "      <td>0.000759281</td>\n",
       "    </tr>\n",
       "    <tr>\n",
       "      <th>2</th>\n",
       "      <td>3</td>\n",
       "      <td>586</td>\n",
       "      <td>0.00780594</td>\n",
       "    </tr>\n",
       "    <tr>\n",
       "      <th>3</th>\n",
       "      <td>4</td>\n",
       "      <td>1849</td>\n",
       "      <td>0.02463</td>\n",
       "    </tr>\n",
       "    <tr>\n",
       "      <th>4</th>\n",
       "      <td>5</td>\n",
       "      <td>3155</td>\n",
       "      <td>0.0420269</td>\n",
       "    </tr>\n",
       "    <tr>\n",
       "      <th>5</th>\n",
       "      <td>6</td>\n",
       "      <td>13097</td>\n",
       "      <td>0.174462</td>\n",
       "    </tr>\n",
       "    <tr>\n",
       "      <th>6</th>\n",
       "      <td>7</td>\n",
       "      <td>56326</td>\n",
       "      <td>0.750303</td>\n",
       "    </tr>\n",
       "  </tbody>\n",
       "</table>\n",
       "</div>"
      ],
      "text/plain": [
       "   n_agree  count         freq\n",
       "0        1      1  1.33207e-05\n",
       "1        2     57  0.000759281\n",
       "2        3    586   0.00780594\n",
       "3        4   1849      0.02463\n",
       "4        5   3155    0.0420269\n",
       "5        6  13097     0.174462\n",
       "6        7  56326     0.750303"
      ]
     },
     "metadata": {
      "tags": []
     },
     "output_type": "display_data"
    }
   ],
   "source": [
    "#@markdown this computes the percentage of cells that the algorithms agree/disagree on \n",
    "agreement_counts = pd.DataFrame(\n",
    "    np.unique(results[~ref_cells].obs[\"agreement\"], return_counts=True)\n",
    ").T\n",
    "\n",
    "agreement_counts[0] = np.round(agreement_counts[0].astype(float) * 7).astype(int)\n",
    "agreement_counts[\"freq\"] = agreement_counts[1] / np.sum(agreement_counts[1])\n",
    "agreement_counts.columns = [\"n_agree\", \"count\", \"freq\"]\n",
    "display(agreement_counts)"
   ]
  },
  {
   "cell_type": "markdown",
   "metadata": {
    "id": "bHKnm50CciI1"
   },
   "source": [
    "### which algorithm tends to be the disagreement? "
   ]
  },
  {
   "cell_type": "code",
   "execution_count": null,
   "metadata": {
    "colab": {
     "base_uri": "https://localhost:8080/",
     "height": 310
    },
    "id": "8vA53vHKcg4-",
    "outputId": "3000a4c5-7796-4c76-ff17-9c90dd90bb96"
   },
   "outputs": [
    {
     "ename": "FileNotFoundError",
     "evalue": "ignored",
     "output_type": "error",
     "traceback": [
      "\u001b[0;31m---------------------------------------------------------------------------\u001b[0m",
      "\u001b[0;31mFileNotFoundError\u001b[0m                         Traceback (most recent call last)",
      "\u001b[0;32m<ipython-input-39-76d7c5e19059>\u001b[0m in \u001b[0;36m<module>\u001b[0;34m()\u001b[0m\n\u001b[0;32m----> 1\u001b[0;31m \u001b[0magreement_counts\u001b[0m\u001b[0;34m.\u001b[0m\u001b[0mto_csv\u001b[0m\u001b[0;34m(\u001b[0m\u001b[0mres_path\u001b[0m \u001b[0;34m+\u001b[0m \u001b[0;34m'agreement_counts.csv'\u001b[0m\u001b[0;34m)\u001b[0m\u001b[0;34m\u001b[0m\u001b[0;34m\u001b[0m\u001b[0m\n\u001b[0m",
      "\u001b[0;32m/usr/local/lib/python3.6/dist-packages/pandas/core/generic.py\u001b[0m in \u001b[0;36mto_csv\u001b[0;34m(self, path_or_buf, sep, na_rep, float_format, columns, header, index, index_label, mode, encoding, compression, quoting, quotechar, line_terminator, chunksize, date_format, doublequote, escapechar, decimal, errors)\u001b[0m\n\u001b[1;32m   3168\u001b[0m             \u001b[0mdecimal\u001b[0m\u001b[0;34m=\u001b[0m\u001b[0mdecimal\u001b[0m\u001b[0;34m,\u001b[0m\u001b[0;34m\u001b[0m\u001b[0;34m\u001b[0m\u001b[0m\n\u001b[1;32m   3169\u001b[0m         )\n\u001b[0;32m-> 3170\u001b[0;31m         \u001b[0mformatter\u001b[0m\u001b[0;34m.\u001b[0m\u001b[0msave\u001b[0m\u001b[0;34m(\u001b[0m\u001b[0;34m)\u001b[0m\u001b[0;34m\u001b[0m\u001b[0;34m\u001b[0m\u001b[0m\n\u001b[0m\u001b[1;32m   3171\u001b[0m \u001b[0;34m\u001b[0m\u001b[0m\n\u001b[1;32m   3172\u001b[0m         \u001b[0;32mif\u001b[0m \u001b[0mpath_or_buf\u001b[0m \u001b[0;32mis\u001b[0m \u001b[0;32mNone\u001b[0m\u001b[0;34m:\u001b[0m\u001b[0;34m\u001b[0m\u001b[0;34m\u001b[0m\u001b[0m\n",
      "\u001b[0;32m/usr/local/lib/python3.6/dist-packages/pandas/io/formats/csvs.py\u001b[0m in \u001b[0;36msave\u001b[0;34m(self)\u001b[0m\n\u001b[1;32m    188\u001b[0m                 \u001b[0mencoding\u001b[0m\u001b[0;34m=\u001b[0m\u001b[0mself\u001b[0m\u001b[0;34m.\u001b[0m\u001b[0mencoding\u001b[0m\u001b[0;34m,\u001b[0m\u001b[0;34m\u001b[0m\u001b[0;34m\u001b[0m\u001b[0m\n\u001b[1;32m    189\u001b[0m                 \u001b[0merrors\u001b[0m\u001b[0;34m=\u001b[0m\u001b[0mself\u001b[0m\u001b[0;34m.\u001b[0m\u001b[0merrors\u001b[0m\u001b[0;34m,\u001b[0m\u001b[0;34m\u001b[0m\u001b[0;34m\u001b[0m\u001b[0m\n\u001b[0;32m--> 190\u001b[0;31m                 \u001b[0mcompression\u001b[0m\u001b[0;34m=\u001b[0m\u001b[0mdict\u001b[0m\u001b[0;34m(\u001b[0m\u001b[0mself\u001b[0m\u001b[0;34m.\u001b[0m\u001b[0mcompression_args\u001b[0m\u001b[0;34m,\u001b[0m \u001b[0mmethod\u001b[0m\u001b[0;34m=\u001b[0m\u001b[0mself\u001b[0m\u001b[0;34m.\u001b[0m\u001b[0mcompression\u001b[0m\u001b[0;34m)\u001b[0m\u001b[0;34m,\u001b[0m\u001b[0;34m\u001b[0m\u001b[0;34m\u001b[0m\u001b[0m\n\u001b[0m\u001b[1;32m    191\u001b[0m             )\n\u001b[1;32m    192\u001b[0m             \u001b[0mclose\u001b[0m \u001b[0;34m=\u001b[0m \u001b[0;32mTrue\u001b[0m\u001b[0;34m\u001b[0m\u001b[0;34m\u001b[0m\u001b[0m\n",
      "\u001b[0;32m/usr/local/lib/python3.6/dist-packages/pandas/io/common.py\u001b[0m in \u001b[0;36mget_handle\u001b[0;34m(path_or_buf, mode, encoding, compression, memory_map, is_text, errors)\u001b[0m\n\u001b[1;32m    491\u001b[0m         \u001b[0;32mif\u001b[0m \u001b[0mencoding\u001b[0m\u001b[0;34m:\u001b[0m\u001b[0;34m\u001b[0m\u001b[0;34m\u001b[0m\u001b[0m\n\u001b[1;32m    492\u001b[0m             \u001b[0;31m# Encoding\u001b[0m\u001b[0;34m\u001b[0m\u001b[0;34m\u001b[0m\u001b[0;34m\u001b[0m\u001b[0m\n\u001b[0;32m--> 493\u001b[0;31m             \u001b[0mf\u001b[0m \u001b[0;34m=\u001b[0m \u001b[0mopen\u001b[0m\u001b[0;34m(\u001b[0m\u001b[0mpath_or_buf\u001b[0m\u001b[0;34m,\u001b[0m \u001b[0mmode\u001b[0m\u001b[0;34m,\u001b[0m \u001b[0mencoding\u001b[0m\u001b[0;34m=\u001b[0m\u001b[0mencoding\u001b[0m\u001b[0;34m,\u001b[0m \u001b[0merrors\u001b[0m\u001b[0;34m=\u001b[0m\u001b[0merrors\u001b[0m\u001b[0;34m,\u001b[0m \u001b[0mnewline\u001b[0m\u001b[0;34m=\u001b[0m\u001b[0;34m\"\"\u001b[0m\u001b[0;34m)\u001b[0m\u001b[0;34m\u001b[0m\u001b[0;34m\u001b[0m\u001b[0m\n\u001b[0m\u001b[1;32m    494\u001b[0m         \u001b[0;32melif\u001b[0m \u001b[0mis_text\u001b[0m\u001b[0;34m:\u001b[0m\u001b[0;34m\u001b[0m\u001b[0;34m\u001b[0m\u001b[0m\n\u001b[1;32m    495\u001b[0m             \u001b[0;31m# No explicit encoding\u001b[0m\u001b[0;34m\u001b[0m\u001b[0;34m\u001b[0m\u001b[0;34m\u001b[0m\u001b[0m\n",
      "\u001b[0;31mFileNotFoundError\u001b[0m: [Errno 2] No such file or directory: '/content/drive/MyDrive/Thymus_eval/output/agreement_counts.csv'"
     ]
    }
   ],
   "source": [
    "agreement_counts.to_csv(res_path + 'agreement_counts.csv')"
   ]
  },
  {
   "cell_type": "markdown",
   "metadata": {
    "id": "VINot571cqxS"
   },
   "source": [
    "### per celltype agreement"
   ]
  },
  {
   "cell_type": "code",
   "execution_count": null,
   "metadata": {
    "colab": {
     "base_uri": "https://localhost:8080/",
     "height": 380
    },
    "id": "DBrgvhD_ag-S",
    "outputId": "3c2a1402-d835-4692-e6b4-bfcaf424352e"
   },
   "outputs": [
    {
     "ename": "KeyError",
     "evalue": "ignored",
     "output_type": "error",
     "traceback": [
      "\u001b[0;31m---------------------------------------------------------------------------\u001b[0m",
      "\u001b[0;31mKeyError\u001b[0m                                  Traceback (most recent call last)",
      "\u001b[0;32m<ipython-input-40-612a9904e628>\u001b[0m in \u001b[0;36m<module>\u001b[0;34m()\u001b[0m\n\u001b[1;32m      9\u001b[0m \u001b[0mdisagreement\u001b[0m \u001b[0;34m=\u001b[0m \u001b[0mpd\u001b[0m\u001b[0;34m.\u001b[0m\u001b[0mDataFrame\u001b[0m\u001b[0;34m.\u001b[0m\u001b[0mfrom_dict\u001b[0m\u001b[0;34m(\u001b[0m\u001b[0mdisagreement\u001b[0m\u001b[0;34m)\u001b[0m\u001b[0;34m.\u001b[0m\u001b[0mT\u001b[0m\u001b[0;34m\u001b[0m\u001b[0;34m\u001b[0m\u001b[0m\n\u001b[1;32m     10\u001b[0m \u001b[0mdisagreement\u001b[0m\u001b[0;34m.\u001b[0m\u001b[0mfillna\u001b[0m\u001b[0;34m(\u001b[0m\u001b[0;36m0\u001b[0m\u001b[0;34m,\u001b[0m \u001b[0minplace\u001b[0m\u001b[0;34m=\u001b[0m\u001b[0;32mTrue\u001b[0m\u001b[0;34m)\u001b[0m\u001b[0;34m\u001b[0m\u001b[0;34m\u001b[0m\u001b[0m\n\u001b[0;32m---> 11\u001b[0;31m \u001b[0mdisagreement\u001b[0m \u001b[0;34m=\u001b[0m \u001b[0;34m(\u001b[0m\u001b[0mdisagreement\u001b[0m\u001b[0;34m.\u001b[0m\u001b[0mT\u001b[0m \u001b[0;34m/\u001b[0m \u001b[0mdisagreement\u001b[0m\u001b[0;34m.\u001b[0m\u001b[0msum\u001b[0m\u001b[0;34m(\u001b[0m\u001b[0maxis\u001b[0m\u001b[0;34m=\u001b[0m\u001b[0;36m1\u001b[0m\u001b[0;34m)\u001b[0m\u001b[0;34m)\u001b[0m\u001b[0;34m.\u001b[0m\u001b[0mT\u001b[0m\u001b[0;34m.\u001b[0m\u001b[0msort_values\u001b[0m\u001b[0;34m(\u001b[0m\u001b[0;34m'1.0'\u001b[0m\u001b[0;34m)\u001b[0m\u001b[0;34m\u001b[0m\u001b[0;34m\u001b[0m\u001b[0m\n\u001b[0m\u001b[1;32m     12\u001b[0m \u001b[0mdisagreement\u001b[0m\u001b[0;34m.\u001b[0m\u001b[0mstyle\u001b[0m\u001b[0;34m.\u001b[0m\u001b[0mformat\u001b[0m\u001b[0;34m(\u001b[0m\u001b[0;34m'{0:,.2f}'\u001b[0m\u001b[0;34m)\u001b[0m\u001b[0;34m.\u001b[0m\u001b[0mbackground_gradient\u001b[0m\u001b[0;34m(\u001b[0m\u001b[0maxis\u001b[0m\u001b[0;34m=\u001b[0m\u001b[0;36m0\u001b[0m\u001b[0;34m)\u001b[0m\u001b[0;34m\u001b[0m\u001b[0;34m\u001b[0m\u001b[0m\n\u001b[1;32m     13\u001b[0m \u001b[0mdisagreement\u001b[0m\u001b[0;34m.\u001b[0m\u001b[0mto_csv\u001b[0m\u001b[0;34m(\u001b[0m\u001b[0mres_path\u001b[0m \u001b[0;34m+\u001b[0m \u001b[0;34m\"per_celltype_agreement.csv\"\u001b[0m\u001b[0;34m)\u001b[0m\u001b[0;34m\u001b[0m\u001b[0;34m\u001b[0m\u001b[0m\n",
      "\u001b[0;32m/usr/local/lib/python3.6/dist-packages/pandas/core/frame.py\u001b[0m in \u001b[0;36msort_values\u001b[0;34m(self, by, axis, ascending, inplace, kind, na_position, ignore_index, key)\u001b[0m\n\u001b[1;32m   5296\u001b[0m \u001b[0;34m\u001b[0m\u001b[0m\n\u001b[1;32m   5297\u001b[0m             \u001b[0mby\u001b[0m \u001b[0;34m=\u001b[0m \u001b[0mby\u001b[0m\u001b[0;34m[\u001b[0m\u001b[0;36m0\u001b[0m\u001b[0;34m]\u001b[0m\u001b[0;34m\u001b[0m\u001b[0;34m\u001b[0m\u001b[0m\n\u001b[0;32m-> 5298\u001b[0;31m             \u001b[0mk\u001b[0m \u001b[0;34m=\u001b[0m \u001b[0mself\u001b[0m\u001b[0;34m.\u001b[0m\u001b[0m_get_label_or_level_values\u001b[0m\u001b[0;34m(\u001b[0m\u001b[0mby\u001b[0m\u001b[0;34m,\u001b[0m \u001b[0maxis\u001b[0m\u001b[0;34m=\u001b[0m\u001b[0maxis\u001b[0m\u001b[0;34m)\u001b[0m\u001b[0;34m\u001b[0m\u001b[0;34m\u001b[0m\u001b[0m\n\u001b[0m\u001b[1;32m   5299\u001b[0m \u001b[0;34m\u001b[0m\u001b[0m\n\u001b[1;32m   5300\u001b[0m             \u001b[0;31m# need to rewrap column in Series to apply key function\u001b[0m\u001b[0;34m\u001b[0m\u001b[0;34m\u001b[0m\u001b[0;34m\u001b[0m\u001b[0m\n",
      "\u001b[0;32m/usr/local/lib/python3.6/dist-packages/pandas/core/generic.py\u001b[0m in \u001b[0;36m_get_label_or_level_values\u001b[0;34m(self, key, axis)\u001b[0m\n\u001b[1;32m   1561\u001b[0m             \u001b[0mvalues\u001b[0m \u001b[0;34m=\u001b[0m \u001b[0mself\u001b[0m\u001b[0;34m.\u001b[0m\u001b[0maxes\u001b[0m\u001b[0;34m[\u001b[0m\u001b[0maxis\u001b[0m\u001b[0;34m]\u001b[0m\u001b[0;34m.\u001b[0m\u001b[0mget_level_values\u001b[0m\u001b[0;34m(\u001b[0m\u001b[0mkey\u001b[0m\u001b[0;34m)\u001b[0m\u001b[0;34m.\u001b[0m\u001b[0m_values\u001b[0m\u001b[0;34m\u001b[0m\u001b[0;34m\u001b[0m\u001b[0m\n\u001b[1;32m   1562\u001b[0m         \u001b[0;32melse\u001b[0m\u001b[0;34m:\u001b[0m\u001b[0;34m\u001b[0m\u001b[0;34m\u001b[0m\u001b[0m\n\u001b[0;32m-> 1563\u001b[0;31m             \u001b[0;32mraise\u001b[0m \u001b[0mKeyError\u001b[0m\u001b[0;34m(\u001b[0m\u001b[0mkey\u001b[0m\u001b[0;34m)\u001b[0m\u001b[0;34m\u001b[0m\u001b[0;34m\u001b[0m\u001b[0m\n\u001b[0m\u001b[1;32m   1564\u001b[0m \u001b[0;34m\u001b[0m\u001b[0m\n\u001b[1;32m   1565\u001b[0m         \u001b[0;31m# Check for duplicates\u001b[0m\u001b[0;34m\u001b[0m\u001b[0;34m\u001b[0m\u001b[0;34m\u001b[0m\u001b[0m\n",
      "\u001b[0;31mKeyError\u001b[0m: '1.0'"
     ]
    }
   ],
   "source": [
    "#@ This computes what ground truth celltypes the algorithm disagrees on the most\n",
    "disagreement = {}\n",
    "for x in np.unique(labels[~ref_cells]):\n",
    "  temp = pd.DataFrame(np.unique(results[(~ref_cells) & (labels == x)].obs[\"agreement\"],return_counts=True))\n",
    "  temp.columns = temp.loc[0]\n",
    "  temp = temp.loc[1]\n",
    "  disagreement[x] = temp\n",
    "\n",
    "disagreement = pd.DataFrame.from_dict(disagreement).T\n",
    "disagreement.fillna(0, inplace=True)\n",
    "disagreement = (disagreement.T / disagreement.sum(axis=1)).T.sort_values('1.0')\n",
    "disagreement.style.format('{0:,.2f}').background_gradient(axis=0) \n",
    "disagreement.to_csv(res_path + \"per_celltype_agreement.csv\")"
   ]
  },
  {
   "cell_type": "code",
   "execution_count": null,
   "metadata": {
    "colab": {
     "base_uri": "https://localhost:8080/",
     "height": 63
    },
    "id": "W9vFox-8eGlF",
    "outputId": "d0a1f9b8-492a-41c0-a09a-d7b54b412e91"
   },
   "outputs": [
    {
     "data": {
      "text/html": [
       "<div>\n",
       "<style scoped>\n",
       "    .dataframe tbody tr th:only-of-type {\n",
       "        vertical-align: middle;\n",
       "    }\n",
       "\n",
       "    .dataframe tbody tr th {\n",
       "        vertical-align: top;\n",
       "    }\n",
       "\n",
       "    .dataframe thead th {\n",
       "        text-align: right;\n",
       "    }\n",
       "</style>\n",
       "<table border=\"1\" class=\"dataframe\">\n",
       "  <thead>\n",
       "    <tr style=\"text-align: right;\">\n",
       "      <th></th>\n",
       "    </tr>\n",
       "  </thead>\n",
       "  <tbody>\n",
       "    <tr>\n",
       "      <th>NaN</th>\n",
       "    </tr>\n",
       "  </tbody>\n",
       "</table>\n",
       "</div>"
      ],
      "text/plain": [
       "Empty DataFrame\n",
       "Columns: []\n",
       "Index: [nan]"
      ]
     },
     "execution_count": 41,
     "metadata": {
      "tags": []
     },
     "output_type": "execute_result"
    }
   ],
   "source": [
    "disagreement"
   ]
  },
  {
   "cell_type": "code",
   "execution_count": null,
   "metadata": {
    "id": "ZY-HAGG6cuvA"
   },
   "outputs": [],
   "source": [
    "### import cell ontology \n"
   ]
  },
  {
   "cell_type": "markdown",
   "metadata": {
    "id": "Dh1O0ZXNX9En"
   },
   "source": [
    "### import cell ontology \n"
   ]
  },
  {
   "cell_type": "code",
   "execution_count": null,
   "metadata": {
    "id": "Q9Xy7kQqX7UT"
   },
   "outputs": [],
   "source": [
    "import obonet\n",
    "\n",
    "obo = \"/content/drive/MyDrive/ts_evaluation/\" + \"cl.obo\"\n",
    "f = open(obo, \"r\")\n",
    "co = obonet.read_obo(f)\n",
    "f.close()\n",
    "\n",
    "celltype_dict = {}\n",
    "for x in co.nodes:\n",
    "    celltype_dict[co.nodes[x][\"name\"].lower()] = x\n"
   ]
  },
  {
   "cell_type": "code",
   "execution_count": null,
   "metadata": {
    "id": "RYaNEDXSZAOh"
   },
   "outputs": [],
   "source": [
    "results.obsm['X_umap'] = results.obsm['X_scvi_50latent_0.1dropout_genebatchdispersion_umap']\n",
    "CM = {}\n",
    "ACC1 = {}\n",
    "ACC2 = {}\n",
    "MEAN = {}\n",
    "for name in methods + ['majority_pred']:\n",
    "    pred = results.obs[name].values\n",
    "\n",
    "    df, prop = PredictionEval(\n",
    "      pred[~ref_cells], labels[~ref_cells], res_path, name=name\n",
    "    )\n",
    "\n",
    "    acc1, acc2, acc_detail, mean1, mean2 = EvalSummary(\n",
    "        df, prop.loc[df.index, \"prop\"].values, co\n",
    "    )\n",
    "\n",
    "    print(name, \"weighted mean accuracy:\", mean2, \"unweighted mean accuracy\", np.mean(acc2))\n",
    "\n",
    "    acc_bar = accuracy_barplot(\n",
    "        df, acc1, acc2, prop.loc[df.index, \"prop\"].values, name, res_path\n",
    "    )\n",
    "    ACC1[name] = acc1\n",
    "    ACC2[name] = acc2\n",
    "    MEAN[name] = [mean1, mean2, np.mean(acc1), np.mean(acc2)]\n",
    "    CM[name] = df\n",
    "    sc.pl.umap(\n",
    "        results[~ref_cells],\n",
    "        color=[name],\n",
    "        save = 'scVI_pred_%s.pdf'%name,\n",
    "        title = 'UMAP scVI Prediction %s'%name\n",
    "    )\n"
   ]
  },
  {
   "cell_type": "markdown",
   "metadata": {
    "id": "1HR9dEq4FbSM"
   },
   "source": [
    "## Consensus Statistics"
   ]
  },
  {
   "cell_type": "code",
   "execution_count": null,
   "metadata": {
    "id": "o34zkJuBZKRY"
   },
   "outputs": [],
   "source": [
    "labels = results.obs[\"cell_ontology_type\"].astype(str).str.lower()"
   ]
  },
  {
   "cell_type": "code",
   "execution_count": null,
   "metadata": {
    "id": "AswsB5eGGrgd"
   },
   "outputs": [],
   "source": [
    "# TODO add consensus statistics code"
   ]
  },
  {
   "cell_type": "markdown",
   "metadata": {
    "id": "0DrciusDGfSl"
   },
   "source": [
    "## Summary of cell type compositions"
   ]
  },
  {
   "cell_type": "code",
   "execution_count": null,
   "metadata": {
    "id": "4l36ZztUGxza"
   },
   "outputs": [],
   "source": [
    "# TODO add cell type composition code here"
   ]
  }
 ],
 "metadata": {
  "accelerator": "GPU",
  "colab": {
   "collapsed_sections": [],
   "machine_shape": "hm",
   "name": "Automated Cell Annotation.ipynb",
   "provenance": [],
   "toc_visible": true
  },
  "kernelspec": {
   "display_name": "Python 3",
   "language": "python",
   "name": "python3"
  },
  "language_info": {
   "codemirror_mode": {
    "name": "ipython",
    "version": 3
   },
   "file_extension": ".py",
   "mimetype": "text/x-python",
   "name": "python",
   "nbconvert_exporter": "python",
   "pygments_lexer": "ipython3",
   "version": "3.8.6"
  }
 },
 "nbformat": 4,
 "nbformat_minor": 4
}
