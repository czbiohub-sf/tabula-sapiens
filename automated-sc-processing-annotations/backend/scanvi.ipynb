{
 "cells": [
  {
   "cell_type": "code",
   "execution_count": 4,
   "metadata": {},
   "outputs": [],
   "source": [
    "import anndata\n",
    "import scvi\n",
    "import numpy as np\n",
    "import os\n",
    "import scvi\n",
    "import scanpy as sc\n",
    "\n",
    "#path to eval dataset\n",
    "lung_eval_path = \"Lung_eval.h5ad\"\n",
    "#path to reference\n",
    "tabula_sapiens_filepath = 'Lung_ref.h5ad'\n",
    "#path to user data\n",
    "input_anndata = 'Lung_test.h5ad'\n",
    "\n",
    "\n",
    "tissue = 'Lung'\n",
    "output_folder_name = 'lung_evaluation'\n",
    "use_gpu = True\n",
    "use_10X_only= True\n",
    "batch_correction_conditions = ['method']\n",
    "annotation_key = 'manual_annotation'\n",
    "\n",
    "\n",
    "\n",
    "#scVI arguments:\n",
    "scvi_model = None\n",
    "scanvi_model= None\n",
    "n_scvi_epochs= 400\n",
    "n_scanvi_epochs = 15\n",
    "\n",
    "output_folder = os.path.join('data', output_folder_name)\n"
   ]
  },
  {
   "cell_type": "code",
   "execution_count": 5,
   "metadata": {},
   "outputs": [
    {
     "name": "stderr",
     "output_type": "stream",
     "text": [
      "/opt/conda/envs/tabula_sapiens/lib/python3.6/site-packages/anndata/_core/anndata.py:1094: FutureWarning: is_categorical is deprecated and will be removed in a future version.  Use is_categorical_dtype instead\n",
      "  if not is_categorical(df_full[k]):\n",
      "/opt/conda/envs/tabula_sapiens/lib/python3.6/site-packages/anndata/_core/anndata.py:1192: FutureWarning: is_categorical is deprecated and will be removed in a future version.  Use is_categorical_dtype instead\n",
      "  if is_string_dtype(df[key]) and not is_categorical(df[key])\n",
      "... storing 'tissue' as categorical\n"
     ]
    }
   ],
   "source": [
    "a = anndata.read(lung_eval_path)\n",
    "\n",
    "tsp_idx = (a.obs['donor'] == 'TSP1') | (a.obs['donor'] == 'TSP2')\n",
    "test = a[tsp_idx].copy()\n",
    "test.X = np.around(np.expm1(test.X))\n",
    "test.write('Lung_test.h5ad')\n",
    "\n",
    "ref = a[~tsp_idx].copy()\n",
    "ref.obs['tissue'] = 'Lung'\n",
    "ref.write('Lung_ref.h5ad')"
   ]
  },
  {
   "cell_type": "code",
   "execution_count": 6,
   "metadata": {},
   "outputs": [],
   "source": [
    "def setup_dataset(input_anndata, ts_filepath, tissue = None, use_10X_only = False, batch_correction_conditions = None):\n",
    "    #TODO check that the input vars are the same\n",
    "    train_data = sc.read_h5ad(ts_filepath)\n",
    "    test_data = sc.read_h5ad(input_anndata)\n",
    "    if tissue is not None:\n",
    "        train_data = train_data[train_data.obs['tissue'] == tissue]\n",
    "    if use_10X_only:\n",
    "        train_data = train_data[train_data.obs['method'] == \"10X\"]\n",
    "    if batch_correction_conditions is None:\n",
    "        full = train_data.concatenate(test_data)\n",
    "        full.obs['_batch_indices'] = np.zeros(full.n_obs).astype(int)    \n",
    "    else:\n",
    "        condition = batch_correction_conditions[0]\n",
    "        train_data.obs['_batch'] = train_data.obs[condition]\n",
    "\n",
    "        if len(batch_correction_conditions) >= 2:\n",
    "            for condition in batch_correction_conditions[1:]:\n",
    "                x1 = train_data.obs['_batch'].to_numpy().astype(str) \n",
    "                underscore = ['_'] * train_data.n_obs\n",
    "                x1 = np.char.add(x1, underscore)\n",
    "                x2 = train_data.obs[condition].to_numpy().astype(str)\n",
    "                train_data.obs['_batch']= np.char.add(x1, x2)\n",
    "        batch_key = '_batch'\n",
    "\n",
    "        all_batches = np.unique(train_data.obs['_batch'].astype(str))\n",
    "        batch_indices = np.zeros(train_data.n_obs).astype(int)\n",
    "        for i, batch in enumerate(all_batches):\n",
    "            idx = np.where(train_data.obs[batch_key] == batch)\n",
    "            batch_indices[idx] = i\n",
    "\n",
    "        train_data.obs['_batch_indices'] = batch_indices\n",
    "        test_data.obs['_batch_indices'] = np.zeros(test_data.n_obs).astype(int) + len(all_batches)\n",
    "        full = train_data.concatenate(test_data)\n",
    "    \n",
    "    full.obs['_dataset'] = ['reference'] * train_data.n_obs + ['user'] * test_data.n_obs\n",
    "    return full"
   ]
  },
  {
   "cell_type": "code",
   "execution_count": 7,
   "metadata": {},
   "outputs": [
    {
     "name": "stderr",
     "output_type": "stream",
     "text": [
      "Trying to set attribute `.obs` of view, copying.\n",
      "/opt/conda/envs/tabula_sapiens/lib/python3.6/site-packages/scanpy/preprocessing/_highly_variable_genes.py:144: FutureWarning: Slicing a positional slice with .loc is not supported, and will raise TypeError in a future version.  Use .loc with labels or .iloc with positions instead.\n",
      "  df.loc[: int(n_top_genes), 'highly_variable'] = True\n",
      "/opt/conda/envs/tabula_sapiens/lib/python3.6/site-packages/anndata/_core/anndata.py:1094: FutureWarning: is_categorical is deprecated and will be removed in a future version.  Use is_categorical_dtype instead\n",
      "  if not is_categorical(df_full[k]):\n"
     ]
    }
   ],
   "source": [
    "full = setup_dataset(input_anndata, tabula_sapiens_filepath, tissue, use_10X_only, batch_correction_conditions)\n",
    "sc.pp.highly_variable_genes(full, flavor='seurat_v3', subset=True, n_top_genes=4000)\n"
   ]
  },
  {
   "cell_type": "code",
   "execution_count": 62,
   "metadata": {},
   "outputs": [],
   "source": [
    "train_data = full[full.obs['_dataset'] == 'reference'].copy()\n",
    "test_data = full[full.obs['_dataset'] == 'user'].copy()"
   ]
  },
  {
   "cell_type": "code",
   "execution_count": 63,
   "metadata": {},
   "outputs": [],
   "source": [
    "import numpy as np\n",
    "\n",
    "def subsample_dataset(train_data, labels_key, n_samples):\n",
    "    sample_idx = []\n",
    "    labels, counts = np.unique(train_data.obs[labels_key], return_counts=True)\n",
    "    for i, label in enumerate(labels):\n",
    "        label_locs = np.where(train_data.obs[labels_key] == label)[0]        \n",
    "        if counts[i] < n_samples:\n",
    "            sample_idx.append(label_locs)\n",
    "        else:\n",
    "            label_subset = np.random.choice(label_locs, n_samples, replace = False)\n",
    "            sample_idx.append(label_subset)\n",
    "    sample_idx = np.concatenate(sample_idx)\n",
    "    return sample_idx"
   ]
  },
  {
   "cell_type": "code",
   "execution_count": 64,
   "metadata": {},
   "outputs": [],
   "source": [
    "sample_idx = subsample_dataset(train_data, labels_key = 'manual_annotation', n_samples = 100)"
   ]
  },
  {
   "cell_type": "code",
   "execution_count": 65,
   "metadata": {},
   "outputs": [
    {
     "name": "stderr",
     "output_type": "stream",
     "text": [
      "/opt/conda/envs/tabula_sapiens/lib/python3.6/site-packages/ipykernel_launcher.py:2: SettingWithCopyWarning: \n",
      "A value is trying to be set on a copy of a slice from a DataFrame\n",
      "\n",
      "See the caveats in the documentation: https://pandas.pydata.org/pandas-docs/stable/user_guide/indexing.html#returning-a-view-versus-a-copy\n",
      "  \n",
      "/opt/conda/envs/tabula_sapiens/lib/python3.6/site-packages/pandas/core/indexing.py:670: SettingWithCopyWarning: \n",
      "A value is trying to be set on a copy of a slice from a DataFrame\n",
      "\n",
      "See the caveats in the documentation: https://pandas.pydata.org/pandas-docs/stable/user_guide/indexing.html#returning-a-view-versus-a-copy\n",
      "  iloc._setitem_with_indexer(indexer, value)\n"
     ]
    }
   ],
   "source": [
    "train_data.obs['scanvi_labels'] = 'unknown'\n",
    "train_data.obs['scanvi_labels'][sample_idx] = train_data.obs['manual_annotation'][sample_idx]"
   ]
  },
  {
   "cell_type": "code",
   "execution_count": 54,
   "metadata": {},
   "outputs": [],
   "source": [
    "test_data = test_data[test_data.obs['method'] == '10X'].copy()"
   ]
  },
  {
   "cell_type": "code",
   "execution_count": 61,
   "metadata": {},
   "outputs": [
    {
     "name": "stdout",
     "output_type": "stream",
     "text": [
      "\u001b[34mINFO\u001b[0m      Using batches from adata.obs\u001b[1m[\u001b[0m\u001b[32m\"method\"\u001b[0m\u001b[1m]\u001b[0m                                             \n"
     ]
    },
    {
     "ename": "AssertionError",
     "evalue": "scanvi_labels is not a valid key for in adata.obs",
     "output_type": "error",
     "traceback": [
      "\u001b[0;31m---------------------------------------------------------------------------\u001b[0m",
      "\u001b[0;31mAssertionError\u001b[0m                            Traceback (most recent call last)",
      "\u001b[0;32m<ipython-input-61-cfe17c4550c3>\u001b[0m in \u001b[0;36m<module>\u001b[0;34m\u001b[0m\n\u001b[0;32m----> 1\u001b[0;31m \u001b[0mscvi\u001b[0m\u001b[0;34m.\u001b[0m\u001b[0mdata\u001b[0m\u001b[0;34m.\u001b[0m\u001b[0msetup_anndata\u001b[0m\u001b[0;34m(\u001b[0m\u001b[0mtrain_data\u001b[0m\u001b[0;34m,\u001b[0m \u001b[0mbatch_key\u001b[0m \u001b[0;34m=\u001b[0m \u001b[0;34m'method'\u001b[0m\u001b[0;34m,\u001b[0m \u001b[0mlabels_key\u001b[0m \u001b[0;34m=\u001b[0m \u001b[0;34m'scanvi_labels'\u001b[0m\u001b[0;34m)\u001b[0m\u001b[0;34m\u001b[0m\u001b[0;34m\u001b[0m\u001b[0m\n\u001b[0m",
      "\u001b[0;32m/opt/conda/envs/tabula_sapiens/lib/python3.6/site-packages/scvi/data/_anndata.py\u001b[0m in \u001b[0;36msetup_anndata\u001b[0;34m(adata, batch_key, labels_key, layer, protein_expression_obsm_key, protein_names_uns_key, categorical_covariate_keys, continuous_covariate_keys, copy)\u001b[0m\n\u001b[1;32m    187\u001b[0m \u001b[0;34m\u001b[0m\u001b[0m\n\u001b[1;32m    188\u001b[0m     \u001b[0mbatch_key\u001b[0m \u001b[0;34m=\u001b[0m \u001b[0m_setup_batch\u001b[0m\u001b[0;34m(\u001b[0m\u001b[0madata\u001b[0m\u001b[0;34m,\u001b[0m \u001b[0mbatch_key\u001b[0m\u001b[0;34m)\u001b[0m\u001b[0;34m\u001b[0m\u001b[0;34m\u001b[0m\u001b[0m\n\u001b[0;32m--> 189\u001b[0;31m     \u001b[0mlabels_key\u001b[0m \u001b[0;34m=\u001b[0m \u001b[0m_setup_labels\u001b[0m\u001b[0;34m(\u001b[0m\u001b[0madata\u001b[0m\u001b[0;34m,\u001b[0m \u001b[0mlabels_key\u001b[0m\u001b[0;34m)\u001b[0m\u001b[0;34m\u001b[0m\u001b[0;34m\u001b[0m\u001b[0m\n\u001b[0m\u001b[1;32m    190\u001b[0m     \u001b[0mx_loc\u001b[0m\u001b[0;34m,\u001b[0m \u001b[0mx_key\u001b[0m \u001b[0;34m=\u001b[0m \u001b[0m_setup_x\u001b[0m\u001b[0;34m(\u001b[0m\u001b[0madata\u001b[0m\u001b[0;34m,\u001b[0m \u001b[0mlayer\u001b[0m\u001b[0;34m)\u001b[0m\u001b[0;34m\u001b[0m\u001b[0;34m\u001b[0m\u001b[0m\n\u001b[1;32m    191\u001b[0m     \u001b[0mlocal_l_mean_key\u001b[0m\u001b[0;34m,\u001b[0m \u001b[0mlocal_l_var_key\u001b[0m \u001b[0;34m=\u001b[0m \u001b[0m_setup_library_size\u001b[0m\u001b[0;34m(\u001b[0m\u001b[0madata\u001b[0m\u001b[0;34m,\u001b[0m \u001b[0mbatch_key\u001b[0m\u001b[0;34m,\u001b[0m \u001b[0mlayer\u001b[0m\u001b[0;34m)\u001b[0m\u001b[0;34m\u001b[0m\u001b[0;34m\u001b[0m\u001b[0m\n",
      "\u001b[0;32m/opt/conda/envs/tabula_sapiens/lib/python3.6/site-packages/scvi/data/_anndata.py\u001b[0m in \u001b[0;36m_setup_labels\u001b[0;34m(adata, labels_key)\u001b[0m\n\u001b[1;32m    530\u001b[0m         \u001b[0malt_key\u001b[0m \u001b[0;34m=\u001b[0m \u001b[0mlabels_key\u001b[0m\u001b[0;34m\u001b[0m\u001b[0;34m\u001b[0m\u001b[0m\n\u001b[1;32m    531\u001b[0m     \u001b[0;32melse\u001b[0m\u001b[0;34m:\u001b[0m\u001b[0;34m\u001b[0m\u001b[0;34m\u001b[0m\u001b[0m\n\u001b[0;32m--> 532\u001b[0;31m         \u001b[0m_assert_key_in_obs\u001b[0m\u001b[0;34m(\u001b[0m\u001b[0madata\u001b[0m\u001b[0;34m,\u001b[0m \u001b[0mlabels_key\u001b[0m\u001b[0;34m)\u001b[0m\u001b[0;34m\u001b[0m\u001b[0;34m\u001b[0m\u001b[0m\n\u001b[0m\u001b[1;32m    533\u001b[0m         \u001b[0mlogger\u001b[0m\u001b[0;34m.\u001b[0m\u001b[0minfo\u001b[0m\u001b[0;34m(\u001b[0m\u001b[0;34m'Using labels from adata.obs[\"{}\"]'\u001b[0m\u001b[0;34m.\u001b[0m\u001b[0mformat\u001b[0m\u001b[0;34m(\u001b[0m\u001b[0mlabels_key\u001b[0m\u001b[0;34m)\u001b[0m\u001b[0;34m)\u001b[0m\u001b[0;34m\u001b[0m\u001b[0;34m\u001b[0m\u001b[0m\n\u001b[1;32m    534\u001b[0m         \u001b[0malt_key\u001b[0m \u001b[0;34m=\u001b[0m \u001b[0;34m\"_scvi_labels\"\u001b[0m\u001b[0;34m\u001b[0m\u001b[0;34m\u001b[0m\u001b[0m\n",
      "\u001b[0;32m/opt/conda/envs/tabula_sapiens/lib/python3.6/site-packages/scvi/data/_anndata.py\u001b[0m in \u001b[0;36m_assert_key_in_obs\u001b[0;34m(adata, key)\u001b[0m\n\u001b[1;32m    519\u001b[0m \u001b[0;34m\u001b[0m\u001b[0m\n\u001b[1;32m    520\u001b[0m \u001b[0;32mdef\u001b[0m \u001b[0m_assert_key_in_obs\u001b[0m\u001b[0;34m(\u001b[0m\u001b[0madata\u001b[0m\u001b[0;34m,\u001b[0m \u001b[0mkey\u001b[0m\u001b[0;34m)\u001b[0m\u001b[0;34m:\u001b[0m\u001b[0;34m\u001b[0m\u001b[0;34m\u001b[0m\u001b[0m\n\u001b[0;32m--> 521\u001b[0;31m     \u001b[0;32massert\u001b[0m \u001b[0mkey\u001b[0m \u001b[0;32min\u001b[0m \u001b[0madata\u001b[0m\u001b[0;34m.\u001b[0m\u001b[0mobs\u001b[0m\u001b[0;34m.\u001b[0m\u001b[0mkeys\u001b[0m\u001b[0;34m(\u001b[0m\u001b[0;34m)\u001b[0m\u001b[0;34m,\u001b[0m \u001b[0;34m\"{} is not a valid key for in adata.obs\"\u001b[0m\u001b[0;34m.\u001b[0m\u001b[0mformat\u001b[0m\u001b[0;34m(\u001b[0m\u001b[0mkey\u001b[0m\u001b[0;34m)\u001b[0m\u001b[0;34m\u001b[0m\u001b[0;34m\u001b[0m\u001b[0m\n\u001b[0m\u001b[1;32m    522\u001b[0m \u001b[0;34m\u001b[0m\u001b[0m\n\u001b[1;32m    523\u001b[0m \u001b[0;34m\u001b[0m\u001b[0m\n",
      "\u001b[0;31mAssertionError\u001b[0m: scanvi_labels is not a valid key for in adata.obs"
     ]
    }
   ],
   "source": [
    "scvi.data.setup_anndata(train_data, batch_key = 'method', labels_key = 'scanvi_labels')"
   ]
  },
  {
   "cell_type": "code",
   "execution_count": 60,
   "metadata": {},
   "outputs": [
    {
     "ename": "ValueError",
     "evalue": "Please setup your AnnData with scvi.data.setup_anndata(adata) first",
     "output_type": "error",
     "traceback": [
      "\u001b[0;31m---------------------------------------------------------------------------\u001b[0m",
      "\u001b[0;31mValueError\u001b[0m                                Traceback (most recent call last)",
      "\u001b[0;32m<ipython-input-60-eea64a46c44d>\u001b[0m in \u001b[0;36m<module>\u001b[0;34m\u001b[0m\n\u001b[1;32m      4\u001b[0m                           \u001b[0mn_layers\u001b[0m\u001b[0;34m=\u001b[0m\u001b[0;36m3\u001b[0m\u001b[0;34m,\u001b[0m\u001b[0;34m\u001b[0m\u001b[0;34m\u001b[0m\u001b[0m\n\u001b[1;32m      5\u001b[0m                           \u001b[0mn_latent\u001b[0m\u001b[0;34m=\u001b[0m\u001b[0;36m50\u001b[0m\u001b[0;34m,\u001b[0m\u001b[0;34m\u001b[0m\u001b[0;34m\u001b[0m\u001b[0m\n\u001b[0;32m----> 6\u001b[0;31m                           dispersion='gene-batch')\n\u001b[0m",
      "\u001b[0;32m/opt/conda/envs/tabula_sapiens/lib/python3.6/site-packages/scvi/model/scanvi.py\u001b[0m in \u001b[0;36m__init__\u001b[0;34m(self, adata, unlabeled_category, pretrained_model, n_hidden, n_latent, n_layers, dropout_rate, dispersion, gene_likelihood, use_cuda, **model_kwargs)\u001b[0m\n\u001b[1;32m     82\u001b[0m         \u001b[0;34m**\u001b[0m\u001b[0mmodel_kwargs\u001b[0m\u001b[0;34m,\u001b[0m\u001b[0;34m\u001b[0m\u001b[0;34m\u001b[0m\u001b[0m\n\u001b[1;32m     83\u001b[0m     ):\n\u001b[0;32m---> 84\u001b[0;31m         \u001b[0msuper\u001b[0m\u001b[0;34m(\u001b[0m\u001b[0mSCANVI\u001b[0m\u001b[0;34m,\u001b[0m \u001b[0mself\u001b[0m\u001b[0;34m)\u001b[0m\u001b[0;34m.\u001b[0m\u001b[0m__init__\u001b[0m\u001b[0;34m(\u001b[0m\u001b[0madata\u001b[0m\u001b[0;34m,\u001b[0m \u001b[0muse_cuda\u001b[0m\u001b[0;34m=\u001b[0m\u001b[0muse_cuda\u001b[0m\u001b[0;34m)\u001b[0m\u001b[0;34m\u001b[0m\u001b[0;34m\u001b[0m\u001b[0m\n\u001b[0m\u001b[1;32m     85\u001b[0m         \u001b[0mself\u001b[0m\u001b[0;34m.\u001b[0m\u001b[0munlabeled_category\u001b[0m \u001b[0;34m=\u001b[0m \u001b[0munlabeled_category\u001b[0m\u001b[0;34m\u001b[0m\u001b[0;34m\u001b[0m\u001b[0m\n\u001b[1;32m     86\u001b[0m \u001b[0;34m\u001b[0m\u001b[0m\n",
      "\u001b[0;32m/opt/conda/envs/tabula_sapiens/lib/python3.6/site-packages/scvi/core/models/base.py\u001b[0m in \u001b[0;36m__init__\u001b[0;34m(self, adata, use_cuda)\u001b[0m\n\u001b[1;32m     27\u001b[0m             \u001b[0;32mif\u001b[0m \u001b[0;34m\"_scvi\"\u001b[0m \u001b[0;32mnot\u001b[0m \u001b[0;32min\u001b[0m \u001b[0madata\u001b[0m\u001b[0;34m.\u001b[0m\u001b[0muns\u001b[0m\u001b[0;34m.\u001b[0m\u001b[0mkeys\u001b[0m\u001b[0;34m(\u001b[0m\u001b[0;34m)\u001b[0m\u001b[0;34m:\u001b[0m\u001b[0;34m\u001b[0m\u001b[0;34m\u001b[0m\u001b[0m\n\u001b[1;32m     28\u001b[0m                 raise ValueError(\n\u001b[0;32m---> 29\u001b[0;31m                     \u001b[0;34m\"Please setup your AnnData with scvi.data.setup_anndata(adata) first\"\u001b[0m\u001b[0;34m\u001b[0m\u001b[0;34m\u001b[0m\u001b[0m\n\u001b[0m\u001b[1;32m     30\u001b[0m                 )\n\u001b[1;32m     31\u001b[0m             \u001b[0mself\u001b[0m\u001b[0;34m.\u001b[0m\u001b[0madata\u001b[0m \u001b[0;34m=\u001b[0m \u001b[0madata\u001b[0m\u001b[0;34m\u001b[0m\u001b[0;34m\u001b[0m\u001b[0m\n",
      "\u001b[0;31mValueError\u001b[0m: Please setup your AnnData with scvi.data.setup_anndata(adata) first"
     ]
    }
   ],
   "source": [
    "model = scvi.model.SCANVI(train_data,\n",
    "                          unlabeled_category = 'unknown', \n",
    "                          use_cuda = True, \n",
    "                          n_layers=3, \n",
    "                          n_latent=50, \n",
    "                          dispersion='gene-batch')"
   ]
  },
  {
   "cell_type": "code",
   "execution_count": 50,
   "metadata": {},
   "outputs": [],
   "source": [
    "unsupervised_trainer_kwargs = dict(data_loader_kwargs=dict(pin_memory=True))\n",
    "semisupervised_trainer_kwargs = dict(data_loader_kwargs=dict(pin_memory=True))\n",
    "semisupervised_train_kwargs = dict(batch_size = 1024)\n",
    "unsupervised_train_kwargs = dict(batch_size = 1024)"
   ]
  },
  {
   "cell_type": "code",
   "execution_count": 58,
   "metadata": {},
   "outputs": [],
   "source": []
  },
  {
   "cell_type": "code",
   "execution_count": 59,
   "metadata": {},
   "outputs": [
    {
     "name": "stdout",
     "output_type": "stream",
     "text": [
      "\u001b[34mINFO\u001b[0m      Training Unsupervised Trainer for \u001b[1;34m1\u001b[0m epochs.                                        \n",
      "\u001b[34mINFO\u001b[0m      Training SemiSupervised Trainer for \u001b[1;34m1\u001b[0m epochs.                                      \n",
      "\u001b[34mINFO\u001b[0m      KL warmup phase exceeds overall training phaseIf your applications rely on the     \n",
      "          posterior quality, consider training for more epochs or reducing the kl warmup.    \n",
      "\u001b[34mINFO\u001b[0m      KL warmup for \u001b[1;34m10\u001b[0m epochs                                                            \n",
      "Training...:   0%|          | 0/1 [00:08<?, ?it/s]\n"
     ]
    },
    {
     "ename": "KeyboardInterrupt",
     "evalue": "",
     "output_type": "error",
     "traceback": [
      "\u001b[0;31m---------------------------------------------------------------------------\u001b[0m",
      "\u001b[0;31mKeyboardInterrupt\u001b[0m                         Traceback (most recent call last)",
      "\u001b[0;32m<ipython-input-59-e0659efcee70>\u001b[0m in \u001b[0;36m<module>\u001b[0;34m\u001b[0m\n\u001b[1;32m      2\u001b[0m             \u001b[0msemisupervised_trainer_kwargs\u001b[0m \u001b[0;34m=\u001b[0m \u001b[0msemisupervised_trainer_kwargs\u001b[0m\u001b[0;34m,\u001b[0m\u001b[0;34m\u001b[0m\u001b[0;34m\u001b[0m\u001b[0m\n\u001b[1;32m      3\u001b[0m             \u001b[0msemisupervised_train_kwargs\u001b[0m\u001b[0;34m=\u001b[0m\u001b[0msemisupervised_train_kwargs\u001b[0m\u001b[0;34m,\u001b[0m\u001b[0;34m\u001b[0m\u001b[0;34m\u001b[0m\u001b[0m\n\u001b[0;32m----> 4\u001b[0;31m             unsupervised_train_kwargs = unsupervised_train_kwargs)\n\u001b[0m",
      "\u001b[0;32m/opt/conda/envs/tabula_sapiens/lib/python3.6/site-packages/scvi/model/scanvi.py\u001b[0m in \u001b[0;36mtrain\u001b[0;34m(self, n_epochs_unsupervised, n_epochs_semisupervised, train_size, test_size, lr, n_epochs_kl_warmup, n_iter_kl_warmup, frequency, unsupervised_trainer_kwargs, semisupervised_trainer_kwargs, unsupervised_train_kwargs, semisupervised_train_kwargs)\u001b[0m\n\u001b[1;32m    243\u001b[0m             )\n\u001b[1;32m    244\u001b[0m             self._unsupervised_trainer.train(\n\u001b[0;32m--> 245\u001b[0;31m                 \u001b[0mn_epochs\u001b[0m\u001b[0;34m=\u001b[0m\u001b[0mn_epochs_unsupervised\u001b[0m\u001b[0;34m,\u001b[0m \u001b[0mlr\u001b[0m\u001b[0;34m=\u001b[0m\u001b[0mlr\u001b[0m\u001b[0;34m,\u001b[0m \u001b[0;34m**\u001b[0m\u001b[0munsupervised_train_kwargs\u001b[0m\u001b[0;34m\u001b[0m\u001b[0;34m\u001b[0m\u001b[0m\n\u001b[0m\u001b[1;32m    246\u001b[0m             )\n\u001b[1;32m    247\u001b[0m             \u001b[0mself\u001b[0m\u001b[0;34m.\u001b[0m\u001b[0munsupervised_history_\u001b[0m \u001b[0;34m=\u001b[0m \u001b[0mself\u001b[0m\u001b[0;34m.\u001b[0m\u001b[0m_unsupervised_trainer\u001b[0m\u001b[0;34m.\u001b[0m\u001b[0mhistory\u001b[0m\u001b[0;34m\u001b[0m\u001b[0;34m\u001b[0m\u001b[0m\n",
      "\u001b[0;32m/opt/conda/envs/tabula_sapiens/lib/python3.6/site-packages/scvi/core/trainers/trainer.py\u001b[0m in \u001b[0;36mtrain\u001b[0;34m(self, n_epochs, lr, eps, params, **extras_kwargs)\u001b[0m\n\u001b[1;32m    194\u001b[0m                 \u001b[0mself\u001b[0m\u001b[0;34m.\u001b[0m\u001b[0mon_iteration_begin\u001b[0m\u001b[0;34m(\u001b[0m\u001b[0;34m)\u001b[0m\u001b[0;34m\u001b[0m\u001b[0;34m\u001b[0m\u001b[0m\n\u001b[1;32m    195\u001b[0m                 \u001b[0;31m# Update the model's parameters after seeing the data\u001b[0m\u001b[0;34m\u001b[0m\u001b[0;34m\u001b[0m\u001b[0;34m\u001b[0m\u001b[0m\n\u001b[0;32m--> 196\u001b[0;31m                 \u001b[0mself\u001b[0m\u001b[0;34m.\u001b[0m\u001b[0mon_training_loop\u001b[0m\u001b[0;34m(\u001b[0m\u001b[0mtensors_dict\u001b[0m\u001b[0;34m)\u001b[0m\u001b[0;34m\u001b[0m\u001b[0;34m\u001b[0m\u001b[0m\n\u001b[0m\u001b[1;32m    197\u001b[0m                 \u001b[0;31m# Checks the training status, ensures no nan loss\u001b[0m\u001b[0;34m\u001b[0m\u001b[0;34m\u001b[0m\u001b[0;34m\u001b[0m\u001b[0m\n\u001b[1;32m    198\u001b[0m                 \u001b[0mself\u001b[0m\u001b[0;34m.\u001b[0m\u001b[0mon_iteration_end\u001b[0m\u001b[0;34m(\u001b[0m\u001b[0;34m)\u001b[0m\u001b[0;34m\u001b[0m\u001b[0;34m\u001b[0m\u001b[0m\n",
      "\u001b[0;32m/opt/conda/envs/tabula_sapiens/lib/python3.6/site-packages/scvi/core/trainers/trainer.py\u001b[0m in \u001b[0;36mon_training_loop\u001b[0;34m(self, tensors_dict)\u001b[0m\n\u001b[1;32m    212\u001b[0m \u001b[0;34m\u001b[0m\u001b[0m\n\u001b[1;32m    213\u001b[0m     \u001b[0;32mdef\u001b[0m \u001b[0mon_training_loop\u001b[0m\u001b[0;34m(\u001b[0m\u001b[0mself\u001b[0m\u001b[0;34m,\u001b[0m \u001b[0mtensors_dict\u001b[0m\u001b[0;34m)\u001b[0m\u001b[0;34m:\u001b[0m\u001b[0;34m\u001b[0m\u001b[0;34m\u001b[0m\u001b[0m\n\u001b[0;32m--> 214\u001b[0;31m         \u001b[0mself\u001b[0m\u001b[0;34m.\u001b[0m\u001b[0mcurrent_loss\u001b[0m \u001b[0;34m=\u001b[0m \u001b[0mloss\u001b[0m \u001b[0;34m=\u001b[0m \u001b[0mself\u001b[0m\u001b[0;34m.\u001b[0m\u001b[0mloss\u001b[0m\u001b[0;34m(\u001b[0m\u001b[0;34m*\u001b[0m\u001b[0mtensors_dict\u001b[0m\u001b[0;34m)\u001b[0m\u001b[0;34m\u001b[0m\u001b[0;34m\u001b[0m\u001b[0m\n\u001b[0m\u001b[1;32m    215\u001b[0m         \u001b[0mself\u001b[0m\u001b[0;34m.\u001b[0m\u001b[0moptimizer\u001b[0m\u001b[0;34m.\u001b[0m\u001b[0mzero_grad\u001b[0m\u001b[0;34m(\u001b[0m\u001b[0;34m)\u001b[0m\u001b[0;34m\u001b[0m\u001b[0;34m\u001b[0m\u001b[0m\n\u001b[1;32m    216\u001b[0m         \u001b[0mloss\u001b[0m\u001b[0;34m.\u001b[0m\u001b[0mbackward\u001b[0m\u001b[0;34m(\u001b[0m\u001b[0;34m)\u001b[0m\u001b[0;34m\u001b[0m\u001b[0;34m\u001b[0m\u001b[0m\n",
      "\u001b[0;32m/opt/conda/envs/tabula_sapiens/lib/python3.6/site-packages/scvi/core/trainers/inference.py\u001b[0m in \u001b[0;36mloss\u001b[0;34m(self, tensors, feed_labels)\u001b[0m\n\u001b[1;32m    133\u001b[0m             \u001b[0my\u001b[0m \u001b[0;34m=\u001b[0m \u001b[0;32mNone\u001b[0m\u001b[0;34m\u001b[0m\u001b[0;34m\u001b[0m\u001b[0m\n\u001b[1;32m    134\u001b[0m         reconst_loss, kl_divergence_local, kl_divergence_global = self.model(\n\u001b[0;32m--> 135\u001b[0;31m             \u001b[0msample_batch\u001b[0m\u001b[0;34m,\u001b[0m \u001b[0mlocal_l_mean\u001b[0m\u001b[0;34m,\u001b[0m \u001b[0mlocal_l_var\u001b[0m\u001b[0;34m,\u001b[0m \u001b[0mbatch_index\u001b[0m\u001b[0;34m,\u001b[0m \u001b[0my\u001b[0m\u001b[0;34m\u001b[0m\u001b[0;34m\u001b[0m\u001b[0m\n\u001b[0m\u001b[1;32m    136\u001b[0m         )\n\u001b[1;32m    137\u001b[0m         loss = (\n",
      "\u001b[0;32m/opt/conda/envs/tabula_sapiens/lib/python3.6/site-packages/torch/nn/modules/module.py\u001b[0m in \u001b[0;36m__call__\u001b[0;34m(self, *input, **kwargs)\u001b[0m\n\u001b[1;32m    530\u001b[0m             \u001b[0mresult\u001b[0m \u001b[0;34m=\u001b[0m \u001b[0mself\u001b[0m\u001b[0;34m.\u001b[0m\u001b[0m_slow_forward\u001b[0m\u001b[0;34m(\u001b[0m\u001b[0;34m*\u001b[0m\u001b[0minput\u001b[0m\u001b[0;34m,\u001b[0m \u001b[0;34m**\u001b[0m\u001b[0mkwargs\u001b[0m\u001b[0;34m)\u001b[0m\u001b[0;34m\u001b[0m\u001b[0;34m\u001b[0m\u001b[0m\n\u001b[1;32m    531\u001b[0m         \u001b[0;32melse\u001b[0m\u001b[0;34m:\u001b[0m\u001b[0;34m\u001b[0m\u001b[0;34m\u001b[0m\u001b[0m\n\u001b[0;32m--> 532\u001b[0;31m             \u001b[0mresult\u001b[0m \u001b[0;34m=\u001b[0m \u001b[0mself\u001b[0m\u001b[0;34m.\u001b[0m\u001b[0mforward\u001b[0m\u001b[0;34m(\u001b[0m\u001b[0;34m*\u001b[0m\u001b[0minput\u001b[0m\u001b[0;34m,\u001b[0m \u001b[0;34m**\u001b[0m\u001b[0mkwargs\u001b[0m\u001b[0;34m)\u001b[0m\u001b[0;34m\u001b[0m\u001b[0;34m\u001b[0m\u001b[0m\n\u001b[0m\u001b[1;32m    533\u001b[0m         \u001b[0;32mfor\u001b[0m \u001b[0mhook\u001b[0m \u001b[0;32min\u001b[0m \u001b[0mself\u001b[0m\u001b[0;34m.\u001b[0m\u001b[0m_forward_hooks\u001b[0m\u001b[0;34m.\u001b[0m\u001b[0mvalues\u001b[0m\u001b[0;34m(\u001b[0m\u001b[0;34m)\u001b[0m\u001b[0;34m:\u001b[0m\u001b[0;34m\u001b[0m\u001b[0;34m\u001b[0m\u001b[0m\n\u001b[1;32m    534\u001b[0m             \u001b[0mhook_result\u001b[0m \u001b[0;34m=\u001b[0m \u001b[0mhook\u001b[0m\u001b[0;34m(\u001b[0m\u001b[0mself\u001b[0m\u001b[0;34m,\u001b[0m \u001b[0minput\u001b[0m\u001b[0;34m,\u001b[0m \u001b[0mresult\u001b[0m\u001b[0;34m)\u001b[0m\u001b[0;34m\u001b[0m\u001b[0;34m\u001b[0m\u001b[0m\n",
      "\u001b[0;32m/opt/conda/envs/tabula_sapiens/lib/python3.6/site-packages/scvi/core/modules/vae.py\u001b[0m in \u001b[0;36mforward\u001b[0;34m(self, x, local_l_mean, local_l_var, batch_index, y)\u001b[0m\n\u001b[1;32m    390\u001b[0m         \u001b[0mkl_divergence\u001b[0m \u001b[0;34m=\u001b[0m \u001b[0mkl_divergence_z\u001b[0m\u001b[0;34m\u001b[0m\u001b[0;34m\u001b[0m\u001b[0m\n\u001b[1;32m    391\u001b[0m \u001b[0;34m\u001b[0m\u001b[0m\n\u001b[0;32m--> 392\u001b[0;31m         \u001b[0mreconst_loss\u001b[0m \u001b[0;34m=\u001b[0m \u001b[0mself\u001b[0m\u001b[0;34m.\u001b[0m\u001b[0mget_reconstruction_loss\u001b[0m\u001b[0;34m(\u001b[0m\u001b[0mx\u001b[0m\u001b[0;34m,\u001b[0m \u001b[0mpx_rate\u001b[0m\u001b[0;34m,\u001b[0m \u001b[0mpx_r\u001b[0m\u001b[0;34m,\u001b[0m \u001b[0mpx_dropout\u001b[0m\u001b[0;34m)\u001b[0m\u001b[0;34m\u001b[0m\u001b[0;34m\u001b[0m\u001b[0m\n\u001b[0m\u001b[1;32m    393\u001b[0m \u001b[0;34m\u001b[0m\u001b[0m\n\u001b[1;32m    394\u001b[0m         \u001b[0;32mreturn\u001b[0m \u001b[0mreconst_loss\u001b[0m \u001b[0;34m+\u001b[0m \u001b[0mkl_divergence_l\u001b[0m\u001b[0;34m,\u001b[0m \u001b[0mkl_divergence\u001b[0m\u001b[0;34m,\u001b[0m \u001b[0;36m0.0\u001b[0m\u001b[0;34m\u001b[0m\u001b[0;34m\u001b[0m\u001b[0m\n",
      "\u001b[0;32m/opt/conda/envs/tabula_sapiens/lib/python3.6/site-packages/scvi/core/modules/vae.py\u001b[0m in \u001b[0;36mget_reconstruction_loss\u001b[0;34m(self, x, px_rate, px_r, px_dropout, **kwargs)\u001b[0m\n\u001b[1;32m    277\u001b[0m                     \u001b[0mmu\u001b[0m\u001b[0;34m=\u001b[0m\u001b[0mpx_rate\u001b[0m\u001b[0;34m,\u001b[0m \u001b[0mtheta\u001b[0m\u001b[0;34m=\u001b[0m\u001b[0mpx_r\u001b[0m\u001b[0;34m,\u001b[0m \u001b[0mzi_logits\u001b[0m\u001b[0;34m=\u001b[0m\u001b[0mpx_dropout\u001b[0m\u001b[0;34m\u001b[0m\u001b[0;34m\u001b[0m\u001b[0m\n\u001b[1;32m    278\u001b[0m                 )\n\u001b[0;32m--> 279\u001b[0;31m                 \u001b[0;34m.\u001b[0m\u001b[0mlog_prob\u001b[0m\u001b[0;34m(\u001b[0m\u001b[0mx\u001b[0m\u001b[0;34m)\u001b[0m\u001b[0;34m\u001b[0m\u001b[0;34m\u001b[0m\u001b[0m\n\u001b[0m\u001b[1;32m    280\u001b[0m                 \u001b[0;34m.\u001b[0m\u001b[0msum\u001b[0m\u001b[0;34m(\u001b[0m\u001b[0mdim\u001b[0m\u001b[0;34m=\u001b[0m\u001b[0;34m-\u001b[0m\u001b[0;36m1\u001b[0m\u001b[0;34m)\u001b[0m\u001b[0;34m\u001b[0m\u001b[0;34m\u001b[0m\u001b[0m\n\u001b[1;32m    281\u001b[0m             )\n",
      "\u001b[0;32m/opt/conda/envs/tabula_sapiens/lib/python3.6/site-packages/scvi/core/distributions/_negative_binomial.py\u001b[0m in \u001b[0;36mlog_prob\u001b[0;34m(self, value)\u001b[0m\n\u001b[1;32m    418\u001b[0m     \u001b[0;32mdef\u001b[0m \u001b[0mlog_prob\u001b[0m\u001b[0;34m(\u001b[0m\u001b[0mself\u001b[0m\u001b[0;34m,\u001b[0m \u001b[0mvalue\u001b[0m\u001b[0;34m:\u001b[0m \u001b[0mtorch\u001b[0m\u001b[0;34m.\u001b[0m\u001b[0mTensor\u001b[0m\u001b[0;34m)\u001b[0m \u001b[0;34m->\u001b[0m \u001b[0mtorch\u001b[0m\u001b[0;34m.\u001b[0m\u001b[0mTensor\u001b[0m\u001b[0;34m:\u001b[0m\u001b[0;34m\u001b[0m\u001b[0;34m\u001b[0m\u001b[0m\n\u001b[1;32m    419\u001b[0m         \u001b[0;32mtry\u001b[0m\u001b[0;34m:\u001b[0m\u001b[0;34m\u001b[0m\u001b[0;34m\u001b[0m\u001b[0m\n\u001b[0;32m--> 420\u001b[0;31m             \u001b[0mself\u001b[0m\u001b[0;34m.\u001b[0m\u001b[0m_validate_sample\u001b[0m\u001b[0;34m(\u001b[0m\u001b[0mvalue\u001b[0m\u001b[0;34m)\u001b[0m\u001b[0;34m\u001b[0m\u001b[0;34m\u001b[0m\u001b[0m\n\u001b[0m\u001b[1;32m    421\u001b[0m         \u001b[0;32mexcept\u001b[0m \u001b[0mValueError\u001b[0m\u001b[0;34m:\u001b[0m\u001b[0;34m\u001b[0m\u001b[0;34m\u001b[0m\u001b[0m\n\u001b[1;32m    422\u001b[0m             warnings.warn(\n",
      "\u001b[0;32m/opt/conda/envs/tabula_sapiens/lib/python3.6/site-packages/torch/distributions/distribution.py\u001b[0m in \u001b[0;36m_validate_sample\u001b[0;34m(self, value)\u001b[0m\n\u001b[1;32m    250\u001b[0m                                  format(actual_shape, expected_shape))\n\u001b[1;32m    251\u001b[0m \u001b[0;34m\u001b[0m\u001b[0m\n\u001b[0;32m--> 252\u001b[0;31m         \u001b[0;32mif\u001b[0m \u001b[0;32mnot\u001b[0m \u001b[0mself\u001b[0m\u001b[0;34m.\u001b[0m\u001b[0msupport\u001b[0m\u001b[0;34m.\u001b[0m\u001b[0mcheck\u001b[0m\u001b[0;34m(\u001b[0m\u001b[0mvalue\u001b[0m\u001b[0;34m)\u001b[0m\u001b[0;34m.\u001b[0m\u001b[0mall\u001b[0m\u001b[0;34m(\u001b[0m\u001b[0;34m)\u001b[0m\u001b[0;34m:\u001b[0m\u001b[0;34m\u001b[0m\u001b[0;34m\u001b[0m\u001b[0m\n\u001b[0m\u001b[1;32m    253\u001b[0m             \u001b[0;32mraise\u001b[0m \u001b[0mValueError\u001b[0m\u001b[0;34m(\u001b[0m\u001b[0;34m'The value argument must be within the support'\u001b[0m\u001b[0;34m)\u001b[0m\u001b[0;34m\u001b[0m\u001b[0;34m\u001b[0m\u001b[0m\n\u001b[1;32m    254\u001b[0m \u001b[0;34m\u001b[0m\u001b[0m\n",
      "\u001b[0;32m/opt/conda/envs/tabula_sapiens/lib/python3.6/site-packages/torch/distributions/constraints.py\u001b[0m in \u001b[0;36mcheck\u001b[0;34m(self, value)\u001b[0m\n\u001b[1;32m    148\u001b[0m \u001b[0;34m\u001b[0m\u001b[0m\n\u001b[1;32m    149\u001b[0m     \u001b[0;32mdef\u001b[0m \u001b[0mcheck\u001b[0m\u001b[0;34m(\u001b[0m\u001b[0mself\u001b[0m\u001b[0;34m,\u001b[0m \u001b[0mvalue\u001b[0m\u001b[0;34m)\u001b[0m\u001b[0;34m:\u001b[0m\u001b[0;34m\u001b[0m\u001b[0;34m\u001b[0m\u001b[0m\n\u001b[0;32m--> 150\u001b[0;31m         \u001b[0;32mreturn\u001b[0m \u001b[0;34m(\u001b[0m\u001b[0mvalue\u001b[0m \u001b[0;34m%\u001b[0m \u001b[0;36m1\u001b[0m \u001b[0;34m==\u001b[0m \u001b[0;36m0\u001b[0m\u001b[0;34m)\u001b[0m \u001b[0;34m&\u001b[0m \u001b[0;34m(\u001b[0m\u001b[0mvalue\u001b[0m \u001b[0;34m>=\u001b[0m \u001b[0mself\u001b[0m\u001b[0;34m.\u001b[0m\u001b[0mlower_bound\u001b[0m\u001b[0;34m)\u001b[0m\u001b[0;34m\u001b[0m\u001b[0;34m\u001b[0m\u001b[0m\n\u001b[0m\u001b[1;32m    151\u001b[0m \u001b[0;34m\u001b[0m\u001b[0m\n\u001b[1;32m    152\u001b[0m     \u001b[0;32mdef\u001b[0m \u001b[0m__repr__\u001b[0m\u001b[0;34m(\u001b[0m\u001b[0mself\u001b[0m\u001b[0;34m)\u001b[0m\u001b[0;34m:\u001b[0m\u001b[0;34m\u001b[0m\u001b[0;34m\u001b[0m\u001b[0m\n",
      "\u001b[0;31mKeyboardInterrupt\u001b[0m: "
     ]
    }
   ],
   "source": [
    "model.train(n_epochs_unsupervised = 1, n_epochs_semisupervised = 1, train_size=1.0,n_epochs_kl_warmup=10,unsupervised_trainer_kwargs=unsupervised_trainer_kwargs ,\n",
    "            semisupervised_trainer_kwargs = semisupervised_trainer_kwargs,\n",
    "            semisupervised_train_kwargs=semisupervised_train_kwargs,\n",
    "            unsupervised_train_kwargs = unsupervised_train_kwargs)\n"
   ]
  },
  {
   "cell_type": "code",
   "execution_count": 56,
   "metadata": {},
   "outputs": [],
   "source": [
    "test_data.obs['scanvi_labels'] = 'unknown'"
   ]
  },
  {
   "cell_type": "code",
   "execution_count": 25,
   "metadata": {},
   "outputs": [
    {
     "name": "stdout",
     "output_type": "stream",
     "text": [
      "\u001b[34mINFO\u001b[0m      Using batches from adata.obs\u001b[1m[\u001b[0m\u001b[32m\"method\"\u001b[0m\u001b[1m]\u001b[0m                                             \n",
      "\u001b[34mINFO\u001b[0m      Using labels from adata.obs\u001b[1m[\u001b[0m\u001b[32m\"scanvi_labels\"\u001b[0m\u001b[1m]\u001b[0m                                       \n",
      "\u001b[34mINFO\u001b[0m      Using data from adata.X                                                            \n",
      "\u001b[34mINFO\u001b[0m      Computing library size prior per batch                                             \n",
      "\u001b[34mINFO\u001b[0m      Successfully registered anndata object containing \u001b[1;34m31117\u001b[0m cells, \u001b[1;34m4000\u001b[0m vars, \u001b[1;34m1\u001b[0m        \n",
      "          batches, \u001b[1;34m1\u001b[0m labels, and \u001b[1;34m0\u001b[0m proteins. Also registered \u001b[1;34m0\u001b[0m extra categorical covariates  \n",
      "          and \u001b[1;34m0\u001b[0m extra continuous covariates.                                                 \n",
      "\u001b[34mINFO\u001b[0m      Please do not further modify adata until model is trained.                         \n"
     ]
    },
    {
     "name": "stderr",
     "output_type": "stream",
     "text": [
      "/opt/conda/envs/tabula_sapiens/lib/python3.6/site-packages/anndata/_core/anndata.py:1094: FutureWarning: is_categorical is deprecated and will be removed in a future version.  Use is_categorical_dtype instead\n",
      "  if not is_categorical(df_full[k]):\n"
     ]
    }
   ],
   "source": [
    "scvi.data.setup_anndata(test_data, batch_key = 'method', labels_key = 'scanvi_labels')"
   ]
  },
  {
   "cell_type": "code",
   "execution_count": null,
   "metadata": {},
   "outputs": [],
   "source": []
  },
  {
   "cell_type": "code",
   "execution_count": 57,
   "metadata": {},
   "outputs": [
    {
     "ename": "KeyError",
     "evalue": "'data_registry'",
     "output_type": "error",
     "traceback": [
      "\u001b[0;31m---------------------------------------------------------------------------\u001b[0m",
      "\u001b[0;31mKeyError\u001b[0m                                  Traceback (most recent call last)",
      "\u001b[0;32m<ipython-input-57-a4e72cfaa5fb>\u001b[0m in \u001b[0;36m<module>\u001b[0;34m\u001b[0m\n\u001b[0;32m----> 1\u001b[0;31m \u001b[0mmodel\u001b[0m\u001b[0;34m.\u001b[0m\u001b[0mpredict\u001b[0m\u001b[0;34m(\u001b[0m\u001b[0mtest_data\u001b[0m\u001b[0;34m)\u001b[0m\u001b[0;34m\u001b[0m\u001b[0;34m\u001b[0m\u001b[0m\n\u001b[0m",
      "\u001b[0;32m/opt/conda/envs/tabula_sapiens/lib/python3.6/site-packages/scvi/model/scanvi.py\u001b[0m in \u001b[0;36mpredict\u001b[0;34m(self, adata, indices, soft, batch_size)\u001b[0m\n\u001b[1;32m    294\u001b[0m             \u001b[0mMinibatch\u001b[0m \u001b[0msize\u001b[0m \u001b[0mto\u001b[0m \u001b[0muse\u001b[0m\u001b[0;34m.\u001b[0m\u001b[0;34m\u001b[0m\u001b[0;34m\u001b[0m\u001b[0m\n\u001b[1;32m    295\u001b[0m         \"\"\"\n\u001b[0;32m--> 296\u001b[0;31m         \u001b[0madata\u001b[0m \u001b[0;34m=\u001b[0m \u001b[0mself\u001b[0m\u001b[0;34m.\u001b[0m\u001b[0m_validate_anndata\u001b[0m\u001b[0;34m(\u001b[0m\u001b[0madata\u001b[0m\u001b[0;34m)\u001b[0m\u001b[0;34m\u001b[0m\u001b[0;34m\u001b[0m\u001b[0m\n\u001b[0m\u001b[1;32m    297\u001b[0m \u001b[0;34m\u001b[0m\u001b[0m\n\u001b[1;32m    298\u001b[0m         \u001b[0;32mif\u001b[0m \u001b[0mindices\u001b[0m \u001b[0;32mis\u001b[0m \u001b[0;32mNone\u001b[0m\u001b[0;34m:\u001b[0m\u001b[0;34m\u001b[0m\u001b[0;34m\u001b[0m\u001b[0m\n",
      "\u001b[0;32m/opt/conda/envs/tabula_sapiens/lib/python3.6/site-packages/scvi/core/models/base.py\u001b[0m in \u001b[0;36m_validate_anndata\u001b[0;34m(self, adata, copy_if_view)\u001b[0m\n\u001b[1;32m     85\u001b[0m             \u001b[0mtransfer_anndata_setup\u001b[0m\u001b[0;34m(\u001b[0m\u001b[0mself\u001b[0m\u001b[0;34m.\u001b[0m\u001b[0mscvi_setup_dict_\u001b[0m\u001b[0;34m,\u001b[0m \u001b[0madata\u001b[0m\u001b[0;34m)\u001b[0m\u001b[0;34m\u001b[0m\u001b[0;34m\u001b[0m\u001b[0m\n\u001b[1;32m     86\u001b[0m         is_nonneg_int = _check_nonnegative_integers(\n\u001b[0;32m---> 87\u001b[0;31m             \u001b[0mget_from_registry\u001b[0m\u001b[0;34m(\u001b[0m\u001b[0madata\u001b[0m\u001b[0;34m,\u001b[0m \u001b[0m_CONSTANTS\u001b[0m\u001b[0;34m.\u001b[0m\u001b[0mX_KEY\u001b[0m\u001b[0;34m)\u001b[0m\u001b[0;34m\u001b[0m\u001b[0;34m\u001b[0m\u001b[0m\n\u001b[0m\u001b[1;32m     88\u001b[0m         )\n\u001b[1;32m     89\u001b[0m         \u001b[0;32mif\u001b[0m \u001b[0;32mnot\u001b[0m \u001b[0mis_nonneg_int\u001b[0m\u001b[0;34m:\u001b[0m\u001b[0;34m\u001b[0m\u001b[0;34m\u001b[0m\u001b[0m\n",
      "\u001b[0;32m/opt/conda/envs/tabula_sapiens/lib/python3.6/site-packages/scvi/data/_anndata.py\u001b[0m in \u001b[0;36mget_from_registry\u001b[0;34m(adata, key)\u001b[0m\n\u001b[1;32m     61\u001b[0m            [0]])\n\u001b[1;32m     62\u001b[0m     \"\"\"\n\u001b[0;32m---> 63\u001b[0;31m     \u001b[0mdata_loc\u001b[0m \u001b[0;34m=\u001b[0m \u001b[0madata\u001b[0m\u001b[0;34m.\u001b[0m\u001b[0muns\u001b[0m\u001b[0;34m[\u001b[0m\u001b[0;34m\"_scvi\"\u001b[0m\u001b[0;34m]\u001b[0m\u001b[0;34m[\u001b[0m\u001b[0;34m\"data_registry\"\u001b[0m\u001b[0;34m]\u001b[0m\u001b[0;34m[\u001b[0m\u001b[0mkey\u001b[0m\u001b[0;34m]\u001b[0m\u001b[0;34m\u001b[0m\u001b[0;34m\u001b[0m\u001b[0m\n\u001b[0m\u001b[1;32m     64\u001b[0m     \u001b[0mattr_name\u001b[0m\u001b[0;34m,\u001b[0m \u001b[0mattr_key\u001b[0m \u001b[0;34m=\u001b[0m \u001b[0mdata_loc\u001b[0m\u001b[0;34m[\u001b[0m\u001b[0;34m\"attr_name\"\u001b[0m\u001b[0;34m]\u001b[0m\u001b[0;34m,\u001b[0m \u001b[0mdata_loc\u001b[0m\u001b[0;34m[\u001b[0m\u001b[0;34m\"attr_key\"\u001b[0m\u001b[0;34m]\u001b[0m\u001b[0;34m\u001b[0m\u001b[0;34m\u001b[0m\u001b[0m\n\u001b[1;32m     65\u001b[0m \u001b[0;34m\u001b[0m\u001b[0m\n",
      "\u001b[0;31mKeyError\u001b[0m: 'data_registry'"
     ]
    }
   ],
   "source": [
    "model.predict(test_data)"
   ]
  },
  {
   "cell_type": "code",
   "execution_count": 19,
   "metadata": {},
   "outputs": [],
   "source": [
    "adata = test_data\n",
    "scdl = model._make_scvi_dl(adata=adata, indices=np.arange(adata.n_obs), batch_size = 1024)\n",
    "_, pred = scdl.sequential().compute_predictions()\n"
   ]
  },
  {
   "cell_type": "code",
   "execution_count": 48,
   "metadata": {},
   "outputs": [
    {
     "ename": "KeyError",
     "evalue": "'capillary endothelial cell'",
     "output_type": "error",
     "traceback": [
      "\u001b[0;31m---------------------------------------------------------------------------\u001b[0m",
      "\u001b[0;31mKeyError\u001b[0m                                  Traceback (most recent call last)",
      "\u001b[0;32m<ipython-input-48-bba066558212>\u001b[0m in \u001b[0;36m<module>\u001b[0;34m\u001b[0m\n\u001b[1;32m      1\u001b[0m \u001b[0mpredictions\u001b[0m \u001b[0;34m=\u001b[0m \u001b[0;34m[\u001b[0m\u001b[0;34m]\u001b[0m\u001b[0;34m\u001b[0m\u001b[0;34m\u001b[0m\u001b[0m\n\u001b[1;32m      2\u001b[0m \u001b[0;32mfor\u001b[0m \u001b[0mp\u001b[0m \u001b[0;32min\u001b[0m \u001b[0mpred\u001b[0m\u001b[0;34m:\u001b[0m\u001b[0;34m\u001b[0m\u001b[0;34m\u001b[0m\u001b[0m\n\u001b[0;32m----> 3\u001b[0;31m     \u001b[0mpredictions\u001b[0m\u001b[0;34m.\u001b[0m\u001b[0mappend\u001b[0m\u001b[0;34m(\u001b[0m\u001b[0mmodel\u001b[0m\u001b[0;34m.\u001b[0m\u001b[0m_code_to_label\u001b[0m\u001b[0;34m[\u001b[0m\u001b[0mp\u001b[0m\u001b[0;34m]\u001b[0m\u001b[0;34m)\u001b[0m\u001b[0;34m\u001b[0m\u001b[0;34m\u001b[0m\u001b[0m\n\u001b[0m\u001b[1;32m      4\u001b[0m \u001b[0mpred\u001b[0m \u001b[0;34m=\u001b[0m \u001b[0mnp\u001b[0m\u001b[0;34m.\u001b[0m\u001b[0marray\u001b[0m\u001b[0;34m(\u001b[0m\u001b[0mpredictions\u001b[0m\u001b[0;34m)\u001b[0m\u001b[0;34m\u001b[0m\u001b[0;34m\u001b[0m\u001b[0m\n",
      "\u001b[0;31mKeyError\u001b[0m: 'capillary endothelial cell'"
     ]
    }
   ],
   "source": [
    "predictions = []\n",
    "for p in pred:\n",
    "    predictions.append(model._code_to_label[p])\n",
    "pred = np.array(predictions)"
   ]
  },
  {
   "cell_type": "code",
   "execution_count": 22,
   "metadata": {},
   "outputs": [],
   "source": [
    "import pandas as pd\n",
    "pd.DataFrame(index = adata.obs_names, data =pred).to_csv('scanvi_pred.csv')"
   ]
  },
  {
   "cell_type": "code",
   "execution_count": 47,
   "metadata": {},
   "outputs": [
    {
     "name": "stdout",
     "output_type": "stream",
     "text": [
      "\u001b[34mINFO\u001b[0m      Using data from adata.X                                                            \n",
      "\u001b[34mINFO\u001b[0m      Computing library size prior per batch                                             \n",
      "\u001b[34mINFO\u001b[0m      Registered keys:\u001b[1m[\u001b[0m\u001b[32m'X'\u001b[0m, \u001b[32m'batch_indices'\u001b[0m, \u001b[32m'local_l_mean'\u001b[0m, \u001b[32m'local_l_var'\u001b[0m, \u001b[32m'labels'\u001b[0m\u001b[1m]\u001b[0m    \n",
      "\u001b[34mINFO\u001b[0m      Successfully registered anndata object containing \u001b[1;34m31117\u001b[0m cells, \u001b[1;34m4000\u001b[0m vars, \u001b[1;34m1\u001b[0m        \n",
      "          batches, \u001b[1;34m43\u001b[0m labels, and \u001b[1;34m0\u001b[0m proteins. Also registered \u001b[1;34m0\u001b[0m extra categorical covariates \n",
      "          and \u001b[1;34m0\u001b[0m extra continuous covariates.                                                 \n"
     ]
    },
    {
     "name": "stderr",
     "output_type": "stream",
     "text": [
      "/opt/conda/envs/tabula_sapiens/lib/python3.6/site-packages/anndata/_core/anndata.py:1094: FutureWarning: is_categorical is deprecated and will be removed in a future version.  Use is_categorical_dtype instead\n",
      "  if not is_categorical(df_full[k]):\n"
     ]
    }
   ],
   "source": [
    "scvi.data.transfer_anndata_setup(train_data, test_data)"
   ]
  },
  {
   "cell_type": "code",
   "execution_count": 66,
   "metadata": {},
   "outputs": [
    {
     "name": "stdout",
     "output_type": "stream",
     "text": [
      "\u001b[34mINFO\u001b[0m      Using batches from adata.obs\u001b[1m[\u001b[0m\u001b[32m\"batch\"\u001b[0m\u001b[1m]\u001b[0m                                              \n",
      "\u001b[34mINFO\u001b[0m      Using labels from adata.obs\u001b[1m[\u001b[0m\u001b[32m\"labels\"\u001b[0m\u001b[1m]\u001b[0m                                              \n",
      "\u001b[34mINFO\u001b[0m      Using data from adata.X                                                            \n",
      "\u001b[34mINFO\u001b[0m      Computing library size prior per batch                                             \n",
      "\u001b[34mINFO\u001b[0m      Using protein expression from adata.obsm\u001b[1m[\u001b[0m\u001b[32m'protein_expression'\u001b[0m\u001b[1m]\u001b[0m                     \n",
      "\u001b[34mINFO\u001b[0m      Using protein names from adata.uns\u001b[1m[\u001b[0m\u001b[32m'protein_names'\u001b[0m\u001b[1m]\u001b[0m                                \n",
      "\u001b[34mINFO\u001b[0m      Successfully registered anndata object containing \u001b[1;34m400\u001b[0m cells, \u001b[1;34m100\u001b[0m vars, \u001b[1;34m2\u001b[0m batches, \u001b[1;34m3\u001b[0m\n",
      "          labels, and \u001b[1;34m100\u001b[0m proteins. Also registered \u001b[1;34m0\u001b[0m extra categorical covariates and \u001b[1;34m0\u001b[0m     \n",
      "          extra continuous covariates.                                                       \n",
      "\u001b[34mINFO\u001b[0m      Please do not further modify adata until model is trained.                         \n"
     ]
    },
    {
     "name": "stderr",
     "output_type": "stream",
     "text": [
      "/opt/conda/envs/tabula_sapiens/lib/python3.6/site-packages/anndata/_core/anndata.py:1094: FutureWarning: is_categorical is deprecated and will be removed in a future version.  Use is_categorical_dtype instead\n",
      "  if not is_categorical(df_full[k]):\n",
      "/opt/conda/envs/tabula_sapiens/lib/python3.6/site-packages/anndata/_core/anndata.py:1094: FutureWarning: is_categorical is deprecated and will be removed in a future version.  Use is_categorical_dtype instead\n",
      "  if not is_categorical(df_full[k]):\n"
     ]
    }
   ],
   "source": [
    "a = scvi.data.synthetic_iid()\n",
    "m = scvi.model.SCANVI(a, 'batch_1')"
   ]
  },
  {
   "cell_type": "code",
   "execution_count": 68,
   "metadata": {},
   "outputs": [
    {
     "name": "stdout",
     "output_type": "stream",
     "text": [
      "\u001b[34mINFO\u001b[0m      Training Unsupervised Trainer for \u001b[1;34m1\u001b[0m epochs.                                        \n",
      "\u001b[34mINFO\u001b[0m      Training SemiSupervised Trainer for \u001b[1;34m1\u001b[0m epochs.                                      \n",
      "\u001b[34mINFO\u001b[0m      KL warmup phase exceeds overall training phaseIf your applications rely on the     \n",
      "          posterior quality, consider training for more epochs or reducing the kl warmup.    \n",
      "\u001b[34mINFO\u001b[0m      KL warmup for \u001b[1;34m400\u001b[0m epochs                                                           \n",
      "Training...: 100%|██████████| 1/1 [00:00<00:00, 10.94it/s]\n",
      "\u001b[34mINFO\u001b[0m      Training is still in warming up phase. If your applications rely on the posterior  \n",
      "          quality, consider training for more epochs or reducing the kl warmup.              \n",
      "\u001b[34mINFO\u001b[0m      Training time:  \u001b[1;34m0\u001b[0m s. \u001b[35m/\u001b[0m \u001b[1;34m1\u001b[0m epochs                                                    \n",
      "\u001b[34mINFO\u001b[0m      KL warmup phase exceeds overall training phaseIf your applications rely on the     \n",
      "          posterior quality, consider training for more epochs or reducing the kl warmup.    \n",
      "\u001b[34mINFO\u001b[0m      KL warmup for \u001b[1;34m400\u001b[0m epochs                                                           \n",
      "Training...: 100%|██████████| 1/1 [00:00<00:00,  3.64it/s]\n",
      "\u001b[34mINFO\u001b[0m      Training is still in warming up phase. If your applications rely on the posterior  \n",
      "          quality, consider training for more epochs or reducing the kl warmup.              \n",
      "\u001b[34mINFO\u001b[0m      Training time:  \u001b[1;34m0\u001b[0m s. \u001b[35m/\u001b[0m \u001b[1;34m1\u001b[0m epochs                                                    \n"
     ]
    }
   ],
   "source": [
    "m.train(1, 1)"
   ]
  },
  {
   "cell_type": "code",
   "execution_count": null,
   "metadata": {},
   "outputs": [],
   "source": []
  }
 ],
 "metadata": {
  "kernelspec": {
   "display_name": "tabula_sapiens",
   "language": "python",
   "name": "tabula_sapiens"
  },
  "language_info": {
   "codemirror_mode": {
    "name": "ipython",
    "version": 3
   },
   "file_extension": ".py",
   "mimetype": "text/x-python",
   "name": "python",
   "nbconvert_exporter": "python",
   "pygments_lexer": "ipython3",
   "version": "3.6.11"
  }
 },
 "nbformat": 4,
 "nbformat_minor": 4
}
