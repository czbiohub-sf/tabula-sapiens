{
 "cells": [
  {
   "cell_type": "markdown",
   "metadata": {},
   "source": [
    "# Annotation Notebook\n"
   ]
  },
  {
   "cell_type": "markdown",
   "metadata": {},
   "source": [
    "This notebook lets you annotate your own data with the tabula sapiens dataset.\n",
    "\n",
    "By default, it will run the following methods: `onclass`, `scanVI`, `svm`, and `singleCellNet`. Compute permitting, we suggest running all the methods. If your dataset exceeds 100k cells, total runtime will be around 2-3 hours on GPU. (CHECK THIS)\n",
    "\n",
    "\n",
    "## Arguments:\n",
    "- **annotation_method**: list from [`\"onclass\"`, `\"scanvi\"`, `\"svm\"`, `\"singlecellnet\"`]\n",
    "- **tissue**: `None` or one of [`Bladder`, `Blood`, `Bone_Marrow`, `Kidney`, `Large_Intestine`, `Lung`, `Lymph_Node`, `Muscle`, `Pancreas`, `Skin`,`Small_Intestine`, `Spleen`, `Thymus`, `Trachea`, `Vasculature`]. If `None`, will use the entire tabula sapiens dataset.\n",
    "- **input_anndata**: path to your input anndata\n",
    "- **output_folder_name**: folder in `/data` to save outputs to. Should be unexisting directory\n",
    "- **use_gpu**: if `True`, will use the GPU for training. Note: runtimes are significantly longer on CPU\n",
    "- **use_10X_only**: If `True`, only uses the 10X data from tabula sapiens. This should only equal True if `input_anndata` is 10X. Based on our observations, scanVI will perform better if only using 10X data. Should not be True if you have smartseq2 data.\n",
    "- **batch_correction_conditions**: List from [`\"donor\"`, `\"method\"`] or `None`\n",
    "\n",
    "Optional arguments for scanVI:\n",
    "- **scvi_model**: path to pretrained scvi model. Default: `None`.\n",
    "- **scanvi_model**: path to pretrained scanvi mode. Default: `None`.\n",
    "- **n_scvi_epochs**: n_epochs to train scvi for. Default: `400` \n",
    "- **n_scanvi_epochs**: n_epochs to train scanvi for. Default: `15`\n"
   ]
  },
  {
   "cell_type": "code",
   "execution_count": 9,
   "metadata": {},
   "outputs": [],
   "source": [
    "annotation_method = [\"onclass\", 'scanvi', 'svm', 'singlecellnet']\n",
    "tissue = 'Blood'\n",
    "input_anndata = 'data/adata_small_test.h5ad'\n",
    "output_folder_name = 'outputs3'\n",
    "use_gpu = True\n",
    "use_10X_only= True\n",
    "batch_correction_conditions = ['donor', 'method']\n",
    "\n",
    "#scVI arguments:\n",
    "scvi_model = None\n",
    "scanvi_model= None\n",
    "n_scvi_epochs= 400\n",
    "n_scanvi_epochs = 15"
   ]
  },
  {
   "cell_type": "code",
   "execution_count": 10,
   "metadata": {},
   "outputs": [],
   "source": [
    "import os\n",
    "from annotation import setup_dataset,scanvi_annotation, svm_annotation, onclass_annotation, singlecellnet_annotation\n",
    "\n",
    "output_folder = os.path.join('data', output_folder_name)\n",
    "if not os.path.exists(output_folder):\n",
    "    os.makedirs(output_folder)\n",
    "else:\n",
    "    raise ValueError(\"{} already exists. Please provide an unexisting directory to save outputs\".format(output_folder))\n",
    "#will be changed to actual TS dataset\n",
    "tabula_sapiens_filepath = 'data/OnClass_data/data_used_for_training/tabula-muris-senis-facs_cell_ontology_test.h5ad'\n"
   ]
  },
  {
   "cell_type": "code",
   "execution_count": 6,
   "metadata": {},
   "outputs": [
    {
     "name": "stderr",
     "output_type": "stream",
     "text": [
      "Trying to set attribute `.obs` of view, copying.\n"
     ]
    },
    {
     "name": "stdout",
     "output_type": "stream",
     "text": [
      "data preprocessing\n",
      "[2020-08-18 14:56:37,756] INFO - scvi.dataset.anndataset | Dense size under 1Gb, casting to dense format (np.ndarray).\n",
      "[2020-08-18 14:56:37,898] INFO - scvi.dataset.dataset | Remapping batch_indices to [0,N]\n",
      "[2020-08-18 14:56:37,900] INFO - scvi.dataset.dataset | Remapping labels to [0,N]\n",
      "[2020-08-18 14:56:38,271] INFO - scvi.dataset.dataset | Computing the library size for the new data\n",
      "[2020-08-18 14:56:38,325] INFO - scvi.dataset.dataset | Downsampled from 1044 to 1044 cells\n",
      "Training scVI\n",
      "[2020-08-18 14:56:41,265] INFO - scvi.inference.inference | KL warmup phase exceeds overall training phaseIf your applications rely on the posterior quality, consider training for more epochs or reducing the kl warmup.\n",
      "[2020-08-18 14:56:41,269] INFO - scvi.inference.inference | KL warmup for 10 epochs\n"
     ]
    },
    {
     "data": {
      "application/vnd.jupyter.widget-view+json": {
       "model_id": "fbf4c8e9072c45b697caeb788c4ae68c",
       "version_major": 2,
       "version_minor": 0
      },
      "text/plain": [
       "HBox(children=(IntProgress(value=0, description='training', max=1, style=ProgressStyle(description_width='init…"
      ]
     },
     "metadata": {},
     "output_type": "display_data"
    },
    {
     "name": "stdout",
     "output_type": "stream",
     "text": [
      "\n",
      "[2020-08-18 14:56:50,477] INFO - scvi.inference.inference | Training is still in warming up phase. If your applications rely on the posterior quality, consider training for more epochs or reducing the kl warmup.\n",
      "training scanpy\n",
      "[2020-08-18 14:56:50,824] INFO - scvi.inference.inference | KL warmup for 1 epochs\n"
     ]
    },
    {
     "data": {
      "application/vnd.jupyter.widget-view+json": {
       "model_id": "15341157e1b54f2186c597e4c8483390",
       "version_major": 2,
       "version_minor": 0
      },
      "text/plain": [
       "HBox(children=(IntProgress(value=0, description='training', max=1, style=ProgressStyle(description_width='init…"
      ]
     },
     "metadata": {},
     "output_type": "display_data"
    },
    {
     "name": "stdout",
     "output_type": "stream",
     "text": [
      "\n",
      "[2020-08-18 14:57:00,780] INFO - scvi.inference.inference | Training is still in warming up phase. If your applications rely on the posterior quality, consider training for more epochs or reducing the kl warmup.\n",
      "[2020-08-18 14:57:00,993] INFO - scvi.dataset.anndataset | Dense size under 1Gb, casting to dense format (np.ndarray).\n",
      "[2020-08-18 14:57:01,082] INFO - scvi.dataset.dataset | Remapping batch_indices to [0,N]\n",
      "[2020-08-18 14:57:01,084] INFO - scvi.dataset.dataset | Remapping labels to [0,N]\n"
     ]
    },
    {
     "name": "stderr",
     "output_type": "stream",
     "text": [
      "/opt/conda/envs/tabula_sapiens/lib/python3.6/site-packages/numpy/core/fromnumeric.py:3335: RuntimeWarning: Mean of empty slice.\n",
      "  out=out, **kwargs)\n",
      "/opt/conda/envs/tabula_sapiens/lib/python3.6/site-packages/numpy/core/_methods.py:161: RuntimeWarning: invalid value encountered in true_divide\n",
      "  ret = ret.dtype.type(ret / rcount)\n",
      "/opt/conda/envs/tabula_sapiens/lib/python3.6/site-packages/numpy/core/fromnumeric.py:3584: RuntimeWarning: Degrees of freedom <= 0 for slice\n",
      "  **kwargs)\n",
      "/opt/conda/envs/tabula_sapiens/lib/python3.6/site-packages/numpy/core/_methods.py:186: RuntimeWarning: invalid value encountered in true_divide\n",
      "  arrmean, rcount, out=arrmean, casting='unsafe', subok=False)\n",
      "/opt/conda/envs/tabula_sapiens/lib/python3.6/site-packages/numpy/core/_methods.py:209: RuntimeWarning: invalid value encountered in true_divide\n",
      "  ret = ret.dtype.type(ret / rcount)\n"
     ]
    },
    {
     "name": "stdout",
     "output_type": "stream",
     "text": [
      "[2020-08-18 14:57:01,483] INFO - scvi.dataset.dataset | Computing the library size for the new data\n",
      "[2020-08-18 14:57:01,524] INFO - scvi.dataset.dataset | Downsampled from 1019 to 1019 cells\n"
     ]
    },
    {
     "name": "stderr",
     "output_type": "stream",
     "text": [
      "Trying to set attribute `.obs` of view, copying.\n",
      "/opt/conda/envs/tabula_sapiens/lib/python3.6/site-packages/anndata/_core/anndata.py:1192: FutureWarning: is_categorical is deprecated and will be removed in a future version.  Use is_categorical_dtype instead\n",
      "  if is_string_dtype(df[key]) and not is_categorical(df[key])\n",
      "... storing 'tissue' as categorical\n",
      "... storing 'manual_cell_ontology_class' as categorical\n",
      "... storing 'method' as categorical\n",
      "... storing 'donor' as categorical\n",
      "... storing '_batch' as categorical\n",
      "... storing 'age' as categorical\n",
      "... storing 'cell_ontology_class' as categorical\n",
      "... storing 'cell_ontology_id' as categorical\n",
      "... storing 'free_annotation' as categorical\n",
      "... storing 'mouse.id' as categorical\n",
      "... storing 'sex' as categorical\n",
      "... storing 'subtissue' as categorical\n",
      "... storing 'tissue_free_annotation' as categorical\n",
      "... storing '_dataset' as categorical\n"
     ]
    },
    {
     "name": "stdout",
     "output_type": "stream",
     "text": [
      "Embed the cell ontology\n",
      "init OnClass\n",
      "Here, we used the pretrain cell type embedding file tp2emb_500\n",
      "100.000000 precentage of labels are in the Cell Ontology\n",
      "Loading the new dataset.\n",
      "97.055937 precentage of labels are in the Cell Ontology\n",
      "Predicting the labels of cells\n",
      "\n",
      "WARNING: The TensorFlow contrib module will not be included in TensorFlow 2.0.\n",
      "For more information, please see:\n",
      "  * https://github.com/tensorflow/community/blob/master/rfcs/20180907-contrib-sunset.md\n",
      "  * https://github.com/tensorflow/addons\n",
      "If you depend on functionality not listed there, please file an issue.\n",
      "\n",
      "WARNING:tensorflow:From /opt/conda/envs/tabula_sapiens/lib/python3.6/site-packages/tensorflow/python/framework/op_def_library.py:263: colocate_with (from tensorflow.python.framework.ops) is deprecated and will be removed in a future version.\n",
      "Instructions for updating:\n",
      "Colocations handled automatically by placer.\n"
     ]
    },
    {
     "name": "stderr",
     "output_type": "stream",
     "text": [
      "WARNING:tensorflow:From /opt/conda/envs/tabula_sapiens/lib/python3.6/site-packages/tensorflow/python/framework/op_def_library.py:263: colocate_with (from tensorflow.python.framework.ops) is deprecated and will be removed in a future version.\n",
      "Instructions for updating:\n",
      "Colocations handled automatically by placer.\n"
     ]
    },
    {
     "name": "stdout",
     "output_type": "stream",
     "text": [
      "WARNING:tensorflow:From /opt/conda/envs/tabula_sapiens/lib/python3.6/site-packages/tensorflow/python/training/saver.py:1266: checkpoint_exists (from tensorflow.python.training.checkpoint_management) is deprecated and will be removed in a future version.\n",
      "Instructions for updating:\n",
      "Use standard file APIs to check for files with this prefix.\n"
     ]
    },
    {
     "name": "stderr",
     "output_type": "stream",
     "text": [
      "WARNING:tensorflow:From /opt/conda/envs/tabula_sapiens/lib/python3.6/site-packages/tensorflow/python/training/saver.py:1266: checkpoint_exists (from tensorflow.python.training.checkpoint_management) is deprecated and will be removed in a future version.\n",
      "Instructions for updating:\n",
      "Use standard file APIs to check for files with this prefix.\n"
     ]
    },
    {
     "name": "stdout",
     "output_type": "stream",
     "text": [
      "INFO:tensorflow:Restoring parameters from data/OnClass_data/pretrain/BilinearNN_50019\n"
     ]
    },
    {
     "name": "stderr",
     "output_type": "stream",
     "text": [
      "INFO:tensorflow:Restoring parameters from data/OnClass_data/pretrain/BilinearNN_50019\n"
     ]
    },
    {
     "name": "stdout",
     "output_type": "stream",
     "text": [
      "training finished\n",
      "number of intersection genes 20138\n"
     ]
    },
    {
     "name": "stderr",
     "output_type": "stream",
     "text": [
      "Trying to set attribute `.obs` of view, copying.\n",
      "/opt/conda/envs/tabula_sapiens/lib/python3.6/site-packages/anndata/_core/anndata.py:1192: FutureWarning: is_categorical is deprecated and will be removed in a future version.  Use is_categorical_dtype instead\n",
      "  if is_string_dtype(df[key]) and not is_categorical(df[key])\n",
      "... storing 'OnClass_annotation_ontology_name' as categorical\n"
     ]
    },
    {
     "name": "stdout",
     "output_type": "stream",
     "text": [
      "989 989\n"
     ]
    },
    {
     "name": "stderr",
     "output_type": "stream",
     "text": [
      "/opt/conda/envs/tabula_sapiens/lib/python3.6/site-packages/anndata/_core/anndata.py:1094: FutureWarning: is_categorical is deprecated and will be removed in a future version.  Use is_categorical_dtype instead\n",
      "  if not is_categorical(df_full[k]):\n",
      "/opt/conda/envs/tabula_sapiens/lib/python3.6/site-packages/scanpy/preprocessing/_simple.py:297: DeprecationWarning: Use is_view instead of isview, isview will be removed in the future.\n",
      "  if isinstance(data, AnnData) and data.isview:\n",
      "/opt/conda/envs/tabula_sapiens/lib/python3.6/site-packages/anndata/_core/anndata.py:1192: FutureWarning: is_categorical is deprecated and will be removed in a future version.  Use is_categorical_dtype instead\n",
      "  if is_string_dtype(df[key]) and not is_categorical(df[key])\n",
      "... storing 'tissue' as categorical\n",
      "... storing 'manual_cell_ontology_class' as categorical\n",
      "... storing 'method' as categorical\n",
      "... storing 'donor' as categorical\n",
      "... storing '_batch' as categorical\n",
      "... storing 'age' as categorical\n",
      "... storing 'cell' as categorical\n",
      "... storing 'cell_ontology_class' as categorical\n",
      "... storing 'cell_ontology_id' as categorical\n",
      "... storing 'free_annotation' as categorical\n",
      "... storing 'mouse.id' as categorical\n",
      "... storing 'sex' as categorical\n",
      "... storing 'subtissue' as categorical\n",
      "... storing 'tissue_free_annotation' as categorical\n",
      "... storing '_dataset' as categorical\n",
      "/opt/conda/envs/tabula_sapiens/lib/python3.6/site-packages/anndata/_core/anndata.py:1094: FutureWarning: is_categorical is deprecated and will be removed in a future version.  Use is_categorical_dtype instead\n",
      "  if not is_categorical(df_full[k]):\n",
      "/opt/conda/envs/tabula_sapiens/lib/python3.6/site-packages/anndata/_core/anndata.py:1094: FutureWarning: is_categorical is deprecated and will be removed in a future version.  Use is_categorical_dtype instead\n",
      "  if not is_categorical(df_full[k]):\n",
      "/opt/conda/envs/tabula_sapiens/lib/python3.6/site-packages/anndata/_core/anndata.py:1094: FutureWarning: is_categorical is deprecated and will be removed in a future version.  Use is_categorical_dtype instead\n",
      "  if not is_categorical(df_full[k]):\n",
      "/opt/conda/envs/tabula_sapiens/lib/python3.6/site-packages/anndata/_core/anndata.py:1094: FutureWarning: is_categorical is deprecated and will be removed in a future version.  Use is_categorical_dtype instead\n",
      "  if not is_categorical(df_full[k]):\n",
      "/opt/conda/envs/tabula_sapiens/lib/python3.6/site-packages/anndata/_core/anndata.py:1094: FutureWarning: is_categorical is deprecated and will be removed in a future version.  Use is_categorical_dtype instead\n",
      "  if not is_categorical(df_full[k]):\n",
      "Trying to set attribute `.obs` of view, copying.\n",
      "/opt/conda/envs/tabula_sapiens/lib/python3.6/site-packages/anndata/_core/anndata.py:1192: FutureWarning: is_categorical is deprecated and will be removed in a future version.  Use is_categorical_dtype instead\n",
      "  if is_string_dtype(df[key]) and not is_categorical(df[key])\n",
      "/opt/conda/envs/tabula_sapiens/lib/python3.6/site-packages/anndata/_core/anndata.py:1210: ImplicitModificationWarning: Initializing view as actual.\n",
      "  \"Initializing view as actual.\", ImplicitModificationWarning\n",
      "Trying to set attribute `.obs` of view, copying.\n",
      "... storing 'tissue' as categorical\n",
      "Trying to set attribute `.obs` of view, copying.\n",
      "... storing 'manual_cell_ontology_class' as categorical\n",
      "Trying to set attribute `.obs` of view, copying.\n",
      "... storing 'method' as categorical\n",
      "Trying to set attribute `.obs` of view, copying.\n",
      "... storing 'donor' as categorical\n",
      "Trying to set attribute `.obs` of view, copying.\n",
      "... storing '_batch' as categorical\n",
      "Trying to set attribute `.obs` of view, copying.\n",
      "... storing 'age' as categorical\n",
      "Trying to set attribute `.obs` of view, copying.\n",
      "... storing 'cell' as categorical\n",
      "Trying to set attribute `.obs` of view, copying.\n",
      "... storing 'cell_ontology_class' as categorical\n",
      "Trying to set attribute `.obs` of view, copying.\n",
      "... storing 'cell_ontology_id' as categorical\n",
      "Trying to set attribute `.obs` of view, copying.\n",
      "... storing 'free_annotation' as categorical\n",
      "Trying to set attribute `.obs` of view, copying.\n",
      "... storing 'mouse.id' as categorical\n",
      "Trying to set attribute `.obs` of view, copying.\n",
      "... storing 'sex' as categorical\n",
      "Trying to set attribute `.obs` of view, copying.\n",
      "... storing 'subtissue' as categorical\n",
      "Trying to set attribute `.obs` of view, copying.\n",
      "... storing 'tissue_free_annotation' as categorical\n",
      "Trying to set attribute `.obs` of view, copying.\n",
      "... storing '_dataset' as categorical\n"
     ]
    }
   ],
   "source": [
    "\n",
    "full = setup_dataset(input_anndata, tabula_sapiens_filepath, tissue, use_10X_only, batch_correction_conditions)\n",
    "\n",
    "if 'scanvi' in annotation_method:\n",
    "    scanvi_annotation(\n",
    "        full_dataset= full,\n",
    "        batch_key='batch_indices', \n",
    "        output_folder = output_folder,\n",
    "        ts_label_key = 'manual_cell_ontology_class',\n",
    "        scvi_model=None,\n",
    "        scanvi_model=None,\n",
    "        n_scvi_epochs = 1,\n",
    "        n_scanvi_epochs = 1,\n",
    "        use_gpu = use_gpu)\n",
    "    \n",
    "if \"onclass\" in annotation_method:\n",
    "    onclass_annotation(input_anndata, output_folder)\n",
    "\n",
    "if \"svm\" in annotation_method:\n",
    "    svm_annotation( \n",
    "    full,\n",
    "    batch_key='_batch_indices', \n",
    "    output_folder= output_folder)\n",
    "\n",
    "if \"singlecellnet\" in annotation_method:\n",
    "    singlecellnet_annotation()"
   ]
  },
  {
   "cell_type": "code",
   "execution_count": null,
   "metadata": {},
   "outputs": [],
   "source": []
  }
 ],
 "metadata": {
  "kernelspec": {
   "display_name": "tabula_sapiens",
   "language": "python",
   "name": "tabula_sapiens"
  },
  "language_info": {
   "codemirror_mode": {
    "name": "ipython",
    "version": 3
   },
   "file_extension": ".py",
   "mimetype": "text/x-python",
   "name": "python",
   "nbconvert_exporter": "python",
   "pygments_lexer": "ipython3",
   "version": "3.6.11"
  }
 },
 "nbformat": 4,
 "nbformat_minor": 4
}
