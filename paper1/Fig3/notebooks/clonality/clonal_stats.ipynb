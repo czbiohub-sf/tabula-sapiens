{
 "cells": [
  {
   "cell_type": "markdown",
   "metadata": {},
   "source": [
    "# Init"
   ]
  },
  {
   "cell_type": "code",
   "execution_count": 1,
   "metadata": {
    "tags": []
   },
   "outputs": [],
   "source": [
    "import pandas as pd\n",
    "import seaborn as sns\n",
    "import numpy as np\n",
    "import scipy.stats as stats\n",
    "%matplotlib inline\n",
    "import os\n",
    "from matplotlib import pyplot as plt\n",
    "import matplotlib as mpl\n",
    "import plotly\n",
    "params = {\n",
    "    'font.size': 12,\n",
    "    'axes.titlesize': 12,\n",
    "    'axes.labelsize': 12,\n",
    "    'legend.fontsize': 12,\n",
    "    'xtick.labelsize': 12,\n",
    "    'ytick.labelsize': 12,\n",
    "    'font.family': \"Helvetica\",\n",
    "    'pdf.fonttype': 42,\n",
    "    'ps.fonttype': 42,\n",
    "    'figure.dpi': 500\n",
    "   }\n",
    "mpl.rcParams.update(params)\n",
    "SMALL_SIZE = 20\n",
    "MEDIUM_SIZE = 22\n",
    "BIGGER_SIZE = 24\n",
    "plt.rc('font', size=SMALL_SIZE)          # controls default text sizes\n",
    "plt.rc('axes', titlesize=SMALL_SIZE)     # fontsize of the axes title\n",
    "plt.rc('axes', labelsize=MEDIUM_SIZE)    # fontsize of the x and y labels\n",
    "plt.rc('xtick', labelsize=SMALL_SIZE)    # fontsize of the tick labels\n",
    "plt.rc('ytick', labelsize=SMALL_SIZE)    # fontsize of the tick labels\n",
    "plt.rc('legend', fontsize=SMALL_SIZE)    # legend fontsize\n",
    "plt.rc('figure', titlesize=BIGGER_SIZE)  # fontsize of the figure title\n",
    "sns.set_style(\"ticks\")\n",
    "sns.set_palette('colorblind')\n",
    "\n",
    "savefig_args = {\"dpi\": 500, \"bbox_inches\": \"tight\", \"pad_inches\": 0.05}\n",
    "mpl.rc('savefig', dpi=500)\n",
    "output_dir = \"../../figures/tcr_clonality/\"\n",
    "if not os.path.exists(output_dir):\n",
    "            os.makedirs(output_dir)\n",
    "output_suffix = \"\"\n",
    "output_formats = [\".png\", \".pdf\"]\n",
    "\n",
    "def save_figure(fig, name, output_dir=output_dir, output_suffix=output_suffix, output_formats=output_formats, savefig_args=savefig_args):\n",
    "    for output_format in output_formats:\n",
    "        fig.savefig(output_dir + \"/\" + name + output_suffix + output_format, **savefig_args)\n",
    "    return None\n",
    "\n",
    "pd.set_option('display.max_rows', 500)\n",
    "pd.set_option('display.max_columns', 500)\n",
    "pd.set_option('display.width', 1000)\n",
    "\n",
    "\n",
    "def tissue_colors():\n",
    "    \n",
    "    tissue_color_dict = {'Bladder': '#e7969c',\n",
    "             'Blood': '#d6616b',\n",
    "             'Bone_Marrow': '#cedb9c',\n",
    "             'Eye': '#c7ea46',#\"#00ff7f\",\n",
    "             'Fat': '#e7cb94',\n",
    "             'Heart': '#ff0800',\n",
    "             'Kidney': '#7b4173',\n",
    "             'Large_Intestine': '#31a354',\n",
    "             'Liver': '#000080',\n",
    "             'Lung': '#3182bd',\n",
    "             'Lymph_Node': '#8c6d31',\n",
    "             'Mammary':'#ce6dbd',\n",
    "             'Muscle': '#e7ba52',\n",
    "             'Pancreas': '#fd8d3c',\n",
    "             'Prostate':'#637939',#'#a55194',#\n",
    "             'Salivary_Gland':'#622a0f',\n",
    "             'Skin': '#de9ed6',\n",
    "             'Small_Intestine': '#6baed6',\n",
    "             'Spleen': '#393b79',\n",
    "             'Thymus': '#9c9ede',\n",
    "             'Tongue':'#b5cf6b',\n",
    "             'Trachea': '#969696',\n",
    "             'Uterus':'#c64b8c',#'#ff0090',\n",
    "             'Vasculature': '#843c39'}\n",
    "    \n",
    "    return tissue_color_dict\n",
    "\n",
    "### BtReceptor Edited for T cell data \n",
    "\n",
    "from __future__ import division\n",
    "import pandas as pd\n",
    "import numpy as np\n",
    "import Levenshtein\n",
    "from scipy.spatial.distance import squareform\n",
    "from scipy.sparse.csgraph import connected_components\n",
    "from itertools import combinations\n",
    "\n",
    "\n",
    "def donor_colors():\n",
    "    donors = ['TSP1','TSP2','TSP3','TSP4','TSP5','TSP6','TSP7','TSP8','TSP9','TSP10','TSP11','TSP12','TSP13','TSP14','TSP15']\n",
    "    \n",
    "    import matplotlib.colors as pltcolors\n",
    "    \n",
    "    cmap = plt.cm.get_cmap(\"YlGnBu\")\n",
    "        \n",
    "    donor_color_dict = {}\n",
    "    j=1/len(donors)\n",
    "    for d in donors:\n",
    "        donor_color_dict[d] = pltcolors.to_hex(cmap(j))\n",
    "        j+=1/len(donors)\n",
    "        \n",
    "    return donor_color_dict\n",
    "\n",
    "\n",
    "def donor_colors():\n",
    "    donor_color_dict = {'TSP6': '#034001', 'TSP7': '#8FBC8F', 'TSP4': '#c5ba30', 'TSP5': '#DC143C', \n",
    "                    'TSP10': '#FFD700', 'TSP8': '#8839ff', 'TSP3': '#c34a17', 'TSP11': '#00edff', \n",
    "                    'TSP12': '#f507a0', 'TSP9': '#9CADCA', 'TSP14': '#27BFD2', 'TSP15': '#bc7c00', \n",
    "                    'TSP1': '#4169E1', 'TSP2': '#636c8c', 'TSP13': '#ADD8E6'}\n",
    "    return donor_color_dict\n",
    "\n",
    "from numpy.random import seed"
   ]
  },
  {
   "cell_type": "code",
   "execution_count": 2,
   "metadata": {
    "tags": []
   },
   "outputs": [],
   "source": [
    "df = pd.read_table('../../data/merged_airr_scirpy.tsv')\n",
    "df = df[df.receptor_type == 'TCR']"
   ]
  },
  {
   "cell_type": "code",
   "execution_count": 3,
   "metadata": {},
   "outputs": [],
   "source": [
    "## Permutation Test on Clones of size larger than 3"
   ]
  },
  {
   "cell_type": "code",
   "execution_count": 4,
   "metadata": {},
   "outputs": [],
   "source": [
    "# there must be a more laconic way to do this\n",
    "selector = df.clone_id.value_counts() > 3\n",
    "clone_ids = selector[selector == True].index\n",
    "df = df[df.clone_id.isin(clone_ids)]"
   ]
  },
  {
   "cell_type": "code",
   "execution_count": 5,
   "metadata": {},
   "outputs": [
    {
     "data": {
      "text/plain": [
       "42"
      ]
     },
     "execution_count": 5,
     "metadata": {},
     "output_type": "execute_result"
    }
   ],
   "source": [
    "df.clone_id.nunique() - 22"
   ]
  },
  {
   "cell_type": "code",
   "execution_count": 6,
   "metadata": {},
   "outputs": [
    {
     "data": {
      "text/plain": [
       "1    24\n",
       "3    16\n",
       "2    13\n",
       "4     5\n",
       "5     3\n",
       "6     2\n",
       "7     1\n",
       "Name: tissue, dtype: int64"
      ]
     },
     "execution_count": 6,
     "metadata": {},
     "output_type": "execute_result"
    }
   ],
   "source": [
    "# number of singleton tissue clones (summary stat)\n",
    "df.groupby('clone_id').tissue.nunique().value_counts()\n",
    "#df.groupby('clone_id').tissue.nunique().value_counts().iloc[0]"
   ]
  },
  {
   "cell_type": "code",
   "execution_count": 7,
   "metadata": {},
   "outputs": [],
   "source": [
    "def permute_labels(_df, group, label):\n",
    "    \"\"\" permutes the label within groups\"\"\"\n",
    "    # create copy\n",
    "    _df = df.copy(deep=True)\n",
    "    # shuffle labels\n",
    "    list_of_dfs = []\n",
    "    for group, frame in _df.groupby(group):\n",
    "        frame.loc[:,label] = np.random.permutation(frame.loc[:,label].values)\n",
    "        list_of_dfs.append(frame)\n",
    "        shuffled_df = pd.concat(list_of_dfs)    \n",
    "        number_of_singletons = pd.DataFrame(shuffled_df.groupby(label).tissue.nunique().value_counts()).loc[1,:].values[0]\n",
    "        \n",
    "    return shuffled_df"
   ]
  },
  {
   "cell_type": "code",
   "execution_count": 8,
   "metadata": {},
   "outputs": [],
   "source": [
    "permutations = 10000\n",
    "summary_df_list = []\n",
    "for i in range(permutations):\n",
    "    permuted_df = permute_labels(df, \"donor\", \"clone_id\")\n",
    "    permuted_df.loc[:,'permutation'] = i\n",
    "    summary_df_list.append(permuted_df)"
   ]
  },
  {
   "cell_type": "code",
   "execution_count": 9,
   "metadata": {},
   "outputs": [],
   "source": [
    "summary_df = pd.concat(summary_df_list)"
   ]
  },
  {
   "cell_type": "code",
   "execution_count": 10,
   "metadata": {},
   "outputs": [
    {
     "data": {
      "text/plain": [
       "3.0324984375"
      ]
     },
     "execution_count": 10,
     "metadata": {},
     "output_type": "execute_result"
    }
   ],
   "source": [
    "summary_df.groupby(['permutation', 'clone_id']).tissue.nunique().mean()"
   ]
  },
  {
   "cell_type": "code",
   "execution_count": 61,
   "metadata": {},
   "outputs": [
    {
     "data": {
      "text/plain": [
       "2.389830508474576"
      ]
     },
     "execution_count": 61,
     "metadata": {},
     "output_type": "execute_result"
    }
   ],
   "source": [
    "df.groupby('clone_id').tissue.nunique().mean()"
   ]
  },
  {
   "cell_type": "code",
   "execution_count": null,
   "metadata": {},
   "outputs": [],
   "source": []
  },
  {
   "cell_type": "code",
   "execution_count": null,
   "metadata": {},
   "outputs": [],
   "source": [
    "pd.Series(summary_stat).quantile(0.9999)"
   ]
  },
  {
   "cell_type": "code",
   "execution_count": null,
   "metadata": {},
   "outputs": [],
   "source": [
    "ax = ir.pl.group_abundance(adata, groupby='receptor_subtype', target_col='tissue')\n",
    "\n",
    "ax = ir.pl.group_abundance(adata, groupby='receptor_subtype', target_col='donor')\n",
    "\n",
    "\n",
    "ax = ir.pl.group_abundance(adata, groupby='clone_id', target_col='cell_ontology_class', max_cols=10)\n",
    "\n",
    "ax = ir.pl.vdj_usage(adata, full_combination=False, max_segments=None, max_ribbons=30)\n",
    "\n",
    "ir.pl.vdj_usage(\n",
    "    adata[adata.obs[\"clone_id\"].isin([\"546\", \"556\", '626']), :],\n",
    "    max_ribbons=None,\n",
    "    max_segments=100,\n",
    ")"
   ]
  }
 ],
 "metadata": {
  "kernelspec": {
   "display_name": "Python 3",
   "language": "python",
   "name": "python3"
  },
  "language_info": {
   "codemirror_mode": {
    "name": "ipython",
    "version": 3
   },
   "file_extension": ".py",
   "mimetype": "text/x-python",
   "name": "python",
   "nbconvert_exporter": "python",
   "pygments_lexer": "ipython3",
   "version": "3.8.10"
  }
 },
 "nbformat": 4,
 "nbformat_minor": 4
}
