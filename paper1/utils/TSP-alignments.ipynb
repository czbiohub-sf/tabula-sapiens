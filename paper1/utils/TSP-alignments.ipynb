{
 "cells": [
  {
   "cell_type": "markdown",
   "metadata": {},
   "source": [
    "# Alignment"
   ]
  },
  {
   "cell_type": "markdown",
   "metadata": {},
   "source": [
    "## TSP1"
   ]
  },
  {
   "cell_type": "markdown",
   "metadata": {
    "heading_collapsed": true
   },
   "source": [
    "### 10X"
   ]
  },
  {
   "cell_type": "code",
   "execution_count": 73,
   "metadata": {
    "hidden": true
   },
   "outputs": [
    {
     "name": "stdout",
     "output_type": "stream",
     "text": [
      "                           PRE TSP1_blood_1/\r\n",
      "                           PRE TSP1_blood_2/\r\n",
      "                           PRE TSP1_blood_3/\r\n",
      "2020-03-17 22:43:22          0 \r\n"
     ]
    }
   ],
   "source": [
    "!aws s3 ls s3://tabula-sapiens/Pilot1/alignment-gencode/10X/"
   ]
  },
  {
   "cell_type": "code",
   "execution_count": 74,
   "metadata": {
    "hidden": true
   },
   "outputs": [],
   "source": [
    "tsp1_10X_tiss_list = [\"TSP1_bladder_1/\",\n",
    "    \"TSP1_bladder_2/\",\n",
    "    \"TSP1_bladder_3/\",\n",
    "#     \"TSP1_blood_1/\",\n",
    "#     \"TSP1_blood_2/\",\n",
    "#     \"TSP1_blood_3/\",\n",
    "    \"TSP1_endopancreas_1/\",\n",
    "    \"TSP1_endopancreas_2/\",\n",
    "    \"TSP1_endopancreas_3/\",\n",
    "    \"TSP1_exopancreas1_1/\",\n",
    "    \"TSP1_exopancreas1_2/\",\n",
    "    \"TSP1_exopancreas1_3/\",\n",
    "    \"TSP1_exopancreas2_1/\",\n",
    "    \"TSP1_exopancreas2_2/\",\n",
    "    \"TSP1_exopancreas2_3/\",\n",
    "    \"TSP1_lung_1/\",\n",
    "    \"TSP1_lung_2/\",\n",
    "    \"TSP1_lung_3/\",\n",
    "    \"TSP1_muscle_1/\",\n",
    "    \"TSP1_muscle_2/\",\n",
    "    \"TSP1_muscle_3\"\n",
    " ]"
   ]
  },
  {
   "cell_type": "code",
   "execution_count": 80,
   "metadata": {
    "hidden": true
   },
   "outputs": [
    {
     "data": {
      "text/plain": [
       "['evros alignment.10x_count --taxon homo.gencode.v30.ERCC.chrM --s3_input_dir s3://tabula-sapiens/Pilot1/fastqs/10X/pilot/TSP1_bladder_1/ --s3_output_dir s3://tabula-sapiens/Pilot1/alignment-gencode/10X/TSP1_bladder_1/',\n",
       " 'evros alignment.10x_count --taxon homo.gencode.v30.ERCC.chrM --s3_input_dir s3://tabula-sapiens/Pilot1/fastqs/10X/pilot/TSP1_bladder_2/ --s3_output_dir s3://tabula-sapiens/Pilot1/alignment-gencode/10X/TSP1_bladder_2/',\n",
       " 'evros alignment.10x_count --taxon homo.gencode.v30.ERCC.chrM --s3_input_dir s3://tabula-sapiens/Pilot1/fastqs/10X/pilot/TSP1_bladder_3/ --s3_output_dir s3://tabula-sapiens/Pilot1/alignment-gencode/10X/TSP1_bladder_3/',\n",
       " 'evros alignment.10x_count --taxon homo.gencode.v30.ERCC.chrM --s3_input_dir s3://tabula-sapiens/Pilot1/fastqs/10X/pilot/TSP1_endopancreas_1/ --s3_output_dir s3://tabula-sapiens/Pilot1/alignment-gencode/10X/TSP1_endopancreas_1/',\n",
       " 'evros alignment.10x_count --taxon homo.gencode.v30.ERCC.chrM --s3_input_dir s3://tabula-sapiens/Pilot1/fastqs/10X/pilot/TSP1_endopancreas_2/ --s3_output_dir s3://tabula-sapiens/Pilot1/alignment-gencode/10X/TSP1_endopancreas_2/',\n",
       " 'evros alignment.10x_count --taxon homo.gencode.v30.ERCC.chrM --s3_input_dir s3://tabula-sapiens/Pilot1/fastqs/10X/pilot/TSP1_endopancreas_3/ --s3_output_dir s3://tabula-sapiens/Pilot1/alignment-gencode/10X/TSP1_endopancreas_3/',\n",
       " 'evros alignment.10x_count --taxon homo.gencode.v30.ERCC.chrM --s3_input_dir s3://tabula-sapiens/Pilot1/fastqs/10X/pilot/TSP1_exopancreas1_1/ --s3_output_dir s3://tabula-sapiens/Pilot1/alignment-gencode/10X/TSP1_exopancreas1_1/',\n",
       " 'evros alignment.10x_count --taxon homo.gencode.v30.ERCC.chrM --s3_input_dir s3://tabula-sapiens/Pilot1/fastqs/10X/pilot/TSP1_exopancreas1_2/ --s3_output_dir s3://tabula-sapiens/Pilot1/alignment-gencode/10X/TSP1_exopancreas1_2/',\n",
       " 'evros alignment.10x_count --taxon homo.gencode.v30.ERCC.chrM --s3_input_dir s3://tabula-sapiens/Pilot1/fastqs/10X/pilot/TSP1_exopancreas1_3/ --s3_output_dir s3://tabula-sapiens/Pilot1/alignment-gencode/10X/TSP1_exopancreas1_3/',\n",
       " 'evros alignment.10x_count --taxon homo.gencode.v30.ERCC.chrM --s3_input_dir s3://tabula-sapiens/Pilot1/fastqs/10X/pilot/TSP1_exopancreas2_1/ --s3_output_dir s3://tabula-sapiens/Pilot1/alignment-gencode/10X/TSP1_exopancreas2_1/',\n",
       " 'evros alignment.10x_count --taxon homo.gencode.v30.ERCC.chrM --s3_input_dir s3://tabula-sapiens/Pilot1/fastqs/10X/pilot/TSP1_exopancreas2_2/ --s3_output_dir s3://tabula-sapiens/Pilot1/alignment-gencode/10X/TSP1_exopancreas2_2/',\n",
       " 'evros alignment.10x_count --taxon homo.gencode.v30.ERCC.chrM --s3_input_dir s3://tabula-sapiens/Pilot1/fastqs/10X/pilot/TSP1_exopancreas2_3/ --s3_output_dir s3://tabula-sapiens/Pilot1/alignment-gencode/10X/TSP1_exopancreas2_3/',\n",
       " 'evros alignment.10x_count --taxon homo.gencode.v30.ERCC.chrM --s3_input_dir s3://tabula-sapiens/Pilot1/fastqs/10X/pilot/TSP1_lung_1/ --s3_output_dir s3://tabula-sapiens/Pilot1/alignment-gencode/10X/TSP1_lung_1/',\n",
       " 'evros alignment.10x_count --taxon homo.gencode.v30.ERCC.chrM --s3_input_dir s3://tabula-sapiens/Pilot1/fastqs/10X/pilot/TSP1_lung_2/ --s3_output_dir s3://tabula-sapiens/Pilot1/alignment-gencode/10X/TSP1_lung_2/',\n",
       " 'evros alignment.10x_count --taxon homo.gencode.v30.ERCC.chrM --s3_input_dir s3://tabula-sapiens/Pilot1/fastqs/10X/pilot/TSP1_lung_3/ --s3_output_dir s3://tabula-sapiens/Pilot1/alignment-gencode/10X/TSP1_lung_3/',\n",
       " 'evros alignment.10x_count --taxon homo.gencode.v30.ERCC.chrM --s3_input_dir s3://tabula-sapiens/Pilot1/fastqs/10X/pilot/TSP1_muscle_1/ --s3_output_dir s3://tabula-sapiens/Pilot1/alignment-gencode/10X/TSP1_muscle_1/',\n",
       " 'evros alignment.10x_count --taxon homo.gencode.v30.ERCC.chrM --s3_input_dir s3://tabula-sapiens/Pilot1/fastqs/10X/pilot/TSP1_muscle_2/ --s3_output_dir s3://tabula-sapiens/Pilot1/alignment-gencode/10X/TSP1_muscle_2/',\n",
       " 'evros alignment.10x_count --taxon homo.gencode.v30.ERCC.chrM --s3_input_dir s3://tabula-sapiens/Pilot1/fastqs/10X/pilot/TSP1_muscle_3 --s3_output_dir s3://tabula-sapiens/Pilot1/alignment-gencode/10X/TSP1_muscle_3']"
      ]
     },
     "execution_count": 80,
     "metadata": {},
     "output_type": "execute_result"
    }
   ],
   "source": [
    "tsp1_runs = []\n",
    "for t in tsp1_10X_tiss_list:\n",
    "    s1 = \"evros alignment.10x_count --taxon homo.gencode.v30.ERCC.chrM --s3_input_dir \"\n",
    "    input_path = \"s3://tabula-sapiens/Pilot1/fastqs/10X/pilot/\"\n",
    "    out_path = \" --s3_output_dir s3://tabula-sapiens/Pilot1/alignment-gencode/10X/\"\n",
    "    trun = s1+input_path+t+out_path+t\n",
    "    tsp1_runs.append(trun)\n",
    "pd.DataFrame(tsp1_runs).to_csv('tsp1_runs.csv')\n",
    "tsp1_runs"
   ]
  },
  {
   "cell_type": "markdown",
   "metadata": {},
   "source": [
    "### TSP1 SS2"
   ]
  },
  {
   "cell_type": "code",
   "execution_count": null,
   "metadata": {},
   "outputs": [],
   "source": [
    "s3://tabula-sapiens/Pilot1/fastqs/smartseq2/pilot/B107809_A10_S130/B107809_A10_S130_R1_001.fastq.gz"
   ]
  },
  {
   "cell_type": "code",
   "execution_count": 128,
   "metadata": {},
   "outputs": [
    {
     "ename": "SyntaxError",
     "evalue": "invalid syntax (<ipython-input-128-6dc2d716c501>, line 1)",
     "output_type": "error",
     "traceback": [
      "\u001b[0;36m  File \u001b[0;32m\"<ipython-input-128-6dc2d716c501>\"\u001b[0;36m, line \u001b[0;32m1\u001b[0m\n\u001b[0;31m    aws_star taxon num_partitions s3://input-bucket/path/to/fastqs --s3_output_path s3://output-bucket/path/for/results > your_script.sh\u001b[0m\n\u001b[0m                 ^\u001b[0m\n\u001b[0;31mSyntaxError\u001b[0m\u001b[0;31m:\u001b[0m invalid syntax\n"
     ]
    }
   ],
   "source": [
    "aws_star homo.gencode.v30.ERCC.chrM 100 s3://tabula-sapiens/Pilot1/fastqs/smartseq2/pilot/ --s3_output_path s3://tabula-sapiens/Pilot1/alignment-gencode/SS2 > tsp1_re_align_homogencodev30ERCCchrM.sh\n",
    "        \n",
    "        \n",
    "        \n",
    "        "
   ]
  },
  {
   "cell_type": "markdown",
   "metadata": {},
   "source": [
    "## TSP2 10X"
   ]
  },
  {
   "cell_type": "markdown",
   "metadata": {
    "heading_collapsed": true
   },
   "source": [
    "### concat 10X fastq for nextseq"
   ]
  },
  {
   "cell_type": "code",
   "execution_count": 44,
   "metadata": {
    "hidden": true
   },
   "outputs": [
    {
     "data": {
      "text/plain": [
       "['TSP2_Vasculature_Aorta_10X_2_2',\n",
       " 'TSP2_Blood_NA_10X_1_1_SheelaPrep',\n",
       " 'TSP2_Blood_NA_10X_1_2_SheelaPrep',\n",
       " 'TSP2_Skin_abdomen_10X_2_1',\n",
       " 'TSP2_Skin_abdomen_10X_1_1',\n",
       " 'TSP2_Vasculature_Aorta_10X_2_1',\n",
       " 'TSP2_Fat_SCAT_10X_1_1',\n",
       " 'TSP2_Fat_MAT_10X_1_1']"
      ]
     },
     "execution_count": 44,
     "metadata": {},
     "output_type": "execute_result"
    }
   ],
   "source": [
    "import os\n",
    "os.listdir('/mnt/ibm_lg/angela/sapiens/TSP2/nextseq10X/')"
   ]
  },
  {
   "cell_type": "code",
   "execution_count": null,
   "metadata": {
    "hidden": true
   },
   "outputs": [],
   "source": [
    "! cat file*.fastq > bigfile.fastq"
   ]
  },
  {
   "cell_type": "code",
   "execution_count": 32,
   "metadata": {
    "hidden": true
   },
   "outputs": [],
   "source": [
    "! cat /mnt/ibm_lg/angela/sapiens/TSP2/nextseq10X/TSP2_Vasculature_Aorta_10X_2_2/*/*_R1_001.fastq.gz > /mnt/ibm_lg/angela/sapiens/TSP2/nextseq10X/TSP2_Vasculature_Aorta_10X_2_2/TSP2_Vasculature_Aorta_10X_2_2_S1_L001_R1_001.fastq.gz\n",
    "! cat /mnt/ibm_lg/angela/sapiens/TSP2/nextseq10X/TSP2_Vasculature_Aorta_10X_2_2/*/*_R2_001.fastq.gz > /mnt/ibm_lg/angela/sapiens/TSP2/nextseq10X/TSP2_Vasculature_Aorta_10X_2_2/TSP2_Vasculature_Aorta_10X_2_2_S1_L001_R2_001.fastq.gz\n",
    "\n",
    "! cat /mnt/ibm_lg/angela/sapiens/TSP2/nextseq10X/TSP2_Blood_NA_10X_1_1_SheelaPrep/*/*_R1_001.fastq.gz > /mnt/ibm_lg/angela/sapiens/TSP2/nextseq10X/TSP2_Blood_NA_10X_1_1_SheelaPrep/TSP2_Blood_NA_10X_1_1_SheelaPrep_S1_L001_R1_001.fastq.gz\n",
    "! cat /mnt/ibm_lg/angela/sapiens/TSP2/nextseq10X/TSP2_Blood_NA_10X_1_1_SheelaPrep/*/*_R2_001.fastq.gz > /mnt/ibm_lg/angela/sapiens/TSP2/nextseq10X/TSP2_Blood_NA_10X_1_1_SheelaPrep/TSP2_Blood_NA_10X_1_1_SheelaPrep_S1_L001_R2_001.fastq.gz\n",
    "\n",
    "! cat /mnt/ibm_lg/angela/sapiens/TSP2/nextseq10X/TSP2_Blood_NA_10X_1_2_SheelaPrep/*/*_R1_001.fastq.gz > /mnt/ibm_lg/angela/sapiens/TSP2/nextseq10X/TSP2_Blood_NA_10X_1_2_SheelaPrep/TSP2_Blood_NA_10X_1_2_SheelaPrep_S1_L001_R1_001.fastq.gz\n",
    "! cat /mnt/ibm_lg/angela/sapiens/TSP2/nextseq10X/TSP2_Blood_NA_10X_1_2_SheelaPrep/*/*_R2_001.fastq.gz > /mnt/ibm_lg/angela/sapiens/TSP2/nextseq10X/TSP2_Blood_NA_10X_1_2_SheelaPrep/TSP2_Blood_NA_10X_1_2_SheelaPrep_S1_L001_R2_001.fastq.gz\n",
    "\n",
    "! cat /mnt/ibm_lg/angela/sapiens/TSP2/nextseq10X/TSP2_Skin_abdomen_10X_2_1/*/*_R1_001.fastq.gz > /mnt/ibm_lg/angela/sapiens/TSP2/nextseq10X/TSP2_Skin_abdomen_10X_2_1/TSP2_Skin_abdomen_10X_2_1_S1_L001_R1_001.fastq.gz\n",
    "! cat /mnt/ibm_lg/angela/sapiens/TSP2/nextseq10X/TSP2_Skin_abdomen_10X_2_1/*/*_R2_001.fastq.gz > /mnt/ibm_lg/angela/sapiens/TSP2/nextseq10X/TSP2_Skin_abdomen_10X_2_1/TSP2_Skin_abdomen_10X_2_1_S1_L001_R2_001.fastq.gz\n",
    "\n",
    "! cat /mnt/ibm_lg/angela/sapiens/TSP2/nextseq10X/TSP2_Skin_abdomen_10X_1_1/*/*_R1_001.fastq.gz > /mnt/ibm_lg/angela/sapiens/TSP2/nextseq10X/TSP2_Skin_abdomen_10X_1_1/TSP2_Skin_abdomen_10X_1_1_S1_L001_R1_001.fastq.gz\n",
    "! cat /mnt/ibm_lg/angela/sapiens/TSP2/nextseq10X/TSP2_Skin_abdomen_10X_1_1/*/*_R2_001.fastq.gz > /mnt/ibm_lg/angela/sapiens/TSP2/nextseq10X/TSP2_Skin_abdomen_10X_1_1/TSP2_Skin_abdomen_10X_1_1_S1_L001_R2_001.fastq.gz\n",
    "\n",
    "! cat /mnt/ibm_lg/angela/sapiens/TSP2/nextseq10X/TSP2_Vasculature_Aorta_10X_2_1/*/*_R1_001.fastq.gz > /mnt/ibm_lg/angela/sapiens/TSP2/nextseq10X/TSP2_Vasculature_Aorta_10X_2_1/TSP2_Vasculature_Aorta_10X_2_1_S1_L001_R1_001.fastq.gz\n",
    "! cat /mnt/ibm_lg/angela/sapiens/TSP2/nextseq10X/TSP2_Vasculature_Aorta_10X_2_1/*/*_R2_001.fastq.gz > /mnt/ibm_lg/angela/sapiens/TSP2/nextseq10X/TSP2_Vasculature_Aorta_10X_2_1/TSP2_Vasculature_Aorta_10X_2_1_S1_L001_R2_001.fastq.gz\n",
    "\n",
    "! cat /mnt/ibm_lg/angela/sapiens/TSP2/nextseq10X/TSP2_Fat_SCAT_10X_1_1/*/*_R1_001.fastq.gz > /mnt/ibm_lg/angela/sapiens/TSP2/nextseq10X/TSP2_Fat_SCAT_10X_1_1/TSP2_Fat_SCAT_10X_1_1_S1_L001_R1_001.fastq.gz\n",
    "! cat /mnt/ibm_lg/angela/sapiens/TSP2/nextseq10X/TSP2_Fat_SCAT_10X_1_1/*/*_R2_001.fastq.gz > /mnt/ibm_lg/angela/sapiens/TSP2/nextseq10X/TSP2_Fat_SCAT_10X_1_1/TSP2_Fat_SCAT_10X_1_1_S1_L001_R2_001.fastq.gz\n",
    "\n",
    "! cat /mnt/ibm_lg/angela/sapiens/TSP2/nextseq10X/TSP2_Fat_MAT_10X_1_1/*/*_R1_001.fastq.gz > /mnt/ibm_lg/angela/sapiens/TSP2/nextseq10X/TSP2_Fat_MAT_10X_1_1/TSP2_Fat_MAT_10X_1_1_S1_L001_R1_001.fastq.gz\n",
    "! cat /mnt/ibm_lg/angela/sapiens/TSP2/nextseq10X/TSP2_Fat_MAT_10X_1_1/*/*_R2_001.fastq.gz > /mnt/ibm_lg/angela/sapiens/TSP2/nextseq10X/TSP2_Fat_MAT_10X_1_1/TSP2_Fat_MAT_10X_1_1_S1_L001_R2_001.fastq.gz\n",
    "\n",
    "\n",
    "aws s3 sync /mnt/ibm_lg/angela/sapiens/TSP2/nextseq10X/ s3://tabula-sapiens/Pilot2/nextseq_run_200310_NS500126_0014_AHM3M3BGXC/concatenated_files/ --exclude \"*\" --include \"*/*_S1_L001_R*_001.fastq.gz\" --dryrun\n",
    "\n",
    "#  'TSP2_Blood_NA_10X_1_1_SheelaPrep',\n",
    "#  'TSP2_Blood_NA_10X_1_2_SheelaPrep',\n",
    "#  'TSP2_Skin_abdomen_10X_2_1',\n",
    "#  'TSP2_Skin_abdomen_10X_1_1',\n",
    "#  'TSP2_Vasculature_Aorta_10X_2_1',\n",
    "#  'TSP2_Fat_SCAT_10X_1_1',\n",
    "#  'TSP2_Fat_MAT_10X_1_1\n",
    "\n",
    "\n",
    "evros alignment.10x_count --taxon homo.gencode.v30.ERCC.chrM --s3_input_dir s3://tabula-sapiens/Pilot2/nextseq_run_200310_NS500126_0014_AHM3M3BGXC/concatenated_files/ --s3_output_dir s3://tabula-sapiens/Pilot2/10X/ --dry-run\n",
    "\n",
    "\n"
   ]
  },
  {
   "cell_type": "code",
   "execution_count": 27,
   "metadata": {
    "hidden": true
   },
   "outputs": [
    {
     "name": "stdout",
     "output_type": "stream",
     "text": [
      "['TSP2_Vasculature_Aorta_10X_2_2_S13_R1_001.fastq.gz', 'TSP2_Vasculature_Aorta_10X_2_2_S15_R1_001.fastq.gz', 'TSP2_Vasculature_Aorta_10X_2_2_S14_R1_001.fastq.gz', 'TSP2_Vasculature_Aorta_10X_2_2_S16_R1_001.fastq.gz']\n"
     ]
    }
   ],
   "source": [
    "for d in os.listdir('/mnt/ibm_lg/angela/sapiens/TSP2/nextseq10X/')[0:1]:\n",
    "    r1 = []\n",
    "    r2 = []\n",
    "    for f in os.listdir('/mnt/ibm_lg/angela/sapiens/TSP2/nextseq10X/'+d):\n",
    "        faux = os.listdir('/mnt/ibm_lg/angela/sapiens/TSP2/nextseq10X/'+d+'/'+f)\n",
    "        faux.sort()\n",
    "        f1 = faux[0]\n",
    "        f2 = faux[1]\n",
    "        \n",
    "        r1.append(f1)\n",
    "        r2.append(f2)\n",
    "        \n",
    "    print(r1)\n",
    "    ! cat file*.fastq > bigfile.fastq\n",
    "    \n",
    "bigfile1 = d+'_S1_L001_R1_001.fastq.gz'\n",
    "bigfile2 = d+'_S1_L001_R2_001.fastq.gz'\n",
    "TSP1_blood_1_redo_S1_L001_R1_001.fastq.gz"
   ]
  },
  {
   "cell_type": "markdown",
   "metadata": {
    "heading_collapsed": true
   },
   "source": [
    "### put novaseq rerun samples into folders"
   ]
  },
  {
   "cell_type": "code",
   "execution_count": 120,
   "metadata": {
    "hidden": true
   },
   "outputs": [],
   "source": [
    "import os\n",
    "fastqlist = os.listdir(\"/mnt/ibm_lg/angela/sapiens/TSP2_NovaSeq_ReRun\")"
   ]
  },
  {
   "cell_type": "code",
   "execution_count": 121,
   "metadata": {
    "hidden": true
   },
   "outputs": [
    {
     "data": {
      "text/plain": [
       "['TSP2_BM_vertebralbody_10X_1_1',\n",
       " 'TSP2_BM_vertebralbody_10X_1_2_5prime',\n",
       " 'TSP2_BM_vertebralbody_10X_2_1',\n",
       " 'TSP2_BM_vertebralbody_10X_2_2_5prime',\n",
       " 'TSP2_Bladder_NA_10X_1_1',\n",
       " 'TSP2_Bladder_NA_10X_1_2',\n",
       " 'TSP2_Blood_NA_10X_1_3',\n",
       " 'TSP2_Blood_NA_10X_1_4_5prime',\n",
       " 'TSP2_Blood_NA_10X_1_5_5prime',\n",
       " 'TSP2_Blood_NA_10X_2_1',\n",
       " 'TSP2_Heart_ventricle_10X_1_1',\n",
       " 'TSP2_Kidney_NA_10X_1_1',\n",
       " 'TSP2_Kidney_NA_10X_1_2',\n",
       " 'TSP2_LI_distal_10X_1_1_Sigmoid',\n",
       " 'TSP2_LI_proximal_10X_1_1_Ascending',\n",
       " 'TSP2_Lung_proxmedialdistal_10X_1_1',\n",
       " 'TSP2_Lung_proxmedialdistal_10X_1_2',\n",
       " 'TSP2_LymphNode_NA_10X_1_1',\n",
       " 'TSP2_LymphNode_NA_10X_2_1',\n",
       " 'TSP2_Muscle_diaphragm_10X_1_1',\n",
       " 'TSP2_Muscle_diaphragm_10X_1_2',\n",
       " 'TSP2_Muscle_rectusabdominus_10X_1_1',\n",
       " 'TSP2_Muscle_rectusabdominus_10X_1_2',\n",
       " 'TSP2_SI_distal_10X_1_1_Jejunum',\n",
       " 'TSP2_SI_proximal_10X_1_1_Duodenum',\n",
       " 'TSP2_Spleen_NA_10X_1_1',\n",
       " 'TSP2_Spleen_NA_10X_2_1',\n",
       " 'TSP2_Thymus_NA_10X_1_1',\n",
       " 'TSP2_Thymus_NA_10X_1_2',\n",
       " 'TSP2_Thymus_NA_10X_1_3_5prime',\n",
       " 'TSP2_Thymus_NA_10X_1_4_5prime',\n",
       " 'TSP2_Trachea_NA_10X_1_1',\n",
       " 'TSP2_Trachea_NA_10X_1_2',\n",
       " 'TSP2_Vasculature_Aorta_10X_1_1',\n",
       " 'TSP2_Vasculature_Aorta_10X_1_2']"
      ]
     },
     "execution_count": 121,
     "metadata": {},
     "output_type": "execute_result"
    }
   ],
   "source": [
    "a = next(os.walk(\"/mnt/ibm_lg/angela/sapiens/TSP2_NovaSeq_ReRun\"))[1]\n",
    "a.sort()\n",
    "a"
   ]
  },
  {
   "cell_type": "code",
   "execution_count": 122,
   "metadata": {
    "hidden": true
   },
   "outputs": [],
   "source": [
    "fastqlist = list(set(fastqlist) - set(next(os.walk(\"/mnt/ibm_lg/angela/sapiens/TSP2_NovaSeq_ReRun\"))[1]))"
   ]
  },
  {
   "cell_type": "code",
   "execution_count": 99,
   "metadata": {
    "hidden": true,
    "scrolled": false
   },
   "outputs": [
    {
     "data": {
      "text/plain": [
       "(450, 54)"
      ]
     },
     "execution_count": 99,
     "metadata": {},
     "output_type": "execute_result"
    }
   ],
   "source": [
    "prefixs = [f.rsplit(\"_\",4)[0] for f in fastqlist]\n",
    "len(prefixs),len(set(prefixs))"
   ]
  },
  {
   "cell_type": "code",
   "execution_count": 124,
   "metadata": {
    "hidden": true
   },
   "outputs": [],
   "source": [
    "for p in set(prefixs):\n",
    "    pdir = \"/mnt/ibm_lg/angela/sapiens/TSP2_NovaSeq_ReRun/\"\n",
    "    \n",
    "    path = os.path.join(pdir,p) \n",
    "    os.mkdir(path)\n"
   ]
  },
  {
   "cell_type": "code",
   "execution_count": 123,
   "metadata": {
    "hidden": true
   },
   "outputs": [],
   "source": [
    "pdir = \"/mnt/ibm_lg/angela/sapiens/TSP2_NovaSeq_ReRun/\"\n",
    "\n",
    "for f in fastqlist:\n",
    "    faux = f.rsplit(\"_\",4)[0]\n",
    "    oldpath = os.path.join(pdir,f)\n",
    "    newpath = os.path.join(os.path.join(pdir,faux),f)\n",
    "    \n",
    "    os.rename(oldpath,newpath)\n",
    "\n",
    "    "
   ]
  },
  {
   "cell_type": "code",
   "execution_count": null,
   "metadata": {
    "hidden": true
   },
   "outputs": [],
   "source": [
    "# ! aws s3 sync /mnt/ibm_lg/angela/sapiens/TSP2_NovaSeq_ReRun/ s3://tabula-sapiens/Pilot2/fastqs/10X/NovaSeq_ReRun_Folders/ --dryrun\n",
    "    \n",
    "    \n",
    "    "
   ]
  },
  {
   "cell_type": "markdown",
   "metadata": {},
   "source": [
    "### alignment code"
   ]
  },
  {
   "cell_type": "code",
   "execution_count": 125,
   "metadata": {},
   "outputs": [
    {
     "data": {
      "text/plain": [
       "['TSP2_Thymus_NA_10X_1_4_5prime',\n",
       " 'TSP2_Lung_proxmedialdistal_10X_1_2',\n",
       " 'TSP2_Blood_NA_10X_1_4_5prime',\n",
       " 'TSP2_SI_proximal_10X_1_1_Duodenum',\n",
       " 'TSP2_BM_vertebralbody_10X_2_1',\n",
       " 'TSP2_Thymus_NA_10X_1_1',\n",
       " 'TSP2_Kidney_NA_10X_1_1',\n",
       " 'TSP2_LI_distal_10X_1_1_Sigmoid',\n",
       " 'TSP2_Spleen_NA_10X_1_1',\n",
       " 'TSP2_BM_vertebralbody_10X_2_2_5prime',\n",
       " 'TSP2_Lung_proxmedialdistal_10X_1_1',\n",
       " 'TSP2_Spleen_NA_10X_2_1',\n",
       " 'TSP2_LymphNode_NA_10X_1_1',\n",
       " 'TSP2_Blood_NA_10X_1_3',\n",
       " 'TSP2_Blood_NA_10X_2_1',\n",
       " 'TSP2_Kidney_NA_10X_1_2',\n",
       " 'TSP2_Trachea_NA_10X_1_2',\n",
       " 'TSP2_LymphNode_NA_10X_2_1',\n",
       " 'TSP2_Blood_NA_10X_1_5_5prime',\n",
       " 'TSP2_Muscle_rectusabdominus_10X_1_1',\n",
       " 'TSP2_Trachea_NA_10X_1_1',\n",
       " 'TSP2_BM_vertebralbody_10X_1_1',\n",
       " 'TSP2_LI_proximal_10X_1_1_Ascending',\n",
       " 'TSP2_Heart_ventricle_10X_1_1',\n",
       " 'TSP2_BM_vertebralbody_10X_1_2_5prime',\n",
       " 'TSP2_Muscle_diaphragm_10X_1_1',\n",
       " 'TSP2_Bladder_NA_10X_1_1',\n",
       " 'TSP2_SI_distal_10X_1_1_Jejunum',\n",
       " 'TSP2_Muscle_rectusabdominus_10X_1_2',\n",
       " 'TSP2_Vasculature_Aorta_10X_1_2',\n",
       " 'TSP2_Bladder_NA_10X_1_2',\n",
       " 'TSP2_Muscle_diaphragm_10X_1_2',\n",
       " 'TSP2_Thymus_NA_10X_1_3_5prime',\n",
       " 'TSP2_Thymus_NA_10X_1_2',\n",
       " 'TSP2_Vasculature_Aorta_10X_1_1']"
      ]
     },
     "execution_count": 125,
     "metadata": {},
     "output_type": "execute_result"
    }
   ],
   "source": [
    "import os\n",
    "tsp2dirs = os.listdir(\"/mnt/ibm_lg/angela/sapiens/TSP2_NovaSeq_ReRun\")\n",
    "tsp2dirs"
   ]
  },
  {
   "cell_type": "code",
   "execution_count": 127,
   "metadata": {},
   "outputs": [
    {
     "data": {
      "text/plain": [
       "['evros alignment.10x_count --taxon homo.gencode.v30.ERCC.chrM --s3_input_dir s3://tabula-sapiens/Pilot2/fastqs/10X/NovaSeq_ReRun_Folders/TSP2_Thymus_NA_10X_1_4_5prime --s3_output_dir s3://tabula-sapiens/Pilot2/alignment-gencode/10X/TSP2_Thymus_NA_10X_1_4_5prime',\n",
       " 'evros alignment.10x_count --taxon homo.gencode.v30.ERCC.chrM --s3_input_dir s3://tabula-sapiens/Pilot2/fastqs/10X/NovaSeq_ReRun_Folders/TSP2_Lung_proxmedialdistal_10X_1_2 --s3_output_dir s3://tabula-sapiens/Pilot2/alignment-gencode/10X/TSP2_Lung_proxmedialdistal_10X_1_2',\n",
       " 'evros alignment.10x_count --taxon homo.gencode.v30.ERCC.chrM --s3_input_dir s3://tabula-sapiens/Pilot2/fastqs/10X/NovaSeq_ReRun_Folders/TSP2_Blood_NA_10X_1_4_5prime --s3_output_dir s3://tabula-sapiens/Pilot2/alignment-gencode/10X/TSP2_Blood_NA_10X_1_4_5prime',\n",
       " 'evros alignment.10x_count --taxon homo.gencode.v30.ERCC.chrM --s3_input_dir s3://tabula-sapiens/Pilot2/fastqs/10X/NovaSeq_ReRun_Folders/TSP2_SI_proximal_10X_1_1_Duodenum --s3_output_dir s3://tabula-sapiens/Pilot2/alignment-gencode/10X/TSP2_SI_proximal_10X_1_1_Duodenum',\n",
       " 'evros alignment.10x_count --taxon homo.gencode.v30.ERCC.chrM --s3_input_dir s3://tabula-sapiens/Pilot2/fastqs/10X/NovaSeq_ReRun_Folders/TSP2_BM_vertebralbody_10X_2_1 --s3_output_dir s3://tabula-sapiens/Pilot2/alignment-gencode/10X/TSP2_BM_vertebralbody_10X_2_1',\n",
       " 'evros alignment.10x_count --taxon homo.gencode.v30.ERCC.chrM --s3_input_dir s3://tabula-sapiens/Pilot2/fastqs/10X/NovaSeq_ReRun_Folders/TSP2_Thymus_NA_10X_1_1 --s3_output_dir s3://tabula-sapiens/Pilot2/alignment-gencode/10X/TSP2_Thymus_NA_10X_1_1',\n",
       " 'evros alignment.10x_count --taxon homo.gencode.v30.ERCC.chrM --s3_input_dir s3://tabula-sapiens/Pilot2/fastqs/10X/NovaSeq_ReRun_Folders/TSP2_Kidney_NA_10X_1_1 --s3_output_dir s3://tabula-sapiens/Pilot2/alignment-gencode/10X/TSP2_Kidney_NA_10X_1_1',\n",
       " 'evros alignment.10x_count --taxon homo.gencode.v30.ERCC.chrM --s3_input_dir s3://tabula-sapiens/Pilot2/fastqs/10X/NovaSeq_ReRun_Folders/TSP2_LI_distal_10X_1_1_Sigmoid --s3_output_dir s3://tabula-sapiens/Pilot2/alignment-gencode/10X/TSP2_LI_distal_10X_1_1_Sigmoid',\n",
       " 'evros alignment.10x_count --taxon homo.gencode.v30.ERCC.chrM --s3_input_dir s3://tabula-sapiens/Pilot2/fastqs/10X/NovaSeq_ReRun_Folders/TSP2_Spleen_NA_10X_1_1 --s3_output_dir s3://tabula-sapiens/Pilot2/alignment-gencode/10X/TSP2_Spleen_NA_10X_1_1',\n",
       " 'evros alignment.10x_count --taxon homo.gencode.v30.ERCC.chrM --s3_input_dir s3://tabula-sapiens/Pilot2/fastqs/10X/NovaSeq_ReRun_Folders/TSP2_BM_vertebralbody_10X_2_2_5prime --s3_output_dir s3://tabula-sapiens/Pilot2/alignment-gencode/10X/TSP2_BM_vertebralbody_10X_2_2_5prime',\n",
       " 'evros alignment.10x_count --taxon homo.gencode.v30.ERCC.chrM --s3_input_dir s3://tabula-sapiens/Pilot2/fastqs/10X/NovaSeq_ReRun_Folders/TSP2_Lung_proxmedialdistal_10X_1_1 --s3_output_dir s3://tabula-sapiens/Pilot2/alignment-gencode/10X/TSP2_Lung_proxmedialdistal_10X_1_1',\n",
       " 'evros alignment.10x_count --taxon homo.gencode.v30.ERCC.chrM --s3_input_dir s3://tabula-sapiens/Pilot2/fastqs/10X/NovaSeq_ReRun_Folders/TSP2_Spleen_NA_10X_2_1 --s3_output_dir s3://tabula-sapiens/Pilot2/alignment-gencode/10X/TSP2_Spleen_NA_10X_2_1',\n",
       " 'evros alignment.10x_count --taxon homo.gencode.v30.ERCC.chrM --s3_input_dir s3://tabula-sapiens/Pilot2/fastqs/10X/NovaSeq_ReRun_Folders/TSP2_LymphNode_NA_10X_1_1 --s3_output_dir s3://tabula-sapiens/Pilot2/alignment-gencode/10X/TSP2_LymphNode_NA_10X_1_1',\n",
       " 'evros alignment.10x_count --taxon homo.gencode.v30.ERCC.chrM --s3_input_dir s3://tabula-sapiens/Pilot2/fastqs/10X/NovaSeq_ReRun_Folders/TSP2_Blood_NA_10X_1_3 --s3_output_dir s3://tabula-sapiens/Pilot2/alignment-gencode/10X/TSP2_Blood_NA_10X_1_3',\n",
       " 'evros alignment.10x_count --taxon homo.gencode.v30.ERCC.chrM --s3_input_dir s3://tabula-sapiens/Pilot2/fastqs/10X/NovaSeq_ReRun_Folders/TSP2_Blood_NA_10X_2_1 --s3_output_dir s3://tabula-sapiens/Pilot2/alignment-gencode/10X/TSP2_Blood_NA_10X_2_1',\n",
       " 'evros alignment.10x_count --taxon homo.gencode.v30.ERCC.chrM --s3_input_dir s3://tabula-sapiens/Pilot2/fastqs/10X/NovaSeq_ReRun_Folders/TSP2_Kidney_NA_10X_1_2 --s3_output_dir s3://tabula-sapiens/Pilot2/alignment-gencode/10X/TSP2_Kidney_NA_10X_1_2',\n",
       " 'evros alignment.10x_count --taxon homo.gencode.v30.ERCC.chrM --s3_input_dir s3://tabula-sapiens/Pilot2/fastqs/10X/NovaSeq_ReRun_Folders/TSP2_Trachea_NA_10X_1_2 --s3_output_dir s3://tabula-sapiens/Pilot2/alignment-gencode/10X/TSP2_Trachea_NA_10X_1_2',\n",
       " 'evros alignment.10x_count --taxon homo.gencode.v30.ERCC.chrM --s3_input_dir s3://tabula-sapiens/Pilot2/fastqs/10X/NovaSeq_ReRun_Folders/TSP2_LymphNode_NA_10X_2_1 --s3_output_dir s3://tabula-sapiens/Pilot2/alignment-gencode/10X/TSP2_LymphNode_NA_10X_2_1',\n",
       " 'evros alignment.10x_count --taxon homo.gencode.v30.ERCC.chrM --s3_input_dir s3://tabula-sapiens/Pilot2/fastqs/10X/NovaSeq_ReRun_Folders/TSP2_Blood_NA_10X_1_5_5prime --s3_output_dir s3://tabula-sapiens/Pilot2/alignment-gencode/10X/TSP2_Blood_NA_10X_1_5_5prime',\n",
       " 'evros alignment.10x_count --taxon homo.gencode.v30.ERCC.chrM --s3_input_dir s3://tabula-sapiens/Pilot2/fastqs/10X/NovaSeq_ReRun_Folders/TSP2_Muscle_rectusabdominus_10X_1_1 --s3_output_dir s3://tabula-sapiens/Pilot2/alignment-gencode/10X/TSP2_Muscle_rectusabdominus_10X_1_1',\n",
       " 'evros alignment.10x_count --taxon homo.gencode.v30.ERCC.chrM --s3_input_dir s3://tabula-sapiens/Pilot2/fastqs/10X/NovaSeq_ReRun_Folders/TSP2_Trachea_NA_10X_1_1 --s3_output_dir s3://tabula-sapiens/Pilot2/alignment-gencode/10X/TSP2_Trachea_NA_10X_1_1',\n",
       " 'evros alignment.10x_count --taxon homo.gencode.v30.ERCC.chrM --s3_input_dir s3://tabula-sapiens/Pilot2/fastqs/10X/NovaSeq_ReRun_Folders/TSP2_BM_vertebralbody_10X_1_1 --s3_output_dir s3://tabula-sapiens/Pilot2/alignment-gencode/10X/TSP2_BM_vertebralbody_10X_1_1',\n",
       " 'evros alignment.10x_count --taxon homo.gencode.v30.ERCC.chrM --s3_input_dir s3://tabula-sapiens/Pilot2/fastqs/10X/NovaSeq_ReRun_Folders/TSP2_LI_proximal_10X_1_1_Ascending --s3_output_dir s3://tabula-sapiens/Pilot2/alignment-gencode/10X/TSP2_LI_proximal_10X_1_1_Ascending',\n",
       " 'evros alignment.10x_count --taxon homo.gencode.v30.ERCC.chrM --s3_input_dir s3://tabula-sapiens/Pilot2/fastqs/10X/NovaSeq_ReRun_Folders/TSP2_Heart_ventricle_10X_1_1 --s3_output_dir s3://tabula-sapiens/Pilot2/alignment-gencode/10X/TSP2_Heart_ventricle_10X_1_1',\n",
       " 'evros alignment.10x_count --taxon homo.gencode.v30.ERCC.chrM --s3_input_dir s3://tabula-sapiens/Pilot2/fastqs/10X/NovaSeq_ReRun_Folders/TSP2_BM_vertebralbody_10X_1_2_5prime --s3_output_dir s3://tabula-sapiens/Pilot2/alignment-gencode/10X/TSP2_BM_vertebralbody_10X_1_2_5prime',\n",
       " 'evros alignment.10x_count --taxon homo.gencode.v30.ERCC.chrM --s3_input_dir s3://tabula-sapiens/Pilot2/fastqs/10X/NovaSeq_ReRun_Folders/TSP2_Muscle_diaphragm_10X_1_1 --s3_output_dir s3://tabula-sapiens/Pilot2/alignment-gencode/10X/TSP2_Muscle_diaphragm_10X_1_1',\n",
       " 'evros alignment.10x_count --taxon homo.gencode.v30.ERCC.chrM --s3_input_dir s3://tabula-sapiens/Pilot2/fastqs/10X/NovaSeq_ReRun_Folders/TSP2_Bladder_NA_10X_1_1 --s3_output_dir s3://tabula-sapiens/Pilot2/alignment-gencode/10X/TSP2_Bladder_NA_10X_1_1',\n",
       " 'evros alignment.10x_count --taxon homo.gencode.v30.ERCC.chrM --s3_input_dir s3://tabula-sapiens/Pilot2/fastqs/10X/NovaSeq_ReRun_Folders/TSP2_SI_distal_10X_1_1_Jejunum --s3_output_dir s3://tabula-sapiens/Pilot2/alignment-gencode/10X/TSP2_SI_distal_10X_1_1_Jejunum',\n",
       " 'evros alignment.10x_count --taxon homo.gencode.v30.ERCC.chrM --s3_input_dir s3://tabula-sapiens/Pilot2/fastqs/10X/NovaSeq_ReRun_Folders/TSP2_Muscle_rectusabdominus_10X_1_2 --s3_output_dir s3://tabula-sapiens/Pilot2/alignment-gencode/10X/TSP2_Muscle_rectusabdominus_10X_1_2',\n",
       " 'evros alignment.10x_count --taxon homo.gencode.v30.ERCC.chrM --s3_input_dir s3://tabula-sapiens/Pilot2/fastqs/10X/NovaSeq_ReRun_Folders/TSP2_Vasculature_Aorta_10X_1_2 --s3_output_dir s3://tabula-sapiens/Pilot2/alignment-gencode/10X/TSP2_Vasculature_Aorta_10X_1_2',\n",
       " 'evros alignment.10x_count --taxon homo.gencode.v30.ERCC.chrM --s3_input_dir s3://tabula-sapiens/Pilot2/fastqs/10X/NovaSeq_ReRun_Folders/TSP2_Bladder_NA_10X_1_2 --s3_output_dir s3://tabula-sapiens/Pilot2/alignment-gencode/10X/TSP2_Bladder_NA_10X_1_2',\n",
       " 'evros alignment.10x_count --taxon homo.gencode.v30.ERCC.chrM --s3_input_dir s3://tabula-sapiens/Pilot2/fastqs/10X/NovaSeq_ReRun_Folders/TSP2_Muscle_diaphragm_10X_1_2 --s3_output_dir s3://tabula-sapiens/Pilot2/alignment-gencode/10X/TSP2_Muscle_diaphragm_10X_1_2',\n",
       " 'evros alignment.10x_count --taxon homo.gencode.v30.ERCC.chrM --s3_input_dir s3://tabula-sapiens/Pilot2/fastqs/10X/NovaSeq_ReRun_Folders/TSP2_Thymus_NA_10X_1_3_5prime --s3_output_dir s3://tabula-sapiens/Pilot2/alignment-gencode/10X/TSP2_Thymus_NA_10X_1_3_5prime',\n",
       " 'evros alignment.10x_count --taxon homo.gencode.v30.ERCC.chrM --s3_input_dir s3://tabula-sapiens/Pilot2/fastqs/10X/NovaSeq_ReRun_Folders/TSP2_Thymus_NA_10X_1_2 --s3_output_dir s3://tabula-sapiens/Pilot2/alignment-gencode/10X/TSP2_Thymus_NA_10X_1_2',\n",
       " 'evros alignment.10x_count --taxon homo.gencode.v30.ERCC.chrM --s3_input_dir s3://tabula-sapiens/Pilot2/fastqs/10X/NovaSeq_ReRun_Folders/TSP2_Vasculature_Aorta_10X_1_1 --s3_output_dir s3://tabula-sapiens/Pilot2/alignment-gencode/10X/TSP2_Vasculature_Aorta_10X_1_1']"
      ]
     },
     "execution_count": 127,
     "metadata": {},
     "output_type": "execute_result"
    }
   ],
   "source": [
    "tsp2_runs = []\n",
    "for t in tsp2dirs:\n",
    "    s1 = \"evros alignment.10x_count --taxon homo.gencode.v30.ERCC.chrM --s3_input_dir \"\n",
    "    input_path = \"s3://tabula-sapiens/Pilot2/fastqs/10X/NovaSeq_ReRun_Folders/\"\n",
    "    out_path = \" --s3_output_dir s3://tabula-sapiens/Pilot2/alignment-gencode/10X/\"\n",
    "    trun = s1+input_path+t+out_path+t\n",
    "    tsp2_runs.append(trun)\n",
    "pd.DataFrame(tsp2_runs).to_csv('tsp2_runs.csv')\n",
    "tsp2_runs"
   ]
  },
  {
   "cell_type": "markdown",
   "metadata": {},
   "source": [
    "# General import functions"
   ]
  },
  {
   "cell_type": "code",
   "execution_count": 37,
   "metadata": {},
   "outputs": [
    {
     "name": "stderr",
     "output_type": "stream",
     "text": [
      "/home/angela/anaconda3/lib/python3.7/site-packages/anndata/_core/anndata.py:21: FutureWarning: pandas.core.index is deprecated and will be removed in a future version.  The public classes are available in the top-level namespace.\n",
      "  from pandas.core.index import RangeIndex\n"
     ]
    },
    {
     "name": "stdout",
     "output_type": "stream",
     "text": [
      "scanpy==1.4.5.1 anndata==0.6.22 umap==0.3.10 numpy==1.18.1 scipy==1.4.1 pandas==1.0.1 scikit-learn==0.22.2.post1 statsmodels==0.11.1 python-igraph==0.7.1 louvain==0.6.1\n"
     ]
    }
   ],
   "source": [
    "import numpy as np\n",
    "import pandas as pd\n",
    "import seaborn as sns\n",
    "import matplotlib.pyplot as plt\n",
    "import csv\n",
    "\n",
    "import scanpy as sc\n",
    "sc.settings.verbosity = 3             # verbosity: errors (0), warnings (1), info (2), hints (3)\n",
    "\n",
    "from igraph import *\n",
    "from MulticoreTSNE import MulticoreTSNE as TSNE #faster TSNE alternative\n",
    "from anndata import read_h5ad\n",
    "from anndata import read_csv\n",
    "import anndata\n",
    "\n",
    "sc.logging.print_versions()"
   ]
  },
  {
   "cell_type": "code",
   "execution_count": 38,
   "metadata": {},
   "outputs": [
    {
     "data": {
      "text/plain": [
       "'/home/angela/sapiens/tabula-sapiens/analysis-scripts/pilot2'"
      ]
     },
     "execution_count": 38,
     "metadata": {},
     "output_type": "execute_result"
    }
   ],
   "source": [
    "pwd"
   ]
  },
  {
   "cell_type": "markdown",
   "metadata": {},
   "source": [
    "# Load the data"
   ]
  },
  {
   "cell_type": "markdown",
   "metadata": {},
   "source": [
    "List all the data available"
   ]
  },
  {
   "cell_type": "code",
   "execution_count": 39,
   "metadata": {},
   "outputs": [],
   "source": [
    "path = '/mnt/ibm_lg/angela/sapiens/TSP2/10X/'"
   ]
  },
  {
   "cell_type": "code",
   "execution_count": 48,
   "metadata": {},
   "outputs": [
    {
     "data": {
      "text/plain": [
       "['TSP2_Vasculature_Aorta_2_2',\n",
       " 'TSP2_Blood_NA_1_1_SheelaPrep',\n",
       " 'TSP2_Blood_NA_1_2_SheelaPrep',\n",
       " 'TSP2_Skin_abdomen_2_1',\n",
       " 'TSP2_Skin_abdomen_1_1',\n",
       " 'TSP2_Vasculature_Aorta_2_1',\n",
       " 'TSP2_Fat_SCAT_1_1',\n",
       " 'TSP2_Fat_MAT_1_1']"
      ]
     },
     "execution_count": 48,
     "metadata": {},
     "output_type": "execute_result"
    }
   ],
   "source": [
    "nextseqruns = os.listdir('/mnt/ibm_lg/angela/sapiens/TSP2/nextseq10X/')\n",
    "nextseqruns = [r.split('_10X_')[0]+r.split('10X')[1] for r in nextseqruns]\n",
    "nextseqruns"
   ]
  },
  {
   "cell_type": "code",
   "execution_count": 51,
   "metadata": {},
   "outputs": [
    {
     "data": {
      "text/plain": [
       "True"
      ]
     },
     "execution_count": 51,
     "metadata": {},
     "output_type": "execute_result"
    }
   ],
   "source": [
    "nextseqruns[0] in pilot2_runs"
   ]
  },
  {
   "cell_type": "code",
   "execution_count": 45,
   "metadata": {},
   "outputs": [
    {
     "data": {
      "text/plain": [
       "['TSP2_BM_vertebralbody_1_1',\n",
       " 'TSP2_BM_vertebralbody_1_2_5prime',\n",
       " 'TSP2_BM_vertebralbody_2_1',\n",
       " 'TSP2_BM_vertebralbody_2_2_5prime',\n",
       " 'TSP2_Bladder_NA_1_1',\n",
       " 'TSP2_Bladder_NA_1_2',\n",
       " 'TSP2_Blood_NA_1_1_SheelaPrep',\n",
       " 'TSP2_Blood_NA_1_2_SheelaPrep',\n",
       " 'TSP2_Blood_NA_1_3',\n",
       " 'TSP2_Blood_NA_1_4_5prime',\n",
       " 'TSP2_Blood_NA_1_5_5prime',\n",
       " 'TSP2_Blood_NA_2_1',\n",
       " 'TSP2_Fat_MAT_1_1',\n",
       " 'TSP2_Fat_SCAT_1_1',\n",
       " 'TSP2_Heart_ventricle_1_1',\n",
       " 'TSP2_Kidney_NA_1_1',\n",
       " 'TSP2_Kidney_NA_1_2',\n",
       " 'TSP2_LI_distal_1_1',\n",
       " 'TSP2_LI_proximal_1_1',\n",
       " 'TSP2_Lung_proxmedialdistal_1_1',\n",
       " 'TSP2_Lung_proxmedialdistal_1_2',\n",
       " 'TSP2_LymphNode_NA_1_1',\n",
       " 'TSP2_LymphNode_NA_2_1',\n",
       " 'TSP2_Muscle_diaphragm_1_1',\n",
       " 'TSP2_Muscle_diaphragm_1_2',\n",
       " 'TSP2_Muscle_rectusabdominus_1_1',\n",
       " 'TSP2_Muscle_rectusabdominus_1_2',\n",
       " 'TSP2_SI_distal_1_1',\n",
       " 'TSP2_SI_proximal_1_1',\n",
       " 'TSP2_Skin_abdomen_1_1',\n",
       " 'TSP2_Skin_abdomen_2_1',\n",
       " 'TSP2_Spleen_NA_1_1',\n",
       " 'TSP2_Spleen_NA_2_1',\n",
       " 'TSP2_Thymus_NA_1_1',\n",
       " 'TSP2_Thymus_NA_1_2',\n",
       " 'TSP2_Thymus_NA_1_3_5prime',\n",
       " 'TSP2_Thymus_NA_1_4_5prime',\n",
       " 'TSP2_Trachea_NA_1_1',\n",
       " 'TSP2_Trachea_NA_1_2',\n",
       " 'TSP2_Vasculature_Aorta_1_1',\n",
       " 'TSP2_Vasculature_Aorta_1_2',\n",
       " 'TSP2_Vasculature_Aorta_2_1',\n",
       " 'TSP2_Vasculature_Aorta_2_2']"
      ]
     },
     "execution_count": 45,
     "metadata": {},
     "output_type": "execute_result"
    }
   ],
   "source": [
    "import os\n",
    "pilot2_runs = [x[1] for x in os.walk(path)][0]\n",
    "pilot2_runs.sort()\n",
    "pilot2_runs\n"
   ]
  },
  {
   "cell_type": "code",
   "execution_count": 52,
   "metadata": {
    "scrolled": true
   },
   "outputs": [
    {
     "name": "stdout",
     "output_type": "stream",
     "text": [
      "TSP2_BM_vertebralbody_1_1\n",
      "... reading from cache file cache/mnt-ibm_lg-angela-sapiens-TSP2-10X-TSP2_BM_vertebralbody_1_1-raw_feature_bc_matrix-matrix.h5ad\n",
      "filtered out 6789841 cells that have less than 100 genes expressed\n",
      "filtered out 3044 cells that have less than 1000 counts\n",
      "no notes to add\n",
      "TSP2_BM_vertebralbody_1_2_5prime\n",
      "... reading from cache file cache/mnt-ibm_lg-angela-sapiens-TSP2-10X-TSP2_BM_vertebralbody_1_2_5prime-raw_feature_bc_matrix-matrix.h5ad\n",
      "filtered out 734888 cells that have less than 100 genes expressed\n",
      "filtered out 1353 cells that have less than 1000 counts\n",
      "TSP2_BM_vertebralbody_2_1\n",
      "... reading from cache file cache/mnt-ibm_lg-angela-sapiens-TSP2-10X-TSP2_BM_vertebralbody_2_1-raw_feature_bc_matrix-matrix.h5ad\n",
      "filtered out 6791648 cells that have less than 100 genes expressed\n",
      "filtered out 1886 cells that have less than 1000 counts\n",
      "no notes to add\n",
      "TSP2_BM_vertebralbody_2_2_5prime\n",
      "... reading from cache file cache/mnt-ibm_lg-angela-sapiens-TSP2-10X-TSP2_BM_vertebralbody_2_2_5prime-raw_feature_bc_matrix-matrix.h5ad\n",
      "filtered out 735064 cells that have less than 100 genes expressed\n",
      "filtered out 1262 cells that have less than 1000 counts\n",
      "TSP2_Bladder_NA_1_1\n",
      "... reading from cache file cache/mnt-ibm_lg-angela-sapiens-TSP2-10X-TSP2_Bladder_NA_1_1-raw_feature_bc_matrix-matrix.h5ad\n",
      "filtered out 6782946 cells that have less than 100 genes expressed\n",
      "filtered out 6350 cells that have less than 1000 counts\n",
      "no notes to add\n",
      "TSP2_Bladder_NA_1_2\n",
      "... reading from cache file cache/mnt-ibm_lg-angela-sapiens-TSP2-10X-TSP2_Bladder_NA_1_2-raw_feature_bc_matrix-matrix.h5ad\n",
      "filtered out 6787550 cells that have less than 100 genes expressed\n",
      "filtered out 1946 cells that have less than 1000 counts\n",
      "no notes to add\n",
      "TSP2_Blood_NA_1_1_SheelaPrep\n",
      "... reading from cache file cache/mnt-ibm_lg-angela-sapiens-TSP2-10X-TSP2_Blood_NA_1_1_SheelaPrep-raw_feature_bc_matrix-matrix.h5ad\n",
      "filtered out 6792888 cells that have less than 100 genes expressed\n",
      "filtered out 1028 cells that have less than 1000 counts\n",
      "TSP2_Blood_NA_1_2_SheelaPrep\n",
      "... reading from cache file cache/mnt-ibm_lg-angela-sapiens-TSP2-10X-TSP2_Blood_NA_1_2_SheelaPrep-raw_feature_bc_matrix-matrix.h5ad\n",
      "filtered out 6793725 cells that have less than 100 genes expressed\n",
      "filtered out 362 cells that have less than 1000 counts\n",
      "TSP2_Blood_NA_1_3\n",
      "... reading from cache file cache/mnt-ibm_lg-angela-sapiens-TSP2-10X-TSP2_Blood_NA_1_3-raw_feature_bc_matrix-matrix.h5ad\n",
      "filtered out 6776774 cells that have less than 100 genes expressed\n",
      "filtered out 12795 cells that have less than 1000 counts\n",
      "no notes to add\n",
      "TSP2_Blood_NA_1_4_5prime\n",
      "... reading from cache file cache/mnt-ibm_lg-angela-sapiens-TSP2-10X-TSP2_Blood_NA_1_4_5prime-raw_feature_bc_matrix-matrix.h5ad\n",
      "filtered out 727594 cells that have less than 100 genes expressed\n",
      "filtered out 8425 cells that have less than 1000 counts\n",
      "TSP2_Blood_NA_1_5_5prime\n",
      "... reading from cache file cache/mnt-ibm_lg-angela-sapiens-TSP2-10X-TSP2_Blood_NA_1_5_5prime-raw_feature_bc_matrix-matrix.h5ad\n",
      "filtered out 723181 cells that have less than 100 genes expressed\n",
      "filtered out 12961 cells that have less than 1000 counts\n",
      "TSP2_Blood_NA_2_1\n",
      "... reading from cache file cache/mnt-ibm_lg-angela-sapiens-TSP2-10X-TSP2_Blood_NA_2_1-raw_feature_bc_matrix-matrix.h5ad\n",
      "filtered out 6775942 cells that have less than 100 genes expressed\n",
      "filtered out 13086 cells that have less than 1000 counts\n",
      "no notes to add\n",
      "TSP2_Fat_MAT_1_1\n",
      "... reading from cache file cache/mnt-ibm_lg-angela-sapiens-TSP2-10X-TSP2_Fat_MAT_1_1-raw_feature_bc_matrix-matrix.h5ad\n",
      "filtered out 6794739 cells that have less than 100 genes expressed\n",
      "filtered out 15 cells that have less than 1000 counts\n",
      "no notes to add\n",
      "TSP2_Fat_SCAT_1_1\n",
      "... reading from cache file cache/mnt-ibm_lg-angela-sapiens-TSP2-10X-TSP2_Fat_SCAT_1_1-raw_feature_bc_matrix-matrix.h5ad\n",
      "filtered out 6794641 cells that have less than 100 genes expressed\n",
      "filtered out 17 cells that have less than 1000 counts\n",
      "no notes to add\n",
      "TSP2_Heart_ventricle_1_1\n",
      "... reading from cache file cache/mnt-ibm_lg-angela-sapiens-TSP2-10X-TSP2_Heart_ventricle_1_1-raw_feature_bc_matrix-matrix.h5ad\n",
      "filtered out 6793827 cells that have less than 100 genes expressed\n",
      "filtered out 653 cells that have less than 1000 counts\n",
      "no notes to add\n",
      "TSP2_Kidney_NA_1_1\n",
      "... reading from cache file cache/mnt-ibm_lg-angela-sapiens-TSP2-10X-TSP2_Kidney_NA_1_1-raw_feature_bc_matrix-matrix.h5ad\n",
      "filtered out 6785570 cells that have less than 100 genes expressed\n",
      "filtered out 5585 cells that have less than 1000 counts\n",
      "no notes to add\n",
      "TSP2_Kidney_NA_1_2\n",
      "... reading from cache file cache/mnt-ibm_lg-angela-sapiens-TSP2-10X-TSP2_Kidney_NA_1_2-raw_feature_bc_matrix-matrix.h5ad\n",
      "filtered out 6783813 cells that have less than 100 genes expressed\n",
      "filtered out 7918 cells that have less than 1000 counts\n",
      "no notes to add\n",
      "TSP2_LI_distal_1_1\n",
      "... reading from cache file cache/mnt-ibm_lg-angela-sapiens-TSP2-10X-TSP2_LI_distal_1_1-raw_feature_bc_matrix-matrix.h5ad\n",
      "filtered out 6787864 cells that have less than 100 genes expressed\n",
      "filtered out 2851 cells that have less than 1000 counts\n",
      "no notes to add\n",
      "TSP2_LI_proximal_1_1\n",
      "... reading from cache file cache/mnt-ibm_lg-angela-sapiens-TSP2-10X-TSP2_LI_proximal_1_1-raw_feature_bc_matrix-matrix.h5ad\n",
      "filtered out 6787439 cells that have less than 100 genes expressed\n",
      "filtered out 3080 cells that have less than 1000 counts\n",
      "no notes to add\n",
      "TSP2_Lung_proxmedialdistal_1_1\n",
      "... reading from cache file cache/mnt-ibm_lg-angela-sapiens-TSP2-10X-TSP2_Lung_proxmedialdistal_1_1-raw_feature_bc_matrix-matrix.h5ad\n",
      "filtered out 6772156 cells that have less than 100 genes expressed\n",
      "filtered out 12287 cells that have less than 1000 counts\n",
      "no notes to add\n",
      "TSP2_Lung_proxmedialdistal_1_2\n",
      "... reading from cache file cache/mnt-ibm_lg-angela-sapiens-TSP2-10X-TSP2_Lung_proxmedialdistal_1_2-raw_feature_bc_matrix-matrix.h5ad\n",
      "filtered out 6767182 cells that have less than 100 genes expressed\n",
      "filtered out 15900 cells that have less than 1000 counts\n",
      "no notes to add\n",
      "TSP2_LymphNode_NA_1_1\n",
      "... reading from cache file cache/mnt-ibm_lg-angela-sapiens-TSP2-10X-TSP2_LymphNode_NA_1_1-raw_feature_bc_matrix-matrix.h5ad\n",
      "filtered out 6787765 cells that have less than 100 genes expressed\n",
      "filtered out 1932 cells that have less than 1000 counts\n",
      "no notes to add\n",
      "TSP2_LymphNode_NA_2_1\n",
      "... reading from cache file cache/mnt-ibm_lg-angela-sapiens-TSP2-10X-TSP2_LymphNode_NA_2_1-raw_feature_bc_matrix-matrix.h5ad\n",
      "filtered out 6786796 cells that have less than 100 genes expressed\n",
      "filtered out 2395 cells that have less than 1000 counts\n",
      "no notes to add\n",
      "TSP2_Muscle_diaphragm_1_1\n",
      "... reading from cache file cache/mnt-ibm_lg-angela-sapiens-TSP2-10X-TSP2_Muscle_diaphragm_1_1-raw_feature_bc_matrix-matrix.h5ad\n",
      "filtered out 6780165 cells that have less than 100 genes expressed\n",
      "filtered out 11880 cells that have less than 1000 counts\n",
      "no notes to add\n",
      "TSP2_Muscle_diaphragm_1_2\n",
      "... reading from cache file cache/mnt-ibm_lg-angela-sapiens-TSP2-10X-TSP2_Muscle_diaphragm_1_2-raw_feature_bc_matrix-matrix.h5ad\n",
      "filtered out 6787699 cells that have less than 100 genes expressed\n",
      "filtered out 4789 cells that have less than 1000 counts\n",
      "no notes to add\n",
      "TSP2_Muscle_rectusabdominus_1_1\n",
      "... reading from cache file cache/mnt-ibm_lg-angela-sapiens-TSP2-10X-TSP2_Muscle_rectusabdominus_1_1-raw_feature_bc_matrix-matrix.h5ad\n",
      "filtered out 6785293 cells that have less than 100 genes expressed\n",
      "filtered out 3434 cells that have less than 1000 counts\n",
      "no notes to add\n",
      "TSP2_Muscle_rectusabdominus_1_2\n",
      "... reading from cache file cache/mnt-ibm_lg-angela-sapiens-TSP2-10X-TSP2_Muscle_rectusabdominus_1_2-raw_feature_bc_matrix-matrix.h5ad\n",
      "filtered out 6787266 cells that have less than 100 genes expressed\n",
      "filtered out 2445 cells that have less than 1000 counts\n",
      "no notes to add\n",
      "TSP2_SI_distal_1_1\n",
      "... reading from cache file cache/mnt-ibm_lg-angela-sapiens-TSP2-10X-TSP2_SI_distal_1_1-raw_feature_bc_matrix-matrix.h5ad\n",
      "filtered out 6791405 cells that have less than 100 genes expressed\n",
      "filtered out 1537 cells that have less than 1000 counts\n",
      "no notes to add\n",
      "TSP2_SI_proximal_1_1\n",
      "... reading from cache file cache/mnt-ibm_lg-angela-sapiens-TSP2-10X-TSP2_SI_proximal_1_1-raw_feature_bc_matrix-matrix.h5ad\n",
      "filtered out 6785958 cells that have less than 100 genes expressed\n"
     ]
    },
    {
     "name": "stdout",
     "output_type": "stream",
     "text": [
      "filtered out 3231 cells that have less than 1000 counts\n",
      "no notes to add\n",
      "TSP2_Skin_abdomen_1_1\n",
      "... reading from cache file cache/mnt-ibm_lg-angela-sapiens-TSP2-10X-TSP2_Skin_abdomen_1_1-raw_feature_bc_matrix-matrix.h5ad\n",
      "filtered out 6794109 cells that have less than 100 genes expressed\n",
      "filtered out 769 cells that have less than 1000 counts\n",
      "no notes to add\n",
      "TSP2_Skin_abdomen_2_1\n",
      "... reading from cache file cache/mnt-ibm_lg-angela-sapiens-TSP2-10X-TSP2_Skin_abdomen_2_1-raw_feature_bc_matrix-matrix.h5ad\n",
      "filtered out 6793942 cells that have less than 100 genes expressed\n",
      "filtered out 877 cells that have less than 1000 counts\n",
      "no notes to add\n",
      "TSP2_Spleen_NA_1_1\n",
      "... reading from cache file cache/mnt-ibm_lg-angela-sapiens-TSP2-10X-TSP2_Spleen_NA_1_1-raw_feature_bc_matrix-matrix.h5ad\n",
      "filtered out 6784223 cells that have less than 100 genes expressed\n",
      "filtered out 4729 cells that have less than 1000 counts\n",
      "no notes to add\n",
      "TSP2_Spleen_NA_2_1\n",
      "... reading from cache file cache/mnt-ibm_lg-angela-sapiens-TSP2-10X-TSP2_Spleen_NA_2_1-raw_feature_bc_matrix-matrix.h5ad\n",
      "filtered out 6769979 cells that have less than 100 genes expressed\n",
      "filtered out 20997 cells that have less than 1000 counts\n",
      "no notes to add\n",
      "TSP2_Thymus_NA_1_1\n",
      "... reading from cache file cache/mnt-ibm_lg-angela-sapiens-TSP2-10X-TSP2_Thymus_NA_1_1-raw_feature_bc_matrix-matrix.h5ad\n",
      "filtered out 6786826 cells that have less than 100 genes expressed\n",
      "filtered out 4640 cells that have less than 1000 counts\n",
      "no notes to add\n",
      "TSP2_Thymus_NA_1_2\n",
      "... reading from cache file cache/mnt-ibm_lg-angela-sapiens-TSP2-10X-TSP2_Thymus_NA_1_2-raw_feature_bc_matrix-matrix.h5ad\n",
      "filtered out 6786763 cells that have less than 100 genes expressed\n",
      "filtered out 3982 cells that have less than 1000 counts\n",
      "no notes to add\n",
      "TSP2_Thymus_NA_1_3_5prime\n",
      "... reading from cache file cache/mnt-ibm_lg-angela-sapiens-TSP2-10X-TSP2_Thymus_NA_1_3_5prime-raw_feature_bc_matrix-matrix.h5ad\n",
      "filtered out 733858 cells that have less than 100 genes expressed\n",
      "filtered out 2436 cells that have less than 1000 counts\n",
      "TSP2_Thymus_NA_1_4_5prime\n",
      "... reading from cache file cache/mnt-ibm_lg-angela-sapiens-TSP2-10X-TSP2_Thymus_NA_1_4_5prime-raw_feature_bc_matrix-matrix.h5ad\n",
      "filtered out 733138 cells that have less than 100 genes expressed\n",
      "filtered out 3299 cells that have less than 1000 counts\n",
      "TSP2_Trachea_NA_1_1\n",
      "... reading from cache file cache/mnt-ibm_lg-angela-sapiens-TSP2-10X-TSP2_Trachea_NA_1_1-raw_feature_bc_matrix-matrix.h5ad\n",
      "filtered out 6766385 cells that have less than 100 genes expressed\n",
      "filtered out 27019 cells that have less than 1000 counts\n",
      "no notes to add\n",
      "TSP2_Trachea_NA_1_2\n",
      "... reading from cache file cache/mnt-ibm_lg-angela-sapiens-TSP2-10X-TSP2_Trachea_NA_1_2-raw_feature_bc_matrix-matrix.h5ad\n",
      "filtered out 6777430 cells that have less than 100 genes expressed\n",
      "filtered out 11833 cells that have less than 1000 counts\n",
      "no notes to add\n",
      "TSP2_Vasculature_Aorta_1_1\n",
      "... reading from cache file cache/mnt-ibm_lg-angela-sapiens-TSP2-10X-TSP2_Vasculature_Aorta_1_1-raw_feature_bc_matrix-matrix.h5ad\n",
      "filtered out 6756038 cells that have less than 100 genes expressed\n",
      "filtered out 33535 cells that have less than 1000 counts\n",
      "no notes to add\n",
      "TSP2_Vasculature_Aorta_1_2\n",
      "... reading from cache file cache/mnt-ibm_lg-angela-sapiens-TSP2-10X-TSP2_Vasculature_Aorta_1_2-raw_feature_bc_matrix-matrix.h5ad\n",
      "filtered out 6771207 cells that have less than 100 genes expressed\n",
      "filtered out 18800 cells that have less than 1000 counts\n",
      "no notes to add\n",
      "TSP2_Vasculature_Aorta_2_1\n",
      "... reading from cache file cache/mnt-ibm_lg-angela-sapiens-TSP2-10X-TSP2_Vasculature_Aorta_2_1-raw_feature_bc_matrix-matrix.h5ad\n",
      "filtered out 6794221 cells that have less than 100 genes expressed\n",
      "filtered out 184 cells that have less than 1000 counts\n",
      "no notes to add\n",
      "TSP2_Vasculature_Aorta_2_2\n",
      "... reading from cache file cache/mnt-ibm_lg-angela-sapiens-TSP2-10X-TSP2_Vasculature_Aorta_2_2-raw_feature_bc_matrix-matrix.h5ad\n",
      "filtered out 6794191 cells that have less than 100 genes expressed\n",
      "filtered out 199 cells that have less than 1000 counts\n",
      "no notes to add\n"
     ]
    },
    {
     "name": "stderr",
     "output_type": "stream",
     "text": [
      "... storing 'notes' as categorical\n",
      "... storing 'pilot' as categorical\n",
      "... storing 'replicate' as categorical\n",
      "... storing 'sample' as categorical\n",
      "... storing 'sequencer' as categorical\n",
      "... storing 'subtissue' as categorical\n",
      "... storing 'tissue' as categorical\n",
      "... storing 'method' as categorical\n",
      "... storing 'feature_types' as categorical\n"
     ]
    },
    {
     "data": {
      "text/plain": [
       "AnnData object with n_obs × n_vars = 142565 × 58870 \n",
       "    obs: 'filter_cells_min_counts', 'filter_cells_min_genes', 'n_counts', 'n_genes', 'notes', 'pilot', 'replicate', 'sample', 'sequencer', 'subtissue', 'tissue', 'method'\n",
       "    var: 'gene_ids', 'feature_types'"
      ]
     },
     "execution_count": 52,
     "metadata": {},
     "output_type": "execute_result"
    }
   ],
   "source": [
    "adata = sc.AnnData()\n",
    "\n",
    "for r in pilot2_runs:\n",
    "    \n",
    "    print(r)\n",
    "    adataaux = sc.read_10x_mtx(path+r+'/raw_feature_bc_matrix/',cache=True)\n",
    "    \n",
    "    bfcmingenes = adataaux.shape[0]\n",
    "    sc.pp.filter_cells(adataaux, min_genes=100)\n",
    "    adataaux.obs['filter_cells_min_genes'] = bfcmingenes-adataaux.shape[0] #no droplets lost\n",
    "    bfcmincounts = adataaux.shape[0]\n",
    "    sc.pp.filter_cells(adataaux, min_counts=1000)\n",
    "    adataaux.obs['filter_cells_min_counts'] = bfcmincounts-adataaux.shape[0] #no droplets lost\n",
    "#     bfgmincells = adataaux.shape[0]\n",
    "#     sc.pp.filter_genes(adataaux, min_cells=1)\n",
    "#     adataaux.obs['filter_genes_min_cells'] = bfgmincells-adataaux.shape[0] #no genes lost\n",
    "    \n",
    "    if r in nextseqruns:\n",
    "        adataaux.obs['sequencer'] = 'nextseq'\n",
    "    else:\n",
    "        adataaux.obs['sequencer'] = 'novaseq'\n",
    "    adataaux.obs['pilot'] = r.split('_')[0]  \n",
    "    adataaux.obs['tissue'] = r.split('_')[1]  \n",
    "    adataaux.obs['subtissue'] = r.split('_')[2]  \n",
    "    adataaux.obs['sample'] = r.split('_')[3]  \n",
    "    adataaux.obs['replicate'] = r.split('_')[4]\n",
    "   \n",
    "    try:\n",
    "        adataaux.obs['notes'] = r.split('_')[5]\n",
    "    except:\n",
    "        print(\"no notes to add\")\n",
    "    \n",
    "    try:\n",
    "        adata = adata.concatenate(adataaux)\n",
    "        adata.obs = adata.obs.drop('batch',axis=1)\n",
    "    except:\n",
    "        adata = adataaux.copy()\n",
    "\n",
    "adata.obs['method'] = '10X'\n",
    "adata.write(path+'tsp2_10X_raw_with_nextseq.h5ad')\n",
    "adata"
   ]
  },
  {
   "cell_type": "code",
   "execution_count": 53,
   "metadata": {},
   "outputs": [
    {
     "data": {
      "text/plain": [
       "'/mnt/ibm_lg/angela/sapiens/TSP2/10X/'"
      ]
     },
     "execution_count": 53,
     "metadata": {},
     "output_type": "execute_result"
    }
   ],
   "source": [
    "path"
   ]
  },
  {
   "cell_type": "code",
   "execution_count": 54,
   "metadata": {},
   "outputs": [
    {
     "data": {
      "text/html": [
       "<div>\n",
       "<style scoped>\n",
       "    .dataframe tbody tr th:only-of-type {\n",
       "        vertical-align: middle;\n",
       "    }\n",
       "\n",
       "    .dataframe tbody tr th {\n",
       "        vertical-align: top;\n",
       "    }\n",
       "\n",
       "    .dataframe thead th {\n",
       "        text-align: right;\n",
       "    }\n",
       "</style>\n",
       "<table border=\"1\" class=\"dataframe\">\n",
       "  <thead>\n",
       "    <tr style=\"text-align: right;\">\n",
       "      <th></th>\n",
       "      <th>filter_cells_min_counts</th>\n",
       "      <th>filter_cells_min_genes</th>\n",
       "      <th>n_counts</th>\n",
       "      <th>n_genes</th>\n",
       "      <th>notes</th>\n",
       "      <th>pilot</th>\n",
       "      <th>replicate</th>\n",
       "      <th>sample</th>\n",
       "      <th>sequencer</th>\n",
       "      <th>subtissue</th>\n",
       "      <th>tissue</th>\n",
       "      <th>method</th>\n",
       "    </tr>\n",
       "  </thead>\n",
       "  <tbody>\n",
       "    <tr>\n",
       "      <th>AAACCCAAGTATGAAC-1-0-0-0-0-0-0-0-0-0-0-0-0-0-0-0-0-0-0-0-0-0-0-0-0-0-0-0-0-0-0-0-0-0-0-0-0-0-0-0-0-0-0</th>\n",
       "      <td>3044</td>\n",
       "      <td>6789841</td>\n",
       "      <td>1737.0</td>\n",
       "      <td>888</td>\n",
       "      <td>nan</td>\n",
       "      <td>TSP2</td>\n",
       "      <td>1</td>\n",
       "      <td>1</td>\n",
       "      <td>novaseq</td>\n",
       "      <td>vertebralbody</td>\n",
       "      <td>BM</td>\n",
       "      <td>10X</td>\n",
       "    </tr>\n",
       "    <tr>\n",
       "      <th>AAACCCAAGTCCCGAC-1-0-0-0-0-0-0-0-0-0-0-0-0-0-0-0-0-0-0-0-0-0-0-0-0-0-0-0-0-0-0-0-0-0-0-0-0-0-0-0-0-0-0</th>\n",
       "      <td>3044</td>\n",
       "      <td>6789841</td>\n",
       "      <td>1207.0</td>\n",
       "      <td>596</td>\n",
       "      <td>nan</td>\n",
       "      <td>TSP2</td>\n",
       "      <td>1</td>\n",
       "      <td>1</td>\n",
       "      <td>novaseq</td>\n",
       "      <td>vertebralbody</td>\n",
       "      <td>BM</td>\n",
       "      <td>10X</td>\n",
       "    </tr>\n",
       "    <tr>\n",
       "      <th>AAACCCACACAGTCAT-1-0-0-0-0-0-0-0-0-0-0-0-0-0-0-0-0-0-0-0-0-0-0-0-0-0-0-0-0-0-0-0-0-0-0-0-0-0-0-0-0-0-0</th>\n",
       "      <td>3044</td>\n",
       "      <td>6789841</td>\n",
       "      <td>3483.0</td>\n",
       "      <td>1438</td>\n",
       "      <td>nan</td>\n",
       "      <td>TSP2</td>\n",
       "      <td>1</td>\n",
       "      <td>1</td>\n",
       "      <td>novaseq</td>\n",
       "      <td>vertebralbody</td>\n",
       "      <td>BM</td>\n",
       "      <td>10X</td>\n",
       "    </tr>\n",
       "    <tr>\n",
       "      <th>AAACCCACATAATGCC-1-0-0-0-0-0-0-0-0-0-0-0-0-0-0-0-0-0-0-0-0-0-0-0-0-0-0-0-0-0-0-0-0-0-0-0-0-0-0-0-0-0-0</th>\n",
       "      <td>3044</td>\n",
       "      <td>6789841</td>\n",
       "      <td>1475.0</td>\n",
       "      <td>285</td>\n",
       "      <td>nan</td>\n",
       "      <td>TSP2</td>\n",
       "      <td>1</td>\n",
       "      <td>1</td>\n",
       "      <td>novaseq</td>\n",
       "      <td>vertebralbody</td>\n",
       "      <td>BM</td>\n",
       "      <td>10X</td>\n",
       "    </tr>\n",
       "    <tr>\n",
       "      <th>AAACCCACATACTGAC-1-0-0-0-0-0-0-0-0-0-0-0-0-0-0-0-0-0-0-0-0-0-0-0-0-0-0-0-0-0-0-0-0-0-0-0-0-0-0-0-0-0-0</th>\n",
       "      <td>3044</td>\n",
       "      <td>6789841</td>\n",
       "      <td>24613.0</td>\n",
       "      <td>4601</td>\n",
       "      <td>nan</td>\n",
       "      <td>TSP2</td>\n",
       "      <td>1</td>\n",
       "      <td>1</td>\n",
       "      <td>novaseq</td>\n",
       "      <td>vertebralbody</td>\n",
       "      <td>BM</td>\n",
       "      <td>10X</td>\n",
       "    </tr>\n",
       "  </tbody>\n",
       "</table>\n",
       "</div>"
      ],
      "text/plain": [
       "                                                    filter_cells_min_counts  \\\n",
       "AAACCCAAGTATGAAC-1-0-0-0-0-0-0-0-0-0-0-0-0-0-0-...                     3044   \n",
       "AAACCCAAGTCCCGAC-1-0-0-0-0-0-0-0-0-0-0-0-0-0-0-...                     3044   \n",
       "AAACCCACACAGTCAT-1-0-0-0-0-0-0-0-0-0-0-0-0-0-0-...                     3044   \n",
       "AAACCCACATAATGCC-1-0-0-0-0-0-0-0-0-0-0-0-0-0-0-...                     3044   \n",
       "AAACCCACATACTGAC-1-0-0-0-0-0-0-0-0-0-0-0-0-0-0-...                     3044   \n",
       "\n",
       "                                                    filter_cells_min_genes  \\\n",
       "AAACCCAAGTATGAAC-1-0-0-0-0-0-0-0-0-0-0-0-0-0-0-...                 6789841   \n",
       "AAACCCAAGTCCCGAC-1-0-0-0-0-0-0-0-0-0-0-0-0-0-0-...                 6789841   \n",
       "AAACCCACACAGTCAT-1-0-0-0-0-0-0-0-0-0-0-0-0-0-0-...                 6789841   \n",
       "AAACCCACATAATGCC-1-0-0-0-0-0-0-0-0-0-0-0-0-0-0-...                 6789841   \n",
       "AAACCCACATACTGAC-1-0-0-0-0-0-0-0-0-0-0-0-0-0-0-...                 6789841   \n",
       "\n",
       "                                                    n_counts  n_genes notes  \\\n",
       "AAACCCAAGTATGAAC-1-0-0-0-0-0-0-0-0-0-0-0-0-0-0-...    1737.0      888   nan   \n",
       "AAACCCAAGTCCCGAC-1-0-0-0-0-0-0-0-0-0-0-0-0-0-0-...    1207.0      596   nan   \n",
       "AAACCCACACAGTCAT-1-0-0-0-0-0-0-0-0-0-0-0-0-0-0-...    3483.0     1438   nan   \n",
       "AAACCCACATAATGCC-1-0-0-0-0-0-0-0-0-0-0-0-0-0-0-...    1475.0      285   nan   \n",
       "AAACCCACATACTGAC-1-0-0-0-0-0-0-0-0-0-0-0-0-0-0-...   24613.0     4601   nan   \n",
       "\n",
       "                                                   pilot replicate sample  \\\n",
       "AAACCCAAGTATGAAC-1-0-0-0-0-0-0-0-0-0-0-0-0-0-0-...  TSP2         1      1   \n",
       "AAACCCAAGTCCCGAC-1-0-0-0-0-0-0-0-0-0-0-0-0-0-0-...  TSP2         1      1   \n",
       "AAACCCACACAGTCAT-1-0-0-0-0-0-0-0-0-0-0-0-0-0-0-...  TSP2         1      1   \n",
       "AAACCCACATAATGCC-1-0-0-0-0-0-0-0-0-0-0-0-0-0-0-...  TSP2         1      1   \n",
       "AAACCCACATACTGAC-1-0-0-0-0-0-0-0-0-0-0-0-0-0-0-...  TSP2         1      1   \n",
       "\n",
       "                                                   sequencer      subtissue  \\\n",
       "AAACCCAAGTATGAAC-1-0-0-0-0-0-0-0-0-0-0-0-0-0-0-...   novaseq  vertebralbody   \n",
       "AAACCCAAGTCCCGAC-1-0-0-0-0-0-0-0-0-0-0-0-0-0-0-...   novaseq  vertebralbody   \n",
       "AAACCCACACAGTCAT-1-0-0-0-0-0-0-0-0-0-0-0-0-0-0-...   novaseq  vertebralbody   \n",
       "AAACCCACATAATGCC-1-0-0-0-0-0-0-0-0-0-0-0-0-0-0-...   novaseq  vertebralbody   \n",
       "AAACCCACATACTGAC-1-0-0-0-0-0-0-0-0-0-0-0-0-0-0-...   novaseq  vertebralbody   \n",
       "\n",
       "                                                   tissue method  \n",
       "AAACCCAAGTATGAAC-1-0-0-0-0-0-0-0-0-0-0-0-0-0-0-...     BM    10X  \n",
       "AAACCCAAGTCCCGAC-1-0-0-0-0-0-0-0-0-0-0-0-0-0-0-...     BM    10X  \n",
       "AAACCCACACAGTCAT-1-0-0-0-0-0-0-0-0-0-0-0-0-0-0-...     BM    10X  \n",
       "AAACCCACATAATGCC-1-0-0-0-0-0-0-0-0-0-0-0-0-0-0-...     BM    10X  \n",
       "AAACCCACATACTGAC-1-0-0-0-0-0-0-0-0-0-0-0-0-0-0-...     BM    10X  "
      ]
     },
     "execution_count": 54,
     "metadata": {},
     "output_type": "execute_result"
    }
   ],
   "source": [
    "adata.obs.head()"
   ]
  },
  {
   "cell_type": "code",
   "execution_count": 55,
   "metadata": {},
   "outputs": [
    {
     "data": {
      "text/plain": [
       "{'nextseq', 'novaseq'}"
      ]
     },
     "execution_count": 55,
     "metadata": {},
     "output_type": "execute_result"
    }
   ],
   "source": [
    "set(adata.obs['sequencer'])"
   ]
  },
  {
   "cell_type": "code",
   "execution_count": 7,
   "metadata": {},
   "outputs": [
    {
     "data": {
      "text/html": [
       "<div>\n",
       "<style scoped>\n",
       "    .dataframe tbody tr th:only-of-type {\n",
       "        vertical-align: middle;\n",
       "    }\n",
       "\n",
       "    .dataframe tbody tr th {\n",
       "        vertical-align: top;\n",
       "    }\n",
       "\n",
       "    .dataframe thead th {\n",
       "        text-align: right;\n",
       "    }\n",
       "</style>\n",
       "<table border=\"1\" class=\"dataframe\">\n",
       "  <thead>\n",
       "    <tr style=\"text-align: right;\">\n",
       "      <th></th>\n",
       "      <th>gene_ids</th>\n",
       "      <th>feature_types</th>\n",
       "    </tr>\n",
       "  </thead>\n",
       "  <tbody>\n",
       "    <tr>\n",
       "      <th>DDX11L1</th>\n",
       "      <td>ENSG00000223972.5</td>\n",
       "      <td>Gene Expression</td>\n",
       "    </tr>\n",
       "    <tr>\n",
       "      <th>WASH7P</th>\n",
       "      <td>ENSG00000227232.5</td>\n",
       "      <td>Gene Expression</td>\n",
       "    </tr>\n",
       "    <tr>\n",
       "      <th>MIR6859-1</th>\n",
       "      <td>ENSG00000278267.1</td>\n",
       "      <td>Gene Expression</td>\n",
       "    </tr>\n",
       "    <tr>\n",
       "      <th>MIR1302-2HG</th>\n",
       "      <td>ENSG00000243485.5</td>\n",
       "      <td>Gene Expression</td>\n",
       "    </tr>\n",
       "    <tr>\n",
       "      <th>MIR1302-2</th>\n",
       "      <td>ENSG00000284332.1</td>\n",
       "      <td>Gene Expression</td>\n",
       "    </tr>\n",
       "  </tbody>\n",
       "</table>\n",
       "</div>"
      ],
      "text/plain": [
       "                      gene_ids    feature_types\n",
       "DDX11L1      ENSG00000223972.5  Gene Expression\n",
       "WASH7P       ENSG00000227232.5  Gene Expression\n",
       "MIR6859-1    ENSG00000278267.1  Gene Expression\n",
       "MIR1302-2HG  ENSG00000243485.5  Gene Expression\n",
       "MIR1302-2    ENSG00000284332.1  Gene Expression"
      ]
     },
     "execution_count": 7,
     "metadata": {},
     "output_type": "execute_result"
    }
   ],
   "source": [
    "adata.var.head()"
   ]
  },
  {
   "cell_type": "code",
   "execution_count": null,
   "metadata": {},
   "outputs": [],
   "source": [
    "import seaborn as sns"
   ]
  },
  {
   "cell_type": "code",
   "execution_count": 2,
   "metadata": {
    "scrolled": false
   },
   "outputs": [],
   "source": [
    "df = adata.obs[[ 'n_counts','tissue']]\n",
    "ax = sns.catplot(data = df, y='tissue',x='n_counts',height=7, aspect=1.5,kind='box')\n",
    "plt.savefig('TSP2_tissue_nUMIS.pdf')\n",
    "\n",
    "df = adata.obs[[ 'n_genes','tissue']]#,\n",
    "ax = sns.catplot(data = df, y='tissue',x='n_genes',height=7, aspect=1.5,kind='box')\n",
    "plt.savefig('TSP2_tissue_ngenes.pdf')"
   ]
  },
  {
   "cell_type": "markdown",
   "metadata": {},
   "source": [
    "# Lazy filter the data"
   ]
  },
  {
   "cell_type": "code",
   "execution_count": 44,
   "metadata": {},
   "outputs": [
    {
     "data": {
      "text/plain": [
       "AnnData object with n_obs × n_vars = 138171 × 58870 \n",
       "    obs: 'filter_cells_min_counts', 'filter_cells_min_genes', 'n_counts', 'n_genes', 'notes', 'pilot', 'replicate', 'sample', 'subtissue', 'tissue'\n",
       "    var: 'gene_ids', 'feature_types'"
      ]
     },
     "execution_count": 44,
     "metadata": {},
     "output_type": "execute_result"
    }
   ],
   "source": [
    "adata = sc.read_h5ad(path+'tsp2_10X_raw.h5ad')\n",
    "adata"
   ]
  },
  {
   "cell_type": "code",
   "execution_count": 77,
   "metadata": {},
   "outputs": [
    {
     "data": {
      "text/plain": [
       "AnnData object with n_obs × n_vars = 400 × 58870 \n",
       "    obs: 'filter_cells_min_counts', 'filter_cells_min_genes', 'n_counts', 'n_genes', 'notes', 'pilot', 'replicate', 'sample', 'subtissue', 'tissue'\n",
       "    var: 'gene_ids', 'feature_types'"
      ]
     },
     "execution_count": 77,
     "metadata": {},
     "output_type": "execute_result"
    }
   ],
   "source": [
    "kidney = adata[adata.obs['tissue']=='Heart'].copy()\n",
    "kidney"
   ]
  },
  {
   "cell_type": "code",
   "execution_count": 30,
   "metadata": {
    "scrolled": true
   },
   "outputs": [
    {
     "name": "stdout",
     "output_type": "stream",
     "text": [
      "normalizing counts per cell\n",
      "    finished (0:00:00)\n"
     ]
    },
    {
     "data": {
      "image/png": "[encoded data removed]",
      "text/plain": [
       "<Figure size 360x396 with 1 Axes>"
      ]
     },
     "metadata": {
      "needs_background": "light"
     },
     "output_type": "display_data"
    }
   ],
   "source": [
    "sc.pl.highest_expr_genes(kidney, n_top=20)\n"
   ]
  },
  {
   "cell_type": "code",
   "execution_count": 36,
   "metadata": {},
   "outputs": [],
   "source": [
    "mito_genes = kidney.var_names.str.startswith('MT-')\n",
    "kidney.obs['percent_mito'] = np.sum(\n",
    "    kidney[:, mito_genes].X, axis=1).A1 / np.sum(kidney.X, axis=1).A1"
   ]
  },
  {
   "cell_type": "code",
   "execution_count": 37,
   "metadata": {},
   "outputs": [
    {
     "data": {
      "image/png": "[encoded data removed]",
      "text/plain": [
       "<Figure size 648x216 with 3 Axes>"
      ]
     },
     "metadata": {
      "needs_background": "light"
     },
     "output_type": "display_data"
    }
   ],
   "source": [
    "sc.pl.violin(kidney, ['n_genes', 'n_counts', 'percent_mito'],\n",
    "             jitter=0.4, multi_panel=True)"
   ]
  },
  {
   "cell_type": "markdown",
   "metadata": {},
   "source": [
    "Filter out cells with less than 200 genes detected and genes expressed in less than 3 cells"
   ]
  },
  {
   "cell_type": "code",
   "execution_count": 38,
   "metadata": {},
   "outputs": [
    {
     "data": {
      "image/png": "[encoded data removed]",
      "text/plain": [
       "<Figure size 487.93x288 with 1 Axes>"
      ]
     },
     "metadata": {
      "needs_background": "light"
     },
     "output_type": "display_data"
    },
    {
     "data": {
      "image/png": "[encoded data removed]",
      "text/plain": [
       "<Figure size 487.93x288 with 1 Axes>"
      ]
     },
     "metadata": {
      "needs_background": "light"
     },
     "output_type": "display_data"
    }
   ],
   "source": [
    "sc.pl.scatter(kidney, x='n_counts', y='percent_mito')\n",
    "sc.pl.scatter(kidney, x='n_counts', y='n_genes')"
   ]
  },
  {
   "cell_type": "code",
   "execution_count": 39,
   "metadata": {},
   "outputs": [
    {
     "data": {
      "text/html": [
       "<div>\n",
       "<style scoped>\n",
       "    .dataframe tbody tr th:only-of-type {\n",
       "        vertical-align: middle;\n",
       "    }\n",
       "\n",
       "    .dataframe tbody tr th {\n",
       "        vertical-align: top;\n",
       "    }\n",
       "\n",
       "    .dataframe thead th {\n",
       "        text-align: right;\n",
       "    }\n",
       "</style>\n",
       "<table border=\"1\" class=\"dataframe\">\n",
       "  <thead>\n",
       "    <tr style=\"text-align: right;\">\n",
       "      <th></th>\n",
       "      <th>filter_cells_min_counts</th>\n",
       "      <th>filter_cells_min_genes</th>\n",
       "      <th>n_counts</th>\n",
       "      <th>n_genes</th>\n",
       "      <th>notes</th>\n",
       "      <th>pilot</th>\n",
       "      <th>replicate</th>\n",
       "      <th>sample</th>\n",
       "      <th>subtissue</th>\n",
       "      <th>tissue</th>\n",
       "      <th>percent_mito</th>\n",
       "    </tr>\n",
       "  </thead>\n",
       "  <tbody>\n",
       "    <tr>\n",
       "      <th>AAACCCACAACTCATG-1-1-0-0-0-0-0-0-0-0-0-0-0-0-0-0-0-0-0-0-0-0-0-0-0-0-0-0-0</th>\n",
       "      <td>7918</td>\n",
       "      <td>6783813</td>\n",
       "      <td>1255.0</td>\n",
       "      <td>619</td>\n",
       "      <td>nan</td>\n",
       "      <td>TSP2</td>\n",
       "      <td>2</td>\n",
       "      <td>1</td>\n",
       "      <td>NA</td>\n",
       "      <td>Kidney</td>\n",
       "      <td>0.310757</td>\n",
       "    </tr>\n",
       "    <tr>\n",
       "      <th>AAACCCACACAGTCGC-1-1-0-0-0-0-0-0-0-0-0-0-0-0-0-0-0-0-0-0-0-0-0-0-0-0-0-0-0</th>\n",
       "      <td>7918</td>\n",
       "      <td>6783813</td>\n",
       "      <td>1123.0</td>\n",
       "      <td>422</td>\n",
       "      <td>nan</td>\n",
       "      <td>TSP2</td>\n",
       "      <td>2</td>\n",
       "      <td>1</td>\n",
       "      <td>NA</td>\n",
       "      <td>Kidney</td>\n",
       "      <td>0.478183</td>\n",
       "    </tr>\n",
       "    <tr>\n",
       "      <th>AAACCCACACCCTGAG-1-1-0-0-0-0-0-0-0-0-0-0-0-0-0-0-0-0-0-0-0-0-0-0-0-0-0-0-0</th>\n",
       "      <td>7918</td>\n",
       "      <td>6783813</td>\n",
       "      <td>1387.0</td>\n",
       "      <td>820</td>\n",
       "      <td>nan</td>\n",
       "      <td>TSP2</td>\n",
       "      <td>2</td>\n",
       "      <td>1</td>\n",
       "      <td>NA</td>\n",
       "      <td>Kidney</td>\n",
       "      <td>0.126893</td>\n",
       "    </tr>\n",
       "    <tr>\n",
       "      <th>AAACCCAGTCTGATAC-1-1-0-0-0-0-0-0-0-0-0-0-0-0-0-0-0-0-0-0-0-0-0-0-0-0-0-0-0</th>\n",
       "      <td>7918</td>\n",
       "      <td>6783813</td>\n",
       "      <td>1256.0</td>\n",
       "      <td>756</td>\n",
       "      <td>nan</td>\n",
       "      <td>TSP2</td>\n",
       "      <td>2</td>\n",
       "      <td>1</td>\n",
       "      <td>NA</td>\n",
       "      <td>Kidney</td>\n",
       "      <td>0.207803</td>\n",
       "    </tr>\n",
       "    <tr>\n",
       "      <th>AAACCCAGTTGATCGT-1-1-0-0-0-0-0-0-0-0-0-0-0-0-0-0-0-0-0-0-0-0-0-0-0-0-0-0-0</th>\n",
       "      <td>7918</td>\n",
       "      <td>6783813</td>\n",
       "      <td>1012.0</td>\n",
       "      <td>323</td>\n",
       "      <td>nan</td>\n",
       "      <td>TSP2</td>\n",
       "      <td>2</td>\n",
       "      <td>1</td>\n",
       "      <td>NA</td>\n",
       "      <td>Kidney</td>\n",
       "      <td>0.584980</td>\n",
       "    </tr>\n",
       "    <tr>\n",
       "      <th>...</th>\n",
       "      <td>...</td>\n",
       "      <td>...</td>\n",
       "      <td>...</td>\n",
       "      <td>...</td>\n",
       "      <td>...</td>\n",
       "      <td>...</td>\n",
       "      <td>...</td>\n",
       "      <td>...</td>\n",
       "      <td>...</td>\n",
       "      <td>...</td>\n",
       "      <td>...</td>\n",
       "    </tr>\n",
       "    <tr>\n",
       "      <th>TTTGTTGAGAAACTAC-1-1-0-0-0-0-0-0-0-0-0-0-0-0</th>\n",
       "      <td>5585</td>\n",
       "      <td>6785570</td>\n",
       "      <td>4005.0</td>\n",
       "      <td>1834</td>\n",
       "      <td>nan</td>\n",
       "      <td>TSP2</td>\n",
       "      <td>1</td>\n",
       "      <td>1</td>\n",
       "      <td>NA</td>\n",
       "      <td>Kidney</td>\n",
       "      <td>0.129338</td>\n",
       "    </tr>\n",
       "    <tr>\n",
       "      <th>TTTGTTGAGAGAACCC-1-1-0-0-0-0-0-0-0-0-0-0-0-0</th>\n",
       "      <td>5585</td>\n",
       "      <td>6785570</td>\n",
       "      <td>1402.0</td>\n",
       "      <td>728</td>\n",
       "      <td>nan</td>\n",
       "      <td>TSP2</td>\n",
       "      <td>1</td>\n",
       "      <td>1</td>\n",
       "      <td>NA</td>\n",
       "      <td>Kidney</td>\n",
       "      <td>0.184736</td>\n",
       "    </tr>\n",
       "    <tr>\n",
       "      <th>TTTGTTGAGAGCTGCA-1-1-0-0-0-0-0-0-0-0-0-0-0-0</th>\n",
       "      <td>5585</td>\n",
       "      <td>6785570</td>\n",
       "      <td>1548.0</td>\n",
       "      <td>720</td>\n",
       "      <td>nan</td>\n",
       "      <td>TSP2</td>\n",
       "      <td>1</td>\n",
       "      <td>1</td>\n",
       "      <td>NA</td>\n",
       "      <td>Kidney</td>\n",
       "      <td>0.204134</td>\n",
       "    </tr>\n",
       "    <tr>\n",
       "      <th>TTTGTTGGTCTGCATA-1-1-0-0-0-0-0-0-0-0-0-0-0-0</th>\n",
       "      <td>5585</td>\n",
       "      <td>6785570</td>\n",
       "      <td>1145.0</td>\n",
       "      <td>586</td>\n",
       "      <td>nan</td>\n",
       "      <td>TSP2</td>\n",
       "      <td>1</td>\n",
       "      <td>1</td>\n",
       "      <td>NA</td>\n",
       "      <td>Kidney</td>\n",
       "      <td>0.339738</td>\n",
       "    </tr>\n",
       "    <tr>\n",
       "      <th>TTTGTTGTCAGGAACG-1-1-0-0-0-0-0-0-0-0-0-0-0-0</th>\n",
       "      <td>5585</td>\n",
       "      <td>6785570</td>\n",
       "      <td>1391.0</td>\n",
       "      <td>728</td>\n",
       "      <td>nan</td>\n",
       "      <td>TSP2</td>\n",
       "      <td>1</td>\n",
       "      <td>1</td>\n",
       "      <td>NA</td>\n",
       "      <td>Kidney</td>\n",
       "      <td>0.230769</td>\n",
       "    </tr>\n",
       "  </tbody>\n",
       "</table>\n",
       "<p>6874 rows × 11 columns</p>\n",
       "</div>"
      ],
      "text/plain": [
       "                                                    filter_cells_min_counts  \\\n",
       "AAACCCACAACTCATG-1-1-0-0-0-0-0-0-0-0-0-0-0-0-0-...                     7918   \n",
       "AAACCCACACAGTCGC-1-1-0-0-0-0-0-0-0-0-0-0-0-0-0-...                     7918   \n",
       "AAACCCACACCCTGAG-1-1-0-0-0-0-0-0-0-0-0-0-0-0-0-...                     7918   \n",
       "AAACCCAGTCTGATAC-1-1-0-0-0-0-0-0-0-0-0-0-0-0-0-...                     7918   \n",
       "AAACCCAGTTGATCGT-1-1-0-0-0-0-0-0-0-0-0-0-0-0-0-...                     7918   \n",
       "...                                                                     ...   \n",
       "TTTGTTGAGAAACTAC-1-1-0-0-0-0-0-0-0-0-0-0-0-0                           5585   \n",
       "TTTGTTGAGAGAACCC-1-1-0-0-0-0-0-0-0-0-0-0-0-0                           5585   \n",
       "TTTGTTGAGAGCTGCA-1-1-0-0-0-0-0-0-0-0-0-0-0-0                           5585   \n",
       "TTTGTTGGTCTGCATA-1-1-0-0-0-0-0-0-0-0-0-0-0-0                           5585   \n",
       "TTTGTTGTCAGGAACG-1-1-0-0-0-0-0-0-0-0-0-0-0-0                           5585   \n",
       "\n",
       "                                                    filter_cells_min_genes  \\\n",
       "AAACCCACAACTCATG-1-1-0-0-0-0-0-0-0-0-0-0-0-0-0-...                 6783813   \n",
       "AAACCCACACAGTCGC-1-1-0-0-0-0-0-0-0-0-0-0-0-0-0-...                 6783813   \n",
       "AAACCCACACCCTGAG-1-1-0-0-0-0-0-0-0-0-0-0-0-0-0-...                 6783813   \n",
       "AAACCCAGTCTGATAC-1-1-0-0-0-0-0-0-0-0-0-0-0-0-0-...                 6783813   \n",
       "AAACCCAGTTGATCGT-1-1-0-0-0-0-0-0-0-0-0-0-0-0-0-...                 6783813   \n",
       "...                                                                    ...   \n",
       "TTTGTTGAGAAACTAC-1-1-0-0-0-0-0-0-0-0-0-0-0-0                       6785570   \n",
       "TTTGTTGAGAGAACCC-1-1-0-0-0-0-0-0-0-0-0-0-0-0                       6785570   \n",
       "TTTGTTGAGAGCTGCA-1-1-0-0-0-0-0-0-0-0-0-0-0-0                       6785570   \n",
       "TTTGTTGGTCTGCATA-1-1-0-0-0-0-0-0-0-0-0-0-0-0                       6785570   \n",
       "TTTGTTGTCAGGAACG-1-1-0-0-0-0-0-0-0-0-0-0-0-0                       6785570   \n",
       "\n",
       "                                                    n_counts  n_genes notes  \\\n",
       "AAACCCACAACTCATG-1-1-0-0-0-0-0-0-0-0-0-0-0-0-0-...    1255.0      619   nan   \n",
       "AAACCCACACAGTCGC-1-1-0-0-0-0-0-0-0-0-0-0-0-0-0-...    1123.0      422   nan   \n",
       "AAACCCACACCCTGAG-1-1-0-0-0-0-0-0-0-0-0-0-0-0-0-...    1387.0      820   nan   \n",
       "AAACCCAGTCTGATAC-1-1-0-0-0-0-0-0-0-0-0-0-0-0-0-...    1256.0      756   nan   \n",
       "AAACCCAGTTGATCGT-1-1-0-0-0-0-0-0-0-0-0-0-0-0-0-...    1012.0      323   nan   \n",
       "...                                                      ...      ...   ...   \n",
       "TTTGTTGAGAAACTAC-1-1-0-0-0-0-0-0-0-0-0-0-0-0          4005.0     1834   nan   \n",
       "TTTGTTGAGAGAACCC-1-1-0-0-0-0-0-0-0-0-0-0-0-0          1402.0      728   nan   \n",
       "TTTGTTGAGAGCTGCA-1-1-0-0-0-0-0-0-0-0-0-0-0-0          1548.0      720   nan   \n",
       "TTTGTTGGTCTGCATA-1-1-0-0-0-0-0-0-0-0-0-0-0-0          1145.0      586   nan   \n",
       "TTTGTTGTCAGGAACG-1-1-0-0-0-0-0-0-0-0-0-0-0-0          1391.0      728   nan   \n",
       "\n",
       "                                                   pilot replicate sample  \\\n",
       "AAACCCACAACTCATG-1-1-0-0-0-0-0-0-0-0-0-0-0-0-0-...  TSP2         2      1   \n",
       "AAACCCACACAGTCGC-1-1-0-0-0-0-0-0-0-0-0-0-0-0-0-...  TSP2         2      1   \n",
       "AAACCCACACCCTGAG-1-1-0-0-0-0-0-0-0-0-0-0-0-0-0-...  TSP2         2      1   \n",
       "AAACCCAGTCTGATAC-1-1-0-0-0-0-0-0-0-0-0-0-0-0-0-...  TSP2         2      1   \n",
       "AAACCCAGTTGATCGT-1-1-0-0-0-0-0-0-0-0-0-0-0-0-0-...  TSP2         2      1   \n",
       "...                                                  ...       ...    ...   \n",
       "TTTGTTGAGAAACTAC-1-1-0-0-0-0-0-0-0-0-0-0-0-0        TSP2         1      1   \n",
       "TTTGTTGAGAGAACCC-1-1-0-0-0-0-0-0-0-0-0-0-0-0        TSP2         1      1   \n",
       "TTTGTTGAGAGCTGCA-1-1-0-0-0-0-0-0-0-0-0-0-0-0        TSP2         1      1   \n",
       "TTTGTTGGTCTGCATA-1-1-0-0-0-0-0-0-0-0-0-0-0-0        TSP2         1      1   \n",
       "TTTGTTGTCAGGAACG-1-1-0-0-0-0-0-0-0-0-0-0-0-0        TSP2         1      1   \n",
       "\n",
       "                                                   subtissue  tissue  \\\n",
       "AAACCCACAACTCATG-1-1-0-0-0-0-0-0-0-0-0-0-0-0-0-...        NA  Kidney   \n",
       "AAACCCACACAGTCGC-1-1-0-0-0-0-0-0-0-0-0-0-0-0-0-...        NA  Kidney   \n",
       "AAACCCACACCCTGAG-1-1-0-0-0-0-0-0-0-0-0-0-0-0-0-...        NA  Kidney   \n",
       "AAACCCAGTCTGATAC-1-1-0-0-0-0-0-0-0-0-0-0-0-0-0-...        NA  Kidney   \n",
       "AAACCCAGTTGATCGT-1-1-0-0-0-0-0-0-0-0-0-0-0-0-0-...        NA  Kidney   \n",
       "...                                                      ...     ...   \n",
       "TTTGTTGAGAAACTAC-1-1-0-0-0-0-0-0-0-0-0-0-0-0              NA  Kidney   \n",
       "TTTGTTGAGAGAACCC-1-1-0-0-0-0-0-0-0-0-0-0-0-0              NA  Kidney   \n",
       "TTTGTTGAGAGCTGCA-1-1-0-0-0-0-0-0-0-0-0-0-0-0              NA  Kidney   \n",
       "TTTGTTGGTCTGCATA-1-1-0-0-0-0-0-0-0-0-0-0-0-0              NA  Kidney   \n",
       "TTTGTTGTCAGGAACG-1-1-0-0-0-0-0-0-0-0-0-0-0-0              NA  Kidney   \n",
       "\n",
       "                                                    percent_mito  \n",
       "AAACCCACAACTCATG-1-1-0-0-0-0-0-0-0-0-0-0-0-0-0-...      0.310757  \n",
       "AAACCCACACAGTCGC-1-1-0-0-0-0-0-0-0-0-0-0-0-0-0-...      0.478183  \n",
       "AAACCCACACCCTGAG-1-1-0-0-0-0-0-0-0-0-0-0-0-0-0-...      0.126893  \n",
       "AAACCCAGTCTGATAC-1-1-0-0-0-0-0-0-0-0-0-0-0-0-0-...      0.207803  \n",
       "AAACCCAGTTGATCGT-1-1-0-0-0-0-0-0-0-0-0-0-0-0-0-...      0.584980  \n",
       "...                                                          ...  \n",
       "TTTGTTGAGAAACTAC-1-1-0-0-0-0-0-0-0-0-0-0-0-0            0.129338  \n",
       "TTTGTTGAGAGAACCC-1-1-0-0-0-0-0-0-0-0-0-0-0-0            0.184736  \n",
       "TTTGTTGAGAGCTGCA-1-1-0-0-0-0-0-0-0-0-0-0-0-0            0.204134  \n",
       "TTTGTTGGTCTGCATA-1-1-0-0-0-0-0-0-0-0-0-0-0-0            0.339738  \n",
       "TTTGTTGTCAGGAACG-1-1-0-0-0-0-0-0-0-0-0-0-0-0            0.230769  \n",
       "\n",
       "[6874 rows x 11 columns]"
      ]
     },
     "execution_count": 39,
     "metadata": {},
     "output_type": "execute_result"
    }
   ],
   "source": [
    "kidney.obs"
   ]
  },
  {
   "cell_type": "code",
   "execution_count": 40,
   "metadata": {},
   "outputs": [
    {
     "data": {
      "image/png": "[encoded data removed]",
      "text/plain": [
       "<Figure size 432x288 with 1 Axes>"
      ]
     },
     "metadata": {
      "needs_background": "light"
     },
     "output_type": "display_data"
    }
   ],
   "source": [
    "df = kidney.obs.copy()\n",
    "df['tissue'] = df['tissue'].astype(str)\n",
    "df['subtissue'] = df['subtissue'].astype(str)\n",
    "df = pd.DataFrame(df.groupby(['tissue','subtissue','sample','replicate'])['pilot'].count())\n",
    "df = df.rename({'pilot':'n_cells'},axis=1)\n",
    "df = df.reset_index()\n",
    "ax = sns.swarmplot(data = df,y='tissue',x='n_cells')#,kind='swarm')\n",
    "ax = sns.barplot(data = df,y='tissue',x='n_cells')#,kind='bar')"
   ]
  },
  {
   "cell_type": "code",
   "execution_count": null,
   "metadata": {},
   "outputs": [],
   "source": []
  },
  {
   "cell_type": "code",
   "execution_count": 78,
   "metadata": {},
   "outputs": [
    {
     "name": "stdout",
     "output_type": "stream",
     "text": [
      "filtered out 21 cells that have less than 200 genes expressed\n",
      "filtered out 207 cells that have less than 2500 counts\n",
      "filtered out 42541 genes that are detected in less than 1 cells\n"
     ]
    }
   ],
   "source": [
    "sc.pp.filter_cells(kidney, min_genes=200)\n",
    "sc.pp.filter_cells(kidney, min_counts=2500)\n",
    "sc.pp.filter_genes(kidney, min_cells=1)\n"
   ]
  },
  {
   "cell_type": "code",
   "execution_count": 79,
   "metadata": {},
   "outputs": [
    {
     "data": {
      "text/plain": [
       "AnnData object with n_obs × n_vars = 172 × 16329 \n",
       "    obs: 'filter_cells_min_counts', 'filter_cells_min_genes', 'n_counts', 'n_genes', 'notes', 'pilot', 'replicate', 'sample', 'subtissue', 'tissue'\n",
       "    var: 'gene_ids', 'feature_types', 'n_cells'"
      ]
     },
     "execution_count": 79,
     "metadata": {},
     "output_type": "execute_result"
    }
   ],
   "source": [
    "kidney"
   ]
  },
  {
   "cell_type": "code",
   "execution_count": null,
   "metadata": {},
   "outputs": [],
   "source": []
  },
  {
   "cell_type": "code",
   "execution_count": null,
   "metadata": {},
   "outputs": [],
   "source": []
  },
  {
   "cell_type": "code",
   "execution_count": null,
   "metadata": {},
   "outputs": [],
   "source": []
  }
 ],
 "metadata": {
  "kernelspec": {
   "display_name": "Python 3",
   "language": "python",
   "name": "python3"
  },
  "language_info": {
   "codemirror_mode": {
    "name": "ipython",
    "version": 3
   },
   "file_extension": ".py",
   "mimetype": "text/x-python",
   "name": "python",
   "nbconvert_exporter": "python",
   "pygments_lexer": "ipython3",
   "version": "3.7.4"
  },
  "toc": {
   "base_numbering": 1,
   "nav_menu": {},
   "number_sections": true,
   "sideBar": true,
   "skip_h1_title": false,
   "title_cell": "Table of Contents",
   "title_sidebar": "Contents",
   "toc_cell": false,
   "toc_position": {},
   "toc_section_display": true,
   "toc_window_display": false
  }
 },
 "nbformat": 4,
 "nbformat_minor": 4
}
