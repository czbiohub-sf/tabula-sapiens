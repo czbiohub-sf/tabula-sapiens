{
 "cells": [
  {
   "cell_type": "markdown",
   "metadata": {},
   "source": [
    "# Init"
   ]
  },
  {
   "cell_type": "code",
   "execution_count": 4,
   "metadata": {
    "tags": []
   },
   "outputs": [],
   "source": [
    "import pandas as pd\n",
    "import seaborn as sns\n",
    "import numpy as np\n",
    "import scipy.stats as stats\n",
    "%matplotlib inline\n",
    "import os\n",
    "from matplotlib import pyplot as plt\n",
    "import matplotlib as mpl\n",
    "import plotly\n",
    "import plotly.express as px\n",
    "\n",
    "\n",
    "\n",
    "\n",
    "\n",
    "savefig_args = {\"dpi\": 500, \"bbox_inches\": \"tight\", \"pad_inches\": 0.05}\n",
    "mpl.rc('savefig', dpi=500)\n",
    "output_dir = \"../../figures/tcr_clonality/\"\n",
    "if not os.path.exists(output_dir):\n",
    "            os.makedirs(output_dir)\n",
    "\n",
    "pd.set_option('display.max_rows', 500)\n",
    "pd.set_option('display.max_columns', 500)\n",
    "pd.set_option('display.width', 1000)\n",
    "\n",
    "\n",
    "def tissue_colors():\n",
    "    \n",
    "    tissue_color_dict = {'Bladder': '#e7969c',\n",
    "             'Blood': '#d6616b',\n",
    "             'Bone_Marrow': '#cedb9c',\n",
    "             'Eye': '#c7ea46',#\"#00ff7f\",\n",
    "             'Fat': '#e7cb94',\n",
    "             'Heart': '#ff0800',\n",
    "             'Kidney': '#7b4173',\n",
    "             'Large_Intestine': '#31a354',\n",
    "             'Liver': '#000080',\n",
    "             'Lung': '#3182bd',\n",
    "             'Lymph_Node': '#8c6d31',\n",
    "             'Mammary':'#ce6dbd',\n",
    "             'Muscle': '#e7ba52',\n",
    "             'Pancreas': '#fd8d3c',\n",
    "             'Prostate':'#637939',#'#a55194',#\n",
    "             'Salivary_Gland':'#622a0f',\n",
    "             'Skin': '#de9ed6',\n",
    "             'Small_Intestine': '#6baed6',\n",
    "             'Spleen': '#393b79',\n",
    "             'Thymus': '#9c9ede',\n",
    "             'Tongue':'#b5cf6b',\n",
    "             'Trachea': '#969696',\n",
    "             'Uterus':'#c64b8c',#'#ff0090',\n",
    "             'Vasculature': '#843c39'}\n",
    "    \n",
    "    return tissue_color_dict\n",
    "\n",
    "def donor_colors():\n",
    "    donors = ['TSP1','TSP2','TSP3','TSP4','TSP5','TSP6','TSP7','TSP8','TSP9','TSP10','TSP11','TSP12','TSP13','TSP14','TSP15']\n",
    "    \n",
    "    import matplotlib.colors as pltcolors\n",
    "    \n",
    "    cmap = plt.cm.get_cmap(\"YlGnBu\")\n",
    "        \n",
    "    donor_color_dict = {}\n",
    "    j=1/len(donors)\n",
    "    for d in donors:\n",
    "        donor_color_dict[d] = pltcolors.to_hex(cmap(j))\n",
    "        j+=1/len(donors)\n",
    "        \n",
    "    return donor_color_dict\n",
    "\n",
    "\n",
    "def donor_colors():\n",
    "    donor_color_dict = {'TSP6': '#034001', 'TSP7': '#8FBC8F', 'TSP4': '#c5ba30', 'TSP5': '#DC143C', \n",
    "                    'TSP10': '#FFD700', 'TSP8': '#8839ff', 'TSP3': '#c34a17', 'TSP11': '#00edff', \n",
    "                    'TSP12': '#f507a0', 'TSP9': '#9CADCA', 'TSP14': '#27BFD2', 'TSP15': '#bc7c00', \n",
    "                    'TSP1': '#4169E1', 'TSP2': '#636c8c', 'TSP13': '#ADD8E6'}\n",
    "    return donor_color_dict\n"
   ]
  },
  {
   "cell_type": "code",
   "execution_count": 5,
   "metadata": {
    "tags": []
   },
   "outputs": [],
   "source": [
    "df = pd.read_table('../../data/processed_data/merged_airr_scirpy.tsv')\n",
    "\n",
    "\n",
    "df = df[df.receptor_type == 'TCR']\n",
    "df['node_color'] = df.donor.map(donor_colors())"
   ]
  },
  {
   "cell_type": "markdown",
   "metadata": {},
   "source": [
    "## Rename Clones from numbers to letters"
   ]
  },
  {
   "cell_type": "code",
   "execution_count": 6,
   "metadata": {},
   "outputs": [],
   "source": [
    "# this is to name them alphabetically bc there are currently too many\n",
    "selector = df.clone_id.value_counts()\n",
    "selector = selector[selector > 8].index\n",
    "df = df[df.clone_id.isin(selector)]\n",
    "\n",
    "import string\n",
    "def listAlphabet():\n",
    "  return list(string.ascii_lowercase)\n",
    "\n",
    "rename_clones = dict(zip(df.clone_id.unique(), listAlphabet()))\n",
    "\n",
    "df.loc[:,'clone_id'] = df.clone_id.map(rename_clones)"
   ]
  },
  {
   "cell_type": "markdown",
   "metadata": {},
   "source": [
    "## Sankey Code"
   ]
  },
  {
   "cell_type": "code",
   "execution_count": 7,
   "metadata": {
    "tags": []
   },
   "outputs": [],
   "source": [
    "\n",
    "import plotly\n",
    "import plotly.graph_objects as go\n",
    "def genSankey(df,cat_cols=[],value_cols='',title='Sankey Diagram'):\n",
    "    # maximum of 6 value cols -> 6 colors\n",
    "    colorPalette = ['#4B8BBE','#306998','#FFE873','#FFD43B','#646464']\n",
    "    labelList = []\n",
    "    colorNumList = []\n",
    "    for catCol in cat_cols:\n",
    "        labelListTemp =  list(set(df[catCol].values))\n",
    "        colorNumList.append(len(labelListTemp))\n",
    "        labelList = labelList + labelListTemp\n",
    "        \n",
    "    # remove duplicates from labelList\n",
    "    labelList = list(dict.fromkeys(labelList))\n",
    "    \n",
    "    # define colors based on number of levels\n",
    "    colorList = []\n",
    "    for idx, colorNum in enumerate(colorNumList):\n",
    "        print(idx, colorNum)\n",
    "        colorList = colorList + [colorPalette[idx]]*colorNum\n",
    "        print(colorList)\n",
    "    # transform df into a source-target pair\n",
    "    for i in range(len(cat_cols)-1):\n",
    "        if i==0:\n",
    "            sourceTargetDf = df[[cat_cols[i],cat_cols[i+1],value_cols]]\n",
    "            sourceTargetDf.columns = ['source','target','count']\n",
    "        else:\n",
    "            tempDf = df[[cat_cols[i],cat_cols[i+1],value_cols]]\n",
    "            tempDf.columns = ['source','target','count']\n",
    "            sourceTargetDf = pd.concat([sourceTargetDf,tempDf])\n",
    "        sourceTargetDf = sourceTargetDf.groupby(['source','target']).agg({'count':'sum'}).reset_index()\n",
    "        \n",
    "    # add index for source-target pair\n",
    "    sourceTargetDf['sourceID'] = sourceTargetDf['source'].apply(lambda x: labelList.index(x))\n",
    "    sourceTargetDf['targetID'] = sourceTargetDf['target'].apply(lambda x: labelList.index(x))\n",
    "    \n",
    "    # creating the sankey diagram\n",
    "    data = dict(\n",
    "        type='sankey',\n",
    "        node = dict(\n",
    "          pad = 15,\n",
    "          thickness = 20,\n",
    "          line = dict(\n",
    "            color = \"black\",\n",
    "            width = 0.5\n",
    "          ),\n",
    "          label = labelList,\n",
    "          color = colorList\n",
    "        ),\n",
    "        link = dict(\n",
    "          source = sourceTargetDf['sourceID'],\n",
    "          target = sourceTargetDf['targetID'],\n",
    "          value = sourceTargetDf['count']\n",
    "        )\n",
    "      )\n",
    "    \n",
    "    layout =  dict(\n",
    "        title = title,\n",
    "        font = dict(\n",
    "          size = 10\n",
    "        )\n",
    "    )\n",
    "       \n",
    "    fig = dict(data=[data], layout=layout)\n",
    "    return fig"
   ]
  },
  {
   "cell_type": "code",
   "execution_count": 8,
   "metadata": {},
   "outputs": [],
   "source": [
    "### format data for sankey plot"
   ]
  },
  {
   "cell_type": "code",
   "execution_count": 9,
   "metadata": {
    "tags": []
   },
   "outputs": [
    {
     "name": "stdout",
     "output_type": "stream",
     "text": [
      "0 9\n",
      "['#4B8BBE', '#4B8BBE', '#4B8BBE', '#4B8BBE', '#4B8BBE', '#4B8BBE', '#4B8BBE', '#4B8BBE', '#4B8BBE']\n",
      "1 17\n",
      "['#4B8BBE', '#4B8BBE', '#4B8BBE', '#4B8BBE', '#4B8BBE', '#4B8BBE', '#4B8BBE', '#4B8BBE', '#4B8BBE', '#306998', '#306998', '#306998', '#306998', '#306998', '#306998', '#306998', '#306998', '#306998', '#306998', '#306998', '#306998', '#306998', '#306998', '#306998', '#306998', '#306998']\n",
      "2 11\n",
      "['#4B8BBE', '#4B8BBE', '#4B8BBE', '#4B8BBE', '#4B8BBE', '#4B8BBE', '#4B8BBE', '#4B8BBE', '#4B8BBE', '#306998', '#306998', '#306998', '#306998', '#306998', '#306998', '#306998', '#306998', '#306998', '#306998', '#306998', '#306998', '#306998', '#306998', '#306998', '#306998', '#306998', '#FFE873', '#FFE873', '#FFE873', '#FFE873', '#FFE873', '#FFE873', '#FFE873', '#FFE873', '#FFE873', '#FFE873', '#FFE873']\n"
     ]
    }
   ],
   "source": [
    "selector = df.clone_id.value_counts() > 8\n",
    "\n",
    "clone_ids = selector[selector == True].index\n",
    "\n",
    "df_clone_ids = df[df.clone_id.isin(clone_ids)]\n",
    "#df_clone_ids = df_clone_ids[~df_clone_ids.tissue.isin(['Fat', 'Heart', 'Skin'])]\n",
    "\n",
    "forSankey = df_clone_ids.groupby(['clone_id', 'cell_ontology_class']).tissue.value_counts()\n",
    "\n",
    "forSankey = pd.DataFrame(forSankey)\n",
    "\n",
    "forSankey.columns = ['counts']\n",
    "\n",
    "forSankey.reset_index(inplace = True)\n",
    "\n",
    "forSankey.tissue = forSankey.tissue.str.replace('BM', 'Bone_Marrow')\n",
    "\n",
    "forSankey.tissue = forSankey.tissue.str.replace('LymphNode', 'Lymph_Node')\n",
    "\n",
    "fig = genSankey(forSankey, cat_cols=['tissue', 'clone_id', 'cell_ontology_class'],\n",
    "                value_cols='counts', \n",
    "                title='')"
   ]
  },
  {
   "cell_type": "code",
   "execution_count": 10,
   "metadata": {},
   "outputs": [],
   "source": [
    "cell_type_colors = dict(zip(list(df_clone_ids.cell_ontology_class.unique()), px.colors.qualitative.Dark24[:]))\n",
    "# Increase the font size\n",
    "fig['layout']['font']['size'] = 30\n",
    "# Update colors to be the TS colors\n",
    "_num_tissues = df_clone_ids.tissue.unique().shape[0]\n",
    "_num_clone_ids = df_clone_ids.clone_id.unique().shape[0]\n",
    "# Breaks if there are too many clone_ids involved\n",
    "_dict = dict(zip(list(df_clone_ids.clone_id.unique()), px.colors.qualitative.Alphabet[:]))\n",
    "\n",
    "_dict.update(tissue_colors())\n",
    "_dict.update(cell_type_colors)\n",
    "\n",
    "# create color list according to color dictionary\n",
    "old_dict = dict(zip(fig['data'][0]['node']['label'], fig['data'][0]['node']['color']))\n",
    "\n",
    "\n",
    "new_dict = {key: _dict[key] for key, value in old_dict.items()}\n",
    "\n",
    "fig['data'][0]['node']['color'] = list(new_dict.values())"
   ]
  },
  {
   "cell_type": "code",
   "execution_count": 11,
   "metadata": {},
   "outputs": [
    {
     "data": {
      "text/plain": [
       "'temp-plot.html'"
      ]
     },
     "execution_count": 11,
     "metadata": {},
     "output_type": "execute_result"
    }
   ],
   "source": [
    "plotly.offline.plot(fig, image_height=500, image_width=500, validate=False, image='svg', image_filename=\"T_Cell_Sankey\")"
   ]
  },
  {
   "cell_type": "code",
   "execution_count": null,
   "metadata": {},
   "outputs": [],
   "source": []
  }
 ],
 "metadata": {
  "kernelspec": {
   "display_name": "Python 3 (ipykernel)",
   "language": "python",
   "name": "python3"
  },
  "language_info": {
   "codemirror_mode": {
    "name": "ipython",
    "version": 3
   },
   "file_extension": ".py",
   "mimetype": "text/x-python",
   "name": "python",
   "nbconvert_exporter": "python",
   "pygments_lexer": "ipython3",
   "version": "3.8.11"
  }
 },
 "nbformat": 4,
 "nbformat_minor": 4
}
