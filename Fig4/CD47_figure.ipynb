{
 "cells": [
  {
   "cell_type": "code",
   "execution_count": 1,
   "id": "96a2490a",
   "metadata": {
    "ExecuteTime": {
     "end_time": "2021-11-15T00:35:05.724984Z",
     "start_time": "2021-11-15T00:35:04.133737Z"
    }
   },
   "outputs": [],
   "source": [
    "import matplotlib\n",
    "import matplotlib.pyplot as plt\n",
    "import pandas as pd\n",
    "import seaborn as sns\n",
    "from tqdm import tqdm\n",
    "\n",
    "matplotlib.rcParams.update({'font.size': 14})\n",
    "\n",
    "plt.rcParams['pdf.fonttype'] = 42\n",
    "plt.rcParams['ps.fonttype'] = 42"
   ]
  },
  {
   "cell_type": "code",
   "execution_count": 2,
   "id": "70b37301",
   "metadata": {
    "ExecuteTime": {
     "end_time": "2021-11-15T00:35:06.520196Z",
     "start_time": "2021-11-15T00:35:06.516942Z"
    }
   },
   "outputs": [],
   "source": [
    "outpath = \"\""
   ]
  },
  {
   "cell_type": "code",
   "execution_count": 3,
   "id": "78cabb63",
   "metadata": {
    "ExecuteTime": {
     "end_time": "2021-11-15T00:35:06.839196Z",
     "start_time": "2021-11-15T00:35:06.837268Z"
    }
   },
   "outputs": [],
   "source": [
    "gene = \"CD47\"\n",
    "donor_pos = [108057477,108051939,108050578,108049619]\n",
    "acceptor_pos = [108047292]"
   ]
  },
  {
   "cell_type": "code",
   "execution_count": 4,
   "id": "5af240b9",
   "metadata": {
    "ExecuteTime": {
     "end_time": "2021-11-15T00:35:07.319212Z",
     "start_time": "2021-11-15T00:35:07.316164Z"
    }
   },
   "outputs": [],
   "source": [
    "\n",
    "# create a color dictionary for tissues\n",
    "def tissue_colors():\n",
    "    \n",
    "    tissue_color_dict = {'Bladder': '#e7969c',\n",
    "             'Blood': '#d6616b',\n",
    "             'Bone_Marrow': '#cedb9c',\n",
    "             'Eye': '#c7ea46',#\"#00ff7f\",\n",
    "             'Fat': '#e7cb94',\n",
    "             'Heart': '#ff0800',\n",
    "             'Kidney': '#7b4173',\n",
    "             'Large_Intestine': '#31a354',\n",
    "             'Liver': '#000080',\n",
    "             'Lung': '#3182bd',\n",
    "             'Lymph_Node': '#8c6d31',\n",
    "             'Mammary':'#ce6dbd',\n",
    "             'Muscle': '#e7ba52',\n",
    "             'Pancreas': '#fd8d3c',\n",
    "             'Prostate':'#637939',#'#a55194',#\n",
    "             'Salivary_Gland':'#622a0f',\n",
    "             'Skin': '#de9ed6',\n",
    "             'Small_Intestine': '#6baed6',\n",
    "             'Spleen': '#393b79',\n",
    "             'Thymus': '#9c9ede',\n",
    "             'Tongue':'#b5cf6b',\n",
    "             'Trachea': '#969696',\n",
    "             'Uterus':'#c64b8c',#'#ff0090',\n",
    "             'Vasculature': '#843c39'}\n",
    "    \n",
    "    return tissue_color_dict"
   ]
  },
  {
   "cell_type": "code",
   "execution_count": 7,
   "id": "002e16c1",
   "metadata": {
    "ExecuteTime": {
     "end_time": "2021-11-15T00:35:24.444730Z",
     "start_time": "2021-11-15T00:35:24.220301Z"
    }
   },
   "outputs": [
    {
     "name": "stderr",
     "output_type": "stream",
     "text": [
      "100%|██████████| 3/3 [00:00<00:00, 14.01it/s]\n"
     ]
    }
   ],
   "source": [
    "in_path = \"\"\n",
    "datanames = [\"TSP1_10x_with_postprocessing_newann_\" + gene,\"TSP2_10x_rerun_with_postprocessing_newann_\" + gene,\"TSP14_10x_Muscle_Lung_Blood_Bladder_newann_\" + gene]\n",
    "dfs = []\n",
    "cell_lim = 5\n",
    "read_lim = 1\n",
    "\n",
    "rank_dict = {108057477 : 4,108051939 : 3,108050578 : 2,108049619 : 1}\n",
    "\n",
    "for dataname in tqdm(datanames):\n",
    "  \n",
    "  df = pd.read_parquet(\"{}{}.pq\".format(in_path, dataname))\n",
    "  df = df[~df[\"compartment\"].isna()]\n",
    "  # subset to only junctions contributing to exon skipping event\n",
    "  df = df[df[\"geneR1A_uniq\"] == gene]\n",
    "  df = df[df[\"juncPosR1A\"].isin(donor_pos) & (df[\"juncPosR1B\"].isin(acceptor_pos))]\n",
    "  if df.shape[0] == 0:\n",
    "    df = pd.read_parquet(\"{}{}.pq\".format(in_path, dataname),columns=[\"cell\",\"geneR1A_uniq\",\"juncPosR1A\",\"juncPosR1B\",\"numReads\", \"tissue\",\"compartment\",\"cell_ontology_class\"])\n",
    "    df[\"temp\"] = df[\"juncPosR1A\"]\n",
    "    df[\"juncPosR1A\"] = df[\"juncPosR1B\"]\n",
    "    df[\"juncPosR1B\"] = df[\"temp\"]\n",
    "    df = df[~df[\"compartment\"].isna()]\n",
    "    # subset to only junctions contributing to exon skipping event\n",
    "    df = df[df[\"geneR1A_uniq\"] == gene]\n",
    "    df = df[df[\"juncPosR1A\"].isin(donor_pos) & (df[\"juncPosR1B\"].isin(acceptor_pos))]    \n",
    "\n",
    "  df[\"total_numReads\"] = df[\"cell\"].map(df.groupby(\"cell\")[\"numReads\"].sum())\n",
    "\n",
    "  df = df[df[\"total_numReads\"] > read_lim]\n",
    "\n",
    "  # rank donors\n",
    "  df[\"rank\"] = df[\"juncPosR1A\"].map(rank_dict)\n",
    "  df[\"read_x_rank\"] = df[\"numReads\"]*df[\"rank\"]\n",
    "  df[\"read_x_rank_cell\"] = df.groupby(\"cell\")[\"read_x_rank\"].transform(\"sum\")\n",
    "  \n",
    "  \n",
    "  df[\"numReads_cell\"] = df.groupby(\"cell\")[\"numReads\"].transform(\"sum\")\n",
    "  df[\"rank_mean\"] = df[\"read_x_rank_cell\"]/df[\"numReads_cell\"]\n",
    "\n",
    "\n",
    "  df[\"ontology\"] = df[\"tissue\"] + df[\"compartment\"] + df[\"cell_ontology_class\"]\n",
    "  df[\"num_cells_ont\"] = df[\"ontology\"].map(df.groupby(\"ontology\")[\"cell\"].nunique())\n",
    "  df = df[df[\"num_cells_ont\"] > cell_lim]\n",
    "\n",
    "  df = df.drop_duplicates(\"cell\")\n",
    "\n",
    "  dfs.append(df)\n"
   ]
  },
  {
   "cell_type": "code",
   "execution_count": 8,
   "id": "7791d095",
   "metadata": {
    "ExecuteTime": {
     "end_time": "2021-11-15T00:35:25.632071Z",
     "start_time": "2021-11-15T00:35:25.593361Z"
    }
   },
   "outputs": [
    {
     "name": "stdout",
     "output_type": "stream",
     "text": [
      "epithelialBladderbladder urothelial cell\n",
      "immuneLungmacrophage\n",
      "stromalBladderfibroblast\n"
     ]
    },
    {
     "name": "stderr",
     "output_type": "stream",
     "text": [
      "/home/users/jolivier/.local/lib/python3.9/site-packages/pandas/core/frame.py:3607: SettingWithCopyWarning: \n",
      "A value is trying to be set on a copy of a slice from a DataFrame.\n",
      "Try using .loc[row_indexer,col_indexer] = value instead\n",
      "\n",
      "See the caveats in the documentation: https://pandas.pydata.org/pandas-docs/stable/user_guide/indexing.html#returning-a-view-versus-a-copy\n",
      "  self._set_item(key, value)\n"
     ]
    }
   ],
   "source": [
    "shared_onts = set(dfs[0][\"ontology\"].unique()).intersection(set(dfs[1][\"ontology\"].unique())).intersection(set(dfs[2][\"ontology\"].unique()))\n",
    "len(shared_onts)\n",
    "subdfs = []\n",
    "for i in range(len(dfs)):\n",
    "  dfs[i][\"ont_mean\"] = dfs[i].groupby(\"ontology\")[\"rank_mean\"].transform(\"mean\")\n",
    "  subdfs.append(dfs[i].drop_duplicates(\"ontology\")[[\"ontology\",\"ont_mean\"]])\n",
    "sub = subdfs[0].merge(subdfs[1],on=\"ontology\").merge(subdfs[2],on=\"ontology\")\n",
    "sub[\"mean\"] = sub[[\"ont_mean_x\",\"ont_mean_y\",\"ont_mean\"]].mean(axis=1)\n",
    "sub = sub.sort_values(\"mean\")\n",
    "order_ontologies = sub[\"ontology\"]\n",
    "order = {ont : val for ont, val in zip(order_ontologies, range(len(order_ontologies)))}\n",
    "for i in range(len(dfs)):\n",
    "  dfs[i] = dfs[i][dfs[i][\"ontology\"].isin(shared_onts)]\n",
    "  dfs[i][\"ontology2\"] = dfs[i][\"compartment\"] + dfs[i][\"tissue\"] + dfs[i][\"cell_ontology_class\"]\n",
    "#   dfs[i][\"ontology2\"] =  dfs[i][\"tissue\"] + dfs[i][\"cell_ontology_class\"]\n",
    "  dfs[i][\"order\"] = dfs[i][\"ontology\"].map(order)\n",
    "  dfs[i] = dfs[i].sort_values([\"compartment\",\"order\"])\n",
    "mapping = dfs[0].drop_duplicates(\"ontology\")[[\"ontology\",\"cell_ontology_class\"]]\n",
    "map_onts = dict(zip(mapping.ontology, mapping.cell_ontology_class))\n",
    "yticks = list(dfs[i].drop_duplicates(\"ontology\")[\"cell_ontology_class\"])#order_ontologies#list(dfs[0].drop_duplicates(\"ontology2\")[[\"ontology2\",\"cell_ontology_class\"]].sort_values(\"ontology2\")[\"cell_ontology_class\"])\n",
    "y_vals = []\n",
    "prev = \"Endothelial\"\n",
    "for k, v in zip(range(1,len(shared_onts)),sorted(dfs[0][\"ontology2\"].unique())):\n",
    "  if not v.startswith(prev):\n",
    "    print(v)\n",
    "    prev = v[:5]\n",
    "    y_vals.append(k - 1.5)"
   ]
  },
  {
   "cell_type": "code",
   "execution_count": 9,
   "id": "bb237761",
   "metadata": {
    "ExecuteTime": {
     "end_time": "2021-11-15T00:35:29.619536Z",
     "start_time": "2021-11-15T00:35:28.665663Z"
    }
   },
   "outputs": [
    {
     "data": {
      "image/png": "[encoded data removed]",
      "text/plain": [
       "<Figure size 432x864 with 3 Axes>"
      ]
     },
     "metadata": {
      "needs_background": "light"
     },
     "output_type": "display_data"
    }
   ],
   "source": [
    "palette = tissue_colors()\n",
    "fig, (ax1, ax2,ax3) = plt.subplots(1, 3,figsize=(6,12))\n",
    "\n",
    "g1 = sns.boxplot(x=\"rank_mean\",y=\"ontology\",hue=\"tissue\",dodge=False,data=dfs[0],orient=\"h\",palette = palette,ax=ax1)\n",
    "\n",
    "g2 = sns.boxplot(x=\"rank_mean\",y=\"ontology\",hue=\"tissue\",dodge=False,data=dfs[1],orient=\"h\",palette = palette,ax=ax2)\n",
    "g3 = sns.boxplot(x=\"rank_mean\",y=\"ontology\",hue=\"tissue\",dodge=False,data=dfs[2],orient=\"h\",palette = palette,ax=ax3)\n",
    "\n",
    "g1.legend_.remove()\n",
    "g2.legend_.remove()\n",
    "g3.legend_.remove()\n",
    "g1.set_title(\"TSP1 10x\")\n",
    "g2.set_title(\"TSP2 10x\")\n",
    "g3.set_title(\"TSP14 10x\")\n",
    "g1.axes.set_ylabel(\"\")\n",
    "g2.axes.set_ylabel(\"\")\n",
    "g3.axes.set_ylabel(\"\")\n",
    "\n",
    "\n",
    "g1.axes.set_xlabel(\"average splice\\nposition\")\n",
    "g2.axes.set_xlabel(\"average splice\\nposition\")\n",
    "g3.axes.set_xlabel(\"average splice\\nposition\")\n",
    "g2.set(yticklabels=[])\n",
    "g3.set(yticklabels=[])\n",
    "g1.set(yticklabels=yticks)\n",
    "ax1.set_xticks(np.arange(1,5))\n",
    "ax2.set_xticks(np.arange(1,5))\n",
    "ax3.set_xticks(np.arange(1,5))\n",
    "\n",
    "for y in y_vals:\n",
    "  ax1.axhline(y=y,color=\"black\")\n",
    "  ax2.axhline(y=y,color=\"black\")\n",
    "  ax3.axhline(y=y,color=\"black\")\n",
    "\n",
    "plt.savefig(\"{}{}_colored_by_tissue_box_{}_{}.png\".format(outpath,gene,cell_lim,read_lim),bbox_inches=\"tight\")\n",
    "plt.savefig(\"{}{}_colored_by_tissue_box_{}_{}.pdf\".format(outpath,gene,cell_lim,read_lim),format=\"pdf\",bbox_inches=\"tight\")\n",
    "\n",
    "plt.show()"
   ]
  },
  {
   "cell_type": "code",
   "execution_count": null,
   "id": "6c57ba3a",
   "metadata": {},
   "outputs": [],
   "source": []
  }
 ],
 "metadata": {
  "kernelspec": {
   "display_name": "jup_env",
   "language": "python",
   "name": "jup_env"
  },
  "language_info": {
   "codemirror_mode": {
    "name": "ipython",
    "version": 3
   },
   "file_extension": ".py",
   "mimetype": "text/x-python",
   "name": "python",
   "nbconvert_exporter": "python",
   "pygments_lexer": "ipython3",
   "version": "3.9.6"
  },
  "varInspector": {
   "cols": {
    "lenName": 16,
    "lenType": 16,
    "lenVar": 40
   },
   "kernels_config": {
    "python": {
     "delete_cmd_postfix": "",
     "delete_cmd_prefix": "del ",
     "library": "var_list.py",
     "varRefreshCmd": "print(var_dic_list())"
    },
    "r": {
     "delete_cmd_postfix": ") ",
     "delete_cmd_prefix": "rm(",
     "library": "var_list.r",
     "varRefreshCmd": "cat(var_dic_list()) "
    }
   },
   "types_to_exclude": [
    "module",
    "function",
    "builtin_function_or_method",
    "instance",
    "_Feature"
   ],
   "window_display": false
  }
 },
 "nbformat": 4,
 "nbformat_minor": 5
}
