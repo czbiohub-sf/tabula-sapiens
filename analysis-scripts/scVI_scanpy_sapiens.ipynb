{
 "cells": [
  {
   "cell_type": "markdown",
   "metadata": {
    "pycharm": {}
   },
   "source": [
    "# Clustering 3K PBMCs with scVI and ScanPy"
   ]
  },
  {
   "cell_type": "markdown",
   "metadata": {},
   "source": [
    "Disclaimer: some of the code in this notebook was taken from Scanpy's Clustering tutorial (https://scanpy-tutorials.readthedocs.io/en/latest/pbmc3k.html) which is itself based on SEURAT's clustering tutorial in R.\n",
    "\n",
    "This notebook is designed as a demonstration of scVI's potency on the tasks considered in the Scanpy PBMC 3K Clustering notebook.\n",
    "In order to do so, we follow the same workflow adopted by scanpy in their clustering tutorial while performing the analysis using scVI as often as possible.\n",
    "Specifically, we use scVI's latent representation and differential expression analysis (which computes a Bayes Factor on imputed values). \n",
    "For visualisation, pre-processing and for some canonical analysis, we use the Scanpy package directly.\n",
    "\n",
    "When useful, we provide high-level wrappers around scVI's analysis tools. These functions are designed to make standard use of scVI as easy as possible.\n",
    "For specific use cases, we encourage the reader to take a closer look at those functions and modify them according to his needs."
   ]
  },
  {
   "cell_type": "code",
   "execution_count": 1,
   "metadata": {},
   "outputs": [
    {
     "name": "stdout",
     "output_type": "stream",
     "text": [
      "/Users/angela.pisco/src/sapiens\n"
     ]
    }
   ],
   "source": [
    "cd ../../"
   ]
  },
  {
   "cell_type": "markdown",
   "metadata": {},
   "source": [
    "## Automated testing configuration"
   ]
  },
  {
   "cell_type": "code",
   "execution_count": 3,
   "metadata": {},
   "outputs": [],
   "source": [
    "%matplotlib inline"
   ]
  },
  {
   "cell_type": "code",
   "execution_count": 2,
   "metadata": {},
   "outputs": [],
   "source": [
    "# This is for notebook automated testing purpose\n",
    "def allow_notebook_for_test():\n",
    "    print(\"Testing the annotation notebook\")\n",
    "\n",
    "import sys, os\n",
    "\n",
    "sys.path.append(os.path.abspath(\"../..\"))\n",
    "n_epochs_all = None\n",
    "test_mode = False\n",
    "show_plot = True\n",
    "\n",
    "\n",
    "def if_not_test_else(x, y):\n",
    "    if not test_mode:\n",
    "        return x\n",
    "    else:\n",
    "        return y\n",
    "\n",
    "\n",
    "save_path = \"data/\"\n",
    "\n",
    "# End of configuration"
   ]
  },
  {
   "cell_type": "markdown",
   "metadata": {},
   "source": [
    "## Initialization"
   ]
  },
  {
   "cell_type": "code",
   "execution_count": 5,
   "metadata": {
    "pycharm": {}
   },
   "outputs": [],
   "source": [
    "# Uncomment to download the data (only works on Unix system)\n",
    "# !mkdir data\n",
    "# !wget http://cf.10xgenomics.com/samples/cell-exp/1.1.0/pbmc3k/pbmc3k_filtered_gene_bc_matrices.tar.gz -O data/pbmc3k_filtered_gene_bc_matrices.tar.gz\n",
    "# !cd data; tar -xzf pbmc3k_filtered_gene_bc_matrices.tar.gz"
   ]
  },
  {
   "cell_type": "code",
   "execution_count": 1,
   "metadata": {
    "pycharm": {
     "is_executing": false
    }
   },
   "outputs": [],
   "source": [
    "# Seed for reproducability\n",
    "import torch\n",
    "import numpy as np\n",
    "\n",
    "torch.manual_seed(0)\n",
    "np.random.seed(0)"
   ]
  },
  {
   "cell_type": "code",
   "execution_count": 3,
   "metadata": {
    "pycharm": {}
   },
   "outputs": [
    {
     "name": "stdout",
     "output_type": "stream",
     "text": [
      "scanpy==1.4.4.post1 anndata==0.6.22 umap==0.3.10 numpy==1.17.2 scipy==1.3.1 pandas==0.25.1 scikit-learn==0.21.3 statsmodels==0.10.1 python-igraph==0.7.1 louvain==0.6.1\n"
     ]
    }
   ],
   "source": [
    "import pandas as pd\n",
    "\n",
    "import scanpy as sc\n",
    "\n",
    "sc.settings.verbosity = 3  # verbosity: errors (0), warnings (1), info (2), hints (3)\n",
    "sc.logging.print_versions()"
   ]
  },
  {
   "cell_type": "code",
   "execution_count": null,
   "metadata": {
    "pycharm": {}
   },
   "outputs": [],
   "source": [
    "if not test_mode:\n",
    "    %matplotlib inline\n",
    "    sc.settings.set_figure_params(dpi=60)"
   ]
  },
  {
   "cell_type": "code",
   "execution_count": null,
   "metadata": {
    "pycharm": {},
    "scrolled": true
   },
   "outputs": [],
   "source": [
    "# Load the data\n",
    "adata = sc.read_10x_mtx(\n",
    "    os.path.join(\n",
    "        save_path, \"filtered_gene_bc_matrices/hg19/\"\n",
    "    ),  # the directory with the `.mtx` file\n",
    "    var_names=\"gene_symbols\",  # use gene symbols for the variable names (variables-axis index)\n",
    ")\n",
    "adata.var_names_make_unique()"
   ]
  },
  {
   "cell_type": "code",
   "execution_count": 8,
   "metadata": {},
   "outputs": [
    {
     "data": {
      "text/plain": [
       "'/Users/angela.pisco/src/sapiens'"
      ]
     },
     "execution_count": 8,
     "metadata": {},
     "output_type": "execute_result"
    }
   ],
   "source": [
    "pwd"
   ]
  },
  {
   "cell_type": "code",
   "execution_count": 4,
   "metadata": {},
   "outputs": [
    {
     "data": {
      "text/plain": [
       "AnnData object with n_obs × n_vars = 54702 × 26577 \n",
       "    obs: 'batch', 'replicate', 'tissue', 'method', 'sex', 'subjectid'"
      ]
     },
     "metadata": {},
     "output_type": "display_data"
    },
    {
     "data": {
      "text/plain": [
       "AnnData object with n_obs × n_vars = 7278 × 26577 \n",
       "    obs: 'plate', 'well', 'tissue', 'primary_sort', 'anatomical_position', 'sort_order', 'well_group', 'excluded', 'sort_direction', 'investigator', 'barcode', 'cDNA_prep_person', 'cDNA_dilute', 'library_prep', 'lib_prep_date', 'bead_cleanup', 'BA_nM', 'NovaSeqRun', 'additional_notes'"
      ]
     },
     "metadata": {},
     "output_type": "display_data"
    }
   ],
   "source": [
    "adata_droplet = sc.read_h5ad('./tabula-sapiens-10X-pilot-raw.h5ad')\n",
    "display(adata_droplet)\n",
    "adata_facs = sc.read_h5ad('./data-analysis/pilot/facs/tabula-sapiens-facs-pilot-raw.h5ad')\n",
    "display(adata_facs)"
   ]
  },
  {
   "cell_type": "code",
   "execution_count": 5,
   "metadata": {},
   "outputs": [
    {
     "data": {
      "text/plain": [
       "Index(['replicate', 'tissue', 'method', 'sex', 'subjectid'], dtype='object')"
      ]
     },
     "execution_count": 5,
     "metadata": {},
     "output_type": "execute_result"
    }
   ],
   "source": [
    "adata_droplet.obs.drop(columns=['batch'],inplace=True)\n",
    "adata_droplet.obs.columns"
   ]
  },
  {
   "cell_type": "code",
   "execution_count": 6,
   "metadata": {},
   "outputs": [],
   "source": [
    "adata_facs.obs['method'] = 'facs'"
   ]
  },
  {
   "cell_type": "code",
   "execution_count": 7,
   "metadata": {},
   "outputs": [],
   "source": [
    "adata = adata_droplet.concatenate(adata_facs)"
   ]
  },
  {
   "cell_type": "code",
   "execution_count": 8,
   "metadata": {},
   "outputs": [],
   "source": [
    "adata.obs['batch_indices'] = adata.obs['batch']\n",
    "adata.obs['n_batches'] = adata.obs['batch']"
   ]
  },
  {
   "cell_type": "code",
   "execution_count": 9,
   "metadata": {},
   "outputs": [
    {
     "data": {
      "text/plain": [
       "({'droplet', 'facs'}, {'0', '1'})"
      ]
     },
     "execution_count": 9,
     "metadata": {},
     "output_type": "execute_result"
    }
   ],
   "source": [
    "set(adata.obs['method']),set(adata.obs['batch'])"
   ]
  },
  {
   "cell_type": "code",
   "execution_count": 10,
   "metadata": {},
   "outputs": [
    {
     "data": {
      "text/plain": [
       "AnnData object with n_obs × n_vars = 61980 × 26577 \n",
       "    obs: 'BA_nM', 'NovaSeqRun', 'additional_notes', 'anatomical_position', 'barcode', 'batch', 'bead_cleanup', 'cDNA_dilute', 'cDNA_prep_person', 'excluded', 'investigator', 'lib_prep_date', 'library_prep', 'method', 'plate', 'primary_sort', 'replicate', 'sex', 'sort_direction', 'sort_order', 'subjectid', 'tissue', 'well', 'well_group', 'batch_indices', 'n_batches'"
      ]
     },
     "execution_count": 10,
     "metadata": {},
     "output_type": "execute_result"
    }
   ],
   "source": [
    "adata.obs.index = [i[:-2] for i in adata.obs.index]\n",
    "adata.obs.index\n",
    "adata"
   ]
  },
  {
   "cell_type": "code",
   "execution_count": 11,
   "metadata": {},
   "outputs": [
    {
     "data": {
      "text/plain": [
       "{'bladder',\n",
       " 'blood',\n",
       " 'endopancreas',\n",
       " 'exopancreas1',\n",
       " 'exopancreas2',\n",
       " 'lung',\n",
       " 'muscle',\n",
       " 'pancreasendocrine',\n",
       " 'pancreasexocrine'}"
      ]
     },
     "execution_count": 11,
     "metadata": {},
     "output_type": "execute_result"
    }
   ],
   "source": [
    "adata.obs['tissue'] = adata.obs['tissue'].str.lower()\n",
    "set(adata.obs['tissue'])"
   ]
  },
  {
   "cell_type": "code",
   "execution_count": 12,
   "metadata": {},
   "outputs": [
    {
     "data": {
      "text/plain": [
       "{'bladder',\n",
       " 'blood',\n",
       " 'lung',\n",
       " 'muscle',\n",
       " 'pancreasendocrine',\n",
       " 'pancreasexocrine',\n",
       " 'pancreasexocrine1',\n",
       " 'pancreasexocrine2'}"
      ]
     },
     "execution_count": 12,
     "metadata": {},
     "output_type": "execute_result"
    }
   ],
   "source": [
    "adata.obs['tissue'] = adata.obs['tissue'].replace({'endopancreas':'pancreasendocrine'})\n",
    "adata.obs['tissue'] = adata.obs['tissue'].replace({'exopancreas1':'pancreasexocrine1'})\n",
    "adata.obs['tissue'] = adata.obs['tissue'].replace({'exopancreas2':'pancreasexocrine2'})\n",
    "set(adata.obs['tissue'])"
   ]
  },
  {
   "cell_type": "code",
   "execution_count": 13,
   "metadata": {},
   "outputs": [
    {
     "name": "stdout",
     "output_type": "stream",
     "text": [
      "Bladder\n"
     ]
    },
    {
     "data": {
      "image/png": "[encoded data removed]",
      "text/plain": [
       "<Figure size 432x288 with 1 Axes>"
      ]
     },
     "metadata": {},
     "output_type": "display_data"
    },
    {
     "name": "stdout",
     "output_type": "stream",
     "text": [
      "Pancreas_endocrine\n"
     ]
    },
    {
     "data": {
      "image/png": "[encoded data removed]",
      "text/plain": [
       "<Figure size 432x288 with 1 Axes>"
      ]
     },
     "metadata": {},
     "output_type": "display_data"
    },
    {
     "name": "stdout",
     "output_type": "stream",
     "text": [
      "Pancreas_exocrine\n"
     ]
    },
    {
     "data": {
      "image/png": "[encoded data removed]",
      "text/plain": [
       "<Figure size 432x288 with 1 Axes>"
      ]
     },
     "metadata": {},
     "output_type": "display_data"
    },
    {
     "data": {
      "text/plain": [
       "{'acinar',\n",
       " 'classical monocyte',\n",
       " 'doublets',\n",
       " 'ductal',\n",
       " 'ductal cell',\n",
       " 'endocrine',\n",
       " 'endothelial',\n",
       " 'epithelial',\n",
       " 'fibroblast',\n",
       " 'fibroblst',\n",
       " 'immune + likely tumor',\n",
       " 'immune infiltrating',\n",
       " 'intermediate monocyte',\n",
       " 'likely tumor cells',\n",
       " 'lymphatic endothelial',\n",
       " 'mast cell (also has basophil marker)',\n",
       " 'mesenchymal',\n",
       " 'muscle',\n",
       " 'nan',\n",
       " 'plasma cell',\n",
       " 'potential B cell in maturation',\n",
       " 'to-be-annotated'}"
      ]
     },
     "execution_count": 13,
     "metadata": {},
     "output_type": "execute_result"
    }
   ],
   "source": [
    "adata.obs['provisional_cell_type'] = 'to-be-annotated'\n",
    "adata.obs['provisional_cell_type'] = adata.obs['provisional_cell_type'].astype(str)\n",
    "\n",
    "for t in ['Bladder','Pancreas_endocrine','Pancreas_exocrine']:#list(set(adata.obs['tissue'])-set(['Lung','Marrow'])): # 2 tissues missing!\n",
    "    print(t)\n",
    "    tiss = sc.read_h5ad('./data-objs/' + t + '_facs_annotation_round_1.h5ad')\n",
    "    sc.pl.umap(tiss,color=['cell_ontology_class'])\n",
    "    \n",
    "    adata.obs.loc[tiss.obs.index,'provisional_cell_type'] = tiss.obs['cell_ontology_class']\n",
    "\n",
    "set(adata.obs['provisional_cell_type'])"
   ]
  },
  {
   "cell_type": "code",
   "execution_count": 14,
   "metadata": {},
   "outputs": [
    {
     "data": {
      "text/html": [
       "<div>\n",
       "<style scoped>\n",
       "    .dataframe tbody tr th:only-of-type {\n",
       "        vertical-align: middle;\n",
       "    }\n",
       "\n",
       "    .dataframe tbody tr th {\n",
       "        vertical-align: top;\n",
       "    }\n",
       "\n",
       "    .dataframe thead th {\n",
       "        text-align: right;\n",
       "    }\n",
       "</style>\n",
       "<table border=\"1\" class=\"dataframe\">\n",
       "  <thead>\n",
       "    <tr style=\"text-align: right;\">\n",
       "      <th></th>\n",
       "      <th></th>\n",
       "      <th></th>\n",
       "      <th>BA_nM</th>\n",
       "      <th>NovaSeqRun</th>\n",
       "      <th>additional_notes</th>\n",
       "      <th>anatomical_position</th>\n",
       "      <th>barcode</th>\n",
       "      <th>bead_cleanup</th>\n",
       "      <th>cDNA_dilute</th>\n",
       "      <th>cDNA_prep_person</th>\n",
       "      <th>excluded</th>\n",
       "      <th>investigator</th>\n",
       "      <th>...</th>\n",
       "      <th>replicate</th>\n",
       "      <th>sex</th>\n",
       "      <th>sort_direction</th>\n",
       "      <th>sort_order</th>\n",
       "      <th>subjectid</th>\n",
       "      <th>tissue</th>\n",
       "      <th>well</th>\n",
       "      <th>well_group</th>\n",
       "      <th>n_batches</th>\n",
       "      <th>provisional_cell_type</th>\n",
       "    </tr>\n",
       "    <tr>\n",
       "      <th>method</th>\n",
       "      <th>batch</th>\n",
       "      <th>batch_indices</th>\n",
       "      <th></th>\n",
       "      <th></th>\n",
       "      <th></th>\n",
       "      <th></th>\n",
       "      <th></th>\n",
       "      <th></th>\n",
       "      <th></th>\n",
       "      <th></th>\n",
       "      <th></th>\n",
       "      <th></th>\n",
       "      <th></th>\n",
       "      <th></th>\n",
       "      <th></th>\n",
       "      <th></th>\n",
       "      <th></th>\n",
       "      <th></th>\n",
       "      <th></th>\n",
       "      <th></th>\n",
       "      <th></th>\n",
       "      <th></th>\n",
       "      <th></th>\n",
       "    </tr>\n",
       "  </thead>\n",
       "  <tbody>\n",
       "    <tr>\n",
       "      <td rowspan=\"4\" valign=\"top\">droplet</td>\n",
       "      <td rowspan=\"2\" valign=\"top\">0</td>\n",
       "      <td>0</td>\n",
       "      <td>0.0</td>\n",
       "      <td>0.0</td>\n",
       "      <td>0.0</td>\n",
       "      <td>0.0</td>\n",
       "      <td>0.0</td>\n",
       "      <td>0.0</td>\n",
       "      <td>0.0</td>\n",
       "      <td>0.0</td>\n",
       "      <td>0.0</td>\n",
       "      <td>0.0</td>\n",
       "      <td>...</td>\n",
       "      <td>54702.0</td>\n",
       "      <td>54702.0</td>\n",
       "      <td>0.0</td>\n",
       "      <td>0.0</td>\n",
       "      <td>54702.0</td>\n",
       "      <td>54702.0</td>\n",
       "      <td>0.0</td>\n",
       "      <td>0.0</td>\n",
       "      <td>54702.0</td>\n",
       "      <td>54702.0</td>\n",
       "    </tr>\n",
       "    <tr>\n",
       "      <td>1</td>\n",
       "      <td>NaN</td>\n",
       "      <td>NaN</td>\n",
       "      <td>NaN</td>\n",
       "      <td>NaN</td>\n",
       "      <td>NaN</td>\n",
       "      <td>NaN</td>\n",
       "      <td>NaN</td>\n",
       "      <td>NaN</td>\n",
       "      <td>NaN</td>\n",
       "      <td>NaN</td>\n",
       "      <td>...</td>\n",
       "      <td>NaN</td>\n",
       "      <td>NaN</td>\n",
       "      <td>NaN</td>\n",
       "      <td>NaN</td>\n",
       "      <td>NaN</td>\n",
       "      <td>NaN</td>\n",
       "      <td>NaN</td>\n",
       "      <td>NaN</td>\n",
       "      <td>NaN</td>\n",
       "      <td>NaN</td>\n",
       "    </tr>\n",
       "    <tr>\n",
       "      <td rowspan=\"2\" valign=\"top\">1</td>\n",
       "      <td>0</td>\n",
       "      <td>NaN</td>\n",
       "      <td>NaN</td>\n",
       "      <td>NaN</td>\n",
       "      <td>NaN</td>\n",
       "      <td>NaN</td>\n",
       "      <td>NaN</td>\n",
       "      <td>NaN</td>\n",
       "      <td>NaN</td>\n",
       "      <td>NaN</td>\n",
       "      <td>NaN</td>\n",
       "      <td>...</td>\n",
       "      <td>NaN</td>\n",
       "      <td>NaN</td>\n",
       "      <td>NaN</td>\n",
       "      <td>NaN</td>\n",
       "      <td>NaN</td>\n",
       "      <td>NaN</td>\n",
       "      <td>NaN</td>\n",
       "      <td>NaN</td>\n",
       "      <td>NaN</td>\n",
       "      <td>NaN</td>\n",
       "    </tr>\n",
       "    <tr>\n",
       "      <td>1</td>\n",
       "      <td>NaN</td>\n",
       "      <td>NaN</td>\n",
       "      <td>NaN</td>\n",
       "      <td>NaN</td>\n",
       "      <td>NaN</td>\n",
       "      <td>NaN</td>\n",
       "      <td>NaN</td>\n",
       "      <td>NaN</td>\n",
       "      <td>NaN</td>\n",
       "      <td>NaN</td>\n",
       "      <td>...</td>\n",
       "      <td>NaN</td>\n",
       "      <td>NaN</td>\n",
       "      <td>NaN</td>\n",
       "      <td>NaN</td>\n",
       "      <td>NaN</td>\n",
       "      <td>NaN</td>\n",
       "      <td>NaN</td>\n",
       "      <td>NaN</td>\n",
       "      <td>NaN</td>\n",
       "      <td>NaN</td>\n",
       "    </tr>\n",
       "    <tr>\n",
       "      <td rowspan=\"4\" valign=\"top\">facs</td>\n",
       "      <td rowspan=\"2\" valign=\"top\">0</td>\n",
       "      <td>0</td>\n",
       "      <td>NaN</td>\n",
       "      <td>NaN</td>\n",
       "      <td>NaN</td>\n",
       "      <td>NaN</td>\n",
       "      <td>NaN</td>\n",
       "      <td>NaN</td>\n",
       "      <td>NaN</td>\n",
       "      <td>NaN</td>\n",
       "      <td>NaN</td>\n",
       "      <td>NaN</td>\n",
       "      <td>...</td>\n",
       "      <td>NaN</td>\n",
       "      <td>NaN</td>\n",
       "      <td>NaN</td>\n",
       "      <td>NaN</td>\n",
       "      <td>NaN</td>\n",
       "      <td>NaN</td>\n",
       "      <td>NaN</td>\n",
       "      <td>NaN</td>\n",
       "      <td>NaN</td>\n",
       "      <td>NaN</td>\n",
       "    </tr>\n",
       "    <tr>\n",
       "      <td>1</td>\n",
       "      <td>NaN</td>\n",
       "      <td>NaN</td>\n",
       "      <td>NaN</td>\n",
       "      <td>NaN</td>\n",
       "      <td>NaN</td>\n",
       "      <td>NaN</td>\n",
       "      <td>NaN</td>\n",
       "      <td>NaN</td>\n",
       "      <td>NaN</td>\n",
       "      <td>NaN</td>\n",
       "      <td>...</td>\n",
       "      <td>NaN</td>\n",
       "      <td>NaN</td>\n",
       "      <td>NaN</td>\n",
       "      <td>NaN</td>\n",
       "      <td>NaN</td>\n",
       "      <td>NaN</td>\n",
       "      <td>NaN</td>\n",
       "      <td>NaN</td>\n",
       "      <td>NaN</td>\n",
       "      <td>NaN</td>\n",
       "    </tr>\n",
       "    <tr>\n",
       "      <td rowspan=\"2\" valign=\"top\">1</td>\n",
       "      <td>0</td>\n",
       "      <td>NaN</td>\n",
       "      <td>NaN</td>\n",
       "      <td>NaN</td>\n",
       "      <td>NaN</td>\n",
       "      <td>NaN</td>\n",
       "      <td>NaN</td>\n",
       "      <td>NaN</td>\n",
       "      <td>NaN</td>\n",
       "      <td>NaN</td>\n",
       "      <td>NaN</td>\n",
       "      <td>...</td>\n",
       "      <td>NaN</td>\n",
       "      <td>NaN</td>\n",
       "      <td>NaN</td>\n",
       "      <td>NaN</td>\n",
       "      <td>NaN</td>\n",
       "      <td>NaN</td>\n",
       "      <td>NaN</td>\n",
       "      <td>NaN</td>\n",
       "      <td>NaN</td>\n",
       "      <td>NaN</td>\n",
       "    </tr>\n",
       "    <tr>\n",
       "      <td>1</td>\n",
       "      <td>7278.0</td>\n",
       "      <td>7278.0</td>\n",
       "      <td>7278.0</td>\n",
       "      <td>7278.0</td>\n",
       "      <td>7278.0</td>\n",
       "      <td>7278.0</td>\n",
       "      <td>7278.0</td>\n",
       "      <td>7278.0</td>\n",
       "      <td>7278.0</td>\n",
       "      <td>7278.0</td>\n",
       "      <td>...</td>\n",
       "      <td>0.0</td>\n",
       "      <td>0.0</td>\n",
       "      <td>7278.0</td>\n",
       "      <td>7278.0</td>\n",
       "      <td>0.0</td>\n",
       "      <td>7278.0</td>\n",
       "      <td>7278.0</td>\n",
       "      <td>7278.0</td>\n",
       "      <td>7278.0</td>\n",
       "      <td>7278.0</td>\n",
       "    </tr>\n",
       "  </tbody>\n",
       "</table>\n",
       "<p>8 rows × 24 columns</p>\n",
       "</div>"
      ],
      "text/plain": [
       "                              BA_nM  NovaSeqRun  additional_notes  \\\n",
       "method  batch batch_indices                                         \n",
       "droplet 0     0                 0.0         0.0               0.0   \n",
       "              1                 NaN         NaN               NaN   \n",
       "        1     0                 NaN         NaN               NaN   \n",
       "              1                 NaN         NaN               NaN   \n",
       "facs    0     0                 NaN         NaN               NaN   \n",
       "              1                 NaN         NaN               NaN   \n",
       "        1     0                 NaN         NaN               NaN   \n",
       "              1              7278.0      7278.0            7278.0   \n",
       "\n",
       "                             anatomical_position  barcode  bead_cleanup  \\\n",
       "method  batch batch_indices                                               \n",
       "droplet 0     0                              0.0      0.0           0.0   \n",
       "              1                              NaN      NaN           NaN   \n",
       "        1     0                              NaN      NaN           NaN   \n",
       "              1                              NaN      NaN           NaN   \n",
       "facs    0     0                              NaN      NaN           NaN   \n",
       "              1                              NaN      NaN           NaN   \n",
       "        1     0                              NaN      NaN           NaN   \n",
       "              1                           7278.0   7278.0        7278.0   \n",
       "\n",
       "                             cDNA_dilute  cDNA_prep_person  excluded  \\\n",
       "method  batch batch_indices                                            \n",
       "droplet 0     0                      0.0               0.0       0.0   \n",
       "              1                      NaN               NaN       NaN   \n",
       "        1     0                      NaN               NaN       NaN   \n",
       "              1                      NaN               NaN       NaN   \n",
       "facs    0     0                      NaN               NaN       NaN   \n",
       "              1                      NaN               NaN       NaN   \n",
       "        1     0                      NaN               NaN       NaN   \n",
       "              1                   7278.0            7278.0    7278.0   \n",
       "\n",
       "                             investigator  ...  replicate      sex  \\\n",
       "method  batch batch_indices                ...                       \n",
       "droplet 0     0                       0.0  ...    54702.0  54702.0   \n",
       "              1                       NaN  ...        NaN      NaN   \n",
       "        1     0                       NaN  ...        NaN      NaN   \n",
       "              1                       NaN  ...        NaN      NaN   \n",
       "facs    0     0                       NaN  ...        NaN      NaN   \n",
       "              1                       NaN  ...        NaN      NaN   \n",
       "        1     0                       NaN  ...        NaN      NaN   \n",
       "              1                    7278.0  ...        0.0      0.0   \n",
       "\n",
       "                             sort_direction  sort_order  subjectid   tissue  \\\n",
       "method  batch batch_indices                                                   \n",
       "droplet 0     0                         0.0         0.0    54702.0  54702.0   \n",
       "              1                         NaN         NaN        NaN      NaN   \n",
       "        1     0                         NaN         NaN        NaN      NaN   \n",
       "              1                         NaN         NaN        NaN      NaN   \n",
       "facs    0     0                         NaN         NaN        NaN      NaN   \n",
       "              1                         NaN         NaN        NaN      NaN   \n",
       "        1     0                         NaN         NaN        NaN      NaN   \n",
       "              1                      7278.0      7278.0        0.0   7278.0   \n",
       "\n",
       "                               well  well_group  n_batches  \\\n",
       "method  batch batch_indices                                  \n",
       "droplet 0     0                 0.0         0.0    54702.0   \n",
       "              1                 NaN         NaN        NaN   \n",
       "        1     0                 NaN         NaN        NaN   \n",
       "              1                 NaN         NaN        NaN   \n",
       "facs    0     0                 NaN         NaN        NaN   \n",
       "              1                 NaN         NaN        NaN   \n",
       "        1     0                 NaN         NaN        NaN   \n",
       "              1              7278.0      7278.0     7278.0   \n",
       "\n",
       "                             provisional_cell_type  \n",
       "method  batch batch_indices                         \n",
       "droplet 0     0                            54702.0  \n",
       "              1                                NaN  \n",
       "        1     0                                NaN  \n",
       "              1                                NaN  \n",
       "facs    0     0                                NaN  \n",
       "              1                                NaN  \n",
       "        1     0                                NaN  \n",
       "              1                             7278.0  \n",
       "\n",
       "[8 rows x 24 columns]"
      ]
     },
     "execution_count": 14,
     "metadata": {},
     "output_type": "execute_result"
    }
   ],
   "source": [
    "adata.obs.groupby(['method','batch','batch_indices']).count()"
   ]
  },
  {
   "cell_type": "markdown",
   "metadata": {
    "pycharm": {}
   },
   "source": [
    "## Preprocessing"
   ]
  },
  {
   "cell_type": "markdown",
   "metadata": {
    "pycharm": {}
   },
   "source": [
    "In the following section, we reproduce the preprocessing steps adopted in the scanpy notebook. \n",
    "\n",
    "\n",
    "Basic filtering: we remove cells with a low number of genes expressed and genes which are expressed in a low number of cells."
   ]
  },
  {
   "cell_type": "code",
   "execution_count": 15,
   "metadata": {},
   "outputs": [],
   "source": [
    "min_genes = 200#if_not_test_else(200, 0)\n",
    "min_cells = 3#if_not_test_else(3, 0)"
   ]
  },
  {
   "cell_type": "code",
   "execution_count": 16,
   "metadata": {
    "pycharm": {}
   },
   "outputs": [
    {
     "name": "stdout",
     "output_type": "stream",
     "text": [
      "filtered out 4097 cells that haveless than 200 genes expressed\n",
      "filtered out 1757 genes that are detectedin less than 3 cells\n",
      "filtered out 7297 cells that haveless than 1000 counts\n"
     ]
    },
    {
     "data": {
      "text/plain": [
       "AnnData object with n_obs × n_vars = 50586 × 24820 \n",
       "    obs: 'BA_nM', 'NovaSeqRun', 'additional_notes', 'anatomical_position', 'barcode', 'batch', 'bead_cleanup', 'cDNA_dilute', 'cDNA_prep_person', 'excluded', 'investigator', 'lib_prep_date', 'library_prep', 'method', 'plate', 'primary_sort', 'replicate', 'sex', 'sort_direction', 'sort_order', 'subjectid', 'tissue', 'well', 'well_group', 'batch_indices', 'n_batches', 'provisional_cell_type', 'n_genes', 'n_counts'\n",
       "    var: 'n_cells'"
      ]
     },
     "execution_count": 16,
     "metadata": {},
     "output_type": "execute_result"
    }
   ],
   "source": [
    "sc.settings.verbosity = 2\n",
    "sc.pp.filter_cells(adata, min_genes=min_genes)\n",
    "sc.pp.filter_genes(adata, min_cells=min_cells)\n",
    "sc.pp.filter_cells(adata, min_genes=1)\n",
    "sc.pp.filter_cells(adata, min_counts=1000)\n",
    "\n",
    "adata"
   ]
  },
  {
   "cell_type": "markdown",
   "metadata": {
    "pycharm": {}
   },
   "source": [
    "As in the scanpy notebook, we then look for high levels of mitochondrial genes and high number of expressed genes which are indicators of poor quality cells."
   ]
  },
  {
   "cell_type": "code",
   "execution_count": 17,
   "metadata": {
    "pycharm": {}
   },
   "outputs": [],
   "source": [
    "# mito_genes = adata.var_names.str.startswith(\"MT-\")\n",
    "# adata.obs[\"percent_mito\"] = (\n",
    "#     np.sum(adata[:, mito_genes].X, axis=1).A1 / np.sum(adata.X, axis=1).A1\n",
    "# )\n",
    "# adata.obs[\"n_counts\"] = adata.X.sum(axis=1).A1"
   ]
  },
  {
   "cell_type": "code",
   "execution_count": 18,
   "metadata": {
    "pycharm": {}
   },
   "outputs": [],
   "source": [
    "# adata = adata[adata.obs[\"n_genes\"] < 2500, :]\n",
    "# adata = adata[adata.obs[\"percent_mito\"] < 0.05, :]"
   ]
  },
  {
   "cell_type": "markdown",
   "metadata": {
    "pycharm": {}
   },
   "source": [
    "## ⚠ scVI uses non normalized data so we keep the original data in a separate `AnnData` object, then the normalization steps are performed"
   ]
  },
  {
   "cell_type": "markdown",
   "metadata": {
    "pycharm": {}
   },
   "source": [
    "#####  Normalization and more filtering\n",
    "\n",
    "We only keep highly variable genes"
   ]
  },
  {
   "cell_type": "code",
   "execution_count": 19,
   "metadata": {},
   "outputs": [
    {
     "data": {
      "text/plain": [
       "{'0', '1'}"
      ]
     },
     "execution_count": 19,
     "metadata": {},
     "output_type": "execute_result"
    }
   ],
   "source": [
    "set(adata.obs['batch_indices'])"
   ]
  },
  {
   "cell_type": "code",
   "execution_count": 20,
   "metadata": {},
   "outputs": [
    {
     "data": {
      "text/plain": [
       "{'0'}"
      ]
     },
     "execution_count": 20,
     "metadata": {},
     "output_type": "execute_result"
    }
   ],
   "source": [
    "set(adata.obs[adata.obs['method']=='droplet']['batch_indices'])"
   ]
  },
  {
   "cell_type": "code",
   "execution_count": 21,
   "metadata": {
    "pycharm": {}
   },
   "outputs": [
    {
     "name": "stdout",
     "output_type": "stream",
     "text": [
      "normalizing by total count per cell\n",
      "    finished (0:00:02): normalized adata.X and added    'n_counts', counts per cell before normalization (adata.obs)\n",
      "extracting highly variable genes\n",
      "    finished (0:00:08)\n",
      "2899\n"
     ]
    }
   ],
   "source": [
    "adata_original = adata.copy()\n",
    "\n",
    "sc.pp.normalize_per_cell(adata, counts_per_cell_after=1e4)\n",
    "sc.pp.log1p(adata)\n",
    "\n",
    "\n",
    "min_mean = .0125#if_not_test_else(0.0125, -np.inf)\n",
    "max_mean = 3#if_not_test_else(3, np.inf)\n",
    "min_disp = .5#if_not_test_else(0.5, -np.inf)\n",
    "max_disp = None#if_not_test_else(None, np.inf)\n",
    "\n",
    "sc.pp.highly_variable_genes(\n",
    "    adata,\n",
    "    min_mean=min_mean,\n",
    "    max_mean=max_mean,\n",
    "    min_disp=min_disp,\n",
    "    max_disp=max_disp\n",
    "    # n_top_genes=500\n",
    ")\n",
    "\n",
    "adata.raw = adata\n",
    "\n",
    "highly_variable_genes = adata.var[\"highly_variable\"]\n",
    "# adata = adata[:, highly_variable_genes]\n",
    "\n",
    "# sc.pp.regress_out(adata, [\"n_counts\", \"percent_mito\"])\n",
    "sc.pp.scale(adata, max_value=10)\n",
    "\n",
    "# Also filter the original adata genes\n",
    "# adata_original = adata_original[:, highly_variable_genes]\n",
    "print(highly_variable_genes.sum())\n",
    "\n",
    "# We also store adata_original into adata.raw\n",
    "# (which was designed for this purpose but actually has limited functionnalities)\n",
    "adata.raw = adata_original"
   ]
  },
  {
   "cell_type": "code",
   "execution_count": null,
   "metadata": {},
   "outputs": [
    {
     "name": "stdout",
     "output_type": "stream",
     "text": [
      "Standardizing Data across genes.\n",
      "\n",
      "Found 2 batches\n",
      "\n",
      "Found 0 numerical variables:\n",
      "\t\n",
      "\n"
     ]
    }
   ],
   "source": [
    "sc.pp.combat(adata)\n",
    "adata"
   ]
  },
  {
   "cell_type": "code",
   "execution_count": 22,
   "metadata": {},
   "outputs": [
    {
     "data": {
      "text/plain": [
       "(AnnData object with n_obs × n_vars = 50586 × 24820 \n",
       "     obs: 'BA_nM', 'NovaSeqRun', 'additional_notes', 'anatomical_position', 'barcode', 'batch', 'bead_cleanup', 'cDNA_dilute', 'cDNA_prep_person', 'excluded', 'investigator', 'lib_prep_date', 'library_prep', 'method', 'plate', 'primary_sort', 'replicate', 'sex', 'sort_direction', 'sort_order', 'subjectid', 'tissue', 'well', 'well_group', 'batch_indices', 'n_batches', 'provisional_cell_type', 'n_genes', 'n_counts'\n",
       "     var: 'n_cells', 'highly_variable', 'means', 'dispersions', 'dispersions_norm',\n",
       " AnnData object with n_obs × n_vars = 50586 × 24820 \n",
       "     obs: 'BA_nM', 'NovaSeqRun', 'additional_notes', 'anatomical_position', 'barcode', 'batch', 'bead_cleanup', 'cDNA_dilute', 'cDNA_prep_person', 'excluded', 'investigator', 'lib_prep_date', 'library_prep', 'method', 'plate', 'primary_sort', 'replicate', 'sex', 'sort_direction', 'sort_order', 'subjectid', 'tissue', 'well', 'well_group', 'batch_indices', 'n_batches', 'provisional_cell_type', 'n_genes', 'n_counts'\n",
       "     var: 'n_cells')"
      ]
     },
     "execution_count": 22,
     "metadata": {},
     "output_type": "execute_result"
    }
   ],
   "source": [
    "adata, adata_original"
   ]
  },
  {
   "cell_type": "code",
   "execution_count": 23,
   "metadata": {},
   "outputs": [
    {
     "name": "stderr",
     "output_type": "stream",
     "text": [
      "... storing 'BA_nM' as categorical\n",
      "... storing 'NovaSeqRun' as categorical\n",
      "... storing 'additional_notes' as categorical\n",
      "... storing 'anatomical_position' as categorical\n",
      "... storing 'barcode' as categorical\n",
      "... storing 'bead_cleanup' as categorical\n",
      "... storing 'cDNA_dilute' as categorical\n",
      "... storing 'cDNA_prep_person' as categorical\n",
      "... storing 'excluded' as categorical\n",
      "... storing 'investigator' as categorical\n",
      "... storing 'lib_prep_date' as categorical\n",
      "... storing 'library_prep' as categorical\n",
      "... storing 'method' as categorical\n",
      "... storing 'plate' as categorical\n",
      "... storing 'primary_sort' as categorical\n",
      "... storing 'replicate' as categorical\n",
      "... storing 'sex' as categorical\n",
      "... storing 'sort_direction' as categorical\n",
      "... storing 'sort_order' as categorical\n",
      "... storing 'subjectid' as categorical\n",
      "... storing 'tissue' as categorical\n",
      "... storing 'well' as categorical\n",
      "... storing 'well_group' as categorical\n",
      "... storing 'provisional_cell_type' as categorical\n"
     ]
    }
   ],
   "source": [
    "adata.write('./sapiens-facs-droplet-processed.h5ad')"
   ]
  },
  {
   "cell_type": "code",
   "execution_count": null,
   "metadata": {},
   "outputs": [],
   "source": []
  },
  {
   "cell_type": "markdown",
   "metadata": {
    "pycharm": {}
   },
   "source": [
    "## Compute the scVI latent space"
   ]
  },
  {
   "cell_type": "markdown",
   "metadata": {
    "pycharm": {}
   },
   "source": [
    "Below we provide then use a wrapper function designed to compute scVI's latent representation of the non-normalized data. Specifically, we train scVI's VAE, compute and store the latent representation then return the posterior which will later be used for further inference."
   ]
  },
  {
   "cell_type": "code",
   "execution_count": 115,
   "metadata": {
    "pycharm": {}
   },
   "outputs": [],
   "source": [
    "import scvi\n",
    "from scvi.dataset import AnnDatasetFromAnnData\n",
    "from scvi.inference import UnsupervisedTrainer\n",
    "from scvi.models.vae import VAE\n",
    "from typing import Tuple\n",
    "\n",
    "\n",
    "def compute_scvi_latent(\n",
    "    adata: sc.AnnData,\n",
    "    n_latent: int = 6,\n",
    "    n_epochs: int = 100,\n",
    "    lr: float = 1e-3,\n",
    "    use_batches: bool = False,\n",
    "    use_cuda: bool = False,\n",
    ") -> Tuple[scvi.inference.Posterior, np.ndarray]:\n",
    "    \"\"\"Train and return a scVI model and sample a latent space\n",
    "    \n",
    "    :param adata: sc.AnnData object non-normalized\n",
    "    :param n_latent: dimension of the latent space\n",
    "    :param n_epochs: number of training epochs\n",
    "    :param lr: learning rate\n",
    "    :param use_batches\n",
    "    :param use_cuda\n",
    "    :return: (scvi.Posterior, latent_space)\n",
    "    \"\"\"\n",
    "    # Convert easily to scvi dataset\n",
    "    scviDataset = AnnDatasetFromAnnData(adata)\n",
    "\n",
    "    # Train a model\n",
    "    vae = VAE(\n",
    "        scviDataset.nb_genes,\n",
    "        n_batch=scviDataset.n_batches * use_batches,\n",
    "        n_hidden=128, n_latent=30, n_layers=5, dispersion='gene'\n",
    "    )\n",
    "    trainer = UnsupervisedTrainer(vae, scviDataset, train_size=.99, use_cuda=use_cuda)\n",
    "    trainer.train(n_epochs=n_epochs, lr=lr)\n",
    "    ####\n",
    "\n",
    "    # Extract latent space\n",
    "    posterior = trainer.create_posterior(\n",
    "        trainer.model, scviDataset, indices=np.arange(len(scviDataset))\n",
    "    ).sequential()\n",
    "\n",
    "    latent, _, _ = posterior.get_latent()\n",
    "\n",
    "    return posterior, latent"
   ]
  },
  {
   "cell_type": "code",
   "execution_count": 116,
   "metadata": {
    "pycharm": {}
   },
   "outputs": [
    {
     "name": "stderr",
     "output_type": "stream",
     "text": [
      "[2019-09-15 11:09:37,440] INFO - scvi.dataset.dataset | Remapping labels to [0,N]\n",
      "[2019-09-15 11:09:37,487] INFO - scvi.dataset.dataset | Remapping batch_indices to [0,N]\n",
      "[2019-09-15 11:09:39,123] INFO - scvi.dataset.dataset | Computing the library size for the new data\n",
      "[2019-09-15 11:09:42,595] INFO - scvi.dataset.dataset | Downsampled from 50586 to 50586 cells\n"
     ]
    },
    {
     "name": "stdout",
     "output_type": "stream",
     "text": [
      "training: 100%|██████████| 100/100 [10:51:38<00:00, 390.99s/it] \n"
     ]
    }
   ],
   "source": [
    "n_epochs = 100 if n_epochs_all is None else n_epochs_all\n",
    "\n",
    "scvi_posterior, scvi_latent = compute_scvi_latent(\n",
    "    adata_original, n_epochs=n_epochs, n_latent=6,\n",
    "    use_batches = True\n",
    ")\n",
    "adata.obsm[\"X_scvi\"] = scvi_latent"
   ]
  },
  {
   "cell_type": "code",
   "execution_count": 117,
   "metadata": {},
   "outputs": [
    {
     "name": "stderr",
     "output_type": "stream",
     "text": [
      "... storing 'BA_nM' as categorical\n",
      "... storing 'NovaSeqRun' as categorical\n",
      "... storing 'additional_notes' as categorical\n",
      "... storing 'anatomical_position' as categorical\n",
      "... storing 'barcode' as categorical\n",
      "... storing 'bead_cleanup' as categorical\n",
      "... storing 'cDNA_dilute' as categorical\n",
      "... storing 'cDNA_prep_person' as categorical\n",
      "... storing 'excluded' as categorical\n",
      "... storing 'investigator' as categorical\n",
      "... storing 'lib_prep_date' as categorical\n",
      "... storing 'library_prep' as categorical\n",
      "... storing 'method' as categorical\n",
      "... storing 'plate' as categorical\n",
      "... storing 'primary_sort' as categorical\n",
      "... storing 'replicate' as categorical\n",
      "... storing 'sex' as categorical\n",
      "... storing 'sort_direction' as categorical\n",
      "... storing 'sort_order' as categorical\n",
      "... storing 'subjectid' as categorical\n",
      "... storing 'tissue' as categorical\n",
      "... storing 'well' as categorical\n",
      "... storing 'well_group' as categorical\n",
      "... storing 'provisional_cell_type' as categorical\n"
     ]
    }
   ],
   "source": [
    "adata.write('./sapiens-scVI-facs-droplet-all-genes.h5ad')"
   ]
  },
  {
   "cell_type": "markdown",
   "metadata": {
    "pycharm": {}
   },
   "source": [
    "## Principal component analysis to reproduce ScanPy results and compare them against scVI's\n",
    "\n",
    "Below, we reproduce exactly scanpy's PCA on normalized data."
   ]
  },
  {
   "cell_type": "code",
   "execution_count": 6,
   "metadata": {},
   "outputs": [
    {
     "ename": "AnnDataReadError",
     "evalue": "Above error raised while reading key '/obs/BA_nM' of type <class 'h5py._hl.dataset.Dataset'> from /.",
     "output_type": "error",
     "traceback": [
      "\u001b[0;31m---------------------------------------------------------------------------\u001b[0m",
      "\u001b[0;31mUnboundLocalError\u001b[0m                         Traceback (most recent call last)",
      "\u001b[0;32m~/src/anndata/anndata/readwrite/utils.py\u001b[0m in \u001b[0;36mfunc_wrapper\u001b[0;34m(elem, *args, **kwargs)\u001b[0m\n\u001b[1;32m     82\u001b[0m         \u001b[0;32mtry\u001b[0m\u001b[0;34m:\u001b[0m\u001b[0;34m\u001b[0m\u001b[0;34m\u001b[0m\u001b[0m\n\u001b[0;32m---> 83\u001b[0;31m             \u001b[0;32mreturn\u001b[0m \u001b[0mfunc\u001b[0m\u001b[0;34m(\u001b[0m\u001b[0melem\u001b[0m\u001b[0;34m,\u001b[0m \u001b[0;34m*\u001b[0m\u001b[0margs\u001b[0m\u001b[0;34m,\u001b[0m \u001b[0;34m**\u001b[0m\u001b[0mkwargs\u001b[0m\u001b[0;34m)\u001b[0m\u001b[0;34m\u001b[0m\u001b[0;34m\u001b[0m\u001b[0m\n\u001b[0m\u001b[1;32m     84\u001b[0m         \u001b[0;32mexcept\u001b[0m \u001b[0mException\u001b[0m \u001b[0;32mas\u001b[0m \u001b[0me\u001b[0m\u001b[0;34m:\u001b[0m\u001b[0;34m\u001b[0m\u001b[0;34m\u001b[0m\u001b[0m\n",
      "\u001b[0;32m~/src/anndata/anndata/readwrite/h5ad.py\u001b[0m in \u001b[0;36mread_series\u001b[0;34m(dataset)\u001b[0m\n\u001b[1;32m    374\u001b[0m         return pd.Categorical.from_codes(\n\u001b[0;32m--> 375\u001b[0;31m             \u001b[0mdataset\u001b[0m\u001b[0;34m[\u001b[0m\u001b[0;34m...\u001b[0m\u001b[0;34m]\u001b[0m\u001b[0;34m,\u001b[0m \u001b[0mcategories\u001b[0m\u001b[0;34m,\u001b[0m \u001b[0mordered\u001b[0m\u001b[0;34m=\u001b[0m\u001b[0mordered\u001b[0m\u001b[0;34m\u001b[0m\u001b[0;34m\u001b[0m\u001b[0m\n\u001b[0m\u001b[1;32m    376\u001b[0m         )\n",
      "\u001b[0;31mUnboundLocalError\u001b[0m: local variable 'ordered' referenced before assignment",
      "\nDuring handling of the above exception, another exception occurred:\n",
      "\u001b[0;31mAnnDataReadError\u001b[0m                          Traceback (most recent call last)",
      "\u001b[0;32m<ipython-input-6-d4f48cb8db05>\u001b[0m in \u001b[0;36m<module>\u001b[0;34m\u001b[0m\n\u001b[0;32m----> 1\u001b[0;31m \u001b[0madata\u001b[0m \u001b[0;34m=\u001b[0m \u001b[0msc\u001b[0m\u001b[0;34m.\u001b[0m\u001b[0mread_h5ad\u001b[0m\u001b[0;34m(\u001b[0m\u001b[0;34m'sapiens-scVI-facs-droplet-all-genes.h5ad'\u001b[0m\u001b[0;34m)\u001b[0m\u001b[0;34m\u001b[0m\u001b[0;34m\u001b[0m\u001b[0m\n\u001b[0m\u001b[1;32m      2\u001b[0m \u001b[0madata\u001b[0m\u001b[0;34m\u001b[0m\u001b[0;34m\u001b[0m\u001b[0m\n",
      "\u001b[0;32m~/src/anndata/anndata/readwrite/h5ad.py\u001b[0m in \u001b[0;36mread_h5ad\u001b[0;34m(filename, backed, chunk_size)\u001b[0m\n\u001b[1;32m    298\u001b[0m                 \u001b[0;32mcontinue\u001b[0m\u001b[0;34m\u001b[0m\u001b[0;34m\u001b[0m\u001b[0m\n\u001b[1;32m    299\u001b[0m             \u001b[0;32mif\u001b[0m \u001b[0mk\u001b[0m \u001b[0;32min\u001b[0m \u001b[0;34m{\u001b[0m\u001b[0;34m\"obs\"\u001b[0m\u001b[0;34m,\u001b[0m \u001b[0;34m\"var\"\u001b[0m\u001b[0;34m}\u001b[0m\u001b[0;34m:\u001b[0m\u001b[0;34m\u001b[0m\u001b[0;34m\u001b[0m\u001b[0m\n\u001b[0;32m--> 300\u001b[0;31m                 \u001b[0md\u001b[0m\u001b[0;34m[\u001b[0m\u001b[0mk\u001b[0m\u001b[0;34m]\u001b[0m \u001b[0;34m=\u001b[0m \u001b[0mread_dataframe\u001b[0m\u001b[0;34m(\u001b[0m\u001b[0mf\u001b[0m\u001b[0;34m[\u001b[0m\u001b[0mk\u001b[0m\u001b[0;34m]\u001b[0m\u001b[0;34m)\u001b[0m\u001b[0;34m\u001b[0m\u001b[0;34m\u001b[0m\u001b[0m\n\u001b[0m\u001b[1;32m    301\u001b[0m             \u001b[0;32melse\u001b[0m\u001b[0;34m:\u001b[0m  \u001b[0;31m# Base case\u001b[0m\u001b[0;34m\u001b[0m\u001b[0;34m\u001b[0m\u001b[0m\n\u001b[1;32m    302\u001b[0m                 \u001b[0md\u001b[0m\u001b[0;34m[\u001b[0m\u001b[0mk\u001b[0m\u001b[0;34m]\u001b[0m \u001b[0;34m=\u001b[0m \u001b[0mread_attribute\u001b[0m\u001b[0;34m(\u001b[0m\u001b[0mf\u001b[0m\u001b[0;34m[\u001b[0m\u001b[0mk\u001b[0m\u001b[0;34m]\u001b[0m\u001b[0;34m)\u001b[0m\u001b[0;34m\u001b[0m\u001b[0;34m\u001b[0m\u001b[0m\n",
      "\u001b[0;32m~/src/anndata/anndata/readwrite/utils.py\u001b[0m in \u001b[0;36mfunc_wrapper\u001b[0;34m(elem, *args, **kwargs)\u001b[0m\n\u001b[1;32m     84\u001b[0m         \u001b[0;32mexcept\u001b[0m \u001b[0mException\u001b[0m \u001b[0;32mas\u001b[0m \u001b[0me\u001b[0m\u001b[0;34m:\u001b[0m\u001b[0;34m\u001b[0m\u001b[0;34m\u001b[0m\u001b[0m\n\u001b[1;32m     85\u001b[0m             \u001b[0;32mif\u001b[0m \u001b[0misinstance\u001b[0m\u001b[0;34m(\u001b[0m\u001b[0me\u001b[0m\u001b[0;34m,\u001b[0m \u001b[0mAnnDataReadError\u001b[0m\u001b[0;34m)\u001b[0m\u001b[0;34m:\u001b[0m\u001b[0;34m\u001b[0m\u001b[0;34m\u001b[0m\u001b[0m\n\u001b[0;32m---> 86\u001b[0;31m                 \u001b[0;32mraise\u001b[0m \u001b[0me\u001b[0m\u001b[0;34m\u001b[0m\u001b[0;34m\u001b[0m\u001b[0m\n\u001b[0m\u001b[1;32m     87\u001b[0m             \u001b[0;32melse\u001b[0m\u001b[0;34m:\u001b[0m\u001b[0;34m\u001b[0m\u001b[0;34m\u001b[0m\u001b[0m\n\u001b[1;32m     88\u001b[0m                 \u001b[0;32mtry\u001b[0m\u001b[0;34m:\u001b[0m\u001b[0;34m\u001b[0m\u001b[0;34m\u001b[0m\u001b[0m\n",
      "\u001b[0;32m~/src/anndata/anndata/readwrite/utils.py\u001b[0m in \u001b[0;36mfunc_wrapper\u001b[0;34m(elem, *args, **kwargs)\u001b[0m\n\u001b[1;32m     81\u001b[0m     \u001b[0;32mdef\u001b[0m \u001b[0mfunc_wrapper\u001b[0m\u001b[0;34m(\u001b[0m\u001b[0melem\u001b[0m\u001b[0;34m,\u001b[0m \u001b[0;34m*\u001b[0m\u001b[0margs\u001b[0m\u001b[0;34m,\u001b[0m \u001b[0;34m**\u001b[0m\u001b[0mkwargs\u001b[0m\u001b[0;34m)\u001b[0m\u001b[0;34m:\u001b[0m\u001b[0;34m\u001b[0m\u001b[0;34m\u001b[0m\u001b[0m\n\u001b[1;32m     82\u001b[0m         \u001b[0;32mtry\u001b[0m\u001b[0;34m:\u001b[0m\u001b[0;34m\u001b[0m\u001b[0;34m\u001b[0m\u001b[0m\n\u001b[0;32m---> 83\u001b[0;31m             \u001b[0;32mreturn\u001b[0m \u001b[0mfunc\u001b[0m\u001b[0;34m(\u001b[0m\u001b[0melem\u001b[0m\u001b[0;34m,\u001b[0m \u001b[0;34m*\u001b[0m\u001b[0margs\u001b[0m\u001b[0;34m,\u001b[0m \u001b[0;34m**\u001b[0m\u001b[0mkwargs\u001b[0m\u001b[0;34m)\u001b[0m\u001b[0;34m\u001b[0m\u001b[0;34m\u001b[0m\u001b[0m\n\u001b[0m\u001b[1;32m     84\u001b[0m         \u001b[0;32mexcept\u001b[0m \u001b[0mException\u001b[0m \u001b[0;32mas\u001b[0m \u001b[0me\u001b[0m\u001b[0;34m:\u001b[0m\u001b[0;34m\u001b[0m\u001b[0;34m\u001b[0m\u001b[0m\n\u001b[1;32m     85\u001b[0m             \u001b[0;32mif\u001b[0m \u001b[0misinstance\u001b[0m\u001b[0;34m(\u001b[0m\u001b[0me\u001b[0m\u001b[0;34m,\u001b[0m \u001b[0mAnnDataReadError\u001b[0m\u001b[0;34m)\u001b[0m\u001b[0;34m:\u001b[0m\u001b[0;34m\u001b[0m\u001b[0;34m\u001b[0m\u001b[0m\n",
      "\u001b[0;32m~/src/anndata/anndata/readwrite/h5ad.py\u001b[0m in \u001b[0;36mread_dataframe\u001b[0;34m(group)\u001b[0m\n\u001b[1;32m    346\u001b[0m     \u001b[0midx_key\u001b[0m \u001b[0;34m=\u001b[0m \u001b[0mgroup\u001b[0m\u001b[0;34m.\u001b[0m\u001b[0mattrs\u001b[0m\u001b[0;34m[\u001b[0m\u001b[0;34m\"_index\"\u001b[0m\u001b[0;34m]\u001b[0m\u001b[0;34m\u001b[0m\u001b[0;34m\u001b[0m\u001b[0m\n\u001b[1;32m    347\u001b[0m     df = pd.DataFrame(\n\u001b[0;32m--> 348\u001b[0;31m         \u001b[0;34m{\u001b[0m\u001b[0mk\u001b[0m\u001b[0;34m:\u001b[0m \u001b[0mread_series\u001b[0m\u001b[0;34m(\u001b[0m\u001b[0mgroup\u001b[0m\u001b[0;34m[\u001b[0m\u001b[0mk\u001b[0m\u001b[0;34m]\u001b[0m\u001b[0;34m)\u001b[0m \u001b[0;32mfor\u001b[0m \u001b[0mk\u001b[0m \u001b[0;32min\u001b[0m \u001b[0mcolumns\u001b[0m\u001b[0;34m}\u001b[0m\u001b[0;34m,\u001b[0m\u001b[0;34m\u001b[0m\u001b[0;34m\u001b[0m\u001b[0m\n\u001b[0m\u001b[1;32m    349\u001b[0m         \u001b[0mindex\u001b[0m\u001b[0;34m=\u001b[0m\u001b[0mread_series\u001b[0m\u001b[0;34m(\u001b[0m\u001b[0mgroup\u001b[0m\u001b[0;34m[\u001b[0m\u001b[0midx_key\u001b[0m\u001b[0;34m]\u001b[0m\u001b[0;34m)\u001b[0m\u001b[0;34m,\u001b[0m\u001b[0;34m\u001b[0m\u001b[0;34m\u001b[0m\u001b[0m\n\u001b[1;32m    350\u001b[0m         \u001b[0mcolumns\u001b[0m\u001b[0;34m=\u001b[0m\u001b[0mlist\u001b[0m\u001b[0;34m(\u001b[0m\u001b[0mcolumns\u001b[0m\u001b[0;34m)\u001b[0m\u001b[0;34m,\u001b[0m\u001b[0;34m\u001b[0m\u001b[0;34m\u001b[0m\u001b[0m\n",
      "\u001b[0;32m~/src/anndata/anndata/readwrite/h5ad.py\u001b[0m in \u001b[0;36m<dictcomp>\u001b[0;34m(.0)\u001b[0m\n\u001b[1;32m    346\u001b[0m     \u001b[0midx_key\u001b[0m \u001b[0;34m=\u001b[0m \u001b[0mgroup\u001b[0m\u001b[0;34m.\u001b[0m\u001b[0mattrs\u001b[0m\u001b[0;34m[\u001b[0m\u001b[0;34m\"_index\"\u001b[0m\u001b[0;34m]\u001b[0m\u001b[0;34m\u001b[0m\u001b[0;34m\u001b[0m\u001b[0m\n\u001b[1;32m    347\u001b[0m     df = pd.DataFrame(\n\u001b[0;32m--> 348\u001b[0;31m         \u001b[0;34m{\u001b[0m\u001b[0mk\u001b[0m\u001b[0;34m:\u001b[0m \u001b[0mread_series\u001b[0m\u001b[0;34m(\u001b[0m\u001b[0mgroup\u001b[0m\u001b[0;34m[\u001b[0m\u001b[0mk\u001b[0m\u001b[0;34m]\u001b[0m\u001b[0;34m)\u001b[0m \u001b[0;32mfor\u001b[0m \u001b[0mk\u001b[0m \u001b[0;32min\u001b[0m \u001b[0mcolumns\u001b[0m\u001b[0;34m}\u001b[0m\u001b[0;34m,\u001b[0m\u001b[0;34m\u001b[0m\u001b[0;34m\u001b[0m\u001b[0m\n\u001b[0m\u001b[1;32m    349\u001b[0m         \u001b[0mindex\u001b[0m\u001b[0;34m=\u001b[0m\u001b[0mread_series\u001b[0m\u001b[0;34m(\u001b[0m\u001b[0mgroup\u001b[0m\u001b[0;34m[\u001b[0m\u001b[0midx_key\u001b[0m\u001b[0;34m]\u001b[0m\u001b[0;34m)\u001b[0m\u001b[0;34m,\u001b[0m\u001b[0;34m\u001b[0m\u001b[0;34m\u001b[0m\u001b[0m\n\u001b[1;32m    350\u001b[0m         \u001b[0mcolumns\u001b[0m\u001b[0;34m=\u001b[0m\u001b[0mlist\u001b[0m\u001b[0;34m(\u001b[0m\u001b[0mcolumns\u001b[0m\u001b[0;34m)\u001b[0m\u001b[0;34m,\u001b[0m\u001b[0;34m\u001b[0m\u001b[0;34m\u001b[0m\u001b[0m\n",
      "\u001b[0;32m~/src/anndata/anndata/readwrite/utils.py\u001b[0m in \u001b[0;36mfunc_wrapper\u001b[0;34m(elem, *args, **kwargs)\u001b[0m\n\u001b[1;32m     98\u001b[0m                     \u001b[0mparent\u001b[0m \u001b[0;34m=\u001b[0m \u001b[0melem\u001b[0m\u001b[0;34m.\u001b[0m\u001b[0mfile\u001b[0m\u001b[0;34m.\u001b[0m\u001b[0mname\u001b[0m\u001b[0;34m\u001b[0m\u001b[0;34m\u001b[0m\u001b[0m\n\u001b[1;32m     99\u001b[0m                 raise AnnDataReadError(\n\u001b[0;32m--> 100\u001b[0;31m                     \u001b[0;34mf\"Above error raised while reading key '{elem.name}' of type {type(elem)} from {parent}.\"\u001b[0m\u001b[0;34m\u001b[0m\u001b[0;34m\u001b[0m\u001b[0m\n\u001b[0m\u001b[1;32m    101\u001b[0m                 )\n\u001b[1;32m    102\u001b[0m \u001b[0;34m\u001b[0m\u001b[0m\n",
      "\u001b[0;31mAnnDataReadError\u001b[0m: Above error raised while reading key '/obs/BA_nM' of type <class 'h5py._hl.dataset.Dataset'> from /."
     ]
    }
   ],
   "source": [
    "adata = sc.read_h5ad('sapiens-scVI-facs-droplet-all-genes.h5ad')\n",
    "adata"
   ]
  },
  {
   "cell_type": "code",
   "execution_count": 118,
   "metadata": {
    "pycharm": {}
   },
   "outputs": [
    {
     "name": "stdout",
     "output_type": "stream",
     "text": [
      "computing PCA with n_comps = 50\n",
      "computing PCA on highly variable genes\n",
      "    finished (0:02:00)\n"
     ]
    }
   ],
   "source": [
    "sc.tl.pca(adata, svd_solver=\"arpack\")"
   ]
  },
  {
   "cell_type": "code",
   "execution_count": 119,
   "metadata": {},
   "outputs": [
    {
     "data": {
      "text/plain": [
       "AnnData object with n_obs × n_vars = 50586 × 24820 \n",
       "    obs: 'BA_nM', 'NovaSeqRun', 'additional_notes', 'anatomical_position', 'barcode', 'batch', 'bead_cleanup', 'cDNA_dilute', 'cDNA_prep_person', 'excluded', 'investigator', 'lib_prep_date', 'library_prep', 'method', 'plate', 'primary_sort', 'replicate', 'sex', 'sort_direction', 'sort_order', 'subjectid', 'tissue', 'well', 'well_group', 'batch_indices', 'n_batches', 'provisional_cell_type', 'n_genes', 'n_counts'\n",
       "    var: 'n_cells', 'highly_variable', 'means', 'dispersions', 'dispersions_norm'\n",
       "    uns: 'pca'\n",
       "    obsm: 'X_scvi', 'X_pca'\n",
       "    varm: 'PCs'"
      ]
     },
     "execution_count": 119,
     "metadata": {},
     "output_type": "execute_result"
    }
   ],
   "source": [
    "adata"
   ]
  },
  {
   "cell_type": "code",
   "execution_count": 120,
   "metadata": {
    "pycharm": {}
   },
   "outputs": [
    {
     "name": "stderr",
     "output_type": "stream",
     "text": [
      "/Library/Frameworks/Python.framework/Versions/3.7/lib/python3.7/site-packages/matplotlib/figure.py:445: UserWarning: Matplotlib is currently using agg, which is a non-GUI backend, so cannot show the figure.\n",
      "  % get_backend())\n"
     ]
    },
    {
     "data": {
      "image/png": "[encoded data removed]",
      "text/plain": [
       "<Figure size 432x288 with 1 Axes>"
      ]
     },
     "metadata": {},
     "output_type": "display_data"
    }
   ],
   "source": [
    "sc.pl.pca(adata, color='tissue')#, show=show_plot)"
   ]
  },
  {
   "cell_type": "code",
   "execution_count": 121,
   "metadata": {
    "pycharm": {}
   },
   "outputs": [
    {
     "data": {
      "image/png": "[encoded data removed]",
      "text/plain": [
       "<Figure size 432x288 with 1 Axes>"
      ]
     },
     "metadata": {
      "needs_background": "light"
     },
     "output_type": "display_data"
    }
   ],
   "source": [
    "sc.pl.pca_variance_ratio(adata, log=True)#, show=show_plot)"
   ]
  },
  {
   "cell_type": "markdown",
   "metadata": {
    "pycharm": {}
   },
   "source": [
    "## Computing, embedding and clustering the neighborhood graph"
   ]
  },
  {
   "cell_type": "markdown",
   "metadata": {
    "pycharm": {}
   },
   "source": [
    "The Scanpy API computes a neighborhood graph with `sc.pp.neighbors` which can be called to work on a specific representation `use_rep='your rep'`.\n",
    "Once the neighbors graph has been computed, all Scanpy algorithms working on it can be called as usual (that is *louvain*, *paga*, *umap* ...)"
   ]
  },
  {
   "cell_type": "markdown",
   "metadata": {
    "pycharm": {}
   },
   "source": [
    "### Using PCA representation (Scanpy tutorial)"
   ]
  },
  {
   "cell_type": "code",
   "execution_count": 122,
   "metadata": {
    "pycharm": {}
   },
   "outputs": [
    {
     "name": "stdout",
     "output_type": "stream",
     "text": [
      "computing neighbors\n",
      "    using 'X_pca' with n_pcs = 40\n"
     ]
    },
    {
     "name": "stderr",
     "output_type": "stream",
     "text": [
      "/Library/Frameworks/Python.framework/Versions/3.7/lib/python3.7/site-packages/numba/compiler.py:602: NumbaPerformanceWarning: \n",
      "The keyword argument 'parallel=True' was specified but no transformation for parallel execution was possible.\n",
      "\n",
      "To find out why, try turning on parallel diagnostics, see http://numba.pydata.org/numba-doc/latest/user/parallel.html#diagnostics for help.\n",
      "\n",
      "File \"../../../../Library/Frameworks/Python.framework/Versions/3.7/lib/python3.7/site-packages/umap/rp_tree.py\", line 135:\n",
      "@numba.njit(fastmath=True, nogil=True, parallel=True)\n",
      "def euclidean_random_projection_split(data, indices, rng_state):\n",
      "^\n",
      "\n",
      "  self.func_ir.loc))\n",
      "/Library/Frameworks/Python.framework/Versions/3.7/lib/python3.7/site-packages/umap/nndescent.py:92: NumbaPerformanceWarning: \n",
      "The keyword argument 'parallel=True' was specified but no transformation for parallel execution was possible.\n",
      "\n",
      "To find out why, try turning on parallel diagnostics, see http://numba.pydata.org/numba-doc/latest/user/parallel.html#diagnostics for help.\n",
      "\n",
      "File \"../../../../Library/Frameworks/Python.framework/Versions/3.7/lib/python3.7/site-packages/umap/utils.py\", line 409:\n",
      "@numba.njit(parallel=True)\n",
      "def build_candidates(current_graph, n_vertices, n_neighbors, max_candidates, rng_state):\n",
      "^\n",
      "\n",
      "  current_graph, n_vertices, n_neighbors, max_candidates, rng_state\n",
      "/Library/Frameworks/Python.framework/Versions/3.7/lib/python3.7/site-packages/numba/compiler.py:602: NumbaPerformanceWarning: \n",
      "The keyword argument 'parallel=True' was specified but no transformation for parallel execution was possible.\n",
      "\n",
      "To find out why, try turning on parallel diagnostics, see http://numba.pydata.org/numba-doc/latest/user/parallel.html#diagnostics for help.\n",
      "\n",
      "File \"../../../../Library/Frameworks/Python.framework/Versions/3.7/lib/python3.7/site-packages/umap/nndescent.py\", line 47:\n",
      "    @numba.njit(parallel=True)\n",
      "    def nn_descent(\n",
      "    ^\n",
      "\n",
      "  self.func_ir.loc))\n"
     ]
    },
    {
     "name": "stdout",
     "output_type": "stream",
     "text": [
      "    finished (0:00:24)\n",
      "running Louvain clustering\n",
      "    using the \"louvain\" package of Traag (2017)\n",
      "    finished (0:00:12)\n",
      "computing UMAP\n",
      "    finished (0:00:42)\n"
     ]
    }
   ],
   "source": [
    "sc.pp.neighbors(adata, n_neighbors=10, n_pcs=40)\n",
    "sc.tl.louvain(adata, key_added=\"louvain_pca\")\n",
    "sc.tl.umap(adata)"
   ]
  },
  {
   "cell_type": "code",
   "execution_count": null,
   "metadata": {
    "pycharm": {}
   },
   "outputs": [],
   "source": [
    "sc.pl.umap(adata, color=[\"louvain_pca\", \"tissue\", 'method','batch',\"EPCAM\", \"CD36\"], ncols=3, cmap='Oranges', save='_sapiens_combined2.pdf')"
   ]
  },
  {
   "cell_type": "markdown",
   "metadata": {
    "pycharm": {}
   },
   "source": [
    "### Using scVI latent space representation"
   ]
  },
  {
   "cell_type": "code",
   "execution_count": 123,
   "metadata": {
    "pycharm": {}
   },
   "outputs": [
    {
     "name": "stdout",
     "output_type": "stream",
     "text": [
      "computing neighbors\n"
     ]
    },
    {
     "name": "stderr",
     "output_type": "stream",
     "text": [
      "/Library/Frameworks/Python.framework/Versions/3.7/lib/python3.7/site-packages/numba/compiler.py:602: NumbaPerformanceWarning: \n",
      "The keyword argument 'parallel=True' was specified but no transformation for parallel execution was possible.\n",
      "\n",
      "To find out why, try turning on parallel diagnostics, see http://numba.pydata.org/numba-doc/latest/user/parallel.html#diagnostics for help.\n",
      "\n",
      "File \"../../../../Library/Frameworks/Python.framework/Versions/3.7/lib/python3.7/site-packages/umap/rp_tree.py\", line 135:\n",
      "@numba.njit(fastmath=True, nogil=True, parallel=True)\n",
      "def euclidean_random_projection_split(data, indices, rng_state):\n",
      "^\n",
      "\n",
      "  self.func_ir.loc))\n",
      "/Library/Frameworks/Python.framework/Versions/3.7/lib/python3.7/site-packages/numba/compiler.py:602: NumbaPerformanceWarning: \n",
      "The keyword argument 'parallel=True' was specified but no transformation for parallel execution was possible.\n",
      "\n",
      "To find out why, try turning on parallel diagnostics, see http://numba.pydata.org/numba-doc/latest/user/parallel.html#diagnostics for help.\n",
      "\n",
      "File \"../../../../Library/Frameworks/Python.framework/Versions/3.7/lib/python3.7/site-packages/umap/nndescent.py\", line 47:\n",
      "    @numba.njit(parallel=True)\n",
      "    def nn_descent(\n",
      "    ^\n",
      "\n",
      "  self.func_ir.loc))\n"
     ]
    },
    {
     "name": "stdout",
     "output_type": "stream",
     "text": [
      "    finished (0:00:11)\n",
      "computing UMAP\n",
      "    finished (0:00:46)\n"
     ]
    }
   ],
   "source": [
    "sc.pp.neighbors(adata, n_neighbors=20, n_pcs=40, use_rep=\"X_scvi\")\n",
    "sc.tl.umap(adata)"
   ]
  },
  {
   "cell_type": "code",
   "execution_count": 124,
   "metadata": {
    "pycharm": {}
   },
   "outputs": [
    {
     "name": "stdout",
     "output_type": "stream",
     "text": [
      "running Louvain clustering\n",
      "    using the \"louvain\" package of Traag (2017)\n",
      "    finished (0:00:12)\n"
     ]
    }
   ],
   "source": [
    "sc.tl.louvain(adata, key_added=\"louvain_scvi\", resolution=0.7)"
   ]
  },
  {
   "cell_type": "code",
   "execution_count": null,
   "metadata": {
    "pycharm": {}
   },
   "outputs": [],
   "source": [
    "sc.pl.umap(adata, color=[\"louvain_scvi\", \"tissue\",'method','batch','EPCAM','CD36'], ncols=3, save='_sapiens_combined_scvi2.pdf')"
   ]
  },
  {
   "cell_type": "code",
   "execution_count": null,
   "metadata": {},
   "outputs": [],
   "source": [
    "sc.pl.umap(adata[adata.obs['tissue'].isin(['Bladder','bladder'])], color=[\"louvain_scvi\", \"tissue\",'method'], ncols=3)\n",
    "sc.pl.umap(adata[adata.obs['tissue'].isin(['Muscle','muscle'])], color=[\"louvain_scvi\", \"tissue\",'method'], ncols=3)\n"
   ]
  },
  {
   "cell_type": "code",
   "execution_count": null,
   "metadata": {},
   "outputs": [],
   "source": [
    "adata"
   ]
  },
  {
   "cell_type": "code",
   "execution_count": 125,
   "metadata": {},
   "outputs": [],
   "source": [
    "adata.write('./sapiens-scVI-facs-droplet-processed-all-genes.h5ad')"
   ]
  },
  {
   "cell_type": "code",
   "execution_count": 4,
   "metadata": {},
   "outputs": [
    {
     "data": {
      "text/plain": [
       "'/Users/angela.pisco/src/sapiens/tabula-sapiens/analysis-scripts'"
      ]
     },
     "execution_count": 4,
     "metadata": {},
     "output_type": "execute_result"
    }
   ],
   "source": [
    "pwd"
   ]
  },
  {
   "cell_type": "code",
   "execution_count": 5,
   "metadata": {},
   "outputs": [
    {
     "data": {
      "text/plain": [
       "AnnData object with n_obs × n_vars = 57883 × 2485 \n",
       "    obs: 'BA_nM', 'NovaSeqRun', 'additional_notes', 'anatomical_position', 'barcode', 'batch', 'bead_cleanup', 'cDNA_dilute', 'cDNA_prep_person', 'excluded', 'investigator', 'lib_prep_date', 'library_prep', 'method', 'plate', 'primary_sort', 'replicate', 'sex', 'sort_direction', 'sort_order', 'subjectid', 'tissue', 'well', 'well_group', 'batch_indices', 'n_batches', 'n_genes', 'n_counts', 'louvain_pca', 'louvain_scvi'\n",
       "    var: 'n_cells', 'highly_variable', 'means', 'dispersions', 'dispersions_norm'\n",
       "    uns: 'batch_colors', 'louvain', 'louvain_pca_colors', 'louvain_scvi_colors', 'method_colors', 'neighbors', 'pca', 'tissue_colors'\n",
       "    obsm: 'X_pca', 'X_scvi', 'X_umap'\n",
       "    varm: 'PCs'"
      ]
     },
     "execution_count": 5,
     "metadata": {},
     "output_type": "execute_result"
    }
   ],
   "source": [
    "adata = sc.read_h5ad('../../sapiens-scVI-facs-droplet-processed.h5ad')\n",
    "adata"
   ]
  },
  {
   "cell_type": "markdown",
   "metadata": {},
   "source": [
    "# Get initial stats + annotations"
   ]
  },
  {
   "cell_type": "code",
   "execution_count": null,
   "metadata": {},
   "outputs": [],
   "source": [
    "adata = sc.read_h5ad('./sapiens-scVI-facs-droplet-processed.h5ad')"
   ]
  },
  {
   "cell_type": "code",
   "execution_count": null,
   "metadata": {},
   "outputs": [],
   "source": [
    "adata"
   ]
  },
  {
   "cell_type": "code",
   "execution_count": null,
   "metadata": {},
   "outputs": [],
   "source": [
    "set(adata.obs['tissue'])"
   ]
  },
  {
   "cell_type": "code",
   "execution_count": null,
   "metadata": {},
   "outputs": [],
   "source": [
    "adata.obs['tissue'] = adata.obs['tissue'].str.lower()\n",
    "set(adata.obs['tissue'])"
   ]
  },
  {
   "cell_type": "code",
   "execution_count": null,
   "metadata": {},
   "outputs": [],
   "source": [
    "adata.obs['tissue'] = adata.obs['tissue'].replace({'endopancreas':'pancreasendocrine'})\n",
    "adata.obs['tissue'] = adata.obs['tissue'].replace({'exopancreas1':'pancreasexocrine1'})\n",
    "adata.obs['tissue'] = adata.obs['tissue'].replace({'exopancreas2':'pancreasexocrine2'})\n",
    "set(adata.obs['tissue'])"
   ]
  },
  {
   "cell_type": "code",
   "execution_count": null,
   "metadata": {},
   "outputs": [],
   "source": [
    "import seaborn as sns\n",
    "import matplotlib.pyplot as plt"
   ]
  },
  {
   "cell_type": "code",
   "execution_count": null,
   "metadata": {},
   "outputs": [],
   "source": [
    "df = adata.obs.groupby(['tissue','method'])['tissue'].agg({'nb cells':len})\n",
    "df = df.reset_index()\n",
    "df['nb cells'] = df['nb cells'].fillna(0)\n",
    "# df\n",
    "\n",
    "figure, axes = plt.subplots(1, 2, figsize=(20, 7))\n",
    "sns.barplot(x = 'nb cells', y= 'tissue', data=df[df['method']=='facs'], ax = axes[0])\n",
    "sns.barplot(x = 'nb cells', y= 'tissue', data=df[df['method']=='droplet'], ax = axes[1])\n",
    "\n",
    "# g.set_xscale(\"log\")\n",
    "# g.legend(loc='center left', bbox_to_anchor=(1.25, 0.5), ncol=1)\n",
    "\n",
    "\n",
    "plt.tight_layout()"
   ]
  },
  {
   "cell_type": "code",
   "execution_count": null,
   "metadata": {},
   "outputs": [],
   "source": [
    "adata.obs.columns"
   ]
  },
  {
   "cell_type": "code",
   "execution_count": null,
   "metadata": {},
   "outputs": [],
   "source": [
    "pwd"
   ]
  },
  {
   "cell_type": "code",
   "execution_count": null,
   "metadata": {},
   "outputs": [],
   "source": [
    "tiss = sc.read_h5ad('./data-objs/Bladder_facs_annotation_round_1.h5ad')\n",
    "display(tiss)\n",
    "tiss.obs.columns"
   ]
  },
  {
   "cell_type": "code",
   "execution_count": null,
   "metadata": {},
   "outputs": [],
   "source": [
    "set(adata.obs['tissue'])"
   ]
  },
  {
   "cell_type": "code",
   "execution_count": null,
   "metadata": {},
   "outputs": [],
   "source": [
    "tiss.obs.index"
   ]
  },
  {
   "cell_type": "code",
   "execution_count": null,
   "metadata": {},
   "outputs": [],
   "source": [
    "adata.obs.index = [i[:-2] for i in adata.obs.index]\n",
    "adata.obs.index"
   ]
  },
  {
   "cell_type": "code",
   "execution_count": null,
   "metadata": {},
   "outputs": [],
   "source": [
    "adata.obs['provisional_cell_type'] = 'to-be-annotated'\n",
    "adata.obs['provisional_cell_type'] = adata.obs['provisional_cell_type'].astype(str)\n",
    "\n",
    "for t in ['Bladder','Pancreas_endocrine','Pancreas_exocrine']:#list(set(adata.obs['tissue'])-set(['Lung','Marrow'])): # 2 tissues missing!\n",
    "    print(t)\n",
    "    tiss = sc.read_h5ad('./data-objs/' + t + '_facs_annotation_round_1.h5ad')\n",
    "    sc.pl.umap(tiss,color=['cell_ontology_class'])\n",
    "    \n",
    "    adata.obs.loc[tiss.obs.index,'provisional_cell_type'] = tiss.obs['cell_ontology_class']\n",
    "\n",
    "#adata.obs = adata.obs.replace({'18m-not-annotated':'nan'})"
   ]
  },
  {
   "cell_type": "code",
   "execution_count": null,
   "metadata": {},
   "outputs": [],
   "source": [
    "sc.pl.umap(adata,color='provisional_cell_type')"
   ]
  },
  {
   "cell_type": "code",
   "execution_count": null,
   "metadata": {},
   "outputs": [],
   "source": [
    "adata.obs.columns\n"
   ]
  },
  {
   "cell_type": "code",
   "execution_count": null,
   "metadata": {},
   "outputs": [],
   "source": [
    "adata.obs.groupby(['tissue','method','provisional_cell_type']).agg({'provisional_cell_type':'size'})"
   ]
  },
  {
   "cell_type": "code",
   "execution_count": null,
   "metadata": {},
   "outputs": [],
   "source": [
    "sc.pl.umap(adata[adata.obs['tissue'].isin(['bladder'])], color=[\"louvain_scvi\", 'method','provisional_cell_type'], ncols=3)\n",
    "sc.pl.umap(adata[adata.obs['tissue'].isin(['pancreasendocrine'])], color=[\"louvain_scvi\",'provisional_cell_type'], ncols=3)\n"
   ]
  },
  {
   "cell_type": "code",
   "execution_count": null,
   "metadata": {},
   "outputs": [],
   "source": []
  },
  {
   "cell_type": "code",
   "execution_count": null,
   "metadata": {},
   "outputs": [],
   "source": [
    "tiss"
   ]
  },
  {
   "cell_type": "code",
   "execution_count": null,
   "metadata": {},
   "outputs": [],
   "source": [
    "tiss"
   ]
  },
  {
   "cell_type": "code",
   "execution_count": null,
   "metadata": {},
   "outputs": [],
   "source": [
    "tiss = adata[adata.obs['tissue']==t]"
   ]
  },
  {
   "cell_type": "code",
   "execution_count": null,
   "metadata": {},
   "outputs": [],
   "source": [
    "np.max(tiss.X)"
   ]
  },
  {
   "cell_type": "code",
   "execution_count": null,
   "metadata": {},
   "outputs": [],
   "source": [
    "for t in ['bladder']:#,'Pancreas_endocrine','Pancreas_exocrine']:#list(set(adata.obs['tissue'])-set(['Lung','Marrow'])): # 2 tissues missing!\n",
    "    print(t)\n",
    "    print('comparing to annotated data')\n",
    "    methodofinterest = ['facs']\n",
    "    \n",
    "    tiss = adata[adata.obs['tissue']==t]\n",
    "    sc.pp.normalize_per_cell(tiss, counts_per_cell_after=1e4) #simple lib size normalization?\n",
    "#     sc.pp.highly_variable_genes(tiss, subset = False, min_disp=.5, max_disp=None, min_mean=.0125, max_mean=10, n_bins=20, n_top_genes=None)\n",
    "#     sc.pp.log1p(tiss)\n",
    "#     sc.pp.scale(tiss, max_value=10, zero_center=False)\n",
    "#     sc.tl.pca(tiss)\n",
    "#     sc.pl.pca_overview(tiss)\n",
    "    sc.pp.neighbors(tiss, n_neighbors=12, n_pcs=30)\n",
    "    sc.tl.louvain(tiss, resolution = .7)\n",
    "    sc.tl.leiden(tiss, resolution = 1)\n",
    "    \n",
    "    tissaux = tiss[tiss.obs['method'].isin(methodofinterest)]\n",
    "    \n",
    "#     print(tissaux)\n",
    "    tiss_cell_ontology_class = {}\n",
    "    for i in set(tissaux.obs['leiden']):\n",
    "        df = tissaux.obs[tissaux.obs['leiden']==i]['provisional_cell_type']\n",
    "        df.reset_index()\n",
    "        df = df.reset_index()\n",
    "        dfaux = df.groupby('provisional_cell_type').count()/df.groupby('provisional_cell_type').count().sum()\n",
    "        dfaux.reset_index()\n",
    "        dfaux = dfaux.reset_index()\n",
    "        a = dfaux[dfaux['index']>0.95][['provisional_cell_type']]\n",
    "        if a.empty:\n",
    "            tiss_cell_ontology_class[i] = 'tbc'\n",
    "        else:\n",
    "            tiss_cell_ontology_class[i] = a.values[0][0]\n",
    "\n",
    "    tiss_cell_ontology_class\n",
    "    print(set(tiss_cell_ontology_class.values()))\n",
    "    print(set(tissaux.obs['provisional_cell_type']))\n",
    "\n",
    "    print('mapping new annotations')\n",
    "    tiss.obs['auto_provisional_cell_type'] = tiss.obs['leiden'].map(tiss_cell_ontology_class)\n",
    "    set(tiss.obs['auto_provisional_cell_type'])\n",
    "    print('saving graphical outputs')\n",
    "    sc.pl.umap(tiss, color=['leiden','provisional_cell_type','auto_provisional_cell_type'],ncols=2)"
   ]
  },
  {
   "cell_type": "code",
   "execution_count": null,
   "metadata": {},
   "outputs": [],
   "source": [
    "set(adata.obs['provisional_cell_type'])"
   ]
  },
  {
   "cell_type": "code",
   "execution_count": null,
   "metadata": {},
   "outputs": [],
   "source": [
    "adata.write('./sapiens-scVI-facs-droplet-processed-annotated-round1.h5ad')"
   ]
  },
  {
   "cell_type": "markdown",
   "metadata": {
    "pycharm": {}
   },
   "source": [
    "## Finding marker genes"
   ]
  },
  {
   "cell_type": "markdown",
   "metadata": {
    "pycharm": {}
   },
   "source": [
    "ScanPy tries to determine marker genes using a *t-test* and a *Wilcoxon* test.\n",
    "\n",
    "For the same task, from scVI's trained VAE model we can sample the gene expression rate for each gene in each cell. For the two populations of interest, we can then randomly sample pairs of cells, one from each population to compare their expression rate for a gene. The degree of **differential expression** is measured by logit($\\frac{p}{1-p}$) (Bayes Factor) where $p$ is the probability of a cell from population $A$ having a higher expression than a cell from population $B$. We can form the null distribution of the DE values by sampling pairs randomly from the combined population.\n",
    "\n",
    "Below, we provide a wrapper around scVI's differential expression process. Specifically, it computes the average of the Bayes factor where population $A$ covers each cluster in `adata.obs[label_name]` and is compared with the aggregate formed by all the other clusters."
   ]
  },
  {
   "cell_type": "code",
   "execution_count": null,
   "metadata": {
    "hideOutput": true,
    "pycharm": {}
   },
   "outputs": [],
   "source": [
    "def rank_genes_groups_bayes(\n",
    "    adata: sc.AnnData,\n",
    "    scvi_posterior: scvi.inference.Posterior,\n",
    "    n_samples: int = None,\n",
    "    M_permutation: int = None,\n",
    "    n_genes: int = 25,\n",
    "    label_name: str = \"louvain_scvi\",\n",
    ") -> pd.DataFrame:\n",
    "    \"\"\"\n",
    "    Rank genes for characterizing groups. \n",
    "    Computes Bayes factor for each cluster against the others to test for differential expression.\n",
    "    See Nature article (https://rdcu.be/bdHYQ)\n",
    "\n",
    "    :param adata: sc.AnnData object non-normalized\n",
    "    :param scvi_posterior: \n",
    "    :param n_samples: \n",
    "    :param M_permutation: \n",
    "    :param n_genes: \n",
    "    :param label_name: The groups tested are taken from adata.obs[label_name] which can be computed \n",
    "                       using clustering like Louvain (Ex: sc.tl.louvain(adata, key_added=label_name) )\n",
    "    :return: Summary of Bayes factor per gene, per cluster\n",
    "    \"\"\"\n",
    "\n",
    "    # Call scvi function\n",
    "    per_cluster_de, cluster_id = scvi_posterior.one_vs_all_degenes(\n",
    "        cell_labels=np.asarray(adata.obs[label_name].values).astype(int).ravel(),\n",
    "        min_cells=1,\n",
    "        n_samples=n_samples,\n",
    "        M_permutation=M_permutation,\n",
    "    )\n",
    "\n",
    "    # convert to ScanPy format -- this is just about feeding scvi results into a format readable by ScanPy\n",
    "    markers = []\n",
    "    scores = []\n",
    "    names = []\n",
    "    for i, x in enumerate(per_cluster_de):\n",
    "        subset_de = x[:n_genes]\n",
    "        markers.append(subset_de)\n",
    "        scores.append(tuple(subset_de[\"bayes1\"].values))\n",
    "        names.append(tuple(subset_de.index.values))\n",
    "\n",
    "    markers = pd.concat(markers)\n",
    "    dtypes_scores = [(str(i), \"<f4\") for i in range(len(scores))]\n",
    "    dtypes_names = [(str(i), \"<U50\") for i in range(len(names))]\n",
    "    scores = np.array([tuple(row) for row in np.array(scores).T], dtype=dtypes_scores)\n",
    "    scores = scores.view(np.recarray)\n",
    "    names = np.array([tuple(row) for row in np.array(names).T], dtype=dtypes_names)\n",
    "    names = names.view(np.recarray)\n",
    "\n",
    "    adata.uns[\"rank_genes_groups_scvi\"] = {\n",
    "        \"params\": {\n",
    "            \"groupby\": \"\",\n",
    "            \"reference\": \"rest\",\n",
    "            \"method\": \"\",\n",
    "            \"use_raw\": True,\n",
    "            \"corr_method\": \"\",\n",
    "        },\n",
    "        \"scores\": scores,\n",
    "        \"names\": names,\n",
    "    }\n",
    "    return markers"
   ]
  },
  {
   "cell_type": "markdown",
   "metadata": {
    "pycharm": {}
   },
   "source": [
    "### Use a t-test on scvi_clusters like in the ScanPy tutorial"
   ]
  },
  {
   "cell_type": "code",
   "execution_count": null,
   "metadata": {
    "pycharm": {}
   },
   "outputs": [],
   "source": [
    "n_genes = 20\n",
    "sc.tl.rank_genes_groups(\n",
    "    adata,\n",
    "    \"louvain_scvi\",\n",
    "    method=\"t-test\",\n",
    "    use_raw=False,\n",
    "    key_added=\"rank_genes_groups_ttest\",\n",
    "    n_genes=n_genes,\n",
    ")\n",
    "sc.tl.rank_genes_groups(\n",
    "    adata,\n",
    "    \"louvain_scvi\",\n",
    "    method=\"wilcoxon\",\n",
    "    use_raw=False,\n",
    "    key_added=\"rank_genes_groups_wilcox\",\n",
    "    n_genes=n_genes,\n",
    ")\n",
    "sc.pl.rank_genes_groups(\n",
    "    adata, key=\"rank_genes_groups_ttest\", sharey=False, n_genes=n_genes, show=show_plot\n",
    ")\n",
    "sc.pl.rank_genes_groups(\n",
    "    adata, key=\"rank_genes_groups_wilcox\", sharey=False, n_genes=n_genes, show=show_plot\n",
    ")"
   ]
  },
  {
   "cell_type": "markdown",
   "metadata": {
    "pycharm": {}
   },
   "source": [
    "### Use differential expression from the scVI posterior"
   ]
  },
  {
   "cell_type": "code",
   "execution_count": null,
   "metadata": {
    "pycharm": {}
   },
   "outputs": [],
   "source": [
    "rank_genes_groups_bayes(\n",
    "    adata, scvi_posterior, label_name=\"louvain_scvi\", n_genes=n_genes\n",
    ")\n",
    "sc.pl.rank_genes_groups(\n",
    "    adata, key=\"rank_genes_groups_scvi\", sharey=False, n_genes=n_genes, show=show_plot\n",
    ")"
   ]
  },
  {
   "cell_type": "markdown",
   "metadata": {
    "pycharm": {}
   },
   "source": [
    "### Measure similarity between *scVI differential expression*, *t-test* and *wilcoxon-test*"
   ]
  },
  {
   "cell_type": "code",
   "execution_count": null,
   "metadata": {
    "pycharm": {}
   },
   "outputs": [],
   "source": [
    "# We compute the rank of every gene to perform analysis after\n",
    "all_genes = len(adata.var_names)\n",
    "\n",
    "sc.tl.rank_genes_groups(adata, 'louvain_scvi', method='t-test',   use_raw=False, key_added='rank_genes_groups_ttest',  n_genes=all_genes)\n",
    "sc.tl.rank_genes_groups(adata, 'louvain_scvi', method='wilcoxon', use_raw=False, key_added='rank_genes_groups_wilcox', n_genes=all_genes)\n",
    "differential_expression = rank_genes_groups_bayes(adata, scvi_posterior, label_name='louvain_scvi', n_genes=all_genes)"
   ]
  },
  {
   "cell_type": "code",
   "execution_count": null,
   "metadata": {
    "pycharm": {}
   },
   "outputs": [],
   "source": [
    "def ratio(A, B):\n",
    "    A, B = set(A), set(B)\n",
    "    return len(A.intersection(B)) / len(A) * 100"
   ]
  },
  {
   "cell_type": "code",
   "execution_count": null,
   "metadata": {
    "pycharm": {}
   },
   "outputs": [],
   "source": [
    "cluster_distrib = adata.obs.groupby(\"louvain_scvi\").count()[\"n_genes\"]"
   ]
  },
  {
   "cell_type": "markdown",
   "metadata": {},
   "source": [
    "For each cluster, we compute the percentage of genes which are in the `n_genes` most expressed  genes of both Scanpy's and scVI's differential expression tests."
   ]
  },
  {
   "cell_type": "code",
   "execution_count": null,
   "metadata": {},
   "outputs": [],
   "source": []
  },
  {
   "cell_type": "code",
   "execution_count": null,
   "metadata": {
    "pycharm": {}
   },
   "outputs": [],
   "source": [
    "n_genes = 25\n",
    "\n",
    "sc.pl.umap(adata, color=[\"louvain_scvi\"], ncols=1, show=show_plot)\n",
    "for c in cluster_distrib.index:\n",
    "    print(\n",
    "        \"Cluster %s (%d cells): t-test / wilcox %6.2f %%  & t-test / scvi %6.2f %%\"\n",
    "        % (\n",
    "            c,\n",
    "            cluster_distrib[c],\n",
    "            ratio(\n",
    "                adata.uns[\"rank_genes_groups_ttest\"][\"names\"][c][:n_genes],\n",
    "                adata.uns[\"rank_genes_groups_wilcox\"][\"names\"][c][:n_genes],\n",
    "            ),\n",
    "            ratio(\n",
    "                adata.uns[\"rank_genes_groups_ttest\"][\"names\"][c][:n_genes],\n",
    "                adata.uns[\"rank_genes_groups_scvi\"][\"names\"][c][:n_genes],\n",
    "            ),\n",
    "        )\n",
    "    )"
   ]
  },
  {
   "cell_type": "markdown",
   "metadata": {
    "pycharm": {}
   },
   "source": [
    "## Plot px_scale for most expressed genes and less expressed genes by cluster"
   ]
  },
  {
   "cell_type": "markdown",
   "metadata": {
    "pycharm": {}
   },
   "source": [
    "Sample the scale for all the data (all genes, cells), average on multiple samples\n",
    "\n",
    "``` python\n",
    "scale = scvi_posterior.get_sample_scale()\n",
    "for _ in range(9):\n",
    "    scale += scvi_posterior.get_sample_scale()\n",
    "scale /= 10\n",
    "\n",
    "for gene, gene_scale in zip(adata.var.index, np.squeeze(scale).T):\n",
    "    adata.obs[\"scale_\" + gene] = gene_scale\n",
    "    \n",
    "```\n",
    "\n",
    "This is not tractable for large dataset so we provide another function below"
   ]
  },
  {
   "cell_type": "code",
   "execution_count": null,
   "metadata": {},
   "outputs": [],
   "source": [
    "from typing import List\n",
    "\n",
    "\n",
    "def get_scales_per_gene(\n",
    "    gene_names: List[str],\n",
    "    adata: sc.AnnData,\n",
    "    scvi_posterior: scvi.inference.Posterior,\n",
    "    n_samples: int = 10,\n",
    "    batchsize: int = 32,\n",
    "):\n",
    "    \"\"\"Get imputed values for each gene in gene_names - for each cell in adata. Performed inplace.\n",
    "    Scales are added in adata.obs under the alias 'scale_' + gene_name.\n",
    "    \n",
    "    This function handles very large dataset thanks to batch size control\n",
    "\n",
    "    Args:\n",
    "        gene_names: list of gene names\n",
    "        adata: scRNAseq dataset\n",
    "        posterior: scVI Posterior object\n",
    "        n_samples: number of samples to average on\n",
    "        batchsize: for computation: number of cells to query in each iteration\n",
    "    \"\"\"\n",
    "    all_gene_names = list(scvi_posterior.gene_dataset.gene_names)\n",
    "    gene_idx = [all_gene_names.index(g) for g in gene_names]\n",
    "    ashape = scvi_posterior.gene_dataset.X.shape\n",
    "    px_scales = np.zeros((len(gene_names), n_samples, ashape[0]))\n",
    "    for idx in range(int(ashape[0] / batchsize)):\n",
    "        current_slice = slice(idx * batchsize, (idx + 1) * batchsize)\n",
    "        px_scales_batch = scvi_posterior.model.get_sample_scale(\n",
    "            torch.from_numpy(scvi_posterior.gene_dataset.X[current_slice]),\n",
    "            n_samples=n_samples,\n",
    "        )\n",
    "        px_scales[:, :, current_slice] = np.transpose(\n",
    "            px_scales_batch.detach().numpy()[:, :, gene_idx], (2, 0, 1)\n",
    "        )\n",
    "    for name, scales in zip(gene_names, px_scales):\n",
    "        adata.obs[\"scale_\" + name] = scales.mean(axis=0)"
   ]
  },
  {
   "cell_type": "markdown",
   "metadata": {},
   "source": [
    "#### Most differentialy expressed genes"
   ]
  },
  {
   "cell_type": "code",
   "execution_count": null,
   "metadata": {
    "pycharm": {}
   },
   "outputs": [],
   "source": [
    "cluster_id = 2\n",
    "n_best_genes = 10\n",
    "gene_names = differential_expression[\n",
    "    differential_expression[\"clusters\"] == cluster_id\n",
    "].index.tolist()[:n_best_genes]\n",
    "gene_names"
   ]
  },
  {
   "cell_type": "code",
   "execution_count": null,
   "metadata": {},
   "outputs": [],
   "source": [
    "get_scales_per_gene(gene_names, adata, scvi_posterior)"
   ]
  },
  {
   "cell_type": "code",
   "execution_count": null,
   "metadata": {
    "pycharm": {},
    "scrolled": true
   },
   "outputs": [],
   "source": [
    "print(\"Top genes for cluster %d\" % cluster_id)\n",
    "sc.pl.umap(adata, color=[\"louvain_scvi\"] + [\"scale_\" + g for g in gene_names], ncols=3, show=show_plot)"
   ]
  },
  {
   "cell_type": "markdown",
   "metadata": {},
   "source": [
    "#### Less differentialy expressed genes"
   ]
  },
  {
   "cell_type": "code",
   "execution_count": null,
   "metadata": {
    "pycharm": {}
   },
   "outputs": [],
   "source": [
    "cluster_id = 2\n",
    "n_best_genes = 10\n",
    "gene_names = differential_expression[\n",
    "    differential_expression[\"clusters\"] == cluster_id\n",
    "].index.tolist()[-n_best_genes:]\n",
    "gene_names"
   ]
  },
  {
   "cell_type": "code",
   "execution_count": null,
   "metadata": {},
   "outputs": [],
   "source": [
    "get_scales_per_gene(gene_names, adata, scvi_posterior)"
   ]
  },
  {
   "cell_type": "code",
   "execution_count": null,
   "metadata": {
    "pycharm": {}
   },
   "outputs": [],
   "source": [
    "print(\"Top down regulated genes for cluster %d\" % cluster_id)\n",
    "sc.pl.umap(adata, color=[\"louvain_scvi\"] + [\"scale_\" + g for g in gene_names], ncols=3, show=show_plot)"
   ]
  },
  {
   "cell_type": "markdown",
   "metadata": {
    "pycharm": {}
   },
   "source": [
    "### Analyze ranking difference between **t-test** and **scVI**"
   ]
  },
  {
   "cell_type": "code",
   "execution_count": null,
   "metadata": {
    "pycharm": {}
   },
   "outputs": [],
   "source": [
    "cluster_id = if_not_test_else(\"2\", \"0\")"
   ]
  },
  {
   "cell_type": "code",
   "execution_count": null,
   "metadata": {
    "pycharm": {}
   },
   "outputs": [],
   "source": [
    "from collections import defaultdict\n",
    "import seaborn as sns\n",
    "import matplotlib.pyplot as plt\n",
    "\n",
    "\n",
    "def plot_ranking(method_1, method_2):\n",
    "    mapping = defaultdict(list)\n",
    "\n",
    "    for rank, gene in enumerate(\n",
    "        adata.uns[\"rank_genes_groups_\" + method_1][\"names\"][cluster_id]\n",
    "    ):\n",
    "        mapping[gene].append(rank)\n",
    "    for rank, gene in enumerate(\n",
    "        adata.uns[\"rank_genes_groups_\" + method_2][\"names\"][cluster_id]\n",
    "    ):\n",
    "        mapping[gene].append(rank)\n",
    "\n",
    "    x, y = np.array(list(mapping.values())).T\n",
    "\n",
    "    # n_genes = all_genes\n",
    "    n_genes = all_genes\n",
    "\n",
    "    plt.figure(figsize=(8, 8))\n",
    "    sns.scatterplot(x, y, s=10)\n",
    "    plt.axhline(100, c=\"red\")\n",
    "    plt.axvline(100, c=\"red\")\n",
    "    plt.xlim(0, n_genes)\n",
    "    plt.ylim(0, n_genes)\n",
    "    plt.xlabel(method_1 + \" ranking\")\n",
    "    plt.ylabel(method_2 + \" ranking\")"
   ]
  },
  {
   "cell_type": "code",
   "execution_count": null,
   "metadata": {
    "pycharm": {}
   },
   "outputs": [],
   "source": [
    "plot_ranking(\"scvi\", \"ttest\")\n",
    "plot_ranking(\"wilcox\", \"ttest\")"
   ]
  },
  {
   "cell_type": "markdown",
   "metadata": {
    "pycharm": {}
   },
   "source": [
    "### Investigating discrepancies"
   ]
  },
  {
   "cell_type": "markdown",
   "metadata": {
    "pycharm": {}
   },
   "source": [
    "Cluster 4 top genes of t-test and scvi are totally different, but when we look closer at the data one can notice:\n",
    "- The Bayes factor (or t-test score) are all very low for the cluster (no genes are significant)\n",
    "- Plots confirm the latter point: the top genes are not specific to the cluster and are either noise or overlapping with other clusters\n",
    "\n",
    "Specifically, we plot first the expression levels of genes selected by scVI, then of genes selected by the t-test. In both cases, genes seem irrelevant."
   ]
  },
  {
   "cell_type": "code",
   "execution_count": null,
   "metadata": {
    "pycharm": {}
   },
   "outputs": [],
   "source": [
    "n_genes = 10\n",
    "\n",
    "cluster_id = if_not_test_else(2, 0)\n",
    "\n",
    "genes = differential_expression[\n",
    "    differential_expression[\"clusters\"] == cluster_id\n",
    "].index.tolist()\n",
    "sc.pl.umap(\n",
    "    adata,\n",
    "    color=[\"louvain_scvi\"]\n",
    "    + adata.uns[\"rank_genes_groups_scvi\"][\"names\"][str(cluster_id)].tolist()[:n_genes],\n",
    "    ncols=3,\n",
    "    show=show_plot,\n",
    ")\n",
    "sc.pl.umap(\n",
    "    adata,\n",
    "    color=[\"louvain_scvi\"]\n",
    "    + adata.uns[\"rank_genes_groups_ttest\"][\"names\"][str(cluster_id)].tolist()[:n_genes],\n",
    "    ncols=3,\n",
    "    show=show_plot,\n",
    ")"
   ]
  },
  {
   "cell_type": "markdown",
   "metadata": {
    "pycharm": {}
   },
   "source": [
    "scVi tends to predict samples that are not expressed outside the cluster when t-test tends to select highly expressed genes in the cluster even if it also expressed everywhere."
   ]
  },
  {
   "cell_type": "markdown",
   "metadata": {},
   "source": [
    "### Store differential expression scores"
   ]
  },
  {
   "cell_type": "code",
   "execution_count": null,
   "metadata": {},
   "outputs": [],
   "source": [
    "def store_de_scores(\n",
    "    adata: sc.AnnData, differential_expression: pd.DataFrame, save_path: str = None\n",
    "):\n",
    "    \"\"\"Creates, returns and writes a DataFrame with all the differential scores used in this notebook.\n",
    "    \n",
    "    Args:\n",
    "        adata: scRNAseq dataset\n",
    "        differential_expression: Pandas Dataframe containing the bayes factor for all genes and clusters\n",
    "        save_path: file path for writing the resulting table\n",
    "\n",
    "    Returns:\n",
    "        pandas.DataFrame containing the scores of each differential expression test.\n",
    "\n",
    "    \"\"\"\n",
    "    # get shapes for array initialisation\n",
    "    n_genes_de = differential_expression[\n",
    "        differential_expression[\"clusters\"] == 0\n",
    "    ].shape[0]\n",
    "    all_genes = adata.shape[1]\n",
    "    # check that all genes have been used\n",
    "    if n_genes_de != all_genes:\n",
    "        raise ValueError(\n",
    "            \"scvi differential expression has to have been run with n_genes=all_genes\"\n",
    "        )\n",
    "    # get tests results from AnnData unstructured annotations\n",
    "    rec_scores = []\n",
    "    rec_names = []\n",
    "    test_types = [\"ttest\", \"wilcox\"]\n",
    "    for test_type in test_types:\n",
    "        res = adata.uns[\"rank_genes_groups_\" + test_type]\n",
    "        rec_scores.append(res[\"scores\"])\n",
    "        rec_names.append(res[\"names\"])\n",
    "    # restrict scvi table to bayes factor\n",
    "    res = differential_expression[[\"bayes1\", \"clusters\"]]\n",
    "    # for each cluster join then append all\n",
    "    dfs_cluster = []\n",
    "    groups = res.groupby(\"clusters\")\n",
    "    for cluster, df in groups:\n",
    "        for rec_score, rec_name, test_type in zip(rec_scores, rec_names, test_types):\n",
    "            temp = pd.DataFrame(\n",
    "                rec_score[str(cluster)],\n",
    "                index=rec_name[str(cluster)],\n",
    "                columns=[test_type],\n",
    "            )\n",
    "            df = df.join(temp)\n",
    "        dfs_cluster.append(df)\n",
    "    res = pd.concat(dfs_cluster)\n",
    "    if save_path:\n",
    "        res.to_csv(save_path)\n",
    "    return res"
   ]
  },
  {
   "cell_type": "code",
   "execution_count": null,
   "metadata": {},
   "outputs": [],
   "source": [
    "de_table = store_de_scores(adata, differential_expression, save_path=None)\n",
    "de_table.head()"
   ]
  },
  {
   "cell_type": "markdown",
   "metadata": {
    "pycharm": {}
   },
   "source": [
    "# Running other ScanPy algorithms is easy, binding the index keys"
   ]
  },
  {
   "cell_type": "markdown",
   "metadata": {},
   "source": [
    "### PAGA"
   ]
  },
  {
   "cell_type": "code",
   "execution_count": null,
   "metadata": {
    "pycharm": {},
    "scrolled": true
   },
   "outputs": [],
   "source": [
    "sc.tl.paga(adata, groups=\"louvain_scvi\")\n",
    "sc.pl.paga(adata, show=show_plot)"
   ]
  },
  {
   "cell_type": "markdown",
   "metadata": {
    "pycharm": {}
   },
   "source": [
    "###  HeatMap"
   ]
  },
  {
   "cell_type": "code",
   "execution_count": null,
   "metadata": {
    "pycharm": {}
   },
   "outputs": [],
   "source": [
    "marker_genes = [\n",
    "    \"CD79A\",\n",
    "    \"MS4A1\",\n",
    "    \"LGALS3\",\n",
    "    \"S100A8\",\n",
    "    \"GNLY\",\n",
    "    \"NKG7\",\n",
    "    \"KLRB1\",\n",
    "    \"FCGR3A\",\n",
    "    \"FCER1A\",\n",
    "    \"CST3\",\n",
    "    \"PPBP\",\n",
    "]"
   ]
  },
  {
   "cell_type": "code",
   "execution_count": null,
   "metadata": {
    "pycharm": {}
   },
   "outputs": [],
   "source": [
    "sc.pl.heatmap(adata, marker_genes, groupby=\"louvain_scvi\", dendrogram=True, show=show_plot)"
   ]
  },
  {
   "cell_type": "code",
   "execution_count": null,
   "metadata": {},
   "outputs": [],
   "source": []
  }
 ],
 "metadata": {
  "anaconda-cloud": {},
  "kernelspec": {
   "display_name": "Python 3",
   "language": "python",
   "name": "python3"
  },
  "language_info": {
   "codemirror_mode": {
    "name": "ipython",
    "version": 3
   },
   "file_extension": ".py",
   "mimetype": "text/x-python",
   "name": "python",
   "nbconvert_exporter": "python",
   "pygments_lexer": "ipython3",
   "version": "3.7.4"
  }
 },
 "nbformat": 4,
 "nbformat_minor": 4
}
