{
 "cells": [
  {
   "cell_type": "markdown",
   "metadata": {},
   "source": [
    "# General import functions"
   ]
  },
  {
   "cell_type": "code",
   "execution_count": 1,
   "metadata": {},
   "outputs": [
    {
     "name": "stderr",
     "output_type": "stream",
     "text": [
      "/home/angela/anaconda3/lib/python3.7/site-packages/anndata/_core/anndata.py:21: FutureWarning: pandas.core.index is deprecated and will be removed in a future version.  The public classes are available in the top-level namespace.\n",
      "  from pandas.core.index import RangeIndex\n"
     ]
    },
    {
     "name": "stdout",
     "output_type": "stream",
     "text": [
      "scanpy==1.4.5.1 anndata==0.6.22 umap==0.3.10 numpy==1.18.1 scipy==1.4.1 pandas==1.0.1 scikit-learn==0.22.2.post1 statsmodels==0.11.1 python-igraph==0.7.1 louvain==0.6.1\n"
     ]
    }
   ],
   "source": [
    "import numpy as np\n",
    "import pandas as pd\n",
    "import seaborn as sns\n",
    "import matplotlib.pyplot as plt\n",
    "import csv\n",
    "\n",
    "import scanpy as sc\n",
    "sc.settings.verbosity = 0             # verbosity: errors (0), warnings (1), info (2), hints (3)\n",
    "\n",
    "from igraph import *\n",
    "from MulticoreTSNE import MulticoreTSNE as TSNE #faster TSNE alternative\n",
    "from anndata import read_h5ad\n",
    "from anndata import read_csv\n",
    "import anndata\n",
    "\n",
    "sc.logging.print_versions()"
   ]
  },
  {
   "cell_type": "code",
   "execution_count": 2,
   "metadata": {},
   "outputs": [
    {
     "data": {
      "text/plain": [
       "'/home/angela/sapiens/tabula-sapiens/analysis-scripts/pilot2'"
      ]
     },
     "execution_count": 2,
     "metadata": {},
     "output_type": "execute_result"
    }
   ],
   "source": [
    "pwd"
   ]
  },
  {
   "cell_type": "markdown",
   "metadata": {},
   "source": [
    "# Load the data"
   ]
  },
  {
   "cell_type": "markdown",
   "metadata": {},
   "source": [
    "List all the data available"
   ]
  },
  {
   "cell_type": "code",
   "execution_count": 3,
   "metadata": {},
   "outputs": [],
   "source": [
    "path = '/mnt/ibm_lg/angela/sapiens/TSP2/10X/'"
   ]
  },
  {
   "cell_type": "code",
   "execution_count": 4,
   "metadata": {},
   "outputs": [
    {
     "data": {
      "text/plain": [
       "['TSP2_Blood_NA_1_3',\n",
       " 'TSP2_Lung_proxmedialdistal_1_1',\n",
       " 'TSP2_LI_proximal_1_1',\n",
       " 'TSP2_Thymus_NA_1_3_5prime',\n",
       " 'TSP2_Spleen_NA_2_1',\n",
       " 'TSP2_SI_proximal_1_1',\n",
       " 'TSP2_Kidney_NA_1_2',\n",
       " 'TSP2_Thymus_NA_1_2',\n",
       " 'TSP2_Blood_NA_2_1',\n",
       " 'TSP2_Bladder_NA_1_1',\n",
       " 'TSP2_Bladder_NA_1_2',\n",
       " 'TSP2_Spleen_NA_1_1',\n",
       " 'TSP2_BM_vertebralbody_2_1',\n",
       " 'TSP2_SI_distal_1_1',\n",
       " 'TSP2_Trachea_NA_1_2',\n",
       " 'TSP2_Muscle_diaphragm_1_2',\n",
       " 'TSP2_Heart_ventricle_1_1',\n",
       " 'TSP2_Thymus_NA_1_4_5prime',\n",
       " 'TSP2_BM_vertebralbody_1_1',\n",
       " 'TSP2_Muscle_rectusabdominus_1_1',\n",
       " 'TSP2_Blood_NA_1_5_5prime',\n",
       " 'TSP2_Kidney_NA_1_1',\n",
       " 'TSP2_Vasculature_Aorta_1_2',\n",
       " 'TSP2_BM_vertebralbody_1_2_5prime',\n",
       " 'TSP2_BM_vertebralbody_2_2_5prime',\n",
       " 'TSP2_Vasculature_Aorta_1_1',\n",
       " 'TSP2_Lung_proxmedialdistal_1_2',\n",
       " 'TSP2_LymphNode_NA_1_1',\n",
       " 'TSP2_LI_distal_1_1',\n",
       " 'TSP2_Trachea_NA_1_1',\n",
       " 'TSP2_Thymus_NA_1_1',\n",
       " 'TSP2_Muscle_diaphragm_1_1',\n",
       " 'TSP2_Muscle_rectusabdominus_1_2',\n",
       " 'TSP2_LymphNode_NA_2_1']"
      ]
     },
     "execution_count": 4,
     "metadata": {},
     "output_type": "execute_result"
    }
   ],
   "source": [
    "import os\n",
    "pilot2_runs = [x[1] for x in os.walk(path)][0]\n",
    "pilot2_runs"
   ]
  },
  {
   "cell_type": "code",
   "execution_count": 5,
   "metadata": {
    "scrolled": false
   },
   "outputs": [
    {
     "name": "stdout",
     "output_type": "stream",
     "text": [
      "TSP2_Blood_NA_1_3\n",
      "no notes to add\n",
      "TSP2_Lung_proxmedialdistal_1_1\n",
      "no notes to add\n",
      "TSP2_LI_proximal_1_1\n",
      "no notes to add\n",
      "TSP2_Thymus_NA_1_3_5prime\n",
      "TSP2_Spleen_NA_2_1\n",
      "no notes to add\n",
      "TSP2_SI_proximal_1_1\n",
      "no notes to add\n",
      "TSP2_Kidney_NA_1_2\n",
      "no notes to add\n",
      "TSP2_Thymus_NA_1_2\n",
      "no notes to add\n",
      "TSP2_Blood_NA_2_1\n",
      "no notes to add\n",
      "TSP2_Bladder_NA_1_1\n",
      "no notes to add\n",
      "TSP2_Bladder_NA_1_2\n",
      "no notes to add\n",
      "TSP2_Spleen_NA_1_1\n",
      "no notes to add\n",
      "TSP2_BM_vertebralbody_2_1\n",
      "no notes to add\n",
      "TSP2_SI_distal_1_1\n",
      "no notes to add\n",
      "TSP2_Trachea_NA_1_2\n",
      "no notes to add\n",
      "TSP2_Muscle_diaphragm_1_2\n",
      "no notes to add\n",
      "TSP2_Heart_ventricle_1_1\n",
      "no notes to add\n",
      "TSP2_Thymus_NA_1_4_5prime\n",
      "TSP2_BM_vertebralbody_1_1\n",
      "no notes to add\n",
      "TSP2_Muscle_rectusabdominus_1_1\n",
      "no notes to add\n",
      "TSP2_Blood_NA_1_5_5prime\n",
      "TSP2_Kidney_NA_1_1\n",
      "no notes to add\n",
      "TSP2_Vasculature_Aorta_1_2\n",
      "no notes to add\n",
      "TSP2_BM_vertebralbody_1_2_5prime\n",
      "TSP2_BM_vertebralbody_2_2_5prime\n",
      "TSP2_Vasculature_Aorta_1_1\n",
      "no notes to add\n",
      "TSP2_Lung_proxmedialdistal_1_2\n",
      "no notes to add\n",
      "TSP2_LymphNode_NA_1_1\n",
      "no notes to add\n",
      "TSP2_LI_distal_1_1\n",
      "no notes to add\n",
      "TSP2_Trachea_NA_1_1\n",
      "no notes to add\n",
      "TSP2_Thymus_NA_1_1\n",
      "no notes to add\n",
      "TSP2_Muscle_diaphragm_1_1\n",
      "no notes to add\n",
      "TSP2_Muscle_rectusabdominus_1_2\n",
      "no notes to add\n",
      "TSP2_LymphNode_NA_2_1\n",
      "no notes to add\n"
     ]
    },
    {
     "name": "stderr",
     "output_type": "stream",
     "text": [
      "... storing 'notes' as categorical\n",
      "... storing 'pilot' as categorical\n",
      "... storing 'replicate' as categorical\n",
      "... storing 'sample' as categorical\n",
      "... storing 'subtissue' as categorical\n",
      "... storing 'tissue' as categorical\n",
      "... storing 'feature_types' as categorical\n"
     ]
    },
    {
     "data": {
      "text/plain": [
       "AnnData object with n_obs × n_vars = 138171 × 58870 \n",
       "    obs: 'filter_cells_min_counts', 'filter_cells_min_genes', 'n_counts', 'n_genes', 'notes', 'pilot', 'replicate', 'sample', 'subtissue', 'tissue'\n",
       "    var: 'gene_ids', 'feature_types'"
      ]
     },
     "execution_count": 5,
     "metadata": {},
     "output_type": "execute_result"
    }
   ],
   "source": [
    "adata = sc.AnnData()\n",
    "\n",
    "for r in pilot2_runs:\n",
    "    \n",
    "    print(r)\n",
    "    adataaux = sc.read_10x_mtx(path+r+'/raw_feature_bc_matrix/',cache=True)\n",
    "    \n",
    "    bfcmingenes = adataaux.shape[0]\n",
    "    sc.pp.filter_cells(adataaux, min_genes=100)\n",
    "    adataaux.obs['filter_cells_min_genes'] = bfcmingenes-adataaux.shape[0] #no droplets lost\n",
    "    bfcmincounts = adataaux.shape[0]\n",
    "    sc.pp.filter_cells(adataaux, min_counts=1000)\n",
    "    adataaux.obs['filter_cells_min_counts'] = bfcmincounts-adataaux.shape[0] #no droplets lost\n",
    "#     bfgmincells = adataaux.shape[0]\n",
    "#     sc.pp.filter_genes(adataaux, min_cells=1)\n",
    "#     adataaux.obs['filter_genes_min_cells'] = bfgmincells-adataaux.shape[0] #no genes lost\n",
    "    adataaux.obs['pilot'] = r.split('_')[0]  \n",
    "    adataaux.obs['tissue'] = r.split('_')[1]  \n",
    "    adataaux.obs['subtissue'] = r.split('_')[2]  \n",
    "    adataaux.obs['sample'] = r.split('_')[3]  \n",
    "    adataaux.obs['replicate'] = r.split('_')[4]\n",
    "   \n",
    "    try:\n",
    "        adataaux.obs['notes'] = r.split('_')[5]\n",
    "    except:\n",
    "        print(\"no notes to add\")\n",
    "    \n",
    "    try:\n",
    "        adata = adata.concatenate(adataaux)\n",
    "        adata.obs = adata.obs.drop('batch',axis=1)\n",
    "    except:\n",
    "        adata = adataaux.copy()\n",
    "\n",
    "adata.write(path+'tsp2_10X_raw.h5ad')\n",
    "adata"
   ]
  },
  {
   "cell_type": "code",
   "execution_count": 6,
   "metadata": {},
   "outputs": [
    {
     "data": {
      "text/html": [
       "<div>\n",
       "<style scoped>\n",
       "    .dataframe tbody tr th:only-of-type {\n",
       "        vertical-align: middle;\n",
       "    }\n",
       "\n",
       "    .dataframe tbody tr th {\n",
       "        vertical-align: top;\n",
       "    }\n",
       "\n",
       "    .dataframe thead th {\n",
       "        text-align: right;\n",
       "    }\n",
       "</style>\n",
       "<table border=\"1\" class=\"dataframe\">\n",
       "  <thead>\n",
       "    <tr style=\"text-align: right;\">\n",
       "      <th></th>\n",
       "      <th>filter_cells_min_counts</th>\n",
       "      <th>filter_cells_min_genes</th>\n",
       "      <th>n_counts</th>\n",
       "      <th>n_genes</th>\n",
       "      <th>notes</th>\n",
       "      <th>pilot</th>\n",
       "      <th>replicate</th>\n",
       "      <th>sample</th>\n",
       "      <th>subtissue</th>\n",
       "      <th>tissue</th>\n",
       "    </tr>\n",
       "  </thead>\n",
       "  <tbody>\n",
       "    <tr>\n",
       "      <th>AAACCCAAGCATCAAA-1-0-0-0-0-0-0-0-0-0-0-0-0-0-0-0-0-0-0-0-0-0-0-0-0-0-0-0-0-0-0-0-0-0</th>\n",
       "      <td>12795</td>\n",
       "      <td>6776774</td>\n",
       "      <td>6855.0</td>\n",
       "      <td>2108</td>\n",
       "      <td>nan</td>\n",
       "      <td>TSP2</td>\n",
       "      <td>3</td>\n",
       "      <td>1</td>\n",
       "      <td>NA</td>\n",
       "      <td>Blood</td>\n",
       "    </tr>\n",
       "    <tr>\n",
       "      <th>AAACCCAGTATTGGCT-1-0-0-0-0-0-0-0-0-0-0-0-0-0-0-0-0-0-0-0-0-0-0-0-0-0-0-0-0-0-0-0-0-0</th>\n",
       "      <td>12795</td>\n",
       "      <td>6776774</td>\n",
       "      <td>4840.0</td>\n",
       "      <td>1667</td>\n",
       "      <td>nan</td>\n",
       "      <td>TSP2</td>\n",
       "      <td>3</td>\n",
       "      <td>1</td>\n",
       "      <td>NA</td>\n",
       "      <td>Blood</td>\n",
       "    </tr>\n",
       "    <tr>\n",
       "      <th>AAACCCATCAACTCTT-1-0-0-0-0-0-0-0-0-0-0-0-0-0-0-0-0-0-0-0-0-0-0-0-0-0-0-0-0-0-0-0-0-0</th>\n",
       "      <td>12795</td>\n",
       "      <td>6776774</td>\n",
       "      <td>1304.0</td>\n",
       "      <td>550</td>\n",
       "      <td>nan</td>\n",
       "      <td>TSP2</td>\n",
       "      <td>3</td>\n",
       "      <td>1</td>\n",
       "      <td>NA</td>\n",
       "      <td>Blood</td>\n",
       "    </tr>\n",
       "    <tr>\n",
       "      <th>AAACCCATCTAGTTCT-1-0-0-0-0-0-0-0-0-0-0-0-0-0-0-0-0-0-0-0-0-0-0-0-0-0-0-0-0-0-0-0-0-0</th>\n",
       "      <td>12795</td>\n",
       "      <td>6776774</td>\n",
       "      <td>13258.0</td>\n",
       "      <td>300</td>\n",
       "      <td>nan</td>\n",
       "      <td>TSP2</td>\n",
       "      <td>3</td>\n",
       "      <td>1</td>\n",
       "      <td>NA</td>\n",
       "      <td>Blood</td>\n",
       "    </tr>\n",
       "    <tr>\n",
       "      <th>AAACCCATCTGACCCT-1-0-0-0-0-0-0-0-0-0-0-0-0-0-0-0-0-0-0-0-0-0-0-0-0-0-0-0-0-0-0-0-0-0</th>\n",
       "      <td>12795</td>\n",
       "      <td>6776774</td>\n",
       "      <td>8011.0</td>\n",
       "      <td>2222</td>\n",
       "      <td>nan</td>\n",
       "      <td>TSP2</td>\n",
       "      <td>3</td>\n",
       "      <td>1</td>\n",
       "      <td>NA</td>\n",
       "      <td>Blood</td>\n",
       "    </tr>\n",
       "  </tbody>\n",
       "</table>\n",
       "</div>"
      ],
      "text/plain": [
       "                                                    filter_cells_min_counts  \\\n",
       "AAACCCAAGCATCAAA-1-0-0-0-0-0-0-0-0-0-0-0-0-0-0-...                    12795   \n",
       "AAACCCAGTATTGGCT-1-0-0-0-0-0-0-0-0-0-0-0-0-0-0-...                    12795   \n",
       "AAACCCATCAACTCTT-1-0-0-0-0-0-0-0-0-0-0-0-0-0-0-...                    12795   \n",
       "AAACCCATCTAGTTCT-1-0-0-0-0-0-0-0-0-0-0-0-0-0-0-...                    12795   \n",
       "AAACCCATCTGACCCT-1-0-0-0-0-0-0-0-0-0-0-0-0-0-0-...                    12795   \n",
       "\n",
       "                                                    filter_cells_min_genes  \\\n",
       "AAACCCAAGCATCAAA-1-0-0-0-0-0-0-0-0-0-0-0-0-0-0-...                 6776774   \n",
       "AAACCCAGTATTGGCT-1-0-0-0-0-0-0-0-0-0-0-0-0-0-0-...                 6776774   \n",
       "AAACCCATCAACTCTT-1-0-0-0-0-0-0-0-0-0-0-0-0-0-0-...                 6776774   \n",
       "AAACCCATCTAGTTCT-1-0-0-0-0-0-0-0-0-0-0-0-0-0-0-...                 6776774   \n",
       "AAACCCATCTGACCCT-1-0-0-0-0-0-0-0-0-0-0-0-0-0-0-...                 6776774   \n",
       "\n",
       "                                                    n_counts  n_genes notes  \\\n",
       "AAACCCAAGCATCAAA-1-0-0-0-0-0-0-0-0-0-0-0-0-0-0-...    6855.0     2108   nan   \n",
       "AAACCCAGTATTGGCT-1-0-0-0-0-0-0-0-0-0-0-0-0-0-0-...    4840.0     1667   nan   \n",
       "AAACCCATCAACTCTT-1-0-0-0-0-0-0-0-0-0-0-0-0-0-0-...    1304.0      550   nan   \n",
       "AAACCCATCTAGTTCT-1-0-0-0-0-0-0-0-0-0-0-0-0-0-0-...   13258.0      300   nan   \n",
       "AAACCCATCTGACCCT-1-0-0-0-0-0-0-0-0-0-0-0-0-0-0-...    8011.0     2222   nan   \n",
       "\n",
       "                                                   pilot replicate sample  \\\n",
       "AAACCCAAGCATCAAA-1-0-0-0-0-0-0-0-0-0-0-0-0-0-0-...  TSP2         3      1   \n",
       "AAACCCAGTATTGGCT-1-0-0-0-0-0-0-0-0-0-0-0-0-0-0-...  TSP2         3      1   \n",
       "AAACCCATCAACTCTT-1-0-0-0-0-0-0-0-0-0-0-0-0-0-0-...  TSP2         3      1   \n",
       "AAACCCATCTAGTTCT-1-0-0-0-0-0-0-0-0-0-0-0-0-0-0-...  TSP2         3      1   \n",
       "AAACCCATCTGACCCT-1-0-0-0-0-0-0-0-0-0-0-0-0-0-0-...  TSP2         3      1   \n",
       "\n",
       "                                                   subtissue tissue  \n",
       "AAACCCAAGCATCAAA-1-0-0-0-0-0-0-0-0-0-0-0-0-0-0-...        NA  Blood  \n",
       "AAACCCAGTATTGGCT-1-0-0-0-0-0-0-0-0-0-0-0-0-0-0-...        NA  Blood  \n",
       "AAACCCATCAACTCTT-1-0-0-0-0-0-0-0-0-0-0-0-0-0-0-...        NA  Blood  \n",
       "AAACCCATCTAGTTCT-1-0-0-0-0-0-0-0-0-0-0-0-0-0-0-...        NA  Blood  \n",
       "AAACCCATCTGACCCT-1-0-0-0-0-0-0-0-0-0-0-0-0-0-0-...        NA  Blood  "
      ]
     },
     "execution_count": 6,
     "metadata": {},
     "output_type": "execute_result"
    }
   ],
   "source": [
    "adata.obs.head()"
   ]
  },
  {
   "cell_type": "code",
   "execution_count": 7,
   "metadata": {},
   "outputs": [
    {
     "data": {
      "text/html": [
       "<div>\n",
       "<style scoped>\n",
       "    .dataframe tbody tr th:only-of-type {\n",
       "        vertical-align: middle;\n",
       "    }\n",
       "\n",
       "    .dataframe tbody tr th {\n",
       "        vertical-align: top;\n",
       "    }\n",
       "\n",
       "    .dataframe thead th {\n",
       "        text-align: right;\n",
       "    }\n",
       "</style>\n",
       "<table border=\"1\" class=\"dataframe\">\n",
       "  <thead>\n",
       "    <tr style=\"text-align: right;\">\n",
       "      <th></th>\n",
       "      <th>gene_ids</th>\n",
       "      <th>feature_types</th>\n",
       "    </tr>\n",
       "  </thead>\n",
       "  <tbody>\n",
       "    <tr>\n",
       "      <th>DDX11L1</th>\n",
       "      <td>ENSG00000223972.5</td>\n",
       "      <td>Gene Expression</td>\n",
       "    </tr>\n",
       "    <tr>\n",
       "      <th>WASH7P</th>\n",
       "      <td>ENSG00000227232.5</td>\n",
       "      <td>Gene Expression</td>\n",
       "    </tr>\n",
       "    <tr>\n",
       "      <th>MIR6859-1</th>\n",
       "      <td>ENSG00000278267.1</td>\n",
       "      <td>Gene Expression</td>\n",
       "    </tr>\n",
       "    <tr>\n",
       "      <th>MIR1302-2HG</th>\n",
       "      <td>ENSG00000243485.5</td>\n",
       "      <td>Gene Expression</td>\n",
       "    </tr>\n",
       "    <tr>\n",
       "      <th>MIR1302-2</th>\n",
       "      <td>ENSG00000284332.1</td>\n",
       "      <td>Gene Expression</td>\n",
       "    </tr>\n",
       "  </tbody>\n",
       "</table>\n",
       "</div>"
      ],
      "text/plain": [
       "                      gene_ids    feature_types\n",
       "DDX11L1      ENSG00000223972.5  Gene Expression\n",
       "WASH7P       ENSG00000227232.5  Gene Expression\n",
       "MIR6859-1    ENSG00000278267.1  Gene Expression\n",
       "MIR1302-2HG  ENSG00000243485.5  Gene Expression\n",
       "MIR1302-2    ENSG00000284332.1  Gene Expression"
      ]
     },
     "execution_count": 7,
     "metadata": {},
     "output_type": "execute_result"
    }
   ],
   "source": [
    "adata.var.head()"
   ]
  },
  {
   "cell_type": "markdown",
   "metadata": {},
   "source": [
    "# Lazy filter the data"
   ]
  },
  {
   "cell_type": "code",
   "execution_count": null,
   "metadata": {},
   "outputs": [],
   "source": [
    "sc.pl.highest_expr_genes(adata, n_top=20)\n"
   ]
  },
  {
   "cell_type": "code",
   "execution_count": null,
   "metadata": {},
   "outputs": [],
   "source": [
    "mito_genes = adata.var_names.str.startswith('MT-')\n",
    "adata.obs['percent_mito'] = np.sum(\n",
    "    adata[:, mito_genes].X, axis=1).A1 / np.sum(adata.X, axis=1).A1"
   ]
  },
  {
   "cell_type": "code",
   "execution_count": null,
   "metadata": {},
   "outputs": [],
   "source": [
    "sc.pl.violin(adata, ['n_genes', 'n_counts', 'percent_mito'],\n",
    "             jitter=0.4, multi_panel=True)"
   ]
  },
  {
   "cell_type": "markdown",
   "metadata": {},
   "source": [
    "Filter out cells with less than 200 genes detected and genes expressed in less than 3 cells"
   ]
  },
  {
   "cell_type": "code",
   "execution_count": null,
   "metadata": {},
   "outputs": [],
   "source": [
    "sc.pl.scatter(adata, x='n_counts', y='percent_mito')\n",
    "sc.pl.scatter(adata, x='n_counts', y='n_genes')"
   ]
  },
  {
   "cell_type": "code",
   "execution_count": null,
   "metadata": {},
   "outputs": [],
   "source": [
    "adata.obs"
   ]
  },
  {
   "cell_type": "code",
   "execution_count": null,
   "metadata": {},
   "outputs": [],
   "source": [
    "df = adata.obs.copy()\n",
    "df['tissue'] = df['tissue'].astype(str)\n",
    "df['subtissue'] = df['subtissue'].astype(str)\n",
    "df = pd.DataFrame(df.groupby(['tissue','subtissue','sample','replicate'])['pilot'].count())\n",
    "df = df.rename({'pilot':'n_cells'},axis=1)\n",
    "df = df.reset_index()\n",
    "ax = sns.swarmplot(data = df,y='tissue',x='n_cells')#,kind='swarm')\n",
    "ax = sns.barplot(data = df,y='tissue',x='n_cells')#,kind='bar')"
   ]
  },
  {
   "cell_type": "code",
   "execution_count": null,
   "metadata": {},
   "outputs": [],
   "source": []
  },
  {
   "cell_type": "code",
   "execution_count": null,
   "metadata": {},
   "outputs": [],
   "source": []
  },
  {
   "cell_type": "code",
   "execution_count": null,
   "metadata": {},
   "outputs": [],
   "source": []
  },
  {
   "cell_type": "code",
   "execution_count": null,
   "metadata": {},
   "outputs": [],
   "source": []
  },
  {
   "cell_type": "code",
   "execution_count": null,
   "metadata": {},
   "outputs": [],
   "source": []
  },
  {
   "cell_type": "code",
   "execution_count": null,
   "metadata": {},
   "outputs": [],
   "source": []
  }
 ],
 "metadata": {
  "kernelspec": {
   "display_name": "Python 3",
   "language": "python",
   "name": "python3"
  },
  "language_info": {
   "codemirror_mode": {
    "name": "ipython",
    "version": 3
   },
   "file_extension": ".py",
   "mimetype": "text/x-python",
   "name": "python",
   "nbconvert_exporter": "python",
   "pygments_lexer": "ipython3",
   "version": "3.7.4"
  },
  "toc": {
   "base_numbering": 1,
   "nav_menu": {},
   "number_sections": true,
   "sideBar": true,
   "skip_h1_title": false,
   "title_cell": "Table of Contents",
   "title_sidebar": "Contents",
   "toc_cell": false,
   "toc_position": {},
   "toc_section_display": true,
   "toc_window_display": false
  }
 },
 "nbformat": 4,
 "nbformat_minor": 4
}
