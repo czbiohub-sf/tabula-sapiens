{
 "cells": [
  {
   "cell_type": "markdown",
   "metadata": {
    "heading_collapsed": true
   },
   "source": [
    "# Functions to move to general_utils module"
   ]
  },
  {
   "cell_type": "code",
   "execution_count": null,
   "metadata": {
    "hidden": true
   },
   "outputs": [],
   "source": [
    "# create a list of letters\n",
    "def char_range(c1, c2):\n",
    "    \"\"\"Generates the characters from `c1` to `c2`, inclusive.\"\"\"\n",
    "    for c in range(ord(c1), ord(c2) + 1):\n",
    "        yield chr(c)\n",
    "\n",
    "# create list of wells in range\n",
    "def well_range(c1,n1,c2,n2):\n",
    "    well_order_by_columns = [\n",
    "            f\"{w}{n:1}\" for n in range(n1, n2) for w in char_range(c1, c2)\n",
    "        ]\n",
    "    return well_order_by_columns"
   ]
  },
  {
   "cell_type": "code",
   "execution_count": null,
   "metadata": {
    "hidden": true
   },
   "outputs": [],
   "source": [
    "# convert ensembl to gene symbol\n",
    "def convert_ensembl_symbol(adata,species='human',idcol = 'ensembls'):\n",
    "    import mygene\n",
    "    mg = mygene.MyGeneInfo()\n",
    "\n",
    "    mygene_converter = mg.querymany(list(adata.var[idcol]),scopes='all', species=species, as_dataframe=True)\n",
    "    mygene_converter.loc[mygene_converter['notfound']==True,'symbol'] = mygene_converter.loc[mygene_converter['notfound']==True].index\n",
    "\n",
    "    adata.var = adata.var.merge(\n",
    "        mygene_converter.reset_index(),left_on='ensembls',right_on='query').sort_values(\n",
    "        by='_score',ascending=False).drop_duplicates(\n",
    "        'ensembl_id').set_index('symbol')\n",
    "    \n",
    "    return adata"
   ]
  },
  {
   "cell_type": "code",
   "execution_count": null,
   "metadata": {
    "hidden": true
   },
   "outputs": [],
   "source": [
    "import logging as logg\n",
    "def downsample_to_smallest_category(\n",
    "        adata,\n",
    "        column=\"sample_short\",\n",
    "        random_state=None,\n",
    "        min_cells=15,\n",
    "        keep_small_categories=False\n",
    ") -> sc.AnnData:\n",
    "    \"\"\"\n",
    "    returns an annData object in which all categories in 'column' have\n",
    "    the same size\n",
    "\n",
    "    column\n",
    "        column with the categories to downsample\n",
    "    min_cells\n",
    "        Minimum number of cells to downsample.\n",
    "        Categories having less than `min_cells` are discarded unless\n",
    "        keep_small_categories is True\n",
    "    keep_small_categories\n",
    "        Be default categories with less than min_cells are discarded.\n",
    "        Set to true to keep them\n",
    "    \"\"\"\n",
    "    counts = adata.obs[column].value_counts(sort=False)\n",
    "    if len(counts[counts < min_cells]) > 0 and keep_small_categories is False:\n",
    "        logg.warning(\n",
    "            \"The following categories have less than {} cells and will be \"\n",
    "            \"ignored: {}\".format(min_cells, dict(counts[counts < min_cells]))\n",
    "        )\n",
    "    min_size = min(counts[counts >= min_cells])\n",
    "    sample_selection = None\n",
    "    for sample, num_cells in counts.items():\n",
    "        if num_cells <= min_cells:\n",
    "            if keep_small_categories:\n",
    "                sel = adata.obs.index.isin(\n",
    "                    adata.obs[adata.obs[column] == sample].index)\n",
    "            else:\n",
    "                continue\n",
    "        else:\n",
    "            sel = adata.obs.index.isin(\n",
    "                adata.obs[adata.obs[column] == sample]\n",
    "                .sample(min_size, random_state=random_state)\n",
    "                .index\n",
    "            )\n",
    "        if sample_selection is None:\n",
    "            sample_selection = sel\n",
    "        else:\n",
    "            sample_selection |= sel\n",
    "    logg.info(\n",
    "        \"The cells in category {!r} had been down-sampled to have each {} cells. \"\n",
    "        \"The original counts where {}\".format(column, min_size, dict(counts))\n",
    "    )\n",
    "    return adata[sample_selection].copy()"
   ]
  },
  {
   "cell_type": "markdown",
   "metadata": {},
   "source": [
    "# Packages needed"
   ]
  },
  {
   "cell_type": "code",
   "execution_count": 2,
   "metadata": {},
   "outputs": [
    {
     "name": "stderr",
     "output_type": "stream",
     "text": [
      "/home/angela/anaconda3/lib/python3.7/site-packages/anndata/_core/anndata.py:21: FutureWarning: pandas.core.index is deprecated and will be removed in a future version.  The public classes are available in the top-level namespace.\n",
      "  from pandas.core.index import RangeIndex\n"
     ]
    }
   ],
   "source": [
    "import scanpy as sc\n",
    "import pandas as pd\n",
    "import numpy as np\n",
    "import seaborn as sns\n",
    "\n",
    "sc.settings.verbosity = 3   "
   ]
  },
  {
   "cell_type": "markdown",
   "metadata": {},
   "source": [
    "# Load gene count table batch 1"
   ]
  },
  {
   "cell_type": "code",
   "execution_count": 3,
   "metadata": {},
   "outputs": [
    {
     "data": {
      "text/plain": [
       "AnnData object with n_obs × n_vars = 7656 × 58967 "
      ]
     },
     "execution_count": 3,
     "metadata": {},
     "output_type": "execute_result"
    }
   ],
   "source": [
    "adata = sc.read_csv('/mnt/ibm_lg/angela/sapiens/TSP2/smartseq2/tsp2_ss2_batch1.csv')\n",
    "adata = adata.transpose()\n",
    "adata"
   ]
  },
  {
   "cell_type": "markdown",
   "metadata": {},
   "source": [
    "Remove htseq last 5lines"
   ]
  },
  {
   "cell_type": "code",
   "execution_count": 4,
   "metadata": {},
   "outputs": [
    {
     "data": {
      "text/plain": [
       "Index(['ERCC-00164', 'ERCC-00165', 'ERCC-00168', 'ERCC-00170', 'ERCC-00171',\n",
       "       '__no_feature', '__ambiguous', '__too_low_aQual', '__not_aligned',\n",
       "       '__alignment_not_unique'],\n",
       "      dtype='object')"
      ]
     },
     "metadata": {},
     "output_type": "display_data"
    },
    {
     "data": {
      "text/plain": [
       "Index(['ERCC-00157', 'ERCC-00158', 'ERCC-00160', 'ERCC-00162', 'ERCC-00163',\n",
       "       'ERCC-00164', 'ERCC-00165', 'ERCC-00168', 'ERCC-00170', 'ERCC-00171'],\n",
       "      dtype='object')"
      ]
     },
     "metadata": {},
     "output_type": "display_data"
    },
    {
     "data": {
      "text/plain": [
       "AnnData object with n_obs × n_vars = 7656 × 58962 "
      ]
     },
     "execution_count": 4,
     "metadata": {},
     "output_type": "execute_result"
    }
   ],
   "source": [
    "display(adata.var_names[-10:])\n",
    "adata = adata[:,:-5].copy()\n",
    "display(adata.var_names[-10:])\n",
    "adata"
   ]
  },
  {
   "cell_type": "code",
   "execution_count": 5,
   "metadata": {},
   "outputs": [
    {
     "data": {
      "text/html": [
       "<div>\n",
       "<style scoped>\n",
       "    .dataframe tbody tr th:only-of-type {\n",
       "        vertical-align: middle;\n",
       "    }\n",
       "\n",
       "    .dataframe tbody tr th {\n",
       "        vertical-align: top;\n",
       "    }\n",
       "\n",
       "    .dataframe thead th {\n",
       "        text-align: right;\n",
       "    }\n",
       "</style>\n",
       "<table border=\"1\" class=\"dataframe\">\n",
       "  <thead>\n",
       "    <tr style=\"text-align: right;\">\n",
       "      <th></th>\n",
       "    </tr>\n",
       "  </thead>\n",
       "  <tbody>\n",
       "    <tr>\n",
       "      <th>TSP2_Bladder_NA_SS2_B113692_B104865_Empty_A15_S15.homo.gencode.v30.ERCC.chrM</th>\n",
       "    </tr>\n",
       "    <tr>\n",
       "      <th>TSP2_Bladder_NA_SS2_B113692_B104865_Empty_A16_S16.homo.gencode.v30.ERCC.chrM</th>\n",
       "    </tr>\n",
       "    <tr>\n",
       "      <th>TSP2_Bladder_NA_SS2_B113692_B104865_Empty_A17_S17.homo.gencode.v30.ERCC.chrM</th>\n",
       "    </tr>\n",
       "    <tr>\n",
       "      <th>TSP2_Bladder_NA_SS2_B113692_B104865_Empty_A18_S18.homo.gencode.v30.ERCC.chrM</th>\n",
       "    </tr>\n",
       "    <tr>\n",
       "      <th>TSP2_Bladder_NA_SS2_B113692_B104865_Empty_A19_S19.homo.gencode.v30.ERCC.chrM</th>\n",
       "    </tr>\n",
       "  </tbody>\n",
       "</table>\n",
       "</div>"
      ],
      "text/plain": [
       "Empty DataFrame\n",
       "Columns: []\n",
       "Index: [TSP2_Bladder_NA_SS2_B113692_B104865_Empty_A15_S15.homo.gencode.v30.ERCC.chrM, TSP2_Bladder_NA_SS2_B113692_B104865_Empty_A16_S16.homo.gencode.v30.ERCC.chrM, TSP2_Bladder_NA_SS2_B113692_B104865_Empty_A17_S17.homo.gencode.v30.ERCC.chrM, TSP2_Bladder_NA_SS2_B113692_B104865_Empty_A18_S18.homo.gencode.v30.ERCC.chrM, TSP2_Bladder_NA_SS2_B113692_B104865_Empty_A19_S19.homo.gencode.v30.ERCC.chrM]"
      ]
     },
     "execution_count": 5,
     "metadata": {},
     "output_type": "execute_result"
    }
   ],
   "source": [
    "adata.obs.head()"
   ]
  },
  {
   "cell_type": "code",
   "execution_count": 6,
   "metadata": {},
   "outputs": [],
   "source": [
    "adata.obs['pilot'] = [c.split('_')[0] for c in adata.obs.index]\n",
    "adata.obs['Tissue'] = [c.split('_')[1] for c in adata.obs.index]\n",
    "adata.obs['AnatomicalPosition'] = [c.split('_')[2] for c in adata.obs.index]\n",
    "adata.obs['method'] = [c.split('_')[3] for c in adata.obs.index]\n",
    "adata.obs['cDNAPlate'] = [c.split('_')[4] for c in adata.obs.index]\n",
    "adata.obs['LibraryPlateID'] = [c.split('_')[5] for c in adata.obs.index]\n",
    "adata.obs['population'] = [c.split('_')[6] for c in adata.obs.index]\n",
    "adata.obs['well_seq'] = [c.split('_')[7] for c in adata.obs.index]\n",
    "adata.obs['cell_id'] = [c.split('.')[0] for c in adata.obs.index]"
   ]
  },
  {
   "cell_type": "markdown",
   "metadata": {},
   "source": [
    "Convert ensembl ids to gene symbol"
   ]
  },
  {
   "cell_type": "code",
   "execution_count": 7,
   "metadata": {},
   "outputs": [
    {
     "data": {
      "text/plain": [
       "Index(['ENSG00000000003.14', 'ENSG00000000005.6', 'ENSG00000000419.12',\n",
       "       'ENSG00000000457.14', 'ENSG00000000460.17', 'ENSG00000000938.13',\n",
       "       'ENSG00000000971.15', 'ENSG00000001036.13', 'ENSG00000001084.12',\n",
       "       'ENSG00000001167.14',\n",
       "       ...\n",
       "       'ERCC-00157', 'ERCC-00158', 'ERCC-00160', 'ERCC-00162', 'ERCC-00163',\n",
       "       'ERCC-00164', 'ERCC-00165', 'ERCC-00168', 'ERCC-00170', 'ERCC-00171'],\n",
       "      dtype='object', length=58962)"
      ]
     },
     "execution_count": 7,
     "metadata": {},
     "output_type": "execute_result"
    }
   ],
   "source": [
    "adata.var_names"
   ]
  },
  {
   "cell_type": "code",
   "execution_count": null,
   "metadata": {},
   "outputs": [],
   "source": [
    "# adata.var['ensembl_id'] = adata.var_names\n",
    "# adata.var['ensembls'] = [g.split(\".\")[0] for g in adata.var['ensembl_id']]\n",
    "# adata.var"
   ]
  },
  {
   "cell_type": "code",
   "execution_count": null,
   "metadata": {
    "scrolled": true
   },
   "outputs": [],
   "source": [
    "# adata = convert_ensembl_symbol(adata);"
   ]
  },
  {
   "cell_type": "code",
   "execution_count": 8,
   "metadata": {},
   "outputs": [
    {
     "name": "stderr",
     "output_type": "stream",
     "text": [
      "... storing 'pilot' as categorical\n",
      "... storing 'Tissue' as categorical\n",
      "... storing 'AnatomicalPosition' as categorical\n",
      "... storing 'method' as categorical\n",
      "... storing 'cDNAPlate' as categorical\n",
      "... storing 'LibraryPlateID' as categorical\n",
      "... storing 'population' as categorical\n",
      "... storing 'well_seq' as categorical\n"
     ]
    },
    {
     "data": {
      "text/plain": [
       "AnnData object with n_obs × n_vars = 7656 × 58962 \n",
       "    obs: 'pilot', 'Tissue', 'AnatomicalPosition', 'method', 'cDNAPlate', 'LibraryPlateID', 'population', 'well_seq', 'cell_id'"
      ]
     },
     "execution_count": 8,
     "metadata": {},
     "output_type": "execute_result"
    }
   ],
   "source": [
    "adata.write_h5ad('/mnt/ibm_lg/angela/sapiens/TSP2/smartseq2/TSP2_SS2_no_official_metadata_unfiltered_raw_batch1.h5ad')\n",
    "adata"
   ]
  },
  {
   "cell_type": "markdown",
   "metadata": {},
   "source": [
    "# QC batch 1"
   ]
  },
  {
   "cell_type": "code",
   "execution_count": null,
   "metadata": {},
   "outputs": [],
   "source": [
    "adata = sc.read_h5ad(\n",
    "    '/mnt/ibm_lg/angela/sapiens/TSP2/smartseq2/TSP2_SS2_no_official_metadata_unfiltered_raw_batch1.h5ad')\n",
    "adata"
   ]
  },
  {
   "cell_type": "code",
   "execution_count": 9,
   "metadata": {},
   "outputs": [
    {
     "data": {
      "text/html": [
       "<div>\n",
       "<style scoped>\n",
       "    .dataframe tbody tr th:only-of-type {\n",
       "        vertical-align: middle;\n",
       "    }\n",
       "\n",
       "    .dataframe tbody tr th {\n",
       "        vertical-align: top;\n",
       "    }\n",
       "\n",
       "    .dataframe thead th {\n",
       "        text-align: right;\n",
       "    }\n",
       "</style>\n",
       "<table border=\"1\" class=\"dataframe\">\n",
       "  <thead>\n",
       "    <tr style=\"text-align: right;\">\n",
       "      <th></th>\n",
       "      <th>pilot</th>\n",
       "      <th>AnatomicalPosition</th>\n",
       "      <th>method</th>\n",
       "      <th>cDNAPlate</th>\n",
       "      <th>LibraryPlateID</th>\n",
       "      <th>population</th>\n",
       "      <th>well_seq</th>\n",
       "      <th>cell_id</th>\n",
       "    </tr>\n",
       "    <tr>\n",
       "      <th>Tissue</th>\n",
       "      <th></th>\n",
       "      <th></th>\n",
       "      <th></th>\n",
       "      <th></th>\n",
       "      <th></th>\n",
       "      <th></th>\n",
       "      <th></th>\n",
       "      <th></th>\n",
       "    </tr>\n",
       "  </thead>\n",
       "  <tbody>\n",
       "    <tr>\n",
       "      <th>Bladder</th>\n",
       "      <td>756</td>\n",
       "      <td>756</td>\n",
       "      <td>756</td>\n",
       "      <td>756</td>\n",
       "      <td>756</td>\n",
       "      <td>756</td>\n",
       "      <td>756</td>\n",
       "      <td>756</td>\n",
       "    </tr>\n",
       "    <tr>\n",
       "      <th>Kidney</th>\n",
       "      <td>768</td>\n",
       "      <td>768</td>\n",
       "      <td>768</td>\n",
       "      <td>768</td>\n",
       "      <td>768</td>\n",
       "      <td>768</td>\n",
       "      <td>768</td>\n",
       "      <td>768</td>\n",
       "    </tr>\n",
       "    <tr>\n",
       "      <th>Lung</th>\n",
       "      <td>763</td>\n",
       "      <td>763</td>\n",
       "      <td>763</td>\n",
       "      <td>763</td>\n",
       "      <td>763</td>\n",
       "      <td>763</td>\n",
       "      <td>763</td>\n",
       "      <td>763</td>\n",
       "    </tr>\n",
       "    <tr>\n",
       "      <th>Muscle</th>\n",
       "      <td>1532</td>\n",
       "      <td>1532</td>\n",
       "      <td>1532</td>\n",
       "      <td>1532</td>\n",
       "      <td>1532</td>\n",
       "      <td>1532</td>\n",
       "      <td>1532</td>\n",
       "      <td>1532</td>\n",
       "    </tr>\n",
       "    <tr>\n",
       "      <th>SI</th>\n",
       "      <td>1535</td>\n",
       "      <td>1535</td>\n",
       "      <td>1535</td>\n",
       "      <td>1535</td>\n",
       "      <td>1535</td>\n",
       "      <td>1535</td>\n",
       "      <td>1535</td>\n",
       "      <td>1535</td>\n",
       "    </tr>\n",
       "    <tr>\n",
       "      <th>Skin</th>\n",
       "      <td>1536</td>\n",
       "      <td>1536</td>\n",
       "      <td>1536</td>\n",
       "      <td>1536</td>\n",
       "      <td>1536</td>\n",
       "      <td>1536</td>\n",
       "      <td>1536</td>\n",
       "      <td>1536</td>\n",
       "    </tr>\n",
       "    <tr>\n",
       "      <th>Spleen</th>\n",
       "      <td>766</td>\n",
       "      <td>766</td>\n",
       "      <td>766</td>\n",
       "      <td>766</td>\n",
       "      <td>766</td>\n",
       "      <td>766</td>\n",
       "      <td>766</td>\n",
       "      <td>766</td>\n",
       "    </tr>\n",
       "  </tbody>\n",
       "</table>\n",
       "</div>"
      ],
      "text/plain": [
       "         pilot  AnatomicalPosition  method  cDNAPlate  LibraryPlateID  \\\n",
       "Tissue                                                                  \n",
       "Bladder    756                 756     756        756             756   \n",
       "Kidney     768                 768     768        768             768   \n",
       "Lung       763                 763     763        763             763   \n",
       "Muscle    1532                1532    1532       1532            1532   \n",
       "SI        1535                1535    1535       1535            1535   \n",
       "Skin      1536                1536    1536       1536            1536   \n",
       "Spleen     766                 766     766        766             766   \n",
       "\n",
       "         population  well_seq  cell_id  \n",
       "Tissue                                  \n",
       "Bladder         756       756      756  \n",
       "Kidney          768       768      768  \n",
       "Lung            763       763      763  \n",
       "Muscle         1532      1532     1532  \n",
       "SI             1535      1535     1535  \n",
       "Skin           1536      1536     1536  \n",
       "Spleen          766       766      766  "
      ]
     },
     "execution_count": 9,
     "metadata": {},
     "output_type": "execute_result"
    }
   ],
   "source": [
    "adata.obs.groupby('Tissue').count()"
   ]
  },
  {
   "cell_type": "code",
   "execution_count": 10,
   "metadata": {},
   "outputs": [
    {
     "name": "stdout",
     "output_type": "stream",
     "text": [
      "filtered out 3556 cells that have less than 200 genes expressed\n",
      "filtered out 202 cells that have less than 5000 counts\n"
     ]
    }
   ],
   "source": [
    "sc.pp.filter_cells(adata, min_genes=200)\n",
    "sc.pp.filter_cells(adata, min_counts=5000)\n",
    "sc.pp.filter_genes(adata, min_cells=0)"
   ]
  },
  {
   "cell_type": "code",
   "execution_count": 11,
   "metadata": {},
   "outputs": [
    {
     "data": {
      "text/html": [
       "<div>\n",
       "<style scoped>\n",
       "    .dataframe tbody tr th:only-of-type {\n",
       "        vertical-align: middle;\n",
       "    }\n",
       "\n",
       "    .dataframe tbody tr th {\n",
       "        vertical-align: top;\n",
       "    }\n",
       "\n",
       "    .dataframe thead th {\n",
       "        text-align: right;\n",
       "    }\n",
       "</style>\n",
       "<table border=\"1\" class=\"dataframe\">\n",
       "  <thead>\n",
       "    <tr style=\"text-align: right;\">\n",
       "      <th></th>\n",
       "      <th>pilot</th>\n",
       "      <th>AnatomicalPosition</th>\n",
       "      <th>method</th>\n",
       "      <th>cDNAPlate</th>\n",
       "      <th>LibraryPlateID</th>\n",
       "      <th>population</th>\n",
       "      <th>well_seq</th>\n",
       "      <th>cell_id</th>\n",
       "      <th>n_genes</th>\n",
       "      <th>n_counts</th>\n",
       "    </tr>\n",
       "    <tr>\n",
       "      <th>Tissue</th>\n",
       "      <th></th>\n",
       "      <th></th>\n",
       "      <th></th>\n",
       "      <th></th>\n",
       "      <th></th>\n",
       "      <th></th>\n",
       "      <th></th>\n",
       "      <th></th>\n",
       "      <th></th>\n",
       "      <th></th>\n",
       "    </tr>\n",
       "  </thead>\n",
       "  <tbody>\n",
       "    <tr>\n",
       "      <th>Bladder</th>\n",
       "      <td>265</td>\n",
       "      <td>265</td>\n",
       "      <td>265</td>\n",
       "      <td>265</td>\n",
       "      <td>265</td>\n",
       "      <td>265</td>\n",
       "      <td>265</td>\n",
       "      <td>265</td>\n",
       "      <td>265</td>\n",
       "      <td>265</td>\n",
       "    </tr>\n",
       "    <tr>\n",
       "      <th>Kidney</th>\n",
       "      <td>225</td>\n",
       "      <td>225</td>\n",
       "      <td>225</td>\n",
       "      <td>225</td>\n",
       "      <td>225</td>\n",
       "      <td>225</td>\n",
       "      <td>225</td>\n",
       "      <td>225</td>\n",
       "      <td>225</td>\n",
       "      <td>225</td>\n",
       "    </tr>\n",
       "    <tr>\n",
       "      <th>Lung</th>\n",
       "      <td>486</td>\n",
       "      <td>486</td>\n",
       "      <td>486</td>\n",
       "      <td>486</td>\n",
       "      <td>486</td>\n",
       "      <td>486</td>\n",
       "      <td>486</td>\n",
       "      <td>486</td>\n",
       "      <td>486</td>\n",
       "      <td>486</td>\n",
       "    </tr>\n",
       "    <tr>\n",
       "      <th>Muscle</th>\n",
       "      <td>1077</td>\n",
       "      <td>1077</td>\n",
       "      <td>1077</td>\n",
       "      <td>1077</td>\n",
       "      <td>1077</td>\n",
       "      <td>1077</td>\n",
       "      <td>1077</td>\n",
       "      <td>1077</td>\n",
       "      <td>1077</td>\n",
       "      <td>1077</td>\n",
       "    </tr>\n",
       "    <tr>\n",
       "      <th>SI</th>\n",
       "      <td>472</td>\n",
       "      <td>472</td>\n",
       "      <td>472</td>\n",
       "      <td>472</td>\n",
       "      <td>472</td>\n",
       "      <td>472</td>\n",
       "      <td>472</td>\n",
       "      <td>472</td>\n",
       "      <td>472</td>\n",
       "      <td>472</td>\n",
       "    </tr>\n",
       "    <tr>\n",
       "      <th>Skin</th>\n",
       "      <td>870</td>\n",
       "      <td>870</td>\n",
       "      <td>870</td>\n",
       "      <td>870</td>\n",
       "      <td>870</td>\n",
       "      <td>870</td>\n",
       "      <td>870</td>\n",
       "      <td>870</td>\n",
       "      <td>870</td>\n",
       "      <td>870</td>\n",
       "    </tr>\n",
       "    <tr>\n",
       "      <th>Spleen</th>\n",
       "      <td>503</td>\n",
       "      <td>503</td>\n",
       "      <td>503</td>\n",
       "      <td>503</td>\n",
       "      <td>503</td>\n",
       "      <td>503</td>\n",
       "      <td>503</td>\n",
       "      <td>503</td>\n",
       "      <td>503</td>\n",
       "      <td>503</td>\n",
       "    </tr>\n",
       "  </tbody>\n",
       "</table>\n",
       "</div>"
      ],
      "text/plain": [
       "         pilot  AnatomicalPosition  method  cDNAPlate  LibraryPlateID  \\\n",
       "Tissue                                                                  \n",
       "Bladder    265                 265     265        265             265   \n",
       "Kidney     225                 225     225        225             225   \n",
       "Lung       486                 486     486        486             486   \n",
       "Muscle    1077                1077    1077       1077            1077   \n",
       "SI         472                 472     472        472             472   \n",
       "Skin       870                 870     870        870             870   \n",
       "Spleen     503                 503     503        503             503   \n",
       "\n",
       "         population  well_seq  cell_id  n_genes  n_counts  \n",
       "Tissue                                                     \n",
       "Bladder         265       265      265      265       265  \n",
       "Kidney          225       225      225      225       225  \n",
       "Lung            486       486      486      486       486  \n",
       "Muscle         1077      1077     1077     1077      1077  \n",
       "SI              472       472      472      472       472  \n",
       "Skin            870       870      870      870       870  \n",
       "Spleen          503       503      503      503       503  "
      ]
     },
     "execution_count": 11,
     "metadata": {},
     "output_type": "execute_result"
    }
   ],
   "source": [
    "adata.obs.groupby('Tissue').count()"
   ]
  },
  {
   "cell_type": "code",
   "execution_count": 12,
   "metadata": {},
   "outputs": [
    {
     "data": {
      "text/plain": [
       "AnnData object with n_obs × n_vars = 3898 × 58962 \n",
       "    obs: 'pilot', 'Tissue', 'AnatomicalPosition', 'method', 'cDNAPlate', 'LibraryPlateID', 'population', 'well_seq', 'cell_id', 'n_genes', 'n_counts'\n",
       "    var: 'n_cells'"
      ]
     },
     "execution_count": 12,
     "metadata": {},
     "output_type": "execute_result"
    }
   ],
   "source": [
    "adata"
   ]
  },
  {
   "cell_type": "code",
   "execution_count": 13,
   "metadata": {},
   "outputs": [
    {
     "data": {
      "text/plain": [
       "51.0"
      ]
     },
     "execution_count": 13,
     "metadata": {},
     "output_type": "execute_result"
    }
   ],
   "source": [
    "np.round(3898/7656*100)"
   ]
  },
  {
   "cell_type": "code",
   "execution_count": 15,
   "metadata": {},
   "outputs": [
    {
     "data": {
      "text/plain": [
       "AnnData object with n_obs × n_vars = 3898 × 58962 \n",
       "    obs: 'pilot', 'Tissue', 'AnatomicalPosition', 'method', 'cDNAPlate', 'LibraryPlateID', 'population', 'well_seq', 'cell_id', 'n_genes', 'n_counts'\n",
       "    var: 'n_cells'"
      ]
     },
     "execution_count": 15,
     "metadata": {},
     "output_type": "execute_result"
    }
   ],
   "source": [
    "adata.write(\n",
    "    '/mnt/ibm_lg/angela/sapiens/TSP2/smartseq2/TSP2_SS2_no_official_metadata_filtered_raw_batch1.h5ad')\n",
    "adata"
   ]
  },
  {
   "cell_type": "code",
   "execution_count": 14,
   "metadata": {},
   "outputs": [
    {
     "data": {
      "text/plain": [
       "(5058.0, 200)"
      ]
     },
     "execution_count": 14,
     "metadata": {},
     "output_type": "execute_result"
    }
   ],
   "source": [
    "np.min(adata.obs[\"n_counts\"]),np.min(adata.obs[\"n_genes\"])"
   ]
  },
  {
   "cell_type": "markdown",
   "metadata": {
    "heading_collapsed": true
   },
   "source": [
    "### others"
   ]
  },
  {
   "cell_type": "code",
   "execution_count": null,
   "metadata": {
    "hidden": true
   },
   "outputs": [],
   "source": [
    "mt_gene_mask = [gene.startswith('MT-') for gene in adata.var_names]\n",
    "adata.obs['mt_frac'] = adata.X[:, mt_gene_mask].sum(1)/adata.obs['n_counts']"
   ]
  },
  {
   "cell_type": "code",
   "execution_count": null,
   "metadata": {
    "hidden": true
   },
   "outputs": [],
   "source": [
    "ercc_gene_mask = [gene.startswith('ERCC') for gene in adata.var_names]\n",
    "adata.obs['ercc_frac'] = adata.X[:, ercc_gene_mask].sum(1)/adata.obs['n_counts']"
   ]
  },
  {
   "cell_type": "code",
   "execution_count": null,
   "metadata": {
    "hidden": true
   },
   "outputs": [],
   "source": [
    "sc.pl.violin(adata, 'n_counts', groupby='Tissue', size=2, log=True, cut=0)\n",
    "sc.pl.violin(adata, 'mt_frac', groupby='Tissue')\n",
    "\n",
    "sc.pl.scatter(adata, 'n_counts', 'n_genes', color='mt_frac')\n",
    "\n",
    "sns.distplot(adata.obs['n_counts'], kde=False)\n",
    "sns.distplot(adata.obs['n_genes'], kde=False, bins=60)"
   ]
  },
  {
   "cell_type": "code",
   "execution_count": null,
   "metadata": {
    "hidden": true
   },
   "outputs": [],
   "source": [
    "#Keep the count data in a counts layer\n",
    "adata.layers[\"counts\"] = adata.X.copy()"
   ]
  },
  {
   "cell_type": "code",
   "execution_count": null,
   "metadata": {
    "hidden": true
   },
   "outputs": [],
   "source": [
    "sc.pp.normalize_per_cell(adata, counts_per_cell_after=1e6)\n",
    "sc.pp.log1p(adata)\n",
    "sc.pp.pca(adata, n_comps=50)\n",
    "sc.pp.neighbors(adata)\n",
    "sc.tl.umap(adata)\n",
    "# sc.tl.louvain(adata, key_added='groups', resolution=0.5)"
   ]
  },
  {
   "cell_type": "code",
   "execution_count": null,
   "metadata": {
    "hidden": true
   },
   "outputs": [],
   "source": [
    "adata.obs.head()"
   ]
  },
  {
   "cell_type": "code",
   "execution_count": null,
   "metadata": {
    "hidden": true,
    "scrolled": false
   },
   "outputs": [],
   "source": [
    "sc.pl.umap(adata,color = ['Tissue','AnatomicalPosition','population'],ncols=1)\n",
    "sc.pl.umap(adata,color = ['PECAM1','PTPRC'], cmap='Oranges')\n",
    "sc.pl.umap(adata,color = ['n_genes','n_counts','mt_frac','ercc_frac'],cmap='Oranges',ncols=2)"
   ]
  },
  {
   "cell_type": "code",
   "execution_count": null,
   "metadata": {
    "hidden": true
   },
   "outputs": [],
   "source": [
    "sc.pl.umap(adata[adata.obs['Tissue']=='Skin'],color=['KRT10','B2M','KRT14','PTPRC','KRT1','CD14','CTNNB1'],cmap='Oranges')"
   ]
  },
  {
   "cell_type": "code",
   "execution_count": null,
   "metadata": {
    "hidden": true
   },
   "outputs": [],
   "source": [
    "adata.write_h5ad(\n",
    "    '/mnt/ibm_lg/angela/sapiens/TSP2/smartseq2/TSP2_SS2_no_official_metadata_counts_layer_processed_X.h5ad')\n",
    "adata"
   ]
  },
  {
   "cell_type": "code",
   "execution_count": null,
   "metadata": {
    "hidden": true
   },
   "outputs": [],
   "source": []
  },
  {
   "cell_type": "code",
   "execution_count": null,
   "metadata": {
    "hidden": true
   },
   "outputs": [],
   "source": [
    "adata1 = adata.copy()\n",
    "adata1"
   ]
  },
  {
   "cell_type": "code",
   "execution_count": null,
   "metadata": {
    "hidden": true
   },
   "outputs": [],
   "source": [
    "adata2 = adata[adata.obs['Tissue']=='Bladder'].copy()\n",
    "adata2"
   ]
  },
  {
   "cell_type": "code",
   "execution_count": null,
   "metadata": {
    "hidden": true
   },
   "outputs": [],
   "source": [
    "adata2.shape[0]"
   ]
  },
  {
   "cell_type": "code",
   "execution_count": null,
   "metadata": {
    "hidden": true
   },
   "outputs": [],
   "source": [
    "downsample_to_smallest_category(adata1)"
   ]
  },
  {
   "cell_type": "code",
   "execution_count": null,
   "metadata": {
    "hidden": true
   },
   "outputs": [],
   "source": [
    "sc.pp.subsample(adata1, n_obs=adata2.shape[0]) \n",
    "adata1"
   ]
  },
  {
   "cell_type": "code",
   "execution_count": null,
   "metadata": {
    "hidden": true
   },
   "outputs": [],
   "source": [
    "downsample_to_smallest_category(adata1, 'Tissue', min_cells=100, keep_small_categories=True)"
   ]
  },
  {
   "cell_type": "code",
   "execution_count": null,
   "metadata": {
    "hidden": true
   },
   "outputs": [],
   "source": [
    "adata1 = downsample_to_smallest_category(adata1, 'Tissue', min_cells=100, keep_small_categories=True)"
   ]
  },
  {
   "cell_type": "code",
   "execution_count": null,
   "metadata": {
    "hidden": true
   },
   "outputs": [],
   "source": [
    "adata.obs.columns"
   ]
  },
  {
   "cell_type": "code",
   "execution_count": null,
   "metadata": {
    "hidden": true
   },
   "outputs": [],
   "source": [
    "adata.obs.groupby(['Tissue','']).count()"
   ]
  },
  {
   "cell_type": "code",
   "execution_count": null,
   "metadata": {
    "hidden": true
   },
   "outputs": [],
   "source": [
    "import logging as logg\n",
    "def downsample_to_smallest_category(\n",
    "        adata,\n",
    "        column=\"sample_short\",\n",
    "        random_state=None,\n",
    "        min_cells=15,\n",
    "        keep_small_categories=False\n",
    ") -> sc.AnnData:\n",
    "    \"\"\"\n",
    "    returns an annData object in which all categories in 'column' have\n",
    "    the same size\n",
    "\n",
    "    column\n",
    "        column with the categories to downsample\n",
    "    min_cells\n",
    "        Minimum number of cells to downsample.\n",
    "        Categories having less than `min_cells` are discarded unless\n",
    "        keep_small_categories is True\n",
    "    keep_small_categories\n",
    "        Be default categories with less than min_cells are discarded.\n",
    "        Set to true to keep them\n",
    "    \"\"\"\n",
    "    counts = adata.obs[column].value_counts(sort=False)\n",
    "    if len(counts[counts < min_cells]) > 0 and keep_small_categories is False:\n",
    "        logg.warning(\n",
    "            \"The following categories have less than {} cells and will be \"\n",
    "            \"ignored: {}\".format(min_cells, dict(counts[counts < min_cells]))\n",
    "        )\n",
    "    min_size = min(counts[counts >= min_cells])\n",
    "    sample_selection = None\n",
    "    for sample, num_cells in counts.items():\n",
    "        if num_cells <= min_cells:\n",
    "            if keep_small_categories:\n",
    "                sel = adata.obs.index.isin(\n",
    "                    adata.obs[adata.obs[column] == sample].index)\n",
    "            else:\n",
    "                continue\n",
    "        else:\n",
    "            sel = adata.obs.index.isin(\n",
    "                adata.obs[adata.obs[column] == sample]\n",
    "                .sample(min_size, random_state=random_state)\n",
    "                .index\n",
    "            )\n",
    "        if sample_selection is None:\n",
    "            sample_selection = sel\n",
    "        else:\n",
    "            sample_selection |= sel\n",
    "    logg.info(\n",
    "        \"The cells in category {!r} had been down-sampled to have each {} cells. \"\n",
    "        \"The original counts where {}\".format(column, min_size, dict(counts))\n",
    "    )\n",
    "    return adata[sample_selection].copy()"
   ]
  },
  {
   "cell_type": "code",
   "execution_count": null,
   "metadata": {
    "hidden": true
   },
   "outputs": [],
   "source": [
    "adata1 = adata.copy()\n",
    "display(adata1)\n",
    "display(adata1.obs.groupby('Tissue').count())\n",
    "adata1.obs['classification_group'] = 'B'\n",
    "adata1.obs.loc[adata1.obs[adata1.obs['Tissue']=='Bladder'].index,'classification_group'] = 'A'\n",
    "adata1 = downsample_to_smallest_category(adata1, 'classification_group', keep_small_categories=True)\n",
    "display(adata1)\n",
    "display(adata1.obs.groupby('Tissue').count())"
   ]
  },
  {
   "cell_type": "code",
   "execution_count": null,
   "metadata": {
    "hidden": true
   },
   "outputs": [],
   "source": []
  },
  {
   "cell_type": "markdown",
   "metadata": {},
   "source": [
    "# Load gene count table batch 2"
   ]
  },
  {
   "cell_type": "code",
   "execution_count": 16,
   "metadata": {},
   "outputs": [
    {
     "data": {
      "text/plain": [
       "AnnData object with n_obs × n_vars = 7661 × 58967 "
      ]
     },
     "execution_count": 16,
     "metadata": {},
     "output_type": "execute_result"
    }
   ],
   "source": [
    "adata = sc.read_csv('/mnt/ibm_lg/angela/sapiens/TSP2/smartseq2/tsp2_ss2_batch2.csv')\n",
    "adata = adata.transpose()\n",
    "adata"
   ]
  },
  {
   "cell_type": "markdown",
   "metadata": {},
   "source": [
    "Remove htseq last 5lines"
   ]
  },
  {
   "cell_type": "code",
   "execution_count": 17,
   "metadata": {},
   "outputs": [
    {
     "data": {
      "text/plain": [
       "Index(['ERCC-00164', 'ERCC-00165', 'ERCC-00168', 'ERCC-00170', 'ERCC-00171',\n",
       "       '__no_feature', '__ambiguous', '__too_low_aQual', '__not_aligned',\n",
       "       '__alignment_not_unique'],\n",
       "      dtype='object')"
      ]
     },
     "metadata": {},
     "output_type": "display_data"
    },
    {
     "data": {
      "text/plain": [
       "Index(['ERCC-00157', 'ERCC-00158', 'ERCC-00160', 'ERCC-00162', 'ERCC-00163',\n",
       "       'ERCC-00164', 'ERCC-00165', 'ERCC-00168', 'ERCC-00170', 'ERCC-00171'],\n",
       "      dtype='object')"
      ]
     },
     "metadata": {},
     "output_type": "display_data"
    },
    {
     "data": {
      "text/plain": [
       "AnnData object with n_obs × n_vars = 7661 × 58962 "
      ]
     },
     "execution_count": 17,
     "metadata": {},
     "output_type": "execute_result"
    }
   ],
   "source": [
    "display(adata.var_names[-10:])\n",
    "adata = adata[:,:-5].copy()\n",
    "display(adata.var_names[-10:])\n",
    "adata"
   ]
  },
  {
   "cell_type": "code",
   "execution_count": 18,
   "metadata": {},
   "outputs": [
    {
     "data": {
      "text/html": [
       "<div>\n",
       "<style scoped>\n",
       "    .dataframe tbody tr th:only-of-type {\n",
       "        vertical-align: middle;\n",
       "    }\n",
       "\n",
       "    .dataframe tbody tr th {\n",
       "        vertical-align: top;\n",
       "    }\n",
       "\n",
       "    .dataframe thead th {\n",
       "        text-align: right;\n",
       "    }\n",
       "</style>\n",
       "<table border=\"1\" class=\"dataframe\">\n",
       "  <thead>\n",
       "    <tr style=\"text-align: right;\">\n",
       "      <th></th>\n",
       "    </tr>\n",
       "  </thead>\n",
       "  <tbody>\n",
       "    <tr>\n",
       "      <th>TSP2_BM_vertebralbody_SS2_B113700_B133089_LinNegMarrow_A10_S154.homo.gencode.v30.ERCC.chrM</th>\n",
       "    </tr>\n",
       "    <tr>\n",
       "      <th>TSP2_BM_vertebralbody_SS2_B113700_B133089_LinNegMarrow_A11_S155.homo.gencode.v30.ERCC.chrM</th>\n",
       "    </tr>\n",
       "    <tr>\n",
       "      <th>TSP2_BM_vertebralbody_SS2_B113700_B133089_LinNegMarrow_A12_S156.homo.gencode.v30.ERCC.chrM</th>\n",
       "    </tr>\n",
       "    <tr>\n",
       "      <th>TSP2_BM_vertebralbody_SS2_B113700_B133089_LinNegMarrow_A13_S157.homo.gencode.v30.ERCC.chrM</th>\n",
       "    </tr>\n",
       "    <tr>\n",
       "      <th>TSP2_BM_vertebralbody_SS2_B113700_B133089_LinNegMarrow_A14_S158.homo.gencode.v30.ERCC.chrM</th>\n",
       "    </tr>\n",
       "  </tbody>\n",
       "</table>\n",
       "</div>"
      ],
      "text/plain": [
       "Empty DataFrame\n",
       "Columns: []\n",
       "Index: [TSP2_BM_vertebralbody_SS2_B113700_B133089_LinNegMarrow_A10_S154.homo.gencode.v30.ERCC.chrM, TSP2_BM_vertebralbody_SS2_B113700_B133089_LinNegMarrow_A11_S155.homo.gencode.v30.ERCC.chrM, TSP2_BM_vertebralbody_SS2_B113700_B133089_LinNegMarrow_A12_S156.homo.gencode.v30.ERCC.chrM, TSP2_BM_vertebralbody_SS2_B113700_B133089_LinNegMarrow_A13_S157.homo.gencode.v30.ERCC.chrM, TSP2_BM_vertebralbody_SS2_B113700_B133089_LinNegMarrow_A14_S158.homo.gencode.v30.ERCC.chrM]"
      ]
     },
     "execution_count": 18,
     "metadata": {},
     "output_type": "execute_result"
    }
   ],
   "source": [
    "adata.obs.head()"
   ]
  },
  {
   "cell_type": "code",
   "execution_count": 19,
   "metadata": {},
   "outputs": [],
   "source": [
    "adata.obs['pilot'] = [c.split('_')[0] for c in adata.obs.index]\n",
    "adata.obs['Tissue'] = [c.split('_')[1] for c in adata.obs.index]\n",
    "adata.obs['AnatomicalPosition'] = [c.split('_')[2] for c in adata.obs.index]\n",
    "adata.obs['method'] = [c.split('_')[3] for c in adata.obs.index]\n",
    "adata.obs['cDNAPlate'] = [c.split('_')[4] for c in adata.obs.index]\n",
    "adata.obs['LibraryPlateID'] = [c.split('_')[5] for c in adata.obs.index]\n",
    "adata.obs['population'] = [c.split('_')[6] for c in adata.obs.index]\n",
    "adata.obs['well_seq'] = [c.split('_')[7] for c in adata.obs.index]\n",
    "adata.obs['cell_id'] = [c.split('.')[0] for c in adata.obs.index]"
   ]
  },
  {
   "cell_type": "code",
   "execution_count": 20,
   "metadata": {},
   "outputs": [
    {
     "data": {
      "text/html": [
       "<div>\n",
       "<style scoped>\n",
       "    .dataframe tbody tr th:only-of-type {\n",
       "        vertical-align: middle;\n",
       "    }\n",
       "\n",
       "    .dataframe tbody tr th {\n",
       "        vertical-align: top;\n",
       "    }\n",
       "\n",
       "    .dataframe thead th {\n",
       "        text-align: right;\n",
       "    }\n",
       "</style>\n",
       "<table border=\"1\" class=\"dataframe\">\n",
       "  <thead>\n",
       "    <tr style=\"text-align: right;\">\n",
       "      <th></th>\n",
       "      <th>pilot</th>\n",
       "      <th>Tissue</th>\n",
       "      <th>AnatomicalPosition</th>\n",
       "      <th>method</th>\n",
       "      <th>cDNAPlate</th>\n",
       "      <th>LibraryPlateID</th>\n",
       "      <th>population</th>\n",
       "      <th>well_seq</th>\n",
       "      <th>cell_id</th>\n",
       "    </tr>\n",
       "  </thead>\n",
       "  <tbody>\n",
       "    <tr>\n",
       "      <th>TSP2_BM_vertebralbody_SS2_B113700_B133089_LinNegMarrow_A10_S154.homo.gencode.v30.ERCC.chrM</th>\n",
       "      <td>TSP2</td>\n",
       "      <td>BM</td>\n",
       "      <td>vertebralbody</td>\n",
       "      <td>SS2</td>\n",
       "      <td>B113700</td>\n",
       "      <td>B133089</td>\n",
       "      <td>LinNegMarrow</td>\n",
       "      <td>A10</td>\n",
       "      <td>TSP2_BM_vertebralbody_SS2_B113700_B133089_LinN...</td>\n",
       "    </tr>\n",
       "    <tr>\n",
       "      <th>TSP2_BM_vertebralbody_SS2_B113700_B133089_LinNegMarrow_A11_S155.homo.gencode.v30.ERCC.chrM</th>\n",
       "      <td>TSP2</td>\n",
       "      <td>BM</td>\n",
       "      <td>vertebralbody</td>\n",
       "      <td>SS2</td>\n",
       "      <td>B113700</td>\n",
       "      <td>B133089</td>\n",
       "      <td>LinNegMarrow</td>\n",
       "      <td>A11</td>\n",
       "      <td>TSP2_BM_vertebralbody_SS2_B113700_B133089_LinN...</td>\n",
       "    </tr>\n",
       "    <tr>\n",
       "      <th>TSP2_BM_vertebralbody_SS2_B113700_B133089_LinNegMarrow_A12_S156.homo.gencode.v30.ERCC.chrM</th>\n",
       "      <td>TSP2</td>\n",
       "      <td>BM</td>\n",
       "      <td>vertebralbody</td>\n",
       "      <td>SS2</td>\n",
       "      <td>B113700</td>\n",
       "      <td>B133089</td>\n",
       "      <td>LinNegMarrow</td>\n",
       "      <td>A12</td>\n",
       "      <td>TSP2_BM_vertebralbody_SS2_B113700_B133089_LinN...</td>\n",
       "    </tr>\n",
       "    <tr>\n",
       "      <th>TSP2_BM_vertebralbody_SS2_B113700_B133089_LinNegMarrow_A13_S157.homo.gencode.v30.ERCC.chrM</th>\n",
       "      <td>TSP2</td>\n",
       "      <td>BM</td>\n",
       "      <td>vertebralbody</td>\n",
       "      <td>SS2</td>\n",
       "      <td>B113700</td>\n",
       "      <td>B133089</td>\n",
       "      <td>LinNegMarrow</td>\n",
       "      <td>A13</td>\n",
       "      <td>TSP2_BM_vertebralbody_SS2_B113700_B133089_LinN...</td>\n",
       "    </tr>\n",
       "    <tr>\n",
       "      <th>TSP2_BM_vertebralbody_SS2_B113700_B133089_LinNegMarrow_A14_S158.homo.gencode.v30.ERCC.chrM</th>\n",
       "      <td>TSP2</td>\n",
       "      <td>BM</td>\n",
       "      <td>vertebralbody</td>\n",
       "      <td>SS2</td>\n",
       "      <td>B113700</td>\n",
       "      <td>B133089</td>\n",
       "      <td>LinNegMarrow</td>\n",
       "      <td>A14</td>\n",
       "      <td>TSP2_BM_vertebralbody_SS2_B113700_B133089_LinN...</td>\n",
       "    </tr>\n",
       "  </tbody>\n",
       "</table>\n",
       "</div>"
      ],
      "text/plain": [
       "                                                   pilot Tissue  \\\n",
       "TSP2_BM_vertebralbody_SS2_B113700_B133089_LinNe...  TSP2     BM   \n",
       "TSP2_BM_vertebralbody_SS2_B113700_B133089_LinNe...  TSP2     BM   \n",
       "TSP2_BM_vertebralbody_SS2_B113700_B133089_LinNe...  TSP2     BM   \n",
       "TSP2_BM_vertebralbody_SS2_B113700_B133089_LinNe...  TSP2     BM   \n",
       "TSP2_BM_vertebralbody_SS2_B113700_B133089_LinNe...  TSP2     BM   \n",
       "\n",
       "                                                   AnatomicalPosition method  \\\n",
       "TSP2_BM_vertebralbody_SS2_B113700_B133089_LinNe...      vertebralbody    SS2   \n",
       "TSP2_BM_vertebralbody_SS2_B113700_B133089_LinNe...      vertebralbody    SS2   \n",
       "TSP2_BM_vertebralbody_SS2_B113700_B133089_LinNe...      vertebralbody    SS2   \n",
       "TSP2_BM_vertebralbody_SS2_B113700_B133089_LinNe...      vertebralbody    SS2   \n",
       "TSP2_BM_vertebralbody_SS2_B113700_B133089_LinNe...      vertebralbody    SS2   \n",
       "\n",
       "                                                   cDNAPlate LibraryPlateID  \\\n",
       "TSP2_BM_vertebralbody_SS2_B113700_B133089_LinNe...   B113700        B133089   \n",
       "TSP2_BM_vertebralbody_SS2_B113700_B133089_LinNe...   B113700        B133089   \n",
       "TSP2_BM_vertebralbody_SS2_B113700_B133089_LinNe...   B113700        B133089   \n",
       "TSP2_BM_vertebralbody_SS2_B113700_B133089_LinNe...   B113700        B133089   \n",
       "TSP2_BM_vertebralbody_SS2_B113700_B133089_LinNe...   B113700        B133089   \n",
       "\n",
       "                                                      population well_seq  \\\n",
       "TSP2_BM_vertebralbody_SS2_B113700_B133089_LinNe...  LinNegMarrow      A10   \n",
       "TSP2_BM_vertebralbody_SS2_B113700_B133089_LinNe...  LinNegMarrow      A11   \n",
       "TSP2_BM_vertebralbody_SS2_B113700_B133089_LinNe...  LinNegMarrow      A12   \n",
       "TSP2_BM_vertebralbody_SS2_B113700_B133089_LinNe...  LinNegMarrow      A13   \n",
       "TSP2_BM_vertebralbody_SS2_B113700_B133089_LinNe...  LinNegMarrow      A14   \n",
       "\n",
       "                                                                                              cell_id  \n",
       "TSP2_BM_vertebralbody_SS2_B113700_B133089_LinNe...  TSP2_BM_vertebralbody_SS2_B113700_B133089_LinN...  \n",
       "TSP2_BM_vertebralbody_SS2_B113700_B133089_LinNe...  TSP2_BM_vertebralbody_SS2_B113700_B133089_LinN...  \n",
       "TSP2_BM_vertebralbody_SS2_B113700_B133089_LinNe...  TSP2_BM_vertebralbody_SS2_B113700_B133089_LinN...  \n",
       "TSP2_BM_vertebralbody_SS2_B113700_B133089_LinNe...  TSP2_BM_vertebralbody_SS2_B113700_B133089_LinN...  \n",
       "TSP2_BM_vertebralbody_SS2_B113700_B133089_LinNe...  TSP2_BM_vertebralbody_SS2_B113700_B133089_LinN...  "
      ]
     },
     "execution_count": 20,
     "metadata": {},
     "output_type": "execute_result"
    }
   ],
   "source": [
    "adata.obs.head()"
   ]
  },
  {
   "cell_type": "markdown",
   "metadata": {},
   "source": [
    "Convert ensembl ids to gene symbol"
   ]
  },
  {
   "cell_type": "code",
   "execution_count": 21,
   "metadata": {},
   "outputs": [
    {
     "data": {
      "text/plain": [
       "Index(['ENSG00000000003.14', 'ENSG00000000005.6', 'ENSG00000000419.12',\n",
       "       'ENSG00000000457.14', 'ENSG00000000460.17', 'ENSG00000000938.13',\n",
       "       'ENSG00000000971.15', 'ENSG00000001036.13', 'ENSG00000001084.12',\n",
       "       'ENSG00000001167.14',\n",
       "       ...\n",
       "       'ERCC-00157', 'ERCC-00158', 'ERCC-00160', 'ERCC-00162', 'ERCC-00163',\n",
       "       'ERCC-00164', 'ERCC-00165', 'ERCC-00168', 'ERCC-00170', 'ERCC-00171'],\n",
       "      dtype='object', length=58962)"
      ]
     },
     "execution_count": 21,
     "metadata": {},
     "output_type": "execute_result"
    }
   ],
   "source": [
    "adata.var_names"
   ]
  },
  {
   "cell_type": "code",
   "execution_count": null,
   "metadata": {},
   "outputs": [],
   "source": [
    "# adata.var['ensembl_id'] = adata.var_names\n",
    "# adata.var['ensembls'] = [g.split(\".\")[0] for g in adata.var['ensembl_id']]\n",
    "# adata.var"
   ]
  },
  {
   "cell_type": "code",
   "execution_count": null,
   "metadata": {
    "scrolled": true
   },
   "outputs": [],
   "source": [
    "# adata = convert_ensembl_symbol(adata);"
   ]
  },
  {
   "cell_type": "code",
   "execution_count": 22,
   "metadata": {},
   "outputs": [
    {
     "name": "stderr",
     "output_type": "stream",
     "text": [
      "... storing 'pilot' as categorical\n",
      "... storing 'Tissue' as categorical\n",
      "... storing 'AnatomicalPosition' as categorical\n",
      "... storing 'method' as categorical\n",
      "... storing 'cDNAPlate' as categorical\n",
      "... storing 'LibraryPlateID' as categorical\n",
      "... storing 'population' as categorical\n",
      "... storing 'well_seq' as categorical\n"
     ]
    },
    {
     "data": {
      "text/plain": [
       "AnnData object with n_obs × n_vars = 7661 × 58962 \n",
       "    obs: 'pilot', 'Tissue', 'AnatomicalPosition', 'method', 'cDNAPlate', 'LibraryPlateID', 'population', 'well_seq', 'cell_id'"
      ]
     },
     "execution_count": 22,
     "metadata": {},
     "output_type": "execute_result"
    }
   ],
   "source": [
    "adata.write_h5ad('/mnt/ibm_lg/angela/sapiens/TSP2/smartseq2/TSP2_SS2_no_official_metadata_unfiltered_raw_batch2.h5ad')\n",
    "adata"
   ]
  },
  {
   "cell_type": "markdown",
   "metadata": {},
   "source": [
    "# QC batch 2"
   ]
  },
  {
   "cell_type": "code",
   "execution_count": null,
   "metadata": {},
   "outputs": [],
   "source": [
    "adata = sc.read_h5ad(\n",
    "    '/mnt/ibm_lg/angela/sapiens/TSP2/smartseq2/TSP2_SS2_no_official_metadata_unfiltered_raw_batch2.h5ad')\n",
    "adata"
   ]
  },
  {
   "cell_type": "code",
   "execution_count": 23,
   "metadata": {},
   "outputs": [
    {
     "name": "stdout",
     "output_type": "stream",
     "text": [
      "filtered out 2874 cells that have less than 200 genes expressed\n",
      "filtered out 293 cells that have less than 5000 counts\n"
     ]
    },
    {
     "data": {
      "text/plain": [
       "AnnData object with n_obs × n_vars = 4494 × 58962 \n",
       "    obs: 'pilot', 'Tissue', 'AnatomicalPosition', 'method', 'cDNAPlate', 'LibraryPlateID', 'population', 'well_seq', 'cell_id', 'n_genes', 'n_counts'\n",
       "    var: 'n_cells'"
      ]
     },
     "execution_count": 23,
     "metadata": {},
     "output_type": "execute_result"
    }
   ],
   "source": [
    "sc.pp.filter_cells(adata, min_genes=200)\n",
    "sc.pp.filter_cells(adata, min_counts=5000)\n",
    "sc.pp.filter_genes(adata, min_cells=0)\n",
    "\n",
    "adata"
   ]
  },
  {
   "cell_type": "code",
   "execution_count": 24,
   "metadata": {},
   "outputs": [
    {
     "data": {
      "text/html": [
       "<div>\n",
       "<style scoped>\n",
       "    .dataframe tbody tr th:only-of-type {\n",
       "        vertical-align: middle;\n",
       "    }\n",
       "\n",
       "    .dataframe tbody tr th {\n",
       "        vertical-align: top;\n",
       "    }\n",
       "\n",
       "    .dataframe thead th {\n",
       "        text-align: right;\n",
       "    }\n",
       "</style>\n",
       "<table border=\"1\" class=\"dataframe\">\n",
       "  <thead>\n",
       "    <tr style=\"text-align: right;\">\n",
       "      <th></th>\n",
       "      <th>pilot</th>\n",
       "      <th>AnatomicalPosition</th>\n",
       "      <th>method</th>\n",
       "      <th>cDNAPlate</th>\n",
       "      <th>LibraryPlateID</th>\n",
       "      <th>population</th>\n",
       "      <th>well_seq</th>\n",
       "      <th>cell_id</th>\n",
       "      <th>n_genes</th>\n",
       "      <th>n_counts</th>\n",
       "    </tr>\n",
       "    <tr>\n",
       "      <th>Tissue</th>\n",
       "      <th></th>\n",
       "      <th></th>\n",
       "      <th></th>\n",
       "      <th></th>\n",
       "      <th></th>\n",
       "      <th></th>\n",
       "      <th></th>\n",
       "      <th></th>\n",
       "      <th></th>\n",
       "      <th></th>\n",
       "    </tr>\n",
       "  </thead>\n",
       "  <tbody>\n",
       "    <tr>\n",
       "      <th>BM</th>\n",
       "      <td>329</td>\n",
       "      <td>329</td>\n",
       "      <td>329</td>\n",
       "      <td>329</td>\n",
       "      <td>329</td>\n",
       "      <td>329</td>\n",
       "      <td>329</td>\n",
       "      <td>329</td>\n",
       "      <td>329</td>\n",
       "      <td>329</td>\n",
       "    </tr>\n",
       "    <tr>\n",
       "      <th>Blood</th>\n",
       "      <td>560</td>\n",
       "      <td>560</td>\n",
       "      <td>560</td>\n",
       "      <td>560</td>\n",
       "      <td>560</td>\n",
       "      <td>560</td>\n",
       "      <td>560</td>\n",
       "      <td>560</td>\n",
       "      <td>560</td>\n",
       "      <td>560</td>\n",
       "    </tr>\n",
       "    <tr>\n",
       "      <th>Kidney</th>\n",
       "      <td>163</td>\n",
       "      <td>163</td>\n",
       "      <td>163</td>\n",
       "      <td>163</td>\n",
       "      <td>163</td>\n",
       "      <td>163</td>\n",
       "      <td>163</td>\n",
       "      <td>163</td>\n",
       "      <td>163</td>\n",
       "      <td>163</td>\n",
       "    </tr>\n",
       "    <tr>\n",
       "      <th>LI</th>\n",
       "      <td>394</td>\n",
       "      <td>394</td>\n",
       "      <td>394</td>\n",
       "      <td>394</td>\n",
       "      <td>394</td>\n",
       "      <td>394</td>\n",
       "      <td>394</td>\n",
       "      <td>394</td>\n",
       "      <td>394</td>\n",
       "      <td>394</td>\n",
       "    </tr>\n",
       "    <tr>\n",
       "      <th>LungNeuron</th>\n",
       "      <td>298</td>\n",
       "      <td>298</td>\n",
       "      <td>298</td>\n",
       "      <td>298</td>\n",
       "      <td>298</td>\n",
       "      <td>298</td>\n",
       "      <td>298</td>\n",
       "      <td>298</td>\n",
       "      <td>298</td>\n",
       "      <td>298</td>\n",
       "    </tr>\n",
       "    <tr>\n",
       "      <th>LymphNode</th>\n",
       "      <td>953</td>\n",
       "      <td>953</td>\n",
       "      <td>953</td>\n",
       "      <td>953</td>\n",
       "      <td>953</td>\n",
       "      <td>953</td>\n",
       "      <td>953</td>\n",
       "      <td>953</td>\n",
       "      <td>953</td>\n",
       "      <td>953</td>\n",
       "    </tr>\n",
       "    <tr>\n",
       "      <th>Muscle</th>\n",
       "      <td>238</td>\n",
       "      <td>238</td>\n",
       "      <td>238</td>\n",
       "      <td>238</td>\n",
       "      <td>238</td>\n",
       "      <td>238</td>\n",
       "      <td>238</td>\n",
       "      <td>238</td>\n",
       "      <td>238</td>\n",
       "      <td>238</td>\n",
       "    </tr>\n",
       "    <tr>\n",
       "      <th>SI</th>\n",
       "      <td>161</td>\n",
       "      <td>161</td>\n",
       "      <td>161</td>\n",
       "      <td>161</td>\n",
       "      <td>161</td>\n",
       "      <td>161</td>\n",
       "      <td>161</td>\n",
       "      <td>161</td>\n",
       "      <td>161</td>\n",
       "      <td>161</td>\n",
       "    </tr>\n",
       "    <tr>\n",
       "      <th>Spleen</th>\n",
       "      <td>588</td>\n",
       "      <td>588</td>\n",
       "      <td>588</td>\n",
       "      <td>588</td>\n",
       "      <td>588</td>\n",
       "      <td>588</td>\n",
       "      <td>588</td>\n",
       "      <td>588</td>\n",
       "      <td>588</td>\n",
       "      <td>588</td>\n",
       "    </tr>\n",
       "    <tr>\n",
       "      <th>Thymus</th>\n",
       "      <td>413</td>\n",
       "      <td>413</td>\n",
       "      <td>413</td>\n",
       "      <td>413</td>\n",
       "      <td>413</td>\n",
       "      <td>413</td>\n",
       "      <td>413</td>\n",
       "      <td>413</td>\n",
       "      <td>413</td>\n",
       "      <td>413</td>\n",
       "    </tr>\n",
       "    <tr>\n",
       "      <th>Trachea</th>\n",
       "      <td>124</td>\n",
       "      <td>124</td>\n",
       "      <td>124</td>\n",
       "      <td>124</td>\n",
       "      <td>124</td>\n",
       "      <td>124</td>\n",
       "      <td>124</td>\n",
       "      <td>124</td>\n",
       "      <td>124</td>\n",
       "      <td>124</td>\n",
       "    </tr>\n",
       "    <tr>\n",
       "      <th>Vasculature</th>\n",
       "      <td>273</td>\n",
       "      <td>273</td>\n",
       "      <td>273</td>\n",
       "      <td>273</td>\n",
       "      <td>273</td>\n",
       "      <td>273</td>\n",
       "      <td>273</td>\n",
       "      <td>273</td>\n",
       "      <td>273</td>\n",
       "      <td>273</td>\n",
       "    </tr>\n",
       "  </tbody>\n",
       "</table>\n",
       "</div>"
      ],
      "text/plain": [
       "             pilot  AnatomicalPosition  method  cDNAPlate  LibraryPlateID  \\\n",
       "Tissue                                                                      \n",
       "BM             329                 329     329        329             329   \n",
       "Blood          560                 560     560        560             560   \n",
       "Kidney         163                 163     163        163             163   \n",
       "LI             394                 394     394        394             394   \n",
       "LungNeuron     298                 298     298        298             298   \n",
       "LymphNode      953                 953     953        953             953   \n",
       "Muscle         238                 238     238        238             238   \n",
       "SI             161                 161     161        161             161   \n",
       "Spleen         588                 588     588        588             588   \n",
       "Thymus         413                 413     413        413             413   \n",
       "Trachea        124                 124     124        124             124   \n",
       "Vasculature    273                 273     273        273             273   \n",
       "\n",
       "             population  well_seq  cell_id  n_genes  n_counts  \n",
       "Tissue                                                         \n",
       "BM                  329       329      329      329       329  \n",
       "Blood               560       560      560      560       560  \n",
       "Kidney              163       163      163      163       163  \n",
       "LI                  394       394      394      394       394  \n",
       "LungNeuron          298       298      298      298       298  \n",
       "LymphNode           953       953      953      953       953  \n",
       "Muscle              238       238      238      238       238  \n",
       "SI                  161       161      161      161       161  \n",
       "Spleen              588       588      588      588       588  \n",
       "Thymus              413       413      413      413       413  \n",
       "Trachea             124       124      124      124       124  \n",
       "Vasculature         273       273      273      273       273  "
      ]
     },
     "execution_count": 24,
     "metadata": {},
     "output_type": "execute_result"
    }
   ],
   "source": [
    "adata.obs.groupby('Tissue').count()"
   ]
  },
  {
   "cell_type": "code",
   "execution_count": 26,
   "metadata": {},
   "outputs": [
    {
     "data": {
      "text/plain": [
       "59.0"
      ]
     },
     "execution_count": 26,
     "metadata": {},
     "output_type": "execute_result"
    }
   ],
   "source": [
    "np.round(4494/7656*100)"
   ]
  },
  {
   "cell_type": "code",
   "execution_count": 27,
   "metadata": {},
   "outputs": [
    {
     "data": {
      "text/plain": [
       "(5029.0, 200)"
      ]
     },
     "execution_count": 27,
     "metadata": {},
     "output_type": "execute_result"
    }
   ],
   "source": [
    "np.min(adata.obs[\"n_counts\"]),np.min(adata.obs[\"n_genes\"])"
   ]
  },
  {
   "cell_type": "code",
   "execution_count": 28,
   "metadata": {},
   "outputs": [
    {
     "data": {
      "text/plain": [
       "AnnData object with n_obs × n_vars = 4494 × 58962 \n",
       "    obs: 'pilot', 'Tissue', 'AnatomicalPosition', 'method', 'cDNAPlate', 'LibraryPlateID', 'population', 'well_seq', 'cell_id', 'n_genes', 'n_counts'\n",
       "    var: 'n_cells'"
      ]
     },
     "execution_count": 28,
     "metadata": {},
     "output_type": "execute_result"
    }
   ],
   "source": [
    "adata.write(\n",
    "    '/mnt/ibm_lg/angela/sapiens/TSP2/smartseq2/TSP2_SS2_no_official_metadata_filtered_raw_batch2.h5ad')\n",
    "adata"
   ]
  },
  {
   "cell_type": "code",
   "execution_count": null,
   "metadata": {},
   "outputs": [],
   "source": [
    "adata = sc.read_h5ad(\n",
    "    '/mnt/ibm_lg/angela/sapiens/TSP2/smartseq2/TSP2_SS2_no_official_metadata_filtered_raw_batch2.h5ad')\n",
    "adata"
   ]
  },
  {
   "cell_type": "code",
   "execution_count": null,
   "metadata": {},
   "outputs": [],
   "source": [
    "adata.obs.groupby('Tissue').count()"
   ]
  },
  {
   "cell_type": "code",
   "execution_count": null,
   "metadata": {},
   "outputs": [],
   "source": [
    "np.min(adata.obs[\"n_counts\"]),np.min(adata.obs[\"n_genes\"])"
   ]
  },
  {
   "cell_type": "code",
   "execution_count": null,
   "metadata": {},
   "outputs": [],
   "source": [
    "4639/7661*100"
   ]
  },
  {
   "cell_type": "code",
   "execution_count": null,
   "metadata": {},
   "outputs": [],
   "source": [
    "mt_gene_mask = [gene.startswith('MT-') for gene in adata.var_names]\n",
    "adata.obs['mt_frac'] = adata.X[:, mt_gene_mask].sum(1)/adata.obs['n_counts']"
   ]
  },
  {
   "cell_type": "code",
   "execution_count": null,
   "metadata": {},
   "outputs": [],
   "source": [
    "ercc_gene_mask = [gene.startswith('ERCC') for gene in adata.var_names]\n",
    "adata.obs['ercc_frac'] = adata.X[:, ercc_gene_mask].sum(1)/adata.obs['n_counts']"
   ]
  },
  {
   "cell_type": "code",
   "execution_count": null,
   "metadata": {},
   "outputs": [],
   "source": [
    "sc.pl.violin(adata, 'n_counts', groupby='Tissue', size=2, log=True, cut=0)\n",
    "sc.pl.violin(adata, 'mt_frac', groupby='Tissue')\n",
    "\n",
    "sc.pl.scatter(adata, 'n_counts', 'n_genes', color='mt_frac')\n",
    "\n",
    "sns.distplot(adata.obs['n_counts'], kde=False)\n",
    "sns.distplot(adata.obs['n_genes'], kde=False, bins=60)"
   ]
  },
  {
   "cell_type": "code",
   "execution_count": null,
   "metadata": {},
   "outputs": [],
   "source": [
    "#Keep the count data in a counts layer\n",
    "adata.layers[\"counts\"] = adata.X.copy()"
   ]
  },
  {
   "cell_type": "code",
   "execution_count": null,
   "metadata": {},
   "outputs": [],
   "source": [
    "sc.pp.normalize_per_cell(adata, counts_per_cell_after=1e6)\n",
    "sc.pp.log1p(adata)\n",
    "sc.pp.pca(adata, n_comps=50)\n",
    "sc.pp.neighbors(adata)\n",
    "sc.tl.umap(adata)\n",
    "# sc.tl.louvain(adata, key_added='groups', resolution=0.5)"
   ]
  },
  {
   "cell_type": "code",
   "execution_count": null,
   "metadata": {},
   "outputs": [],
   "source": [
    "adata.obs.head()"
   ]
  },
  {
   "cell_type": "code",
   "execution_count": null,
   "metadata": {
    "scrolled": false
   },
   "outputs": [],
   "source": [
    "sc.pl.umap(adata,color = ['Tissue','AnatomicalPosition','population'],ncols=1)\n",
    "sc.pl.umap(adata,color = ['PECAM1','PTPRC'], cmap='Oranges')\n",
    "sc.pl.umap(adata,color = ['n_genes','n_counts','mt_frac','ercc_frac'],cmap='Oranges',ncols=2)"
   ]
  },
  {
   "cell_type": "code",
   "execution_count": null,
   "metadata": {},
   "outputs": [],
   "source": [
    "pd.DataFrame(adata.obs.groupby(['Tissue'])['cell_id'].count())"
   ]
  },
  {
   "cell_type": "code",
   "execution_count": null,
   "metadata": {},
   "outputs": [],
   "source": [
    "adata.write_h5ad(\n",
    "    '/mnt/ibm_lg/angela/sapiens/TSP2/smartseq2/TSP2_SS2_no_official_metadata_counts_layer_processed_X_batch2.h5ad')\n",
    "adata"
   ]
  },
  {
   "cell_type": "code",
   "execution_count": null,
   "metadata": {},
   "outputs": [],
   "source": []
  },
  {
   "cell_type": "code",
   "execution_count": null,
   "metadata": {},
   "outputs": [],
   "source": []
  },
  {
   "cell_type": "code",
   "execution_count": null,
   "metadata": {},
   "outputs": [],
   "source": []
  },
  {
   "cell_type": "code",
   "execution_count": null,
   "metadata": {},
   "outputs": [],
   "source": []
  },
  {
   "cell_type": "code",
   "execution_count": null,
   "metadata": {},
   "outputs": [],
   "source": []
  }
 ],
 "metadata": {
  "kernelspec": {
   "display_name": "Python 3",
   "language": "python",
   "name": "python3"
  },
  "language_info": {
   "codemirror_mode": {
    "name": "ipython",
    "version": 3
   },
   "file_extension": ".py",
   "mimetype": "text/x-python",
   "name": "python",
   "nbconvert_exporter": "python",
   "pygments_lexer": "ipython3",
   "version": "3.7.4"
  },
  "toc": {
   "base_numbering": 1,
   "nav_menu": {},
   "number_sections": true,
   "sideBar": true,
   "skip_h1_title": false,
   "title_cell": "Table of Contents",
   "title_sidebar": "Contents",
   "toc_cell": false,
   "toc_position": {},
   "toc_section_display": true,
   "toc_window_display": false
  }
 },
 "nbformat": 4,
 "nbformat_minor": 2
}
