{
 "cells": [
  {
   "cell_type": "markdown",
   "metadata": {},
   "source": [
    "# Imports"
   ]
  },
  {
   "cell_type": "code",
   "execution_count": 1,
   "metadata": {},
   "outputs": [
    {
     "name": "stdout",
     "output_type": "stream",
     "text": [
      "WARNING: If you miss a compact list, please try `print_header`!\n",
      "-----\n",
      "anndata     0.7.4\n",
      "scanpy      1.6.0\n",
      "sinfo       0.3.1\n",
      "-----\n",
      "PIL                 8.0.0\n",
      "anndata             0.7.4\n",
      "autoreload          NA\n",
      "backcall            0.2.0\n",
      "cffi                1.14.3\n",
      "cycler              0.10.0\n",
      "cython_runtime      NA\n",
      "dateutil            2.8.1\n",
      "decorator           4.4.2\n",
      "get_version         2.1\n",
      "h5py                2.10.0\n",
      "igraph              0.8.3\n",
      "ipykernel           5.3.4\n",
      "ipython_genutils    0.2.0\n",
      "ipywidgets          7.5.1\n",
      "jedi                0.17.2\n",
      "joblib              0.17.0\n",
      "kiwisolver          1.2.0\n",
      "legacy_api_wrap     1.2\n",
      "llvmlite            0.34.0\n",
      "louvain             0.7.0\n",
      "matplotlib          3.3.2\n",
      "mpl_toolkits        NA\n",
      "natsort             7.0.1\n",
      "numba               0.51.2\n",
      "numexpr             2.7.1\n",
      "numpy               1.19.2\n",
      "packaging           20.4\n",
      "pandas              1.1.3\n",
      "parso               0.7.1\n",
      "pexpect             4.8.0\n",
      "pickleshare         0.7.5\n",
      "pkg_resources       NA\n",
      "prompt_toolkit      3.0.8\n",
      "ptyprocess          0.6.0\n",
      "pycparser           2.20\n",
      "pygments            2.7.1\n",
      "pyparsing           2.4.7\n",
      "pytz                2020.1\n",
      "scanpy              1.6.0\n",
      "scipy               1.5.2\n",
      "seaborn             0.11.0\n",
      "setuptools_scm      NA\n",
      "sinfo               0.3.1\n",
      "six                 1.15.0\n",
      "sklearn             0.23.2\n",
      "statsmodels         0.12.0\n",
      "storemagic          NA\n",
      "tables              3.6.1\n",
      "texttable           1.6.3\n",
      "tornado             6.0.4\n",
      "tqdm                4.50.2\n",
      "traitlets           5.0.5\n",
      "umap                0.4.6\n",
      "wcwidth             0.2.5\n",
      "yaml                5.3.1\n",
      "zmq                 19.0.2\n",
      "-----\n",
      "IPython             7.18.1\n",
      "jupyter_client      6.1.7\n",
      "jupyter_core        4.6.3\n",
      "notebook            6.1.4\n",
      "-----\n",
      "Python 3.8.6 | packaged by conda-forge | (default, Oct  7 2020, 19:08:05) [GCC 7.5.0]\n",
      "Linux-4.15.0-91-generic-x86_64-with-glibc2.10\n",
      "128 logical CPU cores, x86_64\n",
      "-----\n",
      "Session information updated at 2020-10-27 12:40\n",
      "\n"
     ]
    }
   ],
   "source": [
    "%load_ext autoreload\n",
    "%autoreload 2\n",
    "import glob\n",
    "import os\n",
    "\n",
    "import matplotlib.pyplot as plt\n",
    "import numpy as np\n",
    "import scanpy as sc\n",
    "import pandas as pd\n",
    "import seaborn as sns\n",
    "from sklearn.metrics.pairwise import nan_euclidean_distances\n",
    "from sklearn.metrics import pairwise_distances, pairwise_distances_chunked\n",
    "from sklearn.metrics import silhouette_score\n",
    "from tqdm import tqdm\n",
    "\n",
    "import umap\n",
    "\n",
    "sc.settings.verbosity = 4\n",
    "#sc.set_figure_params(dpi=200, dpi_save=300)\n",
    "sc.logging.print_versions()\n",
    "sc.set_figure_params(frameon=False, color_map='magma_r')\n",
    "\n",
    "import splicing_utils\n"
   ]
  },
  {
   "cell_type": "markdown",
   "metadata": {},
   "source": [
    "## Data folder"
   ]
  },
  {
   "cell_type": "code",
   "execution_count": 2,
   "metadata": {},
   "outputs": [
    {
     "name": "stdout",
     "output_type": "stream",
     "text": [
      "total 1.5G\r\n",
      "drwxr-xr-x 3 olga czb 4.0K Oct 13 11:04 .\r\n",
      "drwxr-xr-x 7 olga czb 4.0K Oct 13 10:48 ..\r\n",
      "drwxr-xr-x 2 olga czb 4.0K Oct 13 11:05 concatenated\r\n",
      "-rw-r--r-- 1 olga czb 690M Oct 13 10:15 TSP1_10x_nopanc_with_postprocessing_shared_sym_S_0.1_z_0.0_b_5.pq\r\n",
      "-rw-r--r-- 1 olga czb 803M Oct 13 10:14 TSP2_10x_3prime_with_postprocessing_shared_sym_S_0.1_z_0.0_b_5.pq\r\n"
     ]
    }
   ],
   "source": [
    "splicing_folder = '/home/olga/data_sm/splicing/rawdata/rijk_zscore__2020-10-13'\n",
    "! ls -lha $splicing_folder"
   ]
  },
  {
   "cell_type": "markdown",
   "metadata": {},
   "source": [
    "## 2d splicing data"
   ]
  },
  {
   "cell_type": "code",
   "execution_count": 3,
   "metadata": {},
   "outputs": [
    {
     "name": "stdout",
     "output_type": "stream",
     "text": [
      "total 699M\r\n",
      "drwxr-xr-x 2 olga czb 4.0K Oct 13 11:05 .\r\n",
      "drwxr-xr-x 3 olga czb 4.0K Oct 13 11:04 ..\r\n",
      "-rw-r--r-- 1 olga czb  21M Oct 13 11:05 tabula_sapiens_10x_splicing_2d.parquet\r\n",
      "-rw-r--r-- 1 olga czb 679M Oct 13 11:05 tabula_sapiens_10x_splicing_tidy.parquet\r\n"
     ]
    }
   ],
   "source": [
    "concatenated_splicing_folder = f'{splicing_folder}/concatenated'\n",
    "! ls -lha  $concatenated_splicing_folder"
   ]
  },
  {
   "cell_type": "markdown",
   "metadata": {},
   "source": [
    "## Read h5ad"
   ]
  },
  {
   "cell_type": "markdown",
   "metadata": {},
   "source": [
    "### Try new adata"
   ]
  },
  {
   "cell_type": "code",
   "execution_count": null,
   "metadata": {},
   "outputs": [],
   "source": [
    "# h5ad = '/home/olga/Pilot1_Pilot2_filtered_ensembl_id_Aug5.ss2_norm.ann.compartment.allgenes.h5ad'\n",
    "\n",
    "# Newest, freshest data\n",
    "h5ad2 = '/home/olga/data_sm/tabula-sapiens/data-objects/Pilot1_Pilot2.decontX.h5ad'\n",
    "adata = sc.read(h5ad2)\n",
    "adata"
   ]
  },
  {
   "cell_type": "markdown",
   "metadata": {},
   "source": [
    "### Clean to only 10x data and clean the cell id"
   ]
  },
  {
   "cell_type": "code",
   "execution_count": null,
   "metadata": {},
   "outputs": [],
   "source": [
    "adata_10x = adata[adata.obs.method == \"10X\"]\n",
    "adata_10x.obs = adata_10x.obs.set_index('cell_id')\n",
    "adata_10x.obs.head()"
   ]
  },
  {
   "cell_type": "markdown",
   "metadata": {},
   "source": [
    "## Read 2d splicing matrix"
   ]
  },
  {
   "cell_type": "code",
   "execution_count": null,
   "metadata": {},
   "outputs": [],
   "source": [
    "splicing2d = pd.read_parquet(f'{concatenated_splicing_folder}/tabula_sapiens_10x_splicing_2d.parquet')\n",
    "# Update cell ids\n",
    "# splicing2d.index = splicing2d.index.str.rstrip('_0123456789')\n",
    "print(splicing2d.shape)\n",
    "splicing2d.head()"
   ]
  },
  {
   "cell_type": "code",
   "execution_count": null,
   "metadata": {},
   "outputs": [],
   "source": [
    "adata_10x.obs.head()"
   ]
  },
  {
   "cell_type": "markdown",
   "metadata": {},
   "source": [
    "## Get a comon indx of shared cells"
   ]
  },
  {
   "cell_type": "code",
   "execution_count": null,
   "metadata": {},
   "outputs": [],
   "source": [
    "common_index = splicing2d.index.intersection(adata_10x.obs.index)\n",
    "len(common_index)"
   ]
  },
  {
   "cell_type": "markdown",
   "metadata": {},
   "source": [
    "### Subset the adata"
   ]
  },
  {
   "cell_type": "code",
   "execution_count": null,
   "metadata": {},
   "outputs": [],
   "source": [
    "adata_with_splicing = adata_10x[common_index]\n",
    "print(adata_with_splicing)\n",
    "adata_with_splicing.obs.head()"
   ]
  },
  {
   "cell_type": "markdown",
   "metadata": {},
   "source": [
    "### Subset the splicing data"
   ]
  },
  {
   "cell_type": "code",
   "execution_count": null,
   "metadata": {},
   "outputs": [],
   "source": [
    "splicing2d_common = splicing2d.loc[common_index]\n",
    "print(splicing2d_common.shape)\n",
    "splicing2d_common"
   ]
  },
  {
   "cell_type": "markdown",
   "metadata": {},
   "source": [
    "## Subset to just lung, do donor by donor"
   ]
  },
  {
   "cell_type": "code",
   "execution_count": null,
   "metadata": {},
   "outputs": [],
   "source": [
    "adata_with_splicing_lung = adata_with_splicing[\n",
    "    (adata_with_splicing.obs.tissue == \"Lung\") & (adata_with_splicing.obs.donor == \"TSP1\")\n",
    "]\n",
    "adata_with_splicing_lung"
   ]
  },
  {
   "cell_type": "code",
   "execution_count": null,
   "metadata": {},
   "outputs": [],
   "source": [
    "adata_with_splicing_lung.obs.groupby('donor').size()"
   ]
  },
  {
   "cell_type": "code",
   "execution_count": null,
   "metadata": {},
   "outputs": [],
   "source": [
    "splicing2d_lung = splicing2d.loc[adata_with_splicing_lung.obs.index]\n",
    "splicing2d_lung.shape"
   ]
  },
  {
   "cell_type": "markdown",
   "metadata": {},
   "source": [
    "## filter splicing data"
   ]
  },
  {
   "cell_type": "markdown",
   "metadata": {},
   "source": [
    "### Filter on number of cells per gene"
   ]
  },
  {
   "cell_type": "code",
   "execution_count": null,
   "metadata": {},
   "outputs": [],
   "source": [
    "n_cells_per_gene = splicing2d_lung.notnull().sum()\n",
    "print(n_cells_per_gene.describe())\n",
    "sns.distplot(n_cells_per_gene)"
   ]
  },
  {
   "cell_type": "code",
   "execution_count": null,
   "metadata": {},
   "outputs": [],
   "source": [
    "n_genes_per_cell = splicing2d_lung.notnull().sum(axis=1)\n",
    "print(n_genes_per_cell.describe())\n",
    "sns.distplot(n_genes_per_cell)"
   ]
  },
  {
   "cell_type": "code",
   "execution_count": null,
   "metadata": {},
   "outputs": [],
   "source": [
    "splicing2d_lung_min_genes_cells = splicing2d_lung.loc[n_genes_per_cell >= 75, n_cells_per_gene >= 100]\n",
    "splicing2d_lung_min_genes_cells.shape"
   ]
  },
  {
   "cell_type": "markdown",
   "metadata": {},
   "source": [
    "## Make sure important genes are present"
   ]
  },
  {
   "cell_type": "code",
   "execution_count": null,
   "metadata": {},
   "outputs": [],
   "source": [
    "gene_subset = ['CAST', #'ATP5F1C', 'CALD', \n",
    "               'ATP5C1',\n",
    "               'MYL6', 'RPS24', 'CD47', \n",
    "               'PFDN5']"
   ]
  },
  {
   "cell_type": "code",
   "execution_count": null,
   "metadata": {},
   "outputs": [],
   "source": [
    "# splicing2d[gene_subset]"
   ]
  },
  {
   "cell_type": "code",
   "execution_count": null,
   "metadata": {},
   "outputs": [],
   "source": [
    "splicing2d_lung_subset = splicing2d_lung[gene_subset]\n",
    "splicing2d_lung_subset = splicing2d_lung_subset.loc[splicing2d_lung_subset.notnull().sum(axis=1) >= 3, :]\n",
    "print(splicing2d_lung_subset.shape)\n",
    "splicing2d_lung_subset.head()"
   ]
  },
  {
   "cell_type": "markdown",
   "metadata": {},
   "source": [
    "## Subset adata to only cells with enough splicing"
   ]
  },
  {
   "cell_type": "code",
   "execution_count": null,
   "metadata": {},
   "outputs": [],
   "source": [
    "adata_with_splicing_subset = adata_with_splicing_lung[splicing2d_lung_subset.index]\n",
    "adata_with_splicing_subset"
   ]
  },
  {
   "cell_type": "markdown",
   "metadata": {},
   "source": [
    "## SKIP - Subsample to 50% of data"
   ]
  },
  {
   "cell_type": "code",
   "execution_count": null,
   "metadata": {},
   "outputs": [],
   "source": [
    "# splicing2d_muscle_min_genes_cells_subset = splicing2d_muscle_min_genes_cells.sample(frac=0.5)\n",
    "# splicing2d_subset.shape"
   ]
  },
  {
   "cell_type": "code",
   "execution_count": null,
   "metadata": {},
   "outputs": [],
   "source": [
    "adata_with_splicing_subset.obs.groupby(['donor', 'tissue']).size()"
   ]
  },
  {
   "cell_type": "code",
   "execution_count": null,
   "metadata": {},
   "outputs": [],
   "source": [
    "adata_with_splicing_subset.obs.groupby(['donor', 'tissue', 'Propagated.Annotationcollapsed'], observed=True).size()"
   ]
  },
  {
   "cell_type": "code",
   "execution_count": null,
   "metadata": {},
   "outputs": [],
   "source": [
    "%%time\n",
    "import splicing_utils\n",
    "splicing2d_subset_distances = splicing_utils.compute_distances_df(splicing2d_lung_subset, n_jobs=32, metric=\"euclidean\")\n",
    "print(splicing2d_subset_distances.shape)\n",
    "splicing2d_subset_distances.head()"
   ]
  },
  {
   "cell_type": "markdown",
   "metadata": {},
   "source": [
    "# Do UMAP"
   ]
  },
  {
   "cell_type": "code",
   "execution_count": null,
   "metadata": {},
   "outputs": [],
   "source": [
    "%%time\n",
    "\n",
    "umapper = umap.UMAP(metric='precomputed', verbose=True)\n",
    "umapped = umapper.fit_transform(splicing2d_subset_distances)\n",
    "umapped.shape"
   ]
  },
  {
   "cell_type": "code",
   "execution_count": null,
   "metadata": {},
   "outputs": [],
   "source": [
    "umapped.shape"
   ]
  },
  {
   "cell_type": "code",
   "execution_count": null,
   "metadata": {},
   "outputs": [],
   "source": [
    "adata_with_splicing_subset.obsm['X_umap_splicing'] = umapped"
   ]
  },
  {
   "cell_type": "markdown",
   "metadata": {},
   "source": [
    "## Plot UMAP"
   ]
  },
  {
   "cell_type": "code",
   "execution_count": null,
   "metadata": {},
   "outputs": [],
   "source": [
    "# adata_with_splicing_subset.uns['']"
   ]
  },
  {
   "cell_type": "code",
   "execution_count": null,
   "metadata": {},
   "outputs": [],
   "source": [
    "UMAP_COLOR = ['tissue', 'compartment_pred_svm', 'donor']\n",
    "\n",
    "sc.pl.embedding(adata_with_splicing_subset, basis='X_umap_splicing', color=UMAP_COLOR)\n",
    "sc.pl.embedding(adata_with_splicing_subset, basis='X_umap_splicing', color='Propagated.Annotationcollapsed')"
   ]
  },
  {
   "cell_type": "markdown",
   "metadata": {},
   "source": [
    "### BBKNN"
   ]
  },
  {
   "cell_type": "markdown",
   "metadata": {},
   "source": [
    "## BBKNN on expression data"
   ]
  },
  {
   "cell_type": "code",
   "execution_count": null,
   "metadata": {},
   "outputs": [],
   "source": [
    "# sc.tl.pca(adata, n_comps=200)"
   ]
  },
  {
   "cell_type": "code",
   "execution_count": null,
   "metadata": {},
   "outputs": [],
   "source": [
    "# sc.external.pp.bbknn(adata, batch_key='donor')"
   ]
  },
  {
   "cell_type": "markdown",
   "metadata": {},
   "source": [
    "## Function to compute silhouette scores"
   ]
  },
  {
   "cell_type": "code",
   "execution_count": null,
   "metadata": {},
   "outputs": [],
   "source": [
    "def compute_silhoutte_vs_col(adata, silhouette_cols, umapped, label, metric='euclidean', n_iter=100):\n",
    "    lines = []\n",
    "    sample_size = int(umapped.shape[0]/2)\n",
    "    for i in tqdm(range(n_iter)):\n",
    "        for col in silhouette_cols: \n",
    "            silhouette = silhouette_score(umapped, adata.obs[col], metric=metric, sample_size=sample_size, \n",
    "                                          random_state=i)\n",
    "            lines.append([label, col, silhouette, i])\n",
    "    df = pd.DataFrame(lines, columns=['label', 'group', 'silhoutte_score', 'iteration'])\n",
    "    return df"
   ]
  },
  {
   "cell_type": "code",
   "execution_count": null,
   "metadata": {},
   "outputs": [],
   "source": [
    "silhouette_cols = UMAP_COLOR + ['Propagated.Annotationcollapsed']"
   ]
  },
  {
   "cell_type": "code",
   "execution_count": null,
   "metadata": {},
   "outputs": [],
   "source": [
    "silhouette_cols = ['compartment_pred_svm', 'donor', 'Propagated.Annotationcollapsed']\n",
    "silhouette_cols"
   ]
  },
  {
   "cell_type": "markdown",
   "metadata": {},
   "source": [
    "### Compute silhouette on KNN distances of graph"
   ]
  },
  {
   "cell_type": "code",
   "execution_count": null,
   "metadata": {},
   "outputs": [],
   "source": [
    "adata_with_splicing_subset"
   ]
  },
  {
   "cell_type": "code",
   "execution_count": null,
   "metadata": {},
   "outputs": [],
   "source": [
    "%%time\n",
    "\n",
    "silhouette_bbknn = compute_silhoutte_vs_col(\n",
    "    adata_with_splicing_subset, silhouette_cols, \n",
    "    adata_with_splicing_subset.obsp['distances'].todense(), \n",
    "    label='bbknn_distances', metric='precomputed'\n",
    ")\n",
    "silhouette_bbknn"
   ]
  },
  {
   "cell_type": "markdown",
   "metadata": {},
   "source": [
    "### Comput silhouette on splicing distances"
   ]
  },
  {
   "cell_type": "code",
   "execution_count": null,
   "metadata": {},
   "outputs": [],
   "source": [
    "%%time\n",
    "\n",
    "silhouette_splicing = compute_silhoutte_vs_col(\n",
    "    adata_with_splicing_subset, silhouette_cols, splicing2d_subset_distances, label='splicing_distances', metric='precomputed'\n",
    ")\n",
    "silhouette_splicing"
   ]
  },
  {
   "cell_type": "code",
   "execution_count": null,
   "metadata": {},
   "outputs": [],
   "source": [
    "# %%time\n",
    "\n",
    "# silhouette_scvi = compute_silhoutte_vs_col(\n",
    "#     adata_with_splicing_subset, silhouette_cols, adata_with_splicing_subset.obsm['X_scvi'], label='expression_scvi', \n",
    "# )\n",
    "# silhouette_scvi"
   ]
  },
  {
   "cell_type": "markdown",
   "metadata": {},
   "source": [
    "### SKIP - Calculating on expression values takes too long - can't even complete 1 iteration in a reasonable time (<1h)"
   ]
  },
  {
   "cell_type": "code",
   "execution_count": null,
   "metadata": {},
   "outputs": [],
   "source": [
    "# %%time\n",
    "\n",
    "# silhouette_genes = compute_silhoutte_vs_col(\n",
    "#     adata_with_splicing_subset, \n",
    "#     silhouette_cols, \n",
    "#     adata_with_splicing_subset.X, \n",
    "#     label='expression_euclidean', \n",
    "#     metric='euclidean',\n",
    "#     n_iter=10,\n",
    "# )\n",
    "# silhouette_genes"
   ]
  },
  {
   "cell_type": "markdown",
   "metadata": {},
   "source": [
    "## Concatenate silhouette scores"
   ]
  },
  {
   "cell_type": "code",
   "execution_count": null,
   "metadata": {},
   "outputs": [],
   "source": [
    "silhoutte_concatenated = pd.concat(\n",
    "    [\n",
    "        silhouette_splicing, \n",
    "#         silhouette_scvi, \n",
    "        silhouette_genes\n",
    "    ]\n",
    ")\n",
    "print(silhoutte_concatenated.shape)\n",
    "silhoutte_concatenated.head()"
   ]
  },
  {
   "cell_type": "markdown",
   "metadata": {},
   "source": [
    "## Plot silhouette scores"
   ]
  },
  {
   "cell_type": "code",
   "execution_count": null,
   "metadata": {},
   "outputs": [],
   "source": [
    "sns.catplot(\n",
    "    y='label',\n",
    "    x='silhoutte_score',\n",
    "    hue='label',\n",
    "    col='group',\n",
    "    data=silhoutte_concatenated,\n",
    "    kind='box',\n",
    ")"
   ]
  },
  {
   "cell_type": "markdown",
   "metadata": {},
   "source": [
    "## Plot silhouette scores"
   ]
  },
  {
   "cell_type": "code",
   "execution_count": null,
   "metadata": {},
   "outputs": [],
   "source": [
    "sns.catplot(\n",
    "    y='label',\n",
    "    x='silhoutte_score',\n",
    "    hue='group',\n",
    "    col='label',\n",
    "    data=silhoutte_concatenated,\n",
    "    kind='box',\n",
    ")"
   ]
  },
  {
   "cell_type": "markdown",
   "metadata": {},
   "source": [
    "## bbknn_utils.py"
   ]
  },
  {
   "cell_type": "code",
   "execution_count": null,
   "metadata": {},
   "outputs": [],
   "source": [
    "%%file bbknn_utils.py\n",
    "from typing import Optional, Union\n",
    "\n",
    "\n",
    "import numpy as np\n",
    "from scipy.spatial import cKDTree\n",
    "import bbknn\n",
    "from scipy.sparse import csr_matrix\n",
    "import scanpy as sc\n",
    "from numpy.testing import assert_array_equal, assert_array_compare\n",
    "import operator\n",
    "\n",
    "\n",
    "import numpy as np\n",
    "from anndata import AnnData\n",
    "from sklearn.utils import check_random_state, check_array\n",
    "\n",
    "from scanpy.tools._utils import get_init_pos_from_paga#, _choose_representation\n",
    "from scanpy import logging as logg\n",
    "from scanpy._settings import settings\n",
    "from scanpy._compat import Literal\n",
    "from scanpy._utils import AnyRandom, NeighborsView\n",
    "\n",
    "\n",
    "# Lots of this was stolen from https://github.com/theislab/scanpy/blob/master/scanpy/tools/_umap.py\n",
    "_InitPos = Literal['paga', 'spectral', 'random']\n",
    "\n",
    "\n",
    "def make_graph_from_batch_corrected_distances(distances, batch_list, neighbors_within_batch, approx, metric, use_faiss, n_trees):\n",
    "    '''\n",
    "    Identify the KNN structure to be used in graph construction. All input as in ``bbknn.bbknn()``\n",
    "    and ``bbknn.bbknn_pca_matrix()``. Returns a tuple of distances and indices of neighbours for\n",
    "    each cell.\n",
    "    '''\n",
    "    #get a list of all our batches\n",
    "    batches = np.unique(batch_list)\n",
    "    #in case we're gonna be faissing, turn the data to float32\n",
    "    if metric=='euclidean' and not approx and 'faiss' in sys.modules and use_faiss:\n",
    "        pca = pca.astype('float32')\n",
    "    #create the output matrices, with the indices as integers and distances as floats\n",
    "    knn_distances = np.zeros((distances.shape[0],neighbors_within_batch*len(batches)))\n",
    "    knn_indices = np.copy(knn_distances).astype(int)\n",
    "    #find the knns using faiss/cKDTree/KDTree/annoy\n",
    "    #need to compare each batch against each batch (including itself)\n",
    "    for to_ind in range(len(batches)):\n",
    "        #this is the batch that will be used as the neighbour pool\n",
    "        #create a boolean mask identifying the cells within this batch\n",
    "        #and then get the corresponding row numbers for later use\n",
    "        batch_to = batches[to_ind]\n",
    "        mask_to = batch_list == batch_to\n",
    "        ind_to = np.arange(len(batch_list))[mask_to]\n",
    "        #create the faiss/cKDTree/KDTree/annoy, depending on approx/metric\n",
    "        ckd = bbknn.create_tree(data=distances[mask_to,:],approx=approx,metric=metric,\n",
    "                          use_faiss=use_faiss,n_trees=n_trees)\n",
    "        for from_ind in range(len(batches)):\n",
    "            #this is the batch that will have its neighbours identified\n",
    "            #repeat the mask/row number getting\n",
    "            batch_from = batches[from_ind]\n",
    "            mask_from = batch_list == batch_from\n",
    "            ind_from = np.arange(len(batch_list))[mask_from]\n",
    "            #fish the neighbours out, getting a (distances, indices) tuple back\n",
    "            ckdout = bbknn.query_tree(data=distances[mask_from,:],ckd=ckd,\n",
    "                                neighbors_within_batch=neighbors_within_batch,\n",
    "                                approx=approx,metric=metric,use_faiss=use_faiss)\n",
    "            #the identified indices are relative to the subsetted PCA matrix\n",
    "            #so we need to convert it back to the original row numbers\n",
    "            for i in range(ckdout[1].shape[0]):\n",
    "                for j in range(ckdout[1].shape[1]):\n",
    "                    ckdout[1][i,j] = ind_to[ckdout[1][i,j]]\n",
    "            #save the results within the appropriate rows and columns of the structures\n",
    "            col_range = np.arange(to_ind*neighbors_within_batch, (to_ind+1)*neighbors_within_batch)\n",
    "            knn_indices[ind_from[:,None],col_range[None,:]] = ckdout[1]\n",
    "            knn_distances[ind_from[:,None],col_range[None,:]] = ckdout[0]\n",
    "    return knn_distances, knn_indices\n",
    "\n",
    "\n",
    "def bbknn_distance_matrix(distances, batch_list, neighbors_within_batch=3, trim=None, \n",
    "          approx=True, n_trees=10, use_faiss=True, metric='angular', \n",
    "          set_op_mix_ratio=1, local_connectivity=1):\n",
    "    '''\n",
    "    Scanpy-independent BBKNN variant that runs on a PCA matrix and list of per-cell batch assignments instead of\n",
    "    an AnnData object. Non-data-entry arguments behave the same way as ``bbknn.bbknn()``.\n",
    "    Returns a ``(distances, connectivities)`` tuple, like what would have been stored in the AnnData object.\n",
    "    The connectivities are the actual neighbourhood graph.\n",
    "    \n",
    "    Input\n",
    "    -----\n",
    "    pca : ``numpy.array``\n",
    "        PCA (or other dimensionality reduction) coordinates for each cell, with cells as rows.\n",
    "    batch_list : ``numpy.array`` or ``list``\n",
    "        A list of batch assignments for each cell.\n",
    "    '''\n",
    "    #more basic sanity checks/processing\n",
    "    #do we have the same number of cells in pca and batch_list?\n",
    "    if distances.shape[0] != len(batch_list):\n",
    "        raise ValueError(\"Different cell counts indicated by `distances.shape[0]` and `len(batch_list)`.\")\n",
    "    #convert batch_list to np.array of strings for ease of mask making later\n",
    "    batch_list = np.asarray([str(i) for i in batch_list])\n",
    "    #metric sanity checks (duplicating the ones in bbknn(), but without scanpy logging)\n",
    "    if approx and metric not in ['angular', 'euclidean', 'manhattan', 'hamming']:\n",
    "        print('unrecognised metric for type of neighbor calculation, switching to angular')\n",
    "        metric = 'angular'\n",
    "    elif not approx and not (metric=='euclidean' or isinstance(metric,DistanceMetric) or metric in KDTree.valid_metrics):\n",
    "        print('unrecognised metric for type of neighbor calculation, switching to euclidean')\n",
    "        metric = 'euclidean'\n",
    "    #obtain the batch balanced KNN graph\n",
    "    knn_distances, knn_indices = make_graph_from_batch_corrected_distances(\n",
    "        distances, \n",
    "        batch_list=batch_list, \n",
    "        n_trees=n_trees,\n",
    "        approx=approx,\n",
    "        metric=metric,\n",
    "        use_faiss=use_faiss,\n",
    "        neighbors_within_batch=neighbors_within_batch)\n",
    "    #sort the neighbours so that they're actually in order from closest to furthest\n",
    "    newidx = np.argsort(knn_distances,axis=1)\n",
    "    knn_indices = knn_indices[np.arange(np.shape(knn_indices)[0])[:,np.newaxis],newidx]\n",
    "    knn_distances = knn_distances[np.arange(np.shape(knn_distances)[0])[:,np.newaxis],newidx] \n",
    "    #this part of the processing is akin to scanpy.api.neighbors()\n",
    "    dist, cnts = bbknn.compute_connectivities_umap(knn_indices, knn_distances, knn_indices.shape[0], \n",
    "                                             knn_indices.shape[1], set_op_mix_ratio=set_op_mix_ratio,\n",
    "                                             local_connectivity=local_connectivity)\n",
    "    #trimming. compute default range if absent\n",
    "    if trim is None:\n",
    "        trim = 10 * knn_distances.shape[1]\n",
    "    #skip trimming if set to 0, otherwise trim\n",
    "    if trim > 0:\n",
    "        cnts = bbknn.trimming(cnts=cnts,trim=trim)\n",
    "    return (dist, cnts)\n",
    "\n",
    "\n",
    "def assign_neighbors(ad, neighbors_key, knn_distances, knn_indices, set_use_rep=True):\n",
    "    \"\"\"Add bbknn-corrected neighbors to specific keybor key\"\"\"\n",
    "    ad.uns[neighbors_key] = {}\n",
    "    #we'll have a zero distance for our cell of origin, and nonzero for every other neighbour computed\n",
    "    ad.uns[neighbors_key]['params'] = {\n",
    "        'n_neighbors': len(knn_distances[0,:].data)+1, \n",
    "        'method': 'umap', \n",
    "        # Need this to force UMAP to use the raw data as the representation\n",
    "         'use_rep': \"X\"\n",
    "    }\n",
    "    distances_key = f'{neighbors_key}__distances'\n",
    "    connectivities_key = f'{neighbors_key}__connectivities'\n",
    "    ad.obsp[distances_key] = knn_distances\n",
    "    ad.obsp[connectivities_key] = csr_matrix(knn_indices)\n",
    "    ad.uns[neighbors_key]['distances_key'] = distances_key\n",
    "    ad.uns[neighbors_key]['connectivities_key'] = connectivities_key\n",
    "#     ad.uns[neighbors_key]['distances'] = knn_distances\n",
    "#     ad.uns[neighbors_key]['connectivities'] = csr_matrix(knn_indices)\n",
    "    ad.uns[neighbors_key]['params'] = {}\n",
    "    ad.uns[neighbors_key]['params']['metric'] = 'precomputed'\n",
    "    ad.uns[neighbors_key]['params']['method'] = 'bbknn'\n",
    "    if set_use_rep:\n",
    "        ad.uns[neighbors_key]['params']['use_rep'] = neighbors_key\n",
    "\n",
    "    return ad\n",
    "\n",
    "\n",
    "def bbknn_distance_matrix_and_assign_adata(\n",
    "    distances, \n",
    "    adata, \n",
    "    neighbors_key='neighbors', \n",
    "    batch_key='donor',\n",
    "    color=['tissue', 'compartment_pred_svm', 'donor', 'Propagated Annotation'],\n",
    "#     color=['narrow_group', 'donor', 'PTPRC', 'SFTPC', 'n_counts', 'n_genes'],\n",
    "    COUNTS_BASED_UMAP_COORDS=None,\n",
    "    neighbors_within_batch=15,\n",
    "    set_use_rep=True,\n",
    "    **kwargs,\n",
    "):\n",
    "    index = distances.index\n",
    "    distances = distances.loc[index]\n",
    "    \n",
    "    batch_list = adata.obs.loc[index, batch_key].tolist()\n",
    "    print(f\"len(batch_list): {len(batch_list)}\")\n",
    "\n",
    "    # Subtract similarity to get a distance\n",
    "    knn_distances, knn_indices = bbknn_distance_matrix(\n",
    "        distances=distances.values, batch_list=batch_list, neighbors_within_batch=neighbors_within_batch)\n",
    "    \n",
    "#     import pdb; pdb.set_trace()\n",
    "    adata = assign_neighbors(adata, neighbors_key, knn_distances, knn_indices, set_use_rep=set_use_rep)\n",
    "\n",
    "    sc.tl.umap(adata, neighbors_key=neighbors_key, **kwargs)\n",
    "    \n",
    "    if COUNTS_BASED_UMAP_COORDS is not None:\n",
    "        assert_array_compare(operator.__ne__, COUNTS_BASED_UMAP_COORDS, adata.obsm['X_umap'])\n",
    " \n",
    "    for col in color:\n",
    "        sc.pl.umap(adata, neighbors_key=neighbors_key,\n",
    "                   color=col, ncols=2)\n"
   ]
  },
  {
   "cell_type": "markdown",
   "metadata": {},
   "source": [
    "## Run bbknn on splicing dis5tances"
   ]
  },
  {
   "cell_type": "code",
   "execution_count": null,
   "metadata": {},
   "outputs": [],
   "source": [
    "import bbknn_utils\n",
    "\n",
    "\n",
    "bbknn_utils.bbknn_distance_matrix_and_assign_adata(\n",
    "    splicing2d_subset_distances, \n",
    "    adata_with_splicing_subset, \n",
    "    neighbors_key='splicing', \n",
    "#     neighbors_within_batch=n_neighbors, \n",
    "#         COUNTS_BASED_UMAP_COORDS=COUNTS_BASED_UMAP_COORDS,\n",
    "    set_use_rep=False,\n",
    "    color=silhouette_cols,\n",
    ")"
   ]
  },
  {
   "cell_type": "markdown",
   "metadata": {},
   "source": [
    "# Compute silhouette scores"
   ]
  },
  {
   "cell_type": "code",
   "execution_count": null,
   "metadata": {},
   "outputs": [],
   "source": [
    "adata_with_splicing_subset"
   ]
  },
  {
   "cell_type": "markdown",
   "metadata": {},
   "source": [
    "### Splicing BBKNN"
   ]
  },
  {
   "cell_type": "code",
   "execution_count": null,
   "metadata": {},
   "outputs": [],
   "source": [
    "%%time\n",
    "\n",
    "silhouette_splicing_bbknn = compute_silhoutte_vs_col(\n",
    "    adata_with_splicing_subset, \n",
    "    silhouette_cols, \n",
    "    adata_with_splicing_subset.obsp['splicing__distances'].todense(), \n",
    "    label='splicing_distances_bbknn', \n",
    "    metric='precomputed'\n",
    ")\n",
    "silhouette_splicing_bbknn"
   ]
  },
  {
   "cell_type": "markdown",
   "metadata": {},
   "source": [
    "### Expression BBKNN"
   ]
  },
  {
   "cell_type": "code",
   "execution_count": null,
   "metadata": {},
   "outputs": [],
   "source": [
    "# %%time\n",
    "\n",
    "# silhouette_genes_bbknn = compute_silhoutte_vs_col(\n",
    "#     adata_with_splicing_subset, silhouette_cols, \n",
    "#     adata_with_splicing_subset.obsp['distances'], label='expression_distances_bbknn', metric='precomputed'\n",
    "# )\n",
    "# silhouette_genes_bbknn"
   ]
  },
  {
   "cell_type": "code",
   "execution_count": null,
   "metadata": {},
   "outputs": [],
   "source": []
  },
  {
   "cell_type": "markdown",
   "metadata": {},
   "source": [
    "## Concatenate silhouette scores"
   ]
  },
  {
   "cell_type": "code",
   "execution_count": null,
   "metadata": {},
   "outputs": [],
   "source": [
    "silhoutte_concatenated_bbknn = pd.concat(\n",
    "    [\n",
    "        silhouette_bbknn,\n",
    "        silhouette_splicing_bbknn, \n",
    "#         silhouette_scvi, \n",
    "        silhouette_splicing,\n",
    "        \n",
    "    ]\n",
    ")\n",
    "print(silhoutte_concatenated_bbknn.shape)\n",
    "silhoutte_concatenated_bbknn.head()"
   ]
  },
  {
   "cell_type": "markdown",
   "metadata": {},
   "source": [
    "## Plot silhouette scores"
   ]
  },
  {
   "cell_type": "code",
   "execution_count": null,
   "metadata": {},
   "outputs": [],
   "source": [
    "sns.catplot(\n",
    "    y='label',\n",
    "    x='silhoutte_score',\n",
    "    hue='label',\n",
    "    col='group',\n",
    "    data=silhoutte_concatenated_bbknn,\n",
    "    kind='box',\n",
    ")"
   ]
  },
  {
   "cell_type": "code",
   "execution_count": null,
   "metadata": {},
   "outputs": [],
   "source": []
  }
 ],
 "metadata": {
  "kernelspec": {
   "display_name": "Python 3",
   "language": "python",
   "name": "python3"
  },
  "language_info": {
   "codemirror_mode": {
    "name": "ipython",
    "version": 3
   },
   "file_extension": ".py",
   "mimetype": "text/x-python",
   "name": "python",
   "nbconvert_exporter": "python",
   "pygments_lexer": "ipython3",
   "version": "3.8.6"
  },
  "toc-autonumbering": true
 },
 "nbformat": 4,
 "nbformat_minor": 4
}
