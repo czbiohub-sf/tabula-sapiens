{
 "cells": [
  {
   "cell_type": "markdown",
   "metadata": {},
   "source": [
    "# load necessary pacakges"
   ]
  },
  {
   "cell_type": "code",
   "execution_count": 1,
   "metadata": {},
   "outputs": [],
   "source": [
    "import sys\n",
    "import os \n",
    "\n",
    "sys.path.append('/data/yosef2/users/chenling/scVI/')\n",
    "sys.path.append('/data/yosef2/users/chenling/tabula-sapiens/')\n",
    "import anndata\n",
    "\n",
    "from scvi.dataset import AnnDatasetFromAnnData\n",
    "from utils.annotations_utils import *\n",
    "from anndata import read_h5ad\n",
    "import scanpy as sc\n",
    "\n",
    "retrain=False\n",
    "\n",
    "import matplotlib\n",
    "%matplotlib inline\n",
    "from copy import deepcopy"
   ]
  },
  {
   "cell_type": "code",
   "execution_count": 2,
   "metadata": {},
   "outputs": [],
   "source": [
    "from copy import deepcopy"
   ]
  },
  {
   "cell_type": "markdown",
   "metadata": {},
   "source": [
    "# set and create directories for saving results"
   ]
  },
  {
   "cell_type": "code",
   "execution_count": 3,
   "metadata": {},
   "outputs": [],
   "source": [
    "data_path = '/data/yosef2/users/chenling/TabulaSapiensData/'\n",
    "model_path = '/data/yosef2/users/chenling/TabulaSapiens/scVImodels/'"
   ]
  },
  {
   "cell_type": "code",
   "execution_count": 4,
   "metadata": {},
   "outputs": [],
   "source": [
    "combined = read_h5ad(data_path + 'combined/Pilot1_Pilot2.Final.h5ad')"
   ]
  },
  {
   "cell_type": "markdown",
   "metadata": {},
   "source": [
    "# write to organs"
   ]
  },
  {
   "cell_type": "code",
   "execution_count": 6,
   "metadata": {},
   "outputs": [],
   "source": [
    "# for organ in np.unique(combined.obs['tissue']):\n",
    "#     temp = combined[combined.obs['tissue']==organ]\n",
    "#     if organ=='Skin':\n",
    "#         temp = temp[temp.obs['method']=='smartseq2']\n",
    "#     sc.pp.neighbors(temp, n_neighbors=50, n_pcs=30, use_rep=\"X_scvi\")\n",
    "#     sc.tl.umap(temp)\n",
    "#     temp.write_h5ad(data_path + 'combined/Pilot1_Pilot2.Final.%s.h5ad'%organ)"
   ]
  },
  {
   "cell_type": "code",
   "execution_count": 7,
   "metadata": {},
   "outputs": [
    {
     "data": {
      "text/plain": [
       "array(['Bladder', 'Blood', 'Bone_Marrow', 'Kidney', 'Large_Intestine',\n",
       "       'Lung', 'Lymph_Node', 'Muscle', 'Pancreas', 'Skin',\n",
       "       'Small_Intestine', 'Spleen', 'Thymus', 'Trachea', 'Vasculature'],\n",
       "      dtype=object)"
      ]
     },
     "execution_count": 7,
     "metadata": {},
     "output_type": "execute_result"
    }
   ],
   "source": [
    "np.unique(combined.obs['tissue'])"
   ]
  },
  {
   "cell_type": "code",
   "execution_count": 8,
   "metadata": {},
   "outputs": [
    {
     "data": {
      "text/plain": [
       "array(['Bladder', 'Blood', 'Bone_Marrow', 'Kidney', 'Large_Intestine',\n",
       "       'Lung', 'Lymph_Node', 'Muscle', 'Pancreas', 'Skin',\n",
       "       'Small_Intestine', 'Spleen', 'Thymus', 'Trachea', 'Vasculature'],\n",
       "      dtype=object)"
      ]
     },
     "execution_count": 8,
     "metadata": {},
     "output_type": "execute_result"
    }
   ],
   "source": [
    "np.unique(combined.obs['tissue'])"
   ]
  },
  {
   "cell_type": "code",
   "execution_count": 11,
   "metadata": {},
   "outputs": [
    {
     "name": "stdout",
     "output_type": "stream",
     "text": [
      "Lymph_Node\n"
     ]
    },
    {
     "name": "stderr",
     "output_type": "stream",
     "text": [
      "Trying to set attribute `.var` of view, copying.\n"
     ]
    },
    {
     "name": "stdout",
     "output_type": "stream",
     "text": [
      "[2020-07-08 10:12:03,318] INFO - scvi.dataset.dataset | Remapping labels to [0,N]\n",
      "[2020-07-08 10:12:03,320] INFO - scvi.dataset.dataset | Remapping batch_indices to [0,N]\n",
      "[2020-07-08 10:12:03,802] INFO - scvi.dataset.dataset | Computing the library size for the new data\n",
      "[2020-07-08 10:12:04,267] INFO - scvi.dataset.dataset | Downsampled from 10057 to 10057 cells\n",
      "[2020-07-08 10:12:04,661] INFO - scvi.dataset.dataset | Downsampling from 37773 to 24764 genes\n",
      "[2020-07-08 10:12:05,627] INFO - scvi.dataset.dataset | Computing the library size for the new data\n",
      "[2020-07-08 10:12:06,023] INFO - scvi.dataset.dataset | Filtering non-expressing cells.\n",
      "[2020-07-08 10:12:06,930] INFO - scvi.dataset.dataset | Computing the library size for the new data\n",
      "[2020-07-08 10:12:07,336] INFO - scvi.dataset.dataset | Downsampled from 10057 to 10057 cells\n",
      "[2020-07-08 10:12:07,337] INFO - scvi.dataset.dataset | extracting highly variable genes\n"
     ]
    },
    {
     "name": "stderr",
     "output_type": "stream",
     "text": [
      "Transforming to str index.\n"
     ]
    },
    {
     "name": "stdout",
     "output_type": "stream",
     "text": [
      "[2020-07-08 10:12:43,429] INFO - scvi.dataset.dataset | Downsampling from 24764 to 2011 genes\n",
      "[2020-07-08 10:12:43,681] INFO - scvi.dataset.dataset | Computing the library size for the new data\n",
      "[2020-07-08 10:12:43,691] INFO - scvi.dataset.dataset | Filtering non-expressing cells.\n",
      "[2020-07-08 10:12:43,739] INFO - scvi.dataset.dataset | Computing the library size for the new data\n",
      "[2020-07-08 10:12:43,747] INFO - scvi.dataset.dataset | Downsampled from 10057 to 10057 cells\n",
      "Muscle\n"
     ]
    },
    {
     "name": "stderr",
     "output_type": "stream",
     "text": [
      "Trying to set attribute `.var` of view, copying.\n"
     ]
    },
    {
     "name": "stdout",
     "output_type": "stream",
     "text": [
      "[2020-07-08 10:21:06,391] INFO - scvi.dataset.dataset | Remapping labels to [0,N]\n",
      "[2020-07-08 10:21:06,394] INFO - scvi.dataset.dataset | Remapping batch_indices to [0,N]\n",
      "[2020-07-08 10:21:09,530] INFO - scvi.dataset.dataset | Computing the library size for the new data\n",
      "[2020-07-08 10:21:10,566] INFO - scvi.dataset.dataset | Downsampled from 21653 to 21653 cells\n",
      "[2020-07-08 10:21:10,949] INFO - scvi.dataset.dataset | Downsampling from 49339 to 24271 genes\n",
      "[2020-07-08 10:21:13,319] INFO - scvi.dataset.dataset | Computing the library size for the new data\n",
      "[2020-07-08 10:21:14,292] INFO - scvi.dataset.dataset | Filtering non-expressing cells.\n",
      "[2020-07-08 10:21:17,185] INFO - scvi.dataset.dataset | Computing the library size for the new data\n",
      "[2020-07-08 10:21:17,590] INFO - scvi.dataset.dataset | Downsampled from 21653 to 21653 cells\n",
      "[2020-07-08 10:21:17,593] INFO - scvi.dataset.dataset | extracting highly variable genes\n"
     ]
    },
    {
     "name": "stderr",
     "output_type": "stream",
     "text": [
      "Transforming to str index.\n"
     ]
    },
    {
     "name": "stdout",
     "output_type": "stream",
     "text": [
      "[2020-07-08 10:22:35,968] INFO - scvi.dataset.dataset | Downsampling from 24271 to 4330 genes\n",
      "[2020-07-08 10:22:36,681] INFO - scvi.dataset.dataset | Computing the library size for the new data\n",
      "[2020-07-08 10:22:36,722] INFO - scvi.dataset.dataset | Filtering non-expressing cells.\n",
      "[2020-07-08 10:22:37,012] INFO - scvi.dataset.dataset | Computing the library size for the new data\n",
      "[2020-07-08 10:22:37,050] INFO - scvi.dataset.dataset | Downsampled from 21653 to 21653 cells\n",
      "Pancreas\n"
     ]
    },
    {
     "name": "stderr",
     "output_type": "stream",
     "text": [
      "Trying to set attribute `.var` of view, copying.\n"
     ]
    },
    {
     "name": "stdout",
     "output_type": "stream",
     "text": [
      "[2020-07-08 10:26:36,511] INFO - scvi.dataset.dataset | Remapping labels to [0,N]\n",
      "[2020-07-08 10:26:36,513] INFO - scvi.dataset.dataset | Remapping batch_indices to [0,N]\n",
      "[2020-07-08 10:26:37,689] INFO - scvi.dataset.dataset | Computing the library size for the new data\n",
      "[2020-07-08 10:26:38,273] INFO - scvi.dataset.dataset | Downsampled from 8890 to 8890 cells\n",
      "[2020-07-08 10:26:38,550] INFO - scvi.dataset.dataset | Downsampling from 51464 to 29775 genes\n",
      "[2020-07-08 10:26:39,588] INFO - scvi.dataset.dataset | Computing the library size for the new data\n",
      "[2020-07-08 10:26:40,030] INFO - scvi.dataset.dataset | Filtering non-expressing cells.\n",
      "[2020-07-08 10:26:41,144] INFO - scvi.dataset.dataset | Computing the library size for the new data\n",
      "[2020-07-08 10:26:41,414] INFO - scvi.dataset.dataset | Downsampled from 8890 to 8890 cells\n",
      "[2020-07-08 10:26:41,415] INFO - scvi.dataset.dataset | extracting highly variable genes\n"
     ]
    },
    {
     "name": "stderr",
     "output_type": "stream",
     "text": [
      "Transforming to str index.\n"
     ]
    },
    {
     "name": "stdout",
     "output_type": "stream",
     "text": [
      "[2020-07-08 10:27:21,957] INFO - scvi.dataset.dataset | Downsampling from 29775 to 4445 genes\n",
      "[2020-07-08 10:27:22,294] INFO - scvi.dataset.dataset | Computing the library size for the new data\n",
      "[2020-07-08 10:27:22,309] INFO - scvi.dataset.dataset | Filtering non-expressing cells.\n",
      "[2020-07-08 10:27:22,394] INFO - scvi.dataset.dataset | Computing the library size for the new data\n",
      "[2020-07-08 10:27:22,404] INFO - scvi.dataset.dataset | Downsampled from 8890 to 8890 cells\n",
      "Skin\n"
     ]
    },
    {
     "name": "stderr",
     "output_type": "stream",
     "text": [
      "Trying to set attribute `.var` of view, copying.\n"
     ]
    },
    {
     "name": "stdout",
     "output_type": "stream",
     "text": [
      "[2020-07-08 10:28:42,792] INFO - scvi.dataset.anndataset | Dense size under 1Gb, casting to dense format (np.ndarray).\n",
      "[2020-07-08 10:28:43,127] INFO - scvi.dataset.dataset | Remapping labels to [0,N]\n",
      "[2020-07-08 10:28:43,129] INFO - scvi.dataset.dataset | Remapping batch_indices to [0,N]\n",
      "[2020-07-08 10:28:43,824] INFO - scvi.dataset.dataset | Computing the library size for the new data\n",
      "[2020-07-08 10:28:43,903] INFO - scvi.dataset.dataset | Downsampled from 856 to 856 cells\n",
      "[2020-07-08 10:28:44,154] INFO - scvi.dataset.dataset | Downsampling from 39804 to 39804 genes\n",
      "[2020-07-08 10:28:45,230] INFO - scvi.dataset.dataset | Computing the library size for the new data\n",
      "[2020-07-08 10:28:45,438] INFO - scvi.dataset.dataset | Filtering non-expressing cells.\n",
      "[2020-07-08 10:28:46,087] INFO - scvi.dataset.dataset | Computing the library size for the new data\n",
      "[2020-07-08 10:28:46,148] INFO - scvi.dataset.dataset | Downsampled from 856 to 856 cells\n",
      "[2020-07-08 10:28:46,150] INFO - scvi.dataset.dataset | extracting highly variable genes\n"
     ]
    },
    {
     "name": "stderr",
     "output_type": "stream",
     "text": [
      "Transforming to str index.\n"
     ]
    },
    {
     "name": "stdout",
     "output_type": "stream",
     "text": [
      "[2020-07-08 10:28:55,204] INFO - scvi.dataset.dataset | Downsampling from 39804 to 428 genes\n",
      "[2020-07-08 10:28:55,241] INFO - scvi.dataset.dataset | Computing the library size for the new data\n",
      "[2020-07-08 10:28:55,244] INFO - scvi.dataset.dataset | Filtering non-expressing cells.\n",
      "[2020-07-08 10:28:55,255] INFO - scvi.dataset.dataset | Computing the library size for the new data\n",
      "[2020-07-08 10:28:55,257] INFO - scvi.dataset.dataset | Downsampled from 856 to 856 cells\n",
      "Small_Intestine\n"
     ]
    },
    {
     "name": "stderr",
     "output_type": "stream",
     "text": [
      "Trying to set attribute `.var` of view, copying.\n"
     ]
    },
    {
     "name": "stdout",
     "output_type": "stream",
     "text": [
      "[2020-07-08 10:30:52,599] INFO - scvi.dataset.dataset | Remapping labels to [0,N]\n",
      "[2020-07-08 10:30:52,601] INFO - scvi.dataset.dataset | Remapping batch_indices to [0,N]\n",
      "[2020-07-08 10:30:53,177] INFO - scvi.dataset.dataset | Computing the library size for the new data\n",
      "[2020-07-08 10:30:53,535] INFO - scvi.dataset.dataset | Downsampled from 9542 to 9542 cells\n",
      "[2020-07-08 10:30:53,607] INFO - scvi.dataset.dataset | Downsampling from 46820 to 29375 genes\n",
      "[2020-07-08 10:30:54,133] INFO - scvi.dataset.dataset | Computing the library size for the new data\n",
      "[2020-07-08 10:30:54,345] INFO - scvi.dataset.dataset | Filtering non-expressing cells.\n",
      "[2020-07-08 10:30:54,985] INFO - scvi.dataset.dataset | Computing the library size for the new data\n",
      "[2020-07-08 10:30:55,039] INFO - scvi.dataset.dataset | Downsampled from 9542 to 9542 cells\n",
      "[2020-07-08 10:30:55,040] INFO - scvi.dataset.dataset | extracting highly variable genes\n"
     ]
    },
    {
     "name": "stderr",
     "output_type": "stream",
     "text": [
      "Transforming to str index.\n"
     ]
    },
    {
     "name": "stdout",
     "output_type": "stream",
     "text": [
      "[2020-07-08 10:31:34,806] INFO - scvi.dataset.dataset | Downsampling from 29375 to 4771 genes\n",
      "[2020-07-08 10:31:34,994] INFO - scvi.dataset.dataset | Computing the library size for the new data\n",
      "[2020-07-08 10:31:35,006] INFO - scvi.dataset.dataset | Filtering non-expressing cells.\n",
      "[2020-07-08 10:31:35,071] INFO - scvi.dataset.dataset | Computing the library size for the new data\n",
      "[2020-07-08 10:31:35,080] INFO - scvi.dataset.dataset | Downsampled from 9542 to 9542 cells\n",
      "Spleen\n"
     ]
    },
    {
     "name": "stderr",
     "output_type": "stream",
     "text": [
      "Trying to set attribute `.var` of view, copying.\n"
     ]
    },
    {
     "name": "stdout",
     "output_type": "stream",
     "text": [
      "[2020-07-08 10:34:03,161] INFO - scvi.dataset.dataset | Remapping labels to [0,N]\n",
      "[2020-07-08 10:34:03,163] INFO - scvi.dataset.dataset | Remapping batch_indices to [0,N]\n",
      "[2020-07-08 10:34:03,579] INFO - scvi.dataset.dataset | Computing the library size for the new data\n",
      "[2020-07-08 10:34:03,633] INFO - scvi.dataset.dataset | Downsampled from 8160 to 8160 cells\n",
      "[2020-07-08 10:34:03,706] INFO - scvi.dataset.dataset | Downsampling from 41245 to 26316 genes\n",
      "[2020-07-08 10:34:04,148] INFO - scvi.dataset.dataset | Computing the library size for the new data\n",
      "[2020-07-08 10:34:04,204] INFO - scvi.dataset.dataset | Filtering non-expressing cells.\n",
      "[2020-07-08 10:34:04,598] INFO - scvi.dataset.dataset | Computing the library size for the new data\n",
      "[2020-07-08 10:34:04,652] INFO - scvi.dataset.dataset | Downsampled from 8160 to 8160 cells\n",
      "[2020-07-08 10:34:04,653] INFO - scvi.dataset.dataset | extracting highly variable genes\n"
     ]
    },
    {
     "name": "stderr",
     "output_type": "stream",
     "text": [
      "Transforming to str index.\n"
     ]
    },
    {
     "name": "stdout",
     "output_type": "stream",
     "text": [
      "[2020-07-08 10:34:31,082] INFO - scvi.dataset.dataset | Downsampling from 26316 to 4080 genes\n",
      "[2020-07-08 10:34:31,254] INFO - scvi.dataset.dataset | Computing the library size for the new data\n",
      "[2020-07-08 10:34:31,266] INFO - scvi.dataset.dataset | Filtering non-expressing cells.\n",
      "[2020-07-08 10:34:31,338] INFO - scvi.dataset.dataset | Computing the library size for the new data\n",
      "[2020-07-08 10:34:31,350] INFO - scvi.dataset.dataset | Downsampled from 8160 to 8160 cells\n",
      "Thymus\n"
     ]
    },
    {
     "name": "stderr",
     "output_type": "stream",
     "text": [
      "Trying to set attribute `.var` of view, copying.\n"
     ]
    },
    {
     "name": "stdout",
     "output_type": "stream",
     "text": [
      "[2020-07-08 10:38:01,048] INFO - scvi.dataset.dataset | Remapping labels to [0,N]\n",
      "[2020-07-08 10:38:01,050] INFO - scvi.dataset.dataset | Remapping batch_indices to [0,N]\n",
      "[2020-07-08 10:38:01,963] INFO - scvi.dataset.dataset | Computing the library size for the new data\n",
      "[2020-07-08 10:38:02,432] INFO - scvi.dataset.dataset | Downsampled from 12884 to 12884 cells\n",
      "[2020-07-08 10:38:02,694] INFO - scvi.dataset.dataset | Downsampling from 44271 to 27012 genes\n",
      "[2020-07-08 10:38:03,842] INFO - scvi.dataset.dataset | Computing the library size for the new data\n",
      "[2020-07-08 10:38:03,932] INFO - scvi.dataset.dataset | Filtering non-expressing cells.\n",
      "[2020-07-08 10:38:04,676] INFO - scvi.dataset.dataset | Computing the library size for the new data\n",
      "[2020-07-08 10:38:04,901] INFO - scvi.dataset.dataset | Downsampled from 12884 to 12884 cells\n",
      "[2020-07-08 10:38:04,902] INFO - scvi.dataset.dataset | extracting highly variable genes\n"
     ]
    },
    {
     "name": "stderr",
     "output_type": "stream",
     "text": [
      "Transforming to str index.\n"
     ]
    },
    {
     "name": "stdout",
     "output_type": "stream",
     "text": [
      "[2020-07-08 10:38:52,522] INFO - scvi.dataset.dataset | Downsampling from 27012 to 2576 genes\n",
      "[2020-07-08 10:38:52,732] INFO - scvi.dataset.dataset | Computing the library size for the new data\n",
      "[2020-07-08 10:38:52,742] INFO - scvi.dataset.dataset | Filtering non-expressing cells.\n",
      "[2020-07-08 10:38:52,817] INFO - scvi.dataset.dataset | Computing the library size for the new data\n",
      "[2020-07-08 10:38:52,828] INFO - scvi.dataset.dataset | Downsampled from 12884 to 12884 cells\n",
      "Trachea\n"
     ]
    },
    {
     "name": "stderr",
     "output_type": "stream",
     "text": [
      "Trying to set attribute `.var` of view, copying.\n"
     ]
    },
    {
     "name": "stdout",
     "output_type": "stream",
     "text": [
      "[2020-07-08 10:41:18,637] INFO - scvi.dataset.dataset | Remapping labels to [0,N]\n",
      "[2020-07-08 10:41:18,639] INFO - scvi.dataset.dataset | Remapping batch_indices to [0,N]\n",
      "[2020-07-08 10:41:19,045] INFO - scvi.dataset.dataset | Computing the library size for the new data\n",
      "[2020-07-08 10:41:19,104] INFO - scvi.dataset.dataset | Downsampled from 7109 to 7109 cells\n",
      "[2020-07-08 10:41:19,183] INFO - scvi.dataset.dataset | Downsampling from 35252 to 18899 genes\n",
      "[2020-07-08 10:41:19,616] INFO - scvi.dataset.dataset | Computing the library size for the new data\n",
      "[2020-07-08 10:41:19,675] INFO - scvi.dataset.dataset | Filtering non-expressing cells.\n",
      "[2020-07-08 10:41:20,055] INFO - scvi.dataset.dataset | Computing the library size for the new data\n",
      "[2020-07-08 10:41:20,112] INFO - scvi.dataset.dataset | Downsampled from 7109 to 7109 cells\n",
      "[2020-07-08 10:41:20,113] INFO - scvi.dataset.dataset | extracting highly variable genes\n"
     ]
    },
    {
     "name": "stderr",
     "output_type": "stream",
     "text": [
      "Transforming to str index.\n"
     ]
    },
    {
     "name": "stdout",
     "output_type": "stream",
     "text": [
      "[2020-07-08 10:41:37,600] INFO - scvi.dataset.dataset | Downsampling from 18899 to 3554 genes\n",
      "[2020-07-08 10:41:37,785] INFO - scvi.dataset.dataset | Computing the library size for the new data\n",
      "[2020-07-08 10:41:37,797] INFO - scvi.dataset.dataset | Filtering non-expressing cells.\n",
      "[2020-07-08 10:41:37,876] INFO - scvi.dataset.dataset | Computing the library size for the new data\n",
      "[2020-07-08 10:41:37,888] INFO - scvi.dataset.dataset | Downsampled from 7109 to 7109 cells\n",
      "Vasculature\n"
     ]
    },
    {
     "name": "stderr",
     "output_type": "stream",
     "text": [
      "Trying to set attribute `.var` of view, copying.\n"
     ]
    },
    {
     "name": "stdout",
     "output_type": "stream",
     "text": [
      "[2020-07-08 10:45:08,762] INFO - scvi.dataset.dataset | Remapping labels to [0,N]\n",
      "[2020-07-08 10:45:08,782] INFO - scvi.dataset.dataset | Remapping batch_indices to [0,N]\n",
      "[2020-07-08 10:45:10,498] INFO - scvi.dataset.dataset | Computing the library size for the new data\n",
      "[2020-07-08 10:45:11,742] INFO - scvi.dataset.dataset | Downsampled from 8499 to 8499 cells\n",
      "[2020-07-08 10:45:12,912] INFO - scvi.dataset.dataset | Downsampling from 36460 to 21056 genes\n",
      "[2020-07-08 10:45:14,889] INFO - scvi.dataset.dataset | Computing the library size for the new data\n",
      "[2020-07-08 10:45:15,756] INFO - scvi.dataset.dataset | Filtering non-expressing cells.\n",
      "[2020-07-08 10:45:17,504] INFO - scvi.dataset.dataset | Computing the library size for the new data\n",
      "[2020-07-08 10:45:18,652] INFO - scvi.dataset.dataset | Downsampled from 8499 to 8499 cells\n",
      "[2020-07-08 10:45:18,654] INFO - scvi.dataset.dataset | extracting highly variable genes\n"
     ]
    },
    {
     "name": "stderr",
     "output_type": "stream",
     "text": [
      "Transforming to str index.\n"
     ]
    },
    {
     "name": "stdout",
     "output_type": "stream",
     "text": [
      "[2020-07-08 10:46:02,669] INFO - scvi.dataset.dataset | Downsampling from 21056 to 4249 genes\n",
      "[2020-07-08 10:46:02,992] INFO - scvi.dataset.dataset | Computing the library size for the new data\n",
      "[2020-07-08 10:46:03,009] INFO - scvi.dataset.dataset | Filtering non-expressing cells.\n",
      "[2020-07-08 10:46:03,254] INFO - scvi.dataset.dataset | Computing the library size for the new data\n",
      "[2020-07-08 10:46:03,270] INFO - scvi.dataset.dataset | Downsampled from 8499 to 8499 cells\n"
     ]
    },
    {
     "data": {
      "image/png": "[encoded data removed]",
      "text/plain": [
       "<Figure size 432x288 with 1 Axes>"
      ]
     },
     "metadata": {
      "needs_background": "light"
     },
     "output_type": "display_data"
    }
   ],
   "source": [
    "# for organ in np.unique(combined.obs['tissue']):\n",
    "#  'Lung', \n",
    "for organ in ['Lymph_Node', 'Muscle', 'Pancreas', 'Skin',\n",
    "       'Small_Intestine', 'Spleen', 'Thymus', 'Trachea', 'Vasculature']:\n",
    "    print(organ)\n",
    "    organ_data = combined[combined.obs['tissue']==organ]\n",
    "    if organ=='Skin':\n",
    "        organ_data = organ_data[organ_data.obs['method']=='smartseq2']\n",
    "    organ_data = organ_data[organ_data.obs['manual_cell_ontology_class']!='low_quality']\n",
    "    organ_data.X  = organ_data.raw.X\n",
    "    sc.pp.filter_genes(organ_data, min_cells=1)\n",
    "    train_data = scVIdata_preprocess(organ_data, 'donor_tech', 'manual_cell_ontology_class')\n",
    "    train_data.filter_genes_by_count(per_batch=True)\n",
    "    if train_data.X.shape[0]>10000:\n",
    "        train_data.subsample_genes(train_data.X.shape[0]//5)\n",
    "    else:\n",
    "        train_data.subsample_genes(train_data.X.shape[0]//2)\n",
    "    posterior = get_scvi_posterior(train_data, \n",
    "                               model_path+'combined.%s.scVI.subsample_genes.pkl'%organ, \n",
    "                               retrain=retrain, n_epochs=100)\n",
    "    latent = posterior.get_latent()\n",
    "    organ_data.obsm['X_scvi'] = latent[0]\n",
    "    sc.pp.neighbors(organ_data, n_neighbors=100, n_pcs=30, use_rep=\"X_scvi\")\n",
    "    sc.tl.umap(organ_data)\n",
    "    sc.pp.normalize_total(organ_data, target_sum=1e4)\n",
    "    sc.pp.log1p(organ_data)\n",
    "    organ_data.write_h5ad(data_path + 'combined/Pilot1_Pilot2.Final.%s.PerOrgan.h5ad'%organ)\n",
    "\n"
   ]
  },
  {
   "cell_type": "code",
   "execution_count": 13,
   "metadata": {},
   "outputs": [
    {
     "data": {
      "text/plain": [
       "(21652, 50)"
      ]
     },
     "execution_count": 13,
     "metadata": {},
     "output_type": "execute_result"
    }
   ],
   "source": [
    "latent[0].shape"
   ]
  },
  {
   "cell_type": "code",
   "execution_count": 10,
   "metadata": {},
   "outputs": [
    {
     "data": {
      "text/plain": [
       "'Muscle'"
      ]
     },
     "execution_count": 10,
     "metadata": {},
     "output_type": "execute_result"
    }
   ],
   "source": [
    "organ"
   ]
  },
  {
   "cell_type": "code",
   "execution_count": null,
   "metadata": {},
   "outputs": [],
   "source": []
  }
 ],
 "metadata": {
  "kernelspec": {
   "display_name": "p37",
   "language": "python",
   "name": "p37"
  },
  "language_info": {
   "codemirror_mode": {
    "name": "ipython",
    "version": 3
   },
   "file_extension": ".py",
   "mimetype": "text/x-python",
   "name": "python",
   "nbconvert_exporter": "python",
   "pygments_lexer": "ipython3",
   "version": "3.7.5"
  }
 },
 "nbformat": 4,
 "nbformat_minor": 2
}
