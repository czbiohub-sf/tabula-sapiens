{
 "cells": [
  {
   "cell_type": "markdown",
   "metadata": {},
   "source": [
    "# Label propagation\n",
    "Each organ expert group had used cellxgene to annotate celltypes from a cellxgene object. \n",
    "We read in the csv output by cellxgene (this required a little bit of manual engineering because the column names and numbers are not the same) \n",
    "Also skin was a last addition to the dataset, and is derived using a SS2 dataset rather than 10X, so the file names contain skin to differentiate it from previous versions of annotation."
   ]
  },
  {
   "cell_type": "markdown",
   "metadata": {},
   "source": [
    "# load necessary pacakges"
   ]
  },
  {
   "cell_type": "code",
   "execution_count": 1,
   "metadata": {},
   "outputs": [],
   "source": [
    "import sys\n",
    "import os \n",
    "homedir = '/home/ec2-user/'\n",
    "sys.path.append(homedir + 'scVI/')\n",
    "sys.path.append(homedir+'tabula-sapiens/')\n",
    "import anndata\n",
    "\n",
    "from scvi.dataset import AnnDatasetFromAnnData\n",
    "from utils.annotations_utils import *\n",
    "from anndata import read_h5ad\n",
    "import scanpy as sc\n",
    "\n",
    "from copy import deepcopy\n",
    "retrain=False\n",
    "\n",
    "import matplotlib\n",
    "%matplotlib inline"
   ]
  },
  {
   "cell_type": "markdown",
   "metadata": {},
   "source": [
    "# set and create directories for saving results"
   ]
  },
  {
   "cell_type": "code",
   "execution_count": 2,
   "metadata": {},
   "outputs": [],
   "source": [
    "data_path = homedir + 'TabulaSapiensData/'\n",
    "model_path = homedir + 'TabulaSapiens/scVImodels_final/'\n",
    "res_path = homedir + 'TabulaSapiensData/combined/'\n",
    "ann_path =  homedir + 'TabulaSapiensData/Pilot2/ManualAnnotation/'\n",
    "\n",
    "\n",
    "if not os.path.exists(model_path):\n",
    "    os.mkdir(model_path)\n",
    "if not os.path.exists(model_path+'scanvi/'):\n",
    "    os.mkdir(model_path+'scanvi/')\n",
    "if not os.path.exists(res_path):\n",
    "    os.mkdir(res_path)"
   ]
  },
  {
   "cell_type": "markdown",
   "metadata": {},
   "source": [
    "# make annotation file for pilot2\n",
    "This section of the notebook summarizes and concatenate the cellxgene output csv files and generate an annotation file 'Pilot2/pilot2.all.unique.skin.csv' for all Pilot2 datasets."
   ]
  },
  {
   "cell_type": "code",
   "execution_count": 3,
   "metadata": {},
   "outputs": [
    {
     "name": "stdout",
     "output_type": "stream",
     "text": [
      "['TSP2.muscle.Antoine.csv', 'TSP2.spleen.Kimberly.csv', 'TSP2.bladder.Aaron.csv', 'TSP2.thymus.Koki.csv', 'TSP2.vasculature.Ragini.csv', 'TSP2.lung.SoRi.csv', 'TSP2.skin.Kimberly.csv', 'TSP2.bm.MSwift.csv', 'hide', 'TSP2.blood.Sheela.csv', 'TSP2.trachea.William.csv', 'TSP2.li.Zhen.csv', 'TSP2.kidney.Gabe.csv', 'TSP2.lymphnode.Kimberly.csv', 'TSP2.all.unique.csv', 'TSP2.si.Zhen.csv']\n"
     ]
    }
   ],
   "source": [
    "ann_files = os.listdir(ann_path)\n",
    "print(ann_files)"
   ]
  },
  {
   "cell_type": "code",
   "execution_count": 4,
   "metadata": {},
   "outputs": [],
   "source": [
    "pilot2_meta = pd.read_csv(data_path + 'Pilot2/pilot2.meta.csv', index_col=0)"
   ]
  },
  {
   "cell_type": "code",
   "execution_count": 5,
   "metadata": {},
   "outputs": [
    {
     "name": "stdout",
     "output_type": "stream",
     "text": [
      "TSP2.muscle.Antoine.csv\n",
      "(array([16]), array([15689]))\n",
      "TSP2.spleen.Kimberly.csv\n",
      "(array([16]), array([7294]))\n",
      "TSP2.bladder.Aaron.csv\n",
      "(array([16]), array([10334]))\n",
      "TSP2.thymus.Koki.csv\n",
      "(array([16]), array([8035]))\n",
      "TSP2.vasculature.Ragini.csv\n",
      "(array([16]), array([7492]))\n",
      "TSP2.lung.SoRi.csv\n",
      "(array([16]), array([20605]))\n",
      "TSP2.skin.Kimberly.csv\n",
      "(array([78, 79, 80, 81, 82, 83, 84, 85, 86]), array([  4,  13,  27,  56,  70, 197, 190, 153, 146]))\n",
      "TSP2.bm.MSwift.csv\n",
      "(array([16]), array([2881]))\n",
      "TSP2.blood.Sheela.csv\n",
      "(array([16]), array([10177]))\n",
      "TSP2.trachea.William.csv\n",
      "(array([16]), array([4680]))\n",
      "TSP2.li.Zhen.csv\n",
      "(array([16]), array([7366]))\n",
      "TSP2.kidney.Gabe.csv\n",
      "(array([16]), array([22403]))\n",
      "TSP2.lymphnode.Kimberly.csv\n",
      "(array([16]), array([9110]))\n",
      "TSP2.all.unique.csv\n",
      "(array([16]), array([132103]))\n",
      "TSP2.si.Zhen.csv\n",
      "(array([16]), array([8203]))\n"
     ]
    }
   ],
   "source": [
    "annotations = {}\n",
    "for x in ann_files:\n",
    "    if 'csv' in x:\n",
    "        print(x)\n",
    "        organ = x.split('.')[1]\n",
    "        if organ=='bm':\n",
    "            tab = pd.read_csv(ann_path + x, index_col=0)\n",
    "        else:\n",
    "            tab = pd.read_csv(ann_path + x, index_col=0, skiprows=2)\n",
    "        tab.index = [x.split('-')[0] for x in tab.index]\n",
    "        if organ=='muscle':\n",
    "            barcodes = tab.index\n",
    "            unique_barcodes, count = np.unique(barcodes, return_counts=True)\n",
    "            is_unique = [x in unique_barcodes[count==1] for x in barcodes]\n",
    "            tab = tab.loc[is_unique]\n",
    "        is_pilot2 = [x for x in tab.index if x in pilot2_meta.index]\n",
    "        tab = tab.loc[is_pilot2]        \n",
    "        tab = tab[[tab.columns[-1]]]\n",
    "        tab.columns= ['manual_annotation']\n",
    "        tab['organ'] = organ\n",
    "        print(np.unique([len(x) for x in tab.index], return_counts=True))\n",
    "        annotations[organ] = tab\n"
   ]
  },
  {
   "cell_type": "code",
   "execution_count": 6,
   "metadata": {},
   "outputs": [
    {
     "name": "stdout",
     "output_type": "stream",
     "text": [
      "(135125, 2)\n",
      "(134547, 2)\n"
     ]
    }
   ],
   "source": [
    "ann = pd.concat([annotations[x] for x in annotations.keys() if x != 'all'], axis=0)\n",
    "print(ann.shape)\n",
    "barcodes = ann.index\n",
    "unique_barcodes, count = np.unique(barcodes, return_counts=True)\n",
    "ann = ann.loc[unique_barcodes[count==1]]\n",
    "print(ann.shape)"
   ]
  },
  {
   "cell_type": "code",
   "execution_count": 7,
   "metadata": {},
   "outputs": [],
   "source": [
    "ann.to_csv(data_path + 'Pilot2/pilot2.all.unique.skin.csv')"
   ]
  },
  {
   "cell_type": "markdown",
   "metadata": {},
   "source": [
    "# Combining labels and unannotated filtered object\n",
    "This section of the notebook matches the annotation file to unannoated combeind object from pilot1 and pilot2.\n",
    "\n",
    "### read unannotated combined object"
   ]
  },
  {
   "cell_type": "code",
   "execution_count": 8,
   "metadata": {},
   "outputs": [],
   "source": [
    "combined = read_h5ad(data_path + 'combined/Pilot1_Pilot2_filtered_ensembl_id.no_heart_fat_low_quality.june30.ss2_norm.embedding_donor_tech.h5ad')"
   ]
  },
  {
   "cell_type": "markdown",
   "metadata": {},
   "source": [
    "### match 'Pilot1/pilot1.ann.csv' and 'Pilot2/pilot2.all.unique.skin.csv' to unannotated cells by their cell id. "
   ]
  },
  {
   "cell_type": "code",
   "execution_count": 9,
   "metadata": {},
   "outputs": [],
   "source": [
    "ann1 = pd.read_csv(data_path+'Pilot1/pilot1.ann.csv', index_col=0, dtype=str)"
   ]
  },
  {
   "cell_type": "code",
   "execution_count": 10,
   "metadata": {},
   "outputs": [],
   "source": [
    "ann2 = combined.obs.loc[combined.obs['donor']=='TSP2']\n",
    "ann2.index = [x.split('-')[0] for x in ann2.index]"
   ]
  },
  {
   "cell_type": "code",
   "execution_count": 11,
   "metadata": {},
   "outputs": [],
   "source": [
    "unique = ann2.index.drop_duplicates(keep=False)\n",
    "ann2 = ann2.loc[unique]"
   ]
  },
  {
   "cell_type": "code",
   "execution_count": 12,
   "metadata": {},
   "outputs": [],
   "source": [
    "ann2_new = pd.read_csv(data_path + 'Pilot2/pilot2.all.unique.skin.csv', index_col=0, dtype=str)\n",
    "ann2_new['Organ'] = [x[0].upper()+x[1:] for x in ann2_new['organ']]\n",
    "ann2_new['Organ'].replace('Bm', 'Bone_Marrow', inplace=True)\n",
    "ann2_new['Organ'].replace('Li', 'Large_Intestine', inplace=True)\n",
    "ann2_new['Organ'].replace('Lymphnode', 'Lymph_Node', inplace=True)\n",
    "ann2_new['Organ'].replace('Si','Small_Intestine', inplace=True)\n",
    "ann2.index = [x+'_'+y for x,y in zip(ann2.index.values, ann2['tissue'])]\n",
    "ann2_new.index = [x+'_'+y for x,y in zip(ann2_new.index.values, ann2_new['Organ'])]"
   ]
  },
  {
   "cell_type": "code",
   "execution_count": 13,
   "metadata": {},
   "outputs": [],
   "source": [
    "ann2['manual_annotation'] = ann2_new.reindex(ann2.index)['manual_annotation']\n",
    "ann2['manual_annotation'].fillna('unassigned',inplace=True)"
   ]
  },
  {
   "cell_type": "code",
   "execution_count": 14,
   "metadata": {},
   "outputs": [],
   "source": [
    "ann1.index = ['_'.join(['TSP1',x]) for x in ann1.index]\n",
    "ann2.index = ['_'.join(['TSP2',x,y]) for x,y in zip(ann2.index, ann2['sequencer'])]"
   ]
  },
  {
   "cell_type": "code",
   "execution_count": 15,
   "metadata": {},
   "outputs": [],
   "source": [
    "idx1 = combined.obs.loc[combined.obs['donor']=='TSP1'].index\n",
    "idx2 = combined.obs.loc[combined.obs['donor']=='TSP2'].index\n",
    "seq2 = combined.obs.loc[combined.obs['donor']=='TSP2',['tissue','sequencer']].apply(lambda x:\"_\".join(x), axis=1)\n",
    "\n",
    "idx1 = [x.split('-')[0] for x in idx1]\n",
    "idx2 = [x.split('-')[0] for x in idx2]\n",
    "idx1 = ['_'.join(['TSP1',x]) for x in idx1]\n",
    "idx2 = ['_'.join(['TSP2',x,y]) for x,y in zip(idx2, seq2)]\n",
    "\n",
    "assert len(idx1) == len(np.unique(idx1))\n",
    "assert len(idx2) == len(np.unique(idx2))"
   ]
  },
  {
   "cell_type": "markdown",
   "metadata": {},
   "source": [
    "### convert manual annotation terms to cell ontology terms using 'ontology/pilot2.manual2co.txt'"
   ]
  },
  {
   "cell_type": "code",
   "execution_count": 16,
   "metadata": {},
   "outputs": [
    {
     "name": "stdout",
     "output_type": "stream",
     "text": [
      "0.4773788955013758 0.27238270982131\n"
     ]
    }
   ],
   "source": [
    "label_dict = pd.read_csv(data_path + 'ontology/pilot2.manual2co.txt', delimiter=';', index_col=0, dtype=str)\n",
    "new_terms = pd.read_csv(data_path + 'ontology/new_terms.csv', delimiter='|', index_col=1, dtype=str)\n",
    "\n",
    "labels1 = ann1.reindex(idx1)['Manual Annotation Round 2'].fillna('unassigned')\n",
    "labels2 = ann2.reindex(idx2)['manual_annotation'].fillna('unassigned')\n",
    "print(np.sum(labels1=='unassigned')/len(labels1),np.sum(labels2=='unassigned')/len(labels2))\n",
    "\n",
    "labels = pd.concat([labels1, labels2])\n",
    "labels = pd.DataFrame(labels)"
   ]
  },
  {
   "cell_type": "code",
   "execution_count": 17,
   "metadata": {},
   "outputs": [],
   "source": [
    "labels_clean = []\n",
    "others = []\n",
    "for x in labels[0]:\n",
    "    if x=='unassigned':\n",
    "        labels_clean.append(x)\n",
    "    elif x not in label_dict.index:\n",
    "        labels_clean.append(new_terms.loc[x, 'parent_name'])\n",
    "        others.append(x)\n",
    "    else:\n",
    "        labels_clean.append(label_dict.loc[x,'cell_ontology_class'])\n",
    "\n",
    "labels[1] = labels_clean"
   ]
  },
  {
   "cell_type": "code",
   "execution_count": 18,
   "metadata": {},
   "outputs": [],
   "source": [
    "combined.obs['barcode']=''\n",
    "combined.obs.loc[combined.obs['donor']=='TSP1', 'barcode'] = idx1\n",
    "combined.obs.loc[combined.obs['donor']=='TSP2', 'barcode'] = idx2\n",
    "\n",
    "combined.obs['manual_annotation'] = labels.loc[combined.obs['barcode'],0].values\n",
    "combined.obs['manual_cell_ontology_class'] = labels.loc[combined.obs['barcode'],1].values\n"
   ]
  },
  {
   "cell_type": "code",
   "execution_count": 19,
   "metadata": {},
   "outputs": [],
   "source": [
    "temp = [x.split('_')[1] for x in combined.obs['barcode']]\n",
    "assert np.sum([x in y for x,y in zip(temp, combined.obs.index)]) == len(temp)"
   ]
  },
  {
   "cell_type": "code",
   "execution_count": 20,
   "metadata": {},
   "outputs": [],
   "source": [
    "combined.obs.to_csv(data_path + 'Pilot1_Pilot2.annotation.csv')"
   ]
  },
  {
   "cell_type": "markdown",
   "metadata": {},
   "source": [
    "# read dataset with manual annotation"
   ]
  },
  {
   "cell_type": "code",
   "execution_count": 21,
   "metadata": {},
   "outputs": [],
   "source": [
    "combined = read_h5ad(data_path + \n",
    "                     'combined/Pilot1_Pilot2_filtered_ensembl_id.june30.ss2_norm.embedding_donor_tech.h5ad')\n",
    "\n",
    "annotations = pd.read_csv(data_path + 'Pilot1_Pilot2.annotation.csv')\n",
    "\n",
    "annotations.index = annotations['cell_id']\n",
    "\n",
    "combined.obs['manual_cell_ontology_class'] = annotations.reindex(combined.obs['cell_id'])['manual_cell_ontology_class'].values\n",
    "combined.obs['manual_annotation'] = annotations.reindex(combined.obs['cell_id'])['manual_annotation'].values\n",
    "combined.obs['manual_annotation'].fillna('unassigned',inplace=True)\n",
    "combined.obs['manual_cell_ontology_class'].fillna('unassigned',inplace=True)"
   ]
  },
  {
   "cell_type": "markdown",
   "metadata": {},
   "source": [
    "# propagate labels per tissue"
   ]
  },
  {
   "cell_type": "code",
   "execution_count": 22,
   "metadata": {},
   "outputs": [],
   "source": [
    "organs = np.unique(combined.obs['tissue'])"
   ]
  },
  {
   "cell_type": "code",
   "execution_count": 23,
   "metadata": {},
   "outputs": [
    {
     "name": "stdout",
     "output_type": "stream",
     "text": [
      "['Bladder', 'Blood', 'Bone_Marrow', 'Kidney', 'Large_Intestine', 'Lung', 'Lymph_Node', 'Muscle', 'Pancreas', 'Skin', 'Small_Intestine', 'Spleen', 'Thymus', 'Trachea', 'Vasculature']\n"
     ]
    }
   ],
   "source": [
    "organs = [ x for x in organs if x not in ['Heart','Fat']]\n",
    "print(organs)"
   ]
  },
  {
   "cell_type": "markdown",
   "metadata": {},
   "source": [
    "# train using per-organ scVI model\n",
    "We subsample genes before training scVI to predict cell types"
   ]
  },
  {
   "cell_type": "code",
   "execution_count": 24,
   "metadata": {},
   "outputs": [],
   "source": [
    "labels = pd.DataFrame(index=combined.obs.index, columns=['pred'])"
   ]
  },
  {
   "cell_type": "code",
   "execution_count": 25,
   "metadata": {},
   "outputs": [],
   "source": [
    "retrain=False"
   ]
  },
  {
   "cell_type": "code",
   "execution_count": 26,
   "metadata": {},
   "outputs": [
    {
     "name": "stdout",
     "output_type": "stream",
     "text": [
      "Bladder\n"
     ]
    },
    {
     "name": "stderr",
     "output_type": "stream",
     "text": [
      "Trying to set attribute `.var` of view, copying.\n"
     ]
    },
    {
     "name": "stdout",
     "output_type": "stream",
     "text": [
      "[2020-07-16 19:30:14,740] INFO - scvi.dataset.dataset | Remapping batch_indices to [0,N]\n",
      "[2020-07-16 19:30:14,742] INFO - scvi.dataset.dataset | Remapping labels to [0,N]\n",
      "[2020-07-16 19:30:16,169] INFO - scvi.dataset.dataset | Computing the library size for the new data\n",
      "[2020-07-16 19:30:16,388] INFO - scvi.dataset.dataset | Downsampled from 25751 to 25751 cells\n",
      "[2020-07-16 19:30:16,712] INFO - scvi.dataset.dataset | Downsampling from 48944 to 23582 genes\n",
      "[2020-07-16 19:30:18,388] INFO - scvi.dataset.dataset | Computing the library size for the new data\n",
      "[2020-07-16 19:30:18,606] INFO - scvi.dataset.dataset | Filtering non-expressing cells.\n",
      "[2020-07-16 19:30:20,015] INFO - scvi.dataset.dataset | Computing the library size for the new data\n",
      "[2020-07-16 19:30:20,232] INFO - scvi.dataset.dataset | Downsampled from 25751 to 25751 cells\n",
      "[2020-07-16 19:30:20,234] INFO - scvi.dataset.dataset | extracting highly variable genes\n",
      "[2020-07-16 19:30:52,247] INFO - scvi.dataset.dataset | Downsampling from 23582 to 5150 genes\n",
      "[2020-07-16 19:30:52,966] INFO - scvi.dataset.dataset | Computing the library size for the new data\n",
      "[2020-07-16 19:30:53,028] INFO - scvi.dataset.dataset | Filtering non-expressing cells.\n",
      "[2020-07-16 19:30:53,425] INFO - scvi.dataset.dataset | Computing the library size for the new data\n",
      "[2020-07-16 19:30:53,485] INFO - scvi.dataset.dataset | Downsampled from 25751 to 25751 cells\n",
      "['B cell' 'T cell' 'basal cell' 'bladder urothelial cell'\n",
      " 'endothelial cell' 'fibroblast' 'intermediate epitheliocyte' 'macrophage'\n",
      " 'mast cell' 'mature NK T cell' 'myoblast' 'myofibroblast cell'\n",
      " 'natural killer cell' 'plasma cell' 'plasmacytoid dendritic cell, human'\n",
      " 'smooth muscle cell' 'vascular associated smooth muscle cell'\n",
      " 'vein endothelial cell'] ['B cell' 'T cell' 'basal cell' 'bladder urothelial cell'\n",
      " 'endothelial cell' 'fibroblast' 'intermediate epitheliocyte' 'macrophage'\n",
      " 'mast cell' 'mature NK T cell' 'myoblast' 'myofibroblast cell'\n",
      " 'natural killer cell' 'plasma cell' 'plasmacytoid dendritic cell, human'\n",
      " 'smooth muscle cell' 'unassigned'\n",
      " 'vascular associated smooth muscle cell' 'vein endothelial cell']\n",
      "Blood\n"
     ]
    },
    {
     "name": "stderr",
     "output_type": "stream",
     "text": [
      "Trying to set attribute `.var` of view, copying.\n"
     ]
    },
    {
     "name": "stdout",
     "output_type": "stream",
     "text": [
      "[2020-07-16 19:30:58,415] INFO - scvi.dataset.dataset | Remapping batch_indices to [0,N]\n",
      "[2020-07-16 19:30:58,417] INFO - scvi.dataset.dataset | Remapping labels to [0,N]\n",
      "[2020-07-16 19:30:59,233] INFO - scvi.dataset.dataset | Computing the library size for the new data\n",
      "[2020-07-16 19:30:59,363] INFO - scvi.dataset.dataset | Downsampled from 16017 to 16017 cells\n",
      "[2020-07-16 19:30:59,555] INFO - scvi.dataset.dataset | Downsampling from 44444 to 18141 genes\n",
      "[2020-07-16 19:31:00,507] INFO - scvi.dataset.dataset | Computing the library size for the new data\n",
      "[2020-07-16 19:31:00,638] INFO - scvi.dataset.dataset | Filtering non-expressing cells.\n",
      "[2020-07-16 19:31:01,443] INFO - scvi.dataset.dataset | Computing the library size for the new data\n",
      "[2020-07-16 19:31:01,572] INFO - scvi.dataset.dataset | Downsampled from 16017 to 16017 cells\n",
      "[2020-07-16 19:31:01,572] INFO - scvi.dataset.dataset | extracting highly variable genes\n",
      "[2020-07-16 19:31:20,934] INFO - scvi.dataset.dataset | Downsampling from 18141 to 3203 genes\n",
      "[2020-07-16 19:31:21,284] INFO - scvi.dataset.dataset | Computing the library size for the new data\n",
      "[2020-07-16 19:31:21,313] INFO - scvi.dataset.dataset | Filtering non-expressing cells.\n",
      "[2020-07-16 19:31:21,498] INFO - scvi.dataset.dataset | Computing the library size for the new data\n",
      "[2020-07-16 19:31:21,521] INFO - scvi.dataset.dataset | Downsampled from 16017 to 16017 cells\n"
     ]
    },
    {
     "name": "stderr",
     "output_type": "stream",
     "text": [
      "Trying to set attribute `.var` of view, copying.\n"
     ]
    },
    {
     "name": "stdout",
     "output_type": "stream",
     "text": [
      "['B cell' 'CD4-positive helper T cell'\n",
      " 'CD4-positive, alpha-beta memory T cell'\n",
      " 'CD8-positive, alpha-beta memory T cell' 'classical monocyte'\n",
      " 'dendritic cell, human' 'effector memory CD8-positive, alpha-beta T cell'\n",
      " 'erythrocyte' 'mast cell' 'megakaryocyte' 'memory B cell'\n",
      " 'naive thymus-derived CD4-positive, alpha-beta T cell'\n",
      " 'naive thymus-derived CD8-positive, alpha-beta T cell'\n",
      " 'natural killer cell' 'neutrophil' 'non-classical monocyte' 'plasma cell'\n",
      " 'platelet'] ['B cell' 'CD4-positive helper T cell'\n",
      " 'CD4-positive, alpha-beta memory T cell'\n",
      " 'CD8-positive, alpha-beta memory T cell' 'classical monocyte'\n",
      " 'dendritic cell, human' 'effector memory CD8-positive, alpha-beta T cell'\n",
      " 'erythrocyte' 'mast cell' 'megakaryocyte' 'memory B cell'\n",
      " 'naive thymus-derived CD4-positive, alpha-beta T cell'\n",
      " 'naive thymus-derived CD8-positive, alpha-beta T cell'\n",
      " 'natural killer cell' 'neutrophil' 'non-classical monocyte' 'plasma cell'\n",
      " 'platelet' 'unassigned']\n",
      "Bone_Marrow\n",
      "[2020-07-16 19:31:22,532] INFO - scvi.dataset.anndataset | Dense size under 1Gb, casting to dense format (np.ndarray).\n",
      "[2020-07-16 19:31:23,179] INFO - scvi.dataset.dataset | Remapping batch_indices to [0,N]\n",
      "[2020-07-16 19:31:23,180] INFO - scvi.dataset.dataset | Remapping labels to [0,N]\n",
      "[2020-07-16 19:31:24,439] INFO - scvi.dataset.dataset | Computing the library size for the new data\n",
      "[2020-07-16 19:31:24,650] INFO - scvi.dataset.dataset | Downsampled from 3185 to 3185 cells\n",
      "[2020-07-16 19:31:24,874] INFO - scvi.dataset.dataset | Downsampling from 33463 to 19946 genes\n",
      "[2020-07-16 19:31:25,780] INFO - scvi.dataset.dataset | Computing the library size for the new data\n",
      "[2020-07-16 19:31:26,082] INFO - scvi.dataset.dataset | Filtering non-expressing cells.\n",
      "[2020-07-16 19:31:27,049] INFO - scvi.dataset.dataset | Computing the library size for the new data\n",
      "[2020-07-16 19:31:27,172] INFO - scvi.dataset.dataset | Downsampled from 3185 to 3185 cells\n",
      "[2020-07-16 19:31:27,172] INFO - scvi.dataset.dataset | extracting highly variable genes\n",
      "[2020-07-16 19:31:33,308] INFO - scvi.dataset.dataset | Downsampling from 19946 to 1592 genes\n",
      "[2020-07-16 19:31:33,394] INFO - scvi.dataset.dataset | Computing the library size for the new data\n",
      "[2020-07-16 19:31:33,409] INFO - scvi.dataset.dataset | Filtering non-expressing cells.\n",
      "[2020-07-16 19:31:33,470] INFO - scvi.dataset.dataset | Computing the library size for the new data\n",
      "[2020-07-16 19:31:33,479] INFO - scvi.dataset.dataset | Downsampled from 3185 to 3185 cells\n",
      "['CD34-positive, CD38-negative multipotent progenitor cell'\n",
      " 'CD4-positive helper T cell' 'CD8-positive, alpha-beta T cell'\n",
      " 'erythroid progenitor cell' 'follicular B cell' 'granulocyte'\n",
      " 'hematopoietic stem cell' 'monocyte' 'natural killer cell' 'neutrophil'\n",
      " 'plasma cell'] ['CD34-positive, CD38-negative multipotent progenitor cell'\n",
      " 'CD4-positive helper T cell' 'CD8-positive, alpha-beta T cell'\n",
      " 'early lymphoid progenitor' 'erythroid progenitor cell'\n",
      " 'follicular B cell' 'granulocyte' 'hematopoietic stem cell' 'monocyte'\n",
      " 'natural killer cell' 'neutrophil' 'plasma cell' 'unassigned']\n",
      "Kidney\n"
     ]
    },
    {
     "name": "stderr",
     "output_type": "stream",
     "text": [
      "Trying to set attribute `.var` of view, copying.\n"
     ]
    },
    {
     "name": "stdout",
     "output_type": "stream",
     "text": [
      "[2020-07-16 19:31:35,376] INFO - scvi.dataset.dataset | Remapping batch_indices to [0,N]\n",
      "[2020-07-16 19:31:35,377] INFO - scvi.dataset.dataset | Remapping labels to [0,N]\n",
      "[2020-07-16 19:31:36,146] INFO - scvi.dataset.dataset | Computing the library size for the new data\n",
      "[2020-07-16 19:31:36,277] INFO - scvi.dataset.dataset | Downsampled from 24236 to 24236 cells\n",
      "[2020-07-16 19:31:36,474] INFO - scvi.dataset.dataset | Downsampling from 40789 to 23394 genes\n",
      "[2020-07-16 19:31:37,389] INFO - scvi.dataset.dataset | Computing the library size for the new data\n",
      "[2020-07-16 19:31:37,521] INFO - scvi.dataset.dataset | Filtering non-expressing cells.\n",
      "[2020-07-16 19:31:38,287] INFO - scvi.dataset.dataset | Computing the library size for the new data\n",
      "[2020-07-16 19:31:38,418] INFO - scvi.dataset.dataset | Downsampled from 24236 to 24236 cells\n",
      "[2020-07-16 19:31:38,419] INFO - scvi.dataset.dataset | extracting highly variable genes\n",
      "[2020-07-16 19:32:01,149] INFO - scvi.dataset.dataset | Downsampling from 23394 to 4847 genes\n",
      "[2020-07-16 19:32:01,452] INFO - scvi.dataset.dataset | Computing the library size for the new data\n",
      "[2020-07-16 19:32:01,477] INFO - scvi.dataset.dataset | Filtering non-expressing cells.\n",
      "[2020-07-16 19:32:01,630] INFO - scvi.dataset.dataset | Computing the library size for the new data\n",
      "[2020-07-16 19:32:01,651] INFO - scvi.dataset.dataset | Downsampled from 24236 to 24236 cells\n"
     ]
    },
    {
     "name": "stderr",
     "output_type": "stream",
     "text": [
      "Trying to set attribute `.var` of view, copying.\n"
     ]
    },
    {
     "name": "stdout",
     "output_type": "stream",
     "text": [
      "['B cell' 'T cell' 'endothelial cell' 'kidney epithelial cell'\n",
      " 'myeloid cell' 'natural killer cell' 'neutrophil'] ['B cell' 'T cell' 'endothelial cell' 'kidney epithelial cell'\n",
      " 'myeloid cell' 'natural killer cell' 'neutrophil' 'unassigned']\n",
      "Large_Intestine\n",
      "[2020-07-16 19:32:03,370] INFO - scvi.dataset.dataset | Remapping batch_indices to [0,N]\n",
      "[2020-07-16 19:32:03,372] INFO - scvi.dataset.dataset | Remapping labels to [0,N]\n",
      "[2020-07-16 19:32:03,649] INFO - scvi.dataset.dataset | Computing the library size for the new data\n",
      "[2020-07-16 19:32:03,696] INFO - scvi.dataset.dataset | Downsampled from 8193 to 8193 cells\n",
      "[2020-07-16 19:32:03,766] INFO - scvi.dataset.dataset | Downsampling from 43757 to 26019 genes\n",
      "[2020-07-16 19:32:04,096] INFO - scvi.dataset.dataset | Computing the library size for the new data\n",
      "[2020-07-16 19:32:04,146] INFO - scvi.dataset.dataset | Filtering non-expressing cells.\n",
      "[2020-07-16 19:32:04,421] INFO - scvi.dataset.dataset | Computing the library size for the new data\n",
      "[2020-07-16 19:32:04,469] INFO - scvi.dataset.dataset | Downsampled from 8193 to 8193 cells\n",
      "[2020-07-16 19:32:04,470] INFO - scvi.dataset.dataset | extracting highly variable genes\n",
      "[2020-07-16 19:32:15,442] INFO - scvi.dataset.dataset | Downsampling from 26019 to 4096 genes\n",
      "[2020-07-16 19:32:15,548] INFO - scvi.dataset.dataset | Computing the library size for the new data\n",
      "[2020-07-16 19:32:15,556] INFO - scvi.dataset.dataset | Filtering non-expressing cells.\n",
      "[2020-07-16 19:32:15,605] INFO - scvi.dataset.dataset | Computing the library size for the new data\n",
      "[2020-07-16 19:32:15,613] INFO - scvi.dataset.dataset | Downsampled from 8193 to 8193 cells\n",
      "['B cell' 'T cell' 'brush cell' 'crypt base secretory cell' 'enterocyte'\n",
      " 'enteroendocrine cell' 'fibroblast' 'goblet cell'\n",
      " 'intestinal crypt stem cell' 'intestinal secretory progenitor'\n",
      " 'intestinal transient amplifying cell' 'lymphatics endothelial cell'\n",
      " 'vein endothelial cell'] ['B cell' 'T cell' 'brush cell' 'crypt base secretory cell' 'enterocyte'\n",
      " 'enteroendocrine cell' 'fibroblast' 'goblet cell'\n",
      " 'intestinal crypt stem cell' 'intestinal secretory progenitor'\n",
      " 'intestinal transient amplifying cell' 'lymphatics endothelial cell'\n",
      " 'unassigned' 'vein endothelial cell']\n",
      "Lung\n"
     ]
    },
    {
     "name": "stderr",
     "output_type": "stream",
     "text": [
      "Trying to set attribute `.var` of view, copying.\n"
     ]
    },
    {
     "name": "stdout",
     "output_type": "stream",
     "text": [
      "[2020-07-16 19:32:20,282] INFO - scvi.dataset.dataset | Remapping batch_indices to [0,N]\n",
      "[2020-07-16 19:32:20,285] INFO - scvi.dataset.dataset | Remapping labels to [0,N]\n",
      "[2020-07-16 19:32:22,618] INFO - scvi.dataset.dataset | Computing the library size for the new data\n",
      "[2020-07-16 19:32:22,970] INFO - scvi.dataset.dataset | Downsampled from 37162 to 37162 cells\n",
      "[2020-07-16 19:32:23,491] INFO - scvi.dataset.dataset | Downsampling from 49183 to 25867 genes\n",
      "[2020-07-16 19:32:26,236] INFO - scvi.dataset.dataset | Computing the library size for the new data\n",
      "[2020-07-16 19:32:26,591] INFO - scvi.dataset.dataset | Filtering non-expressing cells.\n",
      "[2020-07-16 19:32:28,912] INFO - scvi.dataset.dataset | Computing the library size for the new data\n",
      "[2020-07-16 19:32:29,270] INFO - scvi.dataset.dataset | Downsampled from 37162 to 37162 cells\n",
      "[2020-07-16 19:32:29,271] INFO - scvi.dataset.dataset | extracting highly variable genes\n",
      "[2020-07-16 19:33:18,068] INFO - scvi.dataset.dataset | Downsampling from 25867 to 7432 genes\n",
      "[2020-07-16 19:33:19,369] INFO - scvi.dataset.dataset | Computing the library size for the new data\n",
      "[2020-07-16 19:33:19,480] INFO - scvi.dataset.dataset | Filtering non-expressing cells.\n",
      "[2020-07-16 19:33:20,203] INFO - scvi.dataset.dataset | Computing the library size for the new data\n",
      "[2020-07-16 19:33:20,316] INFO - scvi.dataset.dataset | Downsampled from 37162 to 37162 cells\n",
      "['B cell' 'CD4-positive, alpha-beta memory T cell' 'adventitial cell'\n",
      " 'basal cell' 'basophil' 'bronchial smooth muscle cell'\n",
      " 'capillary endothelial cell' 'classical monocyte' 'club cell'\n",
      " 'dendritic cell, human' 'effector memory CD4-positive, alpha-beta T cell'\n",
      " 'effector memory CD8-positive, alpha-beta T cell'\n",
      " 'endothelial cell of artery' 'endothelial cell of lymphatic vessel'\n",
      " 'epithelial cell of alveolus of lung' 'fibroblast of lung'\n",
      " 'intermediate monocyte' 'ionocyte' 'lung ciliated cell'\n",
      " 'lung microvascular endothelial cell' 'macrophage'\n",
      " 'myeloid dendritic cell, human'\n",
      " 'naive thymus-derived CD8-positive, alpha-beta T cell'\n",
      " 'natural killer cell' 'non-classical monocyte' 'pericyte cell'\n",
      " 'plasma cell' 'plasmacytoid dendritic cell, human'\n",
      " 'respiratory goblet cell' 'serous cell of epithelium of bronchus'\n",
      " 'type I pneumocyte' 'type II pneumocyte'\n",
      " 'vascular associated smooth muscle cell' 'vein endothelial cell'] ['B cell' 'CD4-positive, alpha-beta memory T cell' 'adventitial cell'\n",
      " 'basal cell' 'basophil' 'bronchial smooth muscle cell'\n",
      " 'capillary endothelial cell' 'classical monocyte' 'club cell'\n",
      " 'dendritic cell, human' 'effector memory CD4-positive, alpha-beta T cell'\n",
      " 'effector memory CD8-positive, alpha-beta T cell'\n",
      " 'endothelial cell of artery' 'endothelial cell of lymphatic vessel'\n",
      " 'epithelial cell of alveolus of lung' 'fibroblast of lung'\n",
      " 'intermediate monocyte' 'ionocyte' 'lung ciliated cell'\n",
      " 'lung microvascular endothelial cell' 'macrophage' 'mature NK T cell'\n",
      " 'myeloid dendritic cell, human' 'myoblast'\n",
      " 'naive thymus-derived CD4-positive, alpha-beta T cell'\n",
      " 'naive thymus-derived CD8-positive, alpha-beta T cell'\n",
      " 'natural killer cell' 'non-classical monocyte' 'pericyte cell'\n",
      " 'plasma cell' 'plasmacytoid dendritic cell, human'\n",
      " 'respiratory goblet cell' 'serous cell of epithelium of bronchus'\n",
      " 'type I pneumocyte' 'type II pneumocyte' 'unassigned'\n",
      " 'vascular associated smooth muscle cell' 'vein endothelial cell']\n",
      "Lymph_Node\n"
     ]
    },
    {
     "name": "stderr",
     "output_type": "stream",
     "text": [
      "Trying to set attribute `.var` of view, copying.\n"
     ]
    },
    {
     "name": "stdout",
     "output_type": "stream",
     "text": [
      "[2020-07-16 19:33:23,010] INFO - scvi.dataset.dataset | Remapping batch_indices to [0,N]\n",
      "[2020-07-16 19:33:23,012] INFO - scvi.dataset.dataset | Remapping labels to [0,N]\n",
      "[2020-07-16 19:33:23,418] INFO - scvi.dataset.dataset | Computing the library size for the new data\n",
      "[2020-07-16 19:33:23,485] INFO - scvi.dataset.dataset | Downsampled from 10064 to 10064 cells\n",
      "[2020-07-16 19:33:23,584] INFO - scvi.dataset.dataset | Downsampling from 37774 to 24764 genes\n",
      "[2020-07-16 19:33:24,065] INFO - scvi.dataset.dataset | Computing the library size for the new data\n",
      "[2020-07-16 19:33:24,133] INFO - scvi.dataset.dataset | Filtering non-expressing cells.\n",
      "[2020-07-16 19:33:24,537] INFO - scvi.dataset.dataset | Computing the library size for the new data\n",
      "[2020-07-16 19:33:24,605] INFO - scvi.dataset.dataset | Downsampled from 10064 to 10064 cells\n",
      "[2020-07-16 19:33:24,605] INFO - scvi.dataset.dataset | extracting highly variable genes\n",
      "[2020-07-16 19:33:39,037] INFO - scvi.dataset.dataset | Downsampling from 24764 to 2012 genes\n",
      "[2020-07-16 19:33:39,141] INFO - scvi.dataset.dataset | Computing the library size for the new data\n",
      "[2020-07-16 19:33:39,148] INFO - scvi.dataset.dataset | Filtering non-expressing cells.\n",
      "[2020-07-16 19:33:39,187] INFO - scvi.dataset.dataset | Computing the library size for the new data\n",
      "[2020-07-16 19:33:39,193] INFO - scvi.dataset.dataset | Downsampled from 10064 to 10064 cells\n",
      "['B cell' 'T follicular helper cell'\n",
      " 'activated CD8-positive, alpha-beta T cell, human' 'basophil'\n",
      " 'classical monocyte' 'conventional dendritic cell'\n",
      " 'intermediate monocyte' 'mast cell' 'mature NK T cell' 'memory B cell'\n",
      " 'naive B cell' 'naive thymus-derived CD4-positive, alpha-beta T cell'\n",
      " 'non-classical monocyte' 'plasma cell' 'plasmacytoid dendritic cell'] ['B cell' 'CD4-positive, CD25-positive, alpha-beta regulatory T cell'\n",
      " 'CD4-positive, alpha-beta cytotoxic T cell' 'T follicular helper cell'\n",
      " 'activated CD8-positive, alpha-beta T cell, human' 'basophil'\n",
      " 'classical monocyte' 'conventional dendritic cell'\n",
      " 'intermediate monocyte' 'mast cell' 'mature NK T cell' 'memory B cell'\n",
      " 'naive B cell' 'naive thymus-derived CD4-positive, alpha-beta T cell'\n",
      " 'natural killer cell' 'neutrophil' 'non-classical monocyte' 'plasma cell'\n",
      " 'plasmacytoid dendritic cell' 'unassigned']\n",
      "Muscle\n"
     ]
    },
    {
     "name": "stderr",
     "output_type": "stream",
     "text": [
      "Trying to set attribute `.var` of view, copying.\n"
     ]
    },
    {
     "name": "stdout",
     "output_type": "stream",
     "text": [
      "[2020-07-16 19:33:41,868] INFO - scvi.dataset.dataset | Remapping batch_indices to [0,N]\n",
      "[2020-07-16 19:33:41,869] INFO - scvi.dataset.dataset | Remapping labels to [0,N]\n",
      "[2020-07-16 19:33:43,039] INFO - scvi.dataset.dataset | Computing the library size for the new data\n",
      "[2020-07-16 19:33:43,209] INFO - scvi.dataset.dataset | Downsampled from 21731 to 21731 cells\n",
      "[2020-07-16 19:33:43,462] INFO - scvi.dataset.dataset | Downsampling from 49349 to 24271 genes\n",
      "[2020-07-16 19:33:44,829] INFO - scvi.dataset.dataset | Computing the library size for the new data\n",
      "[2020-07-16 19:33:44,997] INFO - scvi.dataset.dataset | Filtering non-expressing cells.\n",
      "[2020-07-16 19:33:46,140] INFO - scvi.dataset.dataset | Computing the library size for the new data\n",
      "[2020-07-16 19:33:46,306] INFO - scvi.dataset.dataset | Downsampled from 21731 to 21731 cells\n",
      "[2020-07-16 19:33:46,308] INFO - scvi.dataset.dataset | extracting highly variable genes\n",
      "[2020-07-16 19:34:18,557] INFO - scvi.dataset.dataset | Downsampling from 24271 to 4346 genes\n",
      "[2020-07-16 19:34:19,060] INFO - scvi.dataset.dataset | Computing the library size for the new data\n",
      "[2020-07-16 19:34:19,101] INFO - scvi.dataset.dataset | Filtering non-expressing cells.\n",
      "[2020-07-16 19:34:19,369] INFO - scvi.dataset.dataset | Computing the library size for the new data\n",
      "[2020-07-16 19:34:19,406] INFO - scvi.dataset.dataset | Downsampled from 21731 to 21731 cells\n",
      "['B cell' 'CD8-positive, alpha-beta T cell' 'T cell'\n",
      " 'capillary endothelial cell' 'endothelial cell of artery'\n",
      " 'endothelial cell of lymphatic vessel'\n",
      " 'endothelial cell of vascular tree' 'fast muscle cell' 'macrophage'\n",
      " 'mast cell' 'mesenchymal stem cell'\n",
      " 'multi-potent skeletal muscle stem cell' 'myoblast'\n",
      " 'skeletal muscle fiber' 'slow muscle cell' 'smooth muscle cell'\n",
      " 'tendon cell'] ['B cell' 'CD8-positive, alpha-beta T cell' 'T cell'\n",
      " 'capillary endothelial cell' 'endothelial cell of artery'\n",
      " 'endothelial cell of lymphatic vessel'\n",
      " 'endothelial cell of vascular tree' 'fast muscle cell' 'macrophage'\n",
      " 'mast cell' 'mesenchymal stem cell'\n",
      " 'multi-potent skeletal muscle stem cell' 'myoblast' 'natural killer cell'\n",
      " 'skeletal muscle fiber' 'slow muscle cell' 'smooth muscle cell'\n",
      " 'tendon cell' 'unassigned']\n",
      "Pancreas\n"
     ]
    },
    {
     "name": "stderr",
     "output_type": "stream",
     "text": [
      "Trying to set attribute `.var` of view, copying.\n"
     ]
    },
    {
     "name": "stdout",
     "output_type": "stream",
     "text": [
      "[2020-07-16 19:34:21,469] INFO - scvi.dataset.dataset | Remapping batch_indices to [0,N]\n",
      "[2020-07-16 19:34:21,470] INFO - scvi.dataset.dataset | Remapping labels to [0,N]\n",
      "[2020-07-16 19:34:22,025] INFO - scvi.dataset.dataset | Computing the library size for the new data\n",
      "[2020-07-16 19:34:22,110] INFO - scvi.dataset.dataset | Downsampled from 8893 to 8893 cells\n",
      "[2020-07-16 19:34:22,231] INFO - scvi.dataset.dataset | Downsampling from 51464 to 29777 genes\n",
      "[2020-07-16 19:34:22,883] INFO - scvi.dataset.dataset | Computing the library size for the new data\n",
      "[2020-07-16 19:34:22,970] INFO - scvi.dataset.dataset | Filtering non-expressing cells.\n",
      "[2020-07-16 19:34:23,521] INFO - scvi.dataset.dataset | Computing the library size for the new data\n",
      "[2020-07-16 19:34:23,605] INFO - scvi.dataset.dataset | Downsampled from 8893 to 8893 cells\n",
      "[2020-07-16 19:34:23,606] INFO - scvi.dataset.dataset | extracting highly variable genes\n",
      "[2020-07-16 19:34:41,109] INFO - scvi.dataset.dataset | Downsampling from 29777 to 4446 genes\n",
      "[2020-07-16 19:34:41,276] INFO - scvi.dataset.dataset | Computing the library size for the new data\n",
      "[2020-07-16 19:34:41,286] INFO - scvi.dataset.dataset | Filtering non-expressing cells.\n",
      "[2020-07-16 19:34:41,369] INFO - scvi.dataset.dataset | Computing the library size for the new data\n",
      "[2020-07-16 19:34:41,379] INFO - scvi.dataset.dataset | Downsampled from 8893 to 8893 cells\n"
     ]
    },
    {
     "name": "stderr",
     "output_type": "stream",
     "text": [
      "Trying to set attribute `.var` of view, copying.\n"
     ]
    },
    {
     "name": "stdout",
     "output_type": "stream",
     "text": [
      "['T cell' 'endothelial cell' 'macrophage' 'pancreatic A cell'\n",
      " 'pancreatic D cell' 'pancreatic acinar cell' 'pancreatic ductal cell'\n",
      " 'pancreatic stellate cell' 'type B pancreatic cell'] ['B cell' 'T cell' 'endothelial cell' 'macrophage' 'pancreatic A cell'\n",
      " 'pancreatic D cell' 'pancreatic acinar cell' 'pancreatic ductal cell'\n",
      " 'pancreatic stellate cell' 'type B pancreatic cell' 'unassigned']\n",
      "Skin\n",
      "[2020-07-16 19:34:42,035] INFO - scvi.dataset.anndataset | Dense size under 1Gb, casting to dense format (np.ndarray).\n",
      "[2020-07-16 19:34:42,317] INFO - scvi.dataset.dataset | Remapping batch_indices to [0,N]\n",
      "[2020-07-16 19:34:42,318] INFO - scvi.dataset.dataset | Remapping labels to [0,N]\n",
      "[2020-07-16 19:34:42,723] INFO - scvi.dataset.dataset | Computing the library size for the new data\n",
      "[2020-07-16 19:34:42,789] INFO - scvi.dataset.dataset | Downsampled from 856 to 856 cells\n",
      "[2020-07-16 19:34:42,870] INFO - scvi.dataset.dataset | Downsampling from 39804 to 39804 genes\n",
      "[2020-07-16 19:34:43,304] INFO - scvi.dataset.dataset | Computing the library size for the new data\n",
      "[2020-07-16 19:34:43,471] INFO - scvi.dataset.dataset | Filtering non-expressing cells.\n",
      "[2020-07-16 19:34:43,970] INFO - scvi.dataset.dataset | Computing the library size for the new data\n",
      "[2020-07-16 19:34:44,041] INFO - scvi.dataset.dataset | Downsampled from 856 to 856 cells\n",
      "[2020-07-16 19:34:44,042] INFO - scvi.dataset.dataset | extracting highly variable genes\n",
      "[2020-07-16 19:34:51,461] INFO - scvi.dataset.dataset | Downsampling from 39804 to 428 genes\n",
      "[2020-07-16 19:34:51,470] INFO - scvi.dataset.dataset | Computing the library size for the new data\n",
      "[2020-07-16 19:34:51,472] INFO - scvi.dataset.dataset | Filtering non-expressing cells.\n",
      "[2020-07-16 19:34:51,478] INFO - scvi.dataset.dataset | Computing the library size for the new data\n",
      "[2020-07-16 19:34:51,479] INFO - scvi.dataset.dataset | Downsampled from 856 to 856 cells\n",
      "['Langerhans cell' 'T cell' 'conventional dendritic cell'\n",
      " 'cytotoxic T cell' 'endothelial cell of vascular tree' 'epithelial cell'\n",
      " 'fibroblast' 'macrophage' 'mast cell' 'melanocyte' 'memory T cell'] ['Langerhans cell' 'T cell' 'conventional dendritic cell'\n",
      " 'cytotoxic T cell' 'endothelial cell of vascular tree' 'epithelial cell'\n",
      " 'fibroblast' 'macrophage' 'mast cell' 'melanocyte' 'memory T cell'\n",
      " 'unassigned']\n",
      "Small_Intestine\n"
     ]
    },
    {
     "name": "stderr",
     "output_type": "stream",
     "text": [
      "Trying to set attribute `.var` of view, copying.\n"
     ]
    },
    {
     "name": "stdout",
     "output_type": "stream",
     "text": [
      "[2020-07-16 19:34:52,407] INFO - scvi.dataset.dataset | Remapping batch_indices to [0,N]\n",
      "[2020-07-16 19:34:52,408] INFO - scvi.dataset.dataset | Remapping labels to [0,N]\n",
      "[2020-07-16 19:34:52,714] INFO - scvi.dataset.dataset | Computing the library size for the new data\n",
      "[2020-07-16 19:34:52,766] INFO - scvi.dataset.dataset | Downsampled from 9546 to 9546 cells\n",
      "[2020-07-16 19:34:52,845] INFO - scvi.dataset.dataset | Downsampling from 46820 to 29378 genes\n",
      "[2020-07-16 19:34:53,215] INFO - scvi.dataset.dataset | Computing the library size for the new data\n",
      "[2020-07-16 19:34:53,269] INFO - scvi.dataset.dataset | Filtering non-expressing cells.\n",
      "[2020-07-16 19:34:53,573] INFO - scvi.dataset.dataset | Computing the library size for the new data\n",
      "[2020-07-16 19:34:53,626] INFO - scvi.dataset.dataset | Downsampled from 9546 to 9546 cells\n",
      "[2020-07-16 19:34:53,627] INFO - scvi.dataset.dataset | extracting highly variable genes\n",
      "[2020-07-16 19:35:09,137] INFO - scvi.dataset.dataset | Downsampling from 29378 to 4773 genes\n",
      "[2020-07-16 19:35:09,258] INFO - scvi.dataset.dataset | Computing the library size for the new data\n",
      "[2020-07-16 19:35:09,268] INFO - scvi.dataset.dataset | Filtering non-expressing cells.\n",
      "[2020-07-16 19:35:09,328] INFO - scvi.dataset.dataset | Computing the library size for the new data\n",
      "[2020-07-16 19:35:09,337] INFO - scvi.dataset.dataset | Downsampled from 9546 to 9546 cells\n",
      "['B cell' 'T cell' 'brush cell' 'duodenum glandular cells'\n",
      " 'endothelial cell of lymphatic vessel' 'enterocyte'\n",
      " 'enteroendocrine cell' 'fibroblast' 'goblet cell'\n",
      " 'intestinal crypt stem cell distal' 'intestinal crypt stem cell proximal'\n",
      " 'intestinal secretory progenitor' 'intestinal transient amplifying cell'\n",
      " 'paneth cell' 'vein endothelial cell'] ['B cell' 'T cell' 'brush cell' 'duodenum glandular cells'\n",
      " 'endothelial cell of lymphatic vessel' 'enterocyte'\n",
      " 'enteroendocrine cell' 'fibroblast' 'goblet cell'\n",
      " 'intestinal crypt stem cell distal' 'intestinal crypt stem cell proximal'\n",
      " 'intestinal secretory progenitor' 'intestinal transient amplifying cell'\n",
      " 'paneth cell' 'unassigned' 'vein endothelial cell']\n",
      "Spleen\n"
     ]
    },
    {
     "name": "stderr",
     "output_type": "stream",
     "text": [
      "Trying to set attribute `.var` of view, copying.\n"
     ]
    },
    {
     "name": "stdout",
     "output_type": "stream",
     "text": [
      "[2020-07-16 19:35:10,785] INFO - scvi.dataset.dataset | Remapping batch_indices to [0,N]\n",
      "[2020-07-16 19:35:10,787] INFO - scvi.dataset.dataset | Remapping labels to [0,N]\n",
      "[2020-07-16 19:35:11,169] INFO - scvi.dataset.dataset | Computing the library size for the new data\n",
      "[2020-07-16 19:35:11,231] INFO - scvi.dataset.dataset | Downsampled from 8366 to 8366 cells\n",
      "[2020-07-16 19:35:11,322] INFO - scvi.dataset.dataset | Downsampling from 41287 to 26387 genes\n",
      "[2020-07-16 19:35:11,776] INFO - scvi.dataset.dataset | Computing the library size for the new data\n",
      "[2020-07-16 19:35:11,839] INFO - scvi.dataset.dataset | Filtering non-expressing cells.\n",
      "[2020-07-16 19:35:12,221] INFO - scvi.dataset.dataset | Computing the library size for the new data\n",
      "[2020-07-16 19:35:12,283] INFO - scvi.dataset.dataset | Downsampled from 8366 to 8366 cells\n",
      "[2020-07-16 19:35:12,284] INFO - scvi.dataset.dataset | extracting highly variable genes\n",
      "[2020-07-16 19:35:26,596] INFO - scvi.dataset.dataset | Downsampling from 26387 to 4183 genes\n",
      "[2020-07-16 19:35:26,735] INFO - scvi.dataset.dataset | Computing the library size for the new data\n",
      "[2020-07-16 19:35:26,746] INFO - scvi.dataset.dataset | Filtering non-expressing cells.\n",
      "[2020-07-16 19:35:26,816] INFO - scvi.dataset.dataset | Computing the library size for the new data\n",
      "[2020-07-16 19:35:26,826] INFO - scvi.dataset.dataset | Downsampled from 8366 to 8366 cells\n",
      "['CD4-positive helper T cell' 'T follicular helper cell'\n",
      " 'activated CD8-positive, alpha-beta T cell, human' 'classical monocyte'\n",
      " 'conventional dendritic cell' 'erythrocyte' 'mature NK T cell'\n",
      " 'memory B cell' 'naive B cell'\n",
      " 'naive thymus-derived CD4-positive, alpha-beta T cell'\n",
      " 'natural killer cell' 'neutrophil' 'non-classical monocyte' 'plasma cell'\n",
      " 'plasmacytoid dendritic cell'] ['B cell' 'CD4-positive helper T cell'\n",
      " 'CD4-positive, CD25-positive, alpha-beta regulatory T cell'\n",
      " 'CD4-positive, alpha-beta cytotoxic T cell' 'T follicular helper cell'\n",
      " 'activated CD8-positive, alpha-beta T cell, human' 'classical monocyte'\n",
      " 'conventional dendritic cell' 'erythrocyte' 'intermediate monocyte'\n",
      " 'mature NK T cell' 'memory B cell' 'naive B cell'\n",
      " 'naive thymus-derived CD4-positive, alpha-beta T cell'\n",
      " 'natural killer cell' 'neutrophil' 'non-classical monocyte' 'plasma cell'\n",
      " 'plasmacytoid dendritic cell' 'unassigned']\n",
      "Thymus\n"
     ]
    },
    {
     "name": "stderr",
     "output_type": "stream",
     "text": [
      "Trying to set attribute `.var` of view, copying.\n"
     ]
    },
    {
     "name": "stdout",
     "output_type": "stream",
     "text": [
      "[2020-07-16 19:35:28,598] INFO - scvi.dataset.dataset | Remapping batch_indices to [0,N]\n",
      "[2020-07-16 19:35:28,600] INFO - scvi.dataset.dataset | Remapping labels to [0,N]\n",
      "[2020-07-16 19:35:29,149] INFO - scvi.dataset.dataset | Computing the library size for the new data\n",
      "[2020-07-16 19:35:29,247] INFO - scvi.dataset.dataset | Downsampled from 12894 to 12894 cells\n",
      "[2020-07-16 19:35:29,394] INFO - scvi.dataset.dataset | Downsampling from 44272 to 27012 genes\n",
      "[2020-07-16 19:35:30,061] INFO - scvi.dataset.dataset | Computing the library size for the new data\n",
      "[2020-07-16 19:35:30,160] INFO - scvi.dataset.dataset | Filtering non-expressing cells.\n",
      "[2020-07-16 19:35:30,703] INFO - scvi.dataset.dataset | Computing the library size for the new data\n",
      "[2020-07-16 19:35:30,801] INFO - scvi.dataset.dataset | Downsampled from 12894 to 12894 cells\n",
      "[2020-07-16 19:35:30,802] INFO - scvi.dataset.dataset | extracting highly variable genes\n",
      "[2020-07-16 19:35:47,862] INFO - scvi.dataset.dataset | Downsampling from 27012 to 2578 genes\n",
      "[2020-07-16 19:35:48,025] INFO - scvi.dataset.dataset | Computing the library size for the new data\n",
      "[2020-07-16 19:35:48,038] INFO - scvi.dataset.dataset | Filtering non-expressing cells.\n",
      "[2020-07-16 19:35:48,110] INFO - scvi.dataset.dataset | Computing the library size for the new data\n",
      "[2020-07-16 19:35:48,120] INFO - scvi.dataset.dataset | Downsampled from 12894 to 12894 cells\n",
      "['CD4-positive, alpha-beta T cell'\n",
      " 'CD4-positive, alpha-beta memory T cell'\n",
      " 'CD8-alpha-alpha-positive, alpha-beta intraepithelial T cell'\n",
      " 'CD8-positive, alpha-beta T cell' 'DN1 thymic pro-T cell' 'T cell'\n",
      " 'T follicular helper cell' 'T-helper 17 cell' 'dendritic cell, human'\n",
      " 'double negative thymocyte' 'endothelial cell' 'erythrocyte' 'fibroblast'\n",
      " 'group 3 innate lymphoid cell' 'lymphocyte' 'macrophage' 'mast cell'\n",
      " 'mature NK T cell' 'medullary thymic epithelial cell' 'memory B cell'\n",
      " 'monocyte' 'naive B cell' 'natural killer cell' 'plasma cell'\n",
      " 'pro-B cell' 'regulatory T cell' 'vascular associated smooth muscle cell'] ['CD4-positive, alpha-beta T cell'\n",
      " 'CD4-positive, alpha-beta memory T cell'\n",
      " 'CD8-alpha-alpha-positive, alpha-beta intraepithelial T cell'\n",
      " 'CD8-positive, alpha-beta T cell' 'DN1 thymic pro-T cell' 'T cell'\n",
      " 'T follicular helper cell' 'T-helper 17 cell' 'activated dendritic cell'\n",
      " 'dendritic cell, human' 'double negative thymocyte' 'endothelial cell'\n",
      " 'erythrocyte' 'fibroblast' 'group 3 innate lymphoid cell' 'lymphocyte'\n",
      " 'macrophage' 'mast cell' 'mature NK T cell'\n",
      " 'medullary thymic epithelial cell' 'megakaryocyte' 'memory B cell'\n",
      " 'monocyte' 'naive B cell' 'natural killer cell' 'plasma cell'\n",
      " 'plasmacytoid dendritic cell' 'pro-B cell' 'regulatory T cell'\n",
      " 'resting double-positive thymocyte' 'unassigned'\n",
      " 'vascular associated smooth muscle cell']\n",
      "Trachea\n"
     ]
    },
    {
     "name": "stderr",
     "output_type": "stream",
     "text": [
      "Trying to set attribute `.var` of view, copying.\n"
     ]
    },
    {
     "name": "stdout",
     "output_type": "stream",
     "text": [
      "[2020-07-16 19:35:49,680] INFO - scvi.dataset.dataset | Remapping batch_indices to [0,N]\n",
      "[2020-07-16 19:35:49,682] INFO - scvi.dataset.dataset | Remapping labels to [0,N]\n",
      "[2020-07-16 19:35:50,095] INFO - scvi.dataset.dataset | Computing the library size for the new data\n",
      "[2020-07-16 19:35:50,168] INFO - scvi.dataset.dataset | Downsampled from 8033 to 8033 cells\n",
      "[2020-07-16 19:35:50,272] INFO - scvi.dataset.dataset | Downsampling from 35760 to 18968 genes\n",
      "[2020-07-16 19:35:50,752] INFO - scvi.dataset.dataset | Computing the library size for the new data\n",
      "[2020-07-16 19:35:50,827] INFO - scvi.dataset.dataset | Filtering non-expressing cells.\n",
      "[2020-07-16 19:35:51,232] INFO - scvi.dataset.dataset | Computing the library size for the new data\n",
      "[2020-07-16 19:35:51,306] INFO - scvi.dataset.dataset | Downsampled from 8033 to 8033 cells\n",
      "[2020-07-16 19:35:51,307] INFO - scvi.dataset.dataset | extracting highly variable genes\n",
      "[2020-07-16 19:36:00,644] INFO - scvi.dataset.dataset | Downsampling from 18968 to 4016 genes\n",
      "[2020-07-16 19:36:00,819] INFO - scvi.dataset.dataset | Computing the library size for the new data\n",
      "[2020-07-16 19:36:00,835] INFO - scvi.dataset.dataset | Filtering non-expressing cells.\n",
      "[2020-07-16 19:36:00,922] INFO - scvi.dataset.dataset | Computing the library size for the new data\n",
      "[2020-07-16 19:36:00,935] INFO - scvi.dataset.dataset | Downsampled from 8033 to 8033 cells\n",
      "['B cell' 'T cell' 'basal cell' 'basophil' 'ciliated cell'\n",
      " 'endothelial cell' 'intermediate epitheliocyte' 'mesenchymal cell'\n",
      " 'secretory cell'] ['B cell' 'T cell' 'basal cell' 'basophil' 'ciliated cell'\n",
      " 'endothelial cell' 'intermediate epitheliocyte' 'mesenchymal cell'\n",
      " 'secretory cell' 'unassigned']\n",
      "Vasculature\n"
     ]
    },
    {
     "name": "stderr",
     "output_type": "stream",
     "text": [
      "Trying to set attribute `.var` of view, copying.\n"
     ]
    },
    {
     "name": "stdout",
     "output_type": "stream",
     "text": [
      "[2020-07-16 19:36:02,569] INFO - scvi.dataset.dataset | Remapping batch_indices to [0,N]\n",
      "[2020-07-16 19:36:02,571] INFO - scvi.dataset.dataset | Remapping labels to [0,N]\n",
      "[2020-07-16 19:36:03,130] INFO - scvi.dataset.dataset | Computing the library size for the new data\n",
      "[2020-07-16 19:36:03,222] INFO - scvi.dataset.dataset | Downsampled from 8583 to 8583 cells\n",
      "[2020-07-16 19:36:03,349] INFO - scvi.dataset.dataset | Downsampling from 36476 to 21058 genes\n",
      "[2020-07-16 19:36:03,993] INFO - scvi.dataset.dataset | Computing the library size for the new data\n",
      "[2020-07-16 19:36:04,085] INFO - scvi.dataset.dataset | Filtering non-expressing cells.\n",
      "[2020-07-16 19:36:04,635] INFO - scvi.dataset.dataset | Computing the library size for the new data\n",
      "[2020-07-16 19:36:04,726] INFO - scvi.dataset.dataset | Downsampled from 8583 to 8583 cells\n",
      "[2020-07-16 19:36:04,727] INFO - scvi.dataset.dataset | extracting highly variable genes\n",
      "[2020-07-16 19:36:15,645] INFO - scvi.dataset.dataset | Downsampling from 21058 to 4291 genes\n",
      "[2020-07-16 19:36:15,867] INFO - scvi.dataset.dataset | Computing the library size for the new data\n",
      "[2020-07-16 19:36:15,886] INFO - scvi.dataset.dataset | Filtering non-expressing cells.\n",
      "[2020-07-16 19:36:16,003] INFO - scvi.dataset.dataset | Computing the library size for the new data\n",
      "[2020-07-16 19:36:16,018] INFO - scvi.dataset.dataset | Downsampled from 8583 to 8583 cells\n",
      "['B cell' 'T cell' 'endothelial cell' 'endothelial cell of artery'\n",
      " 'epithelial cell' 'erythrocyte' 'fibroblast' 'macrophage' 'mast cell'\n",
      " 'pericyte cell' 'plasma cell' 'smooth muscle cell'] ['B cell' 'T cell' 'endothelial cell' 'endothelial cell of artery'\n",
      " 'epithelial cell' 'erythrocyte' 'fibroblast' 'macrophage' 'mast cell'\n",
      " 'pericyte cell' 'plasma cell' 'smooth muscle cell' 'unassigned']\n"
     ]
    },
    {
     "data": {
      "image/png": "[encoded data removed]",
      "text/plain": [
       "<Figure size 432x288 with 1 Axes>"
      ]
     },
     "metadata": {
      "needs_background": "light"
     },
     "output_type": "display_data"
    }
   ],
   "source": [
    "for organ in organs:\n",
    "    print(organ)\n",
    "    organ_data = combined[combined.obs['tissue']==organ]\n",
    "    if organ=='Skin':\n",
    "        organ_data = organ_data[organ_data.obs['method']=='smartseq2']\n",
    "    organ_data = organ_data[organ_data.obs['manual_cell_ontology_class']!='low_quality']\n",
    "    sc.pp.filter_genes(organ_data, min_cells=1)\n",
    "    train_data = scVIdata_preprocess(organ_data, 'donor_tech', 'manual_cell_ontology_class')\n",
    "    train_data.filter_genes_by_count(per_batch=True)\n",
    "    if train_data.X.shape[0]>10000:\n",
    "        train_data.subsample_genes(train_data.X.shape[0]//5)\n",
    "    else:\n",
    "        train_data.subsample_genes(train_data.X.shape[0]//2)\n",
    "    posterior = get_scvi_posterior(train_data, \n",
    "                               model_path+'combined.%s.scVI.subsample_genes.pkl'%organ, \n",
    "                               retrain=retrain, n_epochs=100)\n",
    "\n",
    "\n",
    "    full, pred_celltype = scanvi_pred(train_data, \n",
    "                                      model_path+'combined.%s.scVI.subsample_genes.pkl'%organ,\n",
    "                                      model_path+'combined.%s.scANVI.subsample_genes.pkl'%organ,\n",
    "                                      nlabels=30, retrain=retrain)\n",
    "\n",
    "    pred_celltype = np.asarray([train_data.cell_types[x] for x in pred_celltype])\n",
    "    assert np.sum(pred_celltype=='unassigned')==0\n",
    "    labels.loc[organ_data.obs.index,'pred'] = pred_celltype\n",
    "    print(np.unique(pred_celltype), train_data.cell_types)"
   ]
  },
  {
   "cell_type": "code",
   "execution_count": 27,
   "metadata": {},
   "outputs": [],
   "source": [
    "labels['pred'].fillna('unassigned', inplace=True)"
   ]
  },
  {
   "cell_type": "code",
   "execution_count": 28,
   "metadata": {},
   "outputs": [
    {
     "data": {
      "text/plain": [
       "array(['Kidney', 'Skin'], dtype=object)"
      ]
     },
     "execution_count": 28,
     "metadata": {},
     "output_type": "execute_result"
    }
   ],
   "source": [
    "np.unique(combined.obs.loc[labels['pred']=='unassigned','tissue'])"
   ]
  },
  {
   "cell_type": "code",
   "execution_count": 29,
   "metadata": {},
   "outputs": [
    {
     "data": {
      "text/plain": [
       "3"
      ]
     },
     "execution_count": 29,
     "metadata": {},
     "output_type": "execute_result"
    }
   ],
   "source": [
    "np.sum(labels['pred']=='unassigned')"
   ]
  },
  {
   "cell_type": "code",
   "execution_count": 30,
   "metadata": {},
   "outputs": [
    {
     "data": {
      "text/plain": [
       "1"
      ]
     },
     "execution_count": 30,
     "metadata": {},
     "output_type": "execute_result"
    }
   ],
   "source": [
    "np.sum([x == 'low_quality' for x in combined.obs['manual_cell_ontology_class']])"
   ]
  },
  {
   "cell_type": "code",
   "execution_count": 31,
   "metadata": {},
   "outputs": [
    {
     "data": {
      "text/plain": [
       "858"
      ]
     },
     "execution_count": 31,
     "metadata": {},
     "output_type": "execute_result"
    }
   ],
   "source": [
    "np.sum([x in ['Fat', 'Heart', \"Skin\"] for x in combined.obs['tissue']])"
   ]
  },
  {
   "cell_type": "code",
   "execution_count": 32,
   "metadata": {},
   "outputs": [],
   "source": [
    "combined.obs['propagated_cell_ontology_class'] = labels.loc[combined.obs.index, 'pred']"
   ]
  },
  {
   "cell_type": "code",
   "execution_count": 33,
   "metadata": {},
   "outputs": [],
   "source": [
    "combined.obs.to_csv(data_path + 'combined/annotation.subsample_genes.csv')"
   ]
  }
 ],
 "metadata": {
  "kernelspec": {
   "display_name": "Python [conda env:pytorch_p36]",
   "language": "python",
   "name": "conda-env-pytorch_p36-py"
  },
  "language_info": {
   "codemirror_mode": {
    "name": "ipython",
    "version": 3
   },
   "file_extension": ".py",
   "mimetype": "text/x-python",
   "name": "python",
   "nbconvert_exporter": "python",
   "pygments_lexer": "ipython3",
   "version": "3.6.10"
  }
 },
 "nbformat": 4,
 "nbformat_minor": 2
}
