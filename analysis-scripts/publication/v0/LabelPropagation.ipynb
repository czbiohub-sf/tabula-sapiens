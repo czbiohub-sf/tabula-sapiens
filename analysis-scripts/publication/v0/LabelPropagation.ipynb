{
 "cells": [
  {
   "cell_type": "markdown",
   "metadata": {},
   "source": [
    "# Label propagation\n",
    "Each organ expert group had used cellxgene to annotate celltypes from a cellxgene object. \n",
    "We read in the csv output by cellxgene (this required a little bit of manual engineering because the column names and numbers are not the same) \n",
    "Also skin was a last addition to the dataset, and is derived using a SS2 dataset rather than 10X, so the file names contain skin to differentiate it from previous versions of annotation."
   ]
  },
  {
   "cell_type": "markdown",
   "metadata": {},
   "source": [
    "# load necessary pacakges"
   ]
  },
  {
   "cell_type": "code",
   "execution_count": 1,
   "metadata": {},
   "outputs": [],
   "source": [
    "import sys\n",
    "import os \n",
    "\n",
    "sys.path.append('/data/yosef2/users/chenling/scVI/')\n",
    "sys.path.append('/data/yosef2/users/chenling/tabula-sapiens/')\n",
    "import anndata\n",
    "\n",
    "from scvi.dataset import AnnDatasetFromAnnData\n",
    "from utils.annotations_utils import *\n",
    "from anndata import read_h5ad\n",
    "import scanpy as sc\n",
    "\n",
    "from copy import deepcopy\n",
    "retrain=False\n",
    "\n",
    "import matplotlib\n",
    "%matplotlib inline"
   ]
  },
  {
   "cell_type": "markdown",
   "metadata": {},
   "source": [
    "# set and create directories for saving results"
   ]
  },
  {
   "cell_type": "code",
   "execution_count": 30,
   "metadata": {},
   "outputs": [],
   "source": [
    "data_path = '/data/yosef2/users/chenling/TabulaSapiensData/'\n",
    "model_path = '/data/yosef2/users/chenling/TabulaSapiens/scVImodels_final/'\n",
    "res_path = '/data/yosef2/users/chenling/TabulaSapiens/Pilot2_rerun/'\n",
    "\n",
    "if not os.path.exists(model_path):\n",
    "    os.mkdir(model_path)\n",
    "if not os.path.exists(model_path+'scanvi/'):\n",
    "    os.mkdir(model_path+'scanvi/')\n",
    "if not os.path.exists(res_path):\n",
    "    os.mkdir(res_path)"
   ]
  },
  {
   "cell_type": "markdown",
   "metadata": {},
   "source": [
    "# make annotation file for pilot2\n",
    "This section of the notebook summarizes and concatenate the cellxgene output csv files and generate an annotation file 'Pilot2/pilot2.all.unique.skin.csv' for all Pilot2 datasets."
   ]
  },
  {
   "cell_type": "code",
   "execution_count": 3,
   "metadata": {},
   "outputs": [
    {
     "name": "stdout",
     "output_type": "stream",
     "text": [
      "['TSP2.lung.SoRi.csv', 'TSP2.trachea.William.csv', 'TSP2.thymus.Koki.csv', 'TSP2.bladder.Aaron.csv', 'TSP2.blood.Sheela.csv', 'TSP2.lymphnode.Kimberly.csv', 'TSP2.spleen.Kimberly.csv', 'TSP2.li.Zhen.csv', 'TSP2.muscle.Antoine.csv', 'TSP2.si.Zhen.csv', 'TSP2.skin.Kimberly.csv', 'hide', 'TSP2.vasculature.Ragini.csv', 'TSP2.kidney.Gabe.csv', 'TSP2_BM_ManualAnnotation_MSwift.h5ad', 'TSP2.all.unique.csv', 'TSP2.bm.MSwift.csv']\n"
     ]
    }
   ],
   "source": [
    "ann_path = '/data/yosef2/users/chenling/TabulaSapiensData/Pilot2/ManualAnnotation/'\n",
    "ann_files = os.listdir(ann_path)\n",
    "print(ann_files)"
   ]
  },
  {
   "cell_type": "code",
   "execution_count": 4,
   "metadata": {},
   "outputs": [],
   "source": [
    "pilot2_meta = pd.read_csv(data_path + 'Pilot2/pilot2.meta.csv', index_col=0)"
   ]
  },
  {
   "cell_type": "code",
   "execution_count": 5,
   "metadata": {},
   "outputs": [
    {
     "name": "stdout",
     "output_type": "stream",
     "text": [
      "TSP2.lung.SoRi.csv\n",
      "(array([16]), array([20605]))\n",
      "TSP2.trachea.William.csv\n",
      "(array([16]), array([4680]))\n",
      "TSP2.thymus.Koki.csv\n",
      "(array([16]), array([8035]))\n",
      "TSP2.bladder.Aaron.csv\n",
      "(array([16]), array([10334]))\n",
      "TSP2.blood.Sheela.csv\n",
      "(array([16]), array([10177]))\n",
      "TSP2.lymphnode.Kimberly.csv\n",
      "(array([16]), array([9110]))\n",
      "TSP2.spleen.Kimberly.csv\n",
      "(array([16]), array([7294]))\n",
      "TSP2.li.Zhen.csv\n",
      "(array([16]), array([7704]))\n",
      "TSP2.muscle.Antoine.csv\n",
      "(array([16]), array([15689]))\n",
      "TSP2.si.Zhen.csv\n",
      "(array([16]), array([6273]))\n",
      "TSP2.skin.Kimberly.csv\n",
      "(array([78, 79, 80, 81, 82, 83, 84, 85, 86]), array([  4,  13,  27,  56,  70, 197, 190, 153, 146]))\n",
      "TSP2.vasculature.Ragini.csv\n",
      "(array([16]), array([7492]))\n",
      "TSP2.kidney.Gabe.csv\n",
      "(array([16]), array([22403]))\n",
      "TSP2.all.unique.csv\n",
      "(array([16]), array([132103]))\n",
      "TSP2.bm.MSwift.csv\n",
      "(array([16]), array([2881]))\n"
     ]
    }
   ],
   "source": [
    "annotations = {}\n",
    "for x in ann_files:\n",
    "    if 'csv' in x:\n",
    "        print(x)\n",
    "        organ = x.split('.')[1]\n",
    "        if organ=='bm':\n",
    "            tab = pd.read_csv(ann_path + x, index_col=0)\n",
    "        else:\n",
    "            tab = pd.read_csv(ann_path + x, index_col=0, skiprows=2)\n",
    "        tab.index = [x.split('-')[0] for x in tab.index]\n",
    "        if organ=='muscle':\n",
    "            barcodes = tab.index\n",
    "            unique_barcodes, count = np.unique(barcodes, return_counts=True)\n",
    "            is_unique = [x in unique_barcodes[count==1] for x in barcodes]\n",
    "            tab = tab.loc[is_unique]\n",
    "        is_pilot2 = [x for x in tab.index if x in pilot2_meta.index]\n",
    "        tab = tab.loc[is_pilot2]        \n",
    "        tab = tab[[tab.columns[-1]]]\n",
    "        tab.columns= ['manual_annotation']\n",
    "        tab['organ'] = organ\n",
    "        print(np.unique([len(x) for x in tab.index], return_counts=True))\n",
    "        annotations[organ] = tab\n"
   ]
  },
  {
   "cell_type": "code",
   "execution_count": 6,
   "metadata": {},
   "outputs": [
    {
     "name": "stdout",
     "output_type": "stream",
     "text": [
      "(133533, 2)\n",
      "(132961, 2)\n"
     ]
    }
   ],
   "source": [
    "ann = pd.concat([annotations[x] for x in annotations.keys() if x != 'all'], axis=0)\n",
    "print(ann.shape)\n",
    "barcodes = ann.index\n",
    "unique_barcodes, count = np.unique(barcodes, return_counts=True)\n",
    "ann = ann.loc[unique_barcodes[count==1]]\n",
    "print(ann.shape)"
   ]
  },
  {
   "cell_type": "code",
   "execution_count": 7,
   "metadata": {},
   "outputs": [
    {
     "name": "stdout",
     "output_type": "stream",
     "text": [
      "(133533, 2)\n",
      "(132961, 2)\n"
     ]
    }
   ],
   "source": [
    "ann = pd.concat([annotations[x] for x in annotations.keys() if x != 'all'], axis=0)\n",
    "print(ann.shape)\n",
    "barcodes = ann.index\n",
    "unique_barcodes, count = np.unique(barcodes, return_counts=True)\n",
    "ann = ann.loc[unique_barcodes[count==1]]\n",
    "print(ann.shape)"
   ]
  },
  {
   "cell_type": "code",
   "execution_count": 8,
   "metadata": {},
   "outputs": [],
   "source": [
    "ann.to_csv(data_path + 'Pilot2/pilot2.all.unique.skin.csv')"
   ]
  },
  {
   "cell_type": "markdown",
   "metadata": {},
   "source": [
    "# Combining labels and unannotated filtered object\n",
    "This section of the notebook matches the annotation file to unannoated combeind object from pilot1 and pilot2.\n",
    "\n",
    "### read unannotated combined object"
   ]
  },
  {
   "cell_type": "code",
   "execution_count": 9,
   "metadata": {},
   "outputs": [],
   "source": [
    "combined = read_h5ad(data_path + 'combined/Pilot1_Pilot2_filtered_ensembl_id.no_heart_fat_low_quality.june30.ss2_norm.embedding_donor_tech.h5ad')"
   ]
  },
  {
   "cell_type": "markdown",
   "metadata": {},
   "source": [
    "### match 'Pilot1/pilot1.ann.csv' and 'Pilot2/pilot2.all.unique.skin.csv' to unannotated cells by their cell id. "
   ]
  },
  {
   "cell_type": "code",
   "execution_count": 10,
   "metadata": {},
   "outputs": [],
   "source": [
    "ann1 = pd.read_csv(data_path+'Pilot1/pilot1.ann.csv', index_col=0, dtype=str)"
   ]
  },
  {
   "cell_type": "code",
   "execution_count": 11,
   "metadata": {},
   "outputs": [],
   "source": [
    "ann2 = combined.obs.loc[combined.obs['donor']=='TSP2']\n",
    "ann2.index = [x.split('-')[0] for x in ann2.index]"
   ]
  },
  {
   "cell_type": "code",
   "execution_count": 12,
   "metadata": {},
   "outputs": [],
   "source": [
    "unique = ann2.index.drop_duplicates(keep=False)\n",
    "ann2 = ann2.loc[unique]"
   ]
  },
  {
   "cell_type": "code",
   "execution_count": 13,
   "metadata": {},
   "outputs": [],
   "source": [
    "ann2_new = pd.read_csv(data_path + 'Pilot2/pilot2.all.unique.skin.csv', index_col=0, dtype=str)\n",
    "ann2_new['Organ'] = [x[0].upper()+x[1:] for x in ann2_new['organ']]\n",
    "ann2_new['Organ'].replace('Bm', 'Bone_Marrow', inplace=True)\n",
    "ann2_new['Organ'].replace('Li', 'Large_Intestine', inplace=True)\n",
    "ann2_new['Organ'].replace('Lymphnode', 'Lymph_Node', inplace=True)\n",
    "ann2_new['Organ'].replace('Si','Small_Intestine', inplace=True)\n",
    "ann2.index = [x+'_'+y for x,y in zip(ann2.index.values, ann2['tissue'])]\n",
    "ann2_new.index = [x+'_'+y for x,y in zip(ann2_new.index.values, ann2_new['Organ'])]\n",
    "ann2['manual_annotation'] = ann2_new.loc[ann2.index, 'manual_annotation']\n",
    "ann2['manual_annotation'].fillna('unassigned',inplace=True)"
   ]
  },
  {
   "cell_type": "code",
   "execution_count": 14,
   "metadata": {},
   "outputs": [],
   "source": [
    "ann1.index = ['_'.join(['TSP1',x]) for x in ann1.index]\n",
    "ann2.index = ['_'.join(['TSP2',x,y]) for x,y in zip(ann2.index, ann2['sequencer'])]"
   ]
  },
  {
   "cell_type": "code",
   "execution_count": 15,
   "metadata": {},
   "outputs": [],
   "source": [
    "idx1 = combined.obs.loc[combined.obs['donor']=='TSP1'].index\n",
    "idx2 = combined.obs.loc[combined.obs['donor']=='TSP2'].index\n",
    "seq2 = combined.obs.loc[combined.obs['donor']=='TSP2',['tissue','sequencer']].apply(lambda x:\"_\".join(x), axis=1)\n",
    "\n",
    "idx1 = [x.split('-')[0] for x in idx1]\n",
    "idx2 = [x.split('-')[0] for x in idx2]\n",
    "idx1 = ['_'.join(['TSP1',x]) for x in idx1]\n",
    "idx2 = ['_'.join(['TSP2',x,y]) for x,y in zip(idx2, seq2)]\n",
    "\n",
    "assert len(idx1) == len(np.unique(idx1))\n",
    "assert len(idx2) == len(np.unique(idx2))"
   ]
  },
  {
   "cell_type": "markdown",
   "metadata": {},
   "source": [
    "### convert manual annotation terms to cell ontology terms using 'ontology/pilot2.manual2co.txt'"
   ]
  },
  {
   "cell_type": "code",
   "execution_count": 19,
   "metadata": {},
   "outputs": [
    {
     "name": "stdout",
     "output_type": "stream",
     "text": [
      "0.4773788955013758 0.2830430395879245\n"
     ]
    }
   ],
   "source": [
    "label_dict = pd.read_csv(data_path + 'ontology/pilot2.manual2co.txt', delimiter=';', index_col=0, dtype=str)\n",
    "new_terms = pd.read_csv(data_path + 'ontology/new_terms.csv', delimiter='|', index_col=1, dtype=str)\n",
    "\n",
    "labels1 = ann1.loc[idx1, 'Manual Annotation Round 2'].fillna('unassigned')\n",
    "labels2 = ann2.loc[idx2, 'manual_annotation'].fillna('unassigned')\n",
    "print(np.sum(labels1=='unassigned')/len(labels1),np.sum(labels2=='unassigned')/len(labels2))"
   ]
  },
  {
   "cell_type": "code",
   "execution_count": 20,
   "metadata": {},
   "outputs": [],
   "source": [
    "labels = pd.concat([labels1, labels2])\n",
    "labels = pd.DataFrame(labels)"
   ]
  },
  {
   "cell_type": "code",
   "execution_count": 21,
   "metadata": {},
   "outputs": [],
   "source": [
    "labels_clean = []\n",
    "others = []\n",
    "for x in labels[0]:\n",
    "    if x=='unassigned':\n",
    "        labels_clean.append(x)\n",
    "    elif x not in label_dict.index:\n",
    "        labels_clean.append(new_terms.loc[x, 'parent_name'])\n",
    "        others.append(x)\n",
    "    else:\n",
    "        labels_clean.append(label_dict.loc[x,'cell_ontology_class'])\n",
    "\n",
    "labels[1] = labels_clean"
   ]
  },
  {
   "cell_type": "code",
   "execution_count": 22,
   "metadata": {},
   "outputs": [],
   "source": [
    "combined.obs['barcode']=''\n",
    "combined.obs.loc[combined.obs['donor']=='TSP1', 'barcode'] = idx1\n",
    "combined.obs.loc[combined.obs['donor']=='TSP2', 'barcode'] = idx2\n",
    "\n",
    "combined.obs['manual_annotation'] = labels.loc[combined.obs['barcode'],0].values\n",
    "combined.obs['manual_cell_ontology_class'] = labels.loc[combined.obs['barcode'],1].values\n"
   ]
  },
  {
   "cell_type": "code",
   "execution_count": 23,
   "metadata": {},
   "outputs": [],
   "source": [
    "temp = [x.split('_')[1] for x in combined.obs['barcode']]\n",
    "assert np.sum([x in y for x,y in zip(temp, combined.obs.index)]) == len(temp)"
   ]
  },
  {
   "cell_type": "code",
   "execution_count": 24,
   "metadata": {},
   "outputs": [],
   "source": [
    "combined.obs.to_csv(data_path + 'Pilot1_Pilot2.annotation.csv')"
   ]
  },
  {
   "cell_type": "markdown",
   "metadata": {},
   "source": [
    "# read dataset with manual annotation"
   ]
  },
  {
   "cell_type": "code",
   "execution_count": 25,
   "metadata": {},
   "outputs": [],
   "source": [
    "combined = read_h5ad(data_path + \n",
    "                     'combined/Pilot1_Pilot2_filtered_ensembl_id.june30.ss2_norm.embedding_donor_tech.h5ad')\n",
    "\n",
    "annotations = pd.read_csv(data_path + 'Pilot1_Pilot2.annotation.csv')\n",
    "\n",
    "annotations.index = annotations['cell_id']\n",
    "\n",
    "combined.obs['manual_cell_ontology_class'] = annotations.loc[combined.obs['cell_id'],'manual_cell_ontology_class'].values\n",
    "combined.obs['manual_annotation'] = annotations.loc[combined.obs['cell_id'],'manual_annotation'].values\n",
    "combined.obs['manual_annotation'].fillna('unassigned',inplace=True)\n",
    "combined.obs['manual_cell_ontology_class'].fillna('unassigned',inplace=True)"
   ]
  },
  {
   "cell_type": "markdown",
   "metadata": {},
   "source": [
    "# propagate labels per tissue"
   ]
  },
  {
   "cell_type": "code",
   "execution_count": 26,
   "metadata": {},
   "outputs": [],
   "source": [
    "organs = np.unique(combined.obs['tissue'])"
   ]
  },
  {
   "cell_type": "code",
   "execution_count": 31,
   "metadata": {},
   "outputs": [],
   "source": [
    "labels = pd.DataFrame(index=combined.obs.index, columns=['pred_pretrained', 'pred_subsampled'])"
   ]
  },
  {
   "cell_type": "code",
   "execution_count": 32,
   "metadata": {},
   "outputs": [
    {
     "name": "stdout",
     "output_type": "stream",
     "text": [
      "['Bladder', 'Blood', 'Bone_Marrow', 'Kidney', 'Large_Intestine', 'Lung', 'Lymph_Node', 'Muscle', 'Pancreas', 'Skin', 'Small_Intestine', 'Spleen', 'Thymus', 'Trachea', 'Vasculature']\n"
     ]
    }
   ],
   "source": [
    "organs = [ x for x in organs if x not in ['Heart','Fat']]\n",
    "print(organs)"
   ]
  },
  {
   "cell_type": "markdown",
   "metadata": {},
   "source": [
    "# train using pre-trained scVI model"
   ]
  },
  {
   "cell_type": "code",
   "execution_count": 33,
   "metadata": {},
   "outputs": [
    {
     "name": "stdout",
     "output_type": "stream",
     "text": [
      "Bladder\n"
     ]
    },
    {
     "name": "stderr",
     "output_type": "stream",
     "text": [
      "Trying to set attribute `.obs` of view, copying.\n"
     ]
    },
    {
     "name": "stdout",
     "output_type": "stream",
     "text": [
      "[2020-07-15 16:00:19,210] INFO - scvi.dataset.dataset | Remapping batch_indices to [0,N]\n",
      "[2020-07-15 16:00:19,212] INFO - scvi.dataset.dataset | Remapping labels to [0,N]\n",
      "[2020-07-15 16:00:23,482] INFO - scvi.dataset.dataset | Computing the library size for the new data\n",
      "[2020-07-15 16:00:25,086] INFO - scvi.dataset.dataset | Downsampled from 25751 to 25751 cells\n",
      "labelled indices:  [ 0  1  2  3  4  5  6  7  8  9 10 11 12 13 14 15 16 17 18]\n",
      "unlabelled indices:  [ 0  1  2  3  4  5  6  7  8  9 10 11 12 13 15 16 17 18]\n"
     ]
    },
    {
     "data": {
      "application/vnd.jupyter.widget-view+json": {
       "model_id": "809aa3058590430ca8e6a09d9afcf33a",
       "version_major": 2,
       "version_minor": 0
      },
      "text/plain": [
       "HBox(children=(FloatProgress(value=0.0, max=15.0), HTML(value='')))"
      ]
     },
     "metadata": {},
     "output_type": "display_data"
    },
    {
     "name": "stdout",
     "output_type": "stream",
     "text": [
      "Epoch:  0\n",
      "Epoch:  1\n",
      "Epoch:  2\n",
      "Epoch:  3\n",
      "Epoch:  4\n",
      "Epoch:  5\n",
      "Epoch:  6\n",
      "Epoch:  7\n",
      "Epoch:  8\n",
      "Epoch:  9\n",
      "Epoch:  10\n",
      "Epoch:  11\n",
      "Epoch:  12\n",
      "Epoch:  13\n",
      "Epoch:  14\n",
      "\n",
      "['B cell' 'T cell' 'basal cell' 'bladder urothelial cell'\n",
      " 'endothelial cell' 'fibroblast' 'intermediate epitheliocyte' 'macrophage'\n",
      " 'mast cell' 'mature NK T cell' 'myoblast' 'myofibroblast cell'\n",
      " 'natural killer cell' 'plasma cell' 'plasmacytoid dendritic cell, human'\n",
      " 'smooth muscle cell' 'vascular associated smooth muscle cell'\n",
      " 'vein endothelial cell'] ['B cell' 'T cell' 'basal cell' 'bladder urothelial cell'\n",
      " 'endothelial cell' 'fibroblast' 'intermediate epitheliocyte' 'macrophage'\n",
      " 'mast cell' 'mature NK T cell' 'myoblast' 'myofibroblast cell'\n",
      " 'natural killer cell' 'plasma cell' 'plasmacytoid dendritic cell, human'\n",
      " 'smooth muscle cell' 'unassigned'\n",
      " 'vascular associated smooth muscle cell' 'vein endothelial cell']\n",
      "Blood\n"
     ]
    },
    {
     "name": "stderr",
     "output_type": "stream",
     "text": [
      "Trying to set attribute `.obs` of view, copying.\n"
     ]
    },
    {
     "name": "stdout",
     "output_type": "stream",
     "text": [
      "[2020-07-15 16:10:43,362] INFO - scvi.dataset.dataset | Remapping batch_indices to [0,N]\n",
      "[2020-07-15 16:10:43,366] INFO - scvi.dataset.dataset | Remapping labels to [0,N]\n",
      "[2020-07-15 16:10:45,777] INFO - scvi.dataset.dataset | Computing the library size for the new data\n",
      "[2020-07-15 16:10:46,926] INFO - scvi.dataset.dataset | Downsampled from 16017 to 16017 cells\n",
      "labelled indices:  [ 0  1  2  3  4  5  6  7  8  9 10 11 12 13 14 15 16 17 18]\n",
      "unlabelled indices:  [ 0  1  2  3  4  5  7 12 13 14 15 17 18]\n"
     ]
    },
    {
     "data": {
      "application/vnd.jupyter.widget-view+json": {
       "model_id": "a220a88f80bd4bedb634c55092f47e35",
       "version_major": 2,
       "version_minor": 0
      },
      "text/plain": [
       "HBox(children=(FloatProgress(value=0.0, max=15.0), HTML(value='')))"
      ]
     },
     "metadata": {},
     "output_type": "display_data"
    },
    {
     "name": "stdout",
     "output_type": "stream",
     "text": [
      "\n"
     ]
    },
    {
     "ename": "RuntimeError",
     "evalue": "CUDA out of memory. Tried to allocate 30.00 MiB (GPU 0; 31.72 GiB total capacity; 1.64 GiB already allocated; 31.56 MiB free; 73.05 MiB cached)",
     "output_type": "error",
     "traceback": [
      "\u001b[0;31m---------------------------------------------------------------------------\u001b[0m",
      "\u001b[0;31mRuntimeError\u001b[0m                              Traceback (most recent call last)",
      "\u001b[0;32m<ipython-input-33-6e1076f3be0e>\u001b[0m in \u001b[0;36m<module>\u001b[0;34m\u001b[0m\n\u001b[1;32m     13\u001b[0m                                       \u001b[0mmodel_path\u001b[0m\u001b[0;34m+\u001b[0m\u001b[0;34m'Pilot12.all-minus-fat-heart.donor_tech.50.3.ss2_norm.scVI.pkl'\u001b[0m\u001b[0;34m,\u001b[0m\u001b[0;34m\u001b[0m\u001b[0;34m\u001b[0m\u001b[0m\n\u001b[1;32m     14\u001b[0m                                       \u001b[0mmodel_path\u001b[0m\u001b[0;34m+\u001b[0m\u001b[0;34m'combined.%s.scANVI.pretrained.pkl'\u001b[0m\u001b[0;34m%\u001b[0m\u001b[0morgan\u001b[0m\u001b[0;34m,\u001b[0m\u001b[0;34m\u001b[0m\u001b[0;34m\u001b[0m\u001b[0m\n\u001b[0;32m---> 15\u001b[0;31m                                       nlabels=30, retrain=retrain)\n\u001b[0m\u001b[1;32m     16\u001b[0m \u001b[0;34m\u001b[0m\u001b[0m\n\u001b[1;32m     17\u001b[0m     \u001b[0mpred_celltype\u001b[0m \u001b[0;34m=\u001b[0m \u001b[0mnp\u001b[0m\u001b[0;34m.\u001b[0m\u001b[0masarray\u001b[0m\u001b[0;34m(\u001b[0m\u001b[0;34m[\u001b[0m\u001b[0mtrain_data\u001b[0m\u001b[0;34m.\u001b[0m\u001b[0mcell_types\u001b[0m\u001b[0;34m[\u001b[0m\u001b[0mx\u001b[0m\u001b[0;34m]\u001b[0m \u001b[0;32mfor\u001b[0m \u001b[0mx\u001b[0m \u001b[0;32min\u001b[0m \u001b[0mpred_celltype\u001b[0m\u001b[0;34m]\u001b[0m\u001b[0;34m)\u001b[0m\u001b[0;34m\u001b[0m\u001b[0;34m\u001b[0m\u001b[0m\n",
      "\u001b[0;32m/data/yosef2/users/chenling/tabula-sapiens/utils/annotations_utils.py\u001b[0m in \u001b[0;36mscanvi_pred\u001b[0;34m(data, modelfile, scanvi_modelfile, balance, alternate, nlabels, retrain, n_epochs, forward_only, n_layers, n_latent)\u001b[0m\n\u001b[1;32m    136\u001b[0m                 \u001b[0mtrainer_scanvi\u001b[0m\u001b[0;34m.\u001b[0m\u001b[0mmodel\u001b[0m\u001b[0;34m.\u001b[0m\u001b[0meval\u001b[0m\u001b[0;34m(\u001b[0m\u001b[0;34m)\u001b[0m\u001b[0;34m\u001b[0m\u001b[0;34m\u001b[0m\u001b[0m\n\u001b[1;32m    137\u001b[0m             \u001b[0;32melse\u001b[0m\u001b[0;34m:\u001b[0m\u001b[0;34m\u001b[0m\u001b[0;34m\u001b[0m\u001b[0m\n\u001b[0;32m--> 138\u001b[0;31m                 \u001b[0mtrainer_scanvi\u001b[0m\u001b[0;34m.\u001b[0m\u001b[0mtrain\u001b[0m\u001b[0;34m(\u001b[0m\u001b[0mn_epochs\u001b[0m\u001b[0;34m=\u001b[0m\u001b[0mn_epochs\u001b[0m\u001b[0;34m)\u001b[0m\u001b[0;34m\u001b[0m\u001b[0;34m\u001b[0m\u001b[0m\n\u001b[0m\u001b[1;32m    139\u001b[0m                 \u001b[0mtorch\u001b[0m\u001b[0;34m.\u001b[0m\u001b[0msave\u001b[0m\u001b[0;34m(\u001b[0m\u001b[0mtrainer_scanvi\u001b[0m\u001b[0;34m.\u001b[0m\u001b[0mmodel\u001b[0m\u001b[0;34m.\u001b[0m\u001b[0mstate_dict\u001b[0m\u001b[0;34m(\u001b[0m\u001b[0;34m)\u001b[0m\u001b[0;34m,\u001b[0m \u001b[0mscanvi_modelfile\u001b[0m\u001b[0;34m)\u001b[0m\u001b[0;34m\u001b[0m\u001b[0;34m\u001b[0m\u001b[0m\n\u001b[1;32m    140\u001b[0m \u001b[0;34m\u001b[0m\u001b[0m\n",
      "\u001b[0;32m/data/yosef2/users/chenling/scVI/scvi/inference/trainer.py\u001b[0m in \u001b[0;36mtrain\u001b[0;34m(self, n_epochs, lr, eps, params, **extras_kwargs)\u001b[0m\n\u001b[1;32m    175\u001b[0m                 \u001b[0mself\u001b[0m\u001b[0;34m.\u001b[0m\u001b[0mon_iteration_begin\u001b[0m\u001b[0;34m(\u001b[0m\u001b[0;34m)\u001b[0m\u001b[0;34m\u001b[0m\u001b[0;34m\u001b[0m\u001b[0m\n\u001b[1;32m    176\u001b[0m                 \u001b[0;31m# Update the model's parameters after seeing the data\u001b[0m\u001b[0;34m\u001b[0m\u001b[0;34m\u001b[0m\u001b[0;34m\u001b[0m\u001b[0m\n\u001b[0;32m--> 177\u001b[0;31m                 \u001b[0mself\u001b[0m\u001b[0;34m.\u001b[0m\u001b[0mon_training_loop\u001b[0m\u001b[0;34m(\u001b[0m\u001b[0mtensors_list\u001b[0m\u001b[0;34m)\u001b[0m\u001b[0;34m\u001b[0m\u001b[0;34m\u001b[0m\u001b[0m\n\u001b[0m\u001b[1;32m    178\u001b[0m                 \u001b[0;31m# Checks the training status, ensures no nan loss\u001b[0m\u001b[0;34m\u001b[0m\u001b[0;34m\u001b[0m\u001b[0;34m\u001b[0m\u001b[0m\n\u001b[1;32m    179\u001b[0m                 \u001b[0mself\u001b[0m\u001b[0;34m.\u001b[0m\u001b[0mon_iteration_end\u001b[0m\u001b[0;34m(\u001b[0m\u001b[0;34m)\u001b[0m\u001b[0;34m\u001b[0m\u001b[0;34m\u001b[0m\u001b[0m\n",
      "\u001b[0;32m/data/yosef2/users/chenling/scVI/scvi/inference/annotation.py\u001b[0m in \u001b[0;36mon_training_loop\u001b[0;34m(self, tensors_list)\u001b[0m\n\u001b[1;32m    326\u001b[0m             \u001b[0mnew_tensors_all\u001b[0m \u001b[0;34m=\u001b[0m \u001b[0mtensors_all\u001b[0m\u001b[0;34m\u001b[0m\u001b[0;34m\u001b[0m\u001b[0m\n\u001b[1;32m    327\u001b[0m \u001b[0;34m\u001b[0m\u001b[0m\n\u001b[0;32m--> 328\u001b[0;31m         \u001b[0mself\u001b[0m\u001b[0;34m.\u001b[0m\u001b[0mcurrent_loss\u001b[0m \u001b[0;34m=\u001b[0m \u001b[0mloss\u001b[0m \u001b[0;34m=\u001b[0m \u001b[0mself\u001b[0m\u001b[0;34m.\u001b[0m\u001b[0mloss\u001b[0m\u001b[0;34m(\u001b[0m\u001b[0mnew_tensors_all\u001b[0m\u001b[0;34m,\u001b[0m \u001b[0mnew_tensors_labelled\u001b[0m\u001b[0;34m)\u001b[0m\u001b[0;34m\u001b[0m\u001b[0;34m\u001b[0m\u001b[0m\n\u001b[0m\u001b[1;32m    329\u001b[0m         \u001b[0mself\u001b[0m\u001b[0;34m.\u001b[0m\u001b[0moptimizer\u001b[0m\u001b[0;34m.\u001b[0m\u001b[0mzero_grad\u001b[0m\u001b[0;34m(\u001b[0m\u001b[0;34m)\u001b[0m\u001b[0;34m\u001b[0m\u001b[0;34m\u001b[0m\u001b[0m\n\u001b[1;32m    330\u001b[0m         \u001b[0mloss\u001b[0m\u001b[0;34m.\u001b[0m\u001b[0mbackward\u001b[0m\u001b[0;34m(\u001b[0m\u001b[0;34m)\u001b[0m\u001b[0;34m\u001b[0m\u001b[0;34m\u001b[0m\u001b[0m\n",
      "\u001b[0;32m/data/yosef2/users/chenling/scVI/scvi/inference/annotation.py\u001b[0m in \u001b[0;36mloss\u001b[0;34m(self, tensors_all, tensors_labelled)\u001b[0m\n\u001b[1;32m    283\u001b[0m \u001b[0;34m\u001b[0m\u001b[0m\n\u001b[1;32m    284\u001b[0m     \u001b[0;32mdef\u001b[0m \u001b[0mloss\u001b[0m\u001b[0;34m(\u001b[0m\u001b[0mself\u001b[0m\u001b[0;34m,\u001b[0m \u001b[0mtensors_all\u001b[0m\u001b[0;34m,\u001b[0m \u001b[0mtensors_labelled\u001b[0m\u001b[0;34m)\u001b[0m\u001b[0;34m:\u001b[0m\u001b[0;34m\u001b[0m\u001b[0;34m\u001b[0m\u001b[0m\n\u001b[0;32m--> 285\u001b[0;31m         \u001b[0mloss\u001b[0m \u001b[0;34m=\u001b[0m \u001b[0msuper\u001b[0m\u001b[0;34m(\u001b[0m\u001b[0;34m)\u001b[0m\u001b[0;34m.\u001b[0m\u001b[0mloss\u001b[0m\u001b[0;34m(\u001b[0m\u001b[0mtensors_all\u001b[0m\u001b[0;34m)\u001b[0m\u001b[0;34m\u001b[0m\u001b[0;34m\u001b[0m\u001b[0m\n\u001b[0m\u001b[1;32m    286\u001b[0m         \u001b[0msample_batch\u001b[0m\u001b[0;34m,\u001b[0m \u001b[0m_\u001b[0m\u001b[0;34m,\u001b[0m \u001b[0m_\u001b[0m\u001b[0;34m,\u001b[0m \u001b[0m_\u001b[0m\u001b[0;34m,\u001b[0m \u001b[0my\u001b[0m \u001b[0;34m=\u001b[0m \u001b[0mtensors_labelled\u001b[0m\u001b[0;34m\u001b[0m\u001b[0;34m\u001b[0m\u001b[0m\n\u001b[1;32m    287\u001b[0m         \u001b[0mprobs\u001b[0m \u001b[0;34m=\u001b[0m \u001b[0mself\u001b[0m\u001b[0;34m.\u001b[0m\u001b[0mmodel\u001b[0m\u001b[0;34m.\u001b[0m\u001b[0mclassify\u001b[0m\u001b[0;34m(\u001b[0m\u001b[0msample_batch\u001b[0m\u001b[0;34m)\u001b[0m\u001b[0;34m\u001b[0m\u001b[0;34m\u001b[0m\u001b[0m\n",
      "\u001b[0;32m/data/yosef2/users/chenling/scVI/scvi/inference/inference.py\u001b[0m in \u001b[0;36mloss\u001b[0;34m(self, tensors)\u001b[0m\n\u001b[1;32m    107\u001b[0m         \u001b[0msample_batch\u001b[0m\u001b[0;34m,\u001b[0m \u001b[0mlocal_l_mean\u001b[0m\u001b[0;34m,\u001b[0m \u001b[0mlocal_l_var\u001b[0m\u001b[0;34m,\u001b[0m \u001b[0mbatch_index\u001b[0m\u001b[0;34m,\u001b[0m \u001b[0m_\u001b[0m \u001b[0;34m=\u001b[0m \u001b[0mtensors\u001b[0m\u001b[0;34m\u001b[0m\u001b[0;34m\u001b[0m\u001b[0m\n\u001b[1;32m    108\u001b[0m         reconst_loss, kl_divergence_local, kl_divergence_global = self.model(\n\u001b[0;32m--> 109\u001b[0;31m             \u001b[0msample_batch\u001b[0m\u001b[0;34m,\u001b[0m \u001b[0mlocal_l_mean\u001b[0m\u001b[0;34m,\u001b[0m \u001b[0mlocal_l_var\u001b[0m\u001b[0;34m,\u001b[0m \u001b[0mbatch_index\u001b[0m\u001b[0;34m\u001b[0m\u001b[0;34m\u001b[0m\u001b[0m\n\u001b[0m\u001b[1;32m    110\u001b[0m         )\n\u001b[1;32m    111\u001b[0m         loss = (\n",
      "\u001b[0;32m/data/yosef2/users/chenling/miniconda3/envs/p37/lib/python3.7/site-packages/torch/nn/modules/module.py\u001b[0m in \u001b[0;36m__call__\u001b[0;34m(self, *input, **kwargs)\u001b[0m\n\u001b[1;32m    491\u001b[0m             \u001b[0mresult\u001b[0m \u001b[0;34m=\u001b[0m \u001b[0mself\u001b[0m\u001b[0;34m.\u001b[0m\u001b[0m_slow_forward\u001b[0m\u001b[0;34m(\u001b[0m\u001b[0;34m*\u001b[0m\u001b[0minput\u001b[0m\u001b[0;34m,\u001b[0m \u001b[0;34m**\u001b[0m\u001b[0mkwargs\u001b[0m\u001b[0;34m)\u001b[0m\u001b[0;34m\u001b[0m\u001b[0;34m\u001b[0m\u001b[0m\n\u001b[1;32m    492\u001b[0m         \u001b[0;32melse\u001b[0m\u001b[0;34m:\u001b[0m\u001b[0;34m\u001b[0m\u001b[0;34m\u001b[0m\u001b[0m\n\u001b[0;32m--> 493\u001b[0;31m             \u001b[0mresult\u001b[0m \u001b[0;34m=\u001b[0m \u001b[0mself\u001b[0m\u001b[0;34m.\u001b[0m\u001b[0mforward\u001b[0m\u001b[0;34m(\u001b[0m\u001b[0;34m*\u001b[0m\u001b[0minput\u001b[0m\u001b[0;34m,\u001b[0m \u001b[0;34m**\u001b[0m\u001b[0mkwargs\u001b[0m\u001b[0;34m)\u001b[0m\u001b[0;34m\u001b[0m\u001b[0;34m\u001b[0m\u001b[0m\n\u001b[0m\u001b[1;32m    494\u001b[0m         \u001b[0;32mfor\u001b[0m \u001b[0mhook\u001b[0m \u001b[0;32min\u001b[0m \u001b[0mself\u001b[0m\u001b[0;34m.\u001b[0m\u001b[0m_forward_hooks\u001b[0m\u001b[0;34m.\u001b[0m\u001b[0mvalues\u001b[0m\u001b[0;34m(\u001b[0m\u001b[0;34m)\u001b[0m\u001b[0;34m:\u001b[0m\u001b[0;34m\u001b[0m\u001b[0;34m\u001b[0m\u001b[0m\n\u001b[1;32m    495\u001b[0m             \u001b[0mhook_result\u001b[0m \u001b[0;34m=\u001b[0m \u001b[0mhook\u001b[0m\u001b[0;34m(\u001b[0m\u001b[0mself\u001b[0m\u001b[0;34m,\u001b[0m \u001b[0minput\u001b[0m\u001b[0;34m,\u001b[0m \u001b[0mresult\u001b[0m\u001b[0;34m)\u001b[0m\u001b[0;34m\u001b[0m\u001b[0;34m\u001b[0m\u001b[0m\n",
      "\u001b[0;32m/data/yosef2/users/chenling/scVI/scvi/models/scanvi.py\u001b[0m in \u001b[0;36mforward\u001b[0;34m(self, x, local_l_mean, local_l_var, batch_index, y)\u001b[0m\n\u001b[1;32m    180\u001b[0m         \u001b[0mpz1_m\u001b[0m\u001b[0;34m,\u001b[0m \u001b[0mpz1_v\u001b[0m \u001b[0;34m=\u001b[0m \u001b[0mself\u001b[0m\u001b[0;34m.\u001b[0m\u001b[0mdecoder_z1_z2\u001b[0m\u001b[0;34m(\u001b[0m\u001b[0mz2\u001b[0m\u001b[0;34m,\u001b[0m \u001b[0mys\u001b[0m\u001b[0;34m)\u001b[0m\u001b[0;34m\u001b[0m\u001b[0;34m\u001b[0m\u001b[0m\n\u001b[1;32m    181\u001b[0m \u001b[0;34m\u001b[0m\u001b[0m\n\u001b[0;32m--> 182\u001b[0;31m         \u001b[0mreconst_loss\u001b[0m \u001b[0;34m=\u001b[0m \u001b[0mself\u001b[0m\u001b[0;34m.\u001b[0m\u001b[0mget_reconstruction_loss\u001b[0m\u001b[0;34m(\u001b[0m\u001b[0mx\u001b[0m\u001b[0;34m,\u001b[0m \u001b[0mpx_rate\u001b[0m\u001b[0;34m,\u001b[0m \u001b[0mpx_r\u001b[0m\u001b[0;34m,\u001b[0m \u001b[0mpx_dropout\u001b[0m\u001b[0;34m)\u001b[0m\u001b[0;34m\u001b[0m\u001b[0;34m\u001b[0m\u001b[0m\n\u001b[0m\u001b[1;32m    183\u001b[0m \u001b[0;34m\u001b[0m\u001b[0m\n\u001b[1;32m    184\u001b[0m         \u001b[0;31m# KL Divergence\u001b[0m\u001b[0;34m\u001b[0m\u001b[0;34m\u001b[0m\u001b[0;34m\u001b[0m\u001b[0m\n",
      "\u001b[0;32m/data/yosef2/users/chenling/scVI/scvi/models/vae.py\u001b[0m in \u001b[0;36mget_reconstruction_loss\u001b[0;34m(self, x, px_rate, px_r, px_dropout, **kwargs)\u001b[0m\n\u001b[1;32m    205\u001b[0m         \u001b[0;31m# Reconstruction Loss\u001b[0m\u001b[0;34m\u001b[0m\u001b[0;34m\u001b[0m\u001b[0;34m\u001b[0m\u001b[0m\n\u001b[1;32m    206\u001b[0m         \u001b[0;32mif\u001b[0m \u001b[0mself\u001b[0m\u001b[0;34m.\u001b[0m\u001b[0mreconstruction_loss\u001b[0m \u001b[0;34m==\u001b[0m \u001b[0;34m\"zinb\"\u001b[0m\u001b[0;34m:\u001b[0m\u001b[0;34m\u001b[0m\u001b[0;34m\u001b[0m\u001b[0m\n\u001b[0;32m--> 207\u001b[0;31m             \u001b[0mreconst_loss\u001b[0m \u001b[0;34m=\u001b[0m \u001b[0;34m-\u001b[0m\u001b[0mlog_zinb_positive\u001b[0m\u001b[0;34m(\u001b[0m\u001b[0mx\u001b[0m\u001b[0;34m,\u001b[0m \u001b[0mpx_rate\u001b[0m\u001b[0;34m,\u001b[0m \u001b[0mpx_r\u001b[0m\u001b[0;34m,\u001b[0m \u001b[0mpx_dropout\u001b[0m\u001b[0;34m)\u001b[0m\u001b[0;34m.\u001b[0m\u001b[0msum\u001b[0m\u001b[0;34m(\u001b[0m\u001b[0mdim\u001b[0m\u001b[0;34m=\u001b[0m\u001b[0;34m-\u001b[0m\u001b[0;36m1\u001b[0m\u001b[0;34m)\u001b[0m\u001b[0;34m\u001b[0m\u001b[0;34m\u001b[0m\u001b[0m\n\u001b[0m\u001b[1;32m    208\u001b[0m         \u001b[0;32melif\u001b[0m \u001b[0mself\u001b[0m\u001b[0;34m.\u001b[0m\u001b[0mreconstruction_loss\u001b[0m \u001b[0;34m==\u001b[0m \u001b[0;34m\"nb\"\u001b[0m\u001b[0;34m:\u001b[0m\u001b[0;34m\u001b[0m\u001b[0;34m\u001b[0m\u001b[0m\n\u001b[1;32m    209\u001b[0m             \u001b[0mreconst_loss\u001b[0m \u001b[0;34m=\u001b[0m \u001b[0;34m-\u001b[0m\u001b[0mlog_nb_positive\u001b[0m\u001b[0;34m(\u001b[0m\u001b[0mx\u001b[0m\u001b[0;34m,\u001b[0m \u001b[0mpx_rate\u001b[0m\u001b[0;34m,\u001b[0m \u001b[0mpx_r\u001b[0m\u001b[0;34m)\u001b[0m\u001b[0;34m.\u001b[0m\u001b[0msum\u001b[0m\u001b[0;34m(\u001b[0m\u001b[0mdim\u001b[0m\u001b[0;34m=\u001b[0m\u001b[0;34m-\u001b[0m\u001b[0;36m1\u001b[0m\u001b[0;34m)\u001b[0m\u001b[0;34m\u001b[0m\u001b[0;34m\u001b[0m\u001b[0m\n",
      "\u001b[0;32m/data/yosef2/users/chenling/scVI/scvi/models/log_likelihood.py\u001b[0m in \u001b[0;36mlog_zinb_positive\u001b[0;34m(x, mu, theta, pi, eps)\u001b[0m\n\u001b[1;32m    227\u001b[0m     \u001b[0mlog_theta_eps\u001b[0m \u001b[0;34m=\u001b[0m \u001b[0mtorch\u001b[0m\u001b[0;34m.\u001b[0m\u001b[0mlog\u001b[0m\u001b[0;34m(\u001b[0m\u001b[0mtheta\u001b[0m \u001b[0;34m+\u001b[0m \u001b[0meps\u001b[0m\u001b[0;34m)\u001b[0m\u001b[0;34m\u001b[0m\u001b[0;34m\u001b[0m\u001b[0m\n\u001b[1;32m    228\u001b[0m     \u001b[0mlog_theta_mu_eps\u001b[0m \u001b[0;34m=\u001b[0m \u001b[0mtorch\u001b[0m\u001b[0;34m.\u001b[0m\u001b[0mlog\u001b[0m\u001b[0;34m(\u001b[0m\u001b[0mtheta\u001b[0m \u001b[0;34m+\u001b[0m \u001b[0mmu\u001b[0m \u001b[0;34m+\u001b[0m \u001b[0meps\u001b[0m\u001b[0;34m)\u001b[0m\u001b[0;34m\u001b[0m\u001b[0;34m\u001b[0m\u001b[0m\n\u001b[0;32m--> 229\u001b[0;31m     \u001b[0mpi_theta_log\u001b[0m \u001b[0;34m=\u001b[0m \u001b[0;34m-\u001b[0m\u001b[0mpi\u001b[0m \u001b[0;34m+\u001b[0m \u001b[0mtheta\u001b[0m \u001b[0;34m*\u001b[0m \u001b[0;34m(\u001b[0m\u001b[0mlog_theta_eps\u001b[0m \u001b[0;34m-\u001b[0m \u001b[0mlog_theta_mu_eps\u001b[0m\u001b[0;34m)\u001b[0m\u001b[0;34m\u001b[0m\u001b[0;34m\u001b[0m\u001b[0m\n\u001b[0m\u001b[1;32m    230\u001b[0m \u001b[0;34m\u001b[0m\u001b[0m\n\u001b[1;32m    231\u001b[0m     \u001b[0mcase_zero\u001b[0m \u001b[0;34m=\u001b[0m \u001b[0mF\u001b[0m\u001b[0;34m.\u001b[0m\u001b[0msoftplus\u001b[0m\u001b[0;34m(\u001b[0m\u001b[0mpi_theta_log\u001b[0m\u001b[0;34m)\u001b[0m \u001b[0;34m-\u001b[0m \u001b[0msoftplus_pi\u001b[0m\u001b[0;34m\u001b[0m\u001b[0;34m\u001b[0m\u001b[0m\n",
      "\u001b[0;31mRuntimeError\u001b[0m: CUDA out of memory. Tried to allocate 30.00 MiB (GPU 0; 31.72 GiB total capacity; 1.64 GiB already allocated; 31.56 MiB free; 73.05 MiB cached)"
     ]
    },
    {
     "data": {
      "image/png": "[encoded data removed]",
      "text/plain": [
       "<Figure size 432x288 with 1 Axes>"
      ]
     },
     "metadata": {
      "needs_background": "light"
     },
     "output_type": "display_data"
    }
   ],
   "source": [
    "for organ in organs:\n",
    "    print(organ)\n",
    "    organ_data = combined[combined.obs['tissue']==organ]\n",
    "    if organ=='Skin':\n",
    "        organ_data = organ_data[organ_data.obs['method']=='smartseq2']\n",
    "\n",
    "    train_data = scVIdata_preprocess(organ_data, 'donor_tech', 'manual_cell_ontology_class')\n",
    "    posterior = get_scvi_posterior(train_data, \n",
    "                               model_path+'Pilot12.all-minus-fat-heart.donor_tech.50.3.ss2_norm.scVI.pkl', \n",
    "                               retrain=retrain, n_epochs=100)\n",
    "\n",
    "    full, pred_celltype = scanvi_pred(train_data, \n",
    "                                      model_path+'Pilot12.all-minus-fat-heart.donor_tech.50.3.ss2_norm.scVI.pkl',\n",
    "                                      model_path+'combined.%s.scANVI.pretrained.pkl'%organ,\n",
    "                                      nlabels=30, retrain=retrain)\n",
    "\n",
    "    pred_celltype = np.asarray([train_data.cell_types[x] for x in pred_celltype])\n",
    "    assert np.sum(pred_celltype=='unassigned')==0\n",
    "    labels.loc[organ_data.obs.index,'pred_pretrained'] = pred_celltype\n",
    "    print(np.unique(pred_celltype), train_data.cell_types)"
   ]
  },
  {
   "cell_type": "markdown",
   "metadata": {},
   "source": [
    "# train using per-organ scVI model\n",
    "We subsample genes before training scVI to predict cell types"
   ]
  },
  {
   "cell_type": "code",
   "execution_count": null,
   "metadata": {},
   "outputs": [],
   "source": [
    "retrain=True\n",
    "for organ in organs:\n",
    "    print(organ)\n",
    "    organ_data = combined[combined.obs['tissue']==organ]\n",
    "    if organ=='Skin':\n",
    "        organ_data = organ_data[organ_data.obs['method']=='smartseq2']\n",
    "    organ_data = organ_data[organ_data.obs['manual_cell_ontology_class']!='low_quality']\n",
    "    sc.pp.filter_genes(organ_data, min_cells=1)\n",
    "    train_data = scVIdata_preprocess(organ_data, 'donor_tech', 'manual_cell_ontology_class')\n",
    "    train_data.filter_genes_by_count(per_batch=True)\n",
    "    if train_data.X.shape[0]>10000:\n",
    "        train_data.subsample_genes(train_data.X.shape[0]//5)\n",
    "    else:\n",
    "        train_data.subsample_genes(train_data.X.shape[0]//2)\n",
    "    posterior = get_scvi_posterior(train_data, \n",
    "                               model_path+'combined.%s.scVI.subsample_genes.pkl'%organ, \n",
    "                               retrain=retrain, n_epochs=100)\n",
    "\n",
    "\n",
    "    full, pred_celltype = scanvi_pred(train_data, \n",
    "                                      model_path+'combined.%s.scVI.subsample_genes.pkl'%organ,\n",
    "                                      model_path+'combined.%s.scANVI.subsample_genes.pkl'%organ,\n",
    "                                      nlabels=30, retrain=retrain)\n",
    "\n",
    "    pred_celltype = np.asarray([train_data.cell_types[x] for x in pred_celltype])\n",
    "    assert np.sum(pred_celltype=='unassigned')==0\n",
    "    labels.loc[organ_data.obs.index,'pred'] = pred_celltype\n",
    "    print(np.unique(pred_celltype), train_data.cell_types)"
   ]
  },
  {
   "cell_type": "code",
   "execution_count": null,
   "metadata": {},
   "outputs": [],
   "source": [
    "labels['pred'].fillna('unassigned', inplace=True)"
   ]
  },
  {
   "cell_type": "code",
   "execution_count": null,
   "metadata": {},
   "outputs": [],
   "source": [
    "np.unique(combined.obs.loc[labels['pred']=='unassigned','tissue'])"
   ]
  },
  {
   "cell_type": "code",
   "execution_count": null,
   "metadata": {},
   "outputs": [],
   "source": [
    "np.sum(labels['pred']=='unassigned')"
   ]
  },
  {
   "cell_type": "code",
   "execution_count": null,
   "metadata": {},
   "outputs": [],
   "source": [
    "np.sum([x == 'low_quality' for x in combined.obs['manual_cell_ontology_class']])"
   ]
  },
  {
   "cell_type": "code",
   "execution_count": null,
   "metadata": {},
   "outputs": [],
   "source": [
    "np.sum([x in ['Fat', 'Heart', \"Skin\"] for x in combined.obs['tissue']])"
   ]
  },
  {
   "cell_type": "code",
   "execution_count": null,
   "metadata": {},
   "outputs": [],
   "source": [
    "combined.obs['propagated_cell_ontology_class'] = labels.loc[combined.obs.index, 'pred']"
   ]
  },
  {
   "cell_type": "code",
   "execution_count": null,
   "metadata": {},
   "outputs": [],
   "source": [
    "combined.write_h5ad(data_path + 'combined/Pilot1_Pilot2_filtered_ensembl_id.june30.ss2_norm.embedding_donor_tech.propagated.subsample_genes.h5ad')"
   ]
  },
  {
   "cell_type": "code",
   "execution_count": null,
   "metadata": {},
   "outputs": [],
   "source": [
    "combined.obs.to_csv(data_path + 'combined/annotation.subsample_genes.csv')"
   ]
  }
 ],
 "metadata": {
  "kernelspec": {
   "display_name": "p37",
   "language": "python",
   "name": "p37"
  },
  "language_info": {
   "codemirror_mode": {
    "name": "ipython",
    "version": 3
   },
   "file_extension": ".py",
   "mimetype": "text/x-python",
   "name": "python",
   "nbconvert_exporter": "python",
   "pygments_lexer": "ipython3",
   "version": "3.7.5"
  }
 },
 "nbformat": 4,
 "nbformat_minor": 2
}
