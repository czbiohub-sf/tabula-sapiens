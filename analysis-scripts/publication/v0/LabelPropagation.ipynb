{
 "cells": [
  {
   "cell_type": "markdown",
   "metadata": {},
   "source": [
    "# Label propagation\n",
    "Each organ expert group had used cellxgene to annotate celltypes from a cellxgene object. \n",
    "We read in the csv output by cellxgene (this required a little bit of manual engineering because the column names and numbers are not the same) \n",
    "Also skin was a last addition to the dataset, and is derived using a SS2 dataset rather than 10X, so the file names contain skin to differentiate it from previous versions of annotation."
   ]
  },
  {
   "cell_type": "markdown",
   "metadata": {},
   "source": [
    "# load necessary pacakges"
   ]
  },
  {
   "cell_type": "code",
   "execution_count": 1,
   "metadata": {},
   "outputs": [],
   "source": [
    "import sys\n",
    "import os \n",
    "\n",
    "sys.path.append('/data/yosef2/users/chenling/scVI/')\n",
    "sys.path.append('/data/yosef2/users/chenling/tabula-sapiens/')\n",
    "import anndata\n",
    "\n",
    "from scvi.dataset import AnnDatasetFromAnnData\n",
    "from utils.annotations_utils import *\n",
    "from anndata import read_h5ad\n",
    "import scanpy as sc\n",
    "\n",
    "from copy import deepcopy\n",
    "retrain=False\n",
    "\n",
    "import matplotlib\n",
    "%matplotlib inline"
   ]
  },
  {
   "cell_type": "markdown",
   "metadata": {},
   "source": [
    "# set and create directories for saving results"
   ]
  },
  {
   "cell_type": "code",
   "execution_count": 2,
   "metadata": {},
   "outputs": [],
   "source": [
    "data_path = '/data/yosef2/users/chenling/TabulaSapiensData/'\n",
    "model_path = '/data/yosef2/users/chenling/TabulaSapiens/scVImodels/'\n",
    "res_path = '/data/yosef2/users/chenling/TabulaSapiens/Pilot2_rerun/'\n",
    "\n",
    "if not os.path.exists(model_path):\n",
    "    os.mkdir(model_path)\n",
    "if not os.path.exists(model_path+'scanvi/'):\n",
    "    os.mkdir(model_path+'scanvi/')\n",
    "if not os.path.exists(res_path):\n",
    "    os.mkdir(res_path)"
   ]
  },
  {
   "cell_type": "markdown",
   "metadata": {},
   "source": [
    "# make annotation file for pilot2\n",
    "This section of the notebook summarizes and concatenate the cellxgene output csv files and generate an annotation file 'Pilot2/pilot2.all.unique.skin.csv' for all Pilot2 datasets."
   ]
  },
  {
   "cell_type": "code",
   "execution_count": 3,
   "metadata": {},
   "outputs": [
    {
     "name": "stdout",
     "output_type": "stream",
     "text": [
      "['TSP2.lung.SoRi.csv', 'TSP2.trachea.William.csv', 'TSP2.thymus.Koki.csv', 'TSP2.bladder.Aaron.csv', 'TSP2.blood.Sheela.csv', 'TSP2.lymphnode.Kimberly.csv', 'TSP2.spleen.Kimberly.csv', 'TSP2.li.Zhen.csv', 'TSP2.muscle.Antoine.csv', 'TSP2.si.Zhen.csv', 'TSP2.skin.Kimberly.csv', 'hide', 'TSP2.vasculature.Ragini.csv', 'TSP2.kidney.Gabe.csv', 'TSP2_BM_ManualAnnotation_MSwift.h5ad', 'TSP2.all.unique.csv', 'TSP2.bm.MSwift.csv']\n"
     ]
    }
   ],
   "source": [
    "ann_path = '/data/yosef2/users/chenling/TabulaSapiensData/Pilot2/ManualAnnotation/'\n",
    "ann_files = os.listdir(ann_path)\n",
    "print(ann_files)"
   ]
  },
  {
   "cell_type": "code",
   "execution_count": 4,
   "metadata": {},
   "outputs": [],
   "source": [
    "pilot2_meta = pd.read_csv(data_path + 'Pilot2/pilot2.meta.csv', index_col=0)"
   ]
  },
  {
   "cell_type": "code",
   "execution_count": 5,
   "metadata": {},
   "outputs": [
    {
     "name": "stdout",
     "output_type": "stream",
     "text": [
      "TSP2.lung.SoRi.csv\n",
      "(array([16]), array([20605]))\n",
      "TSP2.trachea.William.csv\n",
      "(array([16]), array([4680]))\n",
      "TSP2.thymus.Koki.csv\n",
      "(array([16]), array([8035]))\n",
      "TSP2.bladder.Aaron.csv\n",
      "(array([16]), array([10334]))\n",
      "TSP2.blood.Sheela.csv\n",
      "(array([16]), array([10177]))\n",
      "TSP2.lymphnode.Kimberly.csv\n",
      "(array([16]), array([9110]))\n",
      "TSP2.spleen.Kimberly.csv\n",
      "(array([16]), array([7294]))\n",
      "TSP2.li.Zhen.csv\n",
      "(array([16]), array([7704]))\n",
      "TSP2.muscle.Antoine.csv\n",
      "(array([16]), array([15689]))\n",
      "TSP2.si.Zhen.csv\n",
      "(array([16]), array([6273]))\n",
      "TSP2.skin.Kimberly.csv\n",
      "(array([78, 79, 80, 81, 82, 83, 84, 85, 86]), array([  4,  13,  27,  56,  70, 197, 190, 153, 146]))\n",
      "TSP2.vasculature.Ragini.csv\n",
      "(array([16]), array([7492]))\n",
      "TSP2.kidney.Gabe.csv\n",
      "(array([16]), array([22403]))\n",
      "TSP2.all.unique.csv\n",
      "(array([16]), array([132103]))\n",
      "TSP2.bm.MSwift.csv\n",
      "(array([16]), array([2881]))\n"
     ]
    }
   ],
   "source": [
    "annotations = {}\n",
    "for x in ann_files:\n",
    "    if 'csv' in x:\n",
    "        print(x)\n",
    "        organ = x.split('.')[1]\n",
    "        if organ=='bm':\n",
    "            tab = pd.read_csv(ann_path + x, index_col=0)\n",
    "        else:\n",
    "            tab = pd.read_csv(ann_path + x, index_col=0, skiprows=2)\n",
    "        tab.index = [x.split('-')[0] for x in tab.index]\n",
    "        if organ=='muscle':\n",
    "            barcodes = tab.index\n",
    "            unique_barcodes, count = np.unique(barcodes, return_counts=True)\n",
    "            is_unique = [x in unique_barcodes[count==1] for x in barcodes]\n",
    "            tab = tab.loc[is_unique]\n",
    "        is_pilot2 = [x for x in tab.index if x in pilot2_meta.index]\n",
    "        tab = tab.loc[is_pilot2]        \n",
    "        tab = tab[[tab.columns[-1]]]\n",
    "        tab.columns= ['manual_annotation']\n",
    "        tab['organ'] = organ\n",
    "        print(np.unique([len(x) for x in tab.index], return_counts=True))\n",
    "        annotations[organ] = tab\n"
   ]
  },
  {
   "cell_type": "code",
   "execution_count": 6,
   "metadata": {},
   "outputs": [
    {
     "name": "stdout",
     "output_type": "stream",
     "text": [
      "(133533, 2)\n",
      "(132961, 2)\n"
     ]
    }
   ],
   "source": [
    "ann = pd.concat([annotations[x] for x in annotations.keys() if x != 'all'], axis=0)\n",
    "print(ann.shape)\n",
    "barcodes = ann.index\n",
    "unique_barcodes, count = np.unique(barcodes, return_counts=True)\n",
    "ann = ann.loc[unique_barcodes[count==1]]\n",
    "print(ann.shape)"
   ]
  },
  {
   "cell_type": "code",
   "execution_count": 126,
   "metadata": {},
   "outputs": [
    {
     "name": "stdout",
     "output_type": "stream",
     "text": [
      "(132677, 2)\n",
      "(132105, 2)\n"
     ]
    }
   ],
   "source": [
    "ann = pd.concat([annotations[x] for x in annotations.keys() if x != 'all'], axis=0)\n",
    "print(ann.shape)\n",
    "barcodes = ann.index\n",
    "unique_barcodes, count = np.unique(barcodes, return_counts=True)\n",
    "ann = ann.loc[unique_barcodes[count==1]]\n",
    "print(ann.shape)"
   ]
  },
  {
   "cell_type": "code",
   "execution_count": 7,
   "metadata": {},
   "outputs": [],
   "source": [
    "ann.to_csv(data_path + 'Pilot2/pilot2.all.unique.skin.csv')"
   ]
  },
  {
   "cell_type": "markdown",
   "metadata": {},
   "source": [
    "# Combining labels and unannotated filtered object\n",
    "This section of the notebook matches the annotation file to unannoated combeind object from pilot1 and pilot2.\n",
    "\n",
    "### read unannotated combined object"
   ]
  },
  {
   "cell_type": "code",
   "execution_count": 8,
   "metadata": {},
   "outputs": [],
   "source": [
    "combined = read_h5ad(data_path + 'combined/Pilot1_Pilot2_filtered_ensembl_id.ss2_norm.embedding.h5ad')"
   ]
  },
  {
   "cell_type": "markdown",
   "metadata": {},
   "source": [
    "### match 'Pilot1/pilot1.ann.csv' and 'Pilot2/pilot2.all.unique.skin.csv' to unannotated cells by their cell id. "
   ]
  },
  {
   "cell_type": "code",
   "execution_count": 24,
   "metadata": {},
   "outputs": [],
   "source": [
    "ann1 = pd.read_csv(data_path+'Pilot1/pilot1.ann.csv', index_col=0, dtype=str)\n",
    "ann2 = combined.obs.loc[combined.obs['donor']=='TSP2']\n",
    "ann2.index = [x.split('-')[0] for x in ann2.index]\n",
    "ann2_new = pd.read_csv(data_path + 'Pilot2/pilot2.all.unique.skin.csv', index_col=0, dtype=str)\n",
    "ann2['manual_annotation'] = ann2_new.loc[ann2.index, 'manual_annotation']\n",
    "ann1.index = ['_'.join(['TSP1',x]) for x in ann1.index]\n",
    "ann2.index = ['_'.join(['TSP2',x,y]) for x,y in zip(ann2.index, ann2['sequencer'])]"
   ]
  },
  {
   "cell_type": "code",
   "execution_count": 25,
   "metadata": {},
   "outputs": [],
   "source": [
    "idx1 = combined.obs.loc[combined.obs['donor']=='TSP1'].index\n",
    "idx2 = combined.obs.loc[combined.obs['donor']=='TSP2'].index\n",
    "seq2 = combined.obs.loc[combined.obs['donor']=='TSP2','sequencer']\n",
    "\n",
    "idx1 = [x.split('-')[0] for x in idx1]\n",
    "idx2 = [x.split('-')[0] for x in idx2]\n",
    "idx1 = ['_'.join(['TSP1',x]) for x in idx1]\n",
    "idx2 = ['_'.join(['TSP2',x,y]) for x,y in zip(idx2, seq2)]\n",
    "\n",
    "assert len(idx1) == len(np.unique(idx1))\n",
    "assert len(idx2) == len(np.unique(idx2))"
   ]
  },
  {
   "cell_type": "markdown",
   "metadata": {},
   "source": [
    "### convert manual annotation terms to cell ontology terms using 'ontology/pilot2.manual2co.txt'"
   ]
  },
  {
   "cell_type": "code",
   "execution_count": 41,
   "metadata": {},
   "outputs": [
    {
     "name": "stdout",
     "output_type": "stream",
     "text": [
      "0.4712303036627361 0.25610509031198686\n"
     ]
    }
   ],
   "source": [
    "label_dict = pd.read_csv(data_path + 'ontology/pilot2.manual2co.txt', delimiter=';', index_col=0, dtype=str)\n",
    "new_terms = pd.read_csv(data_path + 'ontology/new_terms.csv', delimiter='|', index_col=1, dtype=str)\n",
    "\n",
    "labels1 = ann1.loc[idx1, 'Manual Annotation Round 2'].fillna('unassigned')\n",
    "labels2 = ann2.loc[idx2, 'manual_annotation'].fillna('unassigned')\n",
    "print(np.sum(labels1=='unassigned')/len(labels1),np.sum(labels2=='unassigned')/len(labels2))"
   ]
  },
  {
   "cell_type": "code",
   "execution_count": 42,
   "metadata": {},
   "outputs": [],
   "source": [
    "labels = pd.concat([labels1, labels2])\n",
    "labels = pd.DataFrame(labels)"
   ]
  },
  {
   "cell_type": "code",
   "execution_count": 43,
   "metadata": {},
   "outputs": [],
   "source": [
    "labels_clean = []\n",
    "others = []\n",
    "for x in labels[0]:\n",
    "    if x=='unassigned':\n",
    "        labels_clean.append(x)\n",
    "    elif x not in label_dict.index:\n",
    "        labels_clean.append(new_terms.loc[x, 'parent_name'])\n",
    "        others.append(x)\n",
    "    else:\n",
    "        labels_clean.append(label_dict.loc[x,'cell_ontology_class'])\n",
    "\n",
    "labels[1] = labels_clean"
   ]
  },
  {
   "cell_type": "code",
   "execution_count": 44,
   "metadata": {},
   "outputs": [],
   "source": [
    "combined.obs['barcode']=''\n",
    "combined.obs.loc[combined.obs['donor']=='TSP1', 'barcode'] = idx1\n",
    "combined.obs.loc[combined.obs['donor']=='TSP2', 'barcode'] = idx2\n",
    "\n",
    "combined.obs['manual_annotation'] = labels.loc[combined.obs['barcode'],0].values\n",
    "combined.obs['manual_cell_ontology_class'] = labels.loc[combined.obs['barcode'],1].values\n"
   ]
  },
  {
   "cell_type": "code",
   "execution_count": 45,
   "metadata": {},
   "outputs": [
    {
     "data": {
      "text/plain": [
       "array(['Langerhans cell', 'T cell', 'conventional dendritic cell',\n",
       "       'cytotoxic T cell', 'endothelial cell of vascular tree',\n",
       "       'epithelial cell', 'fibroblast', 'macrophage', 'mast cell',\n",
       "       'melanocyte', 'memory T cell', 'unassigned'], dtype=object)"
      ]
     },
     "execution_count": 45,
     "metadata": {},
     "output_type": "execute_result"
    }
   ],
   "source": [
    "np.unique(combined.obs.loc[combined.obs['tissue']=='Skin','manual_cell_ontology_class'])"
   ]
  },
  {
   "cell_type": "code",
   "execution_count": 46,
   "metadata": {},
   "outputs": [],
   "source": [
    "temp = [x.split('_')[1] for x in combined.obs['barcode']]\n",
    "assert np.sum([x in y for x,y in zip(temp, combined.obs.index)]) == len(temp)"
   ]
  },
  {
   "cell_type": "code",
   "execution_count": 47,
   "metadata": {},
   "outputs": [],
   "source": [
    "combined.obs.to_csv(data_path + 'Pilot1_Pilot2.annotation.csv')"
   ]
  },
  {
   "cell_type": "code",
   "execution_count": 253,
   "metadata": {},
   "outputs": [
    {
     "name": "stderr",
     "output_type": "stream",
     "text": [
      "... storing 'manual_annotation' as categorical\n",
      "... storing 'manual_cell_ontology_class' as categorical\n"
     ]
    }
   ],
   "source": [
    "combined.write_h5ad(data_path + 'combined/Pilot1_Pilot2_filtered_ensembl_id.ss2_norm.embedding.manual_ann.h5ad')"
   ]
  },
  {
   "cell_type": "markdown",
   "metadata": {},
   "source": [
    "# read dataset with manual annotation"
   ]
  },
  {
   "cell_type": "code",
   "execution_count": 3,
   "metadata": {},
   "outputs": [],
   "source": [
    "combined = read_h5ad(data_path + \n",
    "                     'combined/Pilot1_Pilot2_filtered_ensembl_id.june30.ss2_norm.embedding_donor_tech.h5ad')"
   ]
  },
  {
   "cell_type": "code",
   "execution_count": 5,
   "metadata": {},
   "outputs": [],
   "source": [
    "annotations = pd.read_csv(data_path + 'Pilot1_Pilot2.annotation.csv')"
   ]
  },
  {
   "cell_type": "code",
   "execution_count": 6,
   "metadata": {},
   "outputs": [],
   "source": [
    "annotations.index = annotations['cell_id']"
   ]
  },
  {
   "cell_type": "code",
   "execution_count": 7,
   "metadata": {},
   "outputs": [],
   "source": [
    "combined.obs['manual_cell_ontology_class'] = annotations.loc[combined.obs['cell_id'],'manual_cell_ontology_class'].values\n",
    "combined.obs['manual_cell_ontology_class'].fillna('unassigned',inplace=True)"
   ]
  },
  {
   "cell_type": "markdown",
   "metadata": {},
   "source": [
    "# propagate labels per tissue"
   ]
  },
  {
   "cell_type": "code",
   "execution_count": 8,
   "metadata": {},
   "outputs": [],
   "source": [
    "organs = np.unique(combined.obs['tissue'])"
   ]
  },
  {
   "cell_type": "code",
   "execution_count": 9,
   "metadata": {},
   "outputs": [],
   "source": [
    "labels = pd.DataFrame(index=combined.obs.index, columns=['pred'])"
   ]
  },
  {
   "cell_type": "code",
   "execution_count": 10,
   "metadata": {},
   "outputs": [
    {
     "name": "stdout",
     "output_type": "stream",
     "text": [
      "['Bladder', 'Blood', 'Bone_Marrow', 'Kidney', 'Large_Intestine', 'Lung', 'Lymph_Node', 'Muscle', 'Pancreas', 'Skin', 'Small_Intestine', 'Spleen', 'Thymus', 'Trachea', 'Vasculature']\n"
     ]
    }
   ],
   "source": [
    "organs = [ x for x in organs if x not in ['Heart','Fat']]\n",
    "print(organs)"
   ]
  },
  {
   "cell_type": "markdown",
   "metadata": {},
   "source": [
    "We subsample genes before training scVI to predict cell types"
   ]
  },
  {
   "cell_type": "code",
   "execution_count": 13,
   "metadata": {},
   "outputs": [
    {
     "name": "stdout",
     "output_type": "stream",
     "text": [
      "Bladder\n"
     ]
    },
    {
     "name": "stderr",
     "output_type": "stream",
     "text": [
      "Trying to set attribute `.var` of view, copying.\n"
     ]
    },
    {
     "name": "stdout",
     "output_type": "stream",
     "text": [
      "[2020-07-02 16:46:48,362] INFO - scvi.dataset.dataset | Remapping batch_indices to [0,N]\n",
      "[2020-07-02 16:46:48,365] INFO - scvi.dataset.dataset | Remapping labels to [0,N]\n",
      "[2020-07-02 16:46:49,889] INFO - scvi.dataset.dataset | Computing the library size for the new data\n",
      "[2020-07-02 16:46:50,081] INFO - scvi.dataset.dataset | Downsampled from 24390 to 24390 cells\n",
      "[2020-07-02 16:46:50,342] INFO - scvi.dataset.dataset | Downsampling from 48822 to 23487 genes\n",
      "[2020-07-02 16:46:52,051] INFO - scvi.dataset.dataset | Computing the library size for the new data\n",
      "[2020-07-02 16:46:52,243] INFO - scvi.dataset.dataset | Filtering non-expressing cells.\n",
      "[2020-07-02 16:46:53,761] INFO - scvi.dataset.dataset | Computing the library size for the new data\n",
      "[2020-07-02 16:46:53,965] INFO - scvi.dataset.dataset | Downsampled from 24390 to 24390 cells\n",
      "[2020-07-02 16:46:53,966] INFO - scvi.dataset.dataset | extracting highly variable genes\n"
     ]
    },
    {
     "name": "stderr",
     "output_type": "stream",
     "text": [
      "Transforming to str index.\n"
     ]
    },
    {
     "name": "stdout",
     "output_type": "stream",
     "text": [
      "[2020-07-02 16:47:36,829] INFO - scvi.dataset.dataset | Downsampling from 23487 to 4878 genes\n",
      "[2020-07-02 16:47:37,634] INFO - scvi.dataset.dataset | Computing the library size for the new data\n",
      "[2020-07-02 16:47:37,687] INFO - scvi.dataset.dataset | Filtering non-expressing cells.\n",
      "[2020-07-02 16:47:38,100] INFO - scvi.dataset.dataset | Computing the library size for the new data\n",
      "[2020-07-02 16:47:38,150] INFO - scvi.dataset.dataset | Downsampled from 24390 to 24390 cells\n",
      "['B cell' 'T cell' 'basal cell' 'bladder urothelial cell'\n",
      " 'endothelial cell' 'fibroblast' 'intermediate epitheliocyte' 'macrophage'\n",
      " 'mast cell' 'mature NK T cell' 'myoblast' 'myofibroblast cell'\n",
      " 'natural killer cell' 'plasma cell' 'plasmacytoid dendritic cell, human'\n",
      " 'smooth muscle cell' 'vascular associated smooth muscle cell'\n",
      " 'vein endothelial cell'] ['B cell' 'T cell' 'basal cell' 'bladder urothelial cell'\n",
      " 'endothelial cell' 'erythroid progenitor cell' 'fibroblast'\n",
      " 'intermediate epitheliocyte' 'macrophage' 'mast cell' 'mature NK T cell'\n",
      " 'myoblast' 'myofibroblast cell' 'natural killer cell' 'neutrophil'\n",
      " 'plasma cell' 'plasmacytoid dendritic cell, human' 'smooth muscle cell'\n",
      " 'unassigned' 'vascular associated smooth muscle cell'\n",
      " 'vein endothelial cell']\n",
      "Blood\n"
     ]
    },
    {
     "name": "stderr",
     "output_type": "stream",
     "text": [
      "Trying to set attribute `.var` of view, copying.\n"
     ]
    },
    {
     "name": "stdout",
     "output_type": "stream",
     "text": [
      "[2020-07-02 16:47:42,396] INFO - scvi.dataset.dataset | Remapping batch_indices to [0,N]\n",
      "[2020-07-02 16:47:42,397] INFO - scvi.dataset.dataset | Remapping labels to [0,N]\n",
      "[2020-07-02 16:47:43,298] INFO - scvi.dataset.dataset | Computing the library size for the new data\n",
      "[2020-07-02 16:47:43,417] INFO - scvi.dataset.dataset | Downsampled from 16017 to 16017 cells\n",
      "[2020-07-02 16:47:43,581] INFO - scvi.dataset.dataset | Downsampling from 44444 to 18141 genes\n",
      "[2020-07-02 16:47:44,583] INFO - scvi.dataset.dataset | Computing the library size for the new data\n",
      "[2020-07-02 16:47:44,708] INFO - scvi.dataset.dataset | Filtering non-expressing cells.\n",
      "[2020-07-02 16:47:45,592] INFO - scvi.dataset.dataset | Computing the library size for the new data\n",
      "[2020-07-02 16:47:45,711] INFO - scvi.dataset.dataset | Downsampled from 16017 to 16017 cells\n",
      "[2020-07-02 16:47:45,712] INFO - scvi.dataset.dataset | extracting highly variable genes\n"
     ]
    },
    {
     "name": "stderr",
     "output_type": "stream",
     "text": [
      "Transforming to str index.\n"
     ]
    },
    {
     "name": "stdout",
     "output_type": "stream",
     "text": [
      "[2020-07-02 16:48:06,162] INFO - scvi.dataset.dataset | Downsampling from 18141 to 3203 genes\n",
      "[2020-07-02 16:48:06,602] INFO - scvi.dataset.dataset | Computing the library size for the new data\n",
      "[2020-07-02 16:48:06,629] INFO - scvi.dataset.dataset | Filtering non-expressing cells.\n",
      "[2020-07-02 16:48:06,838] INFO - scvi.dataset.dataset | Computing the library size for the new data\n",
      "[2020-07-02 16:48:06,861] INFO - scvi.dataset.dataset | Downsampled from 16017 to 16017 cells\n",
      "['B cell' 'CD4-positive helper T cell'\n",
      " 'CD4-positive, alpha-beta memory T cell'\n",
      " 'CD8-positive, alpha-beta memory T cell' 'classical monocyte'\n",
      " 'dendritic cell, human' 'effector memory CD8-positive, alpha-beta T cell'\n",
      " 'erythrocyte' 'mast cell' 'megakaryocyte' 'memory B cell'\n",
      " 'naive thymus-derived CD4-positive, alpha-beta T cell'\n",
      " 'naive thymus-derived CD8-positive, alpha-beta T cell'\n",
      " 'natural killer cell' 'neutrophil' 'non-classical monocyte' 'plasma cell'\n",
      " 'platelet'] ['B cell' 'CD4-positive helper T cell'\n",
      " 'CD4-positive, alpha-beta memory T cell'\n",
      " 'CD8-positive, alpha-beta memory T cell' 'capillary endothelial cell'\n",
      " 'classical monocyte' 'dendritic cell, human'\n",
      " 'effector memory CD8-positive, alpha-beta T cell' 'erythrocyte'\n",
      " 'granulocyte' 'mast cell' 'megakaryocyte' 'memory B cell'\n",
      " 'naive thymus-derived CD4-positive, alpha-beta T cell'\n",
      " 'naive thymus-derived CD8-positive, alpha-beta T cell'\n",
      " 'natural killer cell' 'neutrophil' 'non-classical monocyte' 'plasma cell'\n",
      " 'platelet' 'smooth muscle cell' 'unassigned']\n",
      "Bone_Marrow\n"
     ]
    },
    {
     "name": "stderr",
     "output_type": "stream",
     "text": [
      "Trying to set attribute `.var` of view, copying.\n"
     ]
    },
    {
     "name": "stdout",
     "output_type": "stream",
     "text": [
      "[2020-07-02 16:48:10,099] INFO - scvi.dataset.anndataset | Dense size under 1Gb, casting to dense format (np.ndarray).\n",
      "[2020-07-02 16:48:10,764] INFO - scvi.dataset.dataset | Remapping batch_indices to [0,N]\n",
      "[2020-07-02 16:48:10,767] INFO - scvi.dataset.dataset | Remapping labels to [0,N]\n",
      "[2020-07-02 16:48:12,142] INFO - scvi.dataset.dataset | Computing the library size for the new data\n",
      "[2020-07-02 16:48:12,332] INFO - scvi.dataset.dataset | Downsampled from 3149 to 3149 cells\n",
      "[2020-07-02 16:48:12,591] INFO - scvi.dataset.dataset | Downsampling from 33425 to 19915 genes\n",
      "[2020-07-02 16:48:13,591] INFO - scvi.dataset.dataset | Computing the library size for the new data\n",
      "[2020-07-02 16:48:13,870] INFO - scvi.dataset.dataset | Filtering non-expressing cells.\n",
      "[2020-07-02 16:48:14,893] INFO - scvi.dataset.dataset | Computing the library size for the new data\n",
      "[2020-07-02 16:48:14,999] INFO - scvi.dataset.dataset | Downsampled from 3149 to 3149 cells\n",
      "[2020-07-02 16:48:15,000] INFO - scvi.dataset.dataset | extracting highly variable genes\n"
     ]
    },
    {
     "name": "stderr",
     "output_type": "stream",
     "text": [
      "Transforming to str index.\n"
     ]
    },
    {
     "name": "stdout",
     "output_type": "stream",
     "text": [
      "[2020-07-02 16:48:20,425] INFO - scvi.dataset.dataset | Downsampling from 19915 to 1574 genes\n",
      "[2020-07-02 16:48:20,547] INFO - scvi.dataset.dataset | Computing the library size for the new data\n",
      "[2020-07-02 16:48:20,570] INFO - scvi.dataset.dataset | Filtering non-expressing cells.\n",
      "[2020-07-02 16:48:20,640] INFO - scvi.dataset.dataset | Computing the library size for the new data\n",
      "[2020-07-02 16:48:20,649] INFO - scvi.dataset.dataset | Downsampled from 3149 to 3149 cells\n",
      "['CD34-positive, CD38-negative multipotent progenitor cell'\n",
      " 'CD4-positive helper T cell' 'CD8-positive, alpha-beta T cell'\n",
      " 'erythroid progenitor cell' 'follicular B cell' 'granulocyte'\n",
      " 'hematopoietic stem cell' 'monocyte' 'natural killer cell' 'neutrophil'\n",
      " 'plasma cell'] ['CD34-positive, CD38-negative multipotent progenitor cell'\n",
      " 'CD4-positive helper T cell' 'CD8-positive, alpha-beta T cell'\n",
      " 'early lymphoid progenitor' 'erythroid progenitor cell'\n",
      " 'follicular B cell' 'granulocyte' 'hematopoietic stem cell' 'monocyte'\n",
      " 'natural killer cell' 'neutrophil' 'plasma cell' 'unassigned']\n",
      "Kidney\n"
     ]
    },
    {
     "name": "stderr",
     "output_type": "stream",
     "text": [
      "Trying to set attribute `.var` of view, copying.\n"
     ]
    },
    {
     "name": "stdout",
     "output_type": "stream",
     "text": [
      "[2020-07-02 16:48:23,622] INFO - scvi.dataset.dataset | Remapping batch_indices to [0,N]\n",
      "[2020-07-02 16:48:23,624] INFO - scvi.dataset.dataset | Remapping labels to [0,N]\n",
      "[2020-07-02 16:48:24,546] INFO - scvi.dataset.dataset | Computing the library size for the new data\n",
      "[2020-07-02 16:48:24,681] INFO - scvi.dataset.dataset | Downsampled from 21290 to 21290 cells\n",
      "[2020-07-02 16:48:24,855] INFO - scvi.dataset.dataset | Downsampling from 40654 to 23353 genes\n",
      "[2020-07-02 16:48:25,816] INFO - scvi.dataset.dataset | Computing the library size for the new data\n",
      "[2020-07-02 16:48:25,935] INFO - scvi.dataset.dataset | Filtering non-expressing cells.\n",
      "[2020-07-02 16:48:26,773] INFO - scvi.dataset.dataset | Computing the library size for the new data\n",
      "[2020-07-02 16:48:26,895] INFO - scvi.dataset.dataset | Downsampled from 21290 to 21290 cells\n",
      "[2020-07-02 16:48:26,897] INFO - scvi.dataset.dataset | extracting highly variable genes\n"
     ]
    },
    {
     "name": "stderr",
     "output_type": "stream",
     "text": [
      "Transforming to str index.\n"
     ]
    },
    {
     "name": "stdout",
     "output_type": "stream",
     "text": [
      "[2020-07-02 16:49:09,476] INFO - scvi.dataset.dataset | Downsampling from 23353 to 4258 genes\n",
      "[2020-07-02 16:49:09,839] INFO - scvi.dataset.dataset | Computing the library size for the new data\n",
      "[2020-07-02 16:49:09,861] INFO - scvi.dataset.dataset | Filtering non-expressing cells.\n",
      "[2020-07-02 16:49:10,016] INFO - scvi.dataset.dataset | Computing the library size for the new data\n",
      "[2020-07-02 16:49:10,034] INFO - scvi.dataset.dataset | Downsampled from 21290 to 21290 cells\n",
      "['B cell' 'T cell' 'capillary endothelial cell' 'endothelial cell'\n",
      " 'fast muscle cell' 'fibroblast' 'kidney epithelial cell'\n",
      " 'mesenchymal stem cell' 'myeloid cell' 'naive B cell'\n",
      " 'natural killer cell' 'neutrophil'] ['B cell' 'T cell' 'capillary endothelial cell' 'endothelial cell'\n",
      " 'fast muscle cell' 'fibroblast' 'kidney epithelial cell'\n",
      " 'mesenchymal stem cell' 'myeloid cell' 'naive B cell'\n",
      " 'natural killer cell' 'neutrophil' 'unassigned']\n",
      "Large_Intestine\n"
     ]
    },
    {
     "name": "stderr",
     "output_type": "stream",
     "text": [
      "Trying to set attribute `.var` of view, copying.\n"
     ]
    },
    {
     "name": "stdout",
     "output_type": "stream",
     "text": [
      "[2020-07-02 16:49:13,425] INFO - scvi.dataset.dataset | Remapping batch_indices to [0,N]\n",
      "[2020-07-02 16:49:13,427] INFO - scvi.dataset.dataset | Remapping labels to [0,N]\n",
      "[2020-07-02 16:49:13,757] INFO - scvi.dataset.dataset | Computing the library size for the new data\n",
      "[2020-07-02 16:49:13,805] INFO - scvi.dataset.dataset | Downsampled from 8193 to 8193 cells\n",
      "[2020-07-02 16:49:13,871] INFO - scvi.dataset.dataset | Downsampling from 43757 to 26019 genes\n",
      "[2020-07-02 16:49:14,201] INFO - scvi.dataset.dataset | Computing the library size for the new data\n",
      "[2020-07-02 16:49:14,240] INFO - scvi.dataset.dataset | Filtering non-expressing cells.\n",
      "[2020-07-02 16:49:14,537] INFO - scvi.dataset.dataset | Computing the library size for the new data\n",
      "[2020-07-02 16:49:14,574] INFO - scvi.dataset.dataset | Downsampled from 8193 to 8193 cells\n",
      "[2020-07-02 16:49:14,576] INFO - scvi.dataset.dataset | extracting highly variable genes\n"
     ]
    },
    {
     "name": "stderr",
     "output_type": "stream",
     "text": [
      "Transforming to str index.\n"
     ]
    },
    {
     "name": "stdout",
     "output_type": "stream",
     "text": [
      "[2020-07-02 16:49:30,029] INFO - scvi.dataset.dataset | Downsampling from 26019 to 4096 genes\n",
      "[2020-07-02 16:49:30,183] INFO - scvi.dataset.dataset | Computing the library size for the new data\n",
      "[2020-07-02 16:49:30,194] INFO - scvi.dataset.dataset | Filtering non-expressing cells.\n",
      "[2020-07-02 16:49:30,253] INFO - scvi.dataset.dataset | Computing the library size for the new data\n",
      "[2020-07-02 16:49:30,262] INFO - scvi.dataset.dataset | Downsampled from 8193 to 8193 cells\n",
      "['B cell' 'T cell' 'endothelial cell' 'enterocyte' 'enteroendocrine cell'\n",
      " 'goblet cell' 'intestinal crypt stem cell'\n",
      " 'large intestine crypt goblet cell' 'stromal cell'] ['B cell' 'T cell' 'early lymphoid progenitor' 'endothelial cell'\n",
      " 'enterocyte' 'enteroendocrine cell' 'goblet cell'\n",
      " 'intestinal crypt stem cell' 'large intestine crypt goblet cell'\n",
      " 'neutrophil' 'stromal cell' 'unassigned']\n",
      "Lung\n"
     ]
    },
    {
     "name": "stderr",
     "output_type": "stream",
     "text": [
      "Trying to set attribute `.var` of view, copying.\n"
     ]
    },
    {
     "name": "stdout",
     "output_type": "stream",
     "text": [
      "[2020-07-02 16:49:36,062] INFO - scvi.dataset.dataset | Remapping batch_indices to [0,N]\n",
      "[2020-07-02 16:49:36,066] INFO - scvi.dataset.dataset | Remapping labels to [0,N]\n",
      "[2020-07-02 16:49:39,391] INFO - scvi.dataset.dataset | Computing the library size for the new data\n",
      "[2020-07-02 16:49:40,352] INFO - scvi.dataset.dataset | Downsampled from 36842 to 36842 cells\n",
      "[2020-07-02 16:49:40,786] INFO - scvi.dataset.dataset | Downsampling from 49176 to 25850 genes\n",
      "[2020-07-02 16:49:44,815] INFO - scvi.dataset.dataset | Computing the library size for the new data\n",
      "[2020-07-02 16:49:45,131] INFO - scvi.dataset.dataset | Filtering non-expressing cells.\n",
      "[2020-07-02 16:49:48,807] INFO - scvi.dataset.dataset | Computing the library size for the new data\n",
      "[2020-07-02 16:49:49,116] INFO - scvi.dataset.dataset | Downsampled from 36842 to 36842 cells\n",
      "[2020-07-02 16:49:49,117] INFO - scvi.dataset.dataset | extracting highly variable genes\n"
     ]
    },
    {
     "name": "stderr",
     "output_type": "stream",
     "text": [
      "Transforming to str index.\n"
     ]
    },
    {
     "name": "stdout",
     "output_type": "stream",
     "text": [
      "[2020-07-02 16:51:35,304] INFO - scvi.dataset.dataset | Downsampling from 25850 to 7368 genes\n",
      "[2020-07-02 16:51:36,813] INFO - scvi.dataset.dataset | Computing the library size for the new data\n",
      "[2020-07-02 16:51:36,913] INFO - scvi.dataset.dataset | Filtering non-expressing cells.\n",
      "[2020-07-02 16:51:37,707] INFO - scvi.dataset.dataset | Computing the library size for the new data\n",
      "[2020-07-02 16:51:37,811] INFO - scvi.dataset.dataset | Downsampled from 36842 to 36842 cells\n",
      "['B cell' 'CD4-positive, alpha-beta memory T cell' 'adventitial cell'\n",
      " 'basal cell' 'basophil' 'capillary endothelial cell' 'classical monocyte'\n",
      " 'club cell' 'dendritic cell, human'\n",
      " 'effector memory CD4-positive, alpha-beta T cell'\n",
      " 'effector memory CD8-positive, alpha-beta T cell'\n",
      " 'endothelial cell of artery' 'endothelial cell of lymphatic vessel'\n",
      " 'epithelial cell of alveolus of lung' 'fibroblast of lung' 'ionocyte'\n",
      " 'lung ciliated cell' 'lung microvascular endothelial cell' 'macrophage'\n",
      " 'naive thymus-derived CD8-positive, alpha-beta T cell'\n",
      " 'natural killer cell' 'non-classical monocyte' 'pericyte cell'\n",
      " 'plasma cell' 'plasmacytoid dendritic cell, human'\n",
      " 'respiratory goblet cell' 'type I pneumocyte' 'type II pneumocyte'\n",
      " 'vascular associated smooth muscle cell' 'vein endothelial cell'] ['B cell' 'CD4-positive, alpha-beta memory T cell' 'adventitial cell'\n",
      " 'basal cell' 'basophil' 'bronchial smooth muscle cell'\n",
      " 'capillary endothelial cell' 'classical monocyte' 'club cell'\n",
      " 'dendritic cell, human' 'early lymphoid progenitor'\n",
      " 'effector memory CD4-positive, alpha-beta T cell'\n",
      " 'effector memory CD8-positive, alpha-beta T cell'\n",
      " 'endothelial cell of artery' 'endothelial cell of lymphatic vessel'\n",
      " 'epithelial cell of alveolus of lung' 'fibroblast of lung'\n",
      " 'intermediate monocyte' 'ionocyte' 'lung ciliated cell'\n",
      " 'lung microvascular endothelial cell' 'macrophage' 'mature NK T cell'\n",
      " 'monocyte' 'myeloid dendritic cell, human' 'myoblast'\n",
      " 'naive thymus-derived CD4-positive, alpha-beta T cell'\n",
      " 'naive thymus-derived CD8-positive, alpha-beta T cell'\n",
      " 'natural killer cell' 'neutrophil' 'non-classical monocyte'\n",
      " 'pericyte cell' 'plasma cell' 'plasmacytoid dendritic cell, human'\n",
      " 'respiratory goblet cell' 'serous cell of epithelium of bronchus'\n",
      " 'type I pneumocyte' 'type II pneumocyte' 'unassigned'\n",
      " 'vascular associated smooth muscle cell' 'vein endothelial cell']\n",
      "Lymph_Node\n"
     ]
    },
    {
     "name": "stderr",
     "output_type": "stream",
     "text": [
      "Trying to set attribute `.var` of view, copying.\n"
     ]
    },
    {
     "name": "stdout",
     "output_type": "stream",
     "text": [
      "[2020-07-02 16:51:42,215] INFO - scvi.dataset.dataset | Remapping batch_indices to [0,N]\n",
      "[2020-07-02 16:51:42,217] INFO - scvi.dataset.dataset | Remapping labels to [0,N]\n",
      "[2020-07-02 16:51:42,696] INFO - scvi.dataset.dataset | Computing the library size for the new data\n",
      "[2020-07-02 16:51:42,766] INFO - scvi.dataset.dataset | Downsampled from 10057 to 10057 cells\n",
      "[2020-07-02 16:51:42,858] INFO - scvi.dataset.dataset | Downsampling from 37773 to 24764 genes\n",
      "[2020-07-02 16:51:43,365] INFO - scvi.dataset.dataset | Computing the library size for the new data\n",
      "[2020-07-02 16:51:43,429] INFO - scvi.dataset.dataset | Filtering non-expressing cells.\n",
      "[2020-07-02 16:51:43,880] INFO - scvi.dataset.dataset | Computing the library size for the new data\n",
      "[2020-07-02 16:51:43,943] INFO - scvi.dataset.dataset | Downsampled from 10057 to 10057 cells\n",
      "[2020-07-02 16:51:43,944] INFO - scvi.dataset.dataset | extracting highly variable genes\n"
     ]
    },
    {
     "name": "stderr",
     "output_type": "stream",
     "text": [
      "Transforming to str index.\n"
     ]
    },
    {
     "name": "stdout",
     "output_type": "stream",
     "text": [
      "[2020-07-02 16:52:06,011] INFO - scvi.dataset.dataset | Downsampling from 24764 to 2011 genes\n",
      "[2020-07-02 16:52:06,165] INFO - scvi.dataset.dataset | Computing the library size for the new data\n",
      "[2020-07-02 16:52:06,173] INFO - scvi.dataset.dataset | Filtering non-expressing cells.\n",
      "[2020-07-02 16:52:06,221] INFO - scvi.dataset.dataset | Computing the library size for the new data\n",
      "[2020-07-02 16:52:06,229] INFO - scvi.dataset.dataset | Downsampled from 10057 to 10057 cells\n",
      "['B cell' 'T follicular helper cell'\n",
      " 'activated CD8-positive, alpha-beta T cell, human' 'basophil'\n",
      " 'classical monocyte' 'conventional dendritic cell'\n",
      " 'intermediate monocyte' 'mast cell' 'mature NK T cell' 'memory B cell'\n",
      " 'naive B cell' 'naive thymus-derived CD4-positive, alpha-beta T cell'\n",
      " 'non-classical monocyte' 'plasma cell' 'plasmacytoid dendritic cell'] ['B cell' 'CD4-positive, CD25-positive, alpha-beta regulatory T cell'\n",
      " 'CD4-positive, alpha-beta cytotoxic T cell'\n",
      " 'CD8-positive, alpha-beta T cell' 'T follicular helper cell'\n",
      " 'activated CD8-positive, alpha-beta T cell, human' 'basophil'\n",
      " 'classical monocyte' 'conventional dendritic cell'\n",
      " 'intermediate monocyte' 'mast cell' 'mature NK T cell' 'memory B cell'\n",
      " 'naive B cell' 'naive thymus-derived CD4-positive, alpha-beta T cell'\n",
      " 'natural killer cell' 'neutrophil' 'non-classical monocyte' 'plasma cell'\n",
      " 'plasmacytoid dendritic cell' 'unassigned']\n",
      "Muscle\n"
     ]
    },
    {
     "name": "stderr",
     "output_type": "stream",
     "text": [
      "Trying to set attribute `.var` of view, copying.\n"
     ]
    },
    {
     "name": "stdout",
     "output_type": "stream",
     "text": [
      "[2020-07-02 16:52:10,321] INFO - scvi.dataset.dataset | Remapping batch_indices to [0,N]\n",
      "[2020-07-02 16:52:10,323] INFO - scvi.dataset.dataset | Remapping labels to [0,N]\n",
      "[2020-07-02 16:52:11,585] INFO - scvi.dataset.dataset | Computing the library size for the new data\n",
      "[2020-07-02 16:52:11,737] INFO - scvi.dataset.dataset | Downsampled from 21653 to 21653 cells\n",
      "[2020-07-02 16:52:11,944] INFO - scvi.dataset.dataset | Downsampling from 49339 to 24271 genes\n",
      "[2020-07-02 16:52:13,343] INFO - scvi.dataset.dataset | Computing the library size for the new data\n",
      "[2020-07-02 16:52:13,495] INFO - scvi.dataset.dataset | Filtering non-expressing cells.\n",
      "[2020-07-02 16:52:14,747] INFO - scvi.dataset.dataset | Computing the library size for the new data\n",
      "[2020-07-02 16:52:14,895] INFO - scvi.dataset.dataset | Downsampled from 21653 to 21653 cells\n",
      "[2020-07-02 16:52:14,896] INFO - scvi.dataset.dataset | extracting highly variable genes\n"
     ]
    },
    {
     "name": "stderr",
     "output_type": "stream",
     "text": [
      "Transforming to str index.\n"
     ]
    },
    {
     "name": "stdout",
     "output_type": "stream",
     "text": [
      "[2020-07-02 16:53:08,781] INFO - scvi.dataset.dataset | Downsampling from 24271 to 4330 genes\n",
      "[2020-07-02 16:53:09,368] INFO - scvi.dataset.dataset | Computing the library size for the new data\n",
      "[2020-07-02 16:53:09,407] INFO - scvi.dataset.dataset | Filtering non-expressing cells.\n",
      "[2020-07-02 16:53:09,704] INFO - scvi.dataset.dataset | Computing the library size for the new data\n",
      "[2020-07-02 16:53:09,734] INFO - scvi.dataset.dataset | Downsampled from 21653 to 21653 cells\n",
      "['B cell' 'CD8-positive, alpha-beta T cell' 'T cell'\n",
      " 'capillary endothelial cell' 'endothelial cell of artery'\n",
      " 'endothelial cell of lymphatic vessel'\n",
      " 'endothelial cell of vascular tree' 'fast muscle cell' 'macrophage'\n",
      " 'mast cell' 'mesenchymal stem cell'\n",
      " 'multi-potent skeletal muscle stem cell' 'myoblast'\n",
      " 'skeletal muscle fiber' 'slow muscle cell' 'smooth muscle cell'\n",
      " 'tendon cell'] ['B cell' 'CD4-positive helper T cell' 'CD8-positive, alpha-beta T cell'\n",
      " 'T cell' 'capillary endothelial cell' 'early lymphoid progenitor'\n",
      " 'endothelial cell of artery' 'endothelial cell of lymphatic vessel'\n",
      " 'endothelial cell of vascular tree' 'fast muscle cell'\n",
      " 'follicular B cell' 'macrophage' 'mast cell' 'mesenchymal stem cell'\n",
      " 'multi-potent skeletal muscle stem cell' 'myoblast' 'natural killer cell'\n",
      " 'plasma cell' 'skeletal muscle fiber' 'slow muscle cell'\n",
      " 'smooth muscle cell' 'tendon cell' 'unassigned']\n",
      "Pancreas\n"
     ]
    },
    {
     "name": "stderr",
     "output_type": "stream",
     "text": [
      "Trying to set attribute `.var` of view, copying.\n"
     ]
    },
    {
     "name": "stdout",
     "output_type": "stream",
     "text": [
      "[2020-07-02 16:53:14,195] INFO - scvi.dataset.dataset | Remapping batch_indices to [0,N]\n",
      "[2020-07-02 16:53:14,197] INFO - scvi.dataset.dataset | Remapping labels to [0,N]\n",
      "[2020-07-02 16:53:14,824] INFO - scvi.dataset.dataset | Computing the library size for the new data\n",
      "[2020-07-02 16:53:14,900] INFO - scvi.dataset.dataset | Downsampled from 8890 to 8890 cells\n",
      "[2020-07-02 16:53:15,005] INFO - scvi.dataset.dataset | Downsampling from 51464 to 29775 genes\n",
      "[2020-07-02 16:53:15,678] INFO - scvi.dataset.dataset | Computing the library size for the new data\n",
      "[2020-07-02 16:53:15,759] INFO - scvi.dataset.dataset | Filtering non-expressing cells.\n",
      "[2020-07-02 16:53:16,364] INFO - scvi.dataset.dataset | Computing the library size for the new data\n",
      "[2020-07-02 16:53:16,440] INFO - scvi.dataset.dataset | Downsampled from 8890 to 8890 cells\n",
      "[2020-07-02 16:53:16,441] INFO - scvi.dataset.dataset | extracting highly variable genes\n"
     ]
    },
    {
     "name": "stderr",
     "output_type": "stream",
     "text": [
      "Transforming to str index.\n"
     ]
    },
    {
     "name": "stdout",
     "output_type": "stream",
     "text": [
      "[2020-07-02 16:53:33,108] INFO - scvi.dataset.dataset | Downsampling from 29775 to 4445 genes\n",
      "[2020-07-02 16:53:33,328] INFO - scvi.dataset.dataset | Computing the library size for the new data\n",
      "[2020-07-02 16:53:33,340] INFO - scvi.dataset.dataset | Filtering non-expressing cells.\n",
      "[2020-07-02 16:53:33,432] INFO - scvi.dataset.dataset | Computing the library size for the new data\n",
      "[2020-07-02 16:53:33,443] INFO - scvi.dataset.dataset | Downsampled from 8890 to 8890 cells\n",
      "['T cell' 'endothelial cell' 'macrophage' 'pancreatic A cell'\n",
      " 'pancreatic acinar cell' 'pancreatic ductal cell'\n",
      " 'pancreatic stellate cell' 'type B pancreatic cell'] ['B cell' 'T cell' 'endothelial cell' 'macrophage' 'pancreatic A cell'\n",
      " 'pancreatic D cell' 'pancreatic acinar cell' 'pancreatic ductal cell'\n",
      " 'pancreatic stellate cell' 'type B pancreatic cell' 'unassigned']\n",
      "Skin\n"
     ]
    },
    {
     "name": "stderr",
     "output_type": "stream",
     "text": [
      "Trying to set attribute `.var` of view, copying.\n"
     ]
    },
    {
     "name": "stdout",
     "output_type": "stream",
     "text": [
      "[2020-07-02 16:53:36,338] INFO - scvi.dataset.anndataset | Dense size under 1Gb, casting to dense format (np.ndarray).\n",
      "[2020-07-02 16:53:36,662] INFO - scvi.dataset.dataset | Remapping batch_indices to [0,N]\n",
      "[2020-07-02 16:53:36,664] INFO - scvi.dataset.dataset | Remapping labels to [0,N]\n",
      "[2020-07-02 16:53:37,168] INFO - scvi.dataset.dataset | Computing the library size for the new data\n",
      "[2020-07-02 16:53:37,232] INFO - scvi.dataset.dataset | Downsampled from 856 to 856 cells\n",
      "[2020-07-02 16:53:37,321] INFO - scvi.dataset.dataset | Downsampling from 39804 to 39804 genes\n",
      "[2020-07-02 16:53:37,759] INFO - scvi.dataset.dataset | Computing the library size for the new data\n",
      "[2020-07-02 16:53:37,933] INFO - scvi.dataset.dataset | Filtering non-expressing cells.\n",
      "[2020-07-02 16:53:38,509] INFO - scvi.dataset.dataset | Computing the library size for the new data\n",
      "[2020-07-02 16:53:38,568] INFO - scvi.dataset.dataset | Downsampled from 856 to 856 cells\n",
      "[2020-07-02 16:53:38,570] INFO - scvi.dataset.dataset | extracting highly variable genes\n"
     ]
    },
    {
     "name": "stderr",
     "output_type": "stream",
     "text": [
      "Transforming to str index.\n"
     ]
    },
    {
     "name": "stdout",
     "output_type": "stream",
     "text": [
      "[2020-07-02 16:53:44,676] INFO - scvi.dataset.dataset | Downsampling from 39804 to 428 genes\n",
      "[2020-07-02 16:53:44,691] INFO - scvi.dataset.dataset | Computing the library size for the new data\n",
      "[2020-07-02 16:53:44,694] INFO - scvi.dataset.dataset | Filtering non-expressing cells.\n",
      "[2020-07-02 16:53:44,703] INFO - scvi.dataset.dataset | Computing the library size for the new data\n",
      "[2020-07-02 16:53:44,704] INFO - scvi.dataset.dataset | Downsampled from 856 to 856 cells\n",
      "['Langerhans cell' 'T cell' 'conventional dendritic cell'\n",
      " 'cytotoxic T cell' 'endothelial cell of vascular tree' 'epithelial cell'\n",
      " 'fibroblast' 'macrophage' 'mast cell' 'memory T cell'] ['Langerhans cell' 'T cell' 'conventional dendritic cell'\n",
      " 'cytotoxic T cell' 'endothelial cell of vascular tree' 'epithelial cell'\n",
      " 'fibroblast' 'macrophage' 'mast cell' 'melanocyte' 'memory T cell'\n",
      " 'unassigned']\n",
      "Small_Intestine\n"
     ]
    },
    {
     "name": "stderr",
     "output_type": "stream",
     "text": [
      "Trying to set attribute `.var` of view, copying.\n"
     ]
    },
    {
     "name": "stdout",
     "output_type": "stream",
     "text": [
      "[2020-07-02 16:53:46,630] INFO - scvi.dataset.dataset | Remapping batch_indices to [0,N]\n",
      "[2020-07-02 16:53:46,632] INFO - scvi.dataset.dataset | Remapping labels to [0,N]\n",
      "[2020-07-02 16:53:46,992] INFO - scvi.dataset.dataset | Computing the library size for the new data\n",
      "[2020-07-02 16:53:47,046] INFO - scvi.dataset.dataset | Downsampled from 9542 to 9542 cells\n",
      "[2020-07-02 16:53:47,114] INFO - scvi.dataset.dataset | Downsampling from 46820 to 29375 genes\n",
      "[2020-07-02 16:53:47,468] INFO - scvi.dataset.dataset | Computing the library size for the new data\n",
      "[2020-07-02 16:53:47,512] INFO - scvi.dataset.dataset | Filtering non-expressing cells.\n",
      "[2020-07-02 16:53:47,839] INFO - scvi.dataset.dataset | Computing the library size for the new data\n",
      "[2020-07-02 16:53:47,875] INFO - scvi.dataset.dataset | Downsampled from 9542 to 9542 cells\n",
      "[2020-07-02 16:53:47,876] INFO - scvi.dataset.dataset | extracting highly variable genes\n"
     ]
    },
    {
     "name": "stderr",
     "output_type": "stream",
     "text": [
      "Transforming to str index.\n"
     ]
    },
    {
     "name": "stdout",
     "output_type": "stream",
     "text": [
      "[2020-07-02 16:54:03,201] INFO - scvi.dataset.dataset | Downsampling from 29375 to 4771 genes\n",
      "[2020-07-02 16:54:03,362] INFO - scvi.dataset.dataset | Computing the library size for the new data\n",
      "[2020-07-02 16:54:03,374] INFO - scvi.dataset.dataset | Filtering non-expressing cells.\n",
      "[2020-07-02 16:54:03,439] INFO - scvi.dataset.dataset | Computing the library size for the new data\n",
      "[2020-07-02 16:54:03,457] INFO - scvi.dataset.dataset | Downsampled from 9542 to 9542 cells\n",
      "['B cell' 'T cell' 'endothelial cell' 'enterocyte'\n",
      " 'enterocyte of epithelium of small intestine' 'enteroendocrine cell'\n",
      " 'goblet cell' 'intestinal crypt stem cell' 'paneth cell' 'stromal cell'] ['B cell' 'T cell' 'capillary endothelial cell' 'endothelial cell'\n",
      " 'endothelial cell of vascular tree' 'enterocyte'\n",
      " 'enterocyte of epithelium of small intestine' 'enteroendocrine cell'\n",
      " 'goblet cell' 'intestinal crypt stem cell' 'macrophage'\n",
      " 'mesenchymal stem cell' 'paneth cell' 'slow muscle cell' 'stromal cell'\n",
      " 'unassigned']\n",
      "Spleen\n"
     ]
    },
    {
     "name": "stderr",
     "output_type": "stream",
     "text": [
      "Trying to set attribute `.var` of view, copying.\n"
     ]
    },
    {
     "name": "stdout",
     "output_type": "stream",
     "text": [
      "[2020-07-02 16:54:06,427] INFO - scvi.dataset.dataset | Remapping batch_indices to [0,N]\n",
      "[2020-07-02 16:54:06,429] INFO - scvi.dataset.dataset | Remapping labels to [0,N]\n",
      "[2020-07-02 16:54:06,876] INFO - scvi.dataset.dataset | Computing the library size for the new data\n",
      "[2020-07-02 16:54:06,938] INFO - scvi.dataset.dataset | Downsampled from 8160 to 8160 cells\n",
      "[2020-07-02 16:54:07,018] INFO - scvi.dataset.dataset | Downsampling from 41245 to 26316 genes\n",
      "[2020-07-02 16:54:07,478] INFO - scvi.dataset.dataset | Computing the library size for the new data\n",
      "[2020-07-02 16:54:07,527] INFO - scvi.dataset.dataset | Filtering non-expressing cells.\n",
      "[2020-07-02 16:54:07,940] INFO - scvi.dataset.dataset | Computing the library size for the new data\n",
      "[2020-07-02 16:54:07,986] INFO - scvi.dataset.dataset | Downsampled from 8160 to 8160 cells\n",
      "[2020-07-02 16:54:07,988] INFO - scvi.dataset.dataset | extracting highly variable genes\n"
     ]
    },
    {
     "name": "stderr",
     "output_type": "stream",
     "text": [
      "Transforming to str index.\n"
     ]
    },
    {
     "name": "stdout",
     "output_type": "stream",
     "text": [
      "[2020-07-02 16:54:19,611] INFO - scvi.dataset.dataset | Downsampling from 26316 to 4080 genes\n",
      "[2020-07-02 16:54:19,790] INFO - scvi.dataset.dataset | Computing the library size for the new data\n",
      "[2020-07-02 16:54:19,803] INFO - scvi.dataset.dataset | Filtering non-expressing cells.\n",
      "[2020-07-02 16:54:19,886] INFO - scvi.dataset.dataset | Computing the library size for the new data\n",
      "[2020-07-02 16:54:19,904] INFO - scvi.dataset.dataset | Downsampled from 8160 to 8160 cells\n",
      "['B cell' 'CD4-positive helper T cell' 'T follicular helper cell'\n",
      " 'activated CD8-positive, alpha-beta T cell, human' 'classical monocyte'\n",
      " 'conventional dendritic cell' 'erythrocyte' 'mature NK T cell'\n",
      " 'memory B cell' 'naive B cell'\n",
      " 'naive thymus-derived CD4-positive, alpha-beta T cell'\n",
      " 'natural killer cell' 'neutrophil' 'non-classical monocyte' 'plasma cell'\n",
      " 'plasmacytoid dendritic cell'] ['B cell' 'CD4-positive helper T cell'\n",
      " 'CD4-positive, CD25-positive, alpha-beta regulatory T cell'\n",
      " 'CD4-positive, alpha-beta cytotoxic T cell'\n",
      " 'CD8-positive, alpha-beta T cell' 'T follicular helper cell'\n",
      " 'activated CD8-positive, alpha-beta T cell, human' 'classical monocyte'\n",
      " 'conventional dendritic cell' 'erythrocyte' 'erythroid progenitor cell'\n",
      " 'follicular B cell' 'intermediate monocyte' 'mature NK T cell'\n",
      " 'memory B cell' 'naive B cell'\n",
      " 'naive thymus-derived CD4-positive, alpha-beta T cell'\n",
      " 'natural killer cell' 'neutrophil' 'non-classical monocyte' 'plasma cell'\n",
      " 'plasmacytoid dendritic cell' 'unassigned']\n",
      "Thymus\n"
     ]
    },
    {
     "name": "stderr",
     "output_type": "stream",
     "text": [
      "Trying to set attribute `.var` of view, copying.\n"
     ]
    },
    {
     "name": "stdout",
     "output_type": "stream",
     "text": [
      "[2020-07-02 16:54:23,180] INFO - scvi.dataset.dataset | Remapping batch_indices to [0,N]\n",
      "[2020-07-02 16:54:23,182] INFO - scvi.dataset.dataset | Remapping labels to [0,N]\n",
      "[2020-07-02 16:54:23,789] INFO - scvi.dataset.dataset | Computing the library size for the new data\n",
      "[2020-07-02 16:54:23,877] INFO - scvi.dataset.dataset | Downsampled from 12884 to 12884 cells\n",
      "[2020-07-02 16:54:23,994] INFO - scvi.dataset.dataset | Downsampling from 44271 to 27012 genes\n",
      "[2020-07-02 16:54:24,658] INFO - scvi.dataset.dataset | Computing the library size for the new data\n",
      "[2020-07-02 16:54:24,744] INFO - scvi.dataset.dataset | Filtering non-expressing cells.\n",
      "[2020-07-02 16:54:25,328] INFO - scvi.dataset.dataset | Computing the library size for the new data\n",
      "[2020-07-02 16:54:25,412] INFO - scvi.dataset.dataset | Downsampled from 12884 to 12884 cells\n",
      "[2020-07-02 16:54:25,413] INFO - scvi.dataset.dataset | extracting highly variable genes\n"
     ]
    },
    {
     "name": "stderr",
     "output_type": "stream",
     "text": [
      "Transforming to str index.\n"
     ]
    },
    {
     "name": "stdout",
     "output_type": "stream",
     "text": [
      "[2020-07-02 16:54:51,264] INFO - scvi.dataset.dataset | Downsampling from 27012 to 2576 genes\n",
      "[2020-07-02 16:54:51,471] INFO - scvi.dataset.dataset | Computing the library size for the new data\n",
      "[2020-07-02 16:54:51,484] INFO - scvi.dataset.dataset | Filtering non-expressing cells.\n",
      "[2020-07-02 16:54:51,562] INFO - scvi.dataset.dataset | Computing the library size for the new data\n",
      "[2020-07-02 16:54:51,572] INFO - scvi.dataset.dataset | Downsampled from 12884 to 12884 cells\n",
      "['CD4-positive, alpha-beta T cell'\n",
      " 'CD4-positive, alpha-beta memory T cell' 'DN1 thymic pro-T cell'\n",
      " 'T follicular helper cell' 'T-helper 17 cell' 'dendritic cell, human'\n",
      " 'double negative thymocyte' 'endothelial cell' 'fibroblast'\n",
      " 'group 3 innate lymphoid cell' 'lymphocyte' 'macrophage'\n",
      " 'mature NK T cell' 'medullary thymic epithelial cell' 'monocyte'\n",
      " 'naive B cell' 'natural killer cell' 'plasma cell' 'pro-B cell'\n",
      " 'vascular associated smooth muscle cell'] ['CD4-positive helper T cell' 'CD4-positive, alpha-beta T cell'\n",
      " 'CD4-positive, alpha-beta memory T cell'\n",
      " 'CD8-alpha-alpha-positive, alpha-beta intraepithelial T cell'\n",
      " 'CD8-positive, alpha-beta T cell' 'DN1 thymic pro-T cell' 'T cell'\n",
      " 'T follicular helper cell' 'T-helper 17 cell'\n",
      " 'capillary endothelial cell' 'dendritic cell, human'\n",
      " 'double negative thymocyte' 'early lymphoid progenitor'\n",
      " 'effector memory CD8-positive, alpha-beta T cell' 'endothelial cell'\n",
      " 'endothelial cell of vascular tree' 'erythrocyte' 'fibroblast'\n",
      " 'group 3 innate lymphoid cell' 'lymphocyte' 'macrophage' 'mast cell'\n",
      " 'mature NK T cell' 'medullary thymic epithelial cell' 'megakaryocyte'\n",
      " 'memory B cell' 'monocyte' 'naive B cell' 'natural killer cell'\n",
      " 'neutrophil' 'plasma cell' 'plasmacytoid dendritic cell' 'pro-B cell'\n",
      " 'regulatory T cell' 'resting double-positive thymocyte'\n",
      " 'smooth muscle cell' 'unassigned'\n",
      " 'vascular associated smooth muscle cell']\n",
      "Trachea\n"
     ]
    },
    {
     "name": "stderr",
     "output_type": "stream",
     "text": [
      "Trying to set attribute `.var` of view, copying.\n"
     ]
    },
    {
     "name": "stdout",
     "output_type": "stream",
     "text": [
      "[2020-07-02 16:54:54,310] INFO - scvi.dataset.dataset | Remapping batch_indices to [0,N]\n",
      "[2020-07-02 16:54:54,312] INFO - scvi.dataset.dataset | Remapping labels to [0,N]\n",
      "[2020-07-02 16:54:54,744] INFO - scvi.dataset.dataset | Computing the library size for the new data\n",
      "[2020-07-02 16:54:54,800] INFO - scvi.dataset.dataset | Downsampled from 7109 to 7109 cells\n",
      "[2020-07-02 16:54:54,874] INFO - scvi.dataset.dataset | Downsampling from 35252 to 18899 genes\n",
      "[2020-07-02 16:54:55,318] INFO - scvi.dataset.dataset | Computing the library size for the new data\n",
      "[2020-07-02 16:54:55,377] INFO - scvi.dataset.dataset | Filtering non-expressing cells.\n",
      "[2020-07-02 16:54:55,767] INFO - scvi.dataset.dataset | Computing the library size for the new data\n",
      "[2020-07-02 16:54:55,821] INFO - scvi.dataset.dataset | Downsampled from 7109 to 7109 cells\n",
      "[2020-07-02 16:54:55,822] INFO - scvi.dataset.dataset | extracting highly variable genes\n"
     ]
    },
    {
     "name": "stderr",
     "output_type": "stream",
     "text": [
      "Transforming to str index.\n"
     ]
    },
    {
     "name": "stdout",
     "output_type": "stream",
     "text": [
      "[2020-07-02 16:55:02,857] INFO - scvi.dataset.dataset | Downsampling from 18899 to 3554 genes\n",
      "[2020-07-02 16:55:03,055] INFO - scvi.dataset.dataset | Computing the library size for the new data\n",
      "[2020-07-02 16:55:03,068] INFO - scvi.dataset.dataset | Filtering non-expressing cells.\n",
      "[2020-07-02 16:55:03,144] INFO - scvi.dataset.dataset | Computing the library size for the new data\n",
      "[2020-07-02 16:55:03,155] INFO - scvi.dataset.dataset | Downsampled from 7109 to 7109 cells\n",
      "['B cell' 'T cell' 'basal cell' 'basophil' 'ciliated cell'\n",
      " 'endothelial cell' 'intermediate epitheliocyte' 'mesenchymal cell'\n",
      " 'secretory cell'] ['B cell' 'T cell' 'basal cell' 'basophil' 'capillary endothelial cell'\n",
      " 'ciliated cell' 'early lymphoid progenitor' 'endothelial cell'\n",
      " 'enterocyte' 'intermediate epitheliocyte' 'mesenchymal cell'\n",
      " 'mesenchymal stem cell' 'non-classical monocyte' 'secretory cell'\n",
      " 'smooth muscle cell' 'unassigned']\n",
      "Vasculature\n"
     ]
    },
    {
     "name": "stderr",
     "output_type": "stream",
     "text": [
      "Trying to set attribute `.var` of view, copying.\n"
     ]
    },
    {
     "name": "stdout",
     "output_type": "stream",
     "text": [
      "[2020-07-02 16:55:06,432] INFO - scvi.dataset.dataset | Remapping batch_indices to [0,N]\n",
      "[2020-07-02 16:55:06,433] INFO - scvi.dataset.dataset | Remapping labels to [0,N]\n",
      "[2020-07-02 16:55:07,098] INFO - scvi.dataset.dataset | Computing the library size for the new data\n",
      "[2020-07-02 16:55:07,185] INFO - scvi.dataset.dataset | Downsampled from 8499 to 8499 cells\n",
      "[2020-07-02 16:55:07,304] INFO - scvi.dataset.dataset | Downsampling from 36460 to 21056 genes\n",
      "[2020-07-02 16:55:07,980] INFO - scvi.dataset.dataset | Computing the library size for the new data\n",
      "[2020-07-02 16:55:08,059] INFO - scvi.dataset.dataset | Filtering non-expressing cells.\n",
      "[2020-07-02 16:55:08,658] INFO - scvi.dataset.dataset | Computing the library size for the new data\n",
      "[2020-07-02 16:55:08,736] INFO - scvi.dataset.dataset | Downsampled from 8499 to 8499 cells\n",
      "[2020-07-02 16:55:08,737] INFO - scvi.dataset.dataset | extracting highly variable genes\n"
     ]
    },
    {
     "name": "stderr",
     "output_type": "stream",
     "text": [
      "Transforming to str index.\n"
     ]
    },
    {
     "name": "stdout",
     "output_type": "stream",
     "text": [
      "[2020-07-02 16:55:19,698] INFO - scvi.dataset.dataset | Downsampling from 21056 to 4249 genes\n",
      "[2020-07-02 16:55:20,022] INFO - scvi.dataset.dataset | Computing the library size for the new data\n",
      "[2020-07-02 16:55:20,038] INFO - scvi.dataset.dataset | Filtering non-expressing cells.\n",
      "[2020-07-02 16:55:20,166] INFO - scvi.dataset.dataset | Computing the library size for the new data\n",
      "[2020-07-02 16:55:20,181] INFO - scvi.dataset.dataset | Downsampled from 8499 to 8499 cells\n",
      "['B cell' 'T cell' 'endothelial cell' 'endothelial cell of artery'\n",
      " 'epithelial cell' 'erythrocyte' 'fibroblast' 'macrophage' 'mast cell'\n",
      " 'pericyte cell' 'plasma cell' 'smooth muscle cell'] ['B cell' 'T cell' 'endothelial cell' 'endothelial cell of artery'\n",
      " 'epithelial cell' 'erythrocyte' 'fibroblast' 'macrophage' 'mast cell'\n",
      " 'neutrophil' 'pericyte cell' 'plasma cell' 'smooth muscle cell'\n",
      " 'unassigned']\n"
     ]
    },
    {
     "data": {
      "image/png": "[encoded data removed]",
      "text/plain": [
       "<Figure size 432x288 with 1 Axes>"
      ]
     },
     "metadata": {
      "needs_background": "light"
     },
     "output_type": "display_data"
    }
   ],
   "source": [
    "for organ in organs:\n",
    "    print(organ)\n",
    "    organ_data = combined[combined.obs['tissue']==organ]\n",
    "    if organ=='Skin':\n",
    "        organ_data = organ_data[organ_data.obs['method']=='smartseq2']\n",
    "    organ_data = organ_data[organ_data.obs['manual_cell_ontology_class']!='low_quality']\n",
    "    sc.pp.filter_genes(organ_data, min_cells=1)\n",
    "    train_data = scVIdata_preprocess(organ_data, 'donor_tech', 'manual_cell_ontology_class')\n",
    "    train_data.filter_genes_by_count(per_batch=True)\n",
    "    if train_data.X.shape[0]>10000:\n",
    "        train_data.subsample_genes(train_data.X.shape[0]//5)\n",
    "    else:\n",
    "        train_data.subsample_genes(train_data.X.shape[0]//2)\n",
    "    posterior = get_scvi_posterior(train_data, \n",
    "                               model_path+'combined.%s.scVI.subsample_genes.pkl'%organ, \n",
    "                               retrain=retrain, n_epochs=100)\n",
    "\n",
    "\n",
    "    full, pred_celltype = scanvi_pred(train_data, \n",
    "                                      model_path+'combined.%s.scVI.subsample_genes.pkl'%organ,\n",
    "                                      model_path+'combined.%s.scANVI.subsample_genes.pkl'%organ,\n",
    "                                      nlabels=30, retrain=retrain)\n",
    "\n",
    "    pred_celltype = np.asarray([train_data.cell_types[x] for x in pred_celltype])\n",
    "    assert np.sum(pred_celltype=='unassigned')==0\n",
    "    labels.loc[organ_data.obs.index,'pred'] = pred_celltype\n",
    "    print(np.unique(pred_celltype), train_data.cell_types)"
   ]
  },
  {
   "cell_type": "code",
   "execution_count": 18,
   "metadata": {},
   "outputs": [],
   "source": [
    "labels['pred'].fillna('unassigned', inplace=True)"
   ]
  },
  {
   "cell_type": "code",
   "execution_count": 19,
   "metadata": {},
   "outputs": [
    {
     "data": {
      "text/plain": [
       "array(['Bladder', 'Bone_Marrow', 'Kidney', 'Lung', 'Lymph_Node', 'Muscle',\n",
       "       'Pancreas', 'Skin', 'Small_Intestine', 'Spleen', 'Thymus',\n",
       "       'Trachea', 'Vasculature'], dtype=object)"
      ]
     },
     "execution_count": 19,
     "metadata": {},
     "output_type": "execute_result"
    }
   ],
   "source": [
    "np.unique(combined.obs.loc[labels['pred']=='unassigned','tissue'])"
   ]
  },
  {
   "cell_type": "code",
   "execution_count": 23,
   "metadata": {},
   "outputs": [
    {
     "data": {
      "text/plain": [
       "5982"
      ]
     },
     "execution_count": 23,
     "metadata": {},
     "output_type": "execute_result"
    }
   ],
   "source": [
    "np.sum(labels['pred']=='unassigned')"
   ]
  },
  {
   "cell_type": "code",
   "execution_count": 24,
   "metadata": {},
   "outputs": [
    {
     "data": {
      "text/plain": [
       "5980"
      ]
     },
     "execution_count": 24,
     "metadata": {},
     "output_type": "execute_result"
    }
   ],
   "source": [
    "np.sum([x == 'low_quality' for x in combined.obs['manual_cell_ontology_class']])"
   ]
  },
  {
   "cell_type": "code",
   "execution_count": 25,
   "metadata": {},
   "outputs": [
    {
     "data": {
      "text/plain": [
       "858"
      ]
     },
     "execution_count": 25,
     "metadata": {},
     "output_type": "execute_result"
    }
   ],
   "source": [
    "np.sum([x in ['Fat', 'Heart', \"Skin\"] for x in combined.obs['tissue']])"
   ]
  },
  {
   "cell_type": "code",
   "execution_count": 26,
   "metadata": {},
   "outputs": [],
   "source": [
    "combined.obs['propagated_cell_ontology_class'] = labels.loc[combined.obs.index, 'pred']"
   ]
  },
  {
   "cell_type": "code",
   "execution_count": 27,
   "metadata": {},
   "outputs": [
    {
     "name": "stderr",
     "output_type": "stream",
     "text": [
      "... storing 'manual_cell_ontology_class' as categorical\n",
      "... storing 'propagated_cell_ontology_class' as categorical\n"
     ]
    }
   ],
   "source": [
    "combined.write_h5ad(data_path + 'combined/Pilot1_Pilot2_filtered_ensembl_id.june30.ss2_norm.embedding_donor_tech.propagated.subsample_genes.h5ad')"
   ]
  },
  {
   "cell_type": "code",
   "execution_count": 28,
   "metadata": {},
   "outputs": [],
   "source": [
    "combined.obs.to_csv(data_path + 'combined/annotation.subsample_genes.csv')"
   ]
  }
 ],
 "metadata": {
  "kernelspec": {
   "display_name": "p37",
   "language": "python",
   "name": "p37"
  },
  "language_info": {
   "codemirror_mode": {
    "name": "ipython",
    "version": 3
   },
   "file_extension": ".py",
   "mimetype": "text/x-python",
   "name": "python",
   "nbconvert_exporter": "python",
   "pygments_lexer": "ipython3",
   "version": "3.7.5"
  }
 },
 "nbformat": 4,
 "nbformat_minor": 2
}
