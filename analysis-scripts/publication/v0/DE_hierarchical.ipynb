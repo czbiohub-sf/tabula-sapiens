{
 "cells": [
  {
   "cell_type": "markdown",
   "metadata": {},
   "source": [
    "# Hierarchical Differential Expression\n",
    "### This notebook runs differential expression at every node of the ontology tree\n",
    "\n",
    "# Prepare\n",
    "### load necessary pacakges"
   ]
  },
  {
   "cell_type": "code",
   "execution_count": 1,
   "metadata": {},
   "outputs": [],
   "source": [
    "import sys\n",
    "import os \n",
    "homedir = '/data/yosef2/users/chenling/'\n",
    "sys.path.append(homedir + 'scVI/')\n",
    "sys.path.append(homedir + 'tabula-sapiens/')\n",
    "sys.path.append(homedir + 'cellontology/')\n",
    "from cellontology import CellOntolgy\n",
    "import anndata\n",
    "import obonet \n",
    "import pickle as pkl\n",
    "from scvi.dataset import AnnDatasetFromAnnData\n",
    "from utils.annotations_utils import *\n",
    "from anndata import read_h5ad\n",
    "import scanpy as sc\n",
    "\n",
    "from copy import deepcopy\n",
    "retrain=False\n",
    "\n",
    "import matplotlib\n",
    "%matplotlib inline"
   ]
  },
  {
   "cell_type": "code",
   "execution_count": 2,
   "metadata": {},
   "outputs": [],
   "source": [
    "import networkx as nx"
   ]
  },
  {
   "cell_type": "markdown",
   "metadata": {},
   "source": [
    "## set directories for reading and saving results"
   ]
  },
  {
   "cell_type": "code",
   "execution_count": 3,
   "metadata": {},
   "outputs": [],
   "source": [
    "data_path = homedir + 'TabulaSapiensData/'\n",
    "model_path = homedir + 'TabulaSapiens/scVImodels_final/'\n",
    "res_path = homedir + 'TabulaSapiensData/combined/'\n",
    "ont_path =  homedir + 'TabulaSapiensData/ontology/'\n",
    "\n",
    "\n",
    "if not os.path.exists(model_path):\n",
    "    os.mkdir(model_path)\n",
    "if not os.path.exists(model_path+'scanvi/'):\n",
    "    os.mkdir(model_path+'scanvi/')\n",
    "if not os.path.exists(res_path):\n",
    "    os.mkdir(res_path)"
   ]
  },
  {
   "cell_type": "code",
   "execution_count": 4,
   "metadata": {},
   "outputs": [],
   "source": [
    "ontology = pkl.load(open(ont_path + 'ontology.pkl', 'rb'))"
   ]
  },
  {
   "cell_type": "code",
   "execution_count": 5,
   "metadata": {},
   "outputs": [],
   "source": [
    "combined = read_h5ad(data_path + 'combined/Pilot1_Pilot2.Final.h5ad')\n",
    "combined.obs['propagated_cell_ontology_class'].replace('duodenum glandular cells','duodenum glandular cell',inplace=True)\n",
    "combined.obs['manual_cell_ontology_class'].replace('duodenum glandular cells','duodenum glandular cell', inplace=True)\n",
    "\n",
    "del combined.raw\n",
    "combined = combined[combined.obs['propagated_cell_ontology_class']!='unassigned']\n",
    "\n",
    "label_conversion = {}\n",
    "for x in ontology.nodes:\n",
    "    label_conversion[ontology.nodes[x]['name']] = x\n"
   ]
  },
  {
   "cell_type": "code",
   "execution_count": 56,
   "metadata": {},
   "outputs": [],
   "source": [
    "celltype_id = np.asarray([label_conversion[x] for x in combined.obs['propagated_cell_ontology_class']])"
   ]
  },
  {
   "cell_type": "markdown",
   "metadata": {},
   "source": [
    "# this is the function that computes the number of cells in each child node"
   ]
  },
  {
   "cell_type": "code",
   "execution_count": 57,
   "metadata": {},
   "outputs": [],
   "source": [
    "def NodeInfo(ontology, root, labels):\n",
    "    node_info = {}\n",
    "    all_children = [x for x in nx.ancestors(ontology,root)]\n",
    "    all_children = all_children \n",
    "    subset = [x in all_children for x in labels]\n",
    "    if np.sum(subset)==0 or len(all_children)==0:\n",
    "        return {root:(np.sum(labels==root),[])}\n",
    "    count = np.sum(subset)\n",
    "    groups = [x for x in ontology.predecessors(root)]\n",
    "    node_info[root] = (count, groups)\n",
    "    if len(groups) > 1:\n",
    "        for x in groups:\n",
    "            sub_node_info = NodeInfo(ontology, x, labels)\n",
    "            if sub_node_info is not None:\n",
    "                for y in sub_node_info.keys():\n",
    "                    node_info[y] = sub_node_info[y]            \n",
    "                    \n",
    "    else:\n",
    "        sub_node_info = NodeInfo(ontology, groups[0], labels)\n",
    "        if sub_node_info is not None:\n",
    "            for y in sub_node_info.keys():\n",
    "                node_info[y] = sub_node_info[y]\n",
    "    return node_info"
   ]
  },
  {
   "cell_type": "code",
   "execution_count": 58,
   "metadata": {},
   "outputs": [],
   "source": [
    "nodeinfo = NodeInfo(ontology,'CL:0000000',celltype_id)"
   ]
  },
  {
   "cell_type": "code",
   "execution_count": 61,
   "metadata": {},
   "outputs": [
    {
     "name": "stdout",
     "output_type": "stream",
     "text": [
      "cell CL:0000000 (203510, ['CL:0000003'])\n",
      "native cell CL:0000003 (203510, ['CL:0000064', 'CL:0000151', 'CL:0000183', 'CL:0002371', 'CL:0011115', 'CL:0000148', 'CL:0000066', 'CL:0000584'])\n",
      "ciliated cell CL:0000064 (654, ['CL:1000271'])\n",
      "lung ciliated cell CL:1000271 (654, [])\n",
      "secretory cell CL:0000151 (2495, ['CL:4000014', 'CL:4000024', 'CL:0008024', 'CL:1000331'])\n",
      "intestinal secretory progenitor CL:4000014 (1678, [])\n",
      "crypt base secretory cell CL:4000024 (66, [])\n",
      "pancreatic endocrine cell CL:0008024 (547, ['CL:0000169', 'CL:0000171', 'CL:0000173'])\n",
      "type B pancreatic cell CL:0000169 (52, [])\n",
      "pancreatic A cell CL:0000171 (264, [])\n",
      "pancreatic D cell CL:0000173 (231, [])\n",
      "serous cell of epithelium of bronchus CL:1000331 (204, [])\n",
      "contractile cell CL:0000183 (6637, ['CL:0000186', 'CL:0000669', 'CL:0000192'])\n",
      "myofibroblast cell CL:0000186 (1166, [])\n",
      "pericyte cell CL:0000669 (572, [])\n",
      "smooth muscle cell CL:0000192 (1890, ['CL:0000359', 'CL:0002598'])\n",
      "vascular associated smooth muscle cell CL:0000359 (1559, [])\n",
      "bronchial smooth muscle cell CL:0002598 (331, [])\n",
      "somatic cell CL:0002371 (123402, ['CL:0000723', 'CL:0000988', 'CL:0002320', 'CL:0008019', 'CL:0008002', 'CL:0000115'])\n",
      "somatic stem cell CL:0000723 (5738, ['CL:0000037', 'CL:0000646'])\n",
      "hematopoietic stem cell CL:0000037 (169, [])\n",
      "basal cell CL:0000646 (5569, [])\n",
      "hematopoietic cell CL:0000988 (89227, ['CL:0000738', 'CL:0000763', 'CL:0002043'])\n",
      "leukocyte CL:0000738 (49186, ['CL:0000451', 'CL:0000542'])\n",
      "dendritic cell CL:0000451 (4718, ['CL:0000784', 'CL:0000990', 'CL:0001056'])\n",
      "plasmacytoid dendritic cell CL:0000784 (343, [])\n",
      "conventional dendritic cell CL:0000990 (347, [])\n",
      "dendritic cell, human CL:0001056 (708, ['CL:0001057', 'CL:0001058'])\n",
      "myeloid dendritic cell, human CL:0001057 (596, [])\n",
      "plasmacytoid dendritic cell, human CL:0001058 (112, [])\n",
      "lymphocyte CL:0000542 (44273, ['CL:0000084', 'CL:0000945', 'CL:0001065'])\n",
      "T cell CL:0000084 (17521, ['CL:0002419', 'CL:0000791', 'CL:0002489'])\n",
      "mature T cell CL:0002419 (3408, ['CL:0000813', 'CL:0000815', 'CL:0000911'])\n",
      "memory T cell CL:0000813 (224, [])\n",
      "regulatory T cell CL:0000815 (1666, [])\n",
      "effector T cell CL:0000911 (1518, ['CL:0000910', 'CL:0000814'])\n",
      "cytotoxic T cell CL:0000910 (37, [])\n",
      "mature NK T cell CL:0000814 (1481, [])\n",
      "mature alpha-beta T cell CL:0000791 (13429, ['CL:0000624', 'CL:0000625', 'CL:0000915'])\n",
      "CD4-positive, alpha-beta T cell CL:0000624 (7708, ['CL:0000492', 'CL:0000895', 'CL:0000897'])\n",
      "CD4-positive helper T cell CL:0000492 (1927, ['CL:0000899', 'CL:0002038'])\n",
      "T-helper 17 cell CL:0000899 (272, [])\n",
      "T follicular helper cell CL:0002038 (1655, [])\n",
      "naive thymus-derived CD4-positive, alpha-beta T cell CL:0000895 (2409, [])\n",
      "CD4-positive, alpha-beta memory T cell CL:0000897 (532, ['CL:0000905'])\n",
      "effector memory CD4-positive, alpha-beta T cell CL:0000905 (532, [])\n",
      "CD8-positive, alpha-beta T cell CL:0000625 (4080, ['CL:0000900', 'CL:0000909', 'CL:0001049'])\n",
      "naive thymus-derived CD8-positive, alpha-beta T cell CL:0000900 (811, [])\n",
      "CD8-positive, alpha-beta memory T cell CL:0000909 (493, ['CL:0000913'])\n",
      "effector memory CD8-positive, alpha-beta T cell CL:0000913 (493, [])\n",
      "activated CD8-positive, alpha-beta T cell, human CL:0001049 (2076, [])\n",
      "CD8-alpha-alpha-positive, alpha-beta intraepithelial T cell CL:0000915 (31, [])\n",
      "double negative thymocyte CL:0002489 (684, [])\n",
      "lymphocyte of B lineage CL:0000945 (16053, ['CL:0000236', 'CL:0000786'])\n",
      "B cell CL:0000236 (9009, ['CL:0000785'])\n",
      "mature B cell CL:0000785 (9009, ['CL:0000787', 'CL:0000788', 'CL:0000843'])\n",
      "memory B cell CL:0000787 (4223, [])\n",
      "naive B cell CL:0000788 (4568, [])\n",
      "follicular B cell CL:0000843 (218, [])\n",
      "plasma cell CL:0000786 (2531, [])\n",
      "innate lymphoid cell CL:0001065 (3711, ['CL:0001071', 'CL:0000623'])\n",
      "group 3 innate lymphoid cell CL:0001071 (234, [])\n",
      "natural killer cell CL:0000623 (3477, [])\n",
      "myeloid cell CL:0000763 (39292, ['CL:0000233', 'CL:0000556', 'CL:0000766', 'CL:0000232'])\n",
      "platelet CL:0000233 (247, [])\n",
      "megakaryocyte CL:0000556 (35, [])\n",
      "myeloid leukocyte CL:0000766 (38085, ['CL:0000094', 'CL:0000097', 'CL:0000235', 'CL:0000453', 'CL:0000576'])\n",
      "granulocyte CL:0000094 (3689, ['CL:0000767', 'CL:0000775'])\n",
      "basophil CL:0000767 (923, [])\n",
      "neutrophil CL:0000775 (2766, [])\n",
      "mast cell CL:0000097 (2116, [])\n",
      "macrophage CL:0000235 (20213, [])\n",
      "Langerhans cell CL:0000453 (26, [])\n",
      "monocyte CL:0000576 (10991, ['CL:0000860', 'CL:0000875', 'CL:0002393'])\n",
      "classical monocyte CL:0000860 (6030, [])\n",
      "non-classical monocyte CL:0000875 (4029, [])\n",
      "intermediate monocyte CL:0002393 (932, [])\n",
      "erythrocyte CL:0000232 (925, [])\n",
      "CD34-positive, CD38-negative multipotent progenitor cell CL:0002043 (369, [])\n",
      "connective tissue cell CL:0002320 (10938, ['CL:0000057', 'CL:0002503', 'CL:0000388'])\n",
      "fibroblast CL:0000057 (336, ['CL:0002410', 'CL:0002553'])\n",
      "pancreatic stellate cell CL:0002410 (93, [])\n",
      "fibroblast of lung CL:0002553 (243, [])\n",
      "adventitial cell CL:0002503 (442, [])\n",
      "tendon cell CL:0000388 (733, [])\n",
      "mesenchymal cell CL:0008019 (274, [])\n",
      "skeletal muscle fiber CL:0008002 (74, ['CL:0000189', 'CL:0000190'])\n",
      "slow muscle cell CL:0000189 (39, [])\n",
      "fast muscle cell CL:0000190 (35, [])\n",
      "endothelial cell CL:0000115 (13354, ['CL:0002139'])\n",
      "endothelial cell of vascular tree CL:0002139 (10429, ['CL:0000071', 'CL:0002138', 'CL:2000016'])\n",
      "blood vessel endothelial cell CL:0000071 (6335, ['CL:0002144', 'CL:0002543', 'CL:1000413'])\n",
      "capillary endothelial cell CL:0002144 (4417, [])\n",
      "vein endothelial cell CL:0002543 (1053, [])\n",
      "endothelial cell of artery CL:1000413 (865, [])\n",
      "endothelial cell of lymphatic vessel CL:0002138 (3614, [])\n",
      "lung microvascular endothelial cell CL:2000016 (480, [])\n",
      "precursor cell CL:0011115 (16188, ['CL:0000838', 'CL:0000048', 'CL:0000056', 'CL:0000038'])\n",
      "lymphoid lineage restricted progenitor cell CL:0000838 (959, ['CL:0000826', 'CL:0000894'])\n",
      "pro-B cell CL:0000826 (918, [])\n",
      "DN1 thymic pro-T cell CL:0000894 (41, [])\n",
      "multi fate stem cell CL:0000048 (13866, ['CL:0000134', 'CL:0000355', 'CL:0002250'])\n",
      "mesenchymal stem cell CL:0000134 (8386, [])\n",
      "multi-potent skeletal muscle stem cell CL:0000355 (2799, [])\n",
      "intestinal crypt stem cell CL:0002250 (445, ['CL:4000022', 'CL:4000023'])\n",
      "intestinal crypt stem cell distal CL:4000022 (385, [])\n",
      "intestinal crypt stem cell proximal CL:4000023 (60, [])\n",
      "myoblast CL:0000056 (1321, [])\n",
      "erythroid progenitor cell CL:0000038 (42, [])\n",
      "melanocyte CL:0000148 (9, [])\n",
      "epithelial cell CL:0000066 (43582, ['CL:0000150', 'CL:0002076', 'CL:0002518', 'CL:0005006', 'CL:0010003', 'CL:1001428', 'CL:0002079'])\n",
      "glandular epithelial cell CL:0000150 (7609, ['CL:0000160', 'CL:0000164', 'CL:0000510', 'CL:1001589', 'CL:0002064'])\n",
      "goblet cell CL:0000160 (867, ['CL:0002370'])\n",
      "respiratory goblet cell CL:0002370 (867, [])\n",
      "enteroendocrine cell CL:0000164 (197, [])\n",
      "paneth cell CL:0000510 (202, [])\n",
      "duodenum glandular cell CL:1001589 (45, [])\n",
      "pancreatic acinar cell CL:0002064 (5918, [])\n",
      "endo-epithelial cell CL:0002076 (4354, ['CL:0002204', 'CL:0002365', 'CL:0002202'])\n",
      "brush cell CL:0002204 (485, [])\n",
      "medullary thymic epithelial cell CL:0002365 (120, [])\n",
      "epithelial cell of tracheobronchial tree CL:0002202 (3749, ['CL:0002209', 'CL:0000158'])\n",
      "intermediate epitheliocyte CL:0002209 (2629, [])\n",
      "club cell CL:0000158 (1120, [])\n",
      "kidney epithelial cell CL:0002518 (21256, [])\n",
      "ionocyte CL:0005006 (123, [])\n",
      "epithelial cell of alveolus of lung CL:0010003 (6312, ['CL:0000322'])\n",
      "pneumocyte CL:0000322 (6312, ['CL:0002062', 'CL:0002063'])\n",
      "type I pneumocyte CL:0002062 (550, [])\n",
      "type II pneumocyte CL:0002063 (5762, [])\n",
      "bladder urothelial cell CL:1001428 (2115, [])\n",
      "pancreatic ductal cell CL:0002079 (1613, [])\n",
      "enterocyte CL:0000584 (411, ['CL:4000015'])\n",
      "intestinal transient amplifying cell CL:4000015 (411, [])\n"
     ]
    }
   ],
   "source": [
    "for x in nodeinfo.keys():\n",
    "    print(ontology.nodes[x]['name'],x, nodeinfo[x])"
   ]
  },
  {
   "cell_type": "markdown",
   "metadata": {},
   "source": [
    "# these are the functions that runs the DE\n",
    "### WilcoxonDE run wilcoxon \n",
    "### Hierarchical DE: function to iterate over the tree and perform DE through either Wilcoxon or scVI at every node between all of its children"
   ]
  },
  {
   "cell_type": "code",
   "execution_count": 62,
   "metadata": {},
   "outputs": [],
   "source": [
    "def WilcoxonDE(adata, subset, labels):\n",
    "    sub_adata = adata[subset]\n",
    "    sub_adata.obs['group'] = np.asarray(labels)[subset]\n",
    "    if len(np.unique(sub_adata.obs['group']))==1:\n",
    "        return None\n",
    "\n",
    "    else:\n",
    "        sc.pp.filter_genes(sub_adata,min_cells=10)\n",
    "        sc.pp.filter_cells(sub_adata,min_counts=10)\n",
    "        sc.tl.rank_genes_groups(sub_adata, groupby='group')\n",
    "        return(sub_adata.uns['rank_genes_groups'])"
   ]
  },
  {
   "cell_type": "code",
   "execution_count": 63,
   "metadata": {},
   "outputs": [],
   "source": [
    "def HierarchicalDE(ontology, root, labels, adata, method='Wilcoxon', posterior=None):\n",
    "    print(root)\n",
    "    all_children = [x for x in nx.ancestors(ontology,root)]\n",
    "    all_children = all_children \n",
    "    subset = [x in all_children for x in labels]\n",
    "    if len(all_children)==0:\n",
    "        return None\n",
    "    if np.sum(subset)==0:\n",
    "        print('no cells', ontology.nodes[root]['name'])\n",
    "        return None\n",
    "    groups = [x for x in ontology.predecessors(root)]\n",
    "    DE_res = {}\n",
    "    if len(groups) > 1:\n",
    "        label_group = {}\n",
    "        for x in groups:\n",
    "            label_group[x] = x\n",
    "            groups_children = [y for y in nx.ancestors(ontology,x)]\n",
    "            for y in groups_children:\n",
    "                label_group[y] = x\n",
    "            sub_DE_res = HierarchicalDE(ontology, x, labels, combined, method=method, posterior=posterior)\n",
    "            if sub_DE_res is not None:\n",
    "                for y in sub_DE_res.keys():\n",
    "                    DE_res[y] = sub_DE_res[y]            \n",
    "                    \n",
    "        group_labels = []\n",
    "        for x in labels: \n",
    "            if x in label_group.keys():\n",
    "                group_labels.append(label_group[x])\n",
    "            else:\n",
    "                group_labels.append('None')\n",
    "        \n",
    "        group_labels = np.asarray(group_labels)\n",
    "        \n",
    "        if len(np.unique(group_labels[subset]))==1:\n",
    "            print(label_group)\n",
    "            print('Some groups have 0 cells resulting in only one group in comparison',ontology.nodes[root]['name'])\n",
    "            sub_DE_res = HierarchicalDE(ontology, groups[0], labels, combined, method=method, posterior=posterior)\n",
    "            if sub_DE_res is not None:\n",
    "                for y in sub_DE_res.keys():\n",
    "                    DE_res[y] = sub_DE_res[y]\n",
    "            return DE_res\n",
    "        else:\n",
    "            print(np.sum(subset))\n",
    "            if method=='Wilcoxon':\n",
    "                DE_res[root] = WilcoxonDE(adata, subset, group_labels)\n",
    "            elif method=='scVI':\n",
    "                assert posterior is not None\n",
    "                group_names, group_labels = np.unique(group_labels, return_inverse=True)\n",
    "                print(np.unique(group_labels))\n",
    "                a,b = posterior.one_vs_all_degenes(subset=subset, cell_labels=group_labels, mode='change')\n",
    "                DE_res[root] = (a,b,group_names)\n",
    "            return DE_res\n",
    "    else:\n",
    "        sub_DE_res = HierarchicalDE(ontology, groups[0], labels, combined, method=method, posterior=posterior)\n",
    "        if sub_DE_res is not None:\n",
    "            for y in sub_DE_res.keys():\n",
    "                DE_res[y] = sub_DE_res[y]\n",
    "        return DE_res"
   ]
  },
  {
   "cell_type": "markdown",
   "metadata": {},
   "source": [
    "# Wilcoxon"
   ]
  },
  {
   "cell_type": "code",
   "execution_count": 17,
   "metadata": {},
   "outputs": [
    {
     "name": "stdout",
     "output_type": "stream",
     "text": [
      "CL:0000000\n",
      "CL:0000003\n",
      "CL:0000064\n",
      "CL:1000271\n",
      "CL:0000151\n",
      "CL:4000014\n",
      "CL:4000024\n",
      "CL:0008024\n"
     ]
    },
    {
     "name": "stderr",
     "output_type": "stream",
     "text": [
      "Trying to set attribute `.obs` of view, copying.\n"
     ]
    },
    {
     "name": "stdout",
     "output_type": "stream",
     "text": [
      "CL:0000169\n",
      "CL:0000171\n",
      "CL:0000173\n",
      "547\n"
     ]
    },
    {
     "name": "stderr",
     "output_type": "stream",
     "text": [
      "... storing 'propagated_cell_ontology_id' as categorical\n",
      "... storing 'group' as categorical\n",
      "Trying to set attribute `.obs` of view, copying.\n"
     ]
    },
    {
     "name": "stdout",
     "output_type": "stream",
     "text": [
      "CL:1000331\n",
      "2495\n"
     ]
    },
    {
     "name": "stderr",
     "output_type": "stream",
     "text": [
      "... storing 'propagated_cell_ontology_id' as categorical\n",
      "... storing 'group' as categorical\n"
     ]
    },
    {
     "name": "stdout",
     "output_type": "stream",
     "text": [
      "CL:0000183\n",
      "CL:0000186\n",
      "CL:0000669\n",
      "CL:0000192\n",
      "CL:0000359\n",
      "CL:0002598\n"
     ]
    },
    {
     "name": "stderr",
     "output_type": "stream",
     "text": [
      "Trying to set attribute `.obs` of view, copying.\n"
     ]
    },
    {
     "name": "stdout",
     "output_type": "stream",
     "text": [
      "1890\n"
     ]
    },
    {
     "name": "stderr",
     "output_type": "stream",
     "text": [
      "... storing 'propagated_cell_ontology_id' as categorical\n",
      "... storing 'group' as categorical\n",
      "Trying to set attribute `.obs` of view, copying.\n"
     ]
    },
    {
     "name": "stdout",
     "output_type": "stream",
     "text": [
      "6637\n"
     ]
    },
    {
     "name": "stderr",
     "output_type": "stream",
     "text": [
      "... storing 'propagated_cell_ontology_id' as categorical\n",
      "... storing 'group' as categorical\n"
     ]
    },
    {
     "name": "stdout",
     "output_type": "stream",
     "text": [
      "CL:0002371\n"
     ]
    },
    {
     "name": "stderr",
     "output_type": "stream",
     "text": [
      "Trying to set attribute `.obs` of view, copying.\n"
     ]
    },
    {
     "name": "stdout",
     "output_type": "stream",
     "text": [
      "CL:0000723\n",
      "CL:0000037\n",
      "CL:0000646\n",
      "5738\n"
     ]
    },
    {
     "name": "stderr",
     "output_type": "stream",
     "text": [
      "... storing 'propagated_cell_ontology_id' as categorical\n",
      "... storing 'group' as categorical\n"
     ]
    },
    {
     "name": "stdout",
     "output_type": "stream",
     "text": [
      "CL:0000988\n",
      "CL:0000738\n",
      "CL:0000451\n",
      "CL:0000784\n",
      "CL:0000990\n",
      "CL:0001056\n",
      "CL:0001057\n",
      "CL:0001058\n"
     ]
    },
    {
     "name": "stderr",
     "output_type": "stream",
     "text": [
      "Trying to set attribute `.obs` of view, copying.\n",
      "... storing 'propagated_cell_ontology_id' as categorical\n",
      "... storing 'group' as categorical\n"
     ]
    },
    {
     "name": "stdout",
     "output_type": "stream",
     "text": [
      "708\n"
     ]
    },
    {
     "name": "stderr",
     "output_type": "stream",
     "text": [
      "Trying to set attribute `.obs` of view, copying.\n"
     ]
    },
    {
     "name": "stdout",
     "output_type": "stream",
     "text": [
      "4718\n"
     ]
    },
    {
     "name": "stderr",
     "output_type": "stream",
     "text": [
      "... storing 'propagated_cell_ontology_id' as categorical\n",
      "... storing 'group' as categorical\n"
     ]
    },
    {
     "name": "stdout",
     "output_type": "stream",
     "text": [
      "CL:0000542\n",
      "CL:0000084\n",
      "CL:0002419\n",
      "CL:0000813\n",
      "CL:0000815\n",
      "CL:0000911\n",
      "CL:0000910\n",
      "CL:0000814\n"
     ]
    },
    {
     "name": "stderr",
     "output_type": "stream",
     "text": [
      "Trying to set attribute `.obs` of view, copying.\n"
     ]
    },
    {
     "name": "stdout",
     "output_type": "stream",
     "text": [
      "1518\n"
     ]
    },
    {
     "name": "stderr",
     "output_type": "stream",
     "text": [
      "... storing 'propagated_cell_ontology_id' as categorical\n",
      "... storing 'group' as categorical\n",
      "Trying to set attribute `.obs` of view, copying.\n"
     ]
    },
    {
     "name": "stdout",
     "output_type": "stream",
     "text": [
      "3408\n"
     ]
    },
    {
     "name": "stderr",
     "output_type": "stream",
     "text": [
      "... storing 'propagated_cell_ontology_id' as categorical\n",
      "... storing 'group' as categorical\n"
     ]
    },
    {
     "name": "stdout",
     "output_type": "stream",
     "text": [
      "CL:0000791\n",
      "CL:0000624\n",
      "CL:0000492\n",
      "CL:0000899\n",
      "CL:0002038\n"
     ]
    },
    {
     "name": "stderr",
     "output_type": "stream",
     "text": [
      "Trying to set attribute `.obs` of view, copying.\n"
     ]
    },
    {
     "name": "stdout",
     "output_type": "stream",
     "text": [
      "1927\n"
     ]
    },
    {
     "name": "stderr",
     "output_type": "stream",
     "text": [
      "... storing 'propagated_cell_ontology_id' as categorical\n",
      "... storing 'group' as categorical\n",
      "Trying to set attribute `.obs` of view, copying.\n"
     ]
    },
    {
     "name": "stdout",
     "output_type": "stream",
     "text": [
      "CL:0000895\n",
      "CL:0000897\n",
      "CL:0000905\n",
      "7708\n"
     ]
    },
    {
     "name": "stderr",
     "output_type": "stream",
     "text": [
      "... storing 'propagated_cell_ontology_id' as categorical\n",
      "... storing 'group' as categorical\n"
     ]
    },
    {
     "name": "stdout",
     "output_type": "stream",
     "text": [
      "CL:0000625\n",
      "CL:0000900\n",
      "CL:0000909\n",
      "CL:0000913\n",
      "CL:0001049\n"
     ]
    },
    {
     "name": "stderr",
     "output_type": "stream",
     "text": [
      "Trying to set attribute `.obs` of view, copying.\n"
     ]
    },
    {
     "name": "stdout",
     "output_type": "stream",
     "text": [
      "4080\n"
     ]
    },
    {
     "name": "stderr",
     "output_type": "stream",
     "text": [
      "... storing 'propagated_cell_ontology_id' as categorical\n",
      "... storing 'group' as categorical\n",
      "Trying to set attribute `.obs` of view, copying.\n"
     ]
    },
    {
     "name": "stdout",
     "output_type": "stream",
     "text": [
      "CL:0000915\n",
      "13429\n"
     ]
    },
    {
     "name": "stderr",
     "output_type": "stream",
     "text": [
      "... storing 'propagated_cell_ontology_id' as categorical\n",
      "... storing 'group' as categorical\n",
      "Trying to set attribute `.obs` of view, copying.\n"
     ]
    },
    {
     "name": "stdout",
     "output_type": "stream",
     "text": [
      "CL:0002489\n",
      "17521\n"
     ]
    },
    {
     "name": "stderr",
     "output_type": "stream",
     "text": [
      "... storing 'propagated_cell_ontology_id' as categorical\n",
      "... storing 'group' as categorical\n"
     ]
    },
    {
     "name": "stdout",
     "output_type": "stream",
     "text": [
      "CL:0000945\n",
      "CL:0000236\n",
      "CL:0000785\n",
      "CL:0000787\n",
      "CL:0000788\n",
      "CL:0000843\n"
     ]
    },
    {
     "name": "stderr",
     "output_type": "stream",
     "text": [
      "Trying to set attribute `.obs` of view, copying.\n"
     ]
    },
    {
     "name": "stdout",
     "output_type": "stream",
     "text": [
      "9009\n"
     ]
    },
    {
     "name": "stderr",
     "output_type": "stream",
     "text": [
      "... storing 'propagated_cell_ontology_id' as categorical\n",
      "... storing 'group' as categorical\n",
      "Trying to set attribute `.obs` of view, copying.\n"
     ]
    },
    {
     "name": "stdout",
     "output_type": "stream",
     "text": [
      "CL:0000786\n",
      "16053\n"
     ]
    },
    {
     "name": "stderr",
     "output_type": "stream",
     "text": [
      "... storing 'propagated_cell_ontology_id' as categorical\n",
      "... storing 'group' as categorical\n"
     ]
    },
    {
     "name": "stdout",
     "output_type": "stream",
     "text": [
      "CL:0001065\n",
      "CL:0001071\n",
      "CL:0000623\n",
      "3711\n"
     ]
    },
    {
     "name": "stderr",
     "output_type": "stream",
     "text": [
      "Trying to set attribute `.obs` of view, copying.\n",
      "... storing 'propagated_cell_ontology_id' as categorical\n",
      "... storing 'group' as categorical\n",
      "Trying to set attribute `.obs` of view, copying.\n"
     ]
    },
    {
     "name": "stdout",
     "output_type": "stream",
     "text": [
      "44273\n"
     ]
    },
    {
     "name": "stderr",
     "output_type": "stream",
     "text": [
      "... storing 'propagated_cell_ontology_id' as categorical\n",
      "... storing 'group' as categorical\n",
      "Trying to set attribute `.obs` of view, copying.\n"
     ]
    },
    {
     "name": "stdout",
     "output_type": "stream",
     "text": [
      "49186\n"
     ]
    },
    {
     "name": "stderr",
     "output_type": "stream",
     "text": [
      "... storing 'propagated_cell_ontology_id' as categorical\n",
      "... storing 'group' as categorical\n"
     ]
    },
    {
     "name": "stdout",
     "output_type": "stream",
     "text": [
      "CL:0000763\n",
      "CL:0000233\n",
      "CL:0000556\n",
      "CL:0000766\n",
      "CL:0000094\n"
     ]
    },
    {
     "name": "stderr",
     "output_type": "stream",
     "text": [
      "Trying to set attribute `.obs` of view, copying.\n"
     ]
    },
    {
     "name": "stdout",
     "output_type": "stream",
     "text": [
      "CL:0000767\n",
      "CL:0000775\n",
      "3689\n"
     ]
    },
    {
     "name": "stderr",
     "output_type": "stream",
     "text": [
      "... storing 'propagated_cell_ontology_id' as categorical\n",
      "... storing 'group' as categorical\n"
     ]
    },
    {
     "name": "stdout",
     "output_type": "stream",
     "text": [
      "CL:0000097\n",
      "CL:0000235\n",
      "CL:0000453\n",
      "CL:0000576\n",
      "CL:0000860\n",
      "CL:0000875\n",
      "CL:0002393\n"
     ]
    },
    {
     "name": "stderr",
     "output_type": "stream",
     "text": [
      "Trying to set attribute `.obs` of view, copying.\n"
     ]
    },
    {
     "name": "stdout",
     "output_type": "stream",
     "text": [
      "10991\n"
     ]
    },
    {
     "name": "stderr",
     "output_type": "stream",
     "text": [
      "... storing 'propagated_cell_ontology_id' as categorical\n",
      "... storing 'group' as categorical\n",
      "Trying to set attribute `.obs` of view, copying.\n"
     ]
    },
    {
     "name": "stdout",
     "output_type": "stream",
     "text": [
      "38085\n"
     ]
    },
    {
     "name": "stderr",
     "output_type": "stream",
     "text": [
      "... storing 'propagated_cell_ontology_id' as categorical\n",
      "... storing 'group' as categorical\n",
      "Trying to set attribute `.obs` of view, copying.\n"
     ]
    },
    {
     "name": "stdout",
     "output_type": "stream",
     "text": [
      "CL:0000232\n",
      "39292\n"
     ]
    },
    {
     "name": "stderr",
     "output_type": "stream",
     "text": [
      "... storing 'propagated_cell_ontology_id' as categorical\n",
      "... storing 'group' as categorical\n"
     ]
    },
    {
     "name": "stdout",
     "output_type": "stream",
     "text": [
      "CL:0002043\n",
      "89227\n"
     ]
    },
    {
     "name": "stderr",
     "output_type": "stream",
     "text": [
      "Trying to set attribute `.obs` of view, copying.\n",
      "... storing 'propagated_cell_ontology_id' as categorical\n",
      "... storing 'group' as categorical\n"
     ]
    },
    {
     "name": "stdout",
     "output_type": "stream",
     "text": [
      "CL:0002320\n",
      "CL:0000057\n",
      "CL:0002410\n",
      "CL:0002553\n"
     ]
    },
    {
     "name": "stderr",
     "output_type": "stream",
     "text": [
      "Trying to set attribute `.obs` of view, copying.\n",
      "... storing 'propagated_cell_ontology_id' as categorical\n",
      "... storing 'group' as categorical\n"
     ]
    },
    {
     "name": "stdout",
     "output_type": "stream",
     "text": [
      "336\n"
     ]
    },
    {
     "name": "stderr",
     "output_type": "stream",
     "text": [
      "Trying to set attribute `.obs` of view, copying.\n"
     ]
    },
    {
     "name": "stdout",
     "output_type": "stream",
     "text": [
      "CL:0002503\n",
      "CL:0000388\n",
      "10938\n"
     ]
    },
    {
     "name": "stderr",
     "output_type": "stream",
     "text": [
      "... storing 'propagated_cell_ontology_id' as categorical\n",
      "... storing 'group' as categorical\n"
     ]
    },
    {
     "name": "stdout",
     "output_type": "stream",
     "text": [
      "CL:0008019\n",
      "CL:0008002\n",
      "CL:0000189\n",
      "CL:0000190\n",
      "74\n"
     ]
    },
    {
     "name": "stderr",
     "output_type": "stream",
     "text": [
      "Trying to set attribute `.obs` of view, copying.\n",
      "... storing 'propagated_cell_ontology_id' as categorical\n",
      "... storing 'group' as categorical\n"
     ]
    },
    {
     "name": "stdout",
     "output_type": "stream",
     "text": [
      "CL:0000115\n",
      "CL:0002139\n",
      "CL:0000071\n",
      "CL:0002144\n",
      "CL:0002543\n"
     ]
    },
    {
     "name": "stderr",
     "output_type": "stream",
     "text": [
      "Trying to set attribute `.obs` of view, copying.\n"
     ]
    },
    {
     "name": "stdout",
     "output_type": "stream",
     "text": [
      "CL:1000413\n",
      "6335\n"
     ]
    },
    {
     "name": "stderr",
     "output_type": "stream",
     "text": [
      "... storing 'propagated_cell_ontology_id' as categorical\n",
      "... storing 'group' as categorical\n",
      "Trying to set attribute `.obs` of view, copying.\n"
     ]
    },
    {
     "name": "stdout",
     "output_type": "stream",
     "text": [
      "CL:0002138\n",
      "CL:2000016\n",
      "10429\n"
     ]
    },
    {
     "name": "stderr",
     "output_type": "stream",
     "text": [
      "... storing 'propagated_cell_ontology_id' as categorical\n",
      "... storing 'group' as categorical\n",
      "Trying to set attribute `.obs` of view, copying.\n"
     ]
    },
    {
     "name": "stdout",
     "output_type": "stream",
     "text": [
      "123402\n"
     ]
    },
    {
     "name": "stderr",
     "output_type": "stream",
     "text": [
      "... storing 'propagated_cell_ontology_id' as categorical\n",
      "... storing 'group' as categorical\n"
     ]
    },
    {
     "name": "stdout",
     "output_type": "stream",
     "text": [
      "CL:0011115\n",
      "CL:0000838\n",
      "CL:0000826\n",
      "CL:0000894\n"
     ]
    },
    {
     "name": "stderr",
     "output_type": "stream",
     "text": [
      "Trying to set attribute `.obs` of view, copying.\n",
      "... storing 'propagated_cell_ontology_id' as categorical\n",
      "... storing 'group' as categorical\n"
     ]
    },
    {
     "name": "stdout",
     "output_type": "stream",
     "text": [
      "959\n",
      "CL:0000048\n",
      "CL:0000134\n",
      "CL:0000355\n",
      "CL:0002250\n",
      "CL:4000022\n",
      "CL:4000023\n"
     ]
    },
    {
     "name": "stderr",
     "output_type": "stream",
     "text": [
      "Trying to set attribute `.obs` of view, copying.\n",
      "... storing 'propagated_cell_ontology_id' as categorical\n",
      "... storing 'group' as categorical\n"
     ]
    },
    {
     "name": "stdout",
     "output_type": "stream",
     "text": [
      "445\n"
     ]
    },
    {
     "name": "stderr",
     "output_type": "stream",
     "text": [
      "Trying to set attribute `.obs` of view, copying.\n"
     ]
    },
    {
     "name": "stdout",
     "output_type": "stream",
     "text": [
      "13866\n"
     ]
    },
    {
     "name": "stderr",
     "output_type": "stream",
     "text": [
      "... storing 'propagated_cell_ontology_id' as categorical\n",
      "... storing 'group' as categorical\n",
      "Trying to set attribute `.obs` of view, copying.\n"
     ]
    },
    {
     "name": "stdout",
     "output_type": "stream",
     "text": [
      "CL:0000056\n",
      "CL:0000038\n",
      "16188\n"
     ]
    },
    {
     "name": "stderr",
     "output_type": "stream",
     "text": [
      "... storing 'propagated_cell_ontology_id' as categorical\n",
      "... storing 'group' as categorical\n"
     ]
    },
    {
     "name": "stdout",
     "output_type": "stream",
     "text": [
      "CL:0000148\n",
      "CL:0000066\n",
      "CL:0000150\n",
      "CL:0000160\n",
      "CL:0002370\n",
      "CL:0000164\n",
      "CL:0000510\n",
      "CL:1001589\n",
      "CL:0002064\n"
     ]
    },
    {
     "name": "stderr",
     "output_type": "stream",
     "text": [
      "Trying to set attribute `.obs` of view, copying.\n"
     ]
    },
    {
     "name": "stdout",
     "output_type": "stream",
     "text": [
      "7609\n"
     ]
    },
    {
     "name": "stderr",
     "output_type": "stream",
     "text": [
      "... storing 'propagated_cell_ontology_id' as categorical\n",
      "... storing 'group' as categorical\n"
     ]
    },
    {
     "name": "stdout",
     "output_type": "stream",
     "text": [
      "CL:0002076\n",
      "CL:0002204\n",
      "CL:0002365\n",
      "CL:0002202\n",
      "CL:0002209\n",
      "CL:0000158\n"
     ]
    },
    {
     "name": "stderr",
     "output_type": "stream",
     "text": [
      "Trying to set attribute `.obs` of view, copying.\n"
     ]
    },
    {
     "name": "stdout",
     "output_type": "stream",
     "text": [
      "3749\n"
     ]
    },
    {
     "name": "stderr",
     "output_type": "stream",
     "text": [
      "... storing 'propagated_cell_ontology_id' as categorical\n",
      "... storing 'group' as categorical\n",
      "Trying to set attribute `.obs` of view, copying.\n"
     ]
    },
    {
     "name": "stdout",
     "output_type": "stream",
     "text": [
      "4354\n"
     ]
    },
    {
     "name": "stderr",
     "output_type": "stream",
     "text": [
      "... storing 'propagated_cell_ontology_id' as categorical\n",
      "... storing 'group' as categorical\n"
     ]
    },
    {
     "name": "stdout",
     "output_type": "stream",
     "text": [
      "CL:0002518\n",
      "CL:0005006\n",
      "CL:0010003\n",
      "CL:0000322\n",
      "CL:0002062\n",
      "CL:0002063\n"
     ]
    },
    {
     "name": "stderr",
     "output_type": "stream",
     "text": [
      "Trying to set attribute `.obs` of view, copying.\n"
     ]
    },
    {
     "name": "stdout",
     "output_type": "stream",
     "text": [
      "6312\n"
     ]
    },
    {
     "name": "stderr",
     "output_type": "stream",
     "text": [
      "... storing 'propagated_cell_ontology_id' as categorical\n",
      "... storing 'group' as categorical\n",
      "Trying to set attribute `.obs` of view, copying.\n"
     ]
    },
    {
     "name": "stdout",
     "output_type": "stream",
     "text": [
      "CL:1001428\n",
      "CL:0002079\n",
      "43582\n"
     ]
    },
    {
     "name": "stderr",
     "output_type": "stream",
     "text": [
      "... storing 'propagated_cell_ontology_id' as categorical\n",
      "... storing 'group' as categorical\n"
     ]
    },
    {
     "name": "stdout",
     "output_type": "stream",
     "text": [
      "CL:0000584\n",
      "CL:4000015\n",
      "203510\n"
     ]
    },
    {
     "name": "stderr",
     "output_type": "stream",
     "text": [
      "Trying to set attribute `.obs` of view, copying.\n",
      "... storing 'propagated_cell_ontology_id' as categorical\n",
      "... storing 'group' as categorical\n"
     ]
    }
   ],
   "source": [
    "DEres = HierarchicalDE(ontology, 'CL:0000000', combined.obs['propagated_cell_ontology_id'], combined, method='Wilcoxon')"
   ]
  },
  {
   "cell_type": "code",
   "execution_count": 23,
   "metadata": {},
   "outputs": [],
   "source": [
    "for key in DEres.keys():\n",
    "    name = ontology.nodes[key]['name']\n",
    "    name = name.replace(' ', '_')\n",
    "    writer = pd.ExcelWriter(data_path + 'HierarchicalDE/DE.hierarchical.%s.xlsx'%name, engine='xlsxwriter')\n",
    "    res = DEres[key]\n",
    "    groups = res['scores'].dtype.names\n",
    "    for group in groups:\n",
    "        df = pd.DataFrame([res['scores'][group],\n",
    "                           res['logfoldchanges'][group],res['pvals_adj'][group]], \n",
    "                           columns=res['names'][group],\n",
    "                           index=['wilcoxon_score','log fold change','adjusted pvalue'])\n",
    "        x = ontology.nodes[group]['name']\n",
    "        if x== 'CD8-alpha-alpha-positive, alpha-beta intraepithelial T cell':\n",
    "            x = 'CD8-aa+ intraepithelial T cell'\n",
    "        x = x.replace('-positive','+')\n",
    "        x = x.replace('-negative','-')\n",
    "        x = x.replace('alpha-beta','ab')\n",
    "        x = x.replace(', human','')\n",
    "        x = x.replace(' cell','')\n",
    "        x = x.replace('of epithelium of ','')\n",
    "        x = x.replace('multipotent ', 'mp-')\n",
    "        x = x.replace('multi-potent ', 'mp-')\n",
    "        x = x.replace('associated', 'ass.')\n",
    "        x = x.replace('epithelial of tracheobronchial tree', 'tracheobronchial epithelial')\n",
    "        x = x.replace('lymphoid lineage restricted progenitor', 'lymphoid progenitor')\n",
    "        df.T.to_excel(writer, sheet_name=x)\n",
    "    \n",
    "    writer.save()\n"
   ]
  }
 ],
 "metadata": {
  "kernelspec": {
   "display_name": "p37",
   "language": "python",
   "name": "p37"
  },
  "language_info": {
   "codemirror_mode": {
    "name": "ipython",
    "version": 3
   },
   "file_extension": ".py",
   "mimetype": "text/x-python",
   "name": "python",
   "nbconvert_exporter": "python",
   "pygments_lexer": "ipython3",
   "version": "3.7.5"
  }
 },
 "nbformat": 4,
 "nbformat_minor": 2
}
