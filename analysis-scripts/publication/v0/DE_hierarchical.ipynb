{
 "cells": [
  {
   "cell_type": "markdown",
   "metadata": {},
   "source": [
    "# Hierarchical Differential Expression\n",
    "### This notebook runs differential expression at every node of the ontology tree\n",
    "\n",
    "# Prepare\n",
    "### load necessary pacakges"
   ]
  },
  {
   "cell_type": "code",
   "execution_count": 2,
   "metadata": {},
   "outputs": [],
   "source": [
    "import sys\n",
    "import os \n",
    "homedir = '/data/'\n",
    "sys.path.append(homedir + 'scVI/')\n",
    "sys.path.append(homedir + 'tabula-sapiens/')\n",
    "sys.path.append(homedir + 'cellontology/')\n",
    "from cellontology import CellOntolgy\n",
    "import anndata\n",
    "import obonet \n",
    "import pickle as pkl\n",
    "from scvi.dataset import AnnDatasetFromAnnData\n",
    "from utils.annotations_utils import *\n",
    "from anndata import read_h5ad\n",
    "import scanpy as sc\n",
    "\n",
    "from copy import deepcopy\n",
    "retrain=False\n",
    "\n",
    "import matplotlib\n",
    "%matplotlib inline"
   ]
  },
  {
   "cell_type": "code",
   "execution_count": 10,
   "metadata": {},
   "outputs": [],
   "source": [
    "import networkx as nx"
   ]
  },
  {
   "cell_type": "markdown",
   "metadata": {},
   "source": [
    "## set directories for reading and saving results"
   ]
  },
  {
   "cell_type": "code",
   "execution_count": 3,
   "metadata": {},
   "outputs": [],
   "source": [
    "data_path = homedir + 'TabulaSapiensData/'\n",
    "model_path = homedir + 'TabulaSapiens/scVImodels_final/'\n",
    "res_path = homedir + 'TabulaSapiensData/combined/'\n",
    "ont_path =  homedir + 'TabulaSapiensData/ontology/'\n",
    "\n",
    "\n",
    "if not os.path.exists(model_path):\n",
    "    os.mkdir(model_path)\n",
    "if not os.path.exists(model_path+'scanvi/'):\n",
    "    os.mkdir(model_path+'scanvi/')\n",
    "if not os.path.exists(res_path):\n",
    "    os.mkdir(res_path)"
   ]
  },
  {
   "cell_type": "code",
   "execution_count": 4,
   "metadata": {},
   "outputs": [],
   "source": [
    "ontology = pkl.load(open(ont_path + 'ontology.pkl', 'rb'))"
   ]
  },
  {
   "cell_type": "code",
   "execution_count": 6,
   "metadata": {},
   "outputs": [
    {
     "name": "stderr",
     "output_type": "stream",
     "text": [
      "Trying to set attribute `.obs` of view, copying.\n"
     ]
    }
   ],
   "source": [
    "combined = read_h5ad(data_path + 'combined/Pilot1_Pilot2.Final.h5ad')\n",
    "combined.obs['propagated_cell_ontology_class'].replace('duodenum glandular cells','duodenum glandular cell',inplace=True)\n",
    "combined.obs['manual_cell_ontology_class'].replace('duodenum glandular cells','duodenum glandular cell', inplace=True)\n",
    "\n",
    "del combined.raw\n",
    "combined = combined[combined.obs['propagated_cell_ontology_class']!='unassigned']\n",
    "\n",
    "label_conversion = {}\n",
    "for x in ontology.nodes:\n",
    "    label_conversion[ontology.nodes[x]['name']] = x\n",
    "\n",
    "combined.obs['propagated_cell_ontology_id'] = [label_conversion[x] for x in combined.obs['propagated_cell_ontology_class']]"
   ]
  },
  {
   "cell_type": "markdown",
   "metadata": {},
   "source": [
    "# this is the function that computes the number of cells in each child node"
   ]
  },
  {
   "cell_type": "code",
   "execution_count": 8,
   "metadata": {},
   "outputs": [],
   "source": [
    "def NodeInfo(ontology, root, labels):\n",
    "    node_info = {}\n",
    "    all_children = [x for x in nx.ancestors(ontology,root)]\n",
    "    all_children = all_children \n",
    "    subset = [x in all_children for x in labels]\n",
    "    if len(all_children)==0:\n",
    "        return {root:(np.sum(labels==root),[])}\n",
    "    if np.sum(subset)==0:\n",
    "        return {root:(np.sum(subset),[])}\n",
    "    count = np.sum(subset)\n",
    "    groups = [x for x in ontology.predecessors(root)]\n",
    "    node_info[root] = (count, groups)\n",
    "    if len(groups) > 1:\n",
    "        for x in groups:\n",
    "            sub_node_info = NodeInfo(ontology, x, labels)\n",
    "            if sub_node_info is not None:\n",
    "                for y in sub_node_info.keys():\n",
    "                    node_info[y] = sub_node_info[y]            \n",
    "                    \n",
    "    else:\n",
    "        sub_node_info = NodeInfo(ontology, groups[0], labels)\n",
    "        if sub_node_info is not None:\n",
    "            for y in sub_node_info.keys():\n",
    "                node_info[y] = sub_node_info[y]\n",
    "    return node_info"
   ]
  },
  {
   "cell_type": "code",
   "execution_count": 12,
   "metadata": {},
   "outputs": [],
   "source": [
    "nodeinfo = NodeInfo(ontology,'CL:0000000',combined.obs['propagated_cell_ontology_id'])"
   ]
  },
  {
   "cell_type": "markdown",
   "metadata": {},
   "source": [
    "# these are the functions that runs the DE\n",
    "### WilcoxonDE run wilcoxon \n",
    "### Hierarchical DE: function to iterate over the tree and perform DE through either Wilcoxon or scVI at every node between all of its children"
   ]
  },
  {
   "cell_type": "code",
   "execution_count": 15,
   "metadata": {},
   "outputs": [],
   "source": [
    "def WilcoxonDE(adata, subset, labels):\n",
    "    sub_adata = adata[subset]\n",
    "    sub_adata.obs['group'] = np.asarray(labels)[subset]\n",
    "    if len(np.unique(sub_adata.obs['group']))==1:\n",
    "        return None\n",
    "\n",
    "    else:\n",
    "        sc.pp.filter_genes(sub_adata,min_cells=10)\n",
    "        sc.pp.filter_cells(sub_adata,min_counts=10)\n",
    "        sc.tl.rank_genes_groups(sub_adata, groupby='group')\n",
    "        return(sub_adata.uns['rank_genes_groups'])"
   ]
  },
  {
   "cell_type": "code",
   "execution_count": 26,
   "metadata": {},
   "outputs": [],
   "source": [
    "def HierarchicalDE(ontology, root, labels, adata, method='Wilcoxon', posterior=None):\n",
    "    print(root)\n",
    "    all_children = [x for x in nx.ancestors(ontology,root)]\n",
    "    all_children = all_children \n",
    "    subset = [x in all_children for x in labels]\n",
    "    if len(all_children)==0:\n",
    "        return None\n",
    "    if np.sum(subset)==0:\n",
    "        print('no cells', ontology.nodes[root]['name'])\n",
    "        return None\n",
    "    groups = [x for x in ontology.predecessors(root)]\n",
    "    DE_res = {}\n",
    "    if len(groups) > 1:\n",
    "        label_group = {}\n",
    "        for x in groups:\n",
    "            label_group[x] = x\n",
    "            groups_children = [y for y in nx.ancestors(ontology,x)]\n",
    "            for y in groups_children:\n",
    "                label_group[y] = x\n",
    "            sub_DE_res = HierarchicalDE(ontology, x, labels, combined, method=method, posterior=posterior)\n",
    "            if sub_DE_res is not None:\n",
    "                for y in sub_DE_res.keys():\n",
    "                    DE_res[y] = sub_DE_res[y]            \n",
    "                    \n",
    "        group_labels = []\n",
    "        for x in labels: \n",
    "            if x in label_group.keys():\n",
    "                group_labels.append(label_group[x])\n",
    "            else:\n",
    "                group_labels.append('None')\n",
    "        \n",
    "        group_labels = np.asarray(group_labels)\n",
    "        \n",
    "        if len(np.unique(group_labels[subset]))==1:\n",
    "            print(label_group)\n",
    "            print('Some groups have 0 cells resulting in only one group in comparison',ontology.nodes[root]['name'])\n",
    "            sub_DE_res = HierarchicalDE(ontology, groups[0], labels, combined, method=method, posterior=posterior)\n",
    "            if sub_DE_res is not None:\n",
    "                for y in sub_DE_res.keys():\n",
    "                    DE_res[y] = sub_DE_res[y]\n",
    "            return DE_res\n",
    "        else:\n",
    "            print(np.sum(subset))\n",
    "            if method=='Wilcoxon':\n",
    "                DE_res[root] = WilcoxonDE(adata, subset, group_labels)\n",
    "            elif method=='scVI':\n",
    "                assert posterior is not None\n",
    "                group_names, group_labels = np.unique(group_labels, return_inverse=True)\n",
    "                print(np.unique(group_labels))\n",
    "                a,b = posterior.one_vs_all_degenes(subset=subset, cell_labels=group_labels, mode='change')\n",
    "                DE_res[root] = (a,b,group_names)\n",
    "            return DE_res\n",
    "    else:\n",
    "        sub_DE_res = HierarchicalDE(ontology, groups[0], labels, combined, method=method, posterior=posterior)\n",
    "        if sub_DE_res is not None:\n",
    "            for y in sub_DE_res.keys():\n",
    "                DE_res[y] = sub_DE_res[y]\n",
    "        return DE_res"
   ]
  },
  {
   "cell_type": "markdown",
   "metadata": {},
   "source": [
    "# Wilcoxon"
   ]
  },
  {
   "cell_type": "code",
   "execution_count": 17,
   "metadata": {},
   "outputs": [
    {
     "name": "stdout",
     "output_type": "stream",
     "text": [
      "CL:0000000\n",
      "CL:0000003\n",
      "CL:0000064\n",
      "CL:1000271\n",
      "CL:0000151\n",
      "CL:4000014\n",
      "CL:4000024\n",
      "CL:0008024\n"
     ]
    },
    {
     "name": "stderr",
     "output_type": "stream",
     "text": [
      "Trying to set attribute `.obs` of view, copying.\n"
     ]
    },
    {
     "name": "stdout",
     "output_type": "stream",
     "text": [
      "CL:0000169\n",
      "CL:0000171\n",
      "CL:0000173\n",
      "547\n"
     ]
    },
    {
     "name": "stderr",
     "output_type": "stream",
     "text": [
      "... storing 'propagated_cell_ontology_id' as categorical\n",
      "... storing 'group' as categorical\n",
      "Trying to set attribute `.obs` of view, copying.\n"
     ]
    },
    {
     "name": "stdout",
     "output_type": "stream",
     "text": [
      "CL:1000331\n",
      "2495\n"
     ]
    },
    {
     "name": "stderr",
     "output_type": "stream",
     "text": [
      "... storing 'propagated_cell_ontology_id' as categorical\n",
      "... storing 'group' as categorical\n"
     ]
    },
    {
     "name": "stdout",
     "output_type": "stream",
     "text": [
      "CL:0000183\n",
      "CL:0000186\n",
      "CL:0000669\n",
      "CL:0000192\n",
      "CL:0000359\n",
      "CL:0002598\n"
     ]
    },
    {
     "name": "stderr",
     "output_type": "stream",
     "text": [
      "Trying to set attribute `.obs` of view, copying.\n"
     ]
    },
    {
     "name": "stdout",
     "output_type": "stream",
     "text": [
      "1890\n"
     ]
    },
    {
     "name": "stderr",
     "output_type": "stream",
     "text": [
      "... storing 'propagated_cell_ontology_id' as categorical\n",
      "... storing 'group' as categorical\n",
      "Trying to set attribute `.obs` of view, copying.\n"
     ]
    },
    {
     "name": "stdout",
     "output_type": "stream",
     "text": [
      "6637\n"
     ]
    },
    {
     "name": "stderr",
     "output_type": "stream",
     "text": [
      "... storing 'propagated_cell_ontology_id' as categorical\n",
      "... storing 'group' as categorical\n"
     ]
    },
    {
     "name": "stdout",
     "output_type": "stream",
     "text": [
      "CL:0002371\n"
     ]
    },
    {
     "name": "stderr",
     "output_type": "stream",
     "text": [
      "Trying to set attribute `.obs` of view, copying.\n"
     ]
    },
    {
     "name": "stdout",
     "output_type": "stream",
     "text": [
      "CL:0000723\n",
      "CL:0000037\n",
      "CL:0000646\n",
      "5738\n"
     ]
    },
    {
     "name": "stderr",
     "output_type": "stream",
     "text": [
      "... storing 'propagated_cell_ontology_id' as categorical\n",
      "... storing 'group' as categorical\n"
     ]
    },
    {
     "name": "stdout",
     "output_type": "stream",
     "text": [
      "CL:0000988\n",
      "CL:0000738\n",
      "CL:0000451\n",
      "CL:0000784\n",
      "CL:0000990\n",
      "CL:0001056\n",
      "CL:0001057\n",
      "CL:0001058\n"
     ]
    },
    {
     "name": "stderr",
     "output_type": "stream",
     "text": [
      "Trying to set attribute `.obs` of view, copying.\n",
      "... storing 'propagated_cell_ontology_id' as categorical\n",
      "... storing 'group' as categorical\n"
     ]
    },
    {
     "name": "stdout",
     "output_type": "stream",
     "text": [
      "708\n"
     ]
    },
    {
     "name": "stderr",
     "output_type": "stream",
     "text": [
      "Trying to set attribute `.obs` of view, copying.\n"
     ]
    },
    {
     "name": "stdout",
     "output_type": "stream",
     "text": [
      "4718\n"
     ]
    },
    {
     "name": "stderr",
     "output_type": "stream",
     "text": [
      "... storing 'propagated_cell_ontology_id' as categorical\n",
      "... storing 'group' as categorical\n"
     ]
    },
    {
     "name": "stdout",
     "output_type": "stream",
     "text": [
      "CL:0000542\n",
      "CL:0000084\n",
      "CL:0002419\n",
      "CL:0000813\n",
      "CL:0000815\n",
      "CL:0000911\n",
      "CL:0000910\n",
      "CL:0000814\n"
     ]
    },
    {
     "name": "stderr",
     "output_type": "stream",
     "text": [
      "Trying to set attribute `.obs` of view, copying.\n"
     ]
    },
    {
     "name": "stdout",
     "output_type": "stream",
     "text": [
      "1518\n"
     ]
    },
    {
     "name": "stderr",
     "output_type": "stream",
     "text": [
      "... storing 'propagated_cell_ontology_id' as categorical\n",
      "... storing 'group' as categorical\n",
      "Trying to set attribute `.obs` of view, copying.\n"
     ]
    },
    {
     "name": "stdout",
     "output_type": "stream",
     "text": [
      "3408\n"
     ]
    },
    {
     "name": "stderr",
     "output_type": "stream",
     "text": [
      "... storing 'propagated_cell_ontology_id' as categorical\n",
      "... storing 'group' as categorical\n"
     ]
    },
    {
     "name": "stdout",
     "output_type": "stream",
     "text": [
      "CL:0000791\n",
      "CL:0000624\n",
      "CL:0000492\n",
      "CL:0000899\n",
      "CL:0002038\n"
     ]
    },
    {
     "name": "stderr",
     "output_type": "stream",
     "text": [
      "Trying to set attribute `.obs` of view, copying.\n"
     ]
    },
    {
     "name": "stdout",
     "output_type": "stream",
     "text": [
      "1927\n"
     ]
    },
    {
     "name": "stderr",
     "output_type": "stream",
     "text": [
      "... storing 'propagated_cell_ontology_id' as categorical\n",
      "... storing 'group' as categorical\n",
      "Trying to set attribute `.obs` of view, copying.\n"
     ]
    },
    {
     "name": "stdout",
     "output_type": "stream",
     "text": [
      "CL:0000895\n",
      "CL:0000897\n",
      "CL:0000905\n",
      "7708\n"
     ]
    },
    {
     "name": "stderr",
     "output_type": "stream",
     "text": [
      "... storing 'propagated_cell_ontology_id' as categorical\n",
      "... storing 'group' as categorical\n"
     ]
    },
    {
     "name": "stdout",
     "output_type": "stream",
     "text": [
      "CL:0000625\n",
      "CL:0000900\n",
      "CL:0000909\n",
      "CL:0000913\n",
      "CL:0001049\n"
     ]
    },
    {
     "name": "stderr",
     "output_type": "stream",
     "text": [
      "Trying to set attribute `.obs` of view, copying.\n"
     ]
    },
    {
     "name": "stdout",
     "output_type": "stream",
     "text": [
      "4080\n"
     ]
    },
    {
     "name": "stderr",
     "output_type": "stream",
     "text": [
      "... storing 'propagated_cell_ontology_id' as categorical\n",
      "... storing 'group' as categorical\n",
      "Trying to set attribute `.obs` of view, copying.\n"
     ]
    },
    {
     "name": "stdout",
     "output_type": "stream",
     "text": [
      "CL:0000915\n",
      "13429\n"
     ]
    },
    {
     "name": "stderr",
     "output_type": "stream",
     "text": [
      "... storing 'propagated_cell_ontology_id' as categorical\n",
      "... storing 'group' as categorical\n",
      "Trying to set attribute `.obs` of view, copying.\n"
     ]
    },
    {
     "name": "stdout",
     "output_type": "stream",
     "text": [
      "CL:0002489\n",
      "17521\n"
     ]
    },
    {
     "name": "stderr",
     "output_type": "stream",
     "text": [
      "... storing 'propagated_cell_ontology_id' as categorical\n",
      "... storing 'group' as categorical\n"
     ]
    },
    {
     "name": "stdout",
     "output_type": "stream",
     "text": [
      "CL:0000945\n",
      "CL:0000236\n",
      "CL:0000785\n",
      "CL:0000787\n",
      "CL:0000788\n",
      "CL:0000843\n"
     ]
    },
    {
     "name": "stderr",
     "output_type": "stream",
     "text": [
      "Trying to set attribute `.obs` of view, copying.\n"
     ]
    },
    {
     "name": "stdout",
     "output_type": "stream",
     "text": [
      "9009\n"
     ]
    },
    {
     "name": "stderr",
     "output_type": "stream",
     "text": [
      "... storing 'propagated_cell_ontology_id' as categorical\n",
      "... storing 'group' as categorical\n",
      "Trying to set attribute `.obs` of view, copying.\n"
     ]
    },
    {
     "name": "stdout",
     "output_type": "stream",
     "text": [
      "CL:0000786\n",
      "16053\n"
     ]
    },
    {
     "name": "stderr",
     "output_type": "stream",
     "text": [
      "... storing 'propagated_cell_ontology_id' as categorical\n",
      "... storing 'group' as categorical\n"
     ]
    },
    {
     "name": "stdout",
     "output_type": "stream",
     "text": [
      "CL:0001065\n",
      "CL:0001071\n",
      "CL:0000623\n",
      "3711\n"
     ]
    },
    {
     "name": "stderr",
     "output_type": "stream",
     "text": [
      "Trying to set attribute `.obs` of view, copying.\n",
      "... storing 'propagated_cell_ontology_id' as categorical\n",
      "... storing 'group' as categorical\n",
      "Trying to set attribute `.obs` of view, copying.\n"
     ]
    },
    {
     "name": "stdout",
     "output_type": "stream",
     "text": [
      "44273\n"
     ]
    },
    {
     "name": "stderr",
     "output_type": "stream",
     "text": [
      "... storing 'propagated_cell_ontology_id' as categorical\n",
      "... storing 'group' as categorical\n",
      "Trying to set attribute `.obs` of view, copying.\n"
     ]
    },
    {
     "name": "stdout",
     "output_type": "stream",
     "text": [
      "49186\n"
     ]
    },
    {
     "name": "stderr",
     "output_type": "stream",
     "text": [
      "... storing 'propagated_cell_ontology_id' as categorical\n",
      "... storing 'group' as categorical\n"
     ]
    },
    {
     "name": "stdout",
     "output_type": "stream",
     "text": [
      "CL:0000763\n",
      "CL:0000233\n",
      "CL:0000556\n",
      "CL:0000766\n",
      "CL:0000094\n"
     ]
    },
    {
     "name": "stderr",
     "output_type": "stream",
     "text": [
      "Trying to set attribute `.obs` of view, copying.\n"
     ]
    },
    {
     "name": "stdout",
     "output_type": "stream",
     "text": [
      "CL:0000767\n",
      "CL:0000775\n",
      "3689\n"
     ]
    },
    {
     "name": "stderr",
     "output_type": "stream",
     "text": [
      "... storing 'propagated_cell_ontology_id' as categorical\n",
      "... storing 'group' as categorical\n"
     ]
    },
    {
     "name": "stdout",
     "output_type": "stream",
     "text": [
      "CL:0000097\n",
      "CL:0000235\n",
      "CL:0000453\n",
      "CL:0000576\n",
      "CL:0000860\n",
      "CL:0000875\n",
      "CL:0002393\n"
     ]
    },
    {
     "name": "stderr",
     "output_type": "stream",
     "text": [
      "Trying to set attribute `.obs` of view, copying.\n"
     ]
    },
    {
     "name": "stdout",
     "output_type": "stream",
     "text": [
      "10991\n"
     ]
    },
    {
     "name": "stderr",
     "output_type": "stream",
     "text": [
      "... storing 'propagated_cell_ontology_id' as categorical\n",
      "... storing 'group' as categorical\n",
      "Trying to set attribute `.obs` of view, copying.\n"
     ]
    },
    {
     "name": "stdout",
     "output_type": "stream",
     "text": [
      "38085\n"
     ]
    },
    {
     "name": "stderr",
     "output_type": "stream",
     "text": [
      "... storing 'propagated_cell_ontology_id' as categorical\n",
      "... storing 'group' as categorical\n",
      "Trying to set attribute `.obs` of view, copying.\n"
     ]
    },
    {
     "name": "stdout",
     "output_type": "stream",
     "text": [
      "CL:0000232\n",
      "39292\n"
     ]
    },
    {
     "name": "stderr",
     "output_type": "stream",
     "text": [
      "... storing 'propagated_cell_ontology_id' as categorical\n",
      "... storing 'group' as categorical\n"
     ]
    },
    {
     "name": "stdout",
     "output_type": "stream",
     "text": [
      "CL:0002043\n",
      "89227\n"
     ]
    },
    {
     "name": "stderr",
     "output_type": "stream",
     "text": [
      "Trying to set attribute `.obs` of view, copying.\n",
      "... storing 'propagated_cell_ontology_id' as categorical\n",
      "... storing 'group' as categorical\n"
     ]
    },
    {
     "name": "stdout",
     "output_type": "stream",
     "text": [
      "CL:0002320\n",
      "CL:0000057\n",
      "CL:0002410\n",
      "CL:0002553\n"
     ]
    },
    {
     "name": "stderr",
     "output_type": "stream",
     "text": [
      "Trying to set attribute `.obs` of view, copying.\n",
      "... storing 'propagated_cell_ontology_id' as categorical\n",
      "... storing 'group' as categorical\n"
     ]
    },
    {
     "name": "stdout",
     "output_type": "stream",
     "text": [
      "336\n"
     ]
    },
    {
     "name": "stderr",
     "output_type": "stream",
     "text": [
      "Trying to set attribute `.obs` of view, copying.\n"
     ]
    },
    {
     "name": "stdout",
     "output_type": "stream",
     "text": [
      "CL:0002503\n",
      "CL:0000388\n",
      "10938\n"
     ]
    },
    {
     "name": "stderr",
     "output_type": "stream",
     "text": [
      "... storing 'propagated_cell_ontology_id' as categorical\n",
      "... storing 'group' as categorical\n"
     ]
    },
    {
     "name": "stdout",
     "output_type": "stream",
     "text": [
      "CL:0008019\n",
      "CL:0008002\n",
      "CL:0000189\n",
      "CL:0000190\n",
      "74\n"
     ]
    },
    {
     "name": "stderr",
     "output_type": "stream",
     "text": [
      "Trying to set attribute `.obs` of view, copying.\n",
      "... storing 'propagated_cell_ontology_id' as categorical\n",
      "... storing 'group' as categorical\n"
     ]
    },
    {
     "name": "stdout",
     "output_type": "stream",
     "text": [
      "CL:0000115\n",
      "CL:0002139\n",
      "CL:0000071\n",
      "CL:0002144\n",
      "CL:0002543\n"
     ]
    },
    {
     "name": "stderr",
     "output_type": "stream",
     "text": [
      "Trying to set attribute `.obs` of view, copying.\n"
     ]
    },
    {
     "name": "stdout",
     "output_type": "stream",
     "text": [
      "CL:1000413\n",
      "6335\n"
     ]
    },
    {
     "name": "stderr",
     "output_type": "stream",
     "text": [
      "... storing 'propagated_cell_ontology_id' as categorical\n",
      "... storing 'group' as categorical\n",
      "Trying to set attribute `.obs` of view, copying.\n"
     ]
    },
    {
     "name": "stdout",
     "output_type": "stream",
     "text": [
      "CL:0002138\n",
      "CL:2000016\n",
      "10429\n"
     ]
    },
    {
     "name": "stderr",
     "output_type": "stream",
     "text": [
      "... storing 'propagated_cell_ontology_id' as categorical\n",
      "... storing 'group' as categorical\n",
      "Trying to set attribute `.obs` of view, copying.\n"
     ]
    },
    {
     "name": "stdout",
     "output_type": "stream",
     "text": [
      "123402\n"
     ]
    },
    {
     "name": "stderr",
     "output_type": "stream",
     "text": [
      "... storing 'propagated_cell_ontology_id' as categorical\n",
      "... storing 'group' as categorical\n"
     ]
    },
    {
     "name": "stdout",
     "output_type": "stream",
     "text": [
      "CL:0011115\n",
      "CL:0000838\n",
      "CL:0000826\n",
      "CL:0000894\n"
     ]
    },
    {
     "name": "stderr",
     "output_type": "stream",
     "text": [
      "Trying to set attribute `.obs` of view, copying.\n",
      "... storing 'propagated_cell_ontology_id' as categorical\n",
      "... storing 'group' as categorical\n"
     ]
    },
    {
     "name": "stdout",
     "output_type": "stream",
     "text": [
      "959\n",
      "CL:0000048\n",
      "CL:0000134\n",
      "CL:0000355\n",
      "CL:0002250\n",
      "CL:4000022\n",
      "CL:4000023\n"
     ]
    },
    {
     "name": "stderr",
     "output_type": "stream",
     "text": [
      "Trying to set attribute `.obs` of view, copying.\n",
      "... storing 'propagated_cell_ontology_id' as categorical\n",
      "... storing 'group' as categorical\n"
     ]
    },
    {
     "name": "stdout",
     "output_type": "stream",
     "text": [
      "445\n"
     ]
    },
    {
     "name": "stderr",
     "output_type": "stream",
     "text": [
      "Trying to set attribute `.obs` of view, copying.\n"
     ]
    },
    {
     "name": "stdout",
     "output_type": "stream",
     "text": [
      "13866\n"
     ]
    },
    {
     "name": "stderr",
     "output_type": "stream",
     "text": [
      "... storing 'propagated_cell_ontology_id' as categorical\n",
      "... storing 'group' as categorical\n",
      "Trying to set attribute `.obs` of view, copying.\n"
     ]
    },
    {
     "name": "stdout",
     "output_type": "stream",
     "text": [
      "CL:0000056\n",
      "CL:0000038\n",
      "16188\n"
     ]
    },
    {
     "name": "stderr",
     "output_type": "stream",
     "text": [
      "... storing 'propagated_cell_ontology_id' as categorical\n",
      "... storing 'group' as categorical\n"
     ]
    },
    {
     "name": "stdout",
     "output_type": "stream",
     "text": [
      "CL:0000148\n",
      "CL:0000066\n",
      "CL:0000150\n",
      "CL:0000160\n",
      "CL:0002370\n",
      "CL:0000164\n",
      "CL:0000510\n",
      "CL:1001589\n",
      "CL:0002064\n"
     ]
    },
    {
     "name": "stderr",
     "output_type": "stream",
     "text": [
      "Trying to set attribute `.obs` of view, copying.\n"
     ]
    },
    {
     "name": "stdout",
     "output_type": "stream",
     "text": [
      "7609\n"
     ]
    },
    {
     "name": "stderr",
     "output_type": "stream",
     "text": [
      "... storing 'propagated_cell_ontology_id' as categorical\n",
      "... storing 'group' as categorical\n"
     ]
    },
    {
     "name": "stdout",
     "output_type": "stream",
     "text": [
      "CL:0002076\n",
      "CL:0002204\n",
      "CL:0002365\n",
      "CL:0002202\n",
      "CL:0002209\n",
      "CL:0000158\n"
     ]
    },
    {
     "name": "stderr",
     "output_type": "stream",
     "text": [
      "Trying to set attribute `.obs` of view, copying.\n"
     ]
    },
    {
     "name": "stdout",
     "output_type": "stream",
     "text": [
      "3749\n"
     ]
    },
    {
     "name": "stderr",
     "output_type": "stream",
     "text": [
      "... storing 'propagated_cell_ontology_id' as categorical\n",
      "... storing 'group' as categorical\n",
      "Trying to set attribute `.obs` of view, copying.\n"
     ]
    },
    {
     "name": "stdout",
     "output_type": "stream",
     "text": [
      "4354\n"
     ]
    },
    {
     "name": "stderr",
     "output_type": "stream",
     "text": [
      "... storing 'propagated_cell_ontology_id' as categorical\n",
      "... storing 'group' as categorical\n"
     ]
    },
    {
     "name": "stdout",
     "output_type": "stream",
     "text": [
      "CL:0002518\n",
      "CL:0005006\n",
      "CL:0010003\n",
      "CL:0000322\n",
      "CL:0002062\n",
      "CL:0002063\n"
     ]
    },
    {
     "name": "stderr",
     "output_type": "stream",
     "text": [
      "Trying to set attribute `.obs` of view, copying.\n"
     ]
    },
    {
     "name": "stdout",
     "output_type": "stream",
     "text": [
      "6312\n"
     ]
    },
    {
     "name": "stderr",
     "output_type": "stream",
     "text": [
      "... storing 'propagated_cell_ontology_id' as categorical\n",
      "... storing 'group' as categorical\n",
      "Trying to set attribute `.obs` of view, copying.\n"
     ]
    },
    {
     "name": "stdout",
     "output_type": "stream",
     "text": [
      "CL:1001428\n",
      "CL:0002079\n",
      "43582\n"
     ]
    },
    {
     "name": "stderr",
     "output_type": "stream",
     "text": [
      "... storing 'propagated_cell_ontology_id' as categorical\n",
      "... storing 'group' as categorical\n"
     ]
    },
    {
     "name": "stdout",
     "output_type": "stream",
     "text": [
      "CL:0000584\n",
      "CL:4000015\n",
      "203510\n"
     ]
    },
    {
     "name": "stderr",
     "output_type": "stream",
     "text": [
      "Trying to set attribute `.obs` of view, copying.\n",
      "... storing 'propagated_cell_ontology_id' as categorical\n",
      "... storing 'group' as categorical\n"
     ]
    }
   ],
   "source": [
    "DEres = HierarchicalDE(ontology, 'CL:0000000', combined.obs['propagated_cell_ontology_id'], combined, method='Wilcoxon')"
   ]
  },
  {
   "cell_type": "code",
   "execution_count": 23,
   "metadata": {},
   "outputs": [],
   "source": [
    "for key in DEres.keys():\n",
    "    name = ontology.nodes[key]['name']\n",
    "    name = name.replace(' ', '_')\n",
    "    writer = pd.ExcelWriter(data_path + 'HierarchicalDE/DE.hierarchical.%s.xlsx'%name, engine='xlsxwriter')\n",
    "    res = DEres[key]\n",
    "    groups = res['scores'].dtype.names\n",
    "    for group in groups:\n",
    "        df = pd.DataFrame([res['scores'][group],\n",
    "                           res['logfoldchanges'][group],res['pvals_adj'][group]], \n",
    "                           columns=res['names'][group],\n",
    "                           index=['wilcoxon_score','log fold change','adjusted pvalue'])\n",
    "        x = ontology.nodes[group]['name']\n",
    "        if x== 'CD8-alpha-alpha-positive, alpha-beta intraepithelial T cell':\n",
    "            x = 'CD8-aa+ intraepithelial T cell'\n",
    "        x = x.replace('-positive','+')\n",
    "        x = x.replace('-negative','-')\n",
    "        x = x.replace('alpha-beta','ab')\n",
    "        x = x.replace(', human','')\n",
    "        x = x.replace(' cell','')\n",
    "        x = x.replace('of epithelium of ','')\n",
    "        x = x.replace('multipotent ', 'mp-')\n",
    "        x = x.replace('multi-potent ', 'mp-')\n",
    "        x = x.replace('associated', 'ass.')\n",
    "        x = x.replace('epithelial of tracheobronchial tree', 'tracheobronchial epithelial')\n",
    "        x = x.replace('lymphoid lineage restricted progenitor', 'lymphoid progenitor')\n",
    "        df.T.to_excel(writer, sheet_name=x)\n",
    "    \n",
    "    writer.save()\n"
   ]
  },
  {
   "cell_type": "markdown",
   "metadata": {},
   "source": [
    "# scVI"
   ]
  },
  {
   "cell_type": "code",
   "execution_count": 27,
   "metadata": {},
   "outputs": [
    {
     "name": "stderr",
     "output_type": "stream",
     "text": [
      "Trying to set attribute `.obs` of view, copying.\n"
     ]
    },
    {
     "name": "stdout",
     "output_type": "stream",
     "text": [
      "[2020-07-17 01:39:02,464] INFO - scvi.dataset.dataset | Remapping batch_indices to [0,N]\n",
      "[2020-07-17 01:39:02,473] INFO - scvi.dataset.dataset | Remapping labels to [0,N]\n",
      "[2020-07-17 01:39:12,750] INFO - scvi.dataset.dataset | Computing the library size for the new data\n",
      "[2020-07-17 01:39:14,390] INFO - scvi.dataset.dataset | Downsampled from 203510 to 203510 cells\n"
     ]
    },
    {
     "data": {
      "image/png": "[encoded data removed]",
      "text/plain": [
       "<Figure size 432x288 with 1 Axes>"
      ]
     },
     "metadata": {
      "needs_background": "light"
     },
     "output_type": "display_data"
    }
   ],
   "source": [
    "combined = read_h5ad(data_path + 'combined/Pilot1_Pilot2.Final.h5ad')\n",
    "norm_X = combined.X\n",
    "combined.X = combined.raw.X\n",
    "del combined.raw\n",
    "\n",
    "combined = combined[combined.obs['propagated_cell_ontology_class']!='unassigned']\n",
    "\n",
    "combined.obs['propagated_cell_ontology_class'].replace('duodenum glandular cells','duodenum glandular cell',inplace=True)\n",
    "combined.obs['manual_cell_ontology_class'].replace('duodenum glandular cells','duodenum glandular cell', inplace=True)\n",
    "label_conversion = {}\n",
    "for x in ontology.nodes:\n",
    "    label_conversion[ontology.nodes[x]['name']] = x\n",
    "\n",
    "combined.obs['propagated_cell_ontology_id'] = [label_conversion[x] for x in combined.obs['propagated_cell_ontology_class']]\n",
    "\n",
    "train_data = scVIdata_preprocess(combined, \n",
    "                                 batch_col='donor_tech', \n",
    "                                 label_col='propagated_cell_ontology_class')\n",
    "posterior = get_scvi_posterior(train_data, \n",
    "                               model_path+'Pilot12.all-minus-fat-heart.donor_tech.50.3.ss2_norm.scVI.pkl',\n",
    "                               retrain=retrain, n_latent=50, n_layers=3)\n",
    "posterior.gene_dataset.norm_X = norm_X"
   ]
  },
  {
   "cell_type": "code",
   "execution_count": 31,
   "metadata": {},
   "outputs": [],
   "source": [
    "DEres = HierarchicalDE(ontology, 'CL:0000000', combined.obs['propagated_cell_ontology_id'], combined, \n",
    "                       method='scVI', posterior=posterior)"
   ]
  },
  {
   "cell_type": "code",
   "execution_count": null,
   "metadata": {},
   "outputs": [],
   "source": [
    "for key in DEres.keys():\n",
    "    name = ontology.nodes[key]['name']\n",
    "    name = name.replace(' ', '_')\n",
    "    writer = pd.ExcelWriter(data_path + 'HierarchicalDE/DE.hierarchical.scVI.%s.xlsx'%name, engine='xlsxwriter')\n",
    "    res = DEres[key]\n",
    "    groups = [res[2][i] for i in res[1]]\n",
    "    for i,group in enumerate(groups):\n",
    "        df = res[0][i]\n",
    "        df = df[df['non_zeros_proportion1']>0.05]\n",
    "        df = df[df['raw_normalized_mean1']>0.01]\n",
    "        df = df[df['proba_de']>0.9]\n",
    "        x = ontology.nodes[group]['name']\n",
    "        x = x.replace('-positive','+')\n",
    "        x = x.replace('-negative','-')\n",
    "        x = x.replace('alpha-beta','ab')\n",
    "        x = x.replace(', human','')\n",
    "        x = x.replace(' cell','')\n",
    "        x = x.replace('of epithelium of ','')\n",
    "        x = x.replace('multipotent ', 'mp-')\n",
    "        x = x.replace('multi-potent ', 'mp-')\n",
    "        x = x.replace('associated', 'ass.')\n",
    "        x = x.replace('epithelial of tracheobronchial tree', 'tracheobronchial epithelial')\n",
    "        x = x.replace('lymphoid lineage restricted progenitor', 'lymphoid progenitor')\n",
    "        df.to_excel(writer, sheet_name=x)\n",
    "    \n",
    "    writer.save()\n"
   ]
  },
  {
   "cell_type": "code",
   "execution_count": null,
   "metadata": {},
   "outputs": [],
   "source": []
  }
 ],
 "metadata": {
  "kernelspec": {
   "display_name": "Python [conda env:pytorch_p36]",
   "language": "python",
   "name": "conda-env-pytorch_p36-py"
  },
  "language_info": {
   "codemirror_mode": {
    "name": "ipython",
    "version": 3
   },
   "file_extension": ".py",
   "mimetype": "text/x-python",
   "name": "python",
   "nbconvert_exporter": "python",
   "pygments_lexer": "ipython3",
   "version": "3.6.10"
  }
 },
 "nbformat": 4,
 "nbformat_minor": 2
}
