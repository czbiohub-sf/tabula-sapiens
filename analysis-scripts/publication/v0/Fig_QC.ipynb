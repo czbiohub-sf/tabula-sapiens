{
 "cells": [
  {
   "cell_type": "code",
   "execution_count": null,
   "metadata": {},
   "outputs": [],
   "source": [
    "%load_ext autoreload\n",
    "%autoreload 2"
   ]
  },
  {
   "cell_type": "code",
   "execution_count": null,
   "metadata": {},
   "outputs": [],
   "source": [
    "import matplotlib.ticker as tkr\n",
    "sns.set(font_scale=2) \n",
    "\n",
    "f, ax = plt.subplots() \n",
    "g = sns.FacetGrid(\n",
    "    metadata[metadata['method']=='smartseq2'], \n",
    "    col=\"tissue\", col_wrap=4, height=6, aspect=.8)#, ylim=(0, 10))\n",
    "g.map(sns.boxplot, \"donor\", \"n_genes\",order=[\"TSP1\",\"TSP2\"], palette=donor_color_dict)#, ci=None);\n",
    "plt.tight_layout()\n",
    "plt.savefig(\"ts_smartseq2_ngenes.pdf\")\n",
    "\n",
    "g = sns.FacetGrid(\n",
    "    metadata[metadata['method']=='smartseq2'], \n",
    "    col=\"tissue\", col_wrap=4, height=6, aspect=.8)#, ylim=(0, 10))\n",
    "g.map(sns.boxplot, \"donor\", \"n_counts\",order=[\"TSP1\",\"TSP2\"], palette=donor_color_dict)#, ci=None);\n",
    "plt.tight_layout()\n",
    "plt.savefig(\"ts_smartseq2_ngenes.pdf\")\n",
    "\n",
    "g = sns.FacetGrid(\n",
    "    metadata[metadata['method']=='10X'], \n",
    "    col=\"tissue\", col_wrap=7, height=6, aspect=.8)#, ylim=(0, 10))\n",
    "g.map(sns.boxplot, \"donor\", \"n_genes\",order=[\"TSP1\",\"TSP2\"], palette=donor_color_dict)#, ci=None);\n",
    "plt.tight_layout()\n",
    "plt.savefig(\"ts_smartseq2_ngenes.pdf\")\n",
    "g = sns.FacetGrid(\n",
    "    metadata[metadata['method']=='10X'], \n",
    "    col=\"tissue\", col_wrap=7, height=6, aspect=.8)#, ylim=(0, 10))\n",
    "g.map(sns.boxplot, \"donor\", \"n_counts\",order=[\"TSP1\",\"TSP2\"], palette=donor_color_dict)#, ci=None);\n",
    "ax = plt.gca()\n",
    "ax.yaxis.set_major_formatter(tkr.FuncFormatter(lambda x, p: \"{:.0e}\".format(x)))\n",
    "plt.tight_layout()\n",
    "plt.savefig(\"ts_smartseq2_ngenes.pdf\")"
   ]
  }
 ],
 "metadata": {
  "kernelspec": {
   "display_name": "Python 3",
   "language": "python",
   "name": "python3"
  },
  "language_info": {
   "codemirror_mode": {
    "name": "ipython",
    "version": 3
   },
   "file_extension": ".py",
   "mimetype": "text/x-python",
   "name": "python",
   "nbconvert_exporter": "python",
   "pygments_lexer": "ipython3",
   "version": "3.7.4"
  },
  "toc": {
   "base_numbering": 1,
   "nav_menu": {},
   "number_sections": true,
   "sideBar": true,
   "skip_h1_title": false,
   "title_cell": "Table of Contents",
   "title_sidebar": "Contents",
   "toc_cell": false,
   "toc_position": {},
   "toc_section_display": true,
   "toc_window_display": false
  }
 },
 "nbformat": 4,
 "nbformat_minor": 2
}
