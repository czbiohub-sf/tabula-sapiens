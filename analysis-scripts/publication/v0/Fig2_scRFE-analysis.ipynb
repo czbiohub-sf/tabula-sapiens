{
 "cells": [
  {
   "cell_type": "markdown",
   "metadata": {},
   "source": [
    "# Setup"
   ]
  },
  {
   "cell_type": "markdown",
   "metadata": {},
   "source": [
    "## packages "
   ]
  },
  {
   "cell_type": "code",
   "execution_count": 1,
   "metadata": {},
   "outputs": [],
   "source": [
    "%load_ext autoreload\n",
    "%autoreload 2"
   ]
  },
  {
   "cell_type": "code",
   "execution_count": 2,
   "metadata": {},
   "outputs": [],
   "source": [
    "import scanpy as sc\n",
    "import pandas as pd\n",
    "\n",
    "sc.settings.verbosity=3"
   ]
  },
  {
   "cell_type": "code",
   "execution_count": 3,
   "metadata": {},
   "outputs": [],
   "source": [
    "import seaborn as sns\n",
    "\n",
    "import matplotlib.pyplot as plt\n",
    "plt.rcParams['pdf.fonttype'] = 42\n",
    "plt.rcParams['ps.fonttype'] = 42\n",
    "\n",
    "# show figures in the notebook\n",
    "%matplotlib inline \n",
    "\n",
    "\n",
    "# sc.settings.set_figure_params(dpi=300) # save umaps as non-vectorial hi-res images\n",
    "# # plt.rcParams['figure.figsize']=(10,10) # make figures square if not using the setting above\n",
    "\n",
    "# show figures in the notebook\n",
    "%matplotlib inline \n"
   ]
  },
  {
   "cell_type": "code",
   "execution_count": 4,
   "metadata": {},
   "outputs": [
    {
     "ename": "ImportError",
     "evalue": "cannot import name 'UnsupervisedTrainer' from 'scvi.inference' (/home/angela/anaconda3/lib/python3.7/site-packages/scvi/inference/__init__.py)",
     "output_type": "error",
     "traceback": [
      "\u001b[0;31m---------------------------------------------------------------------------\u001b[0m",
      "\u001b[0;31mImportError\u001b[0m                               Traceback (most recent call last)",
      "\u001b[0;32m<ipython-input-4-56844950cf34>\u001b[0m in \u001b[0;36m<module>\u001b[0;34m\u001b[0m\n\u001b[1;32m      2\u001b[0m \u001b[0msys\u001b[0m\u001b[0;34m.\u001b[0m\u001b[0mpath\u001b[0m\u001b[0;34m.\u001b[0m\u001b[0mappend\u001b[0m\u001b[0;34m(\u001b[0m\u001b[0;34m'/home/angela/src/scVI_TSP/'\u001b[0m\u001b[0;34m)\u001b[0m\u001b[0;34m\u001b[0m\u001b[0;34m\u001b[0m\u001b[0m\n\u001b[1;32m      3\u001b[0m \u001b[0msys\u001b[0m\u001b[0;34m.\u001b[0m\u001b[0mpath\u001b[0m\u001b[0;34m.\u001b[0m\u001b[0mappend\u001b[0m\u001b[0;34m(\u001b[0m\u001b[0;34m'/home/angela/sapiens/tabula-sapiens/'\u001b[0m\u001b[0;34m)\u001b[0m\u001b[0;34m\u001b[0m\u001b[0;34m\u001b[0m\u001b[0m\n\u001b[0;32m----> 4\u001b[0;31m \u001b[0;32mfrom\u001b[0m \u001b[0mutils\u001b[0m\u001b[0;34m.\u001b[0m\u001b[0mannotations_utils\u001b[0m \u001b[0;32mimport\u001b[0m \u001b[0;34m*\u001b[0m\u001b[0;34m\u001b[0m\u001b[0;34m\u001b[0m\u001b[0m\n\u001b[0m\u001b[1;32m      5\u001b[0m \u001b[0;32mfrom\u001b[0m \u001b[0mutils\u001b[0m\u001b[0;34m.\u001b[0m\u001b[0mcolorDict\u001b[0m \u001b[0;32mimport\u001b[0m \u001b[0;34m*\u001b[0m\u001b[0;34m\u001b[0m\u001b[0;34m\u001b[0m\u001b[0m\n\u001b[1;32m      6\u001b[0m \u001b[0;32mfrom\u001b[0m \u001b[0mutils\u001b[0m\u001b[0;34m.\u001b[0m\u001b[0mgeneral_utils\u001b[0m \u001b[0;32mimport\u001b[0m \u001b[0;34m*\u001b[0m\u001b[0;34m\u001b[0m\u001b[0;34m\u001b[0m\u001b[0m\n",
      "\u001b[0;32m~/sapiens/tabula-sapiens/utils/annotations_utils.py\u001b[0m in \u001b[0;36m<module>\u001b[0;34m\u001b[0m\n\u001b[1;32m      6\u001b[0m \u001b[0mwarnings\u001b[0m\u001b[0;34m.\u001b[0m\u001b[0mfilterwarnings\u001b[0m\u001b[0;34m(\u001b[0m\u001b[0;34m'ignore'\u001b[0m\u001b[0;34m)\u001b[0m\u001b[0;34m\u001b[0m\u001b[0;34m\u001b[0m\u001b[0m\n\u001b[1;32m      7\u001b[0m \u001b[0;34m\u001b[0m\u001b[0m\n\u001b[0;32m----> 8\u001b[0;31m \u001b[0;32mfrom\u001b[0m \u001b[0mscvi\u001b[0m\u001b[0;34m.\u001b[0m\u001b[0minference\u001b[0m \u001b[0;32mimport\u001b[0m \u001b[0mUnsupervisedTrainer\u001b[0m\u001b[0;34m,\u001b[0m \u001b[0mAlternateSemiSupervisedTrainer\u001b[0m\u001b[0;34m,\u001b[0m \u001b[0mSemiSupervisedTrainer\u001b[0m\u001b[0;34m\u001b[0m\u001b[0;34m\u001b[0m\u001b[0m\n\u001b[0m\u001b[1;32m      9\u001b[0m \u001b[0;32mfrom\u001b[0m \u001b[0mscvi\u001b[0m\u001b[0;34m.\u001b[0m\u001b[0mdataset\u001b[0m \u001b[0;32mimport\u001b[0m \u001b[0mAnnDatasetFromAnnData\u001b[0m\u001b[0;34m\u001b[0m\u001b[0;34m\u001b[0m\u001b[0m\n\u001b[1;32m     10\u001b[0m \u001b[0;34m\u001b[0m\u001b[0m\n",
      "\u001b[0;31mImportError\u001b[0m: cannot import name 'UnsupervisedTrainer' from 'scvi.inference' (/home/angela/anaconda3/lib/python3.7/site-packages/scvi/inference/__init__.py)"
     ]
    }
   ],
   "source": [
    "import sys\n",
    "sys.path.append('/home/angela/src/scVI_TSP/')\n",
    "sys.path.append('/home/angela/sapiens/tabula-sapiens/')\n",
    "from utils.annotations_utils import *\n",
    "from utils.colorDict import *\n",
    "from utils.general_utils import *\n",
    "from utils.plotting_utils import *"
   ]
  },
  {
   "cell_type": "markdown",
   "metadata": {},
   "source": [
    "## colors"
   ]
  },
  {
   "cell_type": "code",
   "execution_count": null,
   "metadata": {},
   "outputs": [],
   "source": [
    "donors_color_dict = donor_colors()\n",
    "tissues_color_dict = tissue_colors()\n",
    "methods_color_dict = method_colors()\n",
    "compartments_color_dict = compartment_colors()"
   ]
  },
  {
   "cell_type": "code",
   "execution_count": null,
   "metadata": {},
   "outputs": [],
   "source": []
  },
  {
   "cell_type": "markdown",
   "metadata": {
    "heading_collapsed": true
   },
   "source": [
    "# Load data"
   ]
  },
  {
   "cell_type": "code",
   "execution_count": 10,
   "metadata": {
    "hidden": true
   },
   "outputs": [],
   "source": [
    "# data_path = \"/mnt/ibm_lg/angela/sapiens/data/sapiens_paper1/\""
   ]
  },
  {
   "cell_type": "code",
   "execution_count": 11,
   "metadata": {
    "hidden": true
   },
   "outputs": [
    {
     "data": {
      "text/plain": [
       "AnnData object with n_obs × n_vars = 203513 × 58870 \n",
       "    obs: '10X_run', 'smartseq2_barcode', 'smartseq2_library_plate', 'smartseq2_sorting_direction', 'smartseq2_sort_order', 'smartseq2_cDNA_Plate', 'cell_id', 'method', 'notes', 'donor', 'smartseq2_sorted_population', '10X_replicate', '10X_sample', 'sequencer', 'sex', 'anatomical_position', 'tissue', 'smartseq2_well_seq', '10X_barcode', 'n_counts', 'n_genes', 'batch', 'donor_tech_tissue', 'donor_tech', 'compartment', 'compartment_pred', 'propagated_cell_ontology_class', 'manual_cell_ontology_class'\n",
       "    var: 'feature_types-0-0', 'n_cells-0-0', 'gene_symbol-0-0', 'n_cells-1-0', 'n_cells-0', 'feature_types-0-0-1', 'gene_symbol-0-0-1', 'n_cells-1-0-1', 'n_cells-1-1', 'n_cells', 'ensemble_id'\n",
       "    uns: 'compartment_colors', 'compartment_pred_colors', 'donor_colors', 'donor_tech_colors', 'method_colors', 'neighbors', 'tissue_colors', 'umap'\n",
       "    obsm: 'UMAP_donor_tech.100', 'UMAP_donor_tech.200', 'UMAP_donor_tech.50', 'X_scvi', 'X_scvi_donor_tech', 'X_umap'\n",
       "    obsp: 'connectivities', 'distances'"
      ]
     },
     "execution_count": 11,
     "metadata": {},
     "output_type": "execute_result"
    }
   ],
   "source": [
    "# adata = sc.read_h5ad(data_path + \"Pilot1_Pilot2.Final.h5ad\")\n",
    "# adata = remove_cats(adata)\n",
    "# adata"
   ]
  },
  {
   "cell_type": "code",
   "execution_count": 5,
   "metadata": {
    "hidden": true
   },
   "outputs": [
    {
     "data": {
      "text/plain": [
       "AnnData object with n_obs × n_vars = 207016 × 58870\n",
       "    obs: 'X10X_run', 'smartseq2_barcode', 'smartseq2_library_plate', 'smartseq2_sorting_direction', 'smartseq2_sort_order', 'smartseq2_cDNA_Plate', 'cell_id', 'method', 'donor', 'X10X_replicate', 'sequencer', 'sex', 'tissue', 'smartseq2_well_seq', 'notes', 'smartseq2_sorted_population', 'X10X_sample', 'anatomical_position', 'X10X_barcode', 'n_counts', 'n_genes', 'manual_cell_ontology_class', 'manual_annotation', 'doublet_filter', 'compartment', 'batch', 'compartment_pred', 'leiden', 'cluster_id', 'Propagated.Annotation', 'Entropy.All.Methods', 'Entropy.kNN.Reps', 'Entropy.scANVI.Reps', 'Entropy.SVM.Reps', 'Potential.Doublets', 'Onclass', 'singlecellNet', 'kNN', 'SVM', 'scANVI', 'compartment_pred_svm', 'manual_cell_ontology_classcollapsed', 'Propagated.Annotationcollapsed', 'Onclasscollapsed', 'singlecellNetcollapsed', 'kNNcollapsed', 'SVMcollapsed', 'scANVIcollapsed', 'miscompartmentalized', 'log_n_counts', 'log_n_genes', 'donor_method', 'decontX_contamination', 'decontX_clusters', 'sftpb', 'sftpc', 'contamination_prop', '_scvi_batch', '_scvi_labels', '_scvi_local_l_mean', '_scvi_local_l_var'\n",
       "    var: 'feature_types.0.0', 'n_cells.0.0', 'gene_symbol.0.0', 'n_cells.1.0', 'n_cells.0', 'n_cells.1.1', 'feature_types.0.0.0.1', 'gene_symbol.0.0.0.1', 'n_cells.1.0.0.1', 'n_cells.1.0.1', 'n_cells', 'len', 'ensembl_id', 'contamination_prop-0', 'contamination_prop-1', 'contamination_prop-10', 'contamination_prop-11', 'contamination_prop-12', 'contamination_prop-13', 'contamination_prop-14', 'contamination_prop-2', 'contamination_prop-3', 'contamination_prop-4', 'contamination_prop-5', 'contamination_prop-6', 'contamination_prop-7', 'contamination_prop-8', 'contamination_prop-9'\n",
       "    uns: 'Propagated.Annotationcollapsed_colors', '_scvi', 'leiden', 'neighbors', 'tissue_colors', 'umap'\n",
       "    obsm: 'X_scvi', 'X_scvi_decontX', 'X_scvi_raw', 'X_umap'\n",
       "    layers: 'raw_counts'\n",
       "    obsp: 'connectivities', 'distances'"
      ]
     },
     "execution_count": 5,
     "metadata": {},
     "output_type": "execute_result"
    }
   ],
   "source": [
    "adata = sc.read_h5ad(\"/mnt/ibm_lg/angela/sapiens/data/Pilot1_Pilot2.decontX.h5ad\")\n",
    "adata"
   ]
  },
  {
   "cell_type": "code",
   "execution_count": null,
   "metadata": {
    "hidden": true
   },
   "outputs": [],
   "source": []
  },
  {
   "cell_type": "markdown",
   "metadata": {},
   "source": [
    "# Load scRFE results"
   ]
  },
  {
   "cell_type": "code",
   "execution_count": 5,
   "metadata": {},
   "outputs": [
    {
     "data": {
      "text/plain": [
       "'/home/angela/sapiens/tabula-sapiens/analysis-scripts/publication/v0'"
      ]
     },
     "execution_count": 5,
     "metadata": {},
     "output_type": "execute_result"
    }
   ],
   "source": [
    "pwd"
   ]
  },
  {
   "cell_type": "code",
   "execution_count": 6,
   "metadata": {},
   "outputs": [],
   "source": [
    "scrfe_res = \"./scRFE/\""
   ]
  },
  {
   "cell_type": "code",
   "execution_count": 7,
   "metadata": {},
   "outputs": [
    {
     "data": {
      "text/plain": [
       "['.ipynb_checkpoints',\n",
       " 'scRFE_TFs_ntrees-1000_Bladder.csv',\n",
       " 'scRFE_TFs_ntrees-1000_Pancreas.csv',\n",
       " 'scRFE_TFs_ntrees-1000_Lymph_Node.csv',\n",
       " 'scRFE_TFs_ntrees-5000_Kidney.csv',\n",
       " 'scRFE_TFs_ntrees-5000_Bone_Marrow.csv',\n",
       " 'scRFE_endo_TFs_ntrees-1000.csv',\n",
       " 'scRFE_TFs_ntrees-1000_Lung.csv',\n",
       " 'scRFE_TFs_ntrees-5000_Thymus.csv',\n",
       " 'scRFE_endot_all_ntrees-1000.csv',\n",
       " 'scRFE_TFs_ntrees-5000_Spleen.csv',\n",
       " 'scRFE_TFs_ntrees-1000_Muscle.csv',\n",
       " 'scRFE_TFs_ntrees-5000_Lymph_Node.csv',\n",
       " 'scRFE_endo_innate_immunity_ntrees-1000.csv',\n",
       " 'scRFE_endo_immune_cell_migration_ntrees-1000.csv',\n",
       " 'scRFE_TFs_ntrees-5000_Vasculature.csv',\n",
       " 'scRFE_TFs_ntrees-5000_Blood.csv',\n",
       " 'scRFE_all_TFs_ntrees-1000.csv',\n",
       " 'scRFE_TFs_ntrees-1000_Vasculature.csv',\n",
       " 'scRFE_TFs_ntrees-5000_Large_Intestine.csv',\n",
       " 'scRFE_TFs_ntrees-5000_Small_Intestine.csv',\n",
       " 'scRFE_TFs_ntrees-1000_Blood.csv',\n",
       " 'scRFE_TFs_ntrees-1000_Bone_Marrow.csv',\n",
       " 'scRFE_TFs_ntrees-1000_Thymus.csv',\n",
       " 'scRFE_TFs_ntrees-5000_Skin.csv',\n",
       " 'scRFE_endo_metabolism_ntrees-1000.csv',\n",
       " 'scRFE_TFs_ntrees-1000_Skin.csv',\n",
       " 'scRFE_TFs_ntrees-1000_Small_Intestine.csv',\n",
       " 'scRFE_TFs_ntrees-1000_Large_Intestine.csv',\n",
       " 'scRFE_endo_barrier_function_ntrees-1000.csv',\n",
       " 'Human_TFs.txt',\n",
       " 'scRFE_TFs_ntrees-5000_Lung.csv',\n",
       " 'scRFE_TFs_ntrees-5000_Bladder.csv',\n",
       " 'scRFE_TFs_ntrees-5000_Muscle.csv',\n",
       " 'scRFE_TFs_ntrees-1000_Trachea.csv',\n",
       " 'scRFE_compartment_all-genes_ntrees-1000.csv',\n",
       " 'scRFE_endo_angiogenesis_ntrees-1000.csv',\n",
       " 'figures',\n",
       " 'scRFE_TFs_ntrees-1000_Spleen.csv',\n",
       " 'scRFE_endo_all-genes_ntrees-1000.csv',\n",
       " 'scRFE_jun19.ipynb',\n",
       " 'scRFE_TFs_ntrees-5000_Pancreas.csv',\n",
       " 'scRFE_endo_transmembrane_transport_ntrees-1000.csv',\n",
       " 'scRFE_TFs_ntrees-5000_Trachea.csv',\n",
       " 'scRFE_TFs_ntrees-1000_Kidney.csv']"
      ]
     },
     "execution_count": 7,
     "metadata": {},
     "output_type": "execute_result"
    }
   ],
   "source": [
    "import os\n",
    "os.listdir(scrfe_res)"
   ]
  },
  {
   "cell_type": "code",
   "execution_count": 12,
   "metadata": {},
   "outputs": [],
   "source": [
    "gene_dict = dict(zip(adata.var_names,adata.var['gene_symbol-0-0']))\n",
    "tiss_scRFE_res = {}\n",
    "for t in set(adata.obs['tissue']):\n",
    "    try:\n",
    "        tiss_scRFE = pd.read_csv(\"./scRFE/scRFE_TFs_ntrees-1000_\"+t+\".csv\", index_col=0)\n",
    "        for c in tiss_scRFE.columns:\n",
    "            tiss_scRFE[c] = tiss_scRFE[c].map(gene_dict).fillna(tiss_scRFE[c])\n",
    "        tiss_scRFE_res[t] = tiss_scRFE\n",
    "    except:\n",
    "        print(t,\"not yet finished\")"
   ]
  },
  {
   "cell_type": "code",
   "execution_count": 9,
   "metadata": {},
   "outputs": [
    {
     "data": {
      "text/html": [
       "<div>\n",
       "<style scoped>\n",
       "    .dataframe tbody tr th:only-of-type {\n",
       "        vertical-align: middle;\n",
       "    }\n",
       "\n",
       "    .dataframe tbody tr th {\n",
       "        vertical-align: top;\n",
       "    }\n",
       "\n",
       "    .dataframe thead th {\n",
       "        text-align: right;\n",
       "    }\n",
       "</style>\n",
       "<table border=\"1\" class=\"dataframe\">\n",
       "  <thead>\n",
       "    <tr style=\"text-align: right;\">\n",
       "      <th></th>\n",
       "      <th>Bladder</th>\n",
       "      <th>Bladder_gini</th>\n",
       "      <th>Blood</th>\n",
       "      <th>Blood_gini</th>\n",
       "      <th>Bone_Marrow</th>\n",
       "      <th>Bone_Marrow_gini</th>\n",
       "      <th>Kidney</th>\n",
       "      <th>Kidney_gini</th>\n",
       "      <th>Large_Intestine</th>\n",
       "      <th>Large_Intestine_gini</th>\n",
       "      <th>...</th>\n",
       "      <th>Small_Intestine</th>\n",
       "      <th>Small_Intestine_gini</th>\n",
       "      <th>Spleen</th>\n",
       "      <th>Spleen_gini</th>\n",
       "      <th>Thymus</th>\n",
       "      <th>Thymus_gini</th>\n",
       "      <th>Trachea</th>\n",
       "      <th>Trachea_gini</th>\n",
       "      <th>Vasculature</th>\n",
       "      <th>Vasculature_gini</th>\n",
       "    </tr>\n",
       "  </thead>\n",
       "  <tbody>\n",
       "    <tr>\n",
       "      <th>0</th>\n",
       "      <td>MT-CO1</td>\n",
       "      <td>0.012860</td>\n",
       "      <td>RF00568-7</td>\n",
       "      <td>0.5</td>\n",
       "      <td>HCK</td>\n",
       "      <td>0.514655</td>\n",
       "      <td>FTL</td>\n",
       "      <td>0.025427</td>\n",
       "      <td>ATP1A1</td>\n",
       "      <td>0.013115</td>\n",
       "      <td>...</td>\n",
       "      <td>AQP1</td>\n",
       "      <td>0.021489</td>\n",
       "      <td>ADAP1</td>\n",
       "      <td>0.635198</td>\n",
       "      <td>CCL2</td>\n",
       "      <td>0.017557</td>\n",
       "      <td>MT-ND3</td>\n",
       "      <td>0.017208</td>\n",
       "      <td>TSC22D3</td>\n",
       "      <td>0.015491</td>\n",
       "    </tr>\n",
       "    <tr>\n",
       "      <th>1</th>\n",
       "      <td>MT-ND4</td>\n",
       "      <td>0.010270</td>\n",
       "      <td>OR10V2P</td>\n",
       "      <td>0.5</td>\n",
       "      <td>TSPAN33</td>\n",
       "      <td>0.485345</td>\n",
       "      <td>VWF</td>\n",
       "      <td>0.023688</td>\n",
       "      <td>FLT1</td>\n",
       "      <td>0.011921</td>\n",
       "      <td>...</td>\n",
       "      <td>IFI27</td>\n",
       "      <td>0.013738</td>\n",
       "      <td>AP002856.3</td>\n",
       "      <td>0.364802</td>\n",
       "      <td>HSPA1A</td>\n",
       "      <td>0.017251</td>\n",
       "      <td>MT-CYB</td>\n",
       "      <td>0.014227</td>\n",
       "      <td>FCN3</td>\n",
       "      <td>0.015239</td>\n",
       "    </tr>\n",
       "    <tr>\n",
       "      <th>2</th>\n",
       "      <td>VIM</td>\n",
       "      <td>0.009230</td>\n",
       "      <td>NaN</td>\n",
       "      <td>NaN</td>\n",
       "      <td>NaN</td>\n",
       "      <td>NaN</td>\n",
       "      <td>MT-CO3</td>\n",
       "      <td>0.021763</td>\n",
       "      <td>ITGA6</td>\n",
       "      <td>0.010755</td>\n",
       "      <td>...</td>\n",
       "      <td>FABP4</td>\n",
       "      <td>0.012870</td>\n",
       "      <td>NaN</td>\n",
       "      <td>NaN</td>\n",
       "      <td>HSPA1B</td>\n",
       "      <td>0.017040</td>\n",
       "      <td>MT-ATP6</td>\n",
       "      <td>0.010763</td>\n",
       "      <td>HSPA1A</td>\n",
       "      <td>0.015032</td>\n",
       "    </tr>\n",
       "    <tr>\n",
       "      <th>3</th>\n",
       "      <td>EPAS1</td>\n",
       "      <td>0.008938</td>\n",
       "      <td>NaN</td>\n",
       "      <td>NaN</td>\n",
       "      <td>NaN</td>\n",
       "      <td>NaN</td>\n",
       "      <td>MTATP6P1</td>\n",
       "      <td>0.019144</td>\n",
       "      <td>AQP1</td>\n",
       "      <td>0.010728</td>\n",
       "      <td>...</td>\n",
       "      <td>ADGRL4</td>\n",
       "      <td>0.011118</td>\n",
       "      <td>NaN</td>\n",
       "      <td>NaN</td>\n",
       "      <td>GSN</td>\n",
       "      <td>0.015279</td>\n",
       "      <td>MT-ND4</td>\n",
       "      <td>0.010756</td>\n",
       "      <td>FOS</td>\n",
       "      <td>0.014665</td>\n",
       "    </tr>\n",
       "    <tr>\n",
       "      <th>4</th>\n",
       "      <td>MT1E</td>\n",
       "      <td>0.008258</td>\n",
       "      <td>NaN</td>\n",
       "      <td>NaN</td>\n",
       "      <td>NaN</td>\n",
       "      <td>NaN</td>\n",
       "      <td>MT-ATP6</td>\n",
       "      <td>0.018638</td>\n",
       "      <td>RGCC</td>\n",
       "      <td>0.009879</td>\n",
       "      <td>...</td>\n",
       "      <td>SOCS3</td>\n",
       "      <td>0.011018</td>\n",
       "      <td>NaN</td>\n",
       "      <td>NaN</td>\n",
       "      <td>HSPH1</td>\n",
       "      <td>0.015105</td>\n",
       "      <td>MT-CO3</td>\n",
       "      <td>0.010476</td>\n",
       "      <td>HSPH1</td>\n",
       "      <td>0.014227</td>\n",
       "    </tr>\n",
       "    <tr>\n",
       "      <th>...</th>\n",
       "      <td>...</td>\n",
       "      <td>...</td>\n",
       "      <td>...</td>\n",
       "      <td>...</td>\n",
       "      <td>...</td>\n",
       "      <td>...</td>\n",
       "      <td>...</td>\n",
       "      <td>...</td>\n",
       "      <td>...</td>\n",
       "      <td>...</td>\n",
       "      <td>...</td>\n",
       "      <td>...</td>\n",
       "      <td>...</td>\n",
       "      <td>...</td>\n",
       "      <td>...</td>\n",
       "      <td>...</td>\n",
       "      <td>...</td>\n",
       "      <td>...</td>\n",
       "      <td>...</td>\n",
       "      <td>...</td>\n",
       "      <td>...</td>\n",
       "    </tr>\n",
       "    <tr>\n",
       "      <th>21189</th>\n",
       "      <td>NaN</td>\n",
       "      <td>NaN</td>\n",
       "      <td>NaN</td>\n",
       "      <td>NaN</td>\n",
       "      <td>NaN</td>\n",
       "      <td>NaN</td>\n",
       "      <td>NaN</td>\n",
       "      <td>NaN</td>\n",
       "      <td>NaN</td>\n",
       "      <td>NaN</td>\n",
       "      <td>...</td>\n",
       "      <td>NaN</td>\n",
       "      <td>NaN</td>\n",
       "      <td>NaN</td>\n",
       "      <td>NaN</td>\n",
       "      <td>NaN</td>\n",
       "      <td>NaN</td>\n",
       "      <td>NaN</td>\n",
       "      <td>NaN</td>\n",
       "      <td>NaN</td>\n",
       "      <td>NaN</td>\n",
       "    </tr>\n",
       "    <tr>\n",
       "      <th>21190</th>\n",
       "      <td>NaN</td>\n",
       "      <td>NaN</td>\n",
       "      <td>NaN</td>\n",
       "      <td>NaN</td>\n",
       "      <td>NaN</td>\n",
       "      <td>NaN</td>\n",
       "      <td>NaN</td>\n",
       "      <td>NaN</td>\n",
       "      <td>NaN</td>\n",
       "      <td>NaN</td>\n",
       "      <td>...</td>\n",
       "      <td>NaN</td>\n",
       "      <td>NaN</td>\n",
       "      <td>NaN</td>\n",
       "      <td>NaN</td>\n",
       "      <td>NaN</td>\n",
       "      <td>NaN</td>\n",
       "      <td>NaN</td>\n",
       "      <td>NaN</td>\n",
       "      <td>NaN</td>\n",
       "      <td>NaN</td>\n",
       "    </tr>\n",
       "    <tr>\n",
       "      <th>21191</th>\n",
       "      <td>NaN</td>\n",
       "      <td>NaN</td>\n",
       "      <td>NaN</td>\n",
       "      <td>NaN</td>\n",
       "      <td>NaN</td>\n",
       "      <td>NaN</td>\n",
       "      <td>NaN</td>\n",
       "      <td>NaN</td>\n",
       "      <td>NaN</td>\n",
       "      <td>NaN</td>\n",
       "      <td>...</td>\n",
       "      <td>NaN</td>\n",
       "      <td>NaN</td>\n",
       "      <td>NaN</td>\n",
       "      <td>NaN</td>\n",
       "      <td>NaN</td>\n",
       "      <td>NaN</td>\n",
       "      <td>NaN</td>\n",
       "      <td>NaN</td>\n",
       "      <td>NaN</td>\n",
       "      <td>NaN</td>\n",
       "    </tr>\n",
       "    <tr>\n",
       "      <th>21192</th>\n",
       "      <td>NaN</td>\n",
       "      <td>NaN</td>\n",
       "      <td>NaN</td>\n",
       "      <td>NaN</td>\n",
       "      <td>NaN</td>\n",
       "      <td>NaN</td>\n",
       "      <td>NaN</td>\n",
       "      <td>NaN</td>\n",
       "      <td>NaN</td>\n",
       "      <td>NaN</td>\n",
       "      <td>...</td>\n",
       "      <td>NaN</td>\n",
       "      <td>NaN</td>\n",
       "      <td>NaN</td>\n",
       "      <td>NaN</td>\n",
       "      <td>NaN</td>\n",
       "      <td>NaN</td>\n",
       "      <td>NaN</td>\n",
       "      <td>NaN</td>\n",
       "      <td>NaN</td>\n",
       "      <td>NaN</td>\n",
       "    </tr>\n",
       "    <tr>\n",
       "      <th>21193</th>\n",
       "      <td>NaN</td>\n",
       "      <td>NaN</td>\n",
       "      <td>NaN</td>\n",
       "      <td>NaN</td>\n",
       "      <td>NaN</td>\n",
       "      <td>NaN</td>\n",
       "      <td>NaN</td>\n",
       "      <td>NaN</td>\n",
       "      <td>NaN</td>\n",
       "      <td>NaN</td>\n",
       "      <td>...</td>\n",
       "      <td>NaN</td>\n",
       "      <td>NaN</td>\n",
       "      <td>NaN</td>\n",
       "      <td>NaN</td>\n",
       "      <td>NaN</td>\n",
       "      <td>NaN</td>\n",
       "      <td>NaN</td>\n",
       "      <td>NaN</td>\n",
       "      <td>NaN</td>\n",
       "      <td>NaN</td>\n",
       "    </tr>\n",
       "  </tbody>\n",
       "</table>\n",
       "<p>21194 rows × 30 columns</p>\n",
       "</div>"
      ],
      "text/plain": [
       "      Bladder  Bladder_gini      Blood  Blood_gini Bone_Marrow  \\\n",
       "0      MT-CO1      0.012860  RF00568-7         0.5         HCK   \n",
       "1      MT-ND4      0.010270    OR10V2P         0.5     TSPAN33   \n",
       "2         VIM      0.009230        NaN         NaN         NaN   \n",
       "3       EPAS1      0.008938        NaN         NaN         NaN   \n",
       "4        MT1E      0.008258        NaN         NaN         NaN   \n",
       "...       ...           ...        ...         ...         ...   \n",
       "21189     NaN           NaN        NaN         NaN         NaN   \n",
       "21190     NaN           NaN        NaN         NaN         NaN   \n",
       "21191     NaN           NaN        NaN         NaN         NaN   \n",
       "21192     NaN           NaN        NaN         NaN         NaN   \n",
       "21193     NaN           NaN        NaN         NaN         NaN   \n",
       "\n",
       "       Bone_Marrow_gini    Kidney  Kidney_gini Large_Intestine  \\\n",
       "0              0.514655       FTL     0.025427          ATP1A1   \n",
       "1              0.485345       VWF     0.023688            FLT1   \n",
       "2                   NaN    MT-CO3     0.021763           ITGA6   \n",
       "3                   NaN  MTATP6P1     0.019144            AQP1   \n",
       "4                   NaN   MT-ATP6     0.018638            RGCC   \n",
       "...                 ...       ...          ...             ...   \n",
       "21189               NaN       NaN          NaN             NaN   \n",
       "21190               NaN       NaN          NaN             NaN   \n",
       "21191               NaN       NaN          NaN             NaN   \n",
       "21192               NaN       NaN          NaN             NaN   \n",
       "21193               NaN       NaN          NaN             NaN   \n",
       "\n",
       "       Large_Intestine_gini  ... Small_Intestine  Small_Intestine_gini  \\\n",
       "0                  0.013115  ...            AQP1              0.021489   \n",
       "1                  0.011921  ...           IFI27              0.013738   \n",
       "2                  0.010755  ...           FABP4              0.012870   \n",
       "3                  0.010728  ...          ADGRL4              0.011118   \n",
       "4                  0.009879  ...           SOCS3              0.011018   \n",
       "...                     ...  ...             ...                   ...   \n",
       "21189                   NaN  ...             NaN                   NaN   \n",
       "21190                   NaN  ...             NaN                   NaN   \n",
       "21191                   NaN  ...             NaN                   NaN   \n",
       "21192                   NaN  ...             NaN                   NaN   \n",
       "21193                   NaN  ...             NaN                   NaN   \n",
       "\n",
       "           Spleen  Spleen_gini  Thymus  Thymus_gini  Trachea  Trachea_gini  \\\n",
       "0           ADAP1     0.635198    CCL2     0.017557   MT-ND3      0.017208   \n",
       "1      AP002856.3     0.364802  HSPA1A     0.017251   MT-CYB      0.014227   \n",
       "2             NaN          NaN  HSPA1B     0.017040  MT-ATP6      0.010763   \n",
       "3             NaN          NaN     GSN     0.015279   MT-ND4      0.010756   \n",
       "4             NaN          NaN   HSPH1     0.015105   MT-CO3      0.010476   \n",
       "...           ...          ...     ...          ...      ...           ...   \n",
       "21189         NaN          NaN     NaN          NaN      NaN           NaN   \n",
       "21190         NaN          NaN     NaN          NaN      NaN           NaN   \n",
       "21191         NaN          NaN     NaN          NaN      NaN           NaN   \n",
       "21192         NaN          NaN     NaN          NaN      NaN           NaN   \n",
       "21193         NaN          NaN     NaN          NaN      NaN           NaN   \n",
       "\n",
       "      Vasculature  Vasculature_gini  \n",
       "0         TSC22D3          0.015491  \n",
       "1            FCN3          0.015239  \n",
       "2          HSPA1A          0.015032  \n",
       "3             FOS          0.014665  \n",
       "4           HSPH1          0.014227  \n",
       "...           ...               ...  \n",
       "21189         NaN               NaN  \n",
       "21190         NaN               NaN  \n",
       "21191         NaN               NaN  \n",
       "21192         NaN               NaN  \n",
       "21193         NaN               NaN  \n",
       "\n",
       "[21194 rows x 30 columns]"
      ]
     },
     "execution_count": 9,
     "metadata": {},
     "output_type": "execute_result"
    }
   ],
   "source": [
    "tscRFE = pd.read_csv(\"./scRFE/scRFE_endot_all_ntrees-1000.csv\", index_col=0)\n",
    "tscRFE"
   ]
  },
  {
   "cell_type": "code",
   "execution_count": 13,
   "metadata": {},
   "outputs": [
    {
     "data": {
      "text/plain": [
       "0        MYF5\n",
       "1        EBF1\n",
       "2        YBX3\n",
       "3        PAX7\n",
       "4       RUNX1\n",
       "5       EPAS1\n",
       "6      ARID5B\n",
       "7     ZFP36L1\n",
       "8        EBF2\n",
       "9       TSHZ2\n",
       "10        SRF\n",
       "11     ZNF503\n",
       "12       IRF1\n",
       "13        AHR\n",
       "14       JUNB\n",
       "15       TFAM\n",
       "16       FOSB\n",
       "17        MYC\n",
       "18        JUN\n",
       "19      GLIS3\n",
       "Name: multi-potent skeletal muscle stem cell, dtype: object"
      ]
     },
     "execution_count": 13,
     "metadata": {},
     "output_type": "execute_result"
    }
   ],
   "source": [
    "tiss_scRFE_res['Muscle']['multi-potent skeletal muscle stem cell'][:20]"
   ]
  },
  {
   "cell_type": "code",
   "execution_count": 102,
   "metadata": {},
   "outputs": [
    {
     "data": {
      "text/plain": [
       "0        MYF5\n",
       "1        EBF1\n",
       "2        PAX7\n",
       "3       EPAS1\n",
       "4       RUNX1\n",
       "5        YBX3\n",
       "6        EBF2\n",
       "7        JUNB\n",
       "8      ARID5B\n",
       "9       TSHZ2\n",
       "10       IRF1\n",
       "11        JUN\n",
       "12        MYC\n",
       "13        AHR\n",
       "14     ZNF503\n",
       "15    ZFP36L1\n",
       "16       ATF3\n",
       "17       TCF4\n",
       "18       ZIC1\n",
       "19       HES4\n",
       "Name: multi-potent skeletal muscle stem cell, dtype: object"
      ]
     },
     "execution_count": 102,
     "metadata": {},
     "output_type": "execute_result"
    }
   ],
   "source": [
    "tiss_scRFE_res['Muscle']['multi-potent skeletal muscle stem cell'][:20]"
   ]
  },
  {
   "cell_type": "code",
   "execution_count": 14,
   "metadata": {},
   "outputs": [
    {
     "data": {
      "text/plain": [
       "dict_keys(['Large_Intestine', 'Spleen', 'Muscle', 'Skin', 'Bone_Marrow', 'Small_Intestine', 'Vasculature', 'Trachea', 'Blood', 'Lung', 'Thymus', 'Bladder', 'Kidney', 'Lymph_Node', 'Pancreas'])"
      ]
     },
     "execution_count": 14,
     "metadata": {},
     "output_type": "execute_result"
    }
   ],
   "source": [
    "tiss_scRFE_res.keys()"
   ]
  },
  {
   "cell_type": "code",
   "execution_count": null,
   "metadata": {},
   "outputs": [],
   "source": []
  },
  {
   "cell_type": "code",
   "execution_count": 15,
   "metadata": {
    "scrolled": true
   },
   "outputs": [
    {
     "data": {
      "text/html": [
       "<div>\n",
       "<style scoped>\n",
       "    .dataframe tbody tr th:only-of-type {\n",
       "        vertical-align: middle;\n",
       "    }\n",
       "\n",
       "    .dataframe tbody tr th {\n",
       "        vertical-align: top;\n",
       "    }\n",
       "\n",
       "    .dataframe thead th {\n",
       "        text-align: right;\n",
       "    }\n",
       "</style>\n",
       "<table border=\"1\" class=\"dataframe\">\n",
       "  <thead>\n",
       "    <tr style=\"text-align: right;\">\n",
       "      <th></th>\n",
       "      <th>marker_gene</th>\n",
       "      <th>gini_score</th>\n",
       "      <th>cell_type</th>\n",
       "      <th>tissue</th>\n",
       "    </tr>\n",
       "  </thead>\n",
       "  <tbody>\n",
       "  </tbody>\n",
       "</table>\n",
       "</div>"
      ],
      "text/plain": [
       "Empty DataFrame\n",
       "Columns: [marker_gene, gini_score, cell_type, tissue]\n",
       "Index: []"
      ]
     },
     "metadata": {},
     "output_type": "display_data"
    },
    {
     "data": {
      "text/html": [
       "<div>\n",
       "<style scoped>\n",
       "    .dataframe tbody tr th:only-of-type {\n",
       "        vertical-align: middle;\n",
       "    }\n",
       "\n",
       "    .dataframe tbody tr th {\n",
       "        vertical-align: top;\n",
       "    }\n",
       "\n",
       "    .dataframe thead th {\n",
       "        text-align: right;\n",
       "    }\n",
       "</style>\n",
       "<table border=\"1\" class=\"dataframe\">\n",
       "  <thead>\n",
       "    <tr style=\"text-align: right;\">\n",
       "      <th></th>\n",
       "      <th>marker_gene</th>\n",
       "      <th>gini_score</th>\n",
       "      <th>cell_type</th>\n",
       "      <th>tissue</th>\n",
       "    </tr>\n",
       "  </thead>\n",
       "  <tbody>\n",
       "    <tr>\n",
       "      <th>0</th>\n",
       "      <td>HMGB1</td>\n",
       "      <td>10.449080</td>\n",
       "      <td>B cell</td>\n",
       "      <td>Large_Intestine</td>\n",
       "    </tr>\n",
       "    <tr>\n",
       "      <th>1</th>\n",
       "      <td>TSC22D3</td>\n",
       "      <td>6.573442</td>\n",
       "      <td>B cell</td>\n",
       "      <td>Large_Intestine</td>\n",
       "    </tr>\n",
       "    <tr>\n",
       "      <th>2</th>\n",
       "      <td>JUND</td>\n",
       "      <td>5.369203</td>\n",
       "      <td>B cell</td>\n",
       "      <td>Large_Intestine</td>\n",
       "    </tr>\n",
       "    <tr>\n",
       "      <th>3</th>\n",
       "      <td>ELF3</td>\n",
       "      <td>4.879120</td>\n",
       "      <td>B cell</td>\n",
       "      <td>Large_Intestine</td>\n",
       "    </tr>\n",
       "    <tr>\n",
       "      <th>4</th>\n",
       "      <td>KLF4</td>\n",
       "      <td>4.390178</td>\n",
       "      <td>B cell</td>\n",
       "      <td>Large_Intestine</td>\n",
       "    </tr>\n",
       "    <tr>\n",
       "      <th>...</th>\n",
       "      <td>...</td>\n",
       "      <td>...</td>\n",
       "      <td>...</td>\n",
       "      <td>...</td>\n",
       "    </tr>\n",
       "    <tr>\n",
       "      <th>4655</th>\n",
       "      <td>ID2</td>\n",
       "      <td>1.697393</td>\n",
       "      <td>type B pancreatic cell</td>\n",
       "      <td>Pancreas</td>\n",
       "    </tr>\n",
       "    <tr>\n",
       "      <th>4656</th>\n",
       "      <td>MEIS2</td>\n",
       "      <td>1.553526</td>\n",
       "      <td>type B pancreatic cell</td>\n",
       "      <td>Pancreas</td>\n",
       "    </tr>\n",
       "    <tr>\n",
       "      <th>4657</th>\n",
       "      <td>FOS</td>\n",
       "      <td>1.419384</td>\n",
       "      <td>type B pancreatic cell</td>\n",
       "      <td>Pancreas</td>\n",
       "    </tr>\n",
       "    <tr>\n",
       "      <th>4658</th>\n",
       "      <td>NFIB</td>\n",
       "      <td>1.069121</td>\n",
       "      <td>type B pancreatic cell</td>\n",
       "      <td>Pancreas</td>\n",
       "    </tr>\n",
       "    <tr>\n",
       "      <th>4659</th>\n",
       "      <td>JUND</td>\n",
       "      <td>1.031906</td>\n",
       "      <td>type B pancreatic cell</td>\n",
       "      <td>Pancreas</td>\n",
       "    </tr>\n",
       "  </tbody>\n",
       "</table>\n",
       "<p>4660 rows × 4 columns</p>\n",
       "</div>"
      ],
      "text/plain": [
       "     marker_gene  gini_score               cell_type           tissue\n",
       "0          HMGB1   10.449080                  B cell  Large_Intestine\n",
       "1        TSC22D3    6.573442                  B cell  Large_Intestine\n",
       "2           JUND    5.369203                  B cell  Large_Intestine\n",
       "3           ELF3    4.879120                  B cell  Large_Intestine\n",
       "4           KLF4    4.390178                  B cell  Large_Intestine\n",
       "...          ...         ...                     ...              ...\n",
       "4655         ID2    1.697393  type B pancreatic cell         Pancreas\n",
       "4656       MEIS2    1.553526  type B pancreatic cell         Pancreas\n",
       "4657         FOS    1.419384  type B pancreatic cell         Pancreas\n",
       "4658        NFIB    1.069121  type B pancreatic cell         Pancreas\n",
       "4659        JUND    1.031906  type B pancreatic cell         Pancreas\n",
       "\n",
       "[4660 rows x 4 columns]"
      ]
     },
     "execution_count": 15,
     "metadata": {},
     "output_type": "execute_result"
    }
   ],
   "source": [
    "tiss_scRFE_summary = pd.DataFrame(columns = ['marker_gene','gini_score','cell_type','tissue'])\n",
    "display(tiss_scRFE_summary)\n",
    "for t in tiss_scRFE_res.keys():\n",
    "#     print(t)\n",
    "    tiss_scRFE = tiss_scRFE_res[t]\n",
    "    for c in range(0,len(tiss_scRFE.columns),2):\n",
    "        cc = tiss_scRFE.columns[c]\n",
    "#         print(cc)\n",
    "\n",
    "        aux = pd.DataFrame(columns = ['marker_gene','gini_score','cell_type','tissue'])\n",
    "        aux['marker_gene'] = tiss_scRFE[cc]\n",
    "        aux['gini_score'] = tiss_scRFE[cc+\"_gini\"]*100\n",
    "        aux['cell_type'] = cc\n",
    "        aux['tissue'] = t\n",
    "        aux = aux.iloc[:20]\n",
    "\n",
    "        tiss_scRFE_summary = pd.concat([tiss_scRFE_summary,aux],axis=0)\n",
    "    \n",
    "tiss_scRFE_summary = tiss_scRFE_summary.reset_index()\n",
    "tiss_scRFE_summary = tiss_scRFE_summary.drop('index',axis=1)\n",
    "tiss_scRFE_summary\n"
   ]
  },
  {
   "cell_type": "code",
   "execution_count": 16,
   "metadata": {
    "scrolled": false
   },
   "outputs": [
    {
     "name": "stdout",
     "output_type": "stream",
     "text": [
      "Large_Intestine\n",
      "Spleen\n",
      "Muscle\n",
      "Skin\n",
      "Bone_Marrow\n",
      "Small_Intestine\n",
      "Vasculature\n",
      "Trachea\n",
      "Blood\n",
      "Lung\n",
      "Thymus\n",
      "Bladder\n",
      "Kidney\n",
      "Lymph_Node\n",
      "Pancreas\n"
     ]
    }
   ],
   "source": [
    "sns.set(font_scale=.75) \n",
    "\n",
    "for t in list(tiss_scRFE_res.keys()):\n",
    "    print(t)\n",
    "    tiss_df = tiss_scRFE_summary[tiss_scRFE_summary['tissue']==t].reset_index()\n",
    "    \n",
    "    l = len(set(tiss_df['cell_type']))\n",
    "    nrows = np.int(np.ceil(l/4))\n",
    "    \n",
    "    fig,ax = plt.subplots(nrows,4, figsize=(16,16));\n",
    "    \n",
    "    for c,a in zip(set(tiss_df['cell_type']),ax.flatten()):\n",
    "        \n",
    "        df = tiss_df[tiss_df['cell_type']==c]\n",
    "        sns.catplot(data=df, x = \"gini_score\",y=\"marker_gene\",ax=a,palette='YlGnBu', height=6, aspect=2)\n",
    "        a.set_title(c)\n",
    "        a.set(xlabel=\"Mean decrease gini (%)\", ylabel=\"\");\n",
    "        plt.close(plt.gcf())\n",
    "    \n",
    "    if nrows*4>l:\n",
    "        empty_ax = nrows*4-l\n",
    "        for i in range(l,l+empty_ax):\n",
    "            fig.delaxes(ax.flatten()[i])\n",
    "        \n",
    "    plt.tight_layout()\n",
    "    plt.savefig(\"scRFE/figures/ts_scRFE_1000_\"+t+\".pdf\")\n",
    "    plt.savefig(\"scRFE/figures/ts_scRFE_1000_\"+t+\".png\")\n",
    "    \n",
    "    \n"
   ]
  },
  {
   "cell_type": "code",
   "execution_count": 17,
   "metadata": {},
   "outputs": [
    {
     "data": {
      "text/plain": [
       "162"
      ]
     },
     "execution_count": 17,
     "metadata": {},
     "output_type": "execute_result"
    }
   ],
   "source": [
    "sum(tiss_scRFE_summary['marker_gene'].isna())"
   ]
  },
  {
   "cell_type": "code",
   "execution_count": 112,
   "metadata": {},
   "outputs": [
    {
     "data": {
      "text/plain": [
       "Index(['B cell', 'B cell_gini', 'T cell', 'T cell_gini', 'endothelial cell',\n",
       "       'endothelial cell_gini', 'endothelial cell of artery',\n",
       "       'endothelial cell of artery_gini', 'epithelial cell',\n",
       "       'epithelial cell_gini', 'erythrocyte', 'erythrocyte_gini', 'fibroblast',\n",
       "       'fibroblast_gini', 'macrophage', 'macrophage_gini', 'mast cell',\n",
       "       'mast cell_gini', 'pericyte cell', 'pericyte cell_gini', 'plasma cell',\n",
       "       'plasma cell_gini', 'smooth muscle cell', 'smooth muscle cell_gini',\n",
       "       'unassigned', 'unassigned_gini'],\n",
       "      dtype='object')"
      ]
     },
     "execution_count": 112,
     "metadata": {},
     "output_type": "execute_result"
    }
   ],
   "source": [
    "tiss_scRFE_res['Vasculature'].columns"
   ]
  },
  {
   "cell_type": "code",
   "execution_count": 19,
   "metadata": {},
   "outputs": [
    {
     "data": {
      "text/html": [
       "<div>\n",
       "<style scoped>\n",
       "    .dataframe tbody tr th:only-of-type {\n",
       "        vertical-align: middle;\n",
       "    }\n",
       "\n",
       "    .dataframe tbody tr th {\n",
       "        vertical-align: top;\n",
       "    }\n",
       "\n",
       "    .dataframe thead th {\n",
       "        text-align: right;\n",
       "    }\n",
       "</style>\n",
       "<table border=\"1\" class=\"dataframe\">\n",
       "  <thead>\n",
       "    <tr style=\"text-align: right;\">\n",
       "      <th></th>\n",
       "      <th>marker_gene</th>\n",
       "      <th>gini_score</th>\n",
       "      <th>cell_type</th>\n",
       "      <th>tissue</th>\n",
       "    </tr>\n",
       "  </thead>\n",
       "  <tbody>\n",
       "    <tr>\n",
       "      <th>0</th>\n",
       "      <td>HMGB1</td>\n",
       "      <td>10.449080</td>\n",
       "      <td>B cell</td>\n",
       "      <td>Large_Intestine</td>\n",
       "    </tr>\n",
       "    <tr>\n",
       "      <th>1</th>\n",
       "      <td>TSC22D3</td>\n",
       "      <td>6.573442</td>\n",
       "      <td>B cell</td>\n",
       "      <td>Large_Intestine</td>\n",
       "    </tr>\n",
       "    <tr>\n",
       "      <th>2</th>\n",
       "      <td>JUND</td>\n",
       "      <td>5.369203</td>\n",
       "      <td>B cell</td>\n",
       "      <td>Large_Intestine</td>\n",
       "    </tr>\n",
       "    <tr>\n",
       "      <th>3</th>\n",
       "      <td>ELF3</td>\n",
       "      <td>4.879120</td>\n",
       "      <td>B cell</td>\n",
       "      <td>Large_Intestine</td>\n",
       "    </tr>\n",
       "    <tr>\n",
       "      <th>4</th>\n",
       "      <td>KLF4</td>\n",
       "      <td>4.390178</td>\n",
       "      <td>B cell</td>\n",
       "      <td>Large_Intestine</td>\n",
       "    </tr>\n",
       "    <tr>\n",
       "      <th>...</th>\n",
       "      <td>...</td>\n",
       "      <td>...</td>\n",
       "      <td>...</td>\n",
       "      <td>...</td>\n",
       "    </tr>\n",
       "    <tr>\n",
       "      <th>4655</th>\n",
       "      <td>ID2</td>\n",
       "      <td>1.697393</td>\n",
       "      <td>type B pancreatic cell</td>\n",
       "      <td>Pancreas</td>\n",
       "    </tr>\n",
       "    <tr>\n",
       "      <th>4656</th>\n",
       "      <td>MEIS2</td>\n",
       "      <td>1.553526</td>\n",
       "      <td>type B pancreatic cell</td>\n",
       "      <td>Pancreas</td>\n",
       "    </tr>\n",
       "    <tr>\n",
       "      <th>4657</th>\n",
       "      <td>FOS</td>\n",
       "      <td>1.419384</td>\n",
       "      <td>type B pancreatic cell</td>\n",
       "      <td>Pancreas</td>\n",
       "    </tr>\n",
       "    <tr>\n",
       "      <th>4658</th>\n",
       "      <td>NFIB</td>\n",
       "      <td>1.069121</td>\n",
       "      <td>type B pancreatic cell</td>\n",
       "      <td>Pancreas</td>\n",
       "    </tr>\n",
       "    <tr>\n",
       "      <th>4659</th>\n",
       "      <td>JUND</td>\n",
       "      <td>1.031906</td>\n",
       "      <td>type B pancreatic cell</td>\n",
       "      <td>Pancreas</td>\n",
       "    </tr>\n",
       "  </tbody>\n",
       "</table>\n",
       "<p>4660 rows × 4 columns</p>\n",
       "</div>"
      ],
      "text/plain": [
       "     marker_gene  gini_score               cell_type           tissue\n",
       "0          HMGB1   10.449080                  B cell  Large_Intestine\n",
       "1        TSC22D3    6.573442                  B cell  Large_Intestine\n",
       "2           JUND    5.369203                  B cell  Large_Intestine\n",
       "3           ELF3    4.879120                  B cell  Large_Intestine\n",
       "4           KLF4    4.390178                  B cell  Large_Intestine\n",
       "...          ...         ...                     ...              ...\n",
       "4655         ID2    1.697393  type B pancreatic cell         Pancreas\n",
       "4656       MEIS2    1.553526  type B pancreatic cell         Pancreas\n",
       "4657         FOS    1.419384  type B pancreatic cell         Pancreas\n",
       "4658        NFIB    1.069121  type B pancreatic cell         Pancreas\n",
       "4659        JUND    1.031906  type B pancreatic cell         Pancreas\n",
       "\n",
       "[4660 rows x 4 columns]"
      ]
     },
     "execution_count": 19,
     "metadata": {},
     "output_type": "execute_result"
    }
   ],
   "source": [
    "tiss_scRFE_summary#_res['Vasculature']"
   ]
  },
  {
   "cell_type": "code",
   "execution_count": 23,
   "metadata": {},
   "outputs": [
    {
     "data": {
      "text/plain": [
       "<seaborn.axisgrid.FacetGrid at 0x7f9d3d7495d0>"
      ]
     },
     "execution_count": 23,
     "metadata": {},
     "output_type": "execute_result"
    },
    {
     "data": {
      "image/png": "[encoded data removed]",
      "text/plain": [
       "<Figure size 360x360 with 1 Axes>"
      ]
     },
     "metadata": {
      "needs_background": "light"
     },
     "output_type": "display_data"
    }
   ],
   "source": [
    "df = tiss_scRFE_res['Vasculature'][['macrophage', 'macrophage_gini']]\n",
    "df.columns = ['cell_type_markers','cell_type_markers_gini']\n",
    "df = df.iloc[:20]\n",
    "df['cell_type_markers_gini'] = df['cell_type_markers_gini']*100 \n",
    "sns.catplot(data =df, y = 'cell_type_markers', x = 'cell_type_markers_gini')"
   ]
  },
  {
   "cell_type": "code",
   "execution_count": 22,
   "metadata": {},
   "outputs": [
    {
     "data": {
      "text/plain": [
       "<seaborn.axisgrid.FacetGrid at 0x7f9d3d7c79d0>"
      ]
     },
     "execution_count": 22,
     "metadata": {},
     "output_type": "execute_result"
    },
    {
     "data": {
      "image/png": "[encoded data removed]",
      "text/plain": [
       "<Figure size 360x360 with 1 Axes>"
      ]
     },
     "metadata": {
      "needs_background": "light"
     },
     "output_type": "display_data"
    }
   ],
   "source": [
    "df = tiss_scRFE_res['Lung'][['macrophage', 'macrophage_gini']]\n",
    "df.columns = ['cell_type_markers','cell_type_markers_gini']\n",
    "df = df.iloc[:20]\n",
    "df['cell_type_markers_gini'] = df['cell_type_markers_gini']*100 \n",
    "sns.catplot(data =df, y = 'cell_type_markers', x = 'cell_type_markers_gini')"
   ]
  },
  {
   "cell_type": "code",
   "execution_count": 94,
   "metadata": {},
   "outputs": [
    {
     "data": {
      "text/plain": [
       "0        TBX2\n",
       "1       NR2F2\n",
       "2        ELK3\n",
       "3        KLF4\n",
       "4      ZNF331\n",
       "5        HES4\n",
       "6     ZFP36L2\n",
       "7       NR4A1\n",
       "8        JDP2\n",
       "9        ELF1\n",
       "10       ATF3\n",
       "11      FOXO3\n",
       "12      FOXO1\n",
       "13       SOX7\n",
       "14      HMGA1\n",
       "15      FOXC2\n",
       "16     PLAGL1\n",
       "17       SUB1\n",
       "18       JUNB\n",
       "19    TSC22D3\n",
       "Name: smooth muscle cell, dtype: object"
      ]
     },
     "execution_count": 94,
     "metadata": {},
     "output_type": "execute_result"
    }
   ],
   "source": [
    "tiss_scRFE_res['Muscle']['smooth muscle cell'][:20]"
   ]
  },
  {
   "cell_type": "code",
   "execution_count": 87,
   "metadata": {},
   "outputs": [
    {
     "data": {
      "text/plain": [
       "0       NR2F2\n",
       "1         ID4\n",
       "2        HES4\n",
       "3     TSC22D1\n",
       "4       FOXC1\n",
       "5       EPAS1\n",
       "6        TBX2\n",
       "7        HEYL\n",
       "8        JUNB\n",
       "9     ZFP36L2\n",
       "10      MEF2C\n",
       "11      TSHZ2\n",
       "12      CEBPD\n",
       "13       YBX3\n",
       "14      FOXC2\n",
       "15       HEY2\n",
       "16        ID1\n",
       "17       EBF1\n",
       "18       KLF2\n",
       "19       KLF9\n",
       "Name: vascular associated smooth muscle cell, dtype: object"
      ]
     },
     "execution_count": 87,
     "metadata": {},
     "output_type": "execute_result"
    }
   ],
   "source": [
    "tiss_scRFE_res['Bladder']['vascular associated smooth muscle cell'][:20]"
   ]
  },
  {
   "cell_type": "code",
   "execution_count": 82,
   "metadata": {},
   "outputs": [
    {
     "data": {
      "text/plain": [
       "0       NR2F2\n",
       "1       PRRX1\n",
       "2        TBX2\n",
       "3     ZFP36L2\n",
       "4        HES4\n",
       "5       EPAS1\n",
       "6        ZEB2\n",
       "7     TSC22D3\n",
       "8     TSC22D1\n",
       "9        EBF2\n",
       "10        ID4\n",
       "11      ZFHX3\n",
       "12       NFIB\n",
       "13       EBF1\n",
       "14      IKZF1\n",
       "15       EGR1\n",
       "16      CEBPD\n",
       "17       YBX3\n",
       "18      IKZF3\n",
       "19     NFATC4\n",
       "Name: vascular associated smooth muscle cell, dtype: object"
      ]
     },
     "execution_count": 82,
     "metadata": {},
     "output_type": "execute_result"
    }
   ],
   "source": [
    "tiss_scRFE['vascular associated smooth muscle cell'][:20]"
   ]
  },
  {
   "cell_type": "code",
   "execution_count": 84,
   "metadata": {},
   "outputs": [
    {
     "data": {
      "text/plain": [
       "0       EPAS1\n",
       "1       SOX18\n",
       "2         ID1\n",
       "3        NFIB\n",
       "4       HIF3A\n",
       "5       IKZF1\n",
       "6     TSC22D3\n",
       "7         ERG\n",
       "8         ID3\n",
       "9        ETS2\n",
       "10       TCF4\n",
       "11      SOX17\n",
       "12      CEBPD\n",
       "13      IKZF3\n",
       "14       KLF4\n",
       "15      ATOH8\n",
       "16     BCL11B\n",
       "17       ZEB2\n",
       "18      NR4A2\n",
       "19      PRRX1\n",
       "Name: endothelial cell, dtype: object"
      ]
     },
     "execution_count": 84,
     "metadata": {},
     "output_type": "execute_result"
    }
   ],
   "source": [
    "tiss_scRFE['endothelial cell'][:20]"
   ]
  },
  {
   "cell_type": "code",
   "execution_count": 86,
   "metadata": {},
   "outputs": [
    {
     "data": {
      "text/plain": [
       "'Blood'"
      ]
     },
     "execution_count": 86,
     "metadata": {},
     "output_type": "execute_result"
    }
   ],
   "source": [
    "t"
   ]
  },
  {
   "cell_type": "code",
   "execution_count": null,
   "metadata": {},
   "outputs": [],
   "source": []
  },
  {
   "cell_type": "markdown",
   "metadata": {},
   "source": [
    "# Load scRFE results for all cells"
   ]
  },
  {
   "cell_type": "code",
   "execution_count": 1,
   "metadata": {},
   "outputs": [
    {
     "data": {
      "text/plain": [
       "'/home/angela/sapiens/tabula-sapiens/analysis-scripts/publication/v0'"
      ]
     },
     "execution_count": 1,
     "metadata": {},
     "output_type": "execute_result"
    }
   ],
   "source": [
    "pwd"
   ]
  },
  {
   "cell_type": "code",
   "execution_count": 2,
   "metadata": {},
   "outputs": [],
   "source": [
    "scrfe_res = \"./scRFE/\""
   ]
  },
  {
   "cell_type": "code",
   "execution_count": 3,
   "metadata": {},
   "outputs": [
    {
     "data": {
      "text/plain": [
       "['.ipynb_checkpoints',\n",
       " 'scRFE_TFs_ntrees-1000_Bladder.csv',\n",
       " 'scRFE_TFs_ntrees-1000_Pancreas.csv',\n",
       " 'scRFE_TFs_ntrees-1000_Lymph_Node.csv',\n",
       " 'scRFE_TFs_ntrees-5000_Kidney.csv',\n",
       " 'scRFE_TFs_ntrees-5000_Bone_Marrow.csv',\n",
       " 'scRFE_endo_TFs_ntrees-1000.csv',\n",
       " 'scRFE_TFs_ntrees-1000_Lung.csv',\n",
       " 'scRFE_TFs_ntrees-5000_Thymus.csv',\n",
       " 'scRFE_TFs_ntrees-5000_Spleen.csv',\n",
       " 'scRFE_TFs_ntrees-1000_Muscle.csv',\n",
       " 'scRFE_TFs_ntrees-5000_Lymph_Node.csv',\n",
       " 'scRFE_endo_innate_immunity_ntrees-1000.csv',\n",
       " 'scRFE_endo_immune_cell_migration_ntrees-1000.csv',\n",
       " 'scRFE_TFs_ntrees-5000_Vasculature.csv',\n",
       " 'scRFE_TFs_ntrees-5000_Blood.csv',\n",
       " 'scRFE_all_TFs_ntrees-1000.csv',\n",
       " 'scRFE_TFs_ntrees-1000_Vasculature.csv',\n",
       " 'scRFE_TFs_ntrees-5000_Large_Intestine.csv',\n",
       " 'scRFE_TFs_ntrees-5000_Small_Intestine.csv',\n",
       " 'scRFE_TFs_ntrees-1000_Blood.csv',\n",
       " 'scRFE_TFs_ntrees-1000_Bone_Marrow.csv',\n",
       " 'scRFE_TFs_ntrees-1000_Thymus.csv',\n",
       " 'scRFE_TFs_ntrees-5000_Skin.csv',\n",
       " 'scRFE_endo_metabolism_ntrees-1000.csv',\n",
       " 'scRFE_TFs_ntrees-1000_Skin.csv',\n",
       " 'scRFE_TFs_ntrees-1000_Small_Intestine.csv',\n",
       " 'scRFE_TFs_ntrees-1000_Large_Intestine.csv',\n",
       " 'scRFE_endo_barrier_function_ntrees-1000.csv',\n",
       " 'Human_TFs.txt',\n",
       " 'scRFE_TFs_ntrees-5000_Lung.csv',\n",
       " 'scRFE_TFs_ntrees-5000_Bladder.csv',\n",
       " 'scRFE_TFs_ntrees-5000_Muscle.csv',\n",
       " 'scRFE_TFs_ntrees-1000_Trachea.csv',\n",
       " 'scRFE_compartment_all-genes_ntrees-1000.csv',\n",
       " 'scRFE_endo_angiogenesis_ntrees-1000.csv',\n",
       " 'figures',\n",
       " 'scRFE_TFs_ntrees-1000_Spleen.csv',\n",
       " 'scRFE_endo_all-genes_ntrees-1000.csv',\n",
       " 'scRFE_jun19.ipynb',\n",
       " 'scRFE_TFs_ntrees-5000_Pancreas.csv',\n",
       " 'scRFE_endo_transmembrane_transport_ntrees-1000.csv',\n",
       " 'scRFE_TFs_ntrees-5000_Trachea.csv',\n",
       " 'scRFE_TFs_ntrees-1000_Kidney.csv']"
      ]
     },
     "execution_count": 3,
     "metadata": {},
     "output_type": "execute_result"
    }
   ],
   "source": [
    "import os\n",
    "os.listdir(scrfe_res)"
   ]
  },
  {
   "cell_type": "code",
   "execution_count": 44,
   "metadata": {},
   "outputs": [
    {
     "data": {
      "text/html": [
       "<div>\n",
       "<style scoped>\n",
       "    .dataframe tbody tr th:only-of-type {\n",
       "        vertical-align: middle;\n",
       "    }\n",
       "\n",
       "    .dataframe tbody tr th {\n",
       "        vertical-align: top;\n",
       "    }\n",
       "\n",
       "    .dataframe thead th {\n",
       "        text-align: right;\n",
       "    }\n",
       "</style>\n",
       "<table border=\"1\" class=\"dataframe\">\n",
       "  <thead>\n",
       "    <tr style=\"text-align: right;\">\n",
       "      <th></th>\n",
       "      <th>Bladder</th>\n",
       "      <th>Bladder_gini</th>\n",
       "      <th>Blood</th>\n",
       "      <th>Blood_gini</th>\n",
       "      <th>Bone_Marrow</th>\n",
       "      <th>Bone_Marrow_gini</th>\n",
       "      <th>Kidney</th>\n",
       "      <th>Kidney_gini</th>\n",
       "      <th>Large_Intestine</th>\n",
       "      <th>Large_Intestine_gini</th>\n",
       "      <th>...</th>\n",
       "      <th>Small_Intestine</th>\n",
       "      <th>Small_Intestine_gini</th>\n",
       "      <th>Spleen</th>\n",
       "      <th>Spleen_gini</th>\n",
       "      <th>Thymus</th>\n",
       "      <th>Thymus_gini</th>\n",
       "      <th>Trachea</th>\n",
       "      <th>Trachea_gini</th>\n",
       "      <th>Vasculature</th>\n",
       "      <th>Vasculature_gini</th>\n",
       "    </tr>\n",
       "  </thead>\n",
       "  <tbody>\n",
       "    <tr>\n",
       "      <th>0</th>\n",
       "      <td>MT-CO1</td>\n",
       "      <td>0.012860</td>\n",
       "      <td>RF00568-7</td>\n",
       "      <td>0.5</td>\n",
       "      <td>HCK</td>\n",
       "      <td>0.514655</td>\n",
       "      <td>FTL</td>\n",
       "      <td>0.025427</td>\n",
       "      <td>ATP1A1</td>\n",
       "      <td>0.013115</td>\n",
       "      <td>...</td>\n",
       "      <td>AQP1</td>\n",
       "      <td>0.021489</td>\n",
       "      <td>ADAP1</td>\n",
       "      <td>0.635198</td>\n",
       "      <td>CCL2</td>\n",
       "      <td>0.017557</td>\n",
       "      <td>MT-ND3</td>\n",
       "      <td>0.017208</td>\n",
       "      <td>TSC22D3</td>\n",
       "      <td>0.015491</td>\n",
       "    </tr>\n",
       "    <tr>\n",
       "      <th>1</th>\n",
       "      <td>MT-ND4</td>\n",
       "      <td>0.010270</td>\n",
       "      <td>OR10V2P</td>\n",
       "      <td>0.5</td>\n",
       "      <td>TSPAN33</td>\n",
       "      <td>0.485345</td>\n",
       "      <td>VWF</td>\n",
       "      <td>0.023688</td>\n",
       "      <td>FLT1</td>\n",
       "      <td>0.011921</td>\n",
       "      <td>...</td>\n",
       "      <td>IFI27</td>\n",
       "      <td>0.013738</td>\n",
       "      <td>AP002856.3</td>\n",
       "      <td>0.364802</td>\n",
       "      <td>HSPA1A</td>\n",
       "      <td>0.017251</td>\n",
       "      <td>MT-CYB</td>\n",
       "      <td>0.014227</td>\n",
       "      <td>FCN3</td>\n",
       "      <td>0.015239</td>\n",
       "    </tr>\n",
       "    <tr>\n",
       "      <th>2</th>\n",
       "      <td>VIM</td>\n",
       "      <td>0.009230</td>\n",
       "      <td>NaN</td>\n",
       "      <td>NaN</td>\n",
       "      <td>NaN</td>\n",
       "      <td>NaN</td>\n",
       "      <td>MT-CO3</td>\n",
       "      <td>0.021763</td>\n",
       "      <td>ITGA6</td>\n",
       "      <td>0.010755</td>\n",
       "      <td>...</td>\n",
       "      <td>FABP4</td>\n",
       "      <td>0.012870</td>\n",
       "      <td>NaN</td>\n",
       "      <td>NaN</td>\n",
       "      <td>HSPA1B</td>\n",
       "      <td>0.017040</td>\n",
       "      <td>MT-ATP6</td>\n",
       "      <td>0.010763</td>\n",
       "      <td>HSPA1A</td>\n",
       "      <td>0.015032</td>\n",
       "    </tr>\n",
       "    <tr>\n",
       "      <th>3</th>\n",
       "      <td>EPAS1</td>\n",
       "      <td>0.008938</td>\n",
       "      <td>NaN</td>\n",
       "      <td>NaN</td>\n",
       "      <td>NaN</td>\n",
       "      <td>NaN</td>\n",
       "      <td>MTATP6P1</td>\n",
       "      <td>0.019144</td>\n",
       "      <td>AQP1</td>\n",
       "      <td>0.010728</td>\n",
       "      <td>...</td>\n",
       "      <td>ADGRL4</td>\n",
       "      <td>0.011118</td>\n",
       "      <td>NaN</td>\n",
       "      <td>NaN</td>\n",
       "      <td>GSN</td>\n",
       "      <td>0.015279</td>\n",
       "      <td>MT-ND4</td>\n",
       "      <td>0.010756</td>\n",
       "      <td>FOS</td>\n",
       "      <td>0.014665</td>\n",
       "    </tr>\n",
       "    <tr>\n",
       "      <th>4</th>\n",
       "      <td>MT1E</td>\n",
       "      <td>0.008258</td>\n",
       "      <td>NaN</td>\n",
       "      <td>NaN</td>\n",
       "      <td>NaN</td>\n",
       "      <td>NaN</td>\n",
       "      <td>MT-ATP6</td>\n",
       "      <td>0.018638</td>\n",
       "      <td>RGCC</td>\n",
       "      <td>0.009879</td>\n",
       "      <td>...</td>\n",
       "      <td>SOCS3</td>\n",
       "      <td>0.011018</td>\n",
       "      <td>NaN</td>\n",
       "      <td>NaN</td>\n",
       "      <td>HSPH1</td>\n",
       "      <td>0.015105</td>\n",
       "      <td>MT-CO3</td>\n",
       "      <td>0.010476</td>\n",
       "      <td>HSPH1</td>\n",
       "      <td>0.014227</td>\n",
       "    </tr>\n",
       "    <tr>\n",
       "      <th>...</th>\n",
       "      <td>...</td>\n",
       "      <td>...</td>\n",
       "      <td>...</td>\n",
       "      <td>...</td>\n",
       "      <td>...</td>\n",
       "      <td>...</td>\n",
       "      <td>...</td>\n",
       "      <td>...</td>\n",
       "      <td>...</td>\n",
       "      <td>...</td>\n",
       "      <td>...</td>\n",
       "      <td>...</td>\n",
       "      <td>...</td>\n",
       "      <td>...</td>\n",
       "      <td>...</td>\n",
       "      <td>...</td>\n",
       "      <td>...</td>\n",
       "      <td>...</td>\n",
       "      <td>...</td>\n",
       "      <td>...</td>\n",
       "      <td>...</td>\n",
       "    </tr>\n",
       "    <tr>\n",
       "      <th>21189</th>\n",
       "      <td>NaN</td>\n",
       "      <td>NaN</td>\n",
       "      <td>NaN</td>\n",
       "      <td>NaN</td>\n",
       "      <td>NaN</td>\n",
       "      <td>NaN</td>\n",
       "      <td>NaN</td>\n",
       "      <td>NaN</td>\n",
       "      <td>NaN</td>\n",
       "      <td>NaN</td>\n",
       "      <td>...</td>\n",
       "      <td>NaN</td>\n",
       "      <td>NaN</td>\n",
       "      <td>NaN</td>\n",
       "      <td>NaN</td>\n",
       "      <td>NaN</td>\n",
       "      <td>NaN</td>\n",
       "      <td>NaN</td>\n",
       "      <td>NaN</td>\n",
       "      <td>NaN</td>\n",
       "      <td>NaN</td>\n",
       "    </tr>\n",
       "    <tr>\n",
       "      <th>21190</th>\n",
       "      <td>NaN</td>\n",
       "      <td>NaN</td>\n",
       "      <td>NaN</td>\n",
       "      <td>NaN</td>\n",
       "      <td>NaN</td>\n",
       "      <td>NaN</td>\n",
       "      <td>NaN</td>\n",
       "      <td>NaN</td>\n",
       "      <td>NaN</td>\n",
       "      <td>NaN</td>\n",
       "      <td>...</td>\n",
       "      <td>NaN</td>\n",
       "      <td>NaN</td>\n",
       "      <td>NaN</td>\n",
       "      <td>NaN</td>\n",
       "      <td>NaN</td>\n",
       "      <td>NaN</td>\n",
       "      <td>NaN</td>\n",
       "      <td>NaN</td>\n",
       "      <td>NaN</td>\n",
       "      <td>NaN</td>\n",
       "    </tr>\n",
       "    <tr>\n",
       "      <th>21191</th>\n",
       "      <td>NaN</td>\n",
       "      <td>NaN</td>\n",
       "      <td>NaN</td>\n",
       "      <td>NaN</td>\n",
       "      <td>NaN</td>\n",
       "      <td>NaN</td>\n",
       "      <td>NaN</td>\n",
       "      <td>NaN</td>\n",
       "      <td>NaN</td>\n",
       "      <td>NaN</td>\n",
       "      <td>...</td>\n",
       "      <td>NaN</td>\n",
       "      <td>NaN</td>\n",
       "      <td>NaN</td>\n",
       "      <td>NaN</td>\n",
       "      <td>NaN</td>\n",
       "      <td>NaN</td>\n",
       "      <td>NaN</td>\n",
       "      <td>NaN</td>\n",
       "      <td>NaN</td>\n",
       "      <td>NaN</td>\n",
       "    </tr>\n",
       "    <tr>\n",
       "      <th>21192</th>\n",
       "      <td>NaN</td>\n",
       "      <td>NaN</td>\n",
       "      <td>NaN</td>\n",
       "      <td>NaN</td>\n",
       "      <td>NaN</td>\n",
       "      <td>NaN</td>\n",
       "      <td>NaN</td>\n",
       "      <td>NaN</td>\n",
       "      <td>NaN</td>\n",
       "      <td>NaN</td>\n",
       "      <td>...</td>\n",
       "      <td>NaN</td>\n",
       "      <td>NaN</td>\n",
       "      <td>NaN</td>\n",
       "      <td>NaN</td>\n",
       "      <td>NaN</td>\n",
       "      <td>NaN</td>\n",
       "      <td>NaN</td>\n",
       "      <td>NaN</td>\n",
       "      <td>NaN</td>\n",
       "      <td>NaN</td>\n",
       "    </tr>\n",
       "    <tr>\n",
       "      <th>21193</th>\n",
       "      <td>NaN</td>\n",
       "      <td>NaN</td>\n",
       "      <td>NaN</td>\n",
       "      <td>NaN</td>\n",
       "      <td>NaN</td>\n",
       "      <td>NaN</td>\n",
       "      <td>NaN</td>\n",
       "      <td>NaN</td>\n",
       "      <td>NaN</td>\n",
       "      <td>NaN</td>\n",
       "      <td>...</td>\n",
       "      <td>NaN</td>\n",
       "      <td>NaN</td>\n",
       "      <td>NaN</td>\n",
       "      <td>NaN</td>\n",
       "      <td>NaN</td>\n",
       "      <td>NaN</td>\n",
       "      <td>NaN</td>\n",
       "      <td>NaN</td>\n",
       "      <td>NaN</td>\n",
       "      <td>NaN</td>\n",
       "    </tr>\n",
       "  </tbody>\n",
       "</table>\n",
       "<p>21194 rows × 30 columns</p>\n",
       "</div>"
      ],
      "text/plain": [
       "      Bladder  Bladder_gini      Blood  Blood_gini Bone_Marrow  \\\n",
       "0      MT-CO1      0.012860  RF00568-7         0.5         HCK   \n",
       "1      MT-ND4      0.010270    OR10V2P         0.5     TSPAN33   \n",
       "2         VIM      0.009230        NaN         NaN         NaN   \n",
       "3       EPAS1      0.008938        NaN         NaN         NaN   \n",
       "4        MT1E      0.008258        NaN         NaN         NaN   \n",
       "...       ...           ...        ...         ...         ...   \n",
       "21189     NaN           NaN        NaN         NaN         NaN   \n",
       "21190     NaN           NaN        NaN         NaN         NaN   \n",
       "21191     NaN           NaN        NaN         NaN         NaN   \n",
       "21192     NaN           NaN        NaN         NaN         NaN   \n",
       "21193     NaN           NaN        NaN         NaN         NaN   \n",
       "\n",
       "       Bone_Marrow_gini    Kidney  Kidney_gini Large_Intestine  \\\n",
       "0              0.514655       FTL     0.025427          ATP1A1   \n",
       "1              0.485345       VWF     0.023688            FLT1   \n",
       "2                   NaN    MT-CO3     0.021763           ITGA6   \n",
       "3                   NaN  MTATP6P1     0.019144            AQP1   \n",
       "4                   NaN   MT-ATP6     0.018638            RGCC   \n",
       "...                 ...       ...          ...             ...   \n",
       "21189               NaN       NaN          NaN             NaN   \n",
       "21190               NaN       NaN          NaN             NaN   \n",
       "21191               NaN       NaN          NaN             NaN   \n",
       "21192               NaN       NaN          NaN             NaN   \n",
       "21193               NaN       NaN          NaN             NaN   \n",
       "\n",
       "       Large_Intestine_gini  ... Small_Intestine  Small_Intestine_gini  \\\n",
       "0                  0.013115  ...            AQP1              0.021489   \n",
       "1                  0.011921  ...           IFI27              0.013738   \n",
       "2                  0.010755  ...           FABP4              0.012870   \n",
       "3                  0.010728  ...          ADGRL4              0.011118   \n",
       "4                  0.009879  ...           SOCS3              0.011018   \n",
       "...                     ...  ...             ...                   ...   \n",
       "21189                   NaN  ...             NaN                   NaN   \n",
       "21190                   NaN  ...             NaN                   NaN   \n",
       "21191                   NaN  ...             NaN                   NaN   \n",
       "21192                   NaN  ...             NaN                   NaN   \n",
       "21193                   NaN  ...             NaN                   NaN   \n",
       "\n",
       "           Spleen  Spleen_gini  Thymus  Thymus_gini  Trachea  Trachea_gini  \\\n",
       "0           ADAP1     0.635198    CCL2     0.017557   MT-ND3      0.017208   \n",
       "1      AP002856.3     0.364802  HSPA1A     0.017251   MT-CYB      0.014227   \n",
       "2             NaN          NaN  HSPA1B     0.017040  MT-ATP6      0.010763   \n",
       "3             NaN          NaN     GSN     0.015279   MT-ND4      0.010756   \n",
       "4             NaN          NaN   HSPH1     0.015105   MT-CO3      0.010476   \n",
       "...           ...          ...     ...          ...      ...           ...   \n",
       "21189         NaN          NaN     NaN          NaN      NaN           NaN   \n",
       "21190         NaN          NaN     NaN          NaN      NaN           NaN   \n",
       "21191         NaN          NaN     NaN          NaN      NaN           NaN   \n",
       "21192         NaN          NaN     NaN          NaN      NaN           NaN   \n",
       "21193         NaN          NaN     NaN          NaN      NaN           NaN   \n",
       "\n",
       "      Vasculature  Vasculature_gini  \n",
       "0         TSC22D3          0.015491  \n",
       "1            FCN3          0.015239  \n",
       "2          HSPA1A          0.015032  \n",
       "3             FOS          0.014665  \n",
       "4           HSPH1          0.014227  \n",
       "...           ...               ...  \n",
       "21189         NaN               NaN  \n",
       "21190         NaN               NaN  \n",
       "21191         NaN               NaN  \n",
       "21192         NaN               NaN  \n",
       "21193         NaN               NaN  \n",
       "\n",
       "[21194 rows x 30 columns]"
      ]
     },
     "execution_count": 44,
     "metadata": {},
     "output_type": "execute_result"
    }
   ],
   "source": [
    "scrfe_res = pd.read_csv(\"./scRFE/scRFE_all_TFs_ntrees-1000.csv\", index_col=0)\n",
    "scrfe_res = pd.read_csv(\"./scRFE/scRFE_compartment_all-genes_ntrees-1000.csv\", index_col=0)\n",
    "scrfe_res = pd.read_csv(\"./scRFE/scRFE_endot_all_ntrees-1000.csv\", index_col=0)\n",
    "scrfe_res"
   ]
  },
  {
   "cell_type": "code",
   "execution_count": 13,
   "metadata": {},
   "outputs": [
    {
     "data": {
      "text/plain": [
       "Index(['Bladder', 'Bladder_gini', 'Blood', 'Blood_gini', 'Bone_Marrow',\n",
       "       'Bone_Marrow_gini', 'Kidney', 'Kidney_gini', 'Large_Intestine',\n",
       "       'Large_Intestine_gini', 'Lung', 'Lung_gini', 'Lymph_Node',\n",
       "       'Lymph_Node_gini', 'Muscle', 'Muscle_gini', 'Pancreas', 'Pancreas_gini',\n",
       "       'Skin', 'Skin_gini', 'Small_Intestine', 'Small_Intestine_gini',\n",
       "       'Spleen', 'Spleen_gini', 'Thymus', 'Thymus_gini', 'Trachea',\n",
       "       'Trachea_gini', 'Vasculature', 'Vasculature_gini'],\n",
       "      dtype='object')"
      ]
     },
     "execution_count": 13,
     "metadata": {},
     "output_type": "execute_result"
    }
   ],
   "source": [
    "scrfe_res.columns"
   ]
  },
  {
   "cell_type": "code",
   "execution_count": 14,
   "metadata": {},
   "outputs": [],
   "source": [
    "import seaborn as sns\n",
    "import numpy as np"
   ]
  },
  {
   "cell_type": "code",
   "execution_count": 49,
   "metadata": {
    "scrolled": false
   },
   "outputs": [
    {
     "name": "stdout",
     "output_type": "stream",
     "text": [
      "Spleen\n",
      "Bladder\n",
      "Vasculature\n",
      "Large_Intestine\n",
      "Thymus\n",
      "Pancreas\n",
      "Muscle\n",
      "Skin\n",
      "Lung\n",
      "Small_Intestine\n",
      "Kidney\n"
     ]
    },
    {
     "data": {
      "image/png": "[encoded data removed]",
      "text/plain": [
       "<Figure size 1152x864 with 11 Axes>"
      ]
     },
     "metadata": {
      "needs_background": "light"
     },
     "output_type": "display_data"
    }
   ],
   "source": [
    "\n",
    "tisslist = ['Bladder', 'Kidney', 'Large_Intestine', 'Lung', 'Muscle', 'Pancreas','Skin', 'Small_Intestine','Spleen','Thymus','Vasculature']\n",
    "\n",
    "l = np.int(len(scrfe_res.columns)/2)\n",
    "l = len(tisslist)\n",
    "nrows = np.int(np.ceil(l/2))\n",
    "fig,axs = plt.subplots(2,nrows, figsize=(16,12));\n",
    "i=0\n",
    "j=0\n",
    "\n",
    "for c,a in zip(set(tisslist),axs.flatten()):\n",
    "# for i in range(0,len(scrfe_res.columns),2):\n",
    "    print(c)\n",
    "    d = c + \"_gini\"\n",
    "    df = scrfe_res.iloc[:20][[c,d]]#.reset_index()\n",
    "    \n",
    "#     df = scrfe_res.iloc[:20,[i,i+1]]#.reset_index()\n",
    "#     print(df)\n",
    "    sns.pointplot(data=df, y = df.columns[0], x = df.columns[1],ax=axs.flatten()[j],palette='YlGnBu', height=4, aspect=1)\n",
    "    axs.flatten()[j].set_title(df.columns[1])\n",
    "    axs.flatten()[j].set(xlabel=\"Mean decrease gini (%)\", ylabel=\"\");\n",
    "#     plt.close(plt.gcf())\n",
    "#     i=i+2\n",
    "    j = j+1\n",
    "    \n",
    "if nrows*2>l:\n",
    "    empty_ax = nrows*2-l\n",
    "    for i in range(l,l+empty_ax):\n",
    "        fig.delaxes(axs.flatten()[i])\n",
    "plt.tight_layout()\n",
    "# plt.savefig(\"scRFE/figures/compartment_scRFE_1000.pdf\")\n",
    "plt.savefig(\"scRFE/figures/tissue_endot_scRFE_1000.png\")\n"
   ]
  },
  {
   "cell_type": "code",
   "execution_count": 16,
   "metadata": {
    "scrolled": false
   },
   "outputs": [
    {
     "name": "stdout",
     "output_type": "stream",
     "text": [
      "Large_Intestine\n",
      "Spleen\n",
      "Muscle\n",
      "Skin\n",
      "Bone_Marrow\n",
      "Small_Intestine\n",
      "Vasculature\n",
      "Trachea\n",
      "Blood\n",
      "Lung\n",
      "Thymus\n",
      "Bladder\n",
      "Kidney\n",
      "Lymph_Node\n",
      "Pancreas\n"
     ]
    }
   ],
   "source": [
    "sns.set(font_scale=.75) \n",
    "\n",
    "for t in list(tiss_scRFE_res.keys()):\n",
    "    print(t)\n",
    "    tiss_df = tiss_scRFE_summary[tiss_scRFE_summary['tissue']==t].reset_index()\n",
    "    \n",
    "    l = len(set(tiss_df['cell_type']))\n",
    "    nrows = np.int(np.ceil(l/4))\n",
    "    \n",
    "    fig,ax = plt.subplots(nrows,4, figsize=(16,16));\n",
    "    \n",
    "    for c,a in zip(set(tiss_df['cell_type']),ax.flatten()):\n",
    "        \n",
    "        df = tiss_df[tiss_df['cell_type']==c]\n",
    "        sns.catplot(data=df, x = \"gini_score\",y=\"marker_gene\",ax=a,palette='YlGnBu', height=6, aspect=2)\n",
    "        a.set_title(c)\n",
    "        a.set(xlabel=\"Mean decrease gini (%)\", ylabel=\"\");\n",
    "        plt.close(plt.gcf())\n",
    "    \n",
    "    if nrows*4>l:\n",
    "        empty_ax = nrows*4-l\n",
    "        for i in range(l,l+empty_ax):\n",
    "            fig.delaxes(ax.flatten()[i])\n",
    "        \n",
    "    plt.tight_layout()\n",
    "    plt.savefig(\"scRFE/figures/ts_scRFE_1000_\"+t+\".pdf\")\n",
    "    plt.savefig(\"scRFE/figures/ts_scRFE_1000_\"+t+\".png\")\n",
    "    \n",
    "    \n"
   ]
  },
  {
   "cell_type": "code",
   "execution_count": 17,
   "metadata": {},
   "outputs": [
    {
     "data": {
      "text/plain": [
       "162"
      ]
     },
     "execution_count": 17,
     "metadata": {},
     "output_type": "execute_result"
    }
   ],
   "source": [
    "sum(tiss_scRFE_summary['marker_gene'].isna())"
   ]
  },
  {
   "cell_type": "code",
   "execution_count": 112,
   "metadata": {},
   "outputs": [
    {
     "data": {
      "text/plain": [
       "Index(['B cell', 'B cell_gini', 'T cell', 'T cell_gini', 'endothelial cell',\n",
       "       'endothelial cell_gini', 'endothelial cell of artery',\n",
       "       'endothelial cell of artery_gini', 'epithelial cell',\n",
       "       'epithelial cell_gini', 'erythrocyte', 'erythrocyte_gini', 'fibroblast',\n",
       "       'fibroblast_gini', 'macrophage', 'macrophage_gini', 'mast cell',\n",
       "       'mast cell_gini', 'pericyte cell', 'pericyte cell_gini', 'plasma cell',\n",
       "       'plasma cell_gini', 'smooth muscle cell', 'smooth muscle cell_gini',\n",
       "       'unassigned', 'unassigned_gini'],\n",
       "      dtype='object')"
      ]
     },
     "execution_count": 112,
     "metadata": {},
     "output_type": "execute_result"
    }
   ],
   "source": [
    "tiss_scRFE_res['Vasculature'].columns"
   ]
  },
  {
   "cell_type": "code",
   "execution_count": 19,
   "metadata": {},
   "outputs": [
    {
     "data": {
      "text/html": [
       "<div>\n",
       "<style scoped>\n",
       "    .dataframe tbody tr th:only-of-type {\n",
       "        vertical-align: middle;\n",
       "    }\n",
       "\n",
       "    .dataframe tbody tr th {\n",
       "        vertical-align: top;\n",
       "    }\n",
       "\n",
       "    .dataframe thead th {\n",
       "        text-align: right;\n",
       "    }\n",
       "</style>\n",
       "<table border=\"1\" class=\"dataframe\">\n",
       "  <thead>\n",
       "    <tr style=\"text-align: right;\">\n",
       "      <th></th>\n",
       "      <th>marker_gene</th>\n",
       "      <th>gini_score</th>\n",
       "      <th>cell_type</th>\n",
       "      <th>tissue</th>\n",
       "    </tr>\n",
       "  </thead>\n",
       "  <tbody>\n",
       "    <tr>\n",
       "      <th>0</th>\n",
       "      <td>HMGB1</td>\n",
       "      <td>10.449080</td>\n",
       "      <td>B cell</td>\n",
       "      <td>Large_Intestine</td>\n",
       "    </tr>\n",
       "    <tr>\n",
       "      <th>1</th>\n",
       "      <td>TSC22D3</td>\n",
       "      <td>6.573442</td>\n",
       "      <td>B cell</td>\n",
       "      <td>Large_Intestine</td>\n",
       "    </tr>\n",
       "    <tr>\n",
       "      <th>2</th>\n",
       "      <td>JUND</td>\n",
       "      <td>5.369203</td>\n",
       "      <td>B cell</td>\n",
       "      <td>Large_Intestine</td>\n",
       "    </tr>\n",
       "    <tr>\n",
       "      <th>3</th>\n",
       "      <td>ELF3</td>\n",
       "      <td>4.879120</td>\n",
       "      <td>B cell</td>\n",
       "      <td>Large_Intestine</td>\n",
       "    </tr>\n",
       "    <tr>\n",
       "      <th>4</th>\n",
       "      <td>KLF4</td>\n",
       "      <td>4.390178</td>\n",
       "      <td>B cell</td>\n",
       "      <td>Large_Intestine</td>\n",
       "    </tr>\n",
       "    <tr>\n",
       "      <th>...</th>\n",
       "      <td>...</td>\n",
       "      <td>...</td>\n",
       "      <td>...</td>\n",
       "      <td>...</td>\n",
       "    </tr>\n",
       "    <tr>\n",
       "      <th>4655</th>\n",
       "      <td>ID2</td>\n",
       "      <td>1.697393</td>\n",
       "      <td>type B pancreatic cell</td>\n",
       "      <td>Pancreas</td>\n",
       "    </tr>\n",
       "    <tr>\n",
       "      <th>4656</th>\n",
       "      <td>MEIS2</td>\n",
       "      <td>1.553526</td>\n",
       "      <td>type B pancreatic cell</td>\n",
       "      <td>Pancreas</td>\n",
       "    </tr>\n",
       "    <tr>\n",
       "      <th>4657</th>\n",
       "      <td>FOS</td>\n",
       "      <td>1.419384</td>\n",
       "      <td>type B pancreatic cell</td>\n",
       "      <td>Pancreas</td>\n",
       "    </tr>\n",
       "    <tr>\n",
       "      <th>4658</th>\n",
       "      <td>NFIB</td>\n",
       "      <td>1.069121</td>\n",
       "      <td>type B pancreatic cell</td>\n",
       "      <td>Pancreas</td>\n",
       "    </tr>\n",
       "    <tr>\n",
       "      <th>4659</th>\n",
       "      <td>JUND</td>\n",
       "      <td>1.031906</td>\n",
       "      <td>type B pancreatic cell</td>\n",
       "      <td>Pancreas</td>\n",
       "    </tr>\n",
       "  </tbody>\n",
       "</table>\n",
       "<p>4660 rows × 4 columns</p>\n",
       "</div>"
      ],
      "text/plain": [
       "     marker_gene  gini_score               cell_type           tissue\n",
       "0          HMGB1   10.449080                  B cell  Large_Intestine\n",
       "1        TSC22D3    6.573442                  B cell  Large_Intestine\n",
       "2           JUND    5.369203                  B cell  Large_Intestine\n",
       "3           ELF3    4.879120                  B cell  Large_Intestine\n",
       "4           KLF4    4.390178                  B cell  Large_Intestine\n",
       "...          ...         ...                     ...              ...\n",
       "4655         ID2    1.697393  type B pancreatic cell         Pancreas\n",
       "4656       MEIS2    1.553526  type B pancreatic cell         Pancreas\n",
       "4657         FOS    1.419384  type B pancreatic cell         Pancreas\n",
       "4658        NFIB    1.069121  type B pancreatic cell         Pancreas\n",
       "4659        JUND    1.031906  type B pancreatic cell         Pancreas\n",
       "\n",
       "[4660 rows x 4 columns]"
      ]
     },
     "execution_count": 19,
     "metadata": {},
     "output_type": "execute_result"
    }
   ],
   "source": [
    "tiss_scRFE_summary#_res['Vasculature']"
   ]
  },
  {
   "cell_type": "code",
   "execution_count": 23,
   "metadata": {},
   "outputs": [
    {
     "data": {
      "text/plain": [
       "<seaborn.axisgrid.FacetGrid at 0x7f9d3d7495d0>"
      ]
     },
     "execution_count": 23,
     "metadata": {},
     "output_type": "execute_result"
    },
    {
     "data": {
      "image/png": "[encoded data removed]",
      "text/plain": [
       "<Figure size 360x360 with 1 Axes>"
      ]
     },
     "metadata": {
      "needs_background": "light"
     },
     "output_type": "display_data"
    }
   ],
   "source": [
    "df = tiss_scRFE_res['Vasculature'][['macrophage', 'macrophage_gini']]\n",
    "df.columns = ['cell_type_markers','cell_type_markers_gini']\n",
    "df = df.iloc[:20]\n",
    "df['cell_type_markers_gini'] = df['cell_type_markers_gini']*100 \n",
    "sns.catplot(data =df, y = 'cell_type_markers', x = 'cell_type_markers_gini')"
   ]
  },
  {
   "cell_type": "code",
   "execution_count": 22,
   "metadata": {},
   "outputs": [
    {
     "data": {
      "text/plain": [
       "<seaborn.axisgrid.FacetGrid at 0x7f9d3d7c79d0>"
      ]
     },
     "execution_count": 22,
     "metadata": {},
     "output_type": "execute_result"
    },
    {
     "data": {
      "image/png": "[encoded data removed]",
      "text/plain": [
       "<Figure size 360x360 with 1 Axes>"
      ]
     },
     "metadata": {
      "needs_background": "light"
     },
     "output_type": "display_data"
    }
   ],
   "source": [
    "df = tiss_scRFE_res['Lung'][['macrophage', 'macrophage_gini']]\n",
    "df.columns = ['cell_type_markers','cell_type_markers_gini']\n",
    "df = df.iloc[:20]\n",
    "df['cell_type_markers_gini'] = df['cell_type_markers_gini']*100 \n",
    "sns.catplot(data =df, y = 'cell_type_markers', x = 'cell_type_markers_gini')"
   ]
  },
  {
   "cell_type": "code",
   "execution_count": 94,
   "metadata": {},
   "outputs": [
    {
     "data": {
      "text/plain": [
       "0        TBX2\n",
       "1       NR2F2\n",
       "2        ELK3\n",
       "3        KLF4\n",
       "4      ZNF331\n",
       "5        HES4\n",
       "6     ZFP36L2\n",
       "7       NR4A1\n",
       "8        JDP2\n",
       "9        ELF1\n",
       "10       ATF3\n",
       "11      FOXO3\n",
       "12      FOXO1\n",
       "13       SOX7\n",
       "14      HMGA1\n",
       "15      FOXC2\n",
       "16     PLAGL1\n",
       "17       SUB1\n",
       "18       JUNB\n",
       "19    TSC22D3\n",
       "Name: smooth muscle cell, dtype: object"
      ]
     },
     "execution_count": 94,
     "metadata": {},
     "output_type": "execute_result"
    }
   ],
   "source": [
    "tiss_scRFE_res['Muscle']['smooth muscle cell'][:20]"
   ]
  },
  {
   "cell_type": "code",
   "execution_count": 87,
   "metadata": {},
   "outputs": [
    {
     "data": {
      "text/plain": [
       "0       NR2F2\n",
       "1         ID4\n",
       "2        HES4\n",
       "3     TSC22D1\n",
       "4       FOXC1\n",
       "5       EPAS1\n",
       "6        TBX2\n",
       "7        HEYL\n",
       "8        JUNB\n",
       "9     ZFP36L2\n",
       "10      MEF2C\n",
       "11      TSHZ2\n",
       "12      CEBPD\n",
       "13       YBX3\n",
       "14      FOXC2\n",
       "15       HEY2\n",
       "16        ID1\n",
       "17       EBF1\n",
       "18       KLF2\n",
       "19       KLF9\n",
       "Name: vascular associated smooth muscle cell, dtype: object"
      ]
     },
     "execution_count": 87,
     "metadata": {},
     "output_type": "execute_result"
    }
   ],
   "source": [
    "tiss_scRFE_res['Bladder']['vascular associated smooth muscle cell'][:20]"
   ]
  },
  {
   "cell_type": "code",
   "execution_count": 82,
   "metadata": {},
   "outputs": [
    {
     "data": {
      "text/plain": [
       "0       NR2F2\n",
       "1       PRRX1\n",
       "2        TBX2\n",
       "3     ZFP36L2\n",
       "4        HES4\n",
       "5       EPAS1\n",
       "6        ZEB2\n",
       "7     TSC22D3\n",
       "8     TSC22D1\n",
       "9        EBF2\n",
       "10        ID4\n",
       "11      ZFHX3\n",
       "12       NFIB\n",
       "13       EBF1\n",
       "14      IKZF1\n",
       "15       EGR1\n",
       "16      CEBPD\n",
       "17       YBX3\n",
       "18      IKZF3\n",
       "19     NFATC4\n",
       "Name: vascular associated smooth muscle cell, dtype: object"
      ]
     },
     "execution_count": 82,
     "metadata": {},
     "output_type": "execute_result"
    }
   ],
   "source": [
    "tiss_scRFE['vascular associated smooth muscle cell'][:20]"
   ]
  },
  {
   "cell_type": "code",
   "execution_count": 84,
   "metadata": {},
   "outputs": [
    {
     "data": {
      "text/plain": [
       "0       EPAS1\n",
       "1       SOX18\n",
       "2         ID1\n",
       "3        NFIB\n",
       "4       HIF3A\n",
       "5       IKZF1\n",
       "6     TSC22D3\n",
       "7         ERG\n",
       "8         ID3\n",
       "9        ETS2\n",
       "10       TCF4\n",
       "11      SOX17\n",
       "12      CEBPD\n",
       "13      IKZF3\n",
       "14       KLF4\n",
       "15      ATOH8\n",
       "16     BCL11B\n",
       "17       ZEB2\n",
       "18      NR4A2\n",
       "19      PRRX1\n",
       "Name: endothelial cell, dtype: object"
      ]
     },
     "execution_count": 84,
     "metadata": {},
     "output_type": "execute_result"
    }
   ],
   "source": [
    "tiss_scRFE['endothelial cell'][:20]"
   ]
  },
  {
   "cell_type": "code",
   "execution_count": 86,
   "metadata": {},
   "outputs": [
    {
     "data": {
      "text/plain": [
       "'Blood'"
      ]
     },
     "execution_count": 86,
     "metadata": {},
     "output_type": "execute_result"
    }
   ],
   "source": [
    "t"
   ]
  },
  {
   "cell_type": "code",
   "execution_count": null,
   "metadata": {},
   "outputs": [],
   "source": []
  }
 ],
 "metadata": {
  "kernelspec": {
   "display_name": "Python 3",
   "language": "python",
   "name": "python3"
  },
  "language_info": {
   "codemirror_mode": {
    "name": "ipython",
    "version": 3
   },
   "file_extension": ".py",
   "mimetype": "text/x-python",
   "name": "python",
   "nbconvert_exporter": "python",
   "pygments_lexer": "ipython3",
   "version": "3.7.4"
  },
  "toc": {
   "base_numbering": 1,
   "nav_menu": {},
   "number_sections": true,
   "sideBar": true,
   "skip_h1_title": false,
   "title_cell": "Table of Contents",
   "title_sidebar": "Contents",
   "toc_cell": false,
   "toc_position": {},
   "toc_section_display": true,
   "toc_window_display": true
  }
 },
 "nbformat": 4,
 "nbformat_minor": 2
}
