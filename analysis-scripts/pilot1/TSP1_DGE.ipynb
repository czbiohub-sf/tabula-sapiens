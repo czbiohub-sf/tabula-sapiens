{
 "cells": [
  {
   "cell_type": "markdown",
   "metadata": {
    "heading_collapsed": true
   },
   "source": [
    "# Import packages"
   ]
  },
  {
   "cell_type": "code",
   "execution_count": 1,
   "metadata": {
    "hidden": true
   },
   "outputs": [
    {
     "name": "stderr",
     "output_type": "stream",
     "text": [
      "[2020-02-28 11:22:20,013] INFO - scvi._settings | Added StreamHandler with custom formatter to 'scvi' logger.\n"
     ]
    },
    {
     "name": "stdout",
     "output_type": "stream",
     "text": [
      "0.5.0\n",
      "scanpy==1.4.5.post2 anndata==0.6.22.post1 umap==0.3.10 numpy==1.17.2 scipy==1.3.1 pandas==0.25.1 scikit-learn==0.21.3 statsmodels==0.10.1 python-igraph==0.7.1 louvain==0.6.1\n"
     ]
    }
   ],
   "source": [
    "import pandas as pd\n",
    "import numpy as np\n",
    "import os\n",
    "from anndata import read_h5ad\n",
    "from sklearn.neighbors import NearestNeighbors\n",
    "\n",
    "\n",
    "import warnings\n",
    "warnings.filterwarnings('ignore')\n",
    "import sys\n",
    "\n",
    "# sys.path.append('/data/yosef2/users/chenling/scVI/')\n",
    "sys.path.append('../../utils/')\n",
    "from annotations_utils import *\n",
    "import scvi\n",
    "print(scvi.__version__)\n",
    "\n",
    "import os\n",
    "os.getcwd()\n",
    "\n",
    "import logging\n",
    "import os\n",
    "import pickle\n",
    "from MulticoreTSNE import MulticoreTSNE as TSNE\n",
    "\n",
    "import matplotlib.pyplot as plt\n",
    "import numpy as np\n",
    "import pandas as pd\n",
    "import torch\n",
    "from hyperopt import hp\n",
    "\n",
    "from scvi.inference import UnsupervisedTrainer, AlternateSemiSupervisedTrainer, SemiSupervisedTrainer\n",
    "from scvi.models import VAE, SCANVI\n",
    "from copy import deepcopy\n",
    "\n",
    "from scvi.dataset.anndataset import AnnDatasetFromAnnData\n",
    "\n",
    "import scanpy as sc\n",
    "sc.settings.verbosity = 3  # verbosity: errors (0), warnings (1), info (2), hints (3)\n",
    "\n",
    "from anndata import read_h5ad\n",
    "from anndata import AnnData\n",
    "\n",
    "import matplotlib\n",
    "\n",
    "matplotlib.rcParams['pdf.fonttype'] = 42\n",
    "matplotlib.rcParams['ps.fonttype'] = 42\n",
    "%matplotlib inline\n",
    "\n",
    "n_epochs = 150\n",
    "show_plot = True\n",
    "test_mode = False\n",
    "use_batches = True\n",
    "use_cuda = True\n",
    "lr = 1e-3\n",
    "retrain=True\n",
    "\n",
    "\n",
    "sc.logging.print_versions()"
   ]
  },
  {
   "cell_type": "markdown",
   "metadata": {},
   "source": [
    "# Load data"
   ]
  },
  {
   "cell_type": "code",
   "execution_count": 2,
   "metadata": {},
   "outputs": [],
   "source": [
    "data_path = '../../data-objs/pilot1/TSP1_objs_browser/'"
   ]
  },
  {
   "cell_type": "code",
   "execution_count": 9,
   "metadata": {},
   "outputs": [
    {
     "data": {
      "text/plain": [
       "['../../data-objs/pilot1/TSP1_objs_browser/TSP1_blood_endothelial.h5ad',\n",
       " '../../data-objs/pilot1/TSP1_objs_browser/TSP1_all_immune.h5ad',\n",
       " '../../data-objs/pilot1/TSP1_objs_browser/TSP1_all_endothelial.h5ad',\n",
       " '../../data-objs/pilot1/TSP1_objs_browser/TSP1_lung_epithelial.h5ad',\n",
       " '../../data-objs/pilot1/TSP1_objs_browser/TSP1_lung_mixed.h5ad',\n",
       " '../../data-objs/pilot1/TSP1_objs_browser/TSP1_bladder.h5ad',\n",
       " '../../data-objs/pilot1/TSP1_objs_browser/TSP1_all_mixed.h5ad',\n",
       " '../../data-objs/pilot1/TSP1_objs_browser/TSP1_blood_mixed.h5ad',\n",
       " '../../data-objs/pilot1/TSP1_objs_browser/TSP1_pancreas_endothelial.h5ad',\n",
       " '../../data-objs/pilot1/TSP1_objs_browser/TSP1_muscle_immune.h5ad',\n",
       " '../../data-objs/pilot1/TSP1_objs_browser/TSP1_lung_stromal.h5ad',\n",
       " '../../data-objs/pilot1/TSP1_objs_browser/TSP1_blood.h5ad',\n",
       " '../../data-objs/pilot1/TSP1_objs_browser/TSP1_muscle_endothelial.h5ad',\n",
       " '../../data-objs/pilot1/TSP1_objs_browser/TSP1_all_epithelial.h5ad',\n",
       " '../../data-objs/pilot1/TSP1_objs_browser/TSP1_blood_epithelial.h5ad',\n",
       " '../../data-objs/pilot1/TSP1_objs_browser/TSP1_muscle_mixed.h5ad',\n",
       " '../../data-objs/pilot1/TSP1_objs_browser/TSP1_muscle_epithelial.h5ad',\n",
       " '../../data-objs/pilot1/TSP1_objs_browser/TSP1_pancreas_immune.h5ad',\n",
       " '../../data-objs/pilot1/TSP1_objs_browser/TSP1_bladder_mixed.h5ad',\n",
       " '../../data-objs/pilot1/TSP1_objs_browser/TSP1_pancreas_epithelial.h5ad',\n",
       " '../../data-objs/pilot1/TSP1_objs_browser/TSP1_pancreas_stromal.h5ad',\n",
       " '../../data-objs/pilot1/TSP1_objs_browser/TSP1_lung_immune.h5ad',\n",
       " '../../data-objs/pilot1/TSP1_objs_browser/TSP1_bladder_immune.h5ad',\n",
       " '../../data-objs/pilot1/TSP1_objs_browser/TSP1_pancreas.h5ad',\n",
       " '../../data-objs/pilot1/TSP1_objs_browser/TSP1_bladder_stromal.h5ad',\n",
       " '../../data-objs/pilot1/TSP1_objs_browser/TSP1_blood_immune.h5ad',\n",
       " '../../data-objs/pilot1/TSP1_objs_browser/TSP1_bladder_endothelial.h5ad',\n",
       " '../../data-objs/pilot1/TSP1_objs_browser/TSP1_all.h5ad',\n",
       " '../../data-objs/pilot1/TSP1_objs_browser/TSP1_lung_endothelial.h5ad',\n",
       " '../../data-objs/pilot1/TSP1_objs_browser/TSP1_pancreas_mixed.h5ad',\n",
       " '../../data-objs/pilot1/TSP1_objs_browser/TSP1_bladder_epithelial.h5ad',\n",
       " '../../data-objs/pilot1/TSP1_objs_browser/TSP1_all_stromal.h5ad',\n",
       " '../../data-objs/pilot1/TSP1_objs_browser/TSP1_lung.h5ad',\n",
       " '../../data-objs/pilot1/TSP1_objs_browser/TSP1_muscle.h5ad',\n",
       " '../../data-objs/pilot1/TSP1_objs_browser/TSP1_muscle_stromal.h5ad']"
      ]
     },
     "execution_count": 9,
     "metadata": {},
     "output_type": "execute_result"
    }
   ],
   "source": [
    "import glob\n",
    "obj_list = glob.glob(data_path+'*.h5ad')\n",
    "obj_list"
   ]
  },
  {
   "cell_type": "code",
   "execution_count": 8,
   "metadata": {
    "scrolled": true
   },
   "outputs": [
    {
     "data": {
      "text/plain": [
       "['.ipynb_checkpoints', 'TSP1_blood_endothelial.h5ad']"
      ]
     },
     "execution_count": 8,
     "metadata": {},
     "output_type": "execute_result"
    }
   ],
   "source": [
    "import os\n",
    "os.listdir(data_path)[:2]"
   ]
  },
  {
   "cell_type": "markdown",
   "metadata": {},
   "source": [
    "# Write objs for browser"
   ]
  },
  {
   "cell_type": "code",
   "execution_count": 7,
   "metadata": {},
   "outputs": [
    {
     "name": "stderr",
     "output_type": "stream",
     "text": [
      "... storing 'compartment_prediction' as categorical\n",
      "... storing 'method' as categorical\n",
      "... storing 'subtissue' as categorical\n",
      "... storing 'tissue' as categorical\n"
     ]
    }
   ],
   "source": [
    "adata.write('../../data-objs/pilot1/TSP1_objs_browser/TSP1_all.h5ad')"
   ]
  },
  {
   "cell_type": "markdown",
   "metadata": {
    "heading_collapsed": true
   },
   "source": [
    "## Write compartment objs"
   ]
  },
  {
   "cell_type": "code",
   "execution_count": 8,
   "metadata": {
    "hidden": true,
    "scrolled": false
   },
   "outputs": [
    {
     "name": "stdout",
     "output_type": "stream",
     "text": [
      "computing PCA with n_comps = 50\n",
      "    finished (0:00:10)\n",
      "computing neighbors\n",
      "    finished: added to `.uns['neighbors']`\n",
      "    'distances', distances for each pair of neighbors\n",
      "    'connectivities', weighted adjacency matrix (0:00:09)\n",
      "computing UMAP\n",
      "    finished: added\n",
      "    'X_umap', UMAP coordinates (adata.obsm) (0:00:33)\n",
      "running Leiden clustering\n",
      "    finished: found 35 clusters and added\n",
      "    'leiden', the cluster labels (adata.obs, categorical) (0:00:18)\n",
      "computing tSNE\n",
      "    using the 'MulticoreTSNE' package by Ulyanov (2017)\n",
      "    finished: added\n",
      "    'X_tsne', tSNE coordinates (adata.obsm) (0:03:15)\n",
      "computing PCA with n_comps = 50\n",
      "    finished (0:00:02)\n",
      "computing neighbors\n",
      "    finished: added to `.uns['neighbors']`\n",
      "    'distances', distances for each pair of neighbors\n",
      "    'connectivities', weighted adjacency matrix (0:00:02)\n",
      "computing UMAP\n",
      "    finished: added\n",
      "    'X_umap', UMAP coordinates (adata.obsm) (0:00:17)\n",
      "running Leiden clustering\n",
      "    finished: found 26 clusters and added\n",
      "    'leiden', the cluster labels (adata.obs, categorical) (0:00:01)\n",
      "computing tSNE\n",
      "    using the 'MulticoreTSNE' package by Ulyanov (2017)\n",
      "    finished: added\n",
      "    'X_tsne', tSNE coordinates (adata.obsm) (0:00:31)\n",
      "computing PCA with n_comps = 50\n",
      "    finished (0:00:01)\n",
      "computing neighbors\n",
      "    finished: added to `.uns['neighbors']`\n",
      "    'distances', distances for each pair of neighbors\n",
      "    'connectivities', weighted adjacency matrix (0:00:00)\n",
      "computing UMAP\n",
      "    finished: added\n",
      "    'X_umap', UMAP coordinates (adata.obsm) (0:00:11)\n",
      "running Leiden clustering\n",
      "    finished: found 17 clusters and added\n",
      "    'leiden', the cluster labels (adata.obs, categorical) (0:00:00)\n",
      "computing tSNE\n",
      "    using the 'MulticoreTSNE' package by Ulyanov (2017)\n",
      "    finished: added\n",
      "    'X_tsne', tSNE coordinates (adata.obsm) (0:00:20)\n",
      "computing PCA with n_comps = 50\n",
      "    finished (0:00:02)\n",
      "computing neighbors\n",
      "    finished: added to `.uns['neighbors']`\n",
      "    'distances', distances for each pair of neighbors\n",
      "    'connectivities', weighted adjacency matrix (0:00:01)\n",
      "computing UMAP\n",
      "    finished: added\n",
      "    'X_umap', UMAP coordinates (adata.obsm) (0:00:18)\n",
      "running Leiden clustering\n",
      "    finished: found 19 clusters and added\n",
      "    'leiden', the cluster labels (adata.obs, categorical) (0:00:02)\n",
      "computing tSNE\n",
      "    using the 'MulticoreTSNE' package by Ulyanov (2017)\n",
      "    finished: added\n",
      "    'X_tsne', tSNE coordinates (adata.obsm) (0:00:34)\n",
      "computing PCA with n_comps = 50\n",
      "    finished (0:00:04)\n",
      "computing neighbors\n",
      "    finished: added to `.uns['neighbors']`\n",
      "    'distances', distances for each pair of neighbors\n",
      "    'connectivities', weighted adjacency matrix (0:00:03)\n",
      "computing UMAP\n",
      "    finished: added\n",
      "    'X_umap', UMAP coordinates (adata.obsm) (0:00:12)\n",
      "running Leiden clustering\n",
      "    finished: found 29 clusters and added\n",
      "    'leiden', the cluster labels (adata.obs, categorical) (0:00:02)\n",
      "computing tSNE\n",
      "    using the 'MulticoreTSNE' package by Ulyanov (2017)\n",
      "    finished: added\n",
      "    'X_tsne', tSNE coordinates (adata.obsm) (0:01:02)\n"
     ]
    }
   ],
   "source": [
    "for c in list(set(adata.obs['compartment_prediction'])):\n",
    "    adata_comp = adata[adata.obs['compartment_prediction']==c].copy()\n",
    "    \n",
    "    if adata_comp.shape[0]>0:\n",
    "        sc.pp.pca(adata_comp)\n",
    "        sc.pp.neighbors(adata_comp, n_neighbors=20, n_pcs=30, use_rep=\"X_scvi\")\n",
    "        sc.tl.umap(adata_comp)\n",
    "        sc.tl.leiden(adata_comp)\n",
    "        sc.tl.tsne(adata_comp, use_rep = 'X_scvi')\n",
    "        adata_comp.write_h5ad('../../data-objs/pilot1/TSP1_objs_browser/TSP1_all_'+c+'.h5ad')\n",
    "    else:\n",
    "        print(\"there is no cells to put in \"+c)"
   ]
  },
  {
   "cell_type": "markdown",
   "metadata": {
    "heading_collapsed": true
   },
   "source": [
    "## Write tissue objs"
   ]
  },
  {
   "cell_type": "code",
   "execution_count": 9,
   "metadata": {
    "hidden": true
   },
   "outputs": [
    {
     "name": "stdout",
     "output_type": "stream",
     "text": [
      "computing PCA with n_comps = 50\n",
      "    finished (0:00:07)\n",
      "computing neighbors\n",
      "    finished: added to `.uns['neighbors']`\n",
      "    'distances', distances for each pair of neighbors\n",
      "    'connectivities', weighted adjacency matrix (0:00:04)\n",
      "computing UMAP\n",
      "    finished: added\n",
      "    'X_umap', UMAP coordinates (adata.obsm) (0:00:18)\n",
      "running Leiden clustering\n",
      "    finished: found 36 clusters and added\n",
      "    'leiden', the cluster labels (adata.obs, categorical) (0:00:06)\n",
      "computing tSNE\n",
      "    using the 'MulticoreTSNE' package by Ulyanov (2017)\n",
      "    finished: added\n",
      "    'X_tsne', tSNE coordinates (adata.obsm) (0:01:51)\n",
      "computing PCA with n_comps = 50\n",
      "    finished (0:00:02)\n",
      "computing neighbors\n",
      "    finished: added to `.uns['neighbors']`\n",
      "    'distances', distances for each pair of neighbors\n",
      "    'connectivities', weighted adjacency matrix (0:00:01)\n",
      "computing UMAP\n",
      "    finished: added\n",
      "    'X_umap', UMAP coordinates (adata.obsm) (0:00:16)\n",
      "running Leiden clustering\n",
      "    finished: found 26 clusters and added\n",
      "    'leiden', the cluster labels (adata.obs, categorical) (0:00:00)\n",
      "computing tSNE\n",
      "    using the 'MulticoreTSNE' package by Ulyanov (2017)\n",
      "    finished: added\n",
      "    'X_tsne', tSNE coordinates (adata.obsm) (0:00:32)\n",
      "computing PCA with n_comps = 50\n",
      "    finished (0:00:06)\n",
      "computing neighbors\n",
      "    finished: added to `.uns['neighbors']`\n",
      "    'distances', distances for each pair of neighbors\n",
      "    'connectivities', weighted adjacency matrix (0:00:04)\n",
      "computing UMAP\n",
      "    finished: added\n",
      "    'X_umap', UMAP coordinates (adata.obsm) (0:00:16)\n",
      "running Leiden clustering\n",
      "    finished: found 32 clusters and added\n",
      "    'leiden', the cluster labels (adata.obs, categorical) (0:00:04)\n",
      "computing tSNE\n",
      "    using the 'MulticoreTSNE' package by Ulyanov (2017)\n",
      "    finished: added\n",
      "    'X_tsne', tSNE coordinates (adata.obsm) (0:01:44)\n",
      "computing PCA with n_comps = 50\n",
      "    finished (0:00:03)\n",
      "computing neighbors\n",
      "    finished: added to `.uns['neighbors']`\n",
      "    'distances', distances for each pair of neighbors\n",
      "    'connectivities', weighted adjacency matrix (0:00:02)\n",
      "computing UMAP\n",
      "    finished: added\n",
      "    'X_umap', UMAP coordinates (adata.obsm) (0:00:21)\n",
      "running Leiden clustering\n",
      "    finished: found 20 clusters and added\n",
      "    'leiden', the cluster labels (adata.obs, categorical) (0:00:03)\n",
      "computing tSNE\n",
      "    using the 'MulticoreTSNE' package by Ulyanov (2017)\n",
      "    finished: added\n",
      "    'X_tsne', tSNE coordinates (adata.obsm) (0:00:44)\n",
      "computing PCA with n_comps = 50\n",
      "    finished (0:00:04)\n",
      "computing neighbors\n",
      "    finished: added to `.uns['neighbors']`\n",
      "    'distances', distances for each pair of neighbors\n",
      "    'connectivities', weighted adjacency matrix (0:00:02)\n",
      "computing UMAP\n",
      "    finished: added\n",
      "    'X_umap', UMAP coordinates (adata.obsm) (0:00:11)\n",
      "running Leiden clustering\n",
      "    finished: found 25 clusters and added\n",
      "    'leiden', the cluster labels (adata.obs, categorical) (0:00:02)\n",
      "computing tSNE\n",
      "    using the 'MulticoreTSNE' package by Ulyanov (2017)\n",
      "    finished: added\n",
      "    'X_tsne', tSNE coordinates (adata.obsm) (0:00:59)\n"
     ]
    }
   ],
   "source": [
    "for t in list(set(adata.obs['tissue'])):\n",
    "    adata_tiss = adata[adata.obs['tissue']==t].copy()\n",
    "    \n",
    "    if adata_tiss.shape[0]>0:\n",
    "        sc.pp.pca(adata_tiss)\n",
    "        sc.pp.neighbors(adata_tiss, n_neighbors=20, n_pcs=30, use_rep=\"X_scvi\")\n",
    "        sc.tl.umap(adata_tiss)\n",
    "        sc.tl.leiden(adata_tiss)\n",
    "        sc.tl.tsne(adata_tiss, use_rep = 'X_scvi')\n",
    "        adata_tiss.write_h5ad('../../data-objs/pilot1/TSP1_objs_browser/TSP1_'+t+'.h5ad')\n",
    "    else:\n",
    "        print(\"there is no cells to put in \"+t)"
   ]
  },
  {
   "cell_type": "markdown",
   "metadata": {
    "heading_collapsed": true
   },
   "source": [
    "## Write tissue_compartment objs"
   ]
  },
  {
   "cell_type": "code",
   "execution_count": 25,
   "metadata": {
    "hidden": true,
    "scrolled": false
   },
   "outputs": [
    {
     "name": "stdout",
     "output_type": "stream",
     "text": [
      "computing PCA with n_comps = 50\n",
      "    finished (0:00:07)\n",
      "computing neighbors\n",
      "    finished: added to `.uns['neighbors']`\n",
      "    'distances', distances for each pair of neighbors\n",
      "    'connectivities', weighted adjacency matrix (0:00:04)\n",
      "computing UMAP\n",
      "    finished: added\n",
      "    'X_umap', UMAP coordinates (adata.obsm) (0:00:30)\n",
      "running Leiden clustering\n",
      "    finished: found 18 clusters and added\n",
      "    'leiden', the cluster labels (adata.obs, categorical) (0:00:02)\n",
      "computing tSNE\n",
      "    using the 'MulticoreTSNE' package by Ulyanov (2017)\n",
      "    finished: added\n",
      "    'X_tsne', tSNE coordinates (adata.obsm) (0:00:46)\n",
      "computing PCA with n_comps = 50\n",
      "    finished (0:00:01)\n",
      "computing neighbors\n",
      "    finished: added to `.uns['neighbors']`\n",
      "    'distances', distances for each pair of neighbors\n",
      "    'connectivities', weighted adjacency matrix (0:00:00)\n",
      "computing UMAP\n",
      "    finished: added\n",
      "    'X_umap', UMAP coordinates (adata.obsm) (0:00:01)\n",
      "running Leiden clustering\n",
      "    finished: found 7 clusters and added\n",
      "    'leiden', the cluster labels (adata.obs, categorical) (0:00:00)\n",
      "computing tSNE\n",
      "    using the 'MulticoreTSNE' package by Ulyanov (2017)\n",
      "    finished: added\n",
      "    'X_tsne', tSNE coordinates (adata.obsm) (0:00:02)\n",
      "computing PCA with n_comps = 50\n",
      "    finished (0:00:01)\n",
      "computing neighbors\n",
      "    finished: added to `.uns['neighbors']`\n",
      "    'distances', distances for each pair of neighbors\n",
      "    'connectivities', weighted adjacency matrix (0:00:00)\n",
      "computing UMAP\n",
      "    finished: added\n",
      "    'X_umap', UMAP coordinates (adata.obsm) (0:00:00)\n",
      "running Leiden clustering\n",
      "    finished: found 6 clusters and added\n",
      "    'leiden', the cluster labels (adata.obs, categorical) (0:00:00)\n",
      "computing tSNE\n",
      "    using the 'MulticoreTSNE' package by Ulyanov (2017)\n",
      "    finished: added\n",
      "    'X_tsne', tSNE coordinates (adata.obsm) (0:00:00)\n",
      "computing PCA with n_comps = 50\n",
      "computing PCA with n_comps = 2\n",
      "    finished (0:00:00)\n",
      "computing neighbors\n",
      "WARNING: n_obs too small: adjusting to `n_neighbors = 2`\n",
      "    finished: added to `.uns['neighbors']`\n",
      "    'distances', distances for each pair of neighbors\n",
      "    'connectivities', weighted adjacency matrix (0:00:00)\n",
      "computing UMAP\n",
      "there is no cells to put in blood stromal\n",
      "computing PCA with n_comps = 50\n",
      "    finished (0:00:01)\n",
      "computing neighbors\n",
      "    finished: added to `.uns['neighbors']`\n",
      "    'distances', distances for each pair of neighbors\n",
      "    'connectivities', weighted adjacency matrix (0:00:00)\n",
      "computing UMAP\n",
      "    finished: added\n",
      "    'X_umap', UMAP coordinates (adata.obsm) (0:00:01)\n",
      "running Leiden clustering\n",
      "    finished: found 7 clusters and added\n",
      "    'leiden', the cluster labels (adata.obs, categorical) (0:00:00)\n",
      "computing tSNE\n",
      "    using the 'MulticoreTSNE' package by Ulyanov (2017)\n",
      "    finished: added\n",
      "    'X_tsne', tSNE coordinates (adata.obsm) (0:00:00)\n",
      "computing PCA with n_comps = 50\n",
      "    finished (0:00:02)\n",
      "computing neighbors\n",
      "    finished: added to `.uns['neighbors']`\n",
      "    'distances', distances for each pair of neighbors\n",
      "    'connectivities', weighted adjacency matrix (0:00:00)\n",
      "computing UMAP\n",
      "    finished: added\n",
      "    'X_umap', UMAP coordinates (adata.obsm) (0:00:02)\n",
      "running Leiden clustering\n",
      "    finished: found 14 clusters and added\n",
      "    'leiden', the cluster labels (adata.obs, categorical) (0:00:00)\n",
      "computing tSNE\n",
      "    using the 'MulticoreTSNE' package by Ulyanov (2017)\n",
      "    finished: added\n",
      "    'X_tsne', tSNE coordinates (adata.obsm) (0:00:04)\n",
      "computing PCA with n_comps = 50\n",
      "    finished (0:00:06)\n",
      "computing neighbors\n",
      "    finished: added to `.uns['neighbors']`\n",
      "    'distances', distances for each pair of neighbors\n",
      "    'connectivities', weighted adjacency matrix (0:00:00)\n",
      "computing UMAP\n",
      "    finished: added\n",
      "    'X_umap', UMAP coordinates (adata.obsm) (0:00:12)\n",
      "running Leiden clustering\n",
      "    finished: found 17 clusters and added\n",
      "    'leiden', the cluster labels (adata.obs, categorical) (0:00:00)\n",
      "computing tSNE\n",
      "    using the 'MulticoreTSNE' package by Ulyanov (2017)\n",
      "    finished: added\n",
      "    'X_tsne', tSNE coordinates (adata.obsm) (0:00:21)\n",
      "computing PCA with n_comps = 50\n",
      "    finished (0:00:00)\n",
      "computing neighbors\n",
      "    finished: added to `.uns['neighbors']`\n",
      "    'distances', distances for each pair of neighbors\n",
      "    'connectivities', weighted adjacency matrix (0:00:00)\n",
      "computing UMAP\n",
      "    finished: added\n",
      "    'X_umap', UMAP coordinates (adata.obsm) (0:00:01)\n",
      "running Leiden clustering\n",
      "    finished: found 9 clusters and added\n",
      "    'leiden', the cluster labels (adata.obs, categorical) (0:00:00)\n",
      "computing tSNE\n",
      "    using the 'MulticoreTSNE' package by Ulyanov (2017)\n",
      "    finished: added\n",
      "    'X_tsne', tSNE coordinates (adata.obsm) (0:00:02)\n",
      "computing PCA with n_comps = 50\n",
      "computing PCA with n_comps = 35\n",
      "    finished (0:00:00)\n",
      "computing neighbors\n",
      "    finished: added to `.uns['neighbors']`\n",
      "    'distances', distances for each pair of neighbors\n",
      "    'connectivities', weighted adjacency matrix (0:00:00)\n",
      "computing UMAP\n",
      "    finished: added\n",
      "    'X_umap', UMAP coordinates (adata.obsm) (0:00:00)\n",
      "running Leiden clustering\n",
      "    finished: found 5 clusters and added\n",
      "    'leiden', the cluster labels (adata.obs, categorical) (0:00:00)\n",
      "computing tSNE\n",
      "    using the 'MulticoreTSNE' package by Ulyanov (2017)\n",
      "    finished: added\n",
      "    'X_tsne', tSNE coordinates (adata.obsm) (0:00:00)\n",
      "computing PCA with n_comps = 50\n",
      "    finished (0:00:06)\n",
      "computing neighbors\n",
      "    finished: added to `.uns['neighbors']`\n",
      "    'distances', distances for each pair of neighbors\n",
      "    'connectivities', weighted adjacency matrix (0:00:02)\n",
      "computing UMAP\n",
      "    finished: added\n",
      "    'X_umap', UMAP coordinates (adata.obsm) (0:00:27)\n",
      "running Leiden clustering\n",
      "    finished: found 19 clusters and added\n",
      "    'leiden', the cluster labels (adata.obs, categorical) (0:00:01)\n",
      "computing tSNE\n",
      "    using the 'MulticoreTSNE' package by Ulyanov (2017)\n",
      "    finished: added\n",
      "    'X_tsne', tSNE coordinates (adata.obsm) (0:00:46)\n"
     ]
    }
   ],
   "source": [
    "for t in ['blood','pancreas']:#list(set(adata.obs['tissue'])):\n",
    "    adata_tiss = adata[adata.obs['tissue']==t].copy()\n",
    "    if adata_tiss.shape[0]>0:\n",
    "        \n",
    "        for c in list(set(adata_tiss.obs['compartment_prediction'])):\n",
    "            adata_comp = adata_tiss[adata_tiss.obs['compartment_prediction']==c].copy()\n",
    "\n",
    "            if adata_comp.shape[0]>0:\n",
    "                \n",
    "                try:\n",
    "                    sc.pp.pca(adata_comp)\n",
    "                except:\n",
    "                    sc.pp.pca(adata_comp,n_comps=adata_comp.shape[0]-1)\n",
    "                \n",
    "                sc.pp.neighbors(adata_comp, n_neighbors=20, n_pcs=30, use_rep=\"X_scvi\")\n",
    "                \n",
    "                try:\n",
    "                    sc.tl.umap(adata_comp)\n",
    "                    sc.tl.leiden(adata_comp)\n",
    "                    sc.tl.tsne(adata_comp, use_rep = 'X_scvi')\n",
    "                    adata_comp.write_h5ad('../../data-objs/pilot1/TSP1_objs_browser/TSP1_'+t+'_'+c+'.h5ad')\n",
    "                \n",
    "                except:\n",
    "                    print(\"there is no cells to put in \"+t+\" \"+c)\n",
    "            \n",
    "            else:\n",
    "                print(\"there is no cells to put in \"+t+\" \"+c)\n",
    "    \n",
    "    \n",
    "    else:\n",
    "        print(\"there is no cells to put in \"+t)"
   ]
  },
  {
   "cell_type": "code",
   "execution_count": null,
   "metadata": {
    "hidden": true
   },
   "outputs": [],
   "source": []
  },
  {
   "cell_type": "markdown",
   "metadata": {},
   "source": [
    "# DGE"
   ]
  },
  {
   "cell_type": "markdown",
   "metadata": {},
   "source": [
    "## DGE per organ per compartment"
   ]
  },
  {
   "cell_type": "code",
   "execution_count": 10,
   "metadata": {},
   "outputs": [
    {
     "data": {
      "text/plain": [
       "AnnData object with n_obs × n_vars = 34561 × 21301 \n",
       "    obs: 'batch_id', 'compartment_prediction', 'leiden', 'log1p_total_counts', 'manual_cell_ontology', 'manual_free_annotation', 'method', 'n_genes', 'pancreas_prediction', 'scANVI_organ_alternate_training_cell_ontology', 'scANVI_organ_alternate_training_free_annotation', 'scANVI_organ_cell_ontology', 'scANVI_organ_compartment_alternate_training_cell_ontology', 'scANVI_organ_compartment_alternate_training_free_annotation', 'scANVI_organ_compartment_cell_ontology', 'scANVI_organ_compartment_free_annotation', 'scANVI_organ_free_annotation', 'subtissue', 'tissue', 'tissue_method'\n",
       "    var: 'n_cells-0', 'n_cells-1'\n",
       "    uns: 'Compartment Prediction_colors', 'Pancreas Prediction_colors', 'Smoothed Compartment Prediction_colors', 'leiden', 'neighbors', 'pca', 'smooth_comp2_colors', 'smooth_comp_colors', 'umap'\n",
       "    obsm: 'X_pca', 'X_scvi', 'X_tsne', 'X_umap'\n",
       "    varm: 'PCs'"
      ]
     },
     "execution_count": 10,
     "metadata": {},
     "output_type": "execute_result"
    }
   ],
   "source": [
    "adata = sc.read_h5ad(obj_list[1])\n",
    "adata"
   ]
  },
  {
   "cell_type": "code",
   "execution_count": null,
   "metadata": {},
   "outputs": [],
   "source": [
    "for obj in obj_list:\n",
    "    "
   ]
  },
  {
   "cell_type": "code",
   "execution_count": null,
   "metadata": {},
   "outputs": [],
   "source": [
    "def DEbyOrganCompartment(raw, full, label, organs, compartments,  split_subset=None):\n",
    "    pred_label = np.asarray(raw.obs[label].values)\n",
    "    pred_celltype, pred_label = np.unique(pred_label, return_inverse=True)\n",
    "    for organ in np.unique(raw.obs[organs]):\n",
    "        if split_subset is None: \n",
    "            split_subset = np.unique(raw.obs.loc[raw.obs[organs].values == organ, compartments])\n",
    "        writer = pd.ExcelWriter(organ+'.DE.xlsx', engine='xlsxwriter')\n",
    "        res = []\n",
    "        clust = []\n",
    "        for compartment in split_subset:\n",
    "            print(compartment)\n",
    "            subset = np.logical_and(raw.obs[compartments].values == compartment,\n",
    "                                   raw.obs[organs].values == organ)\n",
    "            de_res, de_cluster = full.one_vs_all_degenes(cell_labels=pred_label,\n",
    "                                                         subset=subset)\n",
    "            filtered = []\n",
    "            for i, ct in enumerate(pred_celltype[de_cluster]):\n",
    "                x = de_res[i]\n",
    "                filt = np.logical_and(np.abs(x['bayes_factor'].values) > 1.3, x['raw_mean1'].values > 0.1)\n",
    "#                 filt = x['proba_de']>0.90\n",
    "                filtered.append(x.loc[filt])\n",
    "#                 res = x.loc[filt]\n",
    "#                 if len(ct)>31:\n",
    "#                     ct = ct[:31]\n",
    "#                 res.to_excel(writer, sheet_name=ct)\n",
    "#                 res['celltype'] = ct\n",
    "#             writer.save()\n",
    "            temp = []\n",
    "            for i,x in zip(de_cluster, filtered):\n",
    "                logfc =np.log(x['scale1']/x['scale2']+1)\n",
    "#                 logfc = x['median']\n",
    "                clust_id = np.repeat(i, len(logfc))\n",
    "                y = pd.DataFrame([clust_id, logfc.values, logfc.index], index=['id','logFC','Genenames']).T\n",
    "                temp.append(y)\n",
    "            if len(temp)>0:\n",
    "                res = pd.concat(temp, axis=1)\n",
    "                res.to_excel(writer, sheet_name=compartment)\n",
    "        writer.save()"
   ]
  }
 ],
 "metadata": {
  "kernelspec": {
   "display_name": "Python 3",
   "language": "python",
   "name": "python3"
  },
  "language_info": {
   "codemirror_mode": {
    "name": "ipython",
    "version": 3
   },
   "file_extension": ".py",
   "mimetype": "text/x-python",
   "name": "python",
   "nbconvert_exporter": "python",
   "pygments_lexer": "ipython3",
   "version": "3.7.4"
  },
  "toc": {
   "base_numbering": 1,
   "nav_menu": {
    "height": "449px",
    "width": "353px"
   },
   "number_sections": true,
   "sideBar": true,
   "skip_h1_title": false,
   "title_cell": "Table of Contents",
   "title_sidebar": "Contents",
   "toc_cell": false,
   "toc_position": {},
   "toc_section_display": true,
   "toc_window_display": true
  }
 },
 "nbformat": 4,
 "nbformat_minor": 2
}
