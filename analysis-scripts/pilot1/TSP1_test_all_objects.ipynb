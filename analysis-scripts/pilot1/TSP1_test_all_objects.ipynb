{
 "cells": [
  {
   "cell_type": "markdown",
   "metadata": {},
   "source": [
    "# Import packages"
   ]
  },
  {
   "cell_type": "code",
   "execution_count": 1,
   "metadata": {},
   "outputs": [
    {
     "name": "stderr",
     "output_type": "stream",
     "text": [
      "[2020-02-13 10:39:40,166] INFO - scvi._settings | Added StreamHandler with custom formatter to 'scvi' logger.\n"
     ]
    },
    {
     "name": "stdout",
     "output_type": "stream",
     "text": [
      "0.5.0\n",
      "scanpy==1.4.5.post2 anndata==0.6.22.post1 umap==0.3.10 numpy==1.17.2 scipy==1.3.1 pandas==0.25.1 scikit-learn==0.21.3 statsmodels==0.10.1 python-igraph==0.7.1 louvain==0.6.1\n"
     ]
    }
   ],
   "source": [
    "import pandas as pd\n",
    "import numpy as np\n",
    "import os\n",
    "from anndata import read_h5ad\n",
    "from sklearn.neighbors import NearestNeighbors\n",
    "\n",
    "\n",
    "import warnings\n",
    "warnings.filterwarnings('ignore')\n",
    "import sys\n",
    "\n",
    "# sys.path.append('/data/yosef2/users/chenling/scVI/')\n",
    "sys.path.append('../../utils/')\n",
    "from annotations_utils import *\n",
    "import scvi\n",
    "print(scvi.__version__)\n",
    "\n",
    "import os\n",
    "os.getcwd()\n",
    "\n",
    "import logging\n",
    "import os\n",
    "import pickle\n",
    "from MulticoreTSNE import MulticoreTSNE as TSNE\n",
    "\n",
    "import matplotlib.pyplot as plt\n",
    "import numpy as np\n",
    "import pandas as pd\n",
    "import torch\n",
    "from hyperopt import hp\n",
    "\n",
    "from scvi.inference import UnsupervisedTrainer, AlternateSemiSupervisedTrainer, SemiSupervisedTrainer\n",
    "from scvi.models import VAE, SCANVI\n",
    "from copy import deepcopy\n",
    "\n",
    "from scvi.dataset.anndataset import AnnDatasetFromAnnData\n",
    "\n",
    "import scanpy as sc\n",
    "sc.settings.verbosity = 3  # verbosity: errors (0), warnings (1), info (2), hints (3)\n",
    "\n",
    "from anndata import read_h5ad\n",
    "from anndata import AnnData\n",
    "\n",
    "import matplotlib\n",
    "\n",
    "matplotlib.rcParams['pdf.fonttype'] = 42\n",
    "matplotlib.rcParams['ps.fonttype'] = 42\n",
    "%matplotlib inline\n",
    "\n",
    "n_epochs = 150\n",
    "show_plot = True\n",
    "test_mode = False\n",
    "use_batches = True\n",
    "use_cuda = True\n",
    "lr = 1e-3\n",
    "retrain=True\n",
    "\n",
    "\n",
    "sc.logging.print_versions()"
   ]
  },
  {
   "cell_type": "markdown",
   "metadata": {},
   "source": [
    "# Load data"
   ]
  },
  {
   "cell_type": "code",
   "execution_count": 3,
   "metadata": {},
   "outputs": [],
   "source": [
    "data_path = '../../data-objs/pilot1/FinalAnnotation/'"
   ]
  },
  {
   "cell_type": "code",
   "execution_count": 8,
   "metadata": {
    "scrolled": true
   },
   "outputs": [
    {
     "data": {
      "text/plain": [
       "['../../data-objs/pilot1/FinalAnnotation/CombineCompartments.scANVI.endopancreas.mixed.imputed.h5ad',\n",
       " '../../data-objs/pilot1/FinalAnnotation/CombineCompartments.scANVI.blood.imputed.h5ad',\n",
       " '../../data-objs/pilot1/FinalAnnotation/CombineCompartments.scANVI.Pancreas.Stromal.imputed.h5ad',\n",
       " '../../data-objs/pilot1/FinalAnnotation/CombineCompartments.scANVI.bladder.mixed.imputed.h5ad',\n",
       " '../../data-objs/pilot1/FinalAnnotation/CombineCompartments.scANVI.Bladder.Endothelial.imputed.h5ad',\n",
       " '../../data-objs/pilot1/FinalAnnotation/CombineCompartments.scANVI.Pancreas.Endothelial.imputed.h5ad',\n",
       " '../../data-objs/pilot1/FinalAnnotation/CombineCompartments.scANVI.PancreasExocrine.mixed.imputed.h5ad',\n",
       " '../../data-objs/pilot1/FinalAnnotation/CombineCompartments.scANVI.Lung.mixed.imputed.h5ad',\n",
       " '../../data-objs/pilot1/FinalAnnotation/CombineCompartments.scANVI.epithelial.imputed.h5ad',\n",
       " '../../data-objs/pilot1/FinalAnnotation/CombineCompartments.scANVI.Lung.Immune.imputed.h5ad',\n",
       " '../../data-objs/pilot1/FinalAnnotation/CombineCompartments.scANVI.endothelial.imputed.h5ad',\n",
       " '../../data-objs/pilot1/FinalAnnotation/CombineCompartments.scANVI.Lung.Endothelial.imputed.h5ad',\n",
       " '../../data-objs/pilot1/FinalAnnotation/CombineCompartments.scANVI.Lung.Epithelial.imputed.h5ad',\n",
       " '../../data-objs/pilot1/FinalAnnotation/CombineCompartments.scANVI.Muscle.Endothelial.imputed.h5ad',\n",
       " '../../data-objs/pilot1/FinalAnnotation/CombineCompartments.scANVI.PancreasEndocrine.Immune.imputed.h5ad',\n",
       " '../../data-objs/pilot1/FinalAnnotation/CombineCompartments.scANVI.PancreasExocrine.imputed.h5ad',\n",
       " '../../data-objs/pilot1/FinalAnnotation/CombineCompartments.scANVI.bladder.imputed.h5ad',\n",
       " '../../data-objs/pilot1/FinalAnnotation/CombineCompartments.scANVI.Bladder.Stromal.imputed.h5ad',\n",
       " '../../data-objs/pilot1/FinalAnnotation/CombineCompartments.scANVI.Immune.imputed.h5ad',\n",
       " '../../data-objs/pilot1/FinalAnnotation/CombineCompartments.scANVI.Blood.Immune.imputed.h5ad',\n",
       " '../../data-objs/pilot1/FinalAnnotation/CombineCompartments.scANVI.lung.imputed.h5ad',\n",
       " '../../data-objs/pilot1/FinalAnnotation/CombineCompartments.scANVI.Muscle.imputed.h5ad',\n",
       " '../../data-objs/pilot1/FinalAnnotation/CombineCompartments.scANVI.Bladder.imputed.h5ad',\n",
       " '../../data-objs/pilot1/FinalAnnotation/CombineCompartments.scANVI.Lung.Stromal.imputed.h5ad',\n",
       " '../../data-objs/pilot1/FinalAnnotation/CombineCompartments.scANVI.lung.mixed.imputed.h5ad',\n",
       " '../../data-objs/pilot1/FinalAnnotation/CombineCompartments.scANVI.endopancreas.imputed.h5ad',\n",
       " '../../data-objs/pilot1/FinalAnnotation/CombineCompartments.scANVI.lung.Immune.imputed.h5ad',\n",
       " '../../data-objs/pilot1/FinalAnnotation/CombineCompartments.scANVI.all.imputed.h5ad',\n",
       " '../../data-objs/pilot1/FinalAnnotation/CombineCompartments.scANVI.bladder.Immune.imputed.h5ad',\n",
       " '../../data-objs/pilot1/FinalAnnotation/CombineCompartments.scANVI.PancreasEndocrine.imputed.h5ad',\n",
       " '../../data-objs/pilot1/FinalAnnotation/CombineCompartments.scANVI.Pancreas.mixed.imputed.h5ad',\n",
       " '../../data-objs/pilot1/FinalAnnotation/CombineCompartments.scANVI.stromal.imputed.h5ad',\n",
       " '../../data-objs/pilot1/FinalAnnotation/CombineCompartments.scANVI.exopancreas2.imputed.h5ad',\n",
       " '../../data-objs/pilot1/FinalAnnotation/CombineCompartments.scANVI.exopancreas1.imputed.h5ad',\n",
       " '../../data-objs/pilot1/FinalAnnotation/CombineCompartments.scANVI.Bladder.Immune.imputed.h5ad',\n",
       " '../../data-objs/pilot1/FinalAnnotation/CombineCompartments.scANVI.Muscle.Immune.imputed.h5ad',\n",
       " '../../data-objs/pilot1/FinalAnnotation/CombineCompartments.scANVI.Muscle.Stromal.imputed.h5ad',\n",
       " '../../data-objs/pilot1/FinalAnnotation/CombineCompartments.scANVI.muscle.imputed.h5ad',\n",
       " '../../data-objs/pilot1/FinalAnnotation/CombineCompartments.scANVI.muscle.mixed.imputed.h5ad',\n",
       " '../../data-objs/pilot1/FinalAnnotation/CombineCompartments.scANVI.Muscle.mixed.imputed.h5ad',\n",
       " '../../data-objs/pilot1/FinalAnnotation/CombineCompartments.scANVI.blood.Immune.imputed.h5ad',\n",
       " '../../data-objs/pilot1/FinalAnnotation/CombineCompartments.scANVI.pancreas_all.imputed.h5ad',\n",
       " '../../data-objs/pilot1/FinalAnnotation/CombineCompartments.scANVI.Blood.imputed.h5ad',\n",
       " '../../data-objs/pilot1/FinalAnnotation/CombineCompartments.scANVI.Pancreas.Immune.imputed.h5ad',\n",
       " '../../data-objs/pilot1/FinalAnnotation/CombineCompartments.scANVI.PancreasEndocrine.mixed.imputed.h5ad',\n",
       " '../../data-objs/pilot1/FinalAnnotation/CombineCompartments.scANVI.endopancreas.Immune.imputed.h5ad',\n",
       " '../../data-objs/pilot1/FinalAnnotation/CombineCompartments.scANVI.exopancreas1.mixed.imputed.h5ad',\n",
       " '../../data-objs/pilot1/FinalAnnotation/CombineCompartments.scANVI.Pancreas.imputed.h5ad',\n",
       " '../../data-objs/pilot1/FinalAnnotation/CombineCompartments.scANVI.exopancreas1.Immune.imputed.h5ad',\n",
       " '../../data-objs/pilot1/FinalAnnotation/CombineCompartments.scANVI.Blood.mixed.imputed.h5ad',\n",
       " '../../data-objs/pilot1/FinalAnnotation/CombineCompartments.scANVI.Lung.imputed.h5ad',\n",
       " '../../data-objs/pilot1/FinalAnnotation/CombineCompartments.scANVI.Pancreas.Epithelial.imputed.h5ad',\n",
       " '../../data-objs/pilot1/FinalAnnotation/CombineCompartments.scANVI.exopancreas2.mixed.imputed.h5ad',\n",
       " '../../data-objs/pilot1/FinalAnnotation/CombineCompartments.scANVI.blood.mixed.imputed.h5ad',\n",
       " '../../data-objs/pilot1/FinalAnnotation/CombineCompartments.scANVI.pancreas.imputed.h5ad',\n",
       " '../../data-objs/pilot1/FinalAnnotation/CombineCompartments.scANVI.Bladder.Epithelial.imputed.h5ad',\n",
       " '../../data-objs/pilot1/FinalAnnotation/CombineCompartments.scANVI.Bladder.mixed.imputed.h5ad',\n",
       " '../../data-objs/pilot1/FinalAnnotation/CombineCompartments.scANVI.PancreasExocrine.Immune.imputed.h5ad',\n",
       " '../../data-objs/pilot1/FinalAnnotation/CombineCompartments.scANVI.muscle.Immune.imputed.h5ad',\n",
       " '../../data-objs/pilot1/FinalAnnotation/CombineCompartments.scANVI.exopancreas2.Immune.imputed.h5ad']"
      ]
     },
     "execution_count": 8,
     "metadata": {},
     "output_type": "execute_result"
    }
   ],
   "source": [
    "import glob\n",
    "glob.glob(data_path+'*.imputed.h5ad')"
   ]
  },
  {
   "cell_type": "code",
   "execution_count": null,
   "metadata": {},
   "outputs": [],
   "source": []
  },
  {
   "cell_type": "code",
   "execution_count": 39,
   "metadata": {},
   "outputs": [
    {
     "data": {
      "text/plain": [
       "AnnData object with n_obs × n_vars = 68451 × 21301 \n",
       "    obs: 'Pancreas Prediction', 'Compartment Prediction', 'Tissue Tech', '10X_plate', 'Manual Annotation Round 2', 'scANVI Prediction By Organ', 'Compartment', 'scANVI Prediction By Organ-Compartment', 'tissue', 'scANVI Prediction By Organ with Alternate Training', 'scANVI Prediction By Organ-Compartment with Alternate Training', 'batch_id', 'Smoothed Compartment Prediction', 'S_score', 'G2M_score', 'phase', 'scANVI Prediction Ontology Term By Organ', 'scANVI Prediction Ontology Term By Organ with Alternate Training', 'scANVI Prediction Ontology Term By Organ-Compartment', 'scANVI Prediction Ontology Term By Organ-Compartment with Alternate Training', 'Manual Annotation Round 2 Ontology Terms', 'n_genes', 'log1p_total_counts', 'leiden'\n",
       "    var: 'n_cells-0', 'n_cells-1'\n",
       "    uns: 'Compartment Prediction_colors', 'Pancreas Prediction_colors', 'Smoothed Compartment Prediction_colors', 'leiden', 'neighbors', 'smooth_comp2_colors', 'smooth_comp_colors'\n",
       "    obsm: 'X_scvi', 'X_tsne', 'X_umap'"
      ]
     },
     "execution_count": 39,
     "metadata": {},
     "output_type": "execute_result"
    }
   ],
   "source": [
    "adata = read_h5ad(data_path+'CombineCompartments.scANVI.all.imputed.h5ad')\n",
    "adata"
   ]
  },
  {
   "cell_type": "code",
   "execution_count": 40,
   "metadata": {},
   "outputs": [
    {
     "data": {
      "text/plain": [
       "AnnData object with n_obs × n_vars = 68451 × 21301 \n",
       "    obs: 'batch_id', 'compartment_prediction', 'leiden', 'log1p_total_counts', 'manual_cell_ontology', 'manual_free_annotation', 'method', 'n_genes', 'pancreas_prediction', 'scANVI_organ_alternate_training_cell_ontology', 'scANVI_organ_alternate_training_free_annotation', 'scANVI_organ_cell_ontology', 'scANVI_organ_compartment_alternate_training_cell_ontology', 'scANVI_organ_compartment_alternate_training_free_annotation', 'scANVI_organ_compartment_cell_ontology', 'scANVI_organ_compartment_free_annotation', 'scANVI_organ_free_annotation', 'subtissue', 'tissue', 'tissue_method'\n",
       "    var: 'n_cells-0', 'n_cells-1'\n",
       "    uns: 'Compartment Prediction_colors', 'Pancreas Prediction_colors', 'Smoothed Compartment Prediction_colors', 'leiden', 'neighbors', 'smooth_comp2_colors', 'smooth_comp_colors'\n",
       "    obsm: 'X_scvi', 'X_tsne', 'X_umap'"
      ]
     },
     "execution_count": 40,
     "metadata": {},
     "output_type": "execute_result"
    }
   ],
   "source": [
    "adata.obs['tissue'] = adata.obs['tissue'].str.lower()\n",
    "adata.obs['subtissue'] = adata.obs['tissue']\n",
    "adata.obs.loc[adata.obs['tissue'].isin(\n",
    "    ['exopancreas1','endopancreas','exopancreas2','pancreasendocrine', 'pancreasexocrine']),'tissue'] = 'pancreas'\n",
    "\n",
    "adata.obs['method'] = [tt.split('_')[1] for tt in adata.obs['Tissue Tech']]\n",
    "\n",
    "adata.obs = adata.obs.drop(\n",
    "    ['Compartment Prediction', '10X_plate','Compartment', 'S_score', 'G2M_score', 'phase'],\n",
    "    axis=1)\n",
    "\n",
    "adata.obs = adata.obs.rename(columns={\"Tissue Tech\": \"tissue_method\",\n",
    "                                      \"Pancreas Prediction\" : \"pancreas_prediction\",\n",
    "                                     \"Manual Annotation Round 2\": \"manual_free_annotation\",\n",
    "                                     \"Manual Annotation Round 2 Ontology Terms\": \"manual_cell_ontology\",\n",
    "                                     \"Smoothed Compartment Prediction\": \"compartment_prediction\",\n",
    "                                     \"scANVI Prediction By Organ\": \"scANVI_organ_free_annotation\",\n",
    "                                     \"scANVI Prediction By Organ-Compartment\": \"scANVI_organ_compartment_free_annotation\",\n",
    "                                     \"scANVI Prediction By Organ with Alternate Training\": \"scANVI_organ_alternate_training_free_annotation\",\n",
    "                                     \"scANVI Prediction By Organ-Compartment with Alternate Training\": \"scANVI_organ_compartment_alternate_training_free_annotation\",\n",
    "                                     \"scANVI Prediction Ontology Term By Organ\": \"scANVI_organ_cell_ontology\",\n",
    "                                     \"scANVI Prediction Ontology Term By Organ-Compartment\": \"scANVI_organ_compartment_cell_ontology\",\n",
    "                                     \"scANVI Prediction Ontology Term By Organ with Alternate Training\": \"scANVI_organ_alternate_training_cell_ontology\",\n",
    "                                     \"scANVI Prediction Ontology Term By Organ-Compartment with Alternate Training\": \"scANVI_organ_compartment_alternate_training_cell_ontology\"})\n",
    "\n",
    "adata.obs['compartment_prediction'] = adata.obs['compartment_prediction'].str.lower()\n",
    "\n",
    "adata.obs = adata.obs.reindex(sorted(adata.obs.columns), axis=1)\n",
    "\n",
    "adata"
   ]
  },
  {
   "cell_type": "code",
   "execution_count": 43,
   "metadata": {},
   "outputs": [
    {
     "data": {
      "text/plain": [
       "({'not pancreas', 'pancreas'},\n",
       " {'endothelial', 'epithelial', 'immune', 'mixed', 'stromal'})"
      ]
     },
     "execution_count": 43,
     "metadata": {},
     "output_type": "execute_result"
    }
   ],
   "source": [
    "set(adata.obs['pancreas_prediction']),set(adata.obs['compartment_prediction'])"
   ]
  },
  {
   "cell_type": "markdown",
   "metadata": {},
   "source": [
    "# Write objs for browser"
   ]
  },
  {
   "cell_type": "markdown",
   "metadata": {},
   "source": [
    "## Write compartment objs"
   ]
  },
  {
   "cell_type": "code",
   "execution_count": 34,
   "metadata": {
    "scrolled": true
   },
   "outputs": [
    {
     "name": "stdout",
     "output_type": "stream",
     "text": [
      "computing PCA with n_comps = 50\n",
      "    finished (0:00:22)\n",
      "computing neighbors\n",
      "    finished: added to `.uns['neighbors']`\n",
      "    'distances', distances for each pair of neighbors\n",
      "    'connectivities', weighted adjacency matrix (0:00:07)\n",
      "computing UMAP\n",
      "    finished: added\n",
      "    'X_umap', UMAP coordinates (adata.obsm) (0:00:32)\n"
     ]
    },
    {
     "name": "stderr",
     "output_type": "stream",
     "text": [
      "... storing 'method' as categorical\n",
      "... storing 'subtissue' as categorical\n",
      "... storing 'tissue' as categorical\n"
     ]
    },
    {
     "name": "stdout",
     "output_type": "stream",
     "text": [
      "computing PCA with n_comps = 50\n",
      "    finished (0:00:04)\n",
      "computing neighbors\n",
      "    finished: added to `.uns['neighbors']`\n",
      "    'distances', distances for each pair of neighbors\n",
      "    'connectivities', weighted adjacency matrix (0:00:03)\n",
      "computing UMAP\n",
      "    finished: added\n",
      "    'X_umap', UMAP coordinates (adata.obsm) (0:00:12)\n"
     ]
    },
    {
     "name": "stderr",
     "output_type": "stream",
     "text": [
      "... storing 'method' as categorical\n",
      "... storing 'subtissue' as categorical\n",
      "... storing 'tissue' as categorical\n"
     ]
    },
    {
     "name": "stdout",
     "output_type": "stream",
     "text": [
      "computing PCA with n_comps = 50\n",
      "    finished (0:00:02)\n",
      "computing neighbors\n",
      "    finished: added to `.uns['neighbors']`\n",
      "    'distances', distances for each pair of neighbors\n",
      "    'connectivities', weighted adjacency matrix (0:00:02)\n",
      "computing UMAP\n",
      "    finished: added\n",
      "    'X_umap', UMAP coordinates (adata.obsm) (0:00:18)\n"
     ]
    },
    {
     "name": "stderr",
     "output_type": "stream",
     "text": [
      "... storing 'method' as categorical\n",
      "... storing 'subtissue' as categorical\n",
      "... storing 'tissue' as categorical\n"
     ]
    },
    {
     "name": "stdout",
     "output_type": "stream",
     "text": [
      "computing PCA with n_comps = 50\n",
      "    finished (0:00:03)\n",
      "computing neighbors\n",
      "    finished: added to `.uns['neighbors']`\n",
      "    'distances', distances for each pair of neighbors\n",
      "    'connectivities', weighted adjacency matrix (0:00:01)\n",
      "computing UMAP\n",
      "    finished: added\n",
      "    'X_umap', UMAP coordinates (adata.obsm) (0:00:16)\n"
     ]
    },
    {
     "name": "stderr",
     "output_type": "stream",
     "text": [
      "... storing 'method' as categorical\n",
      "... storing 'subtissue' as categorical\n",
      "... storing 'tissue' as categorical\n"
     ]
    },
    {
     "name": "stdout",
     "output_type": "stream",
     "text": [
      "computing PCA with n_comps = 50\n",
      "    finished (0:00:01)\n",
      "computing neighbors\n",
      "    finished: added to `.uns['neighbors']`\n",
      "    'distances', distances for each pair of neighbors\n",
      "    'connectivities', weighted adjacency matrix (0:00:00)\n",
      "computing UMAP\n",
      "    finished: added\n",
      "    'X_umap', UMAP coordinates (adata.obsm) (0:00:11)\n"
     ]
    },
    {
     "name": "stderr",
     "output_type": "stream",
     "text": [
      "... storing 'method' as categorical\n",
      "... storing 'subtissue' as categorical\n",
      "... storing 'tissue' as categorical\n"
     ]
    }
   ],
   "source": [
    "for c in list(set(adata.obs['compartment_prediction'])):\n",
    "    adata_comp = adata[adata.obs['compartment_prediction']==c].copy()\n",
    "    \n",
    "    if adata_comp.shape[0]>0:\n",
    "        sc.pp.pca(adata_comp)\n",
    "        sc.pp.neighbors(adata_comp, n_neighbors=20, n_pcs=30, use_rep=\"X_scvi\")\n",
    "        sc.tl.umap(adata_comp)\n",
    "        sc.tl.leiden(adata_comp)\n",
    "        sc.tl.tsne(adata_comp, use_rep = 'X_scvi')\n",
    "        adata_comp.write_h5ad('../../data-objs/pilot1/TSP1_objs_browser/TSP1_all_'+c+'.h5ad')\n",
    "    else:\n",
    "        print(\"there is no cells to put in \"+c)"
   ]
  },
  {
   "cell_type": "markdown",
   "metadata": {},
   "source": [
    "## Write tissue objs"
   ]
  },
  {
   "cell_type": "code",
   "execution_count": 44,
   "metadata": {},
   "outputs": [
    {
     "name": "stdout",
     "output_type": "stream",
     "text": [
      "computing PCA with n_comps = 50\n",
      "    finished (0:00:07)\n",
      "computing neighbors\n",
      "    finished: added to `.uns['neighbors']`\n",
      "    'distances', distances for each pair of neighbors\n",
      "    'connectivities', weighted adjacency matrix (0:00:04)\n"
     ]
    },
    {
     "name": "stderr",
     "output_type": "stream",
     "text": [
      "... storing 'compartment_prediction' as categorical\n",
      "... storing 'method' as categorical\n",
      "... storing 'subtissue' as categorical\n",
      "... storing 'tissue' as categorical\n"
     ]
    },
    {
     "name": "stdout",
     "output_type": "stream",
     "text": [
      "computing PCA with n_comps = 50\n",
      "    finished (0:00:02)\n",
      "computing neighbors\n",
      "    finished: added to `.uns['neighbors']`\n",
      "    'distances', distances for each pair of neighbors\n",
      "    'connectivities', weighted adjacency matrix (0:00:01)\n"
     ]
    },
    {
     "name": "stderr",
     "output_type": "stream",
     "text": [
      "... storing 'compartment_prediction' as categorical\n",
      "... storing 'method' as categorical\n",
      "... storing 'subtissue' as categorical\n",
      "... storing 'tissue' as categorical\n"
     ]
    },
    {
     "name": "stdout",
     "output_type": "stream",
     "text": [
      "computing PCA with n_comps = 50\n",
      "    finished (0:00:05)\n",
      "computing neighbors\n",
      "    finished: added to `.uns['neighbors']`\n",
      "    'distances', distances for each pair of neighbors\n",
      "    'connectivities', weighted adjacency matrix (0:00:03)\n"
     ]
    },
    {
     "name": "stderr",
     "output_type": "stream",
     "text": [
      "... storing 'compartment_prediction' as categorical\n",
      "... storing 'method' as categorical\n",
      "... storing 'subtissue' as categorical\n",
      "... storing 'tissue' as categorical\n"
     ]
    },
    {
     "name": "stdout",
     "output_type": "stream",
     "text": [
      "computing PCA with n_comps = 50\n",
      "    finished (0:00:03)\n",
      "computing neighbors\n",
      "    finished: added to `.uns['neighbors']`\n",
      "    'distances', distances for each pair of neighbors\n",
      "    'connectivities', weighted adjacency matrix (0:00:02)\n"
     ]
    },
    {
     "name": "stderr",
     "output_type": "stream",
     "text": [
      "... storing 'compartment_prediction' as categorical\n",
      "... storing 'method' as categorical\n",
      "... storing 'subtissue' as categorical\n",
      "... storing 'tissue' as categorical\n"
     ]
    },
    {
     "name": "stdout",
     "output_type": "stream",
     "text": [
      "computing PCA with n_comps = 50\n",
      "    finished (0:00:06)\n",
      "computing neighbors\n",
      "    finished: added to `.uns['neighbors']`\n",
      "    'distances', distances for each pair of neighbors\n",
      "    'connectivities', weighted adjacency matrix (0:00:04)\n"
     ]
    },
    {
     "name": "stderr",
     "output_type": "stream",
     "text": [
      "... storing 'compartment_prediction' as categorical\n",
      "... storing 'method' as categorical\n",
      "... storing 'subtissue' as categorical\n",
      "... storing 'tissue' as categorical\n"
     ]
    }
   ],
   "source": [
    "for t in list(set(adata.obs['tissue'])):\n",
    "    adata_tiss = adata[adata.obs['tissue']==t].copy()\n",
    "    \n",
    "    if adata_tiss.shape[0]>0:\n",
    "        sc.pp.pca(adata_tiss)\n",
    "        sc.pp.neighbors(adata_tiss, n_neighbors=20, n_pcs=30, use_rep=\"X_scvi\")\n",
    "#         sc.tl.umap(adata_tiss)\n",
    "#         sc.tl.leiden(adata_tiss)\n",
    "#         sc.tl.tsne(adata_tiss, use_rep = 'X_scvi')\n",
    "        adata_tiss.write_h5ad('../../data-objs/pilot1/TSP1_objs_browser/TSP1_'+t+'.h5ad')\n",
    "    else:\n",
    "        print(\"there is no cells to put in \"+t)"
   ]
  },
  {
   "cell_type": "markdown",
   "metadata": {},
   "source": [
    "## Write tissue_compartment objs"
   ]
  },
  {
   "cell_type": "code",
   "execution_count": null,
   "metadata": {},
   "outputs": [],
   "source": [
    "for t in list(set(adata.obs['tissue'])):\n",
    "    adata_tiss = adata[adata.obs['tissue']==t].copy()\n",
    "    if adata_tiss.shape[0]>0:\n",
    "        \n",
    "        for c in list(set(adata_tissue.obs['compartment_prediction'])):\n",
    "            adata_comp = adata_tissue[adata_tissue.obs['compartment_prediction']==c].copy()\n",
    "\n",
    "            if adata_comp.shape[0]>0:\n",
    "                sc.pp.pca(adata_comp)\n",
    "                sc.pp.neighbors(adata_comp, n_neighbors=20, n_pcs=30, use_rep=\"X_scvi\")\n",
    "                sc.tl.umap(adata_comp)\n",
    "                sc.tl.leiden(adata_comp)\n",
    "                sc.tl.tsne(adata_comp, use_rep = 'X_scvi')\n",
    "                adata_comp.write_h5ad('../../data-objs/pilot1/TSP1_objs_browser/TSP1_'+t+'_'+c'.h5ad')\n",
    "            else:\n",
    "                print(\"there is no cells to put in \"+t+\" \"+c)\n",
    "    \n",
    "    \n",
    "    else:\n",
    "        print(\"there is no cells to put in \"+t)"
   ]
  },
  {
   "cell_type": "code",
   "execution_count": null,
   "metadata": {},
   "outputs": [],
   "source": []
  },
  {
   "cell_type": "code",
   "execution_count": null,
   "metadata": {},
   "outputs": [],
   "source": []
  },
  {
   "cell_type": "code",
   "execution_count": null,
   "metadata": {},
   "outputs": [],
   "source": []
  },
  {
   "cell_type": "markdown",
   "metadata": {},
   "source": [
    "# write files"
   ]
  },
  {
   "cell_type": "code",
   "execution_count": 48,
   "metadata": {},
   "outputs": [
    {
     "name": "stderr",
     "output_type": "stream",
     "text": [
      "... storing 'Manual Annotation Round 2' as categorical\n",
      "... storing 'scANVI Prediction By Organ' as categorical\n",
      "... storing 'scANVI Prediction By Organ-Compartment' as categorical\n",
      "... storing 'tissue' as categorical\n",
      "... storing 'scANVI Prediction By Organ with Alternate Training' as categorical\n",
      "... storing 'scANVI Prediction By Organ-Compartment with Alternate Training' as categorical\n",
      "... storing 'phase' as categorical\n",
      "... storing 'scANVI Prediction Ontology Term By Organ' as categorical\n",
      "... storing 'scANVI Prediction Ontology Term By Organ with Alternate Training' as categorical\n",
      "... storing 'scANVI Prediction Ontology Term By Organ-Compartment' as categorical\n",
      "... storing 'scANVI Prediction Ontology Term By Organ-Compartment with Alternate Training' as categorical\n",
      "... storing 'Manual Annotation Round 2 Ontology Terms' as categorical\n"
     ]
    }
   ],
   "source": [
    "raw.write_h5ad('CombineCompartments.scANVI.all.count.h5ad')\n",
    "imputed_adata.write_h5ad('CombineCompartments.scANVI.all.imputed.h5ad')\n",
    "new_adata.write_h5ad('CombineCompartments.scANVI.all.scanpy_norm.h5ad')"
   ]
  },
  {
   "cell_type": "code",
   "execution_count": 49,
   "metadata": {},
   "outputs": [],
   "source": [
    "def SubsetWrite(adata, subset, filename):\n",
    "    adata = adata[subset]\n",
    "    if adata.shape[0]>0:\n",
    "        print(filename)\n",
    "        sc.pp.neighbors(adata, n_neighbors=20, n_pcs=30, use_rep=\"X_scvi\")\n",
    "        sc.tl.umap(adata)\n",
    "        sc.tl.leiden(adata)\n",
    "        sc.tl.tsne(adata, use_rep = 'X_scvi')\n",
    "        adata.write_h5ad(filename)\n",
    "    else:\n",
    "        print(\"there is no cells to put in %s\" %filename)\n",
    "        \n",
    "        \n",
    "normalization_method = ['count', 'imputed','scanpy_norm']\n"
   ]
  },
  {
   "cell_type": "code",
   "execution_count": null,
   "metadata": {},
   "outputs": [
    {
     "name": "stdout",
     "output_type": "stream",
     "text": [
      "CombineCompartments.scANVI.Immune.count.h5ad\n",
      "CombineCompartments.scANVI.Immune.imputed.h5ad\n",
      "CombineCompartments.scANVI.Immune.scanpy_norm.h5ad\n",
      "CombineCompartments.scANVI.endothelial.count.h5ad\n",
      "CombineCompartments.scANVI.endothelial.imputed.h5ad\n",
      "CombineCompartments.scANVI.endothelial.scanpy_norm.h5ad\n",
      "CombineCompartments.scANVI.epithelial.count.h5ad\n",
      "CombineCompartments.scANVI.epithelial.imputed.h5ad\n",
      "CombineCompartments.scANVI.epithelial.scanpy_norm.h5ad\n",
      "CombineCompartments.scANVI.mixed.count.h5ad\n",
      "CombineCompartments.scANVI.mixed.imputed.h5ad\n",
      "CombineCompartments.scANVI.mixed.scanpy_norm.h5ad\n"
     ]
    }
   ],
   "source": [
    "for comp in np.unique(raw.obs['Smoothed Compartment Prediction']):\n",
    "    subset = raw.obs['Smoothed Compartment Prediction']==comp\n",
    "    for norm, adata in zip(normalization_method, [raw, imputed_adata, new_adata]):\n",
    "        SubsetWrite(adata, subset, 'CombineCompartments.scANVI.%s.%s.h5ad'%(comp, norm))\n",
    "    "
   ]
  },
  {
   "cell_type": "code",
   "execution_count": null,
   "metadata": {},
   "outputs": [],
   "source": [
    "for tissue in np.unique(raw.obs['tissue']):\n",
    "    subset = raw.obs['tissue']==tissue\n",
    "    for norm, adata in zip(normalization_method, [raw, imputed_adata, new_adata]):\n",
    "        SubsetWrite(adata, subset, 'CombineCompartments.scANVI.%s.%s.h5ad'%(tissue, norm))\n",
    "    "
   ]
  },
  {
   "cell_type": "code",
   "execution_count": null,
   "metadata": {},
   "outputs": [],
   "source": [
    "for tissue in np.unique(raw.obs['tissue']):\n",
    "    for comp in ['Endothelial', 'Epithelial', 'Immune', 'Stromal', 'mixed']:\n",
    "        subset = np.logical_and(raw.obs['Smoothed Compartment Prediction']==comp, raw.obs['tissue']==tissue)\n",
    "        for norm, adata in zip(normalization_method, [raw, imputed_adata, new_adata]):\n",
    "            SubsetWrite(adata, subset, 'CombineCompartments.scANVI.%s.%s.%s.h5ad'%(tissue, comp, norm))\n",
    "\n",
    "    "
   ]
  },
  {
   "cell_type": "code",
   "execution_count": null,
   "metadata": {},
   "outputs": [],
   "source": [
    "subset = np.logical_or(raw.obs['Pancreas Prediction']=='pancreas', raw.obs['tissue']=='Pancreas')\n",
    "for norm, adata in zip(normalization_method, [raw, imputed_adata, new_adata]):\n",
    "    SubsetWrite(adata, subset, 'CombineCompartments.scANVI.%s.%s.h5ad'%('pancreas_all', norm))\n"
   ]
  }
 ],
 "metadata": {
  "kernelspec": {
   "display_name": "Python 3",
   "language": "python",
   "name": "python3"
  },
  "language_info": {
   "codemirror_mode": {
    "name": "ipython",
    "version": 3
   },
   "file_extension": ".py",
   "mimetype": "text/x-python",
   "name": "python",
   "nbconvert_exporter": "python",
   "pygments_lexer": "ipython3",
   "version": "3.7.4"
  },
  "toc": {
   "base_numbering": 1,
   "nav_menu": {
    "height": "449px",
    "width": "353px"
   },
   "number_sections": true,
   "sideBar": true,
   "skip_h1_title": false,
   "title_cell": "Table of Contents",
   "title_sidebar": "Contents",
   "toc_cell": false,
   "toc_position": {},
   "toc_section_display": true,
   "toc_window_display": true
  }
 },
 "nbformat": 4,
 "nbformat_minor": 2
}
