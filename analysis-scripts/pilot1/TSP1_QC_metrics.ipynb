{
 "cells": [
  {
   "cell_type": "markdown",
   "metadata": {},
   "source": [
    "# Import packages"
   ]
  },
  {
   "cell_type": "code",
   "execution_count": 2,
   "metadata": {},
   "outputs": [
    {
     "name": "stderr",
     "output_type": "stream",
     "text": [
      "[2020-02-24 12:54:09,265] INFO - scvi._settings | Added StreamHandler with custom formatter to 'scvi' logger.\n",
      "/home/angela/anaconda3/lib/python3.7/site-packages/sklearn/utils/linear_assignment_.py:21: DeprecationWarning: The linear_assignment_ module is deprecated in 0.21 and will be removed from 0.23. Use scipy.optimize.linear_sum_assignment instead.\n",
      "  DeprecationWarning)\n"
     ]
    },
    {
     "name": "stdout",
     "output_type": "stream",
     "text": [
      "0.5.0\n",
      "scanpy==1.4.5.post2 anndata==0.6.22.post1 umap==0.3.10 numpy==1.17.2 scipy==1.3.1 pandas==0.25.1 scikit-learn==0.21.3 statsmodels==0.10.1 python-igraph==0.7.1 louvain==0.6.1\n"
     ]
    }
   ],
   "source": [
    "import warnings\n",
    "warnings.filterwarnings('ignore')\n",
    "import sys\n",
    "\n",
    "# sys.path.append('/data/yosef2/users/chenling/scVI/')\n",
    "sys.path.append('../../utils/')\n",
    "from annotations_utils import *\n",
    "import scvi\n",
    "print(scvi.__version__)\n",
    "\n",
    "import os\n",
    "os.getcwd()\n",
    "\n",
    "import logging\n",
    "import pickle\n",
    "from MulticoreTSNE import MulticoreTSNE as TSNE\n",
    "\n",
    "import matplotlib.pyplot as plt\n",
    "import numpy as np\n",
    "import pandas as pd\n",
    "from copy import deepcopy\n",
    "\n",
    "from scvi.dataset.anndataset import AnnDatasetFromAnnData\n",
    "\n",
    "import scanpy as sc\n",
    "sc.settings.verbosity = 3  # verbosity: errors (0), warnings (1), info (2), hints (3)\n",
    "\n",
    "from anndata import read_h5ad\n",
    "from anndata import AnnData\n",
    "\n",
    "import matplotlib\n",
    "\n",
    "matplotlib.rcParams['pdf.fonttype'] = 42\n",
    "matplotlib.rcParams['ps.fonttype'] = 42\n",
    "%matplotlib inline\n",
    "\n",
    "n_epochs = 150\n",
    "show_plot = True\n",
    "test_mode = False\n",
    "use_batches = True\n",
    "use_cuda = True\n",
    "lr = 1e-3\n",
    "retrain=True\n",
    "\n",
    "\n",
    "sc.logging.print_versions()"
   ]
  },
  {
   "cell_type": "markdown",
   "metadata": {},
   "source": [
    "# Load data"
   ]
  },
  {
   "cell_type": "code",
   "execution_count": 3,
   "metadata": {},
   "outputs": [],
   "source": [
    "data_path = '../../data-objs/pilot1/FinalAnnotation/'"
   ]
  },
  {
   "cell_type": "code",
   "execution_count": 7,
   "metadata": {},
   "outputs": [],
   "source": [
    "import os\n",
    "os.listdir(data_path)"
   ]
  },
  {
   "cell_type": "code",
   "execution_count": 8,
   "metadata": {},
   "outputs": [
    {
     "data": {
      "text/plain": [
       "AnnData object with n_obs × n_vars = 68451 × 21301 \n",
       "    obs: 'Tissue Tech', '10X_plate', 'Manual Annotation Round 2', 'scANVI Prediction By Organ', 'n_genes', 'tissue', 'leiden_scvi', 'leiden_scvi_split', 'Compartment', 'scANVI Prediction By Organ-Compartment', 'scANVI Prediction By Organ with Alternate Training', 'scANVI Prediction By Organ-Compartment with Alternate Training', 'batch_id', 'S_score', 'G2M_score', 'phase', 'scANVI Prediction Ontology Term By Organ', 'scANVI Prediction Ontology Term By Organ with Alternate Training', 'scANVI Prediction Ontology Term By Organ-Compartment', 'scANVI Prediction Ontology Term By Organ-Compartment with Alternate Training', 'Manual Annotation Round 2 Ontology Terms', 'log1p_total_counts'\n",
       "    var: 'n_cells-0', 'n_cells-1'\n",
       "    uns: 'neighbors'\n",
       "    obsm: 'X_scvi', 'X_umap'"
      ]
     },
     "execution_count": 8,
     "metadata": {},
     "output_type": "execute_result"
    }
   ],
   "source": [
    "adata = read_h5ad(data_path+'CombineCompartments.scANVI.all.h5ad')\n",
    "adata"
   ]
  },
  {
   "cell_type": "code",
   "execution_count": 9,
   "metadata": {},
   "outputs": [
    {
     "data": {
      "text/html": [
       "<div>\n",
       "<style scoped>\n",
       "    .dataframe tbody tr th:only-of-type {\n",
       "        vertical-align: middle;\n",
       "    }\n",
       "\n",
       "    .dataframe tbody tr th {\n",
       "        vertical-align: top;\n",
       "    }\n",
       "\n",
       "    .dataframe thead th {\n",
       "        text-align: right;\n",
       "    }\n",
       "</style>\n",
       "<table border=\"1\" class=\"dataframe\">\n",
       "  <thead>\n",
       "    <tr style=\"text-align: right;\">\n",
       "      <th></th>\n",
       "      <th>Tissue Tech</th>\n",
       "      <th>10X_plate</th>\n",
       "      <th>Manual Annotation Round 2</th>\n",
       "      <th>scANVI Prediction By Organ</th>\n",
       "      <th>n_genes</th>\n",
       "      <th>tissue</th>\n",
       "      <th>leiden_scvi</th>\n",
       "      <th>leiden_scvi_split</th>\n",
       "      <th>Compartment</th>\n",
       "      <th>scANVI Prediction By Organ-Compartment</th>\n",
       "      <th>...</th>\n",
       "      <th>batch_id</th>\n",
       "      <th>S_score</th>\n",
       "      <th>G2M_score</th>\n",
       "      <th>phase</th>\n",
       "      <th>scANVI Prediction Ontology Term By Organ</th>\n",
       "      <th>scANVI Prediction Ontology Term By Organ with Alternate Training</th>\n",
       "      <th>scANVI Prediction Ontology Term By Organ-Compartment</th>\n",
       "      <th>scANVI Prediction Ontology Term By Organ-Compartment with Alternate Training</th>\n",
       "      <th>Manual Annotation Round 2 Ontology Terms</th>\n",
       "      <th>log1p_total_counts</th>\n",
       "    </tr>\n",
       "    <tr>\n",
       "      <th>index</th>\n",
       "      <th></th>\n",
       "      <th></th>\n",
       "      <th></th>\n",
       "      <th></th>\n",
       "      <th></th>\n",
       "      <th></th>\n",
       "      <th></th>\n",
       "      <th></th>\n",
       "      <th></th>\n",
       "      <th></th>\n",
       "      <th></th>\n",
       "      <th></th>\n",
       "      <th></th>\n",
       "      <th></th>\n",
       "      <th></th>\n",
       "      <th></th>\n",
       "      <th></th>\n",
       "      <th></th>\n",
       "      <th></th>\n",
       "      <th></th>\n",
       "      <th></th>\n",
       "    </tr>\n",
       "  </thead>\n",
       "  <tbody>\n",
       "    <tr>\n",
       "      <td>AAACGAAAGCATCCCG-1-0</td>\n",
       "      <td>endopancreas_10x</td>\n",
       "      <td>1</td>\n",
       "      <td>unassigned</td>\n",
       "      <td>pancreatic ductal cell</td>\n",
       "      <td>500</td>\n",
       "      <td>Pancreas</td>\n",
       "      <td>4</td>\n",
       "      <td>6</td>\n",
       "      <td>Epithelial</td>\n",
       "      <td>pancreatic ductal cell</td>\n",
       "      <td>...</td>\n",
       "      <td>8</td>\n",
       "      <td>0.001789</td>\n",
       "      <td>-0.030600</td>\n",
       "      <td>S</td>\n",
       "      <td>pancreatic ductal cell</td>\n",
       "      <td>pancreatic ductal cell</td>\n",
       "      <td>pancreatic ductal cell</td>\n",
       "      <td>pancreatic ductal cell</td>\n",
       "      <td>cell</td>\n",
       "      <td>6.467699</td>\n",
       "    </tr>\n",
       "    <tr>\n",
       "      <td>AAAGGATTCTCGCCTA-1-0</td>\n",
       "      <td>endopancreas_10x</td>\n",
       "      <td>1</td>\n",
       "      <td>unassigned</td>\n",
       "      <td>pancreatic acinar cell</td>\n",
       "      <td>384</td>\n",
       "      <td>Pancreas</td>\n",
       "      <td>0</td>\n",
       "      <td>2</td>\n",
       "      <td>mixed</td>\n",
       "      <td>pancreatic acinar cell</td>\n",
       "      <td>...</td>\n",
       "      <td>8</td>\n",
       "      <td>0.012151</td>\n",
       "      <td>-0.150551</td>\n",
       "      <td>S</td>\n",
       "      <td>pancreatic acinar cell</td>\n",
       "      <td>pancreatic acinar cell</td>\n",
       "      <td>pancreatic acinar cell</td>\n",
       "      <td>pancreatic acinar cell</td>\n",
       "      <td>cell</td>\n",
       "      <td>7.651596</td>\n",
       "    </tr>\n",
       "    <tr>\n",
       "      <td>AAAGGGCGTGGGCTCT-1-0</td>\n",
       "      <td>endopancreas_10x</td>\n",
       "      <td>1</td>\n",
       "      <td>pancreatic acinar cell</td>\n",
       "      <td>pancreatic acinar cell</td>\n",
       "      <td>215</td>\n",
       "      <td>Pancreas</td>\n",
       "      <td>2</td>\n",
       "      <td>0</td>\n",
       "      <td>Stromal</td>\n",
       "      <td>pancreatic acinar cell</td>\n",
       "      <td>...</td>\n",
       "      <td>8</td>\n",
       "      <td>-0.009067</td>\n",
       "      <td>-0.154223</td>\n",
       "      <td>G1</td>\n",
       "      <td>pancreatic acinar cell</td>\n",
       "      <td>pancreatic acinar cell</td>\n",
       "      <td>pancreatic acinar cell</td>\n",
       "      <td>pancreatic acinar cell</td>\n",
       "      <td>pancreatic acinar cell</td>\n",
       "      <td>7.617760</td>\n",
       "    </tr>\n",
       "    <tr>\n",
       "      <td>AACAAAGTCGAAGCCC-1-0</td>\n",
       "      <td>endopancreas_10x</td>\n",
       "      <td>1</td>\n",
       "      <td>pancreatic acinar cell</td>\n",
       "      <td>pancreatic acinar cell</td>\n",
       "      <td>343</td>\n",
       "      <td>Pancreas</td>\n",
       "      <td>4</td>\n",
       "      <td>3</td>\n",
       "      <td>Epithelial</td>\n",
       "      <td>pancreatic acinar cell</td>\n",
       "      <td>...</td>\n",
       "      <td>8</td>\n",
       "      <td>-0.009067</td>\n",
       "      <td>-0.035337</td>\n",
       "      <td>G1</td>\n",
       "      <td>pancreatic acinar cell</td>\n",
       "      <td>pancreatic ductal cell</td>\n",
       "      <td>pancreatic acinar cell</td>\n",
       "      <td>pancreatic ductal cell</td>\n",
       "      <td>pancreatic acinar cell</td>\n",
       "      <td>6.666957</td>\n",
       "    </tr>\n",
       "    <tr>\n",
       "      <td>AACAACCTCAACGAGG-1-0</td>\n",
       "      <td>endopancreas_10x</td>\n",
       "      <td>1</td>\n",
       "      <td>endothelial cell</td>\n",
       "      <td>endothelial cell</td>\n",
       "      <td>1590</td>\n",
       "      <td>Pancreas</td>\n",
       "      <td>7</td>\n",
       "      <td>7</td>\n",
       "      <td>mixed</td>\n",
       "      <td>endothelial cell</td>\n",
       "      <td>...</td>\n",
       "      <td>8</td>\n",
       "      <td>-0.002406</td>\n",
       "      <td>-0.102339</td>\n",
       "      <td>G1</td>\n",
       "      <td>endothelial cell</td>\n",
       "      <td>endothelial cell</td>\n",
       "      <td>endothelial cell</td>\n",
       "      <td>endothelial cell</td>\n",
       "      <td>endothelial cell</td>\n",
       "      <td>8.036250</td>\n",
       "    </tr>\n",
       "  </tbody>\n",
       "</table>\n",
       "<p>5 rows × 22 columns</p>\n",
       "</div>"
      ],
      "text/plain": [
       "                           Tissue Tech 10X_plate Manual Annotation Round 2  \\\n",
       "index                                                                        \n",
       "AAACGAAAGCATCCCG-1-0  endopancreas_10x         1                unassigned   \n",
       "AAAGGATTCTCGCCTA-1-0  endopancreas_10x         1                unassigned   \n",
       "AAAGGGCGTGGGCTCT-1-0  endopancreas_10x         1    pancreatic acinar cell   \n",
       "AACAAAGTCGAAGCCC-1-0  endopancreas_10x         1    pancreatic acinar cell   \n",
       "AACAACCTCAACGAGG-1-0  endopancreas_10x         1          endothelial cell   \n",
       "\n",
       "                     scANVI Prediction By Organ  n_genes    tissue  \\\n",
       "index                                                                \n",
       "AAACGAAAGCATCCCG-1-0     pancreatic ductal cell      500  Pancreas   \n",
       "AAAGGATTCTCGCCTA-1-0     pancreatic acinar cell      384  Pancreas   \n",
       "AAAGGGCGTGGGCTCT-1-0     pancreatic acinar cell      215  Pancreas   \n",
       "AACAAAGTCGAAGCCC-1-0     pancreatic acinar cell      343  Pancreas   \n",
       "AACAACCTCAACGAGG-1-0           endothelial cell     1590  Pancreas   \n",
       "\n",
       "                     leiden_scvi leiden_scvi_split Compartment  \\\n",
       "index                                                            \n",
       "AAACGAAAGCATCCCG-1-0           4                 6  Epithelial   \n",
       "AAAGGATTCTCGCCTA-1-0           0                 2       mixed   \n",
       "AAAGGGCGTGGGCTCT-1-0           2                 0     Stromal   \n",
       "AACAAAGTCGAAGCCC-1-0           4                 3  Epithelial   \n",
       "AACAACCTCAACGAGG-1-0           7                 7       mixed   \n",
       "\n",
       "                     scANVI Prediction By Organ-Compartment  ... batch_id  \\\n",
       "index                                                        ...            \n",
       "AAACGAAAGCATCCCG-1-0                 pancreatic ductal cell  ...        8   \n",
       "AAAGGATTCTCGCCTA-1-0                 pancreatic acinar cell  ...        8   \n",
       "AAAGGGCGTGGGCTCT-1-0                 pancreatic acinar cell  ...        8   \n",
       "AACAAAGTCGAAGCCC-1-0                 pancreatic acinar cell  ...        8   \n",
       "AACAACCTCAACGAGG-1-0                       endothelial cell  ...        8   \n",
       "\n",
       "                       S_score  G2M_score  phase  \\\n",
       "index                                              \n",
       "AAACGAAAGCATCCCG-1-0  0.001789  -0.030600      S   \n",
       "AAAGGATTCTCGCCTA-1-0  0.012151  -0.150551      S   \n",
       "AAAGGGCGTGGGCTCT-1-0 -0.009067  -0.154223     G1   \n",
       "AACAAAGTCGAAGCCC-1-0 -0.009067  -0.035337     G1   \n",
       "AACAACCTCAACGAGG-1-0 -0.002406  -0.102339     G1   \n",
       "\n",
       "                      scANVI Prediction Ontology Term By Organ  \\\n",
       "index                                                            \n",
       "AAACGAAAGCATCCCG-1-0                    pancreatic ductal cell   \n",
       "AAAGGATTCTCGCCTA-1-0                    pancreatic acinar cell   \n",
       "AAAGGGCGTGGGCTCT-1-0                    pancreatic acinar cell   \n",
       "AACAAAGTCGAAGCCC-1-0                    pancreatic acinar cell   \n",
       "AACAACCTCAACGAGG-1-0                          endothelial cell   \n",
       "\n",
       "                     scANVI Prediction Ontology Term By Organ with Alternate Training  \\\n",
       "index                                                                                   \n",
       "AAACGAAAGCATCCCG-1-0                             pancreatic ductal cell                 \n",
       "AAAGGATTCTCGCCTA-1-0                             pancreatic acinar cell                 \n",
       "AAAGGGCGTGGGCTCT-1-0                             pancreatic acinar cell                 \n",
       "AACAAAGTCGAAGCCC-1-0                             pancreatic ductal cell                 \n",
       "AACAACCTCAACGAGG-1-0                                   endothelial cell                 \n",
       "\n",
       "                     scANVI Prediction Ontology Term By Organ-Compartment  \\\n",
       "index                                                                       \n",
       "AAACGAAAGCATCCCG-1-0                             pancreatic ductal cell     \n",
       "AAAGGATTCTCGCCTA-1-0                             pancreatic acinar cell     \n",
       "AAAGGGCGTGGGCTCT-1-0                             pancreatic acinar cell     \n",
       "AACAAAGTCGAAGCCC-1-0                             pancreatic acinar cell     \n",
       "AACAACCTCAACGAGG-1-0                                   endothelial cell     \n",
       "\n",
       "                     scANVI Prediction Ontology Term By Organ-Compartment with Alternate Training  \\\n",
       "index                                                                                               \n",
       "AAACGAAAGCATCCCG-1-0                             pancreatic ductal cell                             \n",
       "AAAGGATTCTCGCCTA-1-0                             pancreatic acinar cell                             \n",
       "AAAGGGCGTGGGCTCT-1-0                             pancreatic acinar cell                             \n",
       "AACAAAGTCGAAGCCC-1-0                             pancreatic ductal cell                             \n",
       "AACAACCTCAACGAGG-1-0                                   endothelial cell                             \n",
       "\n",
       "                     Manual Annotation Round 2 Ontology Terms  \\\n",
       "index                                                           \n",
       "AAACGAAAGCATCCCG-1-0                                     cell   \n",
       "AAAGGATTCTCGCCTA-1-0                                     cell   \n",
       "AAAGGGCGTGGGCTCT-1-0                   pancreatic acinar cell   \n",
       "AACAAAGTCGAAGCCC-1-0                   pancreatic acinar cell   \n",
       "AACAACCTCAACGAGG-1-0                         endothelial cell   \n",
       "\n",
       "                     log1p_total_counts  \n",
       "index                                    \n",
       "AAACGAAAGCATCCCG-1-0           6.467699  \n",
       "AAAGGATTCTCGCCTA-1-0           7.651596  \n",
       "AAAGGGCGTGGGCTCT-1-0           7.617760  \n",
       "AACAAAGTCGAAGCCC-1-0           6.666957  \n",
       "AACAACCTCAACGAGG-1-0           8.036250  \n",
       "\n",
       "[5 rows x 22 columns]"
      ]
     },
     "execution_count": 9,
     "metadata": {},
     "output_type": "execute_result"
    }
   ],
   "source": [
    "adata.obs.head()"
   ]
  },
  {
   "cell_type": "code",
   "execution_count": 10,
   "metadata": {},
   "outputs": [
    {
     "data": {
      "text/plain": [
       "AnnData object with n_obs × n_vars = 68451 × 21301 \n",
       "    obs: '10X_plate', 'Compartment', 'G2M_score', 'S_score', 'batch_id', 'leiden_scvi', 'leiden_scvi_split', 'log1p_total_counts', 'manual_cell_ontology', 'manual_free_annotation', 'method', 'n_genes', 'phase', 'scANVI_organ_alternate_training_cell_ontology', 'scANVI_organ_alternate_training_free_annotation', 'scANVI_organ_cell_ontology', 'scANVI_organ_compartment_alternate_training_cell_ontology', 'scANVI_organ_compartment_alternate_training_free_annotation', 'scANVI_organ_compartment_cell_ontology', 'scANVI_organ_compartment_free_annotation', 'scANVI_organ_free_annotation', 'subtissue', 'tissue', 'tissue_method'\n",
       "    var: 'n_cells-0', 'n_cells-1'\n",
       "    uns: 'neighbors'\n",
       "    obsm: 'X_scvi', 'X_umap'"
      ]
     },
     "execution_count": 10,
     "metadata": {},
     "output_type": "execute_result"
    }
   ],
   "source": [
    "adata.obs['tissue'] = adata.obs['tissue'].str.lower()\n",
    "adata.obs['subtissue'] = adata.obs['tissue']\n",
    "adata.obs.loc[adata.obs['tissue'].isin(\n",
    "    ['exopancreas1','endopancreas','exopancreas2','pancreasendocrine', 'pancreasexocrine']),'tissue'] = 'pancreas'\n",
    "\n",
    "adata.obs['method'] = [tt.split('_')[1] for tt in adata.obs['Tissue Tech']]\n",
    "\n",
    "# adata.obs = adata.obs.drop(\n",
    "#     ['Compartment Prediction', '10X_plate','Compartment', 'S_score', 'G2M_score', 'phase'],\n",
    "#     axis=1)\n",
    "\n",
    "adata.obs = adata.obs.rename(columns={\"Tissue Tech\": \"tissue_method\",\n",
    "                                      \"Pancreas Prediction\" : \"pancreas_prediction\",\n",
    "                                     \"Manual Annotation Round 2\": \"manual_free_annotation\",\n",
    "                                     \"Manual Annotation Round 2 Ontology Terms\": \"manual_cell_ontology\",\n",
    "                                     \"Smoothed Compartment Prediction\": \"compartment_prediction\",\n",
    "                                     \"scANVI Prediction By Organ\": \"scANVI_organ_free_annotation\",\n",
    "                                     \"scANVI Prediction By Organ-Compartment\": \"scANVI_organ_compartment_free_annotation\",\n",
    "                                     \"scANVI Prediction By Organ with Alternate Training\": \"scANVI_organ_alternate_training_free_annotation\",\n",
    "                                     \"scANVI Prediction By Organ-Compartment with Alternate Training\": \"scANVI_organ_compartment_alternate_training_free_annotation\",\n",
    "                                     \"scANVI Prediction Ontology Term By Organ\": \"scANVI_organ_cell_ontology\",\n",
    "                                     \"scANVI Prediction Ontology Term By Organ-Compartment\": \"scANVI_organ_compartment_cell_ontology\",\n",
    "                                     \"scANVI Prediction Ontology Term By Organ with Alternate Training\": \"scANVI_organ_alternate_training_cell_ontology\",\n",
    "                                     \"scANVI Prediction Ontology Term By Organ-Compartment with Alternate Training\": \"scANVI_organ_compartment_alternate_training_cell_ontology\"})\n",
    "\n",
    "# adata.obs['compartment_prediction'] = adata.obs['compartment_prediction'].str.lower()\n",
    "\n",
    "adata.obs = adata.obs.reindex(sorted(adata.obs.columns), axis=1)\n",
    "\n",
    "adata"
   ]
  },
  {
   "cell_type": "code",
   "execution_count": 11,
   "metadata": {},
   "outputs": [
    {
     "data": {
      "text/plain": [
       "index\n",
       "AAACGAAAGCATCCCG-1-0    10x\n",
       "AAAGGATTCTCGCCTA-1-0    10x\n",
       "AAAGGGCGTGGGCTCT-1-0    10x\n",
       "AACAAAGTCGAAGCCC-1-0    10x\n",
       "AACAACCTCAACGAGG-1-0    10x\n",
       "Name: method, dtype: object"
      ]
     },
     "execution_count": 11,
     "metadata": {},
     "output_type": "execute_result"
    }
   ],
   "source": [
    "adata.obs['method'].head()"
   ]
  },
  {
   "cell_type": "code",
   "execution_count": 12,
   "metadata": {},
   "outputs": [
    {
     "data": {
      "text/plain": [
       "AnnData object with n_obs × n_vars = 64367 × 21301 \n",
       "    obs: '10X_plate', 'Compartment', 'G2M_score', 'S_score', 'batch_id', 'leiden_scvi', 'leiden_scvi_split', 'log1p_total_counts', 'manual_cell_ontology', 'manual_free_annotation', 'method', 'n_genes', 'phase', 'scANVI_organ_alternate_training_cell_ontology', 'scANVI_organ_alternate_training_free_annotation', 'scANVI_organ_cell_ontology', 'scANVI_organ_compartment_alternate_training_cell_ontology', 'scANVI_organ_compartment_alternate_training_free_annotation', 'scANVI_organ_compartment_cell_ontology', 'scANVI_organ_compartment_free_annotation', 'scANVI_organ_free_annotation', 'subtissue', 'tissue', 'tissue_method'\n",
       "    var: 'n_cells-0', 'n_cells-1'\n",
       "    uns: 'neighbors'\n",
       "    obsm: 'X_scvi', 'X_umap'"
      ]
     },
     "execution_count": 12,
     "metadata": {},
     "output_type": "execute_result"
    }
   ],
   "source": [
    "adata10X = adata[adata.obs['method']=='10x'].copy()\n",
    "adata10X"
   ]
  },
  {
   "cell_type": "code",
   "execution_count": 13,
   "metadata": {},
   "outputs": [
    {
     "data": {
      "text/plain": [
       "matrix([[0., 0., 0., ..., 0., 1., 0.],\n",
       "        [0., 0., 0., ..., 0., 0., 0.],\n",
       "        [0., 0., 0., ..., 0., 0., 0.],\n",
       "        ...,\n",
       "        [0., 0., 0., ..., 0., 0., 0.],\n",
       "        [0., 0., 0., ..., 0., 0., 0.],\n",
       "        [0., 0., 0., ..., 0., 0., 0.]], dtype=float32)"
      ]
     },
     "execution_count": 13,
     "metadata": {},
     "output_type": "execute_result"
    }
   ],
   "source": [
    "adata10X.X[1000:2000,1000:2000].todense()"
   ]
  },
  {
   "cell_type": "code",
   "execution_count": 14,
   "metadata": {},
   "outputs": [
    {
     "data": {
      "text/plain": [
       "AnnData object with n_obs × n_vars = 64367 × 21301 \n",
       "    obs: '10X_plate', 'Compartment', 'G2M_score', 'S_score', 'batch_id', 'leiden_scvi', 'leiden_scvi_split', 'log1p_total_counts', 'manual_cell_ontology', 'manual_free_annotation', 'method', 'n_genes', 'phase', 'scANVI_organ_alternate_training_cell_ontology', 'scANVI_organ_alternate_training_free_annotation', 'scANVI_organ_cell_ontology', 'scANVI_organ_compartment_alternate_training_cell_ontology', 'scANVI_organ_compartment_alternate_training_free_annotation', 'scANVI_organ_compartment_cell_ontology', 'scANVI_organ_compartment_free_annotation', 'scANVI_organ_free_annotation', 'subtissue', 'tissue', 'tissue_method', 'n_counts'\n",
       "    var: 'n_cells-0', 'n_cells-1'\n",
       "    uns: 'neighbors'\n",
       "    obsm: 'X_scvi', 'X_umap'"
      ]
     },
     "execution_count": 14,
     "metadata": {},
     "output_type": "execute_result"
    }
   ],
   "source": [
    "sc.pp.filter_cells(adata10X,min_counts=0)\n",
    "sc.pp.filter_cells(adata10X,min_genes=0)\n",
    "adata10X"
   ]
  },
  {
   "cell_type": "code",
   "execution_count": 16,
   "metadata": {},
   "outputs": [
    {
     "data": {
      "text/plain": [
       "<seaborn.axisgrid.FacetGrid at 0x7f710b645650>"
      ]
     },
     "execution_count": 16,
     "metadata": {},
     "output_type": "execute_result"
    },
    {
     "data": {
      "image/png": "[encoded data removed]",
      "text/plain": [
       "<Figure size 360x360 with 1 Axes>"
      ]
     },
     "metadata": {
      "needs_background": "light"
     },
     "output_type": "display_data"
    }
   ],
   "source": [
    "sns.catplot(data = adata10X.obs, x = 'tissue', y='n_genes',kind='box')"
   ]
  },
  {
   "cell_type": "code",
   "execution_count": 18,
   "metadata": {},
   "outputs": [
    {
     "data": {
      "text/plain": [
       "<seaborn.axisgrid.FacetGrid at 0x7f7102629650>"
      ]
     },
     "execution_count": 18,
     "metadata": {},
     "output_type": "execute_result"
    },
    {
     "data": {
      "image/png": "[encoded data removed]",
      "text/plain": [
       "<Figure size 360x360 with 1 Axes>"
      ]
     },
     "metadata": {
      "needs_background": "light"
     },
     "output_type": "display_data"
    }
   ],
   "source": [
    "sns.catplot(data = adata10X.obs, x = 'tissue', y='n_counts',kind='box')"
   ]
  },
  {
   "cell_type": "code",
   "execution_count": null,
   "metadata": {},
   "outputs": [],
   "source": []
  },
  {
   "cell_type": "code",
   "execution_count": null,
   "metadata": {},
   "outputs": [],
   "source": []
  }
 ],
 "metadata": {
  "kernelspec": {
   "display_name": "Python 3",
   "language": "python",
   "name": "python3"
  },
  "language_info": {
   "codemirror_mode": {
    "name": "ipython",
    "version": 3
   },
   "file_extension": ".py",
   "mimetype": "text/x-python",
   "name": "python",
   "nbconvert_exporter": "python",
   "pygments_lexer": "ipython3",
   "version": "3.7.4"
  },
  "toc": {
   "base_numbering": 1,
   "nav_menu": {
    "height": "449px",
    "width": "353px"
   },
   "number_sections": true,
   "sideBar": true,
   "skip_h1_title": false,
   "title_cell": "Table of Contents",
   "title_sidebar": "Contents",
   "toc_cell": false,
   "toc_position": {},
   "toc_section_display": true,
   "toc_window_display": true
  }
 },
 "nbformat": 4,
 "nbformat_minor": 2
}
