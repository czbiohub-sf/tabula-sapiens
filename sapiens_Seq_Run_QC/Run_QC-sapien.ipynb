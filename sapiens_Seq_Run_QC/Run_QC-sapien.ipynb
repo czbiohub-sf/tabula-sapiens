{
 "cells": [
  {
   "cell_type": "markdown",
   "metadata": {},
   "source": [
    "Quality Control for Each Sequencing Run"
   ]
  },
  {
   "cell_type": "code",
   "execution_count": 185,
   "metadata": {},
   "outputs": [],
   "source": [
    "# importing python modules\n",
    "import numpy as np\n",
    "import pandas as pd\n",
    "import matplotlib.pyplot as plt\n",
    "import scanpy.api as sc\n",
    "from anndata import read_h5ad\n",
    "import anndata\n",
    "from plotnine import *\n",
    "from plotnine.data import mtcars\n",
    "\n",
    "%matplotlib inline"
   ]
  },
  {
   "cell_type": "code",
   "execution_count": 228,
   "metadata": {},
   "outputs": [],
   "source": [
    "# importing Run GC and subsetting out the last 5 rows\n",
    "\n",
    "### subsetting out the last 5 rows\n",
    "run1 = pd.read_csv(\"190627_A00111_0335_BHLMG5DSXX_corrected.csv\",index_col='gene') \n",
    "run1 = run1.iloc[:-5]\n",
    "\n",
    "run2 = pd.read_csv(\"190724_A00111_0345_BHMC5GDSXX_gene_cell_table.csv\",index_col='gene') \n",
    "run2 = run2.iloc[:-5]"
   ]
  },
  {
   "cell_type": "code",
   "execution_count": 229,
   "metadata": {},
   "outputs": [
    {
     "data": {
      "text/plain": [
       "((26577, 7278), (26577, 736))"
      ]
     },
     "execution_count": 229,
     "metadata": {},
     "output_type": "execute_result"
    }
   ],
   "source": [
    "run1.shape,run2.shape"
   ]
  },
  {
   "cell_type": "code",
   "execution_count": 230,
   "metadata": {},
   "outputs": [],
   "source": [
    "run = pd.concat([run1,run2], axis=1, sort=False)"
   ]
  },
  {
   "cell_type": "code",
   "execution_count": 231,
   "metadata": {},
   "outputs": [
    {
     "data": {
      "text/plain": [
       "(26577, 8014)"
      ]
     },
     "execution_count": 231,
     "metadata": {},
     "output_type": "execute_result"
    }
   ],
   "source": [
    "run.shape"
   ]
  },
  {
   "cell_type": "code",
   "execution_count": 232,
   "metadata": {},
   "outputs": [],
   "source": [
    "# making Anndata object with only matrix X\n",
    "adata = sc.AnnData(run)\n",
    "adata = adata.transpose()"
   ]
  },
  {
   "cell_type": "markdown",
   "metadata": {},
   "source": [
    "# making Anndata object with metadata"
   ]
  },
  {
   "cell_type": "code",
   "execution_count": 233,
   "metadata": {},
   "outputs": [],
   "source": [
    "adata.obs['plate'] = [i.split('_')[0] for i in adata.obs.index] \n",
    "adata.obs['well'] = [i.split('_')[1] for i in adata.obs.index]\n",
    "adata.obs['cell_id'] = [(i.split('_')[1] + \"_\" + i.split('_')[0]) for i in adata.obs.index]\n",
    "myList = list(set(adata.obs['plate']))"
   ]
  },
  {
   "cell_type": "code",
   "execution_count": 234,
   "metadata": {},
   "outputs": [],
   "source": [
    "metadata_file_path = 'metadata_TS_Pilot_Plate Info_071019.csv'\n",
    "meta_data = pd.read_csv(metadata_file_path,index_col='cDNAPlate')"
   ]
  },
  {
   "cell_type": "code",
   "execution_count": 235,
   "metadata": {},
   "outputs": [
    {
     "name": "stdout",
     "output_type": "stream",
     "text": [
      "import complete for run \n"
     ]
    }
   ],
   "source": [
    "try:\n",
    "    auxdict = dict(meta_data['Tissue'][myList])\n",
    "    adata.obs['tissue'] = adata.obs['plate'].map(auxdict)\n",
    "    auxdict = dict(meta_data['PrimarySort'][myList])\n",
    "    adata.obs['PrimarySort'] = adata.obs['plate'].map(auxdict)\n",
    "    \n",
    "    for i in list(adata.obs.index):\n",
    "        if len(adata.obs.loc[i, 'tissue']) == 2:\n",
    "            if int(adata.obs.loc[i, 'well'][1:]) <= 12:\n",
    "                adata.obs.loc[i, 'tissue'] = adata.obs.loc[i, 'tissue'].iloc[0]\n",
    "                adata.obs.loc[i, 'PrimarySort'] = adata.obs.loc[i, 'PrimarySort'].iloc[0]\n",
    "            else:\n",
    "                adata.obs.loc[i, 'tissue'] = adata.obs.loc[i, 'tissue'].iloc[1]\n",
    "                adata.obs.loc[i, 'PrimarySort'] = adata.obs.loc[i, 'PrimarySort'].iloc[1]\n",
    "        \n",
    "            \n",
    "    print('import complete for run ')\n",
    "\n",
    "    \n",
    "except KeyError:\n",
    "    print('sorry, no metadata available for run ')"
   ]
  },
  {
   "cell_type": "code",
   "execution_count": 236,
   "metadata": {},
   "outputs": [],
   "source": [
    "# Calculating number of reads and number of genes for each cell\n",
    "sc.pp.filter_cells(adata, min_counts=0)\n",
    "sc.pp.filter_cells(adata, min_genes=0)"
   ]
  },
  {
   "cell_type": "code",
   "execution_count": 237,
   "metadata": {},
   "outputs": [
    {
     "name": "stderr",
     "output_type": "stream",
     "text": [
      "/Users/weilun.tan/anaconda3/lib/python3.7/site-packages/ipykernel_launcher.py:4: RuntimeWarning: divide by zero encountered in true_divide\n",
      "  after removing the cwd from sys.path.\n",
      "/Users/weilun.tan/anaconda3/lib/python3.7/site-packages/ipykernel_launcher.py:4: RuntimeWarning: invalid value encountered in true_divide\n",
      "  after removing the cwd from sys.path.\n"
     ]
    }
   ],
   "source": [
    "# Calculating Percent ERCC\n",
    "ERCC_genes = adata.var_names.str.startswith('ERCC-')\n",
    "adata.obs['percent_ERCC'] = np.sum(\n",
    "    adata[:, ERCC_genes].X, axis=1) / np.sum(adata.X, axis=1)"
   ]
  },
  {
   "cell_type": "code",
   "execution_count": 238,
   "metadata": {},
   "outputs": [],
   "source": [
    "# filtering out cells with less than 500 genes and 5000 reads\n",
    "filtered = adata[adata.obs['n_genes'] >= 500,:]\n",
    "filtered = filtered[filtered.obs['n_counts'] >= 5000,:]"
   ]
  },
  {
   "cell_type": "code",
   "execution_count": 239,
   "metadata": {},
   "outputs": [],
   "source": [
    "fraction_counting = []\n",
    "for i in set(filtered.obs['plate']):\n",
    "    fraction = \"%.2f\" % float((len(filtered[filtered.obs['plate']==i]))/(len(adata[adata.obs['plate']==i])))\n",
    "    fraction_counting.append((i,fraction,str(list(set(filtered[filtered.obs['plate']==i].obs['tissue']))[0])))\n",
    "fraction_df = pd.DataFrame(fraction_counting, columns =['plate', 'fraction','tissue'])"
   ]
  },
  {
   "cell_type": "code",
   "execution_count": 240,
   "metadata": {},
   "outputs": [],
   "source": [
    "# Making all QC plots\n",
    "\n",
    "### Number of Reads versus Number of Genes\n",
    "g1_unfiltered = (ggplot(adata.obs, aes(x='n_genes', y='n_counts',color='plate')) + geom_point() + scale_y_log10() + geom_hline(yintercept = 5000) + geom_vline(xintercept = 500) + theme(axis_text_x=element_text(rotation=90, hjust=1)) + labs(title='Number of Reads versus Number of Genes (Unfiltered)', x=\"Number of Genes\",y=\"Number of Reads\"))\n",
    "g1_filtered = (ggplot(filtered.obs, aes(x='n_genes', y='n_counts',color='plate')) + geom_point() + scale_y_log10() + geom_hline(yintercept = 5000) + geom_vline(xintercept = 500) + theme(axis_text_x=element_text(rotation=90, hjust=1)) + labs(title='Number of Reads versus Number of Genes (Filtered)', x=\"Number of Genes\",y=\"Number of Reads\"))\n",
    "\n",
    "### Percent ERCCs versus Number of Genes\n",
    "g2_unfiltered = (ggplot(adata.obs, aes(x='n_genes', y='percent_ERCC',color='plate')) + geom_point() + scale_y_log10() + theme(axis_text_x=element_text(rotation=90, hjust=1)) + labs(title='Percent ERCCs versus Number of Genes (Unfiltered)', x=\"Number of Genes\",y=\"Percent ERCCs\"))\n",
    "g2_filtered = (ggplot(filtered.obs, aes(x='n_genes', y='percent_ERCC',color='plate')) + geom_point() + scale_y_log10() + theme(axis_text_x=element_text(rotation=90, hjust=1)) + labs(title='Percent ERCCs versus Number of Genes (Filtered)', x=\"Number of Genes\",y=\"Percent ERCCs\"))\n",
    "\n",
    "### Number of Reads for Each cDNA Plate\n",
    "g3_unfiltered = ggplot(adata.obs, aes(x = 'plate', y = 'n_counts', fill='plate')) + geom_boxplot() + scale_y_log10() + theme(axis_text_x=element_text(rotation=90, hjust=1)) + labs(title=\"Number of Reads for Each cDNA Plate (Unfiltered)\", x=\"cDNA plate\", y=\"Number of Reads\")\n",
    "g3_filtered = ggplot(filtered.obs, aes(x = 'plate', y = 'n_counts', fill='plate')) + geom_boxplot() + scale_y_log10() + theme(axis_text_x=element_text(rotation=90, hjust=1)) + labs(title=\"Number of Reads for Each cDNA Plate (Filtered)\", x=\"cDNA plate\", y=\"Number of Reads\")\n",
    "\n",
    "### Number of Genes for Each cDNA Plate\n",
    "g4_unfiltered = ggplot(adata.obs, aes(x = 'plate', y = 'n_genes', fill='plate')) + geom_boxplot() + scale_y_log10() + theme(axis_text_x=element_text(rotation=90, hjust=1)) + labs(title=\"Number of Genes for Each cDNA Plate (Unfiltered)\", x=\"cDNA plate\", y=\"Number of Genes\")\n",
    "g4_filtered = ggplot(filtered.obs, aes(x = 'plate', y = 'n_genes', fill='plate')) + geom_boxplot() + scale_y_log10() + theme(axis_text_x=element_text(rotation=90, hjust=1)) + labs(title=\"Number of Genes for Each cDNA Plate (Filtered)\", x=\"cDNA plate\", y=\"Number of Genes\")\n",
    "\n",
    "### Percent ERCCs for Each cDNA Plate\n",
    "g5_unfiltered = ggplot(adata.obs, aes(x = 'plate', y = 'percent_ERCC', fill='plate')) + geom_boxplot() + theme(axis_text_x=element_text(rotation=90, hjust=1)) + labs(title=\"Percent ERCCs for Each cDNA Plate (Unfiltered)\", x=\"cDNA plate\", y=\"Percent ERCCs\")\n",
    "g5_filtered = ggplot(filtered.obs, aes(x = 'plate', y = 'percent_ERCC', fill='plate')) + geom_boxplot() + theme(axis_text_x=element_text(rotation=90, hjust=1)) + labs(title=\"Percent ERCCs for Each cDNA Plate (Filtered)\", x=\"cDNA plate\", y=\"Percent ERCCs\")\n",
    "\n",
    "### Number of Cells for Each cDNA Plate\n",
    "g6_unfiltered = (ggplot(adata.obs, aes('plate', fill='plate')) + geom_bar() + geom_text(aes(label='stat(count)'),stat='count',nudge_y=0.125,va='bottom',size=6) +  theme(axis_text_x=element_text(rotation=90, hjust=1)) + labs(title=\"Number of Cells for Each cDNA Plate (Unfiltered)\", x=\"cDNA plate\"))\n",
    "g6_filtered = (ggplot(filtered.obs, aes('plate', fill='plate')) + geom_bar() + geom_text(aes(label='stat(count)'),stat='count',nudge_y=0.125,va='bottom',size=6) +  theme(axis_text_x=element_text(rotation=90, hjust=1)) + labs(title=\"Number of Cells for Each cDNA Plate (Filtered)\", x=\"cDNA plate\"))\n",
    "\n",
    "### Number of Cells for Each Tissue\n",
    "g7_unfiltered = (ggplot(adata.obs, aes('tissue', fill='plate')) + geom_bar(position=position_dodge()) + geom_text(aes(label='stat(count)'),stat='count',va='bottom',size=6,position = position_dodge(0.9)) + theme(axis_text_x=element_text(rotation=90, hjust=1)) + labs(title=\"Number of Cells for Each Tissue (Unfiltered)\", x=\"Tissue\"))\n",
    "g7_filtered = (ggplot(filtered.obs, aes('tissue', fill='plate')) + geom_bar(position=position_dodge()) + geom_text(aes(label='stat(count)'),stat='count',va='bottom',size=6,position = position_dodge(0.9)) + theme(axis_text_x=element_text(rotation=90, hjust=1)) + labs(title=\"Number of Cells for Each Tissue (Filtered)\", x=\"Tissue\"))\n",
    "\n",
    "### Fraction of Cells\n",
    "g8 = (ggplot(fraction_df, aes(x='tissue', y='fraction',fill='plate')) + geom_bar(stat=\"identity\",position=position_dodge()) + geom_text(aes(label='fraction'),va='bottom',size=6,position = position_dodge(0.9)) + theme(axis_text_x=element_text(rotation=90, hjust=1)) + labs(title=\"Fraction of Cells Passed QC in Each Tissue for Each Plate\", x=\"Tissue\"))"
   ]
  },
  {
   "cell_type": "code",
   "execution_count": 241,
   "metadata": {},
   "outputs": [
    {
     "name": "stderr",
     "output_type": "stream",
     "text": [
      "/Users/weilun.tan/anaconda3/lib/python3.7/site-packages/plotnine/ggplot.py:826: UserWarning: Filename: sapien.pdf\n",
      "  warn('Filename: {}'.format(filename))\n",
      "/Users/weilun.tan/anaconda3/lib/python3.7/site-packages/plotnine/scales/scale.py:549: RuntimeWarning: divide by zero encountered in log10\n",
      "  return self.trans.transform(x)\n",
      "/Users/weilun.tan/anaconda3/lib/python3.7/site-packages/plotnine/scales/scale.py:549: RuntimeWarning: divide by zero encountered in log10\n",
      "  return self.trans.transform(x)\n",
      "/Users/weilun.tan/anaconda3/lib/python3.7/site-packages/plotnine/layer.py:449: UserWarning: geom_point : Removed 1 rows containing missing values.\n",
      "  self.data = self.geom.handle_na(self.data)\n",
      "/Users/weilun.tan/anaconda3/lib/python3.7/site-packages/plotnine/scales/scale.py:549: RuntimeWarning: divide by zero encountered in log10\n",
      "  return self.trans.transform(x)\n",
      "/Users/weilun.tan/anaconda3/lib/python3.7/site-packages/plotnine/scales/scale.py:549: RuntimeWarning: divide by zero encountered in log10\n",
      "  return self.trans.transform(x)\n",
      "/Users/weilun.tan/anaconda3/lib/python3.7/site-packages/plotnine/layer.py:360: UserWarning: stat_boxplot : Removed 1 rows containing non-finite values.\n",
      "  data = self.stat.compute_layer(data, params, layout)\n",
      "/Users/weilun.tan/anaconda3/lib/python3.7/site-packages/plotnine/scales/scale.py:549: RuntimeWarning: divide by zero encountered in log10\n",
      "  return self.trans.transform(x)\n",
      "/Users/weilun.tan/anaconda3/lib/python3.7/site-packages/plotnine/layer.py:360: UserWarning: stat_boxplot : Removed 1 rows containing non-finite values.\n",
      "  data = self.stat.compute_layer(data, params, layout)\n",
      "/Users/weilun.tan/anaconda3/lib/python3.7/site-packages/plotnine/layer.py:360: UserWarning: stat_boxplot : Removed 1 rows containing non-finite values.\n",
      "  data = self.stat.compute_layer(data, params, layout)\n"
     ]
    }
   ],
   "source": [
    "# Writing all plots into a PDF file\n",
    "plots = [g1_unfiltered, g1_filtered,g2_unfiltered, g2_filtered,\n",
    "         g3_unfiltered, g3_filtered,g4_unfiltered, g4_filtered,\n",
    "         g5_unfiltered, g5_filtered,g6_unfiltered, g6_filtered,\n",
    "         g7_unfiltered, g7_filtered,g8]\n",
    "\n",
    "pdf_file = 'sapien.pdf'\n",
    "\n",
    "save_as_pdf_pages(plots,pdf_file)"
   ]
  },
  {
   "cell_type": "code",
   "execution_count": null,
   "metadata": {},
   "outputs": [],
   "source": []
  }
 ],
 "metadata": {
  "kernelspec": {
   "display_name": "Python 3",
   "language": "python",
   "name": "python3"
  },
  "language_info": {
   "codemirror_mode": {
    "name": "ipython",
    "version": 3
   },
   "file_extension": ".py",
   "mimetype": "text/x-python",
   "name": "python",
   "nbconvert_exporter": "python",
   "pygments_lexer": "ipython3",
   "version": "3.7.3"
  }
 },
 "nbformat": 4,
 "nbformat_minor": 2
}
