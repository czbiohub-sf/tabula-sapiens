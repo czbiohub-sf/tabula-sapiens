{
 "cells": [
  {
   "cell_type": "code",
   "execution_count": 22,
   "metadata": {},
   "outputs": [
    {
     "name": "stdout",
     "output_type": "stream",
     "text": [
      "0.5.0\n"
     ]
    }
   ],
   "source": [
    "import warnings\n",
    "warnings.filterwarnings('ignore')\n",
    "import sys\n",
    "\n",
    "sys.path.append('/data/yosef2/users/chenling/scVI/')\n",
    "import scvi\n",
    "print(scvi.__version__)\n",
    "\n",
    "import os\n",
    "os.getcwd()\n",
    "\n",
    "import logging\n",
    "import os\n",
    "import pickle\n",
    "\n",
    "from scipy import sparse\n",
    "\n",
    "import matplotlib.pyplot as plt\n",
    "import numpy as np\n",
    "import pandas as pd\n",
    "import torch\n",
    "from hyperopt import hp\n",
    "\n",
    "from scvi.inference import UnsupervisedTrainer, AlternateSemiSupervisedTrainer, SemiSupervisedTrainer\n",
    "from scvi.models import VAE, SCANVI\n",
    "\n",
    "from scvi.dataset.anndataset import AnnDatasetFromAnnData\n",
    "import scanpy as sc\n",
    "from anndata import read_h5ad\n",
    "from anndata import AnnData\n",
    "\n",
    "import matplotlib\n",
    "\n",
    "matplotlib.rcParams['pdf.fonttype'] = 42\n",
    "matplotlib.rcParams['ps.fonttype'] = 42\n",
    "%matplotlib inline\n",
    "\n",
    "n_epochs = 150\n",
    "save_path = '../data/'\n",
    "from copy import deepcopy"
   ]
  },
  {
   "cell_type": "code",
   "execution_count": 3,
   "metadata": {},
   "outputs": [],
   "source": [
    "from os import path"
   ]
  },
  {
   "cell_type": "code",
   "execution_count": 4,
   "metadata": {},
   "outputs": [],
   "source": [
    "all_data = []\n",
    "for tissue in [ 'muscle','exopancreas','endopancreas','bladder','lung']:\n",
    "    filename = '%s.scVI.h5ad'%tissue\n",
    "    if path.isfile(filename):\n",
    "        all_data.append(read_h5ad(filename))\n",
    "        \n",
    "            "
   ]
  },
  {
   "cell_type": "code",
   "execution_count": 37,
   "metadata": {},
   "outputs": [],
   "source": [
    "temp = all_data[0].concatenate(all_data[1:])"
   ]
  },
  {
   "cell_type": "code",
   "execution_count": 38,
   "metadata": {},
   "outputs": [
    {
     "data": {
      "text/plain": [
       "(55837, 21301)"
      ]
     },
     "execution_count": 38,
     "metadata": {},
     "output_type": "execute_result"
    }
   ],
   "source": [
    "temp.shape"
   ]
  },
  {
   "cell_type": "code",
   "execution_count": 49,
   "metadata": {},
   "outputs": [],
   "source": [
    "temp_path = '../../AnnotationsRound1/data/'\n",
    "tenx = read_h5ad(temp_path + 'tabula-sapiens-10X-pilot-filtered-%s.h5ad'%'blood')\n",
    "ss2 = read_h5ad(temp_path + 'tabula-sapiens-facs-pilot-filtered-%s.h5ad'%'Blood')\n",
    "blood = tenx.concatenate(ss2)\n",
    "blood.obs['compartments']='Immune'"
   ]
  },
  {
   "cell_type": "code",
   "execution_count": 85,
   "metadata": {},
   "outputs": [],
   "source": [
    "adata = blood.concatenate(all_data)"
   ]
  },
  {
   "cell_type": "code",
   "execution_count": 51,
   "metadata": {},
   "outputs": [],
   "source": [
    "batch_names = [ 'blood','muscle','exopancreas','endopancreas','bladder','lung']"
   ]
  },
  {
   "cell_type": "code",
   "execution_count": 52,
   "metadata": {},
   "outputs": [
    {
     "data": {
      "text/plain": [
       "(array(['Endothelial', 'Epithelial', 'Immune', 'Muscle', 'PNS', 'Pancreas',\n",
       "        'Stromal', 'mixed'], dtype=object),\n",
       " array([ 2594, 14180, 31386,  1069,    41,   253,  7284,  8590]))"
      ]
     },
     "execution_count": 52,
     "metadata": {},
     "output_type": "execute_result"
    }
   ],
   "source": [
    "np.unique(adata.obs['compartments'],return_counts=True)"
   ]
  },
  {
   "cell_type": "code",
   "execution_count": 87,
   "metadata": {},
   "outputs": [],
   "source": [
    "batch_names, adata.obs['batchid'] = np.unique(adata.obs['tissue'],return_inverse=True)"
   ]
  },
  {
   "cell_type": "code",
   "execution_count": 92,
   "metadata": {},
   "outputs": [
    {
     "name": "stdout",
     "output_type": "stream",
     "text": [
      "[2019-12-10 06:27:27,529] INFO - scvi.dataset.dataset | Remapping batch_indices to [0,N]\n",
      "[2019-12-10 06:27:27,533] INFO - scvi.dataset.dataset | Remapping labels to [0,N]\n",
      "[2019-12-10 06:27:27,894] INFO - scvi.dataset.dataset | Computing the library size for the new data\n",
      "[2019-12-10 06:27:28,236] INFO - scvi.dataset.dataset | Downsampled from 65397 to 65397 cells\n"
     ]
    }
   ],
   "source": [
    "gene_dataset = AnnDatasetFromAnnData(adata, batch_label='batchid')"
   ]
  },
  {
   "cell_type": "code",
   "execution_count": null,
   "metadata": {},
   "outputs": [
    {
     "data": {
      "text/plain": [
       "HBox(children=(IntProgress(value=0, description='training', style=ProgressStyle(description_width='initial')),…"
      ]
     },
     "metadata": {},
     "output_type": "display_data"
    }
   ],
   "source": [
    "n_epochs = 100\n",
    "lr = 1e-3\n",
    "use_batches = False\n",
    "use_cuda = True\n",
    "\n",
    "vae = VAE(gene_dataset.nb_genes, n_batch=gene_dataset.n_batches * use_batches)\n",
    "trainer = UnsupervisedTrainer(\n",
    "    vae,\n",
    "    gene_dataset,\n",
    "    train_size=0.75,\n",
    "    use_cuda=use_cuda,\n",
    "    frequency=5,\n",
    "    data_loader_kwargs={\"pin_memory\":False},\n",
    ")\n",
    "\n",
    "if os.path.isfile('%s/vae.pkl' % save_path):\n",
    "    trainer.model.load_state_dict(torch.load('%s/all.vae.pkl' % save_path))\n",
    "    trainer.model.eval()\n",
    "else:\n",
    "    trainer.train(n_epochs=n_epochs, lr=lr)\n",
    "    torch.save(trainer.model.state_dict(), '%s/all.vae.pkl' % save_path)"
   ]
  },
  {
   "cell_type": "code",
   "execution_count": null,
   "metadata": {},
   "outputs": [],
   "source": [
    "elbo_train_set = trainer.history[\"elbo_train_set\"]\n",
    "elbo_test_set = trainer.history[\"elbo_test_set\"]\n",
    "x = np.linspace(0, 100, (len(elbo_train_set)))\n",
    "plt.plot(x[3:], elbo_train_set[3:])\n",
    "plt.plot(x[3:], elbo_test_set[3:])"
   ]
  },
  {
   "cell_type": "code",
   "execution_count": null,
   "metadata": {},
   "outputs": [],
   "source": [
    "full = trainer.create_posterior(trainer.model, gene_dataset, indices=np.arange(len(gene_dataset)))\n",
    "latent, batch_indices, labels = full.sequential().get_latent()\n",
    "batch_indices = batch_indices.ravel()"
   ]
  },
  {
   "cell_type": "code",
   "execution_count": null,
   "metadata": {},
   "outputs": [],
   "source": [
    "imputed_values = full.sequential().imputation()\n",
    "normalized_values = full.sequential().get_sample_scale()"
   ]
  },
  {
   "cell_type": "code",
   "execution_count": null,
   "metadata": {},
   "outputs": [],
   "source": [
    "per_cluster_de, cluster_id = full.one_vs_all_degenes(cell_labels=gene_dataset.labels.ravel(), min_cells=1)\n",
    "\n",
    "markers = []\n",
    "for x in per_cluster_de:\n",
    "    markers.append(x[:10])\n",
    "markers = pd.concat(markers)\n",
    "\n",
    "genes = np.asarray(markers.index)\n",
    "expression = [x.filter(items=genes, axis=0)['raw_normalized_mean1'] for x in per_cluster_de]\n",
    "expression = pd.concat(expression, axis=1)\n",
    "expression = np.log10(1 + expression)\n",
    "expression.columns = gene_dataset.cell_types"
   ]
  },
  {
   "cell_type": "code",
   "execution_count": null,
   "metadata": {},
   "outputs": [],
   "source": [
    "sc.tl.rank_genes_groups(\n",
    "    adata,\n",
    "    \"compartments\",\n",
    "    method=\"wilcoxon\",\n",
    "    use_raw=False,\n",
    "    key_added=\"compartment_markers\",\n",
    "    n_genes=adata.shape[1]\n",
    ")\n",
    "sc.pl.rank_genes_groups(\n",
    "    adata, key=\"compartment_markers\", sharey=False\n",
    ")"
   ]
  },
  {
   "cell_type": "code",
   "execution_count": 57,
   "metadata": {},
   "outputs": [],
   "source": [
    "result = adata.uns['compartment_markers']\n",
    "groups = result['names'].dtype.names\n",
    "comp_genes_scores = pd.DataFrame(\n",
    "    {group + '_' + key[:1]: result[key][group]\n",
    "    for group in groups for key in ['names', 'scores','pvals']})\n"
   ]
  },
  {
   "cell_type": "code",
   "execution_count": 60,
   "metadata": {},
   "outputs": [
    {
     "data": {
      "text/plain": [
       "array(['IFI27', 'CLDN5', 'CAV1', 'IFITM3', 'RAMP2', 'EPAS1', 'CLEC14A',\n",
       "       'GNG11', 'SPARCL1', 'AQP1'], dtype=object)"
      ]
     },
     "execution_count": 60,
     "metadata": {},
     "output_type": "execute_result"
    }
   ],
   "source": [
    "comp_genes_scores['Endothelial_n'][:10].values"
   ]
  },
  {
   "cell_type": "code",
   "execution_count": 61,
   "metadata": {},
   "outputs": [
    {
     "data": {
      "text/plain": [
       "array(['KRT18', 'KRT8', 'SPINK1', 'CD24', 'EPCAM', 'PLA2G1B', 'DSP',\n",
       "       'PRSS1', 'CLPS', 'CPA1'], dtype=object)"
      ]
     },
     "execution_count": 61,
     "metadata": {},
     "output_type": "execute_result"
    }
   ],
   "source": [
    "comp_genes_scores['Epithelial_n'][:10].values"
   ]
  },
  {
   "cell_type": "code",
   "execution_count": 63,
   "metadata": {},
   "outputs": [
    {
     "data": {
      "text/plain": [
       "array(['PTPRC', 'SRGN', 'B2M', 'LAPTM5', 'TMSB4X', 'HLA-B', 'FTL',\n",
       "       'S100A4', 'FTH1', 'GMFG'], dtype=object)"
      ]
     },
     "execution_count": 63,
     "metadata": {},
     "output_type": "execute_result"
    }
   ],
   "source": [
    "comp_genes_scores['Immune_n'][:10].values"
   ]
  },
  {
   "cell_type": "code",
   "execution_count": 62,
   "metadata": {},
   "outputs": [
    {
     "data": {
      "text/plain": [
       "array(['MGP', 'COL6A2', 'DCN', 'CALD1', 'C1S', 'COL1A2', 'C1R', 'COL6A1',\n",
       "       'GPX3', 'MFAP4'], dtype=object)"
      ]
     },
     "execution_count": 62,
     "metadata": {},
     "output_type": "execute_result"
    }
   ],
   "source": [
    "comp_genes_scores['Stromal_n'][:10].values"
   ]
  },
  {
   "cell_type": "code",
   "execution_count": 64,
   "metadata": {},
   "outputs": [
    {
     "data": {
      "text/plain": [
       "array(['CRYAB', 'PMP22', 'GPM6B', 'FXYD1', 'NRXN1', 'IGFBP7', 'MAL',\n",
       "       'SPARC', 'PLP1', 'CD9'], dtype=object)"
      ]
     },
     "execution_count": 64,
     "metadata": {},
     "output_type": "execute_result"
    }
   ],
   "source": [
    "comp_genes_scores['PNS_n'][:10].values"
   ]
  },
  {
   "cell_type": "code",
   "execution_count": 65,
   "metadata": {},
   "outputs": [
    {
     "data": {
      "text/plain": [
       "array(['PRSS1', 'CPB1', 'CELA3A', 'CTRB1', 'CELA3B', 'PNLIP', 'CLPS',\n",
       "       'CPA1', 'REG1A', 'CTRC'], dtype=object)"
      ]
     },
     "execution_count": 65,
     "metadata": {},
     "output_type": "execute_result"
    }
   ],
   "source": [
    "comp_genes_scores['Pancreas_n'][:10].values"
   ]
  },
  {
   "cell_type": "code",
   "execution_count": 73,
   "metadata": {},
   "outputs": [],
   "source": [
    "epithelium = comp_genes_scores['Epithelial_n'][:30].values"
   ]
  },
  {
   "cell_type": "code",
   "execution_count": 79,
   "metadata": {},
   "outputs": [],
   "source": [
    "pancreas = comp_genes_scores['Pancreas_n'][:100].values"
   ]
  },
  {
   "cell_type": "code",
   "execution_count": 81,
   "metadata": {},
   "outputs": [
    {
     "name": "stdout",
     "output_type": "stream",
     "text": [
      "['KRT18', 'KRT8', 'EPCAM', 'DSP', 'ELF3', 'CDH1', 'CYB5A', 'FAM3B', 'SH3YL1', 'SMIM22']\n"
     ]
    }
   ],
   "source": [
    "print([x for x in epithelium if x not in pancreas])"
   ]
  },
  {
   "cell_type": "code",
   "execution_count": null,
   "metadata": {},
   "outputs": [],
   "source": []
  }
 ],
 "metadata": {
  "kernelspec": {
   "display_name": "p37",
   "language": "python",
   "name": "p37"
  },
  "language_info": {
   "codemirror_mode": {
    "name": "ipython",
    "version": 3
   },
   "file_extension": ".py",
   "mimetype": "text/x-python",
   "name": "python",
   "nbconvert_exporter": "python",
   "pygments_lexer": "ipython3",
   "version": "3.7.3"
  }
 },
 "nbformat": 4,
 "nbformat_minor": 2
}
