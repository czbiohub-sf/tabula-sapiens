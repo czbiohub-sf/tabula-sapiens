{
 "cells": [
  {
   "cell_type": "code",
   "execution_count": 1,
   "id": "d80c233a-55d0-477b-a54e-8bb6f1bc10f3",
   "metadata": {},
   "outputs": [],
   "source": [
    "import pandas as pd\n",
    "import scirpy as ir\n",
    "import Levenshtein\n",
    "%matplotlib inline\n",
    "import autoreload\n",
    "pd.set_option('display.max_colwidth', None)\n",
    "pd.set_option('display.max_rows', 100)\n",
    "pd.set_option('display.max_columns', 20) \n",
    "pd.set_option('display.width', 100)\n",
    "\n",
    "def calculate_v_mu_freq(df):\n",
    "    df['distance_to_germline_v'] = df.apply(lambda x: Levenshtein.distance(x.v_sequence_alignment, x.v_germline_alignment), axis=1)\n",
    "    df['v_mu_freq'] = df['distance_to_germline_v'] / df['v_sequence_alignment'].str.len()\n",
    "    return df"
   ]
  },
  {
   "cell_type": "markdown",
   "id": "14e54149-2db0-4dfc-ae0f-867236076dc2",
   "metadata": {},
   "source": [
    "## Prepare the data"
   ]
  },
  {
   "cell_type": "code",
   "execution_count": 4,
   "id": "5b8ec67b-3fdb-4ccb-bd2d-daea9ab411d7",
   "metadata": {},
   "outputs": [
    {
     "name": "stderr",
     "output_type": "stream",
     "text": [
      "/home/michaelswift/miniconda3/envs/scirpy/lib/python3.8/site-packages/IPython/core/interactiveshell.py:3441: DtypeWarning: Columns (93,94) have mixed types.Specify dtype option on import or set low_memory=False.\n",
      "  exec(code_obj, self.user_global_ns, self.user_ns)\n"
     ]
    }
   ],
   "source": [
    "# output of my snakemake\n",
    "airr = pd.read_table('../../data/snakemake_outputs/combined_igblast.airr.tsv')"
   ]
  },
  {
   "cell_type": "markdown",
   "id": "ee43a03c-a6c6-46ec-9b3e-0875948be488",
   "metadata": {},
   "source": [
    "### filter and munge"
   ]
  },
  {
   "cell_type": "code",
   "execution_count": 5,
   "id": "28b3a176-267c-4343-9392-9e6caac54e09",
   "metadata": {},
   "outputs": [
    {
     "name": "stdout",
     "output_type": "stream",
     "text": [
      "19252 total assemblies out of snakemake\n",
      "19252 removed presumed merging artefacts\n",
      "17780 removed unproductive chains\n",
      "17780 assemblies from TS\n"
     ]
    }
   ],
   "source": [
    "# get rid of merging artefacts\n",
    "print(\"{} total assemblies out of snakemake\".format(airr.shape[0]))\n",
    "airr = airr.dropna(subset=['locus'])\n",
    "print(airr.shape[0], \"removed presumed merging artefacts\")\n",
    "airr = airr[airr.productive == \"T\"]\n",
    "print(airr.shape[0], \"removed unproductive chains\")\n",
    "airr = airr.dropna(subset=['locus'])\n",
    "\n",
    "print(\"{} assemblies from TS\".format(airr.shape[0]))\n",
    "\n",
    "# reformatting 10X sequence id to merge with adata.obs\n",
    "airr.loc[:,\"cell_id\"] = airr.sequence_id.replace('_contig_[0-9]', '', regex=True)\n",
    "airr.cell_id.replace(\"\\-\",\"_\", regex=True, inplace=True)\n",
    "# 10X\n",
    "airr.cell_id.replace(\"_5prime..CR\", '_5prime', regex = True, inplace = True)\n",
    "airr.cell_id.replace('_[0-9]_[T][S]', '_TS',regex = True, inplace = True)\n",
    "airr.cell_id.replace('10X_[0-9]_[0-9]', '10X',regex = True, inplace = True)\n",
    "airr.loc[:, 'cell_id'] = airr.cell_id.str.rsplit(\" \", expand=True)[0]\n",
    "airr.head().cell_id.values[-20:]\n",
    "# Munge the data a little\n",
    "airr.loc[:, 'cell_id'] = airr.cell_id.str.split('|', expand=True)[0]\n",
    "airr = airr.dropna(subset=['junction'])\n",
    "# scirpy needs umi_count column \n",
    "airr['umi_count'] = airr['umis']\n",
    "airr['umi_count'].fillna(5, inplace=True)\n",
    "airr['is_cell'] = True\n",
    "airr['high_confidence'] = True\n",
    "airr['multi_chain'] = False\n",
    "# Want to assign c_calls to SS2 data in the snakemake, that's a todo\n",
    "airr['c_call'] = 'None'\n",
    "# rename column\n",
    "airr = airr.rename({'cell_id_x':'cell_id'}, axis=1)"
   ]
  },
  {
   "cell_type": "code",
   "execution_count": 6,
   "id": "1f26bf68-a735-4e24-944f-3452944dc696",
   "metadata": {},
   "outputs": [],
   "source": [
    "# add a mutation frequency column\n",
    "airr = calculate_v_mu_freq(airr)"
   ]
  },
  {
   "cell_type": "markdown",
   "id": "a7439599-9523-497a-a7d0-d2196f835421",
   "metadata": {},
   "source": [
    "# SCIRPY"
   ]
  },
  {
   "cell_type": "code",
   "execution_count": 8,
   "id": "440bdd2e-0bbe-4d0c-903c-ed14221ea279",
   "metadata": {},
   "outputs": [
    {
     "name": "stderr",
     "output_type": "stream",
     "text": [
      "WARNING: Renaming the non-standard `umi_count` column to `duplicate_count`. \n",
      "/home/michaelswift/miniconda3/envs/scirpy/lib/python3.8/site-packages/anndata/_core/anndata.py:1220: FutureWarning: The `inplace` parameter in pandas.Categorical.reorder_categories is deprecated and will be removed in a future version. Removing unused categories will always return a new Categorical object.\n",
      "  c.reorder_categories(natsorted(c.categories), inplace=True)\n",
      "... storing 'receptor_type' as categorical\n",
      "/home/michaelswift/miniconda3/envs/scirpy/lib/python3.8/site-packages/anndata/_core/anndata.py:1220: FutureWarning: The `inplace` parameter in pandas.Categorical.reorder_categories is deprecated and will be removed in a future version. Removing unused categories will always return a new Categorical object.\n",
      "  c.reorder_categories(natsorted(c.categories), inplace=True)\n",
      "... storing 'receptor_subtype' as categorical\n",
      "/home/michaelswift/miniconda3/envs/scirpy/lib/python3.8/site-packages/anndata/_core/anndata.py:1220: FutureWarning: The `inplace` parameter in pandas.Categorical.reorder_categories is deprecated and will be removed in a future version. Removing unused categories will always return a new Categorical object.\n",
      "  c.reorder_categories(natsorted(c.categories), inplace=True)\n",
      "... storing 'chain_pairing' as categorical\n"
     ]
    },
    {
     "name": "stdout",
     "output_type": "stream",
     "text": [
      "single pair        5595\n",
      "orphan VJ          2310\n",
      "orphan VDJ         1737\n",
      "extra VJ            453\n",
      "ambiguous           168\n",
      "extra VDJ            98\n",
      "two full chains      47\n",
      "multichain           18\n",
      "Name: chain_pairing, dtype: int64\n"
     ]
    },
    {
     "name": "stderr",
     "output_type": "stream",
     "text": [
      "/home/michaelswift/miniconda3/envs/scirpy/lib/python3.8/site-packages/IPython/core/interactiveshell.py:3441: DtypeWarning: Columns (10,14,15,16,17,18) have mixed types.Specify dtype option on import or set low_memory=False.\n",
      "  exec(code_obj, self.user_global_ns, self.user_ns)\n",
      "/home/michaelswift/miniconda3/envs/scirpy/lib/python3.8/site-packages/anndata/_core/anndata.py:794: UserWarning: \n",
      "AnnData expects .obs.index to contain strings, but got values like:\n",
      "    [143757, 144258, 144244, 143761, 144159]\n",
      "\n",
      "    Inferred to be: integer\n",
      "\n",
      "  value_idx = self._prep_dim_index(value.index, attr)\n",
      "100%|███████████████████████████████████████████████████| 2485/2485 [00:13<00:00, 184.56it/s]\n",
      "100%|███████████████████████████████████████████████████| 2278/2278 [00:12<00:00, 179.02it/s]\n",
      "100%|███████████████████████████████████████████████████| 4505/4505 [00:07<00:00, 631.66it/s]\n"
     ]
    },
    {
     "data": {
      "image/png": "[encoded data removed]",
      "text/plain": [
       "<Figure size 412.8x309.6 with 1 Axes>"
      ]
     },
     "metadata": {
      "needs_background": "light"
     },
     "output_type": "display_data"
    }
   ],
   "source": [
    "airr.to_csv('../../data/processed_data/airr_formatted.tsv', sep = '\\t')\n",
    "\n",
    "adata = ir.io.read_airr('../../data/processed_data/airr_formatted.tsv',include_fields=('productive', 'sequence', 'locus', 'v_call', 'd_call', 'j_call', 'c_call', 'junction', 'junction_aa', 'consensus_count', 'duplicate_count', 'v_mu_freq'))\n",
    "\n",
    "ir.tl.chain_qc(adata)\n",
    "\n",
    "print(adata.obs.chain_pairing.value_counts())\n",
    "ax = ir.pl.group_abundance(adata, groupby='receptor_subtype')\n",
    "\n",
    "\n",
    "# metadata from h5ad\n",
    "met = pd.read_csv('../../metadata/TSP1_TSP15_metadata.csv')\n",
    "met[(met.donor == \"TSP1\") & (met.method == 'smartseq2')].cell_id.str.rsplit(\".\", n = 5, expand = True)[0]\n",
    "met['_cell_id'] = met['cell_id']\n",
    "met['_cell_id'] = met['_cell_id'].str.replace('_[0-2]_[0-2]_5prime', '_5prime', regex = True)\n",
    "met['_cell_id'] = met['_cell_id'].str.replace('.homo.gencode.v30.ERCC.chrM', '', regex = True)\n",
    "\n",
    "merged = pd.merge(adata.obs, met, how = 'inner', left_on='cell_id', right_on='_cell_id')\n",
    "\n",
    "adata = adata[adata.obs.index.isin(merged.cell_id)]\n",
    "\n",
    "adata.obs = pd.merge(adata.obs, met, how = 'inner', left_index=True, right_on='cell_id')\n",
    "\n",
    "adata.obs.index = adata.obs.cell_id\n",
    "\n",
    "ir.pp.ir_dist(adata, metric=\"alignment\", sequence='aa')\n",
    "\n",
    "ir.tl.define_clonotypes(adata, key_added='clone_id')\n",
    "\n",
    "# write the scirpy processed data out\n",
    "adata.obs.to_csv('../../data/processed_data/merged_airr_scirpy.tsv', sep = '\\t', index=False)"
   ]
  }
 ],
 "metadata": {
  "kernelspec": {
   "display_name": "Python 3 (ipykernel)",
   "language": "python",
   "name": "python3"
  },
  "language_info": {
   "codemirror_mode": {
    "name": "ipython",
    "version": 3
   },
   "file_extension": ".py",
   "mimetype": "text/x-python",
   "name": "python",
   "nbconvert_exporter": "python",
   "pygments_lexer": "ipython3",
   "version": "3.8.11"
  }
 },
 "nbformat": 4,
 "nbformat_minor": 5
}
