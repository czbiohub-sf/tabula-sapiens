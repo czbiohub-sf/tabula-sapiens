{
 "cells": [
  {
   "cell_type": "markdown",
   "id": "37384490-052c-4165-bb4e-c6a2e7a9bbc0",
   "metadata": {},
   "source": [
    "# Add sub cellular distributions.\n",
    "### 06-27-25 new version from Konstantin with many more TF's\n",
    "## 08-05-25 Reworked to use the low tau from cell type analysis\n",
    "## 08-08-25 compared to Scenic"
   ]
  },
  {
   "cell_type": "code",
   "execution_count": 1,
   "id": "c486e55e-778e-40a5-8fec-fb8cc3688697",
   "metadata": {},
   "outputs": [],
   "source": [
    "import scanpy as sc\n",
    "import pandas as pd\n",
    "import numpy as np\n",
    "import matplotlib\n",
    "import matplotlib.pyplot as plt\n",
    "matplotlib.rcParams['pdf.fonttype'] = 42\n",
    "matplotlib.rcParams['ps.fonttype'] = 42\n",
    "import matplotlib.patches as mpatches\n",
    "import seaborn as sns\n",
    "import random"
   ]
  },
  {
   "cell_type": "code",
   "execution_count": 2,
   "id": "730a7bf9-5287-4266-b8ef-f7f42c28faba",
   "metadata": {},
   "outputs": [],
   "source": [
    "DATA_IN_DIR = '/hpc/mydata/robert.jones/TFManuscript2GITHubPush/'"
   ]
  },
  {
   "cell_type": "markdown",
   "id": "28dad3dd-dd63-406a-abbd-b1ce895204be",
   "metadata": {},
   "source": [
    "## Read TF tau from T. Sapiens"
   ]
  },
  {
   "cell_type": "code",
   "execution_count": 4,
   "id": "8f0a7fc8-67b3-449a-81df-1b979ef1d632",
   "metadata": {},
   "outputs": [
    {
     "data": {
      "text/html": [
       "<div>\n",
       "<style scoped>\n",
       "    .dataframe tbody tr th:only-of-type {\n",
       "        vertical-align: middle;\n",
       "    }\n",
       "\n",
       "    .dataframe tbody tr th {\n",
       "        vertical-align: top;\n",
       "    }\n",
       "\n",
       "    .dataframe thead th {\n",
       "        text-align: right;\n",
       "    }\n",
       "</style>\n",
       "<table border=\"1\" class=\"dataframe\">\n",
       "  <thead>\n",
       "    <tr style=\"text-align: right;\">\n",
       "      <th></th>\n",
       "      <th>tau</th>\n",
       "    </tr>\n",
       "  </thead>\n",
       "  <tbody>\n",
       "    <tr>\n",
       "      <th>FOXD4L4</th>\n",
       "      <td>0.999868</td>\n",
       "    </tr>\n",
       "    <tr>\n",
       "      <th>FIGLA</th>\n",
       "      <td>0.999667</td>\n",
       "    </tr>\n",
       "    <tr>\n",
       "      <th>GSX2</th>\n",
       "      <td>0.999634</td>\n",
       "    </tr>\n",
       "    <tr>\n",
       "      <th>NEUROG1</th>\n",
       "      <td>0.999582</td>\n",
       "    </tr>\n",
       "    <tr>\n",
       "      <th>HOXC12</th>\n",
       "      <td>0.999473</td>\n",
       "    </tr>\n",
       "    <tr>\n",
       "      <th>...</th>\n",
       "      <td>...</td>\n",
       "    </tr>\n",
       "    <tr>\n",
       "      <th>ZNF644</th>\n",
       "      <td>0.459571</td>\n",
       "    </tr>\n",
       "    <tr>\n",
       "      <th>ASH1L</th>\n",
       "      <td>0.450371</td>\n",
       "    </tr>\n",
       "    <tr>\n",
       "      <th>YY1</th>\n",
       "      <td>0.434433</td>\n",
       "    </tr>\n",
       "    <tr>\n",
       "      <th>BPTF</th>\n",
       "      <td>0.432127</td>\n",
       "    </tr>\n",
       "    <tr>\n",
       "      <th>SON</th>\n",
       "      <td>0.400070</td>\n",
       "    </tr>\n",
       "  </tbody>\n",
       "</table>\n",
       "<p>1635 rows × 1 columns</p>\n",
       "</div>"
      ],
      "text/plain": [
       "              tau\n",
       "FOXD4L4  0.999868\n",
       "FIGLA    0.999667\n",
       "GSX2     0.999634\n",
       "NEUROG1  0.999582\n",
       "HOXC12   0.999473\n",
       "...           ...\n",
       "ZNF644   0.459571\n",
       "ASH1L    0.450371\n",
       "YY1      0.434433\n",
       "BPTF     0.432127\n",
       "SON      0.400070\n",
       "\n",
       "[1635 rows x 1 columns]"
      ]
     },
     "execution_count": 4,
     "metadata": {},
     "output_type": "execute_result"
    }
   ],
   "source": [
    "# get tau's from cell type taus for ranking \n",
    "TFtaus =  pd.read_csv(DATA_IN_DIR + 'Results/TauValuesCelltype.csv',index_col=0)\n",
    "TFtaus"
   ]
  },
  {
   "cell_type": "markdown",
   "id": "d42c62c6-365d-4b31-9c75-2176ef0ae178",
   "metadata": {},
   "source": [
    "## Read tissue detection file from ProteinTF-Tiss-062525.ipynb"
   ]
  },
  {
   "cell_type": "code",
   "execution_count": 5,
   "id": "cc8db5e8-88b3-4c10-b69c-704079380775",
   "metadata": {},
   "outputs": [
    {
     "name": "stdout",
     "output_type": "stream",
     "text": [
      "(42180, 10)\n",
      "699\n",
      "20\n"
     ]
    },
    {
     "data": {
      "text/plain": [
       "Standardized_Tissue\n",
       "Skin               6641\n",
       "Testis             4782\n",
       "Large_Intestine    3080\n",
       "Mammary            2998\n",
       "Lung               2379\n",
       "Kidney             2270\n",
       "Stomach            2045\n",
       "Liver              2045\n",
       "Spleen             2034\n",
       "Pancreas           2000\n",
       "Lymph_Node         1950\n",
       "Ovary              1574\n",
       "Small_Intestine    1260\n",
       "Heart              1026\n",
       "Muscle             1025\n",
       "Bone_Marrow        1022\n",
       "Salivary_Gland     1021\n",
       "Prostate           1020\n",
       "Bladder            1005\n",
       "Fat                1003\n",
       "Name: count, dtype: int64"
      ]
     },
     "execution_count": 5,
     "metadata": {},
     "output_type": "execute_result"
    }
   ],
   "source": [
    "TFproDetTiss = pd.read_csv(DATA_IN_DIR + 'TFproDetTiss.csv', index_col = 0)\n",
    "print(TFproDetTiss.shape)\n",
    "print(len(TFproDetTiss.index.unique()))\n",
    "print(len(TFproDetTiss.Standardized_Tissue.unique()))\n",
    "TFproDetTiss.Standardized_Tissue.value_counts()"
   ]
  },
  {
   "cell_type": "code",
   "execution_count": 6,
   "id": "55f61f75-0a61-40d0-9184-43780cd79413",
   "metadata": {},
   "outputs": [
    {
     "data": {
      "text/plain": [
       "location\n",
       "none                              15546\n",
       "nuclear                           14165\n",
       "cytoplasmic/membranous             7765\n",
       "cytoplasmic/membranous,nuclear     4704\n",
       "Name: count, dtype: int64"
      ]
     },
     "execution_count": 6,
     "metadata": {},
     "output_type": "execute_result"
    }
   ],
   "source": [
    "TFproDetTiss.location.value_counts()"
   ]
  },
  {
   "cell_type": "code",
   "execution_count": 7,
   "id": "73f4e6fd-184e-4eee-9722-00554e0d9edc",
   "metadata": {},
   "outputs": [
    {
     "data": {
      "text/plain": [
       "staining\n",
       "not detected    17794\n",
       "medium          11451\n",
       "low              6542\n",
       "high             6387\n",
       "Name: count, dtype: int64"
      ]
     },
     "execution_count": 7,
     "metadata": {},
     "output_type": "execute_result"
    }
   ],
   "source": [
    "TFproDetTiss.staining.value_counts()"
   ]
  },
  {
   "cell_type": "code",
   "execution_count": 8,
   "id": "9d02b544-2663-4a98-9d77-036cd278f052",
   "metadata": {},
   "outputs": [
    {
     "name": "stdout",
     "output_type": "stream",
     "text": [
      "tested TFs 699\n"
     ]
    }
   ],
   "source": [
    "print('tested TFs', len(TFproDetTiss.index.unique()))"
   ]
  },
  {
   "cell_type": "code",
   "execution_count": 9,
   "id": "01358e80-eaf8-4384-bee9-8f11eaad0290",
   "metadata": {},
   "outputs": [
    {
     "name": "stdout",
     "output_type": "stream",
     "text": [
      "detected TFs in at least one tissue: 693\n"
     ]
    },
    {
     "data": {
      "text/plain": [
       "Index(['NFYA', 'HOXA11', 'ZFX', 'YBX2', 'ZNF263', 'GTF2IRD1', 'PAX6', 'TFAP2B',\n",
       "       'NFIX', 'ZNF207',\n",
       "       ...\n",
       "       'ZNF865', 'GTF2I', 'ZNF234', 'ZNF224', 'HSFX2', 'ZBTB8B', 'LHX1',\n",
       "       'HNF1B', 'DACH1', 'HOMEZ'],\n",
       "      dtype='object', name='gene_name', length=693)"
      ]
     },
     "execution_count": 9,
     "metadata": {},
     "output_type": "execute_result"
    }
   ],
   "source": [
    "detected = TFproDetTiss[TFproDetTiss.staining != 'not detected']\n",
    "print('detected TFs in at least one tissue:', len(detected.index.unique()))\n",
    "detected.index.unique()"
   ]
  },
  {
   "cell_type": "code",
   "execution_count": 10,
   "id": "f386924c-895e-462c-9764-a32f88ee6e7e",
   "metadata": {},
   "outputs": [
    {
     "name": "stdout",
     "output_type": "stream",
     "text": [
      "nuclear location TFs in at lease one tissue 623\n"
     ]
    }
   ],
   "source": [
    "nuclearloc = detected[detected.location.isin(['nuclear' , 'cytoplasmic/membranous,nuclear'])]\n",
    "print('nuclear location TFs in at lease one tissue', len(nuclearloc.index.unique()))"
   ]
  },
  {
   "cell_type": "code",
   "execution_count": null,
   "id": "a676f04f-b456-4b58-ba17-2db82bb5759a",
   "metadata": {},
   "outputs": [],
   "source": []
  },
  {
   "cell_type": "code",
   "execution_count": 11,
   "id": "86753031-3203-4f3e-8ee2-908d93aac113",
   "metadata": {},
   "outputs": [
    {
     "data": {
      "image/png": "[encoded data removed]",
      "text/plain": [
       "<Figure size 480x480 with 1 Axes>"
      ]
     },
     "metadata": {
      "image/png": {
       "height": 396,
       "width": 412
      }
     },
     "output_type": "display_data"
    }
   ],
   "source": [
    "# Madhav style charts\n",
    "\n",
    "sc.settings.set_figure_params(dpi=80, dpi_save= 300, fontsize=6, \n",
    "                              facecolor='white', frameon=True, \n",
    "                              figsize=(3.0, 2.0), vector_friendly = False, \n",
    "                              transparent=True, format=\"pdf\")\n",
    "\n",
    "sns.set_style(\"ticks\", rc = {'text.color' : \"black\",\n",
    "                             'linecolor' : \"black\",\n",
    "                             'axes.edgecolor' : \"black\",\n",
    "                            'axes.labelcolor' : \"black\",\n",
    "                            \"xtick.color\" : \"black\",\n",
    "                            \"ytick.color\" : \"black\"})\n",
    "fig, ax = plt.subplots(figsize = (6.0,6.0))"
   ]
  },
  {
   "cell_type": "code",
   "execution_count": 12,
   "id": "b1211f5c-47bc-49a9-82a9-471bdbf465ed",
   "metadata": {},
   "outputs": [
    {
     "data": {
      "image/png": "[encoded data removed]",
      "text/plain": [
       "<Figure size 240x160 with 1 Axes>"
      ]
     },
     "metadata": {
      "image/png": {
       "height": 160,
       "width": 248
      }
     },
     "output_type": "display_data"
    }
   ],
   "source": [
    "# Count unique tissues per gene\n",
    "gene_tissue_counts = nuclearloc.groupby('gene_name')['Standardized_Tissue'].nunique()\n",
    "# Get distribution: how many genes have X number of tissues\n",
    "distribution = gene_tissue_counts.value_counts().sort_index()\n",
    "\n",
    "# Plot\n",
    "ax = distribution.plot(\n",
    "    kind='bar',\n",
    "    figsize=(3.0, 2.0),\n",
    "    color='steelblue',\n",
    "    width=0.9\n",
    ")\n",
    "\n",
    "# Axis labels and title\n",
    "plt.xlabel('Number of Tissues')\n",
    "plt.ylabel('Number of Transcription Factors')\n",
    "plt.title('TF distribution by number tissues of when TF is detected in the nucleas')\n",
    "\n",
    "plt.tight_layout()\n",
    "#plt.savefig('/hpc/mydata/robert.jones/ProteinAtlas/Fig_AllSubcell.pdf')\n",
    "plt.show()\n",
    "\n"
   ]
  },
  {
   "cell_type": "code",
   "execution_count": 13,
   "id": "1c08a398-7600-4d71-b714-a04dfca10937",
   "metadata": {},
   "outputs": [
    {
     "data": {
      "text/plain": [
       "gene_name\n",
       "ADNP       16\n",
       "AEBP1       2\n",
       "AHDC1      13\n",
       "AHR        17\n",
       "AKAP8      20\n",
       "           ..\n",
       "ZSCAN18    17\n",
       "ZSCAN2     20\n",
       "ZSCAN29     8\n",
       "ZSCAN30    17\n",
       "ZSCAN31    17\n",
       "Name: Standardized_Tissue, Length: 623, dtype: int64"
      ]
     },
     "execution_count": 13,
     "metadata": {},
     "output_type": "execute_result"
    }
   ],
   "source": [
    "gene_tissue_counts"
   ]
  },
  {
   "cell_type": "code",
   "execution_count": 14,
   "id": "249830db-571d-4635-a0e1-142d2154eba4",
   "metadata": {},
   "outputs": [
    {
     "name": "stdout",
     "output_type": "stream",
     "text": [
      "Number of genes detected in exactly 1 tissue: 52\n",
      "['BATF', 'BNC2', 'BPTF', 'DLX1', 'DMRT3', 'ESR1', 'ESX1', 'FIGLA', 'FLYWCH1', 'FOXJ1', 'FOXL2', 'FOXO4', 'FOXS1', 'GCM1', 'GFI1B', 'HNF4G', 'HOXA11', 'HSF5', 'KCMF1', 'KLF17', 'LHX1', 'MEF2B', 'MSANTD4', 'NFKB2', 'NKX2-1', 'NKX2-2', 'NKX3-1', 'NKX6-1', 'ONECUT1', 'PA2G4', 'PAX2', 'PAX9', 'PHOX2B', 'POU3F3', 'POU5F2', 'RFX2', 'RFX4', 'RHOXF2', 'RHOXF2B', 'SP7', 'TAL1', 'TCF15', 'YBX2', 'ZBED3', 'ZBTB18', 'ZBTB43', 'ZNF268', 'ZNF304', 'ZNF415', 'ZNF541', 'ZNF597', 'ZNF846']\n"
     ]
    }
   ],
   "source": [
    "# Get genes detected in exactly 1 tissue\n",
    "genes_in_1_tissue = gene_tissue_counts[gene_tissue_counts == 1].index.tolist()\n",
    "\n",
    "# Optional: display them\n",
    "print(f\"Number of genes detected in exactly 1 tissue: {len(genes_in_1_tissue)}\")\n",
    "print(genes_in_1_tissue)"
   ]
  },
  {
   "cell_type": "code",
   "execution_count": 15,
   "id": "3491d23a-24b9-400f-b28f-9697ea94dee8",
   "metadata": {},
   "outputs": [
    {
     "name": "stdout",
     "output_type": "stream",
     "text": [
      "Number of genes detected in exactly 2 tissue: 27\n",
      "['AEBP1', 'ATF3', 'BARX2', 'BHLHE22', 'CDX1', 'CDX2', 'DMRTB1', 'EMX2', 'FAM170A', 'FOXP3', 'HSF2', 'IKZF4', 'PBX4', 'PHOX2A', 'POU2AF1', 'POU2F3', 'PROP1', 'RELA', 'RHOXF1', 'SALL4', 'SOX21', 'SOX30', 'TGIF2LX', 'ZFAT', 'ZNF112', 'ZNF219', 'ZNF337']\n"
     ]
    }
   ],
   "source": [
    "# Get genes detected in exactly 1 tissue\n",
    "genes_in_2_tissue = gene_tissue_counts[gene_tissue_counts == 2].index.tolist()\n",
    "\n",
    "# Optional: display them\n",
    "print(f\"Number of genes detected in exactly 2 tissue: {len(genes_in_2_tissue)}\")\n",
    "print(genes_in_2_tissue)"
   ]
  },
  {
   "cell_type": "code",
   "execution_count": 16,
   "id": "47b2b51e-ea5f-4024-b935-d8113809d788",
   "metadata": {},
   "outputs": [
    {
     "name": "stdout",
     "output_type": "stream",
     "text": [
      "Number of genes detected in exactly 20 tissue: 101\n",
      "['AKAP8', 'AKAP8L', 'ATF1', 'BRF2', 'CDC5L', 'CGGBP1', 'CHAMP1', 'CIC', 'CLOCK', 'CREB1', 'CTCF', 'E2F1', 'E4F1', 'ELF2', 'ETV5', 'FOXK1', 'FOXP2', 'GATA6', 'GLI2', 'GLYR1', 'GTF2I', 'HEY2', 'HIF3A', 'HMG20B', 'HMGA2', 'HOXA10', 'IRF2', 'IRF7', 'JUN', 'JUND', 'KDM2A', 'KDM5B', 'KMT2A', 'MECOM', 'MECP2', 'MEF2D', 'MEIS2', 'NCOA3', 'NFIA', 'NFIB', 'NFX1', 'NFYB', 'NKX3-2', 'NR3C1', 'NR5A2', 'PBX1', 'PKNOX2', 'POU5F1', 'POU6F1', 'RARG', 'RFX5', 'RFX7', 'RORA', 'RXRA', 'RXRB', 'SAFB', 'SETDB2', 'SIM2', 'SNAI1', 'SNAI2', 'SP1', 'SP3', 'SPEN', 'TBX2', 'TCF7L2', 'TET2', 'TFDP2', 'THAP11', 'THAP3', 'THYN1', 'TOPORS', 'TSHZ1', 'TSHZ3', 'USF1', 'WIZ', 'ZBTB44', 'ZBTB7A', 'ZFP91', 'ZNF131', 'ZNF148', 'ZNF207', 'ZNF22', 'ZNF282', 'ZNF3', 'ZNF346', 'ZNF384', 'ZNF44', 'ZNF443', 'ZNF521', 'ZNF540', 'ZNF544', 'ZNF579', 'ZNF609', 'ZNF630', 'ZNF703', 'ZNF707', 'ZNF75D', 'ZNF792', 'ZNF799', 'ZNF85', 'ZSCAN2']\n"
     ]
    }
   ],
   "source": [
    "# Get genes detected in exactly 20 tissue\n",
    "genes_in_20_tissue = gene_tissue_counts[gene_tissue_counts == 20].index.tolist()\n",
    "\n",
    "# Optional: display them\n",
    "print(f\"Number of genes detected in exactly 20 tissue: {len(genes_in_20_tissue)}\")\n",
    "print(genes_in_20_tissue)"
   ]
  },
  {
   "cell_type": "code",
   "execution_count": 17,
   "id": "6a087dda-4c7f-414a-89fc-4effb2b650f2",
   "metadata": {},
   "outputs": [
    {
     "data": {
      "text/plain": [
       "array(['Bone_Marrow', 'Mammary', 'Large_Intestine', 'Heart', 'Kidney',\n",
       "       'Liver', 'Lung', 'Lymph_Node', 'Ovary', 'Pancreas', 'Prostate',\n",
       "       'Salivary_Gland', 'Muscle', 'Skin', 'Small_Intestine', 'Spleen',\n",
       "       'Stomach', 'Testis', 'Bladder'], dtype=object)"
      ]
     },
     "execution_count": 17,
     "metadata": {},
     "output_type": "execute_result"
    }
   ],
   "source": [
    "xx = TFproDetTiss[TFproDetTiss.index == 'SON']\n",
    "xx = xx[xx.location == 'nuclear']\n",
    "xx.Standardized_Tissue.unique()"
   ]
  },
  {
   "cell_type": "code",
   "execution_count": 18,
   "id": "f13e623a-129d-4c4f-8faa-7bb5dd230f98",
   "metadata": {},
   "outputs": [
    {
     "name": "stdout",
     "output_type": "stream",
     "text": [
      "Number of genes detected in exactly 19 tissue: 67\n",
      "['ARHGAP35', 'ARID5A', 'ATF2', 'ATF4', 'BBX', 'CEBPB', 'CUX1', 'CXXC1', 'ETV3', 'FOXO3', 'GATAD2B', 'GLIS3', 'GMEB1', 'GMEB2', 'GTF2B', 'HBP1', 'HMG20A', 'HOXA4', 'HOXA6', 'HSF1', 'IKZF2', 'KLF3', 'MAF', 'MAX', 'MBD1', 'MXD1', 'MYB', 'MYNN', 'MYSM1', 'NFIC', 'NFYA', 'PEG3', 'PPARA', 'PRDM5', 'REST', 'SAFB2', 'SALL1', 'SMAD4', 'SNAPC2', 'SON', 'SP2', 'TCF12', 'TCF3', 'TERF2', 'THRB', 'TTF1', 'XPA', 'YY1', 'ZBED4', 'ZBTB10', 'ZBTB12', 'ZBTB2', 'ZBTB37', 'ZBTB47', 'ZNF133', 'ZNF146', 'ZNF224', 'ZNF280C', 'ZNF354B', 'ZNF473', 'ZNF500', 'ZNF518B', 'ZNF559', 'ZNF687', 'ZNF768', 'ZNF777', 'ZNF830']\n"
     ]
    }
   ],
   "source": [
    "# Get genes detected in exactly 19 tissue\n",
    "genes_in_19_tissue = gene_tissue_counts[gene_tissue_counts == 19].index.tolist()\n",
    "\n",
    "# Optional: display them\n",
    "print(f\"Number of genes detected in exactly 19 tissue: {len(genes_in_19_tissue)}\")\n",
    "print(genes_in_19_tissue)"
   ]
  },
  {
   "cell_type": "code",
   "execution_count": null,
   "id": "cd6160c4-c569-4e08-9dac-f548a1633a10",
   "metadata": {},
   "outputs": [],
   "source": []
  },
  {
   "cell_type": "markdown",
   "id": "56aad61a-269b-4406-821b-428fca0cd2bf",
   "metadata": {},
   "source": [
    "### Look at low 100"
   ]
  },
  {
   "cell_type": "code",
   "execution_count": 19,
   "id": "e90fdddc-a8c4-40f6-be3c-f877f42ce398",
   "metadata": {},
   "outputs": [],
   "source": [
    "lowTausTFs = TFtaus.tail(100)\n",
    "lowTaus = list(lowTausTFs.index)"
   ]
  },
  {
   "cell_type": "code",
   "execution_count": 20,
   "id": "dbfaffc7-0db2-4e06-a1f6-aee419cfae57",
   "metadata": {},
   "outputs": [
    {
     "data": {
      "text/html": [
       "<div>\n",
       "<style scoped>\n",
       "    .dataframe tbody tr th:only-of-type {\n",
       "        vertical-align: middle;\n",
       "    }\n",
       "\n",
       "    .dataframe tbody tr th {\n",
       "        vertical-align: top;\n",
       "    }\n",
       "\n",
       "    .dataframe thead th {\n",
       "        text-align: right;\n",
       "    }\n",
       "</style>\n",
       "<table border=\"1\" class=\"dataframe\">\n",
       "  <thead>\n",
       "    <tr style=\"text-align: right;\">\n",
       "      <th></th>\n",
       "      <th>tau</th>\n",
       "    </tr>\n",
       "  </thead>\n",
       "  <tbody>\n",
       "    <tr>\n",
       "      <th>ZNF644</th>\n",
       "      <td>0.459571</td>\n",
       "    </tr>\n",
       "    <tr>\n",
       "      <th>ASH1L</th>\n",
       "      <td>0.450371</td>\n",
       "    </tr>\n",
       "    <tr>\n",
       "      <th>YY1</th>\n",
       "      <td>0.434433</td>\n",
       "    </tr>\n",
       "    <tr>\n",
       "      <th>BPTF</th>\n",
       "      <td>0.432127</td>\n",
       "    </tr>\n",
       "    <tr>\n",
       "      <th>SON</th>\n",
       "      <td>0.400070</td>\n",
       "    </tr>\n",
       "  </tbody>\n",
       "</table>\n",
       "</div>"
      ],
      "text/plain": [
       "             tau\n",
       "ZNF644  0.459571\n",
       "ASH1L   0.450371\n",
       "YY1     0.434433\n",
       "BPTF    0.432127\n",
       "SON     0.400070"
      ]
     },
     "execution_count": 20,
     "metadata": {},
     "output_type": "execute_result"
    }
   ],
   "source": [
    "lowTausTFs.tail() #just checking if it's the correct list.. "
   ]
  },
  {
   "cell_type": "code",
   "execution_count": 21,
   "id": "1fc218d7-c4af-4ce4-8ba2-8d0f0238a7f3",
   "metadata": {},
   "outputs": [
    {
     "data": {
      "text/html": [
       "<div>\n",
       "<style scoped>\n",
       "    .dataframe tbody tr th:only-of-type {\n",
       "        vertical-align: middle;\n",
       "    }\n",
       "\n",
       "    .dataframe tbody tr th {\n",
       "        vertical-align: top;\n",
       "    }\n",
       "\n",
       "    .dataframe thead th {\n",
       "        text-align: right;\n",
       "    }\n",
       "</style>\n",
       "<table border=\"1\" class=\"dataframe\">\n",
       "  <thead>\n",
       "    <tr style=\"text-align: right;\">\n",
       "      <th></th>\n",
       "      <th>gene_name</th>\n",
       "      <th>ensembl_id</th>\n",
       "      <th>antibody_id</th>\n",
       "      <th>tissue</th>\n",
       "      <th>cell_type</th>\n",
       "      <th>staining</th>\n",
       "      <th>intensity</th>\n",
       "      <th>quantity</th>\n",
       "      <th>location</th>\n",
       "      <th>reliability_score</th>\n",
       "      <th>Standardized_Tissue</th>\n",
       "    </tr>\n",
       "  </thead>\n",
       "  <tbody>\n",
       "    <tr>\n",
       "      <th>38</th>\n",
       "      <td>ZFX</td>\n",
       "      <td>ENSG00000005889</td>\n",
       "      <td>HPA001748</td>\n",
       "      <td>Bone marrow</td>\n",
       "      <td>Hematopoietic cells</td>\n",
       "      <td>medium</td>\n",
       "      <td>moderate</td>\n",
       "      <td>75%-25%</td>\n",
       "      <td>nuclear</td>\n",
       "      <td>supported</td>\n",
       "      <td>Bone_Marrow</td>\n",
       "    </tr>\n",
       "    <tr>\n",
       "      <th>39</th>\n",
       "      <td>ZFX</td>\n",
       "      <td>ENSG00000005889</td>\n",
       "      <td>HPA001748</td>\n",
       "      <td>Breast</td>\n",
       "      <td>Glandular cells</td>\n",
       "      <td>medium</td>\n",
       "      <td>moderate</td>\n",
       "      <td>&gt;75%</td>\n",
       "      <td>nuclear</td>\n",
       "      <td>supported</td>\n",
       "      <td>Mammary</td>\n",
       "    </tr>\n",
       "    <tr>\n",
       "      <th>40</th>\n",
       "      <td>ZFX</td>\n",
       "      <td>ENSG00000005889</td>\n",
       "      <td>HPA001748</td>\n",
       "      <td>Breast</td>\n",
       "      <td>Myoepithelial cells</td>\n",
       "      <td>medium</td>\n",
       "      <td>moderate</td>\n",
       "      <td>&gt;75%</td>\n",
       "      <td>nuclear</td>\n",
       "      <td>supported</td>\n",
       "      <td>Mammary</td>\n",
       "    </tr>\n",
       "    <tr>\n",
       "      <th>41</th>\n",
       "      <td>ZFX</td>\n",
       "      <td>ENSG00000005889</td>\n",
       "      <td>HPA001748</td>\n",
       "      <td>Colon</td>\n",
       "      <td>Endothelial cells</td>\n",
       "      <td>medium</td>\n",
       "      <td>moderate</td>\n",
       "      <td>&gt;75%</td>\n",
       "      <td>nuclear</td>\n",
       "      <td>supported</td>\n",
       "      <td>Large_Intestine</td>\n",
       "    </tr>\n",
       "    <tr>\n",
       "      <th>42</th>\n",
       "      <td>ZFX</td>\n",
       "      <td>ENSG00000005889</td>\n",
       "      <td>HPA001748</td>\n",
       "      <td>Colon</td>\n",
       "      <td>Glandular cells</td>\n",
       "      <td>medium</td>\n",
       "      <td>moderate</td>\n",
       "      <td>&gt;75%</td>\n",
       "      <td>nuclear</td>\n",
       "      <td>supported</td>\n",
       "      <td>Large_Intestine</td>\n",
       "    </tr>\n",
       "    <tr>\n",
       "      <th>...</th>\n",
       "      <td>...</td>\n",
       "      <td>...</td>\n",
       "      <td>...</td>\n",
       "      <td>...</td>\n",
       "      <td>...</td>\n",
       "      <td>...</td>\n",
       "      <td>...</td>\n",
       "      <td>...</td>\n",
       "      <td>...</td>\n",
       "      <td>...</td>\n",
       "      <td>...</td>\n",
       "    </tr>\n",
       "    <tr>\n",
       "      <th>17435</th>\n",
       "      <td>CUX1</td>\n",
       "      <td>ENSG00000257923</td>\n",
       "      <td>HPA003317</td>\n",
       "      <td>Skin 1</td>\n",
       "      <td>Fibroblasts</td>\n",
       "      <td>medium</td>\n",
       "      <td>moderate</td>\n",
       "      <td>&gt;75%</td>\n",
       "      <td>cytoplasmic/membranous,nuclear</td>\n",
       "      <td>approved</td>\n",
       "      <td>Skin</td>\n",
       "    </tr>\n",
       "    <tr>\n",
       "      <th>17436</th>\n",
       "      <td>CUX1</td>\n",
       "      <td>ENSG00000257923</td>\n",
       "      <td>HPA003317</td>\n",
       "      <td>Skin 1</td>\n",
       "      <td>Keratinocytes</td>\n",
       "      <td>medium</td>\n",
       "      <td>moderate</td>\n",
       "      <td>75%-25%</td>\n",
       "      <td>cytoplasmic/membranous,nuclear</td>\n",
       "      <td>approved</td>\n",
       "      <td>Skin</td>\n",
       "    </tr>\n",
       "    <tr>\n",
       "      <th>17437</th>\n",
       "      <td>CUX1</td>\n",
       "      <td>ENSG00000257923</td>\n",
       "      <td>HPA003317</td>\n",
       "      <td>Skin 1</td>\n",
       "      <td>Langerhans</td>\n",
       "      <td>medium</td>\n",
       "      <td>moderate</td>\n",
       "      <td>&gt;75%</td>\n",
       "      <td>nuclear</td>\n",
       "      <td>approved</td>\n",
       "      <td>Skin</td>\n",
       "    </tr>\n",
       "    <tr>\n",
       "      <th>17438</th>\n",
       "      <td>CUX1</td>\n",
       "      <td>ENSG00000257923</td>\n",
       "      <td>HPA003317</td>\n",
       "      <td>Skin 1</td>\n",
       "      <td>Melanocytes</td>\n",
       "      <td>medium</td>\n",
       "      <td>moderate</td>\n",
       "      <td>&gt;75%</td>\n",
       "      <td>cytoplasmic/membranous,nuclear</td>\n",
       "      <td>approved</td>\n",
       "      <td>Skin</td>\n",
       "    </tr>\n",
       "    <tr>\n",
       "      <th>17439</th>\n",
       "      <td>CUX1</td>\n",
       "      <td>ENSG00000257923</td>\n",
       "      <td>HPA003317</td>\n",
       "      <td>Skin 2</td>\n",
       "      <td>Epidermal cells</td>\n",
       "      <td>medium</td>\n",
       "      <td>moderate</td>\n",
       "      <td>&gt;75%</td>\n",
       "      <td>cytoplasmic/membranous,nuclear</td>\n",
       "      <td>approved</td>\n",
       "      <td>Skin</td>\n",
       "    </tr>\n",
       "  </tbody>\n",
       "</table>\n",
       "<p>3164 rows × 11 columns</p>\n",
       "</div>"
      ],
      "text/plain": [
       "      gene_name       ensembl_id antibody_id       tissue  \\\n",
       "38          ZFX  ENSG00000005889   HPA001748  Bone marrow   \n",
       "39          ZFX  ENSG00000005889   HPA001748       Breast   \n",
       "40          ZFX  ENSG00000005889   HPA001748       Breast   \n",
       "41          ZFX  ENSG00000005889   HPA001748        Colon   \n",
       "42          ZFX  ENSG00000005889   HPA001748        Colon   \n",
       "...         ...              ...         ...          ...   \n",
       "17435      CUX1  ENSG00000257923   HPA003317       Skin 1   \n",
       "17436      CUX1  ENSG00000257923   HPA003317       Skin 1   \n",
       "17437      CUX1  ENSG00000257923   HPA003317       Skin 1   \n",
       "17438      CUX1  ENSG00000257923   HPA003317       Skin 1   \n",
       "17439      CUX1  ENSG00000257923   HPA003317       Skin 2   \n",
       "\n",
       "                 cell_type staining intensity quantity  \\\n",
       "38     Hematopoietic cells   medium  moderate  75%-25%   \n",
       "39         Glandular cells   medium  moderate     >75%   \n",
       "40     Myoepithelial cells   medium  moderate     >75%   \n",
       "41       Endothelial cells   medium  moderate     >75%   \n",
       "42         Glandular cells   medium  moderate     >75%   \n",
       "...                    ...      ...       ...      ...   \n",
       "17435          Fibroblasts   medium  moderate     >75%   \n",
       "17436        Keratinocytes   medium  moderate  75%-25%   \n",
       "17437           Langerhans   medium  moderate     >75%   \n",
       "17438          Melanocytes   medium  moderate     >75%   \n",
       "17439      Epidermal cells   medium  moderate     >75%   \n",
       "\n",
       "                             location reliability_score Standardized_Tissue  \n",
       "38                            nuclear         supported         Bone_Marrow  \n",
       "39                            nuclear         supported             Mammary  \n",
       "40                            nuclear         supported             Mammary  \n",
       "41                            nuclear         supported     Large_Intestine  \n",
       "42                            nuclear         supported     Large_Intestine  \n",
       "...                               ...               ...                 ...  \n",
       "17435  cytoplasmic/membranous,nuclear          approved                Skin  \n",
       "17436  cytoplasmic/membranous,nuclear          approved                Skin  \n",
       "17437                         nuclear          approved                Skin  \n",
       "17438  cytoplasmic/membranous,nuclear          approved                Skin  \n",
       "17439  cytoplasmic/membranous,nuclear          approved                Skin  \n",
       "\n",
       "[3164 rows x 11 columns]"
      ]
     },
     "execution_count": 21,
     "metadata": {},
     "output_type": "execute_result"
    }
   ],
   "source": [
    "xx = nuclearloc.reset_index()\n",
    "lownuclearloc = xx.loc[xx.gene_name.isin(lowTaus)]\n",
    "lownuclearloc"
   ]
  },
  {
   "cell_type": "code",
   "execution_count": 22,
   "id": "907a5c5c-ec09-48f2-bff3-daed13e3521a",
   "metadata": {},
   "outputs": [
    {
     "data": {
      "text/plain": [
       "69"
      ]
     },
     "execution_count": 22,
     "metadata": {},
     "output_type": "execute_result"
    }
   ],
   "source": [
    "len(lownuclearloc.gene_name.unique())"
   ]
  },
  {
   "cell_type": "code",
   "execution_count": 23,
   "id": "860b522b-7896-4575-b43a-4025fdb811a8",
   "metadata": {},
   "outputs": [
    {
     "data": {
      "image/png": "[encoded data removed]",
      "text/plain": [
       "<Figure size 240x160 with 1 Axes>"
      ]
     },
     "metadata": {
      "image/png": {
       "height": 161,
       "width": 235
      }
     },
     "output_type": "display_data"
    }
   ],
   "source": [
    "# Count unique tissues per gene\n",
    "gene_tissue_counts = lownuclearloc.groupby('gene_name')['Standardized_Tissue'].nunique()\n",
    "\n",
    "# Get distribution: how many genes have X number of tissues\n",
    "distribution = gene_tissue_counts.value_counts().sort_index()\n",
    "\n",
    "# Plot\n",
    "ax = distribution.plot(\n",
    "    kind='bar',\n",
    "    figsize=(3.0, 2.0),\n",
    "    color='steelblue',\n",
    "    width=0.9\n",
    ")\n",
    "\n",
    "ax.tick_params(axis='x', labelrotation=0)\n",
    "\n",
    "# Axis labels and title\n",
    "plt.xlabel('Number of Tissues', fontsize = 6)\n",
    "plt.ylabel('Number of Transcription Factors', fontsize = 6)\n",
    "tit= 'Distribution of ' + str(len(lownuclearloc.gene_name.unique())) + ' of the low τ TF detected in the nucleus'\n",
    "plt.title(tit, fontsize = 6)\n",
    "\n",
    "plt.tight_layout()\n",
    "plt.savefig(DATA_IN_DIR + 'Fig2D_Tiss_low_Subcell.pdf')\n",
    "plt.show()\n",
    "\n"
   ]
  },
  {
   "cell_type": "code",
   "execution_count": null,
   "id": "188f4492-dd0f-4065-bb2a-0ac0dc9fe654",
   "metadata": {},
   "outputs": [],
   "source": []
  },
  {
   "cell_type": "code",
   "execution_count": null,
   "id": "04871f9c-0446-43e9-95b8-75fa714de757",
   "metadata": {},
   "outputs": [],
   "source": []
  },
  {
   "cell_type": "code",
   "execution_count": 24,
   "id": "67954e4e-ae2d-4ff0-bd50-562cadea678b",
   "metadata": {},
   "outputs": [],
   "source": [
    "len(nuclearloc.index.unique())\n",
    "nucdet = nuclearloc.index.unique()"
   ]
  },
  {
   "cell_type": "code",
   "execution_count": 25,
   "id": "99cae1df-5004-432f-a571-970178716a54",
   "metadata": {},
   "outputs": [
    {
     "name": "stdout",
     "output_type": "stream",
     "text": [
      "69\n"
     ]
    },
    {
     "data": {
      "text/plain": [
       "{'ADNP',\n",
       " 'AKAP8L',\n",
       " 'ARNT',\n",
       " 'ASH1L',\n",
       " 'ATF1',\n",
       " 'ATF4',\n",
       " 'BBX',\n",
       " 'BPTF',\n",
       " 'CAMTA1',\n",
       " 'CGGBP1',\n",
       " 'CREB1',\n",
       " 'CTCF',\n",
       " 'CUX1',\n",
       " 'EEA1',\n",
       " 'ELF1',\n",
       " 'ETV6',\n",
       " 'FOS',\n",
       " 'FOSL2',\n",
       " 'FOXK2',\n",
       " 'FOXN3',\n",
       " 'GATAD2A',\n",
       " 'GATAD2B',\n",
       " 'GLYR1',\n",
       " 'GPBP1',\n",
       " 'GPBP1L1',\n",
       " 'HBP1',\n",
       " 'HIVEP1',\n",
       " 'IRF2',\n",
       " 'JUN',\n",
       " 'JUND',\n",
       " 'KCMF1',\n",
       " 'KDM2A',\n",
       " 'KLF3',\n",
       " 'KLF6',\n",
       " 'LCOR',\n",
       " 'MECP2',\n",
       " 'MEF2A',\n",
       " 'NCOA1',\n",
       " 'NFAT5',\n",
       " 'NFE2L2',\n",
       " 'NFX1',\n",
       " 'NR1D2',\n",
       " 'POU2F1',\n",
       " 'RELA',\n",
       " 'SAFB',\n",
       " 'SAFB2',\n",
       " 'SMYD3',\n",
       " 'SON',\n",
       " 'SP1',\n",
       " 'SPEN',\n",
       " 'STAT1',\n",
       " 'STAT3',\n",
       " 'TCF12',\n",
       " 'TERF2',\n",
       " 'YBX1',\n",
       " 'YY1',\n",
       " 'ZBTB17',\n",
       " 'ZBTB20',\n",
       " 'ZBTB44',\n",
       " 'ZBTB7A',\n",
       " 'ZFX',\n",
       " 'ZNF131',\n",
       " 'ZNF146',\n",
       " 'ZNF24',\n",
       " 'ZNF263',\n",
       " 'ZNF37A',\n",
       " 'ZNF384',\n",
       " 'ZNF44',\n",
       " 'ZNF800'}"
      ]
     },
     "execution_count": 25,
     "metadata": {},
     "output_type": "execute_result"
    }
   ],
   "source": [
    "lowtaunucdet = set(nucdet).intersection(set(lowTaus))\n",
    "print(len(lowtaunucdet))\n",
    "lowtaunucdet"
   ]
  },
  {
   "cell_type": "code",
   "execution_count": 26,
   "id": "66c767c5-e5a5-419d-98c5-af501c0536e2",
   "metadata": {},
   "outputs": [],
   "source": [
    "## note:  69 of 72 low taus are nuclear detected!  "
   ]
  },
  {
   "cell_type": "code",
   "execution_count": null,
   "id": "d880d9d6-c538-4f1a-b5c6-4323cadfa10c",
   "metadata": {},
   "outputs": [],
   "source": []
  },
  {
   "cell_type": "markdown",
   "id": "5e133695-4dc6-4f6b-84dd-80f0a07d56ea",
   "metadata": {},
   "source": [
    "## compare to Anton's lists"
   ]
  },
  {
   "cell_type": "code",
   "execution_count": 27,
   "id": "2991a8f9-1147-4db1-9566-316f2226565d",
   "metadata": {},
   "outputs": [
    {
     "data": {
      "text/plain": [
       "1390"
      ]
     },
     "execution_count": 27,
     "metadata": {},
     "output_type": "execute_result"
    }
   ],
   "source": [
    "all_scenic = list(pd.read_csv(\"/hpc/mydata/robert.jones/ProteinAtlas/scenic_tfs.txt\", header=None).iloc[:,0])\n",
    "len(all_scenic)"
   ]
  },
  {
   "cell_type": "code",
   "execution_count": 28,
   "id": "f47a5e33-83f2-4454-9045-8cac87733bd2",
   "metadata": {},
   "outputs": [
    {
     "data": {
      "text/plain": [
       "839"
      ]
     },
     "execution_count": 28,
     "metadata": {},
     "output_type": "execute_result"
    }
   ],
   "source": [
    "active_scenic = list(pd.read_csv(\"/hpc/mydata/robert.jones/ProteinAtlas/scenic_active_tfs.txt\", header=None).iloc[:,0])\n",
    "len(active_scenic)"
   ]
  },
  {
   "cell_type": "code",
   "execution_count": 29,
   "id": "6369a2ee-637a-4221-907d-d5d4f6844a4b",
   "metadata": {},
   "outputs": [
    {
     "data": {
      "text/plain": [
       "551"
      ]
     },
     "execution_count": 29,
     "metadata": {},
     "output_type": "execute_result"
    }
   ],
   "source": [
    "inactive_scenic = list(set(all_scenic) - set(active_scenic))\n",
    "len(inactive_scenic)"
   ]
  },
  {
   "cell_type": "code",
   "execution_count": 30,
   "id": "db3a7d48-ca1a-4fbf-b502-95fcb7ebe0f8",
   "metadata": {},
   "outputs": [
    {
     "name": "stdout",
     "output_type": "stream",
     "text": [
      "40\n"
     ]
    },
    {
     "data": {
      "text/plain": [
       "{'ARNT',\n",
       " 'ATF1',\n",
       " 'ATF4',\n",
       " 'BPTF',\n",
       " 'CREB1',\n",
       " 'CTCF',\n",
       " 'CUX1',\n",
       " 'ELF1',\n",
       " 'ETV6',\n",
       " 'FOS',\n",
       " 'FOSL2',\n",
       " 'HBP1',\n",
       " 'HIVEP1',\n",
       " 'IRF2',\n",
       " 'JUN',\n",
       " 'JUND',\n",
       " 'KLF3',\n",
       " 'KLF6',\n",
       " 'MECP2',\n",
       " 'MEF2A',\n",
       " 'NFAT5',\n",
       " 'NFE2L2',\n",
       " 'NR1D2',\n",
       " 'POU2F1',\n",
       " 'RELA',\n",
       " 'SP1',\n",
       " 'STAT1',\n",
       " 'STAT3',\n",
       " 'TCF12',\n",
       " 'YBX1',\n",
       " 'YY1',\n",
       " 'ZBTB17',\n",
       " 'ZBTB20',\n",
       " 'ZBTB44',\n",
       " 'ZBTB7A',\n",
       " 'ZFX',\n",
       " 'ZNF146',\n",
       " 'ZNF263',\n",
       " 'ZNF384',\n",
       " 'ZNF44'}"
      ]
     },
     "execution_count": 30,
     "metadata": {},
     "output_type": "execute_result"
    }
   ],
   "source": [
    "\n",
    "print(len(set(active_scenic).intersection(set(lowtaunucdet))))\n",
    "set(active_scenic).intersection(set(lowtaunucdet))"
   ]
  },
  {
   "cell_type": "code",
   "execution_count": 31,
   "id": "f5ff8b67-1b37-4308-8604-170354f4c828",
   "metadata": {},
   "outputs": [
    {
     "name": "stdout",
     "output_type": "stream",
     "text": [
      "10\n"
     ]
    },
    {
     "data": {
      "text/plain": [
       "{'ADNP',\n",
       " 'BBX',\n",
       " 'FOXK2',\n",
       " 'FOXN3',\n",
       " 'KDM2A',\n",
       " 'TERF2',\n",
       " 'ZNF131',\n",
       " 'ZNF24',\n",
       " 'ZNF37A',\n",
       " 'ZNF800'}"
      ]
     },
     "execution_count": 31,
     "metadata": {},
     "output_type": "execute_result"
    }
   ],
   "source": [
    "\n",
    "print(len(set(inactive_scenic).intersection(set(lowtaunucdet))))\n",
    "set(inactive_scenic).intersection(set(lowtaunucdet))"
   ]
  },
  {
   "cell_type": "code",
   "execution_count": 32,
   "id": "c57c163d-317f-4893-912e-899cec139c6d",
   "metadata": {},
   "outputs": [
    {
     "name": "stdout",
     "output_type": "stream",
     "text": [
      "19\n"
     ]
    },
    {
     "data": {
      "text/plain": [
       "{'AKAP8L',\n",
       " 'ASH1L',\n",
       " 'CAMTA1',\n",
       " 'CGGBP1',\n",
       " 'EEA1',\n",
       " 'GATAD2A',\n",
       " 'GATAD2B',\n",
       " 'GLYR1',\n",
       " 'GPBP1',\n",
       " 'GPBP1L1',\n",
       " 'KCMF1',\n",
       " 'LCOR',\n",
       " 'NCOA1',\n",
       " 'NFX1',\n",
       " 'SAFB',\n",
       " 'SAFB2',\n",
       " 'SMYD3',\n",
       " 'SON',\n",
       " 'SPEN'}"
      ]
     },
     "execution_count": 32,
     "metadata": {},
     "output_type": "execute_result"
    }
   ],
   "source": [
    "print(len(set(lowtaunucdet).difference(set(all_scenic))))\n",
    "set(lowtaunucdet).difference(set(all_scenic))"
   ]
  },
  {
   "cell_type": "code",
   "execution_count": null,
   "id": "ca2dd447-3150-4da6-bc36-b93223718877",
   "metadata": {},
   "outputs": [],
   "source": []
  },
  {
   "cell_type": "code",
   "execution_count": null,
   "id": "a264e7b5-a974-418c-8da3-d06c7a215604",
   "metadata": {},
   "outputs": [],
   "source": []
  },
  {
   "cell_type": "code",
   "execution_count": null,
   "id": "00d5ebfe-5ea9-493d-8ef9-b3dced936e4f",
   "metadata": {},
   "outputs": [],
   "source": []
  }
 ],
 "metadata": {
  "kernelspec": {
   "display_name": "Global single-cell-base",
   "language": "python",
   "name": "global-single-cell-base"
  },
  "language_info": {
   "codemirror_mode": {
    "name": "ipython",
    "version": 3
   },
   "file_extension": ".py",
   "mimetype": "text/x-python",
   "name": "python",
   "nbconvert_exporter": "python",
   "pygments_lexer": "ipython3",
   "version": "3.10.13"
  }
 },
 "nbformat": 4,
 "nbformat_minor": 5
}
